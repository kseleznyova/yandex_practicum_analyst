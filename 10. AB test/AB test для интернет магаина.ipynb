{
 "cells": [
  {
   "cell_type": "markdown",
   "metadata": {
    "toc": true
   },
   "source": [
    "<h1>Содержание<span class=\"tocSkip\"></span></h1>\n",
    "<div class=\"toc\"><ul class=\"toc-item\"><li><span><a href=\"#Цель-и-задачи\" data-toc-modified-id=\"Цель-и-задачи-1\"><span class=\"toc-item-num\">1&nbsp;&nbsp;</span>Цель и задачи</a></span></li><li><span><a href=\"#Данные-для-первой-части\" data-toc-modified-id=\"Данные-для-первой-части-2\"><span class=\"toc-item-num\">2&nbsp;&nbsp;</span>Данные для первой части</a></span></li><li><span><a href=\"#Загрузка-данных-и-подготовка-их-к-анализу\" data-toc-modified-id=\"Загрузка-данных-и-подготовка-их-к-анализу-3\"><span class=\"toc-item-num\">3&nbsp;&nbsp;</span>Загрузка данных и подготовка их к анализу</a></span></li><li><span><a href=\"#Применим-фреймворк-ICE-для-приоритизации-гипотез.-Отсортируемих-по-убыванию-приоритета.\" data-toc-modified-id=\"Применим-фреймворк-ICE-для-приоритизации-гипотез.-Отсортируемих-по-убыванию-приоритета.-4\"><span class=\"toc-item-num\">4&nbsp;&nbsp;</span>Применим фреймворк ICE для приоритизации гипотез. Отсортируемих по убыванию приоритета.</a></span></li><li><span><a href=\"#Применим-фреймворк-RICE-для-приоритизации-гипотез.-Отсортируемих-по-убыванию-приоритета.\" data-toc-modified-id=\"Применим-фреймворк-RICE-для-приоритизации-гипотез.-Отсортируемих-по-убыванию-приоритета.-5\"><span class=\"toc-item-num\">5&nbsp;&nbsp;</span>Применим фреймворк RICE для приоритизации гипотез. Отсортируемих по убыванию приоритета.</a></span></li><li><span><a href=\"#Укажем,-как-изменилась-приоритизация-гипотез-при-применении-RICE-вместо-ICE.\" data-toc-modified-id=\"Укажем,-как-изменилась-приоритизация-гипотез-при-применении-RICE-вместо-ICE.-6\"><span class=\"toc-item-num\">6&nbsp;&nbsp;</span>Укажем, как изменилась приоритизация гипотез при применении RICE вместо ICE.</a></span></li><li><span><a href=\"#Данные-для-второй-части\" data-toc-modified-id=\"Данные-для-второй-части-7\"><span class=\"toc-item-num\">7&nbsp;&nbsp;</span>Данные для второй части</a></span></li><li><span><a href=\"#Загрузка-данных-и-подготовка-их-к-анализу\" data-toc-modified-id=\"Загрузка-данных-и-подготовка-их-к-анализу-8\"><span class=\"toc-item-num\">8&nbsp;&nbsp;</span>Загрузка данных и подготовка их к анализу</a></span></li><li><span><a href=\"#Тестирование\" data-toc-modified-id=\"Тестирование-9\"><span class=\"toc-item-num\">9&nbsp;&nbsp;</span>Тестирование</a></span><ul class=\"toc-item\"><li><span><a href=\"#Выводы\" data-toc-modified-id=\"Выводы-9.1\"><span class=\"toc-item-num\">9.1&nbsp;&nbsp;</span>Выводы</a></span></li></ul></li></ul></div>"
   ]
  },
  {
   "cell_type": "markdown",
   "metadata": {},
   "source": [
    "# A/B-тест для интернет магазина"
   ]
  },
  {
   "cell_type": "markdown",
   "metadata": {},
   "source": [
    "## Цель и задачи "
   ]
  },
  {
   "cell_type": "markdown",
   "metadata": {},
   "source": [
    "Целью работы является проанализировать результаты A/B-теста.\n",
    "\n",
    "Задачи:\n",
    "- приоритизируйте гипотезы;\n",
    "- запустите A/B-тест;\n",
    "- проанализировать результаты."
   ]
  },
  {
   "cell_type": "markdown",
   "metadata": {},
   "source": [
    "# Часть 1"
   ]
  },
  {
   "cell_type": "markdown",
   "metadata": {},
   "source": [
    "## Данные для первой части"
   ]
  },
  {
   "cell_type": "markdown",
   "metadata": {},
   "source": [
    "* *Hypothesis* — краткое описание гипотезы;\n",
    "* *Reach* — охват пользователей по 10-балльной шкале;\n",
    "* *Impact* — влияние на пользователей по 10-балльной шкале;\n",
    "* *Confidence* — уверенность в гипотезе по 10-балльной шкале;\n",
    "* *Efforts* — затраты ресурсов на проверку гипотезы по 10-балльной шкале. Чем больше значение Efforts, тем дороже проверка гипотезы."
   ]
  },
  {
   "cell_type": "markdown",
   "metadata": {},
   "source": [
    "## Загрузка данных и подготовка их к анализу"
   ]
  },
  {
   "cell_type": "code",
   "execution_count": 1,
   "metadata": {},
   "outputs": [],
   "source": [
    "import pandas as pd\n",
    "import datetime as dt\n",
    "import numpy as np\n",
    "import matplotlib.pyplot as plt\n",
    "from pandas.plotting import register_matplotlib_converters\n",
    "import warnings\n",
    "import scipy.stats as stats"
   ]
  },
  {
   "cell_type": "code",
   "execution_count": 2,
   "metadata": {},
   "outputs": [],
   "source": [
    "hyp = pd.read_csv('/datasets/hypothesis.csv') #читаем файл"
   ]
  },
  {
   "cell_type": "code",
   "execution_count": 3,
   "metadata": {},
   "outputs": [
    {
     "name": "stdout",
     "output_type": "stream",
     "text": [
      "<class 'pandas.core.frame.DataFrame'>\n",
      "RangeIndex: 9 entries, 0 to 8\n",
      "Data columns (total 5 columns):\n",
      " #   Column      Non-Null Count  Dtype \n",
      "---  ------      --------------  ----- \n",
      " 0   Hypothesis  9 non-null      object\n",
      " 1   Reach       9 non-null      int64 \n",
      " 2   Impact      9 non-null      int64 \n",
      " 3   Confidence  9 non-null      int64 \n",
      " 4   Efforts     9 non-null      int64 \n",
      "dtypes: int64(4), object(1)\n",
      "memory usage: 488.0+ bytes\n"
     ]
    }
   ],
   "source": [
    "hyp.info()"
   ]
  },
  {
   "cell_type": "code",
   "execution_count": 4,
   "metadata": {},
   "outputs": [
    {
     "data": {
      "text/html": [
       "<div>\n",
       "<style scoped>\n",
       "    .dataframe tbody tr th:only-of-type {\n",
       "        vertical-align: middle;\n",
       "    }\n",
       "\n",
       "    .dataframe tbody tr th {\n",
       "        vertical-align: top;\n",
       "    }\n",
       "\n",
       "    .dataframe thead th {\n",
       "        text-align: right;\n",
       "    }\n",
       "</style>\n",
       "<table border=\"1\" class=\"dataframe\">\n",
       "  <thead>\n",
       "    <tr style=\"text-align: right;\">\n",
       "      <th></th>\n",
       "      <th>Hypothesis</th>\n",
       "      <th>Reach</th>\n",
       "      <th>Impact</th>\n",
       "      <th>Confidence</th>\n",
       "      <th>Efforts</th>\n",
       "    </tr>\n",
       "  </thead>\n",
       "  <tbody>\n",
       "    <tr>\n",
       "      <th>0</th>\n",
       "      <td>Добавить два новых канала привлечения трафика,...</td>\n",
       "      <td>3</td>\n",
       "      <td>10</td>\n",
       "      <td>8</td>\n",
       "      <td>6</td>\n",
       "    </tr>\n",
       "    <tr>\n",
       "      <th>1</th>\n",
       "      <td>Запустить собственную службу доставки, что сок...</td>\n",
       "      <td>2</td>\n",
       "      <td>5</td>\n",
       "      <td>4</td>\n",
       "      <td>10</td>\n",
       "    </tr>\n",
       "    <tr>\n",
       "      <th>2</th>\n",
       "      <td>Добавить блоки рекомендаций товаров на сайт ин...</td>\n",
       "      <td>8</td>\n",
       "      <td>3</td>\n",
       "      <td>7</td>\n",
       "      <td>3</td>\n",
       "    </tr>\n",
       "    <tr>\n",
       "      <th>3</th>\n",
       "      <td>Изменить структура категорий, что увеличит кон...</td>\n",
       "      <td>8</td>\n",
       "      <td>3</td>\n",
       "      <td>3</td>\n",
       "      <td>8</td>\n",
       "    </tr>\n",
       "    <tr>\n",
       "      <th>4</th>\n",
       "      <td>Изменить цвет фона главной страницы, чтобы уве...</td>\n",
       "      <td>3</td>\n",
       "      <td>1</td>\n",
       "      <td>1</td>\n",
       "      <td>1</td>\n",
       "    </tr>\n",
       "    <tr>\n",
       "      <th>5</th>\n",
       "      <td>Добавить страницу отзывов клиентов о магазине,...</td>\n",
       "      <td>3</td>\n",
       "      <td>2</td>\n",
       "      <td>2</td>\n",
       "      <td>3</td>\n",
       "    </tr>\n",
       "    <tr>\n",
       "      <th>6</th>\n",
       "      <td>Показать на главной странице баннеры с актуаль...</td>\n",
       "      <td>5</td>\n",
       "      <td>3</td>\n",
       "      <td>8</td>\n",
       "      <td>3</td>\n",
       "    </tr>\n",
       "    <tr>\n",
       "      <th>7</th>\n",
       "      <td>Добавить форму подписки на все основные страни...</td>\n",
       "      <td>10</td>\n",
       "      <td>7</td>\n",
       "      <td>8</td>\n",
       "      <td>5</td>\n",
       "    </tr>\n",
       "    <tr>\n",
       "      <th>8</th>\n",
       "      <td>Запустить акцию, дающую скидку на товар в день...</td>\n",
       "      <td>1</td>\n",
       "      <td>9</td>\n",
       "      <td>9</td>\n",
       "      <td>5</td>\n",
       "    </tr>\n",
       "  </tbody>\n",
       "</table>\n",
       "</div>"
      ],
      "text/plain": [
       "                                          Hypothesis  Reach  Impact  \\\n",
       "0  Добавить два новых канала привлечения трафика,...      3      10   \n",
       "1  Запустить собственную службу доставки, что сок...      2       5   \n",
       "2  Добавить блоки рекомендаций товаров на сайт ин...      8       3   \n",
       "3  Изменить структура категорий, что увеличит кон...      8       3   \n",
       "4  Изменить цвет фона главной страницы, чтобы уве...      3       1   \n",
       "5  Добавить страницу отзывов клиентов о магазине,...      3       2   \n",
       "6  Показать на главной странице баннеры с актуаль...      5       3   \n",
       "7  Добавить форму подписки на все основные страни...     10       7   \n",
       "8  Запустить акцию, дающую скидку на товар в день...      1       9   \n",
       "\n",
       "   Confidence  Efforts  \n",
       "0           8        6  \n",
       "1           4       10  \n",
       "2           7        3  \n",
       "3           3        8  \n",
       "4           1        1  \n",
       "5           2        3  \n",
       "6           8        3  \n",
       "7           8        5  \n",
       "8           9        5  "
      ]
     },
     "execution_count": 4,
     "metadata": {},
     "output_type": "execute_result"
    }
   ],
   "source": [
    "hyp.head(9)"
   ]
  },
  {
   "cell_type": "markdown",
   "metadata": {},
   "source": [
    "Как видно из данных, значения целые, пропусков, дубликатов нет. Но стоит названия колонок перевести в нижний регистр. "
   ]
  },
  {
   "cell_type": "code",
   "execution_count": 5,
   "metadata": {},
   "outputs": [],
   "source": [
    "hyp.columns = map(str.lower, hyp.columns)"
   ]
  },
  {
   "cell_type": "markdown",
   "metadata": {},
   "source": [
    "## Применим фреймворк ICE для приоритизации гипотез. Отсортируемих по убыванию приоритета."
   ]
  },
  {
   "cell_type": "markdown",
   "metadata": {},
   "source": [
    "$$ICE = \\frac{Impact * Confidence}{Efforts}$$\n",
    "\n",
    "\n",
    "<hr style=\"border: 2px solid yellow;\" />  "
   ]
  },
  {
   "cell_type": "code",
   "execution_count": 6,
   "metadata": {
    "scrolled": true
   },
   "outputs": [
    {
     "data": {
      "text/html": [
       "<div>\n",
       "<style scoped>\n",
       "    .dataframe tbody tr th:only-of-type {\n",
       "        vertical-align: middle;\n",
       "    }\n",
       "\n",
       "    .dataframe tbody tr th {\n",
       "        vertical-align: top;\n",
       "    }\n",
       "\n",
       "    .dataframe thead th {\n",
       "        text-align: right;\n",
       "    }\n",
       "</style>\n",
       "<table border=\"1\" class=\"dataframe\">\n",
       "  <thead>\n",
       "    <tr style=\"text-align: right;\">\n",
       "      <th></th>\n",
       "      <th>hypothesis</th>\n",
       "      <th>ICE</th>\n",
       "    </tr>\n",
       "  </thead>\n",
       "  <tbody>\n",
       "    <tr>\n",
       "      <th>8</th>\n",
       "      <td>Запустить акцию, дающую скидку на товар в день...</td>\n",
       "      <td>16.20</td>\n",
       "    </tr>\n",
       "    <tr>\n",
       "      <th>0</th>\n",
       "      <td>Добавить два новых канала привлечения трафика,...</td>\n",
       "      <td>13.33</td>\n",
       "    </tr>\n",
       "    <tr>\n",
       "      <th>7</th>\n",
       "      <td>Добавить форму подписки на все основные страни...</td>\n",
       "      <td>11.20</td>\n",
       "    </tr>\n",
       "    <tr>\n",
       "      <th>6</th>\n",
       "      <td>Показать на главной странице баннеры с актуаль...</td>\n",
       "      <td>8.00</td>\n",
       "    </tr>\n",
       "    <tr>\n",
       "      <th>2</th>\n",
       "      <td>Добавить блоки рекомендаций товаров на сайт ин...</td>\n",
       "      <td>7.00</td>\n",
       "    </tr>\n",
       "    <tr>\n",
       "      <th>1</th>\n",
       "      <td>Запустить собственную службу доставки, что сок...</td>\n",
       "      <td>2.00</td>\n",
       "    </tr>\n",
       "    <tr>\n",
       "      <th>5</th>\n",
       "      <td>Добавить страницу отзывов клиентов о магазине,...</td>\n",
       "      <td>1.33</td>\n",
       "    </tr>\n",
       "    <tr>\n",
       "      <th>3</th>\n",
       "      <td>Изменить структура категорий, что увеличит кон...</td>\n",
       "      <td>1.12</td>\n",
       "    </tr>\n",
       "    <tr>\n",
       "      <th>4</th>\n",
       "      <td>Изменить цвет фона главной страницы, чтобы уве...</td>\n",
       "      <td>1.00</td>\n",
       "    </tr>\n",
       "  </tbody>\n",
       "</table>\n",
       "</div>"
      ],
      "text/plain": [
       "                                          hypothesis    ICE\n",
       "8  Запустить акцию, дающую скидку на товар в день...  16.20\n",
       "0  Добавить два новых канала привлечения трафика,...  13.33\n",
       "7  Добавить форму подписки на все основные страни...  11.20\n",
       "6  Показать на главной странице баннеры с актуаль...   8.00\n",
       "2  Добавить блоки рекомендаций товаров на сайт ин...   7.00\n",
       "1  Запустить собственную службу доставки, что сок...   2.00\n",
       "5  Добавить страницу отзывов клиентов о магазине,...   1.33\n",
       "3  Изменить структура категорий, что увеличит кон...   1.12\n",
       "4  Изменить цвет фона главной страницы, чтобы уве...   1.00"
      ]
     },
     "execution_count": 6,
     "metadata": {},
     "output_type": "execute_result"
    }
   ],
   "source": [
    "hyp['ICE'] = hyp['impact'] * hyp['confidence'] / hyp['efforts']\n",
    "hyp_ICE = hyp[['hypothesis', 'ICE']].sort_values(by='ICE', ascending=False).round(2)\n",
    "hyp_ICE"
   ]
  },
  {
   "cell_type": "markdown",
   "metadata": {},
   "source": [
    "## Применим фреймворк RICE для приоритизации гипотез. Отсортируемих по убыванию приоритета."
   ]
  },
  {
   "cell_type": "markdown",
   "metadata": {},
   "source": [
    "\n",
    "\n",
    "$$RICE = \\frac{Rearch * Impact * Confidence}{Efforts}$$\n",
    "\n",
    "<hr style=\"border: 2px solid yellow;\" />  "
   ]
  },
  {
   "cell_type": "code",
   "execution_count": 7,
   "metadata": {},
   "outputs": [
    {
     "data": {
      "text/html": [
       "<div>\n",
       "<style scoped>\n",
       "    .dataframe tbody tr th:only-of-type {\n",
       "        vertical-align: middle;\n",
       "    }\n",
       "\n",
       "    .dataframe tbody tr th {\n",
       "        vertical-align: top;\n",
       "    }\n",
       "\n",
       "    .dataframe thead th {\n",
       "        text-align: right;\n",
       "    }\n",
       "</style>\n",
       "<table border=\"1\" class=\"dataframe\">\n",
       "  <thead>\n",
       "    <tr style=\"text-align: right;\">\n",
       "      <th></th>\n",
       "      <th>hypothesis</th>\n",
       "      <th>RICE</th>\n",
       "    </tr>\n",
       "  </thead>\n",
       "  <tbody>\n",
       "    <tr>\n",
       "      <th>7</th>\n",
       "      <td>Добавить форму подписки на все основные страни...</td>\n",
       "      <td>112.0</td>\n",
       "    </tr>\n",
       "    <tr>\n",
       "      <th>2</th>\n",
       "      <td>Добавить блоки рекомендаций товаров на сайт ин...</td>\n",
       "      <td>56.0</td>\n",
       "    </tr>\n",
       "    <tr>\n",
       "      <th>0</th>\n",
       "      <td>Добавить два новых канала привлечения трафика,...</td>\n",
       "      <td>40.0</td>\n",
       "    </tr>\n",
       "    <tr>\n",
       "      <th>6</th>\n",
       "      <td>Показать на главной странице баннеры с актуаль...</td>\n",
       "      <td>40.0</td>\n",
       "    </tr>\n",
       "    <tr>\n",
       "      <th>8</th>\n",
       "      <td>Запустить акцию, дающую скидку на товар в день...</td>\n",
       "      <td>16.2</td>\n",
       "    </tr>\n",
       "    <tr>\n",
       "      <th>3</th>\n",
       "      <td>Изменить структура категорий, что увеличит кон...</td>\n",
       "      <td>9.0</td>\n",
       "    </tr>\n",
       "    <tr>\n",
       "      <th>1</th>\n",
       "      <td>Запустить собственную службу доставки, что сок...</td>\n",
       "      <td>4.0</td>\n",
       "    </tr>\n",
       "    <tr>\n",
       "      <th>5</th>\n",
       "      <td>Добавить страницу отзывов клиентов о магазине,...</td>\n",
       "      <td>4.0</td>\n",
       "    </tr>\n",
       "    <tr>\n",
       "      <th>4</th>\n",
       "      <td>Изменить цвет фона главной страницы, чтобы уве...</td>\n",
       "      <td>3.0</td>\n",
       "    </tr>\n",
       "  </tbody>\n",
       "</table>\n",
       "</div>"
      ],
      "text/plain": [
       "                                          hypothesis   RICE\n",
       "7  Добавить форму подписки на все основные страни...  112.0\n",
       "2  Добавить блоки рекомендаций товаров на сайт ин...   56.0\n",
       "0  Добавить два новых канала привлечения трафика,...   40.0\n",
       "6  Показать на главной странице баннеры с актуаль...   40.0\n",
       "8  Запустить акцию, дающую скидку на товар в день...   16.2\n",
       "3  Изменить структура категорий, что увеличит кон...    9.0\n",
       "1  Запустить собственную службу доставки, что сок...    4.0\n",
       "5  Добавить страницу отзывов клиентов о магазине,...    4.0\n",
       "4  Изменить цвет фона главной страницы, чтобы уве...    3.0"
      ]
     },
     "execution_count": 7,
     "metadata": {},
     "output_type": "execute_result"
    }
   ],
   "source": [
    "hyp['RICE'] = hyp['impact'] * hyp['reach'] * hyp['confidence'] / hyp['efforts']\n",
    "hyp_RICE = hyp[['hypothesis', 'RICE']].sort_values(by='RICE', ascending=False).round(2)\n",
    "hyp_RICE"
   ]
  },
  {
   "cell_type": "markdown",
   "metadata": {},
   "source": [
    "## Укажем, как изменилась приоритизация гипотез при применении RICE вместо ICE."
   ]
  },
  {
   "cell_type": "code",
   "execution_count": 8,
   "metadata": {},
   "outputs": [
    {
     "data": {
      "text/html": [
       "<div>\n",
       "<style scoped>\n",
       "    .dataframe tbody tr th:only-of-type {\n",
       "        vertical-align: middle;\n",
       "    }\n",
       "\n",
       "    .dataframe tbody tr th {\n",
       "        vertical-align: top;\n",
       "    }\n",
       "\n",
       "    .dataframe thead th {\n",
       "        text-align: right;\n",
       "    }\n",
       "</style>\n",
       "<table border=\"1\" class=\"dataframe\">\n",
       "  <thead>\n",
       "    <tr style=\"text-align: right;\">\n",
       "      <th></th>\n",
       "      <th>hypothesis</th>\n",
       "      <th>reach</th>\n",
       "      <th>impact</th>\n",
       "      <th>confidence</th>\n",
       "      <th>efforts</th>\n",
       "      <th>ICE</th>\n",
       "      <th>RICE</th>\n",
       "    </tr>\n",
       "  </thead>\n",
       "  <tbody>\n",
       "    <tr>\n",
       "      <th>8</th>\n",
       "      <td>Запустить акцию, дающую скидку на товар в день...</td>\n",
       "      <td>1</td>\n",
       "      <td>9</td>\n",
       "      <td>9</td>\n",
       "      <td>5</td>\n",
       "      <td>16.20</td>\n",
       "      <td>16.2</td>\n",
       "    </tr>\n",
       "    <tr>\n",
       "      <th>0</th>\n",
       "      <td>Добавить два новых канала привлечения трафика,...</td>\n",
       "      <td>3</td>\n",
       "      <td>10</td>\n",
       "      <td>8</td>\n",
       "      <td>6</td>\n",
       "      <td>13.33</td>\n",
       "      <td>40.0</td>\n",
       "    </tr>\n",
       "    <tr>\n",
       "      <th>7</th>\n",
       "      <td>Добавить форму подписки на все основные страни...</td>\n",
       "      <td>10</td>\n",
       "      <td>7</td>\n",
       "      <td>8</td>\n",
       "      <td>5</td>\n",
       "      <td>11.20</td>\n",
       "      <td>112.0</td>\n",
       "    </tr>\n",
       "    <tr>\n",
       "      <th>6</th>\n",
       "      <td>Показать на главной странице баннеры с актуаль...</td>\n",
       "      <td>5</td>\n",
       "      <td>3</td>\n",
       "      <td>8</td>\n",
       "      <td>3</td>\n",
       "      <td>8.00</td>\n",
       "      <td>40.0</td>\n",
       "    </tr>\n",
       "    <tr>\n",
       "      <th>2</th>\n",
       "      <td>Добавить блоки рекомендаций товаров на сайт ин...</td>\n",
       "      <td>8</td>\n",
       "      <td>3</td>\n",
       "      <td>7</td>\n",
       "      <td>3</td>\n",
       "      <td>7.00</td>\n",
       "      <td>56.0</td>\n",
       "    </tr>\n",
       "    <tr>\n",
       "      <th>1</th>\n",
       "      <td>Запустить собственную службу доставки, что сок...</td>\n",
       "      <td>2</td>\n",
       "      <td>5</td>\n",
       "      <td>4</td>\n",
       "      <td>10</td>\n",
       "      <td>2.00</td>\n",
       "      <td>4.0</td>\n",
       "    </tr>\n",
       "    <tr>\n",
       "      <th>5</th>\n",
       "      <td>Добавить страницу отзывов клиентов о магазине,...</td>\n",
       "      <td>3</td>\n",
       "      <td>2</td>\n",
       "      <td>2</td>\n",
       "      <td>3</td>\n",
       "      <td>1.33</td>\n",
       "      <td>4.0</td>\n",
       "    </tr>\n",
       "    <tr>\n",
       "      <th>3</th>\n",
       "      <td>Изменить структура категорий, что увеличит кон...</td>\n",
       "      <td>8</td>\n",
       "      <td>3</td>\n",
       "      <td>3</td>\n",
       "      <td>8</td>\n",
       "      <td>1.12</td>\n",
       "      <td>9.0</td>\n",
       "    </tr>\n",
       "    <tr>\n",
       "      <th>4</th>\n",
       "      <td>Изменить цвет фона главной страницы, чтобы уве...</td>\n",
       "      <td>3</td>\n",
       "      <td>1</td>\n",
       "      <td>1</td>\n",
       "      <td>1</td>\n",
       "      <td>1.00</td>\n",
       "      <td>3.0</td>\n",
       "    </tr>\n",
       "  </tbody>\n",
       "</table>\n",
       "</div>"
      ],
      "text/plain": [
       "                                          hypothesis  reach  impact  \\\n",
       "8  Запустить акцию, дающую скидку на товар в день...      1       9   \n",
       "0  Добавить два новых канала привлечения трафика,...      3      10   \n",
       "7  Добавить форму подписки на все основные страни...     10       7   \n",
       "6  Показать на главной странице баннеры с актуаль...      5       3   \n",
       "2  Добавить блоки рекомендаций товаров на сайт ин...      8       3   \n",
       "1  Запустить собственную службу доставки, что сок...      2       5   \n",
       "5  Добавить страницу отзывов клиентов о магазине,...      3       2   \n",
       "3  Изменить структура категорий, что увеличит кон...      8       3   \n",
       "4  Изменить цвет фона главной страницы, чтобы уве...      3       1   \n",
       "\n",
       "   confidence  efforts    ICE   RICE  \n",
       "8           9        5  16.20   16.2  \n",
       "0           8        6  13.33   40.0  \n",
       "7           8        5  11.20  112.0  \n",
       "6           8        3   8.00   40.0  \n",
       "2           7        3   7.00   56.0  \n",
       "1           4       10   2.00    4.0  \n",
       "5           2        3   1.33    4.0  \n",
       "3           3        8   1.12    9.0  \n",
       "4           1        1   1.00    3.0  "
      ]
     },
     "execution_count": 8,
     "metadata": {},
     "output_type": "execute_result"
    }
   ],
   "source": [
    "hyp.sort_values(by='ICE', ascending=False).round(2)"
   ]
  },
  {
   "cell_type": "markdown",
   "metadata": {},
   "source": [
    "Параметр `reach`, то есть охват пользователей, который есть в методе RICE изменил приоретизацию гипотез. Но задача 4 в обоих методах осталась на последнем месте."
   ]
  },
  {
   "cell_type": "markdown",
   "metadata": {},
   "source": [
    "# Часть 2"
   ]
  },
  {
   "cell_type": "markdown",
   "metadata": {},
   "source": [
    "## Данные для второй части"
   ]
  },
  {
   "cell_type": "markdown",
   "metadata": {},
   "source": [
    "Тaблица `orders`\n",
    "* *transactionId* — идентификатор заказа;\n",
    "* *visitorId* — идентификатор пользователя, совершившего заказ;\n",
    "* *date* — дата, когда был совершён заказ;\n",
    "* *revenue* — выручка заказа;\n",
    "* *group* — группа A/B-теста, в которую попал заказ.\n",
    "\n",
    "Таблица `visitors`\n",
    "* *date* — дата;\n",
    "* *group* — группа A/B-теста;\n",
    "* *visitors* — количество пользователей в указанную дату в указанной группе A/B-теста"
   ]
  },
  {
   "cell_type": "markdown",
   "metadata": {},
   "source": [
    "## Загрузка данных и подготовка их к анализу"
   ]
  },
  {
   "cell_type": "code",
   "execution_count": 9,
   "metadata": {},
   "outputs": [
    {
     "name": "stdout",
     "output_type": "stream",
     "text": [
      "<class 'pandas.core.frame.DataFrame'>\n",
      "RangeIndex: 1197 entries, 0 to 1196\n",
      "Data columns (total 5 columns):\n",
      " #   Column         Non-Null Count  Dtype \n",
      "---  ------         --------------  ----- \n",
      " 0   transactionId  1197 non-null   int64 \n",
      " 1   visitorId      1197 non-null   int64 \n",
      " 2   date           1197 non-null   object\n",
      " 3   revenue        1197 non-null   int64 \n",
      " 4   group          1197 non-null   object\n",
      "dtypes: int64(3), object(2)\n",
      "memory usage: 46.9+ KB\n"
     ]
    }
   ],
   "source": [
    "orders = pd.read_csv('/datasets/orders.csv') #читаем файл\n",
    "orders.info()"
   ]
  },
  {
   "cell_type": "code",
   "execution_count": 10,
   "metadata": {},
   "outputs": [
    {
     "data": {
      "text/html": [
       "<div>\n",
       "<style scoped>\n",
       "    .dataframe tbody tr th:only-of-type {\n",
       "        vertical-align: middle;\n",
       "    }\n",
       "\n",
       "    .dataframe tbody tr th {\n",
       "        vertical-align: top;\n",
       "    }\n",
       "\n",
       "    .dataframe thead th {\n",
       "        text-align: right;\n",
       "    }\n",
       "</style>\n",
       "<table border=\"1\" class=\"dataframe\">\n",
       "  <thead>\n",
       "    <tr style=\"text-align: right;\">\n",
       "      <th></th>\n",
       "      <th>transactionId</th>\n",
       "      <th>visitorId</th>\n",
       "      <th>date</th>\n",
       "      <th>revenue</th>\n",
       "      <th>group</th>\n",
       "    </tr>\n",
       "  </thead>\n",
       "  <tbody>\n",
       "    <tr>\n",
       "      <th>0</th>\n",
       "      <td>3667963787</td>\n",
       "      <td>3312258926</td>\n",
       "      <td>2019-08-15</td>\n",
       "      <td>1650</td>\n",
       "      <td>B</td>\n",
       "    </tr>\n",
       "    <tr>\n",
       "      <th>1</th>\n",
       "      <td>2804400009</td>\n",
       "      <td>3642806036</td>\n",
       "      <td>2019-08-15</td>\n",
       "      <td>730</td>\n",
       "      <td>B</td>\n",
       "    </tr>\n",
       "    <tr>\n",
       "      <th>2</th>\n",
       "      <td>2961555356</td>\n",
       "      <td>4069496402</td>\n",
       "      <td>2019-08-15</td>\n",
       "      <td>400</td>\n",
       "      <td>A</td>\n",
       "    </tr>\n",
       "    <tr>\n",
       "      <th>3</th>\n",
       "      <td>3797467345</td>\n",
       "      <td>1196621759</td>\n",
       "      <td>2019-08-15</td>\n",
       "      <td>9759</td>\n",
       "      <td>B</td>\n",
       "    </tr>\n",
       "    <tr>\n",
       "      <th>4</th>\n",
       "      <td>2282983706</td>\n",
       "      <td>2322279887</td>\n",
       "      <td>2019-08-15</td>\n",
       "      <td>2308</td>\n",
       "      <td>B</td>\n",
       "    </tr>\n",
       "  </tbody>\n",
       "</table>\n",
       "</div>"
      ],
      "text/plain": [
       "   transactionId   visitorId        date  revenue group\n",
       "0     3667963787  3312258926  2019-08-15     1650     B\n",
       "1     2804400009  3642806036  2019-08-15      730     B\n",
       "2     2961555356  4069496402  2019-08-15      400     A\n",
       "3     3797467345  1196621759  2019-08-15     9759     B\n",
       "4     2282983706  2322279887  2019-08-15     2308     B"
      ]
     },
     "execution_count": 10,
     "metadata": {},
     "output_type": "execute_result"
    }
   ],
   "source": [
    "orders.head()"
   ]
  },
  {
   "cell_type": "markdown",
   "metadata": {},
   "source": [
    "Переименуем столбцы и переведем столбец с датой в тип даты и проверим дубликаты."
   ]
  },
  {
   "cell_type": "code",
   "execution_count": 11,
   "metadata": {},
   "outputs": [
    {
     "name": "stdout",
     "output_type": "stream",
     "text": [
      "Количество дубликатов: 0\n"
     ]
    }
   ],
   "source": [
    "orders.columns = ['transaction_id', 'visitor_id', 'date', 'revenue', 'group']\n",
    "orders['date'] = orders['date'].map(\n",
    "    lambda x: dt.datetime.strptime(x, '%Y-%m-%d')\n",
    ")\n",
    "print('Количество дубликатов:',orders.duplicated().sum())"
   ]
  },
  {
   "cell_type": "code",
   "execution_count": 12,
   "metadata": {},
   "outputs": [
    {
     "name": "stdout",
     "output_type": "stream",
     "text": [
      "<class 'pandas.core.frame.DataFrame'>\n",
      "RangeIndex: 62 entries, 0 to 61\n",
      "Data columns (total 3 columns):\n",
      " #   Column    Non-Null Count  Dtype \n",
      "---  ------    --------------  ----- \n",
      " 0   date      62 non-null     object\n",
      " 1   group     62 non-null     object\n",
      " 2   visitors  62 non-null     int64 \n",
      "dtypes: int64(1), object(2)\n",
      "memory usage: 1.6+ KB\n"
     ]
    }
   ],
   "source": [
    "visitors = pd.read_csv('/datasets/visitors.csv') #читаем файл\n",
    "visitors.info()"
   ]
  },
  {
   "cell_type": "code",
   "execution_count": 13,
   "metadata": {},
   "outputs": [
    {
     "data": {
      "text/html": [
       "<div>\n",
       "<style scoped>\n",
       "    .dataframe tbody tr th:only-of-type {\n",
       "        vertical-align: middle;\n",
       "    }\n",
       "\n",
       "    .dataframe tbody tr th {\n",
       "        vertical-align: top;\n",
       "    }\n",
       "\n",
       "    .dataframe thead th {\n",
       "        text-align: right;\n",
       "    }\n",
       "</style>\n",
       "<table border=\"1\" class=\"dataframe\">\n",
       "  <thead>\n",
       "    <tr style=\"text-align: right;\">\n",
       "      <th></th>\n",
       "      <th>date</th>\n",
       "      <th>group</th>\n",
       "      <th>visitors</th>\n",
       "    </tr>\n",
       "  </thead>\n",
       "  <tbody>\n",
       "    <tr>\n",
       "      <th>0</th>\n",
       "      <td>2019-08-01</td>\n",
       "      <td>A</td>\n",
       "      <td>719</td>\n",
       "    </tr>\n",
       "    <tr>\n",
       "      <th>1</th>\n",
       "      <td>2019-08-02</td>\n",
       "      <td>A</td>\n",
       "      <td>619</td>\n",
       "    </tr>\n",
       "    <tr>\n",
       "      <th>2</th>\n",
       "      <td>2019-08-03</td>\n",
       "      <td>A</td>\n",
       "      <td>507</td>\n",
       "    </tr>\n",
       "    <tr>\n",
       "      <th>3</th>\n",
       "      <td>2019-08-04</td>\n",
       "      <td>A</td>\n",
       "      <td>717</td>\n",
       "    </tr>\n",
       "    <tr>\n",
       "      <th>4</th>\n",
       "      <td>2019-08-05</td>\n",
       "      <td>A</td>\n",
       "      <td>756</td>\n",
       "    </tr>\n",
       "  </tbody>\n",
       "</table>\n",
       "</div>"
      ],
      "text/plain": [
       "         date group  visitors\n",
       "0  2019-08-01     A       719\n",
       "1  2019-08-02     A       619\n",
       "2  2019-08-03     A       507\n",
       "3  2019-08-04     A       717\n",
       "4  2019-08-05     A       756"
      ]
     },
     "execution_count": 13,
     "metadata": {},
     "output_type": "execute_result"
    }
   ],
   "source": [
    "visitors.head()"
   ]
  },
  {
   "cell_type": "markdown",
   "metadata": {},
   "source": [
    "Переведем столбец с датой в тип даты и проверим дубликаты."
   ]
  },
  {
   "cell_type": "code",
   "execution_count": 14,
   "metadata": {
    "scrolled": true
   },
   "outputs": [
    {
     "name": "stdout",
     "output_type": "stream",
     "text": [
      "Количество дубликатов: 0\n"
     ]
    }
   ],
   "source": [
    "visitors['date'] = visitors['date'].map(\n",
    "    lambda x: dt.datetime.strptime(x, '%Y-%m-%d')\n",
    ")\n",
    "print('Количество дубликатов:',visitors.duplicated().sum())"
   ]
  },
  {
   "cell_type": "code",
   "execution_count": 15,
   "metadata": {},
   "outputs": [
    {
     "name": "stdout",
     "output_type": "stream",
     "text": [
      "<class 'pandas.core.frame.DataFrame'>\n",
      "RangeIndex: 62 entries, 0 to 61\n",
      "Data columns (total 3 columns):\n",
      " #   Column    Non-Null Count  Dtype         \n",
      "---  ------    --------------  -----         \n",
      " 0   date      62 non-null     datetime64[ns]\n",
      " 1   group     62 non-null     object        \n",
      " 2   visitors  62 non-null     int64         \n",
      "dtypes: datetime64[ns](1), int64(1), object(1)\n",
      "memory usage: 1.6+ KB\n"
     ]
    }
   ],
   "source": [
    "visitors.info()"
   ]
  },
  {
   "cell_type": "markdown",
   "metadata": {},
   "source": [
    "## Тестирование"
   ]
  },
  {
   "cell_type": "markdown",
   "metadata": {},
   "source": [
    "1) Создадим датафрейм datesGroups с уникальными парами значений 'date' и 'group', таблицы orders. Избавимся от дубликатов методом drop_duplicates().\n",
    "\n",
    "2) Объявим переменную ordersAggregated, содержащую:\n",
    "* дату;\n",
    "* группу A/B-теста;\n",
    "* число уникальных заказов в группе теста по указанную дату включительно;\n",
    "* число уникальных пользователей, совершивших хотя бы 1 заказ в группе теста по указанную дату включительно;\n",
    "* суммарную выручку заказов в группе теста по указанную дату включительно.\n",
    "\n",
    "3) Объявим переменную visitorsAggregated, содержащую:\n",
    "* дату;\n",
    "* группу A/B-теста;\n",
    "* количество уникальных посетителей в группе теста по указанную дату включительно.\n",
    "\n",
    "4) ordersAggregated и visitorsAggregated отсортируем по столбцам 'date', 'group' в указанном порядке.\n",
    "\n",
    "5) Определим переменную cumulativeData, объединив ordersAggregated и visitorsAggregated по колонкам 'date', 'group' методом merge()\n",
    "\n",
    "6) Присвоим столбцам cumulativeData названия ['date', 'group', 'orders', 'buyers', 'revenue', 'visitors']\n",
    "\n",
    "7) Выведим первые 5 строк переменной cumulativeData"
   ]
  },
  {
   "cell_type": "code",
   "execution_count": 16,
   "metadata": {},
   "outputs": [
    {
     "data": {
      "text/html": [
       "<div>\n",
       "<style scoped>\n",
       "    .dataframe tbody tr th:only-of-type {\n",
       "        vertical-align: middle;\n",
       "    }\n",
       "\n",
       "    .dataframe tbody tr th {\n",
       "        vertical-align: top;\n",
       "    }\n",
       "\n",
       "    .dataframe thead th {\n",
       "        text-align: right;\n",
       "    }\n",
       "</style>\n",
       "<table border=\"1\" class=\"dataframe\">\n",
       "  <thead>\n",
       "    <tr style=\"text-align: right;\">\n",
       "      <th></th>\n",
       "      <th>date</th>\n",
       "      <th>group</th>\n",
       "      <th>orders</th>\n",
       "      <th>buyers</th>\n",
       "      <th>revenue</th>\n",
       "      <th>visitors</th>\n",
       "    </tr>\n",
       "  </thead>\n",
       "  <tbody>\n",
       "    <tr>\n",
       "      <th>0</th>\n",
       "      <td>2019-08-01</td>\n",
       "      <td>A</td>\n",
       "      <td>24</td>\n",
       "      <td>20</td>\n",
       "      <td>148579</td>\n",
       "      <td>719</td>\n",
       "    </tr>\n",
       "    <tr>\n",
       "      <th>1</th>\n",
       "      <td>2019-08-01</td>\n",
       "      <td>B</td>\n",
       "      <td>21</td>\n",
       "      <td>20</td>\n",
       "      <td>101217</td>\n",
       "      <td>713</td>\n",
       "    </tr>\n",
       "    <tr>\n",
       "      <th>2</th>\n",
       "      <td>2019-08-02</td>\n",
       "      <td>A</td>\n",
       "      <td>44</td>\n",
       "      <td>38</td>\n",
       "      <td>242401</td>\n",
       "      <td>1338</td>\n",
       "    </tr>\n",
       "    <tr>\n",
       "      <th>3</th>\n",
       "      <td>2019-08-02</td>\n",
       "      <td>B</td>\n",
       "      <td>45</td>\n",
       "      <td>43</td>\n",
       "      <td>266748</td>\n",
       "      <td>1294</td>\n",
       "    </tr>\n",
       "    <tr>\n",
       "      <th>4</th>\n",
       "      <td>2019-08-03</td>\n",
       "      <td>A</td>\n",
       "      <td>68</td>\n",
       "      <td>62</td>\n",
       "      <td>354874</td>\n",
       "      <td>1845</td>\n",
       "    </tr>\n",
       "  </tbody>\n",
       "</table>\n",
       "</div>"
      ],
      "text/plain": [
       "        date group  orders  buyers  revenue  visitors\n",
       "0 2019-08-01     A      24      20   148579       719\n",
       "1 2019-08-01     B      21      20   101217       713\n",
       "2 2019-08-02     A      44      38   242401      1338\n",
       "3 2019-08-02     B      45      43   266748      1294\n",
       "4 2019-08-03     A      68      62   354874      1845"
      ]
     },
     "execution_count": 16,
     "metadata": {},
     "output_type": "execute_result"
    }
   ],
   "source": [
    "datesGroups = orders [['date', 'group']].drop_duplicates()\n",
    "\n",
    "ordersAggregated = datesGroups.apply(lambda x: orders[np.logical_and(orders['date'] <= x['date'], orders['group'] == x['group'])]\\\n",
    ".agg({'date' : 'max', 'group' : 'max', 'transaction_id' : 'nunique', 'visitor_id' : 'nunique', 'revenue' : 'sum'}), axis=1).sort_values(by=['date','group'])\n",
    "\n",
    "visitorsAggregated = datesGroups.apply(lambda x: visitors[np.logical_and(visitors['date'] <= x['date'], visitors['group'] == x['group'])].agg({'date' : 'max', 'group' : 'max', 'visitors' : 'sum'}), axis=1).sort_values(by=['date','group']) \n",
    "cumulativeData = ordersAggregated.merge(visitorsAggregated, left_on=['date', 'group'], right_on=['date', 'group'])\n",
    "cumulativeData.columns = ['date', 'group', 'orders', 'buyers', 'revenue', 'visitors']\n",
    "\n",
    "cumulativeData.head(5)"
   ]
  },
  {
   "cell_type": "markdown",
   "metadata": {},
   "source": [
    "Объявим переменные cumulativeRevenueA и cumulativeRevenueB, в которых сохраним данные о датах, выручке и числе заказов в группах A и B.\n",
    "Построим графики кумулятивной выручки по дням по группам."
   ]
  },
  {
   "cell_type": "code",
   "execution_count": 17,
   "metadata": {},
   "outputs": [
    {
     "data": {
      "image/png": "[encoded data removed]",
      "text/plain": [
       "<Figure size 432x288 with 1 Axes>"
      ]
     },
     "metadata": {
      "needs_background": "light"
     },
     "output_type": "display_data"
    }
   ],
   "source": [
    "cumulativeRevenueA = cumulativeData[cumulativeData['group']=='A'][['date','revenue', 'orders']]\n",
    "\n",
    "# датафрейм с кумулятивным количеством заказов и кумулятивной выручкой по дням в группе B\n",
    "cumulativeRevenueB = cumulativeData[cumulativeData['group']=='B'][['date','revenue', 'orders']]\n",
    "\n",
    "# Строим график выручки группы А\n",
    "plt.plot(cumulativeRevenueA['date'], cumulativeRevenueA['revenue'], label='A')\n",
    "\n",
    "# Строим график выручки группы B\n",
    "plt.plot(cumulativeRevenueB['date'], cumulativeRevenueB['revenue'], label='B')\n",
    "plt.xlabel('Дата')\n",
    "plt.ylabel('Выручка')\n",
    "plt.title(\"Кумулятивная выручка по дням и группам A/B-тестирования\")\n",
    "plt.legend() \n",
    "plt.xticks(rotation=90)\n",
    "plt.show()"
   ]
  },
  {
   "cell_type": "markdown",
   "metadata": {},
   "source": [
    "В середине теста сегмент B подскочил и вырвался сильно вперед. Вероятнее всего аномально большие заказы влияют для результат теста. Этот момент нужно учесть в результате.\n",
    "\n",
    "Построим графики кумулятивного среднего чека по дням по группам."
   ]
  },
  {
   "cell_type": "code",
   "execution_count": 18,
   "metadata": {},
   "outputs": [
    {
     "data": {
      "image/png": "[encoded data removed]",
      "text/plain": [
       "<Figure size 432x288 with 1 Axes>"
      ]
     },
     "metadata": {
      "needs_background": "light"
     },
     "output_type": "display_data"
    }
   ],
   "source": [
    "plt.plot(cumulativeRevenueA['date'], cumulativeRevenueA['revenue']/cumulativeRevenueA['orders'], label='A')\n",
    "plt.plot(cumulativeRevenueB['date'], cumulativeRevenueB['revenue']/cumulativeRevenueB['orders'], label='B')\n",
    "plt.xlabel('Дата')\n",
    "plt.ylabel('Средний чек')\n",
    "plt.title(\"Кумулятивный средний чек по дням и группам A/B-тестирования\")\n",
    "plt.legend() \n",
    "plt.xticks(rotation=90)\n",
    "plt.show()"
   ]
  },
  {
   "cell_type": "markdown",
   "metadata": {},
   "source": [
    "Аналогично прошлому графику в тот же момент у сегмента В подсокочил кумулятивный средний чек. Но По графику видно, что он продолжает колебаться. "
   ]
  },
  {
   "cell_type": "markdown",
   "metadata": {},
   "source": [
    "Построим график относительно различия кумулятивного среднего чека группы B к группе A."
   ]
  },
  {
   "cell_type": "code",
   "execution_count": 19,
   "metadata": {
    "scrolled": true
   },
   "outputs": [
    {
     "data": {
      "image/png": "[encoded data removed]",
      "text/plain": [
       "<Figure size 432x288 with 1 Axes>"
      ]
     },
     "metadata": {
      "needs_background": "light"
     },
     "output_type": "display_data"
    }
   ],
   "source": [
    "mergedCumulativeRevenue = cumulativeRevenueA.merge(cumulativeRevenueB, left_on='date', right_on='date', how='left', suffixes=['A', 'B'])\n",
    "\n",
    "# cтроим отношение средних чеков\n",
    "plt.plot(mergedCumulativeRevenue['date'], (mergedCumulativeRevenue['revenueB']/mergedCumulativeRevenue['ordersB'])/(mergedCumulativeRevenue['revenueA']/mergedCumulativeRevenue['ordersA'])-1)\n",
    "\n",
    "# добавляем ось X\n",
    "plt.axhline(y=0, color='black', linestyle='--') \n",
    "plt.xlabel('Дата')\n",
    "plt.ylabel('Различие среднего чека')\n",
    "plt.title(\"Относительное различие для среднего чека\")\n",
    "plt.xticks(rotation=90)\n",
    "plt.show()"
   ]
  },
  {
   "cell_type": "markdown",
   "metadata": {},
   "source": [
    "В нескольких точках график различия между сегментами резко «скачет», видимо тогда были совершены аномальные заказы. Но в основном график расположен выше нуля."
   ]
  },
  {
   "cell_type": "markdown",
   "metadata": {},
   "source": [
    "Построим график кумулятивной конверсии по группам.\n",
    "\n",
    "Добавим в cumulativeData столбец 'conversion' c отношением числа заказов к количеству пользователей в указанной группе в указанный день.\n",
    "Объявим переменные cumulativeDataA и cumulativeDataB, в которых сохраните данные о заказах в сегментах A и B соответственно."
   ]
  },
  {
   "cell_type": "code",
   "execution_count": 20,
   "metadata": {},
   "outputs": [
    {
     "data": {
      "image/png": "[encoded data removed]",
      "text/plain": [
       "<Figure size 432x288 with 1 Axes>"
      ]
     },
     "metadata": {
      "needs_background": "light"
     },
     "output_type": "display_data"
    }
   ],
   "source": [
    "cumulativeData['conversion'] = cumulativeData['orders']/cumulativeData['visitors']\n",
    "\n",
    "# отделяем данные по группе A\n",
    "cumulativeDataA = cumulativeData[cumulativeData['group']=='A']\n",
    "\n",
    "# отделяем данные по группе B\n",
    "cumulativeDataB = cumulativeData[cumulativeData['group']=='B']\n",
    "\n",
    "# строим графики\n",
    "plt.plot(cumulativeDataA['date'], cumulativeDataA['conversion'], label='A')\n",
    "plt.plot(cumulativeDataB['date'], cumulativeDataB['conversion'], label='B')\n",
    "plt.legend()\n",
    "\n",
    "# задаем масштаб осей\n",
    "plt.axis([dt.datetime(2019, 8, 1), dt.datetime(2019, 9, 1), 0, 0.04])\n",
    "plt.xlabel('Дата')\n",
    "plt.ylabel('Конверсия')\n",
    "plt.title(\"Кумулятивная конверсия по группам\")\n",
    "plt.xticks(rotation=90)\n",
    "plt.show()"
   ]
  },
  {
   "cell_type": "markdown",
   "metadata": {},
   "source": [
    "В начале теста сегмент А имел большую конверсию, затем он немного упал и установился примерно около одного значения, в отличие от сегмента В, который возрос выше сегмента А и также установился в пределах одного значения."
   ]
  },
  {
   "cell_type": "markdown",
   "metadata": {},
   "source": [
    "Объединим таблицы cumulativeDataA и cumulativeDataB методом merge() так, чтобы она содержала столбцы: ['date', 'conversionA', 'conversionB']. Сохраним в переменной mergedCumulativeConversions.\n",
    "Построим график относительного различия кумулятивной конверсии группы B к группе A.\n",
    "Добавим пунктирную линию оси X чёрного цвета ('black') со значением оси Y = 0 методом plt.axhline(). И ещё одну линию оси X серого цвета ('grey') со значением оси Y = 0.2"
   ]
  },
  {
   "cell_type": "code",
   "execution_count": 21,
   "metadata": {},
   "outputs": [
    {
     "data": {
      "image/png": "[encoded data removed]",
      "text/plain": [
       "<Figure size 432x288 with 1 Axes>"
      ]
     },
     "metadata": {
      "needs_background": "light"
     },
     "output_type": "display_data"
    }
   ],
   "source": [
    "mergedCumulativeConversions = cumulativeDataA[['date','conversion']].merge(cumulativeDataB[['date','conversion']], left_on='date', right_on='date', how='left', suffixes=['A', 'B'])\n",
    "\n",
    "plt.plot(mergedCumulativeConversions['date'], mergedCumulativeConversions['conversionB']/mergedCumulativeConversions['conversionA']-1, label=\"Относительный прирост конверсии группы B относительно группы A\")\n",
    "#plt.legend()\n",
    "\n",
    "plt.axhline(y=0, color='black', linestyle='--')\n",
    "plt.axhline(y=0.15, color='grey', linestyle='--')\n",
    "plt.axis([pd.to_datetime('2019-08-01', format = '%Y-%m-%d'),\n",
    "             pd.to_datetime('2019-09-01', format = '%Y-%m-%d'), -0.2, 0.3])\n",
    "plt.xlabel('Дата')\n",
    "plt.ylabel('Конверсия')\n",
    "plt.title(\"Относительный прирост конверсии группы В относительно группы А\")\n",
    "plt.xticks(rotation=90)\n",
    "plt.show()"
   ]
  },
  {
   "cell_type": "markdown",
   "metadata": {},
   "source": [
    "Почти с самого начала теста группа B лидирует относительно группы А. Но не стоит говорить, что она зафиксировалась возле определенной цифры, но прирост становится примерно на 15%."
   ]
  },
  {
   "cell_type": "markdown",
   "metadata": {},
   "source": [
    "Построим точечный график количества заказов по пользователям."
   ]
  },
  {
   "cell_type": "code",
   "execution_count": 22,
   "metadata": {},
   "outputs": [
    {
     "name": "stdout",
     "output_type": "stream",
     "text": [
      "      visitor_id  transaction_id\n",
      "1023  4256040402              11\n",
      "591   2458001652              11\n",
      "569   2378935119               9\n",
      "487   2038680547               8\n",
      "44     199603092               5\n",
      "744   3062433592               5\n",
      "55     237748145               5\n",
      "917   3803269165               5\n",
      "299   1230306981               5\n",
      "897   3717692402               5\n"
     ]
    },
    {
     "data": {
      "image/png": "[encoded data removed]",
      "text/plain": [
       "<Figure size 432x288 with 1 Axes>"
      ]
     },
     "metadata": {
      "needs_background": "light"
     },
     "output_type": "display_data"
    }
   ],
   "source": [
    "ordersByUsers = (\n",
    "    orders.groupby('visitor_id', as_index=False)\n",
    "    .agg({'transaction_id': 'nunique'})\n",
    ")\n",
    "ordersByUsers.columns = ['visitor_id', 'transaction_id']\n",
    "\n",
    "print(ordersByUsers.sort_values(by='transaction_id', ascending=False).head(10))\n",
    "\n",
    "# серия из чисел от 0 до количества наблюдений в ordersByUsers\n",
    "x_values = pd.Series(range(0, len(ordersByUsers)))\n",
    "plt.scatter(x_values, ordersByUsers['transaction_id']) \n",
    "plt.xlabel('Пользователи')\n",
    "plt.ylabel('Количество заказов')\n",
    "plt.title(\"Количество заказов по пользователям\")\n",
    "plt.show()"
   ]
  },
  {
   "cell_type": "markdown",
   "metadata": {},
   "source": [
    "Пользователи, которые сделали более 2 заказов встречаются редко. Для того, чтобы узнать аномалия это или нет, посчитаем 95-й и 99-й перцентили количества заказов на пользователя."
   ]
  },
  {
   "cell_type": "code",
   "execution_count": 23,
   "metadata": {},
   "outputs": [
    {
     "name": "stdout",
     "output_type": "stream",
     "text": [
      "      visitor_id  transaction_id\n",
      "1023  4256040402              11\n",
      "591   2458001652              11\n",
      "569   2378935119               9\n",
      "487   2038680547               8\n",
      "44     199603092               5\n",
      "744   3062433592               5\n",
      "55     237748145               5\n",
      "917   3803269165               5\n",
      "299   1230306981               5\n",
      "897   3717692402               5\n",
      "[2. 4.]\n"
     ]
    }
   ],
   "source": [
    "print(ordersByUsers.sort_values(by='transaction_id', ascending=False).head(10))\n",
    "\n",
    "print(np.percentile(ordersByUsers['transaction_id'], [ 95, 99]))"
   ]
  },
  {
   "cell_type": "markdown",
   "metadata": {},
   "source": [
    "Не более 5% пользователей оформляли больше чем 2 заказа. И 1% пользователей заказывали более четырех раз."
   ]
  },
  {
   "cell_type": "markdown",
   "metadata": {},
   "source": [
    "Построим точечный график стоимостей заказов."
   ]
  },
  {
   "cell_type": "code",
   "execution_count": 24,
   "metadata": {},
   "outputs": [
    {
     "data": {
      "image/png": "[encoded data removed]",
      "text/plain": [
       "<Figure size 432x288 with 1 Axes>"
      ]
     },
     "metadata": {
      "needs_background": "light"
     },
     "output_type": "display_data"
    }
   ],
   "source": [
    "x_values = pd.Series(range(0, len(orders['revenue'])))\n",
    "plt.scatter(x_values, orders['revenue']) \n",
    "plt.xlabel('Пользователи')\n",
    "plt.ylabel('Стоимость заказов')\n",
    "plt.title(\"Стоимости заказов\")\n",
    "plt.show()"
   ]
  },
  {
   "cell_type": "markdown",
   "metadata": {},
   "source": [
    "Есть 2 выброса в районе 1 250 000, который выглядит весьма аномально, и 200 000. Посчитаем 95-й и 99-й перцентили стоимости заказов. "
   ]
  },
  {
   "cell_type": "code",
   "execution_count": 25,
   "metadata": {
    "scrolled": true
   },
   "outputs": [
    {
     "name": "stdout",
     "output_type": "stream",
     "text": [
      "   transaction_id  visitor_id       date  revenue group\n",
      "0      3667963787  3312258926 2019-08-15     1650     B\n",
      "1      2804400009  3642806036 2019-08-15      730     B\n",
      "2      2961555356  4069496402 2019-08-15      400     A\n",
      "3      3797467345  1196621759 2019-08-15     9759     B\n",
      "4      2282983706  2322279887 2019-08-15     2308     B\n",
      "5       182168103   935554773 2019-08-15     2210     B\n",
      "6       398296753  2900797465 2019-08-15     1860     B\n",
      "7      2626614568    78758296 2019-08-15     1044     A\n",
      "8      1576988021   295230930 2019-08-15    13710     A\n",
      "9      1506739906  1882260405 2019-08-15     1855     B\n",
      "[28000.  58233.2]\n"
     ]
    }
   ],
   "source": [
    "print(orders.head(10))\n",
    "print(np.percentile(orders['revenue'] , [95, 99]))"
   ]
  },
  {
   "cell_type": "markdown",
   "metadata": {},
   "source": [
    "Не более 5% пользователей оформляли заказы на сумму более 28 000. И 1% пользователей заказывали на сумму более 58 233."
   ]
  },
  {
   "cell_type": "markdown",
   "metadata": {},
   "source": [
    "Посчитаем статистическую значимость различий в конверсии между группами по «сырым» данным."
   ]
  },
  {
   "cell_type": "markdown",
   "metadata": {},
   "source": [
    "Создадим переменные ordersByUsersA и ordersByUsersB со столбцами ['visitor_id', 'transaction_id'], где для пользователей, совершивших хотя бы 1 заказ, будет указано число заказов.\n",
    "Объявим переменные sampleA и sampleB, в которых пользователям с заказами будет соответствовать число заказов пользователя. А пользователям без заказов — нули. \n",
    "Посчитаем статистическую значимость различия среднего количества заказов по результатам двух недель теста. \n",
    "\n",
    "Для расчета р-value, используем напараметрический тест Уилкоксона-Манна-Уитни, так как у нас имеются выбросы, а сам тест работает с рангами, не учитывая сами значения. Так же сформируем нулевую и альтернативную гипотезы. Нулевая гипотеза говорит о том, что статистическая значимость в количестве заказов и среднемк чеке не значительна и сделать вывод о различии нельзя, альтернативная гипотеза говорит о том, что статистическая значимость в количестве заказов и среднемк чеке значитаельная и между выборками имеется статистическая значимость. Порогом статистической значимости установим alpha=.05"
   ]
  },
  {
   "cell_type": "code",
   "execution_count": 26,
   "metadata": {},
   "outputs": [],
   "source": [
    "visitorsADaily = visitors[visitors['group'] == 'A'][['date', 'visitors']]\n",
    "visitorsADaily.columns = ['date', 'visitorsPerDateA']\n",
    "\n",
    "visitorsACummulative = visitorsADaily.apply(\n",
    "    lambda x: visitorsADaily[visitorsADaily['date'] <= x['date']].agg(\n",
    "        {'date': 'max', 'visitorsPerDateA': 'sum'}\n",
    "    ),\n",
    "    axis=1,\n",
    ")\n",
    "visitorsACummulative.columns = ['date', 'visitorsCummulativeA']\n",
    "\n",
    "visitorsBDaily = visitors[visitors['group'] == 'B'][['date', 'visitors']]\n",
    "visitorsBDaily.columns = ['date', 'visitorsPerDateB']\n",
    "\n",
    "visitorsBCummulative = visitorsBDaily.apply(\n",
    "    lambda x: visitorsBDaily[visitorsBDaily['date'] <= x['date']].agg(\n",
    "        {'date': 'max', 'visitorsPerDateB': 'sum'}\n",
    "    ),\n",
    "    axis=1,\n",
    ")\n",
    "visitorsBCummulative.columns = ['date', 'visitorsCummulativeB']\n",
    "\n",
    "ordersADaily = (\n",
    "    orders[orders['group'] == 'A'][['date', 'transaction_id', 'visitor_id', 'revenue']]\n",
    "    .groupby('date', as_index=False)\n",
    "    .agg({'transaction_id': pd.Series.nunique, 'revenue': 'sum'})\n",
    ")\n",
    "ordersADaily.columns = ['date', 'ordersPerDateA', 'revenuePerDateA']\n",
    "\n",
    "ordersACummulative = ordersADaily.apply(\n",
    "    lambda x: ordersADaily[ordersADaily['date'] <= x['date']].agg(\n",
    "        {'date': 'max', 'ordersPerDateA': 'sum', 'revenuePerDateA': 'sum'}\n",
    "    ),\n",
    "    axis=1,\n",
    ").sort_values(by=['date'])\n",
    "ordersACummulative.columns = [\n",
    "    'date',\n",
    "    'ordersCummulativeA',\n",
    "    'revenueCummulativeA',\n",
    "]\n",
    "\n",
    "ordersBDaily = (\n",
    "    orders[orders['group'] == 'B'][['date', 'transaction_id', 'visitor_id', 'revenue']]\n",
    "    .groupby('date', as_index=False)\n",
    "    .agg({'transaction_id': pd.Series.nunique, 'revenue': 'sum'})\n",
    ")\n",
    "ordersBDaily.columns = ['date', 'ordersPerDateB', 'revenuePerDateB']\n",
    "\n",
    "ordersBCummulative = ordersBDaily.apply(\n",
    "    lambda x: ordersBDaily[ordersBDaily['date'] <= x['date']].agg(\n",
    "        {'date': 'max', 'ordersPerDateB': 'sum', 'revenuePerDateB': 'sum'}\n",
    "    ),\n",
    "    axis=1,\n",
    ").sort_values(by=['date'])\n",
    "ordersBCummulative.columns = [\n",
    "    'date',\n",
    "    'ordersCummulativeB',\n",
    "    'revenueCummulativeB',\n",
    "]"
   ]
  },
  {
   "cell_type": "code",
   "execution_count": 27,
   "metadata": {},
   "outputs": [],
   "source": [
    "data = (\n",
    "    ordersADaily.merge(\n",
    "        ordersBDaily, left_on='date', right_on='date', how='left'\n",
    "    )\n",
    "    .merge(ordersACummulative, left_on='date', right_on='date', how='left')\n",
    "    .merge(ordersBCummulative, left_on='date', right_on='date', how='left')\n",
    "    .merge(visitorsADaily, left_on='date', right_on='date', how='left')\n",
    "    .merge(visitorsBDaily, left_on='date', right_on='date', how='left')\n",
    "    .merge(visitorsACummulative, left_on='date', right_on='date', how='left')\n",
    "    .merge(visitorsBCummulative, left_on='date', right_on='date', how='left')\n",
    ")"
   ]
  },
  {
   "cell_type": "code",
   "execution_count": 28,
   "metadata": {},
   "outputs": [
    {
     "name": "stdout",
     "output_type": "stream",
     "text": [
      "P-value: 0.017\n",
      "Относительные различия: 0.138\n"
     ]
    }
   ],
   "source": [
    "ordersByUsersA = (\n",
    "    orders[orders['group'] == 'A']\n",
    "    .groupby('visitor_id', as_index=False)\n",
    "    .agg({'transaction_id': pd.Series.nunique})\n",
    ")\n",
    "ordersByUsersA.columns = ['visitor_id', 'transaction_id']\n",
    "\n",
    "ordersByUsersB = (\n",
    "    orders[orders['group'] == 'B']\n",
    "    .groupby('visitor_id', as_index=False)\n",
    "    .agg({'transaction_id': pd.Series.nunique})\n",
    ")\n",
    "ordersByUsersB.columns = ['visitor_id', 'transaction_id'] \n",
    "sampleA = pd.concat([ordersByUsersA['transaction_id'],pd.Series(0, index=np.arange(data['visitorsPerDateA'].sum() - len(ordersByUsersA['transaction_id'])), name='orders')],axis=0)\n",
    "\n",
    "sampleB = pd.concat([ordersByUsersB['transaction_id'],pd.Series(0, index=np.arange(data['visitorsPerDateB'].sum() - len(ordersByUsersB['transaction_id'])), name='orders')],axis=0)\n",
    "print('P-value:',\"{0:.3f}\".format(stats.mannwhitneyu(sampleA, sampleB)[1]))\n",
    "\n",
    "print('Относительные различия:',\"{0:.3f}\".format(sampleB.mean() / sampleA.mean() - 1))"
   ]
  },
  {
   "cell_type": "markdown",
   "metadata": {},
   "source": [
    "P-value  значительно меньше 0.05, значит стоит отвергнуть нулевую гипотезу. Анализ \"сырых данных\" сообщает, что в среднем количестве заказов между группами есть статистически значимые различия. Относительный прирост среднего группы В к конверсии группы А равен 13.8%. \n",
    "\n",
    "Сравним \"средние чеки\" по сырым данным, а затем проделаем те же самые действия с выборкой без выбросов."
   ]
  },
  {
   "cell_type": "code",
   "execution_count": 29,
   "metadata": {},
   "outputs": [
    {
     "name": "stdout",
     "output_type": "stream",
     "text": [
      "P-value: 0.729\n",
      "Относительные различия: 0.259\n"
     ]
    }
   ],
   "source": [
    "print('P-value:','{0:.3f}'.format(stats.mannwhitneyu(orders[orders['group']=='A']['revenue'], orders[orders['group']=='B']['revenue'])[1]))\n",
    "print('Относительные различия:','{0:.3f}'.format(orders[orders['group']=='B']['revenue'].mean()/orders[orders['group']=='A']['revenue'].mean()-1)) "
   ]
  },
  {
   "cell_type": "markdown",
   "metadata": {},
   "source": [
    "P-value значительно больше 0.05, статистически значимых отличий в среднем чеке между группами нет. Относительное различие между чеками около 26%. Почстим данные и посчитаем те же метрики."
   ]
  },
  {
   "cell_type": "markdown",
   "metadata": {},
   "source": [
    "Приступаем к подготовке очищенных от аномалий данных.\n",
    "Напомним, что 95-й и 99-й перцентили средних чеков равны 28 000 и 58 233 рублям. А 95-й и 99-й перцентили числа заказов на одного пользователя равны 2 и 4 заказам на пользователя.\n",
    "Примем за аномальных пользователей тех, кто совершил 4 заказа и более, или совершил заказ на сумму свыше 30 000 рублей. Так мы уберём 1% пользователей с наибольшим числом заказов и от 1% до 5% заказов с наибольшей стоимостью.\n",
    "Удалять нужно именно пользователей — сначала определим аномальные заказы. Затем пользователей, совершивших их, и добавим их в список аномальных.\n",
    "Сделаем срезы пользователей с числом заказов больше 2 — usersWithManyOrders и пользователей, совершивших заказы дороже 10 000 — usersWithExpensiveOrders. Объединим их в таблице abnormalUsers, удалим дубликаты, отсортируем по возрастанию."
   ]
  },
  {
   "cell_type": "code",
   "execution_count": 30,
   "metadata": {},
   "outputs": [],
   "source": [
    "usersWithManyOrders = pd.concat(\n",
    "    [\n",
    "        ordersByUsersA[ordersByUsersA['transaction_id'] > 4]['visitor_id'],\n",
    "        ordersByUsersB[ordersByUsersB['transaction_id'] > 4]['visitor_id'],\n",
    "    ],\n",
    "    axis=0,\n",
    ")\n",
    "usersWithExpensiveOrders = orders[orders['revenue'] > 30000]['visitor_id']\n",
    "abnormalUsers = (\n",
    "    pd.concat([usersWithManyOrders, usersWithExpensiveOrders], axis=0)\n",
    "    .drop_duplicates()\n",
    "    .sort_values()\n",
    ")"
   ]
  },
  {
   "cell_type": "code",
   "execution_count": 31,
   "metadata": {},
   "outputs": [
    {
     "name": "stdout",
     "output_type": "stream",
     "text": [
      "P-value: 0.019\n",
      "Относительные различия: 0.144\n"
     ]
    }
   ],
   "source": [
    "sampleAFiltered = pd.concat(\n",
    "    [\n",
    "        ordersByUsersA[\n",
    "            np.logical_not(ordersByUsersA['visitor_id'].isin(abnormalUsers))\n",
    "        ]['transaction_id'],\n",
    "        pd.Series(\n",
    "            0,\n",
    "            index=np.arange(\n",
    "                data['visitorsPerDateA'].sum() - len(ordersByUsersA['transaction_id'])\n",
    "            ),\n",
    "            name='orders',\n",
    "        ),\n",
    "    ],\n",
    "    axis=0,\n",
    ")\n",
    "\n",
    "sampleBFiltered = pd.concat(\n",
    "    [\n",
    "        ordersByUsersB[\n",
    "            np.logical_not(ordersByUsersB['visitor_id'].isin(abnormalUsers))\n",
    "        ]['transaction_id'],\n",
    "        pd.Series(\n",
    "            0,\n",
    "            index=np.arange(\n",
    "                data['visitorsPerDateB'].sum() - len(ordersByUsersB['transaction_id'])\n",
    "            ),\n",
    "            name='orders',\n",
    "        ),\n",
    "    ],\n",
    "    axis=0,\n",
    ") \n",
    "print('P-value:','{0:.3f}'.format(stats.mannwhitneyu(sampleAFiltered, sampleBFiltered)[1]))\n",
    "print('Относительные различия:','{0:.3f}'.format(sampleBFiltered.mean()/sampleAFiltered.mean()-1)) \n"
   ]
  },
  {
   "cell_type": "markdown",
   "metadata": {},
   "source": [
    "Как и в случае с сырым данными, статистическая значимость достигнута. Сегмент В лучше сегмента А."
   ]
  },
  {
   "cell_type": "markdown",
   "metadata": {},
   "source": [
    "Посчитаем статистическую значимость различия средних чеков после удаления аномальных пользователей."
   ]
  },
  {
   "cell_type": "code",
   "execution_count": 32,
   "metadata": {},
   "outputs": [
    {
     "name": "stdout",
     "output_type": "stream",
     "text": [
      "P-value: 0.979\n",
      "Относительные различия: -0.017\n"
     ]
    }
   ],
   "source": [
    "print('P-value:',\n",
    "    '{0:.3f}'.format(\n",
    "        stats.mannwhitneyu(\n",
    "            orders[\n",
    "                np.logical_and(\n",
    "                    orders['group'] == 'A',\n",
    "                    np.logical_not(orders['visitor_id'].isin(abnormalUsers)),\n",
    "                )\n",
    "            ]['revenue'],\n",
    "            orders[\n",
    "                np.logical_and(\n",
    "                    orders['group'] == 'B',\n",
    "                    np.logical_not(orders['visitor_id'].isin(abnormalUsers)),\n",
    "                )\n",
    "            ]['revenue'],\n",
    "        )[1]\n",
    "    )\n",
    ")\n",
    "\n",
    "print('Относительные различия:',\n",
    "    \"{0:.3f}\".format(\n",
    "        orders[\n",
    "            np.logical_and(\n",
    "                orders['group'] == 'B',\n",
    "                np.logical_not(orders['visitor_id'].isin(abnormalUsers)),\n",
    "            )\n",
    "        ]['revenue'].mean()\n",
    "        / orders[\n",
    "            np.logical_and(\n",
    "                orders['group'] == 'A',\n",
    "                np.logical_not(orders['visitor_id'].isin(abnormalUsers)),\n",
    "            )\n",
    "        ]['revenue'].mean()\n",
    "        - 1\n",
    "    )\n",
    ") "
   ]
  },
  {
   "cell_type": "markdown",
   "metadata": {},
   "source": [
    "P-value увеличился, но и разница между сегментами сократилась с 26% до -17%. После удаления выбросов в данных меньше шума."
   ]
  },
  {
   "cell_type": "markdown",
   "metadata": {},
   "source": [
    "### Выводы"
   ]
  },
  {
   "cell_type": "markdown",
   "metadata": {},
   "source": [
    "- Есть статистически значимое различие по конверсии между группами как по сырым данным, так и после фильтрации аномалий.\n",
    "- По сырым данным нет статистически значимого различия по среднему чеку между группами, как и после удаления выбросов.\n",
    "- График различия конверсии между группами сообщает, что результаты группы B лучше группы A: имеют тенденцию к росту, либо зафиксировались около среднего значения.\n",
    "- График различия среднего чека колеблется: он-то и позволил вам найти аномалии. Сделать из этого графика определённые выводы нельзя."
   ]
  },
  {
   "cell_type": "markdown",
   "metadata": {},
   "source": [
    "Есть вариант остановить тест, признать победу группы В."
   ]
  }
 ],
 "metadata": {
  "ExecuteTimeLog": [
   {
    "duration": 4,
    "start_time": "2022-09-05T18:21:42.156Z"
   },
   {
    "duration": 3,
    "start_time": "2022-09-05T18:40:25.176Z"
   },
   {
    "duration": 438,
    "start_time": "2022-09-05T18:40:44.367Z"
   },
   {
    "duration": 74,
    "start_time": "2022-09-05T18:41:46.970Z"
   },
   {
    "duration": 13,
    "start_time": "2022-09-05T18:42:12.067Z"
   },
   {
    "duration": 17,
    "start_time": "2022-09-05T18:42:31.685Z"
   },
   {
    "duration": 11,
    "start_time": "2022-09-05T18:42:54.193Z"
   },
   {
    "duration": 9,
    "start_time": "2022-09-05T18:43:02.227Z"
   },
   {
    "duration": 3,
    "start_time": "2022-09-05T18:44:37.026Z"
   },
   {
    "duration": 3,
    "start_time": "2022-09-05T18:59:23.908Z"
   },
   {
    "duration": 78,
    "start_time": "2022-09-05T19:03:09.133Z"
   },
   {
    "duration": 15,
    "start_time": "2022-09-05T19:03:25.762Z"
   },
   {
    "duration": 12,
    "start_time": "2022-09-05T19:09:49.620Z"
   },
   {
    "duration": 13,
    "start_time": "2022-09-05T19:10:07.077Z"
   },
   {
    "duration": 2,
    "start_time": "2022-09-05T19:10:55.739Z"
   },
   {
    "duration": 11,
    "start_time": "2022-09-05T19:11:31.083Z"
   },
   {
    "duration": 452,
    "start_time": "2022-09-05T19:11:40.758Z"
   },
   {
    "duration": 28,
    "start_time": "2022-09-05T19:11:41.213Z"
   },
   {
    "duration": 15,
    "start_time": "2022-09-05T19:11:41.243Z"
   },
   {
    "duration": 19,
    "start_time": "2022-09-05T19:11:41.260Z"
   },
   {
    "duration": 3,
    "start_time": "2022-09-05T19:11:41.282Z"
   },
   {
    "duration": 35,
    "start_time": "2022-09-05T19:11:41.286Z"
   },
   {
    "duration": 13,
    "start_time": "2022-09-05T19:11:41.323Z"
   },
   {
    "duration": 17,
    "start_time": "2022-09-05T19:11:41.338Z"
   },
   {
    "duration": 427,
    "start_time": "2022-09-05T19:11:52.450Z"
   },
   {
    "duration": 37,
    "start_time": "2022-09-05T19:11:52.880Z"
   },
   {
    "duration": 21,
    "start_time": "2022-09-05T19:11:52.919Z"
   },
   {
    "duration": 21,
    "start_time": "2022-09-05T19:11:52.942Z"
   },
   {
    "duration": 4,
    "start_time": "2022-09-05T19:11:52.965Z"
   },
   {
    "duration": 27,
    "start_time": "2022-09-05T19:11:52.971Z"
   },
   {
    "duration": 96,
    "start_time": "2022-09-05T19:11:53.000Z"
   },
   {
    "duration": 0,
    "start_time": "2022-09-05T19:11:53.103Z"
   },
   {
    "duration": 403,
    "start_time": "2022-09-05T19:12:06.666Z"
   },
   {
    "duration": 36,
    "start_time": "2022-09-05T19:12:07.071Z"
   },
   {
    "duration": 13,
    "start_time": "2022-09-05T19:12:07.111Z"
   },
   {
    "duration": 24,
    "start_time": "2022-09-05T19:12:07.127Z"
   },
   {
    "duration": 4,
    "start_time": "2022-09-05T19:12:07.153Z"
   },
   {
    "duration": 18,
    "start_time": "2022-09-05T19:12:07.162Z"
   },
   {
    "duration": 90,
    "start_time": "2022-09-05T19:12:07.182Z"
   },
   {
    "duration": 0,
    "start_time": "2022-09-05T19:12:07.274Z"
   },
   {
    "duration": 13,
    "start_time": "2022-09-05T19:12:17.844Z"
   },
   {
    "duration": 10,
    "start_time": "2022-09-05T19:12:22.676Z"
   },
   {
    "duration": 12,
    "start_time": "2022-09-05T19:14:01.020Z"
   },
   {
    "duration": 14,
    "start_time": "2022-09-05T19:14:16.335Z"
   },
   {
    "duration": 126,
    "start_time": "2022-09-05T19:22:49.058Z"
   },
   {
    "duration": 9,
    "start_time": "2022-09-05T19:23:03.959Z"
   },
   {
    "duration": 97,
    "start_time": "2022-09-05T19:24:13.997Z"
   },
   {
    "duration": 13,
    "start_time": "2022-09-05T19:28:01.189Z"
   },
   {
    "duration": 11,
    "start_time": "2022-09-05T19:28:38.063Z"
   },
   {
    "duration": 78,
    "start_time": "2022-09-05T19:29:28.938Z"
   },
   {
    "duration": 8,
    "start_time": "2022-09-05T19:29:56.615Z"
   },
   {
    "duration": 6,
    "start_time": "2022-09-05T19:30:51.823Z"
   },
   {
    "duration": 433,
    "start_time": "2022-09-05T19:33:51.017Z"
   },
   {
    "duration": 30,
    "start_time": "2022-09-05T19:33:51.452Z"
   },
   {
    "duration": 11,
    "start_time": "2022-09-05T19:33:51.484Z"
   },
   {
    "duration": 25,
    "start_time": "2022-09-05T19:33:51.496Z"
   },
   {
    "duration": 3,
    "start_time": "2022-09-05T19:33:51.524Z"
   },
   {
    "duration": 27,
    "start_time": "2022-09-05T19:33:51.529Z"
   },
   {
    "duration": 34,
    "start_time": "2022-09-05T19:33:51.558Z"
   },
   {
    "duration": 22,
    "start_time": "2022-09-05T19:33:51.594Z"
   },
   {
    "duration": 53,
    "start_time": "2022-09-05T19:33:51.618Z"
   },
   {
    "duration": 12,
    "start_time": "2022-09-05T19:33:51.673Z"
   },
   {
    "duration": 397,
    "start_time": "2022-09-05T19:33:51.687Z"
   },
   {
    "duration": 0,
    "start_time": "2022-09-05T19:33:52.086Z"
   },
   {
    "duration": 0,
    "start_time": "2022-09-05T19:33:52.088Z"
   },
   {
    "duration": 0,
    "start_time": "2022-09-05T19:33:52.090Z"
   },
   {
    "duration": 3,
    "start_time": "2022-09-05T19:34:13.545Z"
   },
   {
    "duration": 434,
    "start_time": "2022-09-05T19:34:16.978Z"
   },
   {
    "duration": 30,
    "start_time": "2022-09-05T19:34:17.414Z"
   },
   {
    "duration": 12,
    "start_time": "2022-09-05T19:34:17.446Z"
   },
   {
    "duration": 32,
    "start_time": "2022-09-05T19:34:17.459Z"
   },
   {
    "duration": 17,
    "start_time": "2022-09-05T19:34:17.493Z"
   },
   {
    "duration": 21,
    "start_time": "2022-09-05T19:34:17.512Z"
   },
   {
    "duration": 28,
    "start_time": "2022-09-05T19:34:17.534Z"
   },
   {
    "duration": 22,
    "start_time": "2022-09-05T19:34:17.564Z"
   },
   {
    "duration": 62,
    "start_time": "2022-09-05T19:34:17.588Z"
   },
   {
    "duration": 8,
    "start_time": "2022-09-05T19:34:17.653Z"
   },
   {
    "duration": 34,
    "start_time": "2022-09-05T19:34:17.663Z"
   },
   {
    "duration": 36,
    "start_time": "2022-09-05T19:34:17.699Z"
   },
   {
    "duration": 9,
    "start_time": "2022-09-05T19:34:17.736Z"
   },
   {
    "duration": 379,
    "start_time": "2022-09-05T19:34:17.747Z"
   },
   {
    "duration": 7,
    "start_time": "2022-09-05T19:34:44.489Z"
   },
   {
    "duration": 12,
    "start_time": "2022-09-05T19:34:57.091Z"
   },
   {
    "duration": 62,
    "start_time": "2022-09-05T19:38:52.070Z"
   },
   {
    "duration": 192,
    "start_time": "2022-09-05T19:41:12.380Z"
   },
   {
    "duration": 279,
    "start_time": "2022-09-05T19:42:12.764Z"
   },
   {
    "duration": 12,
    "start_time": "2022-09-05T19:56:03.539Z"
   },
   {
    "duration": 424,
    "start_time": "2022-09-05T19:56:24.348Z"
   },
   {
    "duration": 290,
    "start_time": "2022-09-05T19:56:29.175Z"
   },
   {
    "duration": 215,
    "start_time": "2022-09-05T19:57:59.385Z"
   },
   {
    "duration": 211,
    "start_time": "2022-09-05T19:58:29.299Z"
   },
   {
    "duration": 231,
    "start_time": "2022-09-05T20:02:33.328Z"
   },
   {
    "duration": 185,
    "start_time": "2022-09-05T20:04:51.498Z"
   },
   {
    "duration": 724,
    "start_time": "2022-09-05T20:10:14.562Z"
   },
   {
    "duration": 29,
    "start_time": "2022-09-05T20:10:15.288Z"
   },
   {
    "duration": 13,
    "start_time": "2022-09-05T20:10:15.319Z"
   },
   {
    "duration": 22,
    "start_time": "2022-09-05T20:10:15.334Z"
   },
   {
    "duration": 11,
    "start_time": "2022-09-05T20:10:15.359Z"
   },
   {
    "duration": 20,
    "start_time": "2022-09-05T20:10:15.373Z"
   },
   {
    "duration": 16,
    "start_time": "2022-09-05T20:10:15.395Z"
   },
   {
    "duration": 17,
    "start_time": "2022-09-05T20:10:15.413Z"
   },
   {
    "duration": 53,
    "start_time": "2022-09-05T20:10:15.432Z"
   },
   {
    "duration": 8,
    "start_time": "2022-09-05T20:10:15.487Z"
   },
   {
    "duration": 26,
    "start_time": "2022-09-05T20:10:15.496Z"
   },
   {
    "duration": 29,
    "start_time": "2022-09-05T20:10:15.523Z"
   },
   {
    "duration": 10,
    "start_time": "2022-09-05T20:10:15.554Z"
   },
   {
    "duration": 26,
    "start_time": "2022-09-05T20:10:15.567Z"
   },
   {
    "duration": 17,
    "start_time": "2022-09-05T20:10:15.594Z"
   },
   {
    "duration": 303,
    "start_time": "2022-09-05T20:10:15.613Z"
   },
   {
    "duration": 334,
    "start_time": "2022-09-05T20:10:15.917Z"
   },
   {
    "duration": 245,
    "start_time": "2022-09-05T20:10:16.252Z"
   },
   {
    "duration": 631,
    "start_time": "2022-09-05T20:11:14.053Z"
   },
   {
    "duration": 28,
    "start_time": "2022-09-05T20:11:14.686Z"
   },
   {
    "duration": 11,
    "start_time": "2022-09-05T20:11:14.716Z"
   },
   {
    "duration": 24,
    "start_time": "2022-09-05T20:11:14.729Z"
   },
   {
    "duration": 7,
    "start_time": "2022-09-05T20:11:14.756Z"
   },
   {
    "duration": 21,
    "start_time": "2022-09-05T20:11:14.764Z"
   },
   {
    "duration": 11,
    "start_time": "2022-09-05T20:11:14.786Z"
   },
   {
    "duration": 18,
    "start_time": "2022-09-05T20:11:14.799Z"
   },
   {
    "duration": 45,
    "start_time": "2022-09-05T20:11:14.818Z"
   },
   {
    "duration": 7,
    "start_time": "2022-09-05T20:11:14.865Z"
   },
   {
    "duration": 25,
    "start_time": "2022-09-05T20:11:14.874Z"
   },
   {
    "duration": 35,
    "start_time": "2022-09-05T20:11:14.900Z"
   },
   {
    "duration": 7,
    "start_time": "2022-09-05T20:11:14.936Z"
   },
   {
    "duration": 14,
    "start_time": "2022-09-05T20:11:14.945Z"
   },
   {
    "duration": 15,
    "start_time": "2022-09-05T20:11:14.960Z"
   },
   {
    "duration": 302,
    "start_time": "2022-09-05T20:11:14.977Z"
   },
   {
    "duration": 292,
    "start_time": "2022-09-05T20:11:15.281Z"
   },
   {
    "duration": 191,
    "start_time": "2022-09-05T20:11:15.574Z"
   },
   {
    "duration": 324,
    "start_time": "2022-09-05T20:12:57.767Z"
   },
   {
    "duration": 658,
    "start_time": "2022-09-05T20:13:52.408Z"
   },
   {
    "duration": 28,
    "start_time": "2022-09-05T20:13:53.069Z"
   },
   {
    "duration": 13,
    "start_time": "2022-09-05T20:13:53.099Z"
   },
   {
    "duration": 21,
    "start_time": "2022-09-05T20:13:53.113Z"
   },
   {
    "duration": 13,
    "start_time": "2022-09-05T20:13:53.136Z"
   },
   {
    "duration": 16,
    "start_time": "2022-09-05T20:13:53.151Z"
   },
   {
    "duration": 24,
    "start_time": "2022-09-05T20:13:53.169Z"
   },
   {
    "duration": 25,
    "start_time": "2022-09-05T20:13:53.195Z"
   },
   {
    "duration": 52,
    "start_time": "2022-09-05T20:13:53.222Z"
   },
   {
    "duration": 8,
    "start_time": "2022-09-05T20:13:53.276Z"
   },
   {
    "duration": 26,
    "start_time": "2022-09-05T20:13:53.285Z"
   },
   {
    "duration": 33,
    "start_time": "2022-09-05T20:13:53.313Z"
   },
   {
    "duration": 8,
    "start_time": "2022-09-05T20:13:53.347Z"
   },
   {
    "duration": 12,
    "start_time": "2022-09-05T20:13:53.357Z"
   },
   {
    "duration": 14,
    "start_time": "2022-09-05T20:13:53.371Z"
   },
   {
    "duration": 321,
    "start_time": "2022-09-05T20:13:53.387Z"
   },
   {
    "duration": 306,
    "start_time": "2022-09-05T20:13:53.710Z"
   },
   {
    "duration": 210,
    "start_time": "2022-09-05T20:13:54.018Z"
   },
   {
    "duration": 299,
    "start_time": "2022-09-05T20:13:54.232Z"
   },
   {
    "duration": 907,
    "start_time": "2022-09-06T18:49:15.652Z"
   },
   {
    "duration": 86,
    "start_time": "2022-09-06T18:49:16.561Z"
   },
   {
    "duration": 13,
    "start_time": "2022-09-06T18:49:16.650Z"
   },
   {
    "duration": 23,
    "start_time": "2022-09-06T18:49:16.664Z"
   },
   {
    "duration": 7,
    "start_time": "2022-09-06T18:49:16.689Z"
   },
   {
    "duration": 26,
    "start_time": "2022-09-06T18:49:16.698Z"
   },
   {
    "duration": 20,
    "start_time": "2022-09-06T18:49:16.725Z"
   },
   {
    "duration": 39,
    "start_time": "2022-09-06T18:49:16.751Z"
   },
   {
    "duration": 141,
    "start_time": "2022-09-06T18:49:16.792Z"
   },
   {
    "duration": 13,
    "start_time": "2022-09-06T18:49:16.953Z"
   },
   {
    "duration": 22,
    "start_time": "2022-09-06T18:49:16.967Z"
   },
   {
    "duration": 93,
    "start_time": "2022-09-06T18:49:16.991Z"
   },
   {
    "duration": 9,
    "start_time": "2022-09-06T18:49:17.086Z"
   },
   {
    "duration": 79,
    "start_time": "2022-09-06T18:49:17.099Z"
   },
   {
    "duration": 15,
    "start_time": "2022-09-06T18:49:17.180Z"
   },
   {
    "duration": 343,
    "start_time": "2022-09-06T18:49:17.196Z"
   },
   {
    "duration": 287,
    "start_time": "2022-09-06T18:49:17.540Z"
   },
   {
    "duration": 212,
    "start_time": "2022-09-06T18:49:17.829Z"
   },
   {
    "duration": 291,
    "start_time": "2022-09-06T18:49:18.046Z"
   },
   {
    "duration": 346,
    "start_time": "2022-09-06T18:50:22.649Z"
   },
   {
    "duration": 145,
    "start_time": "2022-09-06T18:55:49.150Z"
   },
   {
    "duration": 197,
    "start_time": "2022-09-06T18:56:00.142Z"
   },
   {
    "duration": 174,
    "start_time": "2022-09-06T18:57:31.772Z"
   },
   {
    "duration": 158,
    "start_time": "2022-09-06T18:58:20.050Z"
   },
   {
    "duration": 185,
    "start_time": "2022-09-06T18:58:30.940Z"
   },
   {
    "duration": 187,
    "start_time": "2022-09-06T18:58:40.953Z"
   },
   {
    "duration": 175,
    "start_time": "2022-09-06T18:58:51.005Z"
   },
   {
    "duration": 214,
    "start_time": "2022-09-06T19:00:02.936Z"
   },
   {
    "duration": 368,
    "start_time": "2022-09-06T19:07:01.132Z"
   },
   {
    "duration": 303,
    "start_time": "2022-09-06T19:07:23.301Z"
   },
   {
    "duration": 377,
    "start_time": "2022-09-06T19:07:41.069Z"
   },
   {
    "duration": 301,
    "start_time": "2022-09-06T19:07:55.337Z"
   },
   {
    "duration": 255,
    "start_time": "2022-09-06T19:08:24.866Z"
   },
   {
    "duration": 4,
    "start_time": "2022-09-06T19:09:22.448Z"
   },
   {
    "duration": 318,
    "start_time": "2022-09-06T19:15:25.699Z"
   },
   {
    "duration": 606,
    "start_time": "2022-09-06T19:18:39.535Z"
   },
   {
    "duration": 29,
    "start_time": "2022-09-06T19:18:40.143Z"
   },
   {
    "duration": 10,
    "start_time": "2022-09-06T19:18:40.173Z"
   },
   {
    "duration": 17,
    "start_time": "2022-09-06T19:18:40.184Z"
   },
   {
    "duration": 3,
    "start_time": "2022-09-06T19:18:40.202Z"
   },
   {
    "duration": 14,
    "start_time": "2022-09-06T19:18:40.206Z"
   },
   {
    "duration": 29,
    "start_time": "2022-09-06T19:18:40.222Z"
   },
   {
    "duration": 17,
    "start_time": "2022-09-06T19:18:40.252Z"
   },
   {
    "duration": 55,
    "start_time": "2022-09-06T19:18:40.270Z"
   },
   {
    "duration": 8,
    "start_time": "2022-09-06T19:18:40.328Z"
   },
   {
    "duration": 25,
    "start_time": "2022-09-06T19:18:40.337Z"
   },
   {
    "duration": 78,
    "start_time": "2022-09-06T19:18:40.363Z"
   },
   {
    "duration": 7,
    "start_time": "2022-09-06T19:18:40.442Z"
   },
   {
    "duration": 10,
    "start_time": "2022-09-06T19:18:40.451Z"
   },
   {
    "duration": 32,
    "start_time": "2022-09-06T19:18:40.462Z"
   },
   {
    "duration": 314,
    "start_time": "2022-09-06T19:18:40.495Z"
   },
   {
    "duration": 247,
    "start_time": "2022-09-06T19:18:40.817Z"
   },
   {
    "duration": 178,
    "start_time": "2022-09-06T19:18:41.065Z"
   },
   {
    "duration": 256,
    "start_time": "2022-09-06T19:18:41.245Z"
   },
   {
    "duration": 229,
    "start_time": "2022-09-06T19:18:41.502Z"
   },
   {
    "duration": 7,
    "start_time": "2022-09-06T19:18:41.733Z"
   },
   {
    "duration": 358,
    "start_time": "2022-09-06T19:18:41.741Z"
   },
   {
    "duration": 830,
    "start_time": "2022-09-08T10:13:45.216Z"
   },
   {
    "duration": 62,
    "start_time": "2022-09-08T10:13:46.048Z"
   },
   {
    "duration": 12,
    "start_time": "2022-09-08T10:13:46.111Z"
   },
   {
    "duration": 28,
    "start_time": "2022-09-08T10:13:46.125Z"
   },
   {
    "duration": 3,
    "start_time": "2022-09-08T10:13:46.154Z"
   },
   {
    "duration": 21,
    "start_time": "2022-09-08T10:13:46.158Z"
   },
   {
    "duration": 17,
    "start_time": "2022-09-08T10:13:46.180Z"
   },
   {
    "duration": 34,
    "start_time": "2022-09-08T10:13:46.198Z"
   },
   {
    "duration": 115,
    "start_time": "2022-09-08T10:13:46.234Z"
   },
   {
    "duration": 7,
    "start_time": "2022-09-08T10:13:46.352Z"
   },
   {
    "duration": 21,
    "start_time": "2022-09-08T10:13:46.360Z"
   },
   {
    "duration": 82,
    "start_time": "2022-09-08T10:13:46.382Z"
   },
   {
    "duration": 7,
    "start_time": "2022-09-08T10:13:46.466Z"
   },
   {
    "duration": 23,
    "start_time": "2022-09-08T10:13:46.474Z"
   },
   {
    "duration": 26,
    "start_time": "2022-09-08T10:13:46.499Z"
   },
   {
    "duration": 261,
    "start_time": "2022-09-08T10:13:46.526Z"
   },
   {
    "duration": 247,
    "start_time": "2022-09-08T10:13:46.789Z"
   },
   {
    "duration": 173,
    "start_time": "2022-09-08T10:13:47.038Z"
   },
   {
    "duration": 321,
    "start_time": "2022-09-08T10:13:47.212Z"
   },
   {
    "duration": 212,
    "start_time": "2022-09-08T10:13:47.534Z"
   },
   {
    "duration": 5,
    "start_time": "2022-09-08T10:13:47.747Z"
   },
   {
    "duration": 355,
    "start_time": "2022-09-08T10:13:47.754Z"
   },
   {
    "duration": 273,
    "start_time": "2022-09-08T10:14:01.238Z"
   },
   {
    "duration": 318,
    "start_time": "2022-09-08T10:15:40.206Z"
   },
   {
    "duration": 360,
    "start_time": "2022-09-08T10:17:00.191Z"
   },
   {
    "duration": 302,
    "start_time": "2022-09-08T10:17:33.871Z"
   },
   {
    "duration": 278,
    "start_time": "2022-09-08T10:17:58.342Z"
   },
   {
    "duration": 636,
    "start_time": "2022-09-08T10:18:04.058Z"
   },
   {
    "duration": 37,
    "start_time": "2022-09-08T10:18:04.696Z"
   },
   {
    "duration": 11,
    "start_time": "2022-09-08T10:18:04.734Z"
   },
   {
    "duration": 10,
    "start_time": "2022-09-08T10:18:04.746Z"
   },
   {
    "duration": 3,
    "start_time": "2022-09-08T10:18:04.758Z"
   },
   {
    "duration": 16,
    "start_time": "2022-09-08T10:18:04.762Z"
   },
   {
    "duration": 10,
    "start_time": "2022-09-08T10:18:04.779Z"
   },
   {
    "duration": 15,
    "start_time": "2022-09-08T10:18:04.791Z"
   },
   {
    "duration": 54,
    "start_time": "2022-09-08T10:18:04.811Z"
   },
   {
    "duration": 7,
    "start_time": "2022-09-08T10:18:04.867Z"
   },
   {
    "duration": 17,
    "start_time": "2022-09-08T10:18:04.875Z"
   },
   {
    "duration": 27,
    "start_time": "2022-09-08T10:18:04.894Z"
   },
   {
    "duration": 7,
    "start_time": "2022-09-08T10:18:04.923Z"
   },
   {
    "duration": 7,
    "start_time": "2022-09-08T10:18:04.933Z"
   },
   {
    "duration": 16,
    "start_time": "2022-09-08T10:18:04.941Z"
   },
   {
    "duration": 290,
    "start_time": "2022-09-08T10:18:04.958Z"
   },
   {
    "duration": 265,
    "start_time": "2022-09-08T10:18:05.249Z"
   },
   {
    "duration": 185,
    "start_time": "2022-09-08T10:18:05.515Z"
   },
   {
    "duration": 285,
    "start_time": "2022-09-08T10:18:05.702Z"
   },
   {
    "duration": 244,
    "start_time": "2022-09-08T10:18:05.989Z"
   },
   {
    "duration": 5,
    "start_time": "2022-09-08T10:18:06.234Z"
   },
   {
    "duration": 386,
    "start_time": "2022-09-08T10:18:06.240Z"
   },
   {
    "duration": 280,
    "start_time": "2022-09-08T10:18:17.458Z"
   },
   {
    "duration": 298,
    "start_time": "2022-09-08T10:20:10.625Z"
   },
   {
    "duration": 241,
    "start_time": "2022-09-08T10:21:07.548Z"
   },
   {
    "duration": 259,
    "start_time": "2022-09-08T10:21:20.244Z"
   },
   {
    "duration": 240,
    "start_time": "2022-09-08T10:21:25.443Z"
   },
   {
    "duration": 667,
    "start_time": "2022-09-08T10:23:43.991Z"
   },
   {
    "duration": 28,
    "start_time": "2022-09-08T10:23:44.660Z"
   },
   {
    "duration": 12,
    "start_time": "2022-09-08T10:23:44.690Z"
   },
   {
    "duration": 44,
    "start_time": "2022-09-08T10:23:44.705Z"
   },
   {
    "duration": 14,
    "start_time": "2022-09-08T10:23:44.752Z"
   },
   {
    "duration": 22,
    "start_time": "2022-09-08T10:23:44.768Z"
   },
   {
    "duration": 29,
    "start_time": "2022-09-08T10:23:44.792Z"
   },
   {
    "duration": 23,
    "start_time": "2022-09-08T10:23:44.823Z"
   },
   {
    "duration": 57,
    "start_time": "2022-09-08T10:23:44.848Z"
   },
   {
    "duration": 12,
    "start_time": "2022-09-08T10:23:44.907Z"
   },
   {
    "duration": 19,
    "start_time": "2022-09-08T10:23:44.920Z"
   },
   {
    "duration": 25,
    "start_time": "2022-09-08T10:23:44.940Z"
   },
   {
    "duration": 7,
    "start_time": "2022-09-08T10:23:44.967Z"
   },
   {
    "duration": 8,
    "start_time": "2022-09-08T10:23:44.976Z"
   },
   {
    "duration": 36,
    "start_time": "2022-09-08T10:23:44.985Z"
   },
   {
    "duration": 311,
    "start_time": "2022-09-08T10:23:45.023Z"
   },
   {
    "duration": 296,
    "start_time": "2022-09-08T10:23:45.335Z"
   },
   {
    "duration": 195,
    "start_time": "2022-09-08T10:23:45.633Z"
   },
   {
    "duration": 273,
    "start_time": "2022-09-08T10:23:45.832Z"
   },
   {
    "duration": 264,
    "start_time": "2022-09-08T10:23:46.106Z"
   },
   {
    "duration": 5,
    "start_time": "2022-09-08T10:23:46.371Z"
   },
   {
    "duration": 334,
    "start_time": "2022-09-08T10:23:46.377Z"
   },
   {
    "duration": 233,
    "start_time": "2022-09-08T10:24:16.948Z"
   },
   {
    "duration": 352,
    "start_time": "2022-09-08T10:25:01.891Z"
   },
   {
    "duration": 77,
    "start_time": "2022-09-08T10:31:43.345Z"
   },
   {
    "duration": 114,
    "start_time": "2022-09-08T10:34:08.783Z"
   },
   {
    "duration": 118,
    "start_time": "2022-09-08T10:36:52.553Z"
   },
   {
    "duration": 6,
    "start_time": "2022-09-08T10:44:59.080Z"
   },
   {
    "duration": 755,
    "start_time": "2022-09-08T13:03:12.881Z"
   },
   {
    "duration": 27,
    "start_time": "2022-09-08T13:03:13.638Z"
   },
   {
    "duration": 12,
    "start_time": "2022-09-08T13:03:13.668Z"
   },
   {
    "duration": 25,
    "start_time": "2022-09-08T13:03:13.682Z"
   },
   {
    "duration": 7,
    "start_time": "2022-09-08T13:03:13.709Z"
   },
   {
    "duration": 16,
    "start_time": "2022-09-08T13:03:13.717Z"
   },
   {
    "duration": 11,
    "start_time": "2022-09-08T13:03:13.735Z"
   },
   {
    "duration": 28,
    "start_time": "2022-09-08T13:03:13.748Z"
   },
   {
    "duration": 52,
    "start_time": "2022-09-08T13:03:13.777Z"
   },
   {
    "duration": 8,
    "start_time": "2022-09-08T13:03:13.830Z"
   },
   {
    "duration": 18,
    "start_time": "2022-09-08T13:03:13.840Z"
   },
   {
    "duration": 27,
    "start_time": "2022-09-08T13:03:13.860Z"
   },
   {
    "duration": 7,
    "start_time": "2022-09-08T13:03:13.889Z"
   },
   {
    "duration": 21,
    "start_time": "2022-09-08T13:03:13.897Z"
   },
   {
    "duration": 18,
    "start_time": "2022-09-08T13:03:13.919Z"
   },
   {
    "duration": 260,
    "start_time": "2022-09-08T13:03:13.938Z"
   },
   {
    "duration": 279,
    "start_time": "2022-09-08T13:03:14.200Z"
   },
   {
    "duration": 204,
    "start_time": "2022-09-08T13:03:14.481Z"
   },
   {
    "duration": 288,
    "start_time": "2022-09-08T13:03:14.686Z"
   },
   {
    "duration": 225,
    "start_time": "2022-09-08T13:03:14.976Z"
   },
   {
    "duration": 286,
    "start_time": "2022-09-08T13:03:15.202Z"
   },
   {
    "duration": 125,
    "start_time": "2022-09-08T13:03:15.490Z"
   },
   {
    "duration": 7,
    "start_time": "2022-09-08T13:03:15.616Z"
   },
   {
    "duration": 162,
    "start_time": "2022-09-08T13:06:03.890Z"
   },
   {
    "duration": 122,
    "start_time": "2022-09-08T13:06:35.937Z"
   },
   {
    "duration": 121,
    "start_time": "2022-09-08T13:07:44.721Z"
   },
   {
    "duration": 7,
    "start_time": "2022-09-08T13:13:23.584Z"
   },
   {
    "duration": 144,
    "start_time": "2022-09-08T13:25:09.084Z"
   },
   {
    "duration": 1150,
    "start_time": "2022-09-08T13:25:43.687Z"
   },
   {
    "duration": 98,
    "start_time": "2022-09-08T13:27:45.218Z"
   },
   {
    "duration": 89,
    "start_time": "2022-09-08T13:28:04.683Z"
   },
   {
    "duration": 92,
    "start_time": "2022-09-08T13:28:53.950Z"
   },
   {
    "duration": 166,
    "start_time": "2022-09-08T13:30:05.753Z"
   },
   {
    "duration": 19,
    "start_time": "2022-09-08T13:30:37.066Z"
   },
   {
    "duration": 1390,
    "start_time": "2022-09-08T13:31:14.701Z"
   },
   {
    "duration": 157,
    "start_time": "2022-09-08T13:31:28.382Z"
   },
   {
    "duration": 462,
    "start_time": "2022-09-08T13:31:55.396Z"
   },
   {
    "duration": 144,
    "start_time": "2022-09-08T13:31:59.589Z"
   },
   {
    "duration": 152,
    "start_time": "2022-09-08T13:32:10.986Z"
   },
   {
    "duration": 1205,
    "start_time": "2022-09-08T13:50:05.917Z"
   },
   {
    "duration": 17,
    "start_time": "2022-09-08T13:50:43.549Z"
   },
   {
    "duration": 1083,
    "start_time": "2022-09-08T13:51:57.710Z"
   },
   {
    "duration": 27,
    "start_time": "2022-09-08T13:51:58.796Z"
   },
   {
    "duration": 12,
    "start_time": "2022-09-08T13:51:58.824Z"
   },
   {
    "duration": 11,
    "start_time": "2022-09-08T13:51:58.838Z"
   },
   {
    "duration": 5,
    "start_time": "2022-09-08T13:51:58.850Z"
   },
   {
    "duration": 16,
    "start_time": "2022-09-08T13:51:58.857Z"
   },
   {
    "duration": 11,
    "start_time": "2022-09-08T13:51:58.875Z"
   },
   {
    "duration": 26,
    "start_time": "2022-09-08T13:51:58.887Z"
   },
   {
    "duration": 50,
    "start_time": "2022-09-08T13:51:58.914Z"
   },
   {
    "duration": 7,
    "start_time": "2022-09-08T13:51:58.967Z"
   },
   {
    "duration": 23,
    "start_time": "2022-09-08T13:51:58.976Z"
   },
   {
    "duration": 28,
    "start_time": "2022-09-08T13:51:59.001Z"
   },
   {
    "duration": 9,
    "start_time": "2022-09-08T13:51:59.031Z"
   },
   {
    "duration": 9,
    "start_time": "2022-09-08T13:51:59.042Z"
   },
   {
    "duration": 18,
    "start_time": "2022-09-08T13:51:59.052Z"
   },
   {
    "duration": 324,
    "start_time": "2022-09-08T13:51:59.073Z"
   },
   {
    "duration": 256,
    "start_time": "2022-09-08T13:51:59.398Z"
   },
   {
    "duration": 176,
    "start_time": "2022-09-08T13:51:59.656Z"
   },
   {
    "duration": 285,
    "start_time": "2022-09-08T13:51:59.834Z"
   },
   {
    "duration": 188,
    "start_time": "2022-09-08T13:52:00.121Z"
   },
   {
    "duration": 304,
    "start_time": "2022-09-08T13:52:00.311Z"
   },
   {
    "duration": 145,
    "start_time": "2022-09-08T13:52:00.617Z"
   },
   {
    "duration": 8,
    "start_time": "2022-09-08T13:52:00.764Z"
   },
   {
    "duration": 170,
    "start_time": "2022-09-08T13:52:00.773Z"
   },
   {
    "duration": 7,
    "start_time": "2022-09-08T13:52:00.945Z"
   },
   {
    "duration": 218,
    "start_time": "2022-09-08T13:52:00.953Z"
   },
   {
    "duration": 19,
    "start_time": "2022-09-08T13:52:01.173Z"
   },
   {
    "duration": 176,
    "start_time": "2022-09-08T13:52:01.194Z"
   },
   {
    "duration": 9,
    "start_time": "2022-09-08T13:52:01.372Z"
   },
   {
    "duration": 1226,
    "start_time": "2022-09-08T13:59:55.058Z"
   },
   {
    "duration": 8,
    "start_time": "2022-09-08T14:00:03.611Z"
   },
   {
    "duration": 1146,
    "start_time": "2022-09-08T14:10:23.793Z"
   },
   {
    "duration": 26,
    "start_time": "2022-09-08T14:10:43.218Z"
   },
   {
    "duration": 13,
    "start_time": "2022-09-08T14:13:19.175Z"
   },
   {
    "duration": 1202,
    "start_time": "2022-09-08T14:34:06.164Z"
   },
   {
    "duration": 27,
    "start_time": "2022-09-08T14:34:07.369Z"
   },
   {
    "duration": 12,
    "start_time": "2022-09-08T14:34:07.397Z"
   },
   {
    "duration": 12,
    "start_time": "2022-09-08T14:34:07.411Z"
   },
   {
    "duration": 4,
    "start_time": "2022-09-08T14:34:07.424Z"
   },
   {
    "duration": 17,
    "start_time": "2022-09-08T14:34:07.430Z"
   },
   {
    "duration": 11,
    "start_time": "2022-09-08T14:34:07.448Z"
   },
   {
    "duration": 12,
    "start_time": "2022-09-08T14:34:07.461Z"
   },
   {
    "duration": 45,
    "start_time": "2022-09-08T14:34:07.475Z"
   },
   {
    "duration": 7,
    "start_time": "2022-09-08T14:34:07.521Z"
   },
   {
    "duration": 17,
    "start_time": "2022-09-08T14:34:07.530Z"
   },
   {
    "duration": 20,
    "start_time": "2022-09-08T14:34:07.549Z"
   },
   {
    "duration": 6,
    "start_time": "2022-09-08T14:34:07.571Z"
   },
   {
    "duration": 6,
    "start_time": "2022-09-08T14:34:07.579Z"
   },
   {
    "duration": 29,
    "start_time": "2022-09-08T14:34:07.587Z"
   },
   {
    "duration": 302,
    "start_time": "2022-09-08T14:34:07.617Z"
   },
   {
    "duration": 266,
    "start_time": "2022-09-08T14:34:07.921Z"
   },
   {
    "duration": 191,
    "start_time": "2022-09-08T14:34:08.189Z"
   },
   {
    "duration": 303,
    "start_time": "2022-09-08T14:34:08.381Z"
   },
   {
    "duration": 192,
    "start_time": "2022-09-08T14:34:08.686Z"
   },
   {
    "duration": 323,
    "start_time": "2022-09-08T14:34:08.880Z"
   },
   {
    "duration": 151,
    "start_time": "2022-09-08T14:34:09.204Z"
   },
   {
    "duration": 6,
    "start_time": "2022-09-08T14:34:09.357Z"
   },
   {
    "duration": 139,
    "start_time": "2022-09-08T14:34:09.364Z"
   },
   {
    "duration": 6,
    "start_time": "2022-09-08T14:34:09.509Z"
   },
   {
    "duration": 182,
    "start_time": "2022-09-08T14:34:09.517Z"
   },
   {
    "duration": 25,
    "start_time": "2022-09-08T14:34:09.701Z"
   },
   {
    "duration": 165,
    "start_time": "2022-09-08T14:34:09.728Z"
   },
   {
    "duration": 19,
    "start_time": "2022-09-08T14:34:09.894Z"
   },
   {
    "duration": 7,
    "start_time": "2022-09-08T14:34:09.915Z"
   },
   {
    "duration": 28,
    "start_time": "2022-09-08T14:34:09.923Z"
   },
   {
    "duration": 13,
    "start_time": "2022-09-08T14:34:09.952Z"
   },
   {
    "duration": 1135,
    "start_time": "2022-09-08T15:54:44.145Z"
   },
   {
    "duration": 29,
    "start_time": "2022-09-08T15:54:45.282Z"
   },
   {
    "duration": 14,
    "start_time": "2022-09-08T15:54:45.313Z"
   },
   {
    "duration": 19,
    "start_time": "2022-09-08T15:54:45.329Z"
   },
   {
    "duration": 3,
    "start_time": "2022-09-08T15:54:45.350Z"
   },
   {
    "duration": 17,
    "start_time": "2022-09-08T15:54:45.355Z"
   },
   {
    "duration": 18,
    "start_time": "2022-09-08T15:54:45.374Z"
   },
   {
    "duration": 18,
    "start_time": "2022-09-08T15:54:45.394Z"
   },
   {
    "duration": 47,
    "start_time": "2022-09-08T15:54:45.414Z"
   },
   {
    "duration": 8,
    "start_time": "2022-09-08T15:54:45.464Z"
   },
   {
    "duration": 18,
    "start_time": "2022-09-08T15:54:45.473Z"
   },
   {
    "duration": 30,
    "start_time": "2022-09-08T15:54:45.493Z"
   },
   {
    "duration": 7,
    "start_time": "2022-09-08T15:54:45.524Z"
   },
   {
    "duration": 9,
    "start_time": "2022-09-08T15:54:45.533Z"
   },
   {
    "duration": 13,
    "start_time": "2022-09-08T15:54:45.544Z"
   },
   {
    "duration": 337,
    "start_time": "2022-09-08T15:54:45.559Z"
   },
   {
    "duration": 334,
    "start_time": "2022-09-08T15:54:45.898Z"
   },
   {
    "duration": 242,
    "start_time": "2022-09-08T15:54:46.234Z"
   },
   {
    "duration": 342,
    "start_time": "2022-09-08T15:54:46.478Z"
   },
   {
    "duration": 224,
    "start_time": "2022-09-08T15:54:46.822Z"
   },
   {
    "duration": 293,
    "start_time": "2022-09-08T15:54:47.047Z"
   },
   {
    "duration": 150,
    "start_time": "2022-09-08T15:54:47.342Z"
   },
   {
    "duration": 9,
    "start_time": "2022-09-08T15:54:47.494Z"
   },
   {
    "duration": 166,
    "start_time": "2022-09-08T15:54:47.505Z"
   },
   {
    "duration": 22,
    "start_time": "2022-09-08T15:54:47.673Z"
   },
   {
    "duration": 227,
    "start_time": "2022-09-08T15:54:47.697Z"
   },
   {
    "duration": 24,
    "start_time": "2022-09-08T15:54:47.926Z"
   },
   {
    "duration": 196,
    "start_time": "2022-09-08T15:54:47.955Z"
   },
   {
    "duration": 12,
    "start_time": "2022-09-08T15:54:48.153Z"
   },
   {
    "duration": 28,
    "start_time": "2022-09-08T15:54:48.167Z"
   },
   {
    "duration": 39,
    "start_time": "2022-09-08T15:54:48.197Z"
   },
   {
    "duration": 16,
    "start_time": "2022-09-08T15:54:48.238Z"
   },
   {
    "duration": 1231,
    "start_time": "2022-09-08T15:55:01.001Z"
   },
   {
    "duration": 27,
    "start_time": "2022-09-08T15:55:02.235Z"
   },
   {
    "duration": 14,
    "start_time": "2022-09-08T15:55:02.264Z"
   },
   {
    "duration": 39,
    "start_time": "2022-09-08T15:55:02.280Z"
   },
   {
    "duration": 4,
    "start_time": "2022-09-08T15:55:02.321Z"
   },
   {
    "duration": 29,
    "start_time": "2022-09-08T15:55:02.326Z"
   },
   {
    "duration": 14,
    "start_time": "2022-09-08T15:55:02.356Z"
   },
   {
    "duration": 18,
    "start_time": "2022-09-08T15:55:02.371Z"
   },
   {
    "duration": 73,
    "start_time": "2022-09-08T15:55:02.391Z"
   },
   {
    "duration": 8,
    "start_time": "2022-09-08T15:55:02.467Z"
   },
   {
    "duration": 43,
    "start_time": "2022-09-08T15:55:02.477Z"
   },
   {
    "duration": 34,
    "start_time": "2022-09-08T15:55:02.521Z"
   },
   {
    "duration": 8,
    "start_time": "2022-09-08T15:55:02.557Z"
   },
   {
    "duration": 10,
    "start_time": "2022-09-08T15:55:02.567Z"
   },
   {
    "duration": 18,
    "start_time": "2022-09-08T15:55:02.579Z"
   },
   {
    "duration": 350,
    "start_time": "2022-09-08T15:55:02.599Z"
   },
   {
    "duration": 318,
    "start_time": "2022-09-08T15:55:02.951Z"
   },
   {
    "duration": 221,
    "start_time": "2022-09-08T15:55:03.271Z"
   },
   {
    "duration": 345,
    "start_time": "2022-09-08T15:55:03.494Z"
   },
   {
    "duration": 251,
    "start_time": "2022-09-08T15:55:03.840Z"
   },
   {
    "duration": 333,
    "start_time": "2022-09-08T15:55:04.094Z"
   },
   {
    "duration": 161,
    "start_time": "2022-09-08T15:55:04.429Z"
   },
   {
    "duration": 8,
    "start_time": "2022-09-08T15:55:04.592Z"
   },
   {
    "duration": 176,
    "start_time": "2022-09-08T15:55:04.602Z"
   },
   {
    "duration": 15,
    "start_time": "2022-09-08T15:55:04.780Z"
   },
   {
    "duration": 240,
    "start_time": "2022-09-08T15:55:04.797Z"
   },
   {
    "duration": 22,
    "start_time": "2022-09-08T15:55:05.039Z"
   },
   {
    "duration": 195,
    "start_time": "2022-09-08T15:55:05.066Z"
   },
   {
    "duration": 12,
    "start_time": "2022-09-08T15:55:05.264Z"
   },
   {
    "duration": 19,
    "start_time": "2022-09-08T15:55:05.292Z"
   },
   {
    "duration": 82,
    "start_time": "2022-09-08T15:55:05.313Z"
   },
   {
    "duration": 17,
    "start_time": "2022-09-08T15:55:05.398Z"
   },
   {
    "duration": 55,
    "start_time": "2022-09-08T17:27:10.622Z"
   },
   {
    "duration": 1247,
    "start_time": "2022-09-08T17:27:30.546Z"
   },
   {
    "duration": 66,
    "start_time": "2022-09-08T17:27:31.795Z"
   },
   {
    "duration": 13,
    "start_time": "2022-09-08T17:27:31.863Z"
   },
   {
    "duration": 15,
    "start_time": "2022-09-08T17:27:31.878Z"
   },
   {
    "duration": 9,
    "start_time": "2022-09-08T17:27:31.894Z"
   },
   {
    "duration": 15,
    "start_time": "2022-09-08T17:27:31.905Z"
   },
   {
    "duration": 14,
    "start_time": "2022-09-08T17:27:31.922Z"
   },
   {
    "duration": 15,
    "start_time": "2022-09-08T17:27:31.938Z"
   },
   {
    "duration": 94,
    "start_time": "2022-09-08T17:27:31.955Z"
   },
   {
    "duration": 8,
    "start_time": "2022-09-08T17:27:32.052Z"
   },
   {
    "duration": 21,
    "start_time": "2022-09-08T17:27:32.061Z"
   },
   {
    "duration": 65,
    "start_time": "2022-09-08T17:27:32.084Z"
   },
   {
    "duration": 8,
    "start_time": "2022-09-08T17:27:32.150Z"
   },
   {
    "duration": 8,
    "start_time": "2022-09-08T17:27:32.159Z"
   },
   {
    "duration": 13,
    "start_time": "2022-09-08T17:27:32.168Z"
   },
   {
    "duration": 313,
    "start_time": "2022-09-08T17:27:32.182Z"
   },
   {
    "duration": 315,
    "start_time": "2022-09-08T17:27:32.497Z"
   },
   {
    "duration": 199,
    "start_time": "2022-09-08T17:27:32.814Z"
   },
   {
    "duration": 353,
    "start_time": "2022-09-08T17:27:33.015Z"
   },
   {
    "duration": 213,
    "start_time": "2022-09-08T17:27:33.370Z"
   },
   {
    "duration": 321,
    "start_time": "2022-09-08T17:27:33.585Z"
   },
   {
    "duration": 148,
    "start_time": "2022-09-08T17:27:33.907Z"
   },
   {
    "duration": 8,
    "start_time": "2022-09-08T17:27:34.057Z"
   },
   {
    "duration": 170,
    "start_time": "2022-09-08T17:27:34.067Z"
   },
   {
    "duration": 8,
    "start_time": "2022-09-08T17:27:34.238Z"
   },
   {
    "duration": 233,
    "start_time": "2022-09-08T17:27:34.248Z"
   },
   {
    "duration": 21,
    "start_time": "2022-09-08T17:27:34.483Z"
   },
   {
    "duration": 169,
    "start_time": "2022-09-08T17:27:34.520Z"
   },
   {
    "duration": 10,
    "start_time": "2022-09-08T17:27:34.691Z"
   },
   {
    "duration": 21,
    "start_time": "2022-09-08T17:27:34.703Z"
   },
   {
    "duration": 31,
    "start_time": "2022-09-08T17:27:34.726Z"
   },
   {
    "duration": 15,
    "start_time": "2022-09-08T17:27:34.759Z"
   },
   {
    "duration": 65,
    "start_time": "2022-09-08T17:29:58.166Z"
   },
   {
    "duration": 314,
    "start_time": "2022-09-08T17:32:33.806Z"
   },
   {
    "duration": 281,
    "start_time": "2022-09-08T17:32:40.570Z"
   },
   {
    "duration": 150,
    "start_time": "2022-09-08T18:14:56.936Z"
   },
   {
    "duration": 175,
    "start_time": "2022-09-08T18:15:47.325Z"
   },
   {
    "duration": 1118,
    "start_time": "2022-09-08T18:17:57.787Z"
   },
   {
    "duration": 30,
    "start_time": "2022-09-08T18:17:58.909Z"
   },
   {
    "duration": 15,
    "start_time": "2022-09-08T18:17:58.941Z"
   },
   {
    "duration": 41,
    "start_time": "2022-09-08T18:17:58.959Z"
   },
   {
    "duration": 20,
    "start_time": "2022-09-08T18:17:59.003Z"
   },
   {
    "duration": 35,
    "start_time": "2022-09-08T18:17:59.025Z"
   },
   {
    "duration": 26,
    "start_time": "2022-09-08T18:17:59.062Z"
   },
   {
    "duration": 34,
    "start_time": "2022-09-08T18:17:59.090Z"
   },
   {
    "duration": 65,
    "start_time": "2022-09-08T18:17:59.127Z"
   },
   {
    "duration": 9,
    "start_time": "2022-09-08T18:17:59.195Z"
   },
   {
    "duration": 48,
    "start_time": "2022-09-08T18:17:59.206Z"
   },
   {
    "duration": 44,
    "start_time": "2022-09-08T18:17:59.256Z"
   },
   {
    "duration": 7,
    "start_time": "2022-09-08T18:17:59.302Z"
   },
   {
    "duration": 28,
    "start_time": "2022-09-08T18:17:59.311Z"
   },
   {
    "duration": 31,
    "start_time": "2022-09-08T18:17:59.341Z"
   },
   {
    "duration": 315,
    "start_time": "2022-09-08T18:17:59.374Z"
   },
   {
    "duration": 308,
    "start_time": "2022-09-08T18:17:59.692Z"
   },
   {
    "duration": 212,
    "start_time": "2022-09-08T18:18:00.002Z"
   },
   {
    "duration": 312,
    "start_time": "2022-09-08T18:18:00.220Z"
   },
   {
    "duration": 225,
    "start_time": "2022-09-08T18:18:00.534Z"
   },
   {
    "duration": 293,
    "start_time": "2022-09-08T18:18:00.761Z"
   },
   {
    "duration": 146,
    "start_time": "2022-09-08T18:18:01.056Z"
   },
   {
    "duration": 17,
    "start_time": "2022-09-08T18:18:01.204Z"
   },
   {
    "duration": 191,
    "start_time": "2022-09-08T18:18:01.223Z"
   },
   {
    "duration": 10,
    "start_time": "2022-09-08T18:18:01.416Z"
   },
   {
    "duration": 242,
    "start_time": "2022-09-08T18:18:01.428Z"
   },
   {
    "duration": 22,
    "start_time": "2022-09-08T18:18:01.672Z"
   },
   {
    "duration": 225,
    "start_time": "2022-09-08T18:18:01.697Z"
   },
   {
    "duration": 12,
    "start_time": "2022-09-08T18:18:01.924Z"
   },
   {
    "duration": 8,
    "start_time": "2022-09-08T18:18:01.938Z"
   },
   {
    "duration": 32,
    "start_time": "2022-09-08T18:18:01.947Z"
   },
   {
    "duration": 14,
    "start_time": "2022-09-08T18:18:01.981Z"
   },
   {
    "duration": 1230,
    "start_time": "2022-09-09T06:47:04.361Z"
   },
   {
    "duration": 83,
    "start_time": "2022-09-09T06:47:05.593Z"
   },
   {
    "duration": 12,
    "start_time": "2022-09-09T06:47:05.677Z"
   },
   {
    "duration": 15,
    "start_time": "2022-09-09T06:47:05.691Z"
   },
   {
    "duration": 2,
    "start_time": "2022-09-09T06:47:05.708Z"
   },
   {
    "duration": 17,
    "start_time": "2022-09-09T06:47:05.712Z"
   },
   {
    "duration": 10,
    "start_time": "2022-09-09T06:47:05.731Z"
   },
   {
    "duration": 13,
    "start_time": "2022-09-09T06:47:05.743Z"
   },
   {
    "duration": 81,
    "start_time": "2022-09-09T06:47:05.758Z"
   },
   {
    "duration": 7,
    "start_time": "2022-09-09T06:47:05.842Z"
   },
   {
    "duration": 19,
    "start_time": "2022-09-09T06:47:05.851Z"
   },
   {
    "duration": 64,
    "start_time": "2022-09-09T06:47:05.872Z"
   },
   {
    "duration": 7,
    "start_time": "2022-09-09T06:47:05.937Z"
   },
   {
    "duration": 8,
    "start_time": "2022-09-09T06:47:05.945Z"
   },
   {
    "duration": 12,
    "start_time": "2022-09-09T06:47:05.954Z"
   },
   {
    "duration": 289,
    "start_time": "2022-09-09T06:47:05.967Z"
   },
   {
    "duration": 252,
    "start_time": "2022-09-09T06:47:06.258Z"
   },
   {
    "duration": 173,
    "start_time": "2022-09-09T06:47:06.512Z"
   },
   {
    "duration": 293,
    "start_time": "2022-09-09T06:47:06.686Z"
   },
   {
    "duration": 175,
    "start_time": "2022-09-09T06:47:06.981Z"
   },
   {
    "duration": 273,
    "start_time": "2022-09-09T06:47:07.158Z"
   },
   {
    "duration": 119,
    "start_time": "2022-09-09T06:47:07.432Z"
   },
   {
    "duration": 5,
    "start_time": "2022-09-09T06:47:07.555Z"
   },
   {
    "duration": 129,
    "start_time": "2022-09-09T06:47:07.562Z"
   },
   {
    "duration": 7,
    "start_time": "2022-09-09T06:47:07.692Z"
   },
   {
    "duration": 192,
    "start_time": "2022-09-09T06:47:07.700Z"
   },
   {
    "duration": 18,
    "start_time": "2022-09-09T06:47:07.893Z"
   },
   {
    "duration": 165,
    "start_time": "2022-09-09T06:47:07.913Z"
   },
   {
    "duration": 9,
    "start_time": "2022-09-09T06:47:08.079Z"
   },
   {
    "duration": 6,
    "start_time": "2022-09-09T06:47:08.090Z"
   },
   {
    "duration": 26,
    "start_time": "2022-09-09T06:47:08.097Z"
   },
   {
    "duration": 30,
    "start_time": "2022-09-09T06:47:08.125Z"
   }
  ],
  "kernelspec": {
   "display_name": "Python 3 (ipykernel)",
   "language": "python",
   "name": "python3"
  },
  "language_info": {
   "codemirror_mode": {
    "name": "ipython",
    "version": 3
   },
   "file_extension": ".py",
   "mimetype": "text/x-python",
   "name": "python",
   "nbconvert_exporter": "python",
   "pygments_lexer": "ipython3",
   "version": "3.9.7"
  },
  "toc": {
   "base_numbering": 1,
   "nav_menu": {},
   "number_sections": true,
   "sideBar": true,
   "skip_h1_title": true,
   "title_cell": "Содержание",
   "title_sidebar": "Contents",
   "toc_cell": true,
   "toc_position": {},
   "toc_section_display": true,
   "toc_window_display": false
  }
 },
 "nbformat": 4,
 "nbformat_minor": 2
}
