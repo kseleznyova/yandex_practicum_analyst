{
 "cells": [
  {
   "cell_type": "markdown",
   "metadata": {
    "toc": true
   },
   "source": [
    "<h1>Содержание<span class=\"tocSkip\"></span></h1>\n",
    "<div class=\"toc\"><ul class=\"toc-item\"><li><span><a href=\"#Изучение-данных-из-файла\" data-toc-modified-id=\"Изучение-данных-из-файла-1\"><span class=\"toc-item-num\">1&nbsp;&nbsp;</span>Изучение данных из файла</a></span><ul class=\"toc-item\"><li><span><a href=\"#Вывод\" data-toc-modified-id=\"Вывод-1.1\"><span class=\"toc-item-num\">1.1&nbsp;&nbsp;</span>Вывод</a></span></li></ul></li><li><span><a href=\"#Предобработка-данных\" data-toc-modified-id=\"Предобработка-данных-2\"><span class=\"toc-item-num\">2&nbsp;&nbsp;</span>Предобработка данных</a></span><ul class=\"toc-item\"><li><span><a href=\"#Вывод\" data-toc-modified-id=\"Вывод-2.1\"><span class=\"toc-item-num\">2.1&nbsp;&nbsp;</span>Вывод</a></span></li></ul></li><li><span><a href=\"#Расчёты-и-добавление-результатов-в-таблицу\" data-toc-modified-id=\"Расчёты-и-добавление-результатов-в-таблицу-3\"><span class=\"toc-item-num\">3&nbsp;&nbsp;</span>Расчёты и добавление результатов в таблицу</a></span><ul class=\"toc-item\"><li><span><a href=\"#Вывод\" data-toc-modified-id=\"Вывод-3.1\"><span class=\"toc-item-num\">3.1&nbsp;&nbsp;</span>Вывод</a></span></li></ul></li><li><span><a href=\"#Исследовательский-анализ-данных\" data-toc-modified-id=\"Исследовательский-анализ-данных-4\"><span class=\"toc-item-num\">4&nbsp;&nbsp;</span>Исследовательский анализ данных</a></span><ul class=\"toc-item\"><li><span><a href=\"#Вывод\" data-toc-modified-id=\"Вывод-4.1\"><span class=\"toc-item-num\">4.1&nbsp;&nbsp;</span>Вывод</a></span></li></ul></li><li><span><a href=\"#Общий-вывод\" data-toc-modified-id=\"Общий-вывод-5\"><span class=\"toc-item-num\">5&nbsp;&nbsp;</span>Общий вывод</a></span></li><li><span><a href=\"#Чек-лист-готовности-проекта\" data-toc-modified-id=\"Чек-лист-готовности-проекта-6\"><span class=\"toc-item-num\">6&nbsp;&nbsp;</span>Чек-лист готовности проекта</a></span></li></ul></div>"
   ]
  },
  {
   "cell_type": "markdown",
   "metadata": {},
   "source": [
    "# Исследование объявлений о продаже квартир\n",
    "\n",
    "В вашем распоряжении данные сервиса Яндекс.Недвижимость — архив объявлений о продаже квартир в Санкт-Петербурге и соседних населённых пунктах за несколько лет. Нужно научиться определять рыночную стоимость объектов недвижимости. Ваша задача — установить параметры. Это позволит построить автоматизированную систему: она отследит аномалии и мошенническую деятельность. \n",
    "\n",
    "По каждой квартире на продажу доступны два вида данных. Первые вписаны пользователем, вторые получены автоматически на основе картографических данных. Например, расстояние до центра, аэропорта, ближайшего парка и водоёма. "
   ]
  },
  {
   "cell_type": "markdown",
   "metadata": {},
   "source": [
    "## Изучение данных из файла"
   ]
  },
  {
   "cell_type": "code",
   "execution_count": 1,
   "metadata": {},
   "outputs": [],
   "source": [
    "import pandas as pd #импортируем pandas\n",
    "import matplotlib.pyplot as plt #импорт библиотеки matplotlib.pyplot\n",
    "import numpy as np #импорт библиотеки numpy\n",
    "np.warnings.filterwarnings('ignore', category=np.VisibleDeprecationWarning) #игнорирование предупреждения\n",
    "import warnings #импорт warnings\n",
    "from pandas.core.common import SettingWithCopyWarning  #импорт SettingWithCopyWarning\n",
    "warnings.simplefilter(action=\"ignore\", category=SettingWithCopyWarning) #игнорирование предупреждения"
   ]
  },
  {
   "cell_type": "code",
   "execution_count": 2,
   "metadata": {
    "scrolled": false
   },
   "outputs": [
    {
     "data": {
      "text/html": [
       "<div>\n",
       "<style scoped>\n",
       "    .dataframe tbody tr th:only-of-type {\n",
       "        vertical-align: middle;\n",
       "    }\n",
       "\n",
       "    .dataframe tbody tr th {\n",
       "        vertical-align: top;\n",
       "    }\n",
       "\n",
       "    .dataframe thead th {\n",
       "        text-align: right;\n",
       "    }\n",
       "</style>\n",
       "<table border=\"1\" class=\"dataframe\">\n",
       "  <thead>\n",
       "    <tr style=\"text-align: right;\">\n",
       "      <th></th>\n",
       "      <th>total_images</th>\n",
       "      <th>last_price</th>\n",
       "      <th>total_area</th>\n",
       "      <th>first_day_exposition</th>\n",
       "      <th>rooms</th>\n",
       "      <th>ceiling_height</th>\n",
       "      <th>floors_total</th>\n",
       "      <th>living_area</th>\n",
       "      <th>floor</th>\n",
       "      <th>is_apartment</th>\n",
       "      <th>...</th>\n",
       "      <th>kitchen_area</th>\n",
       "      <th>balcony</th>\n",
       "      <th>locality_name</th>\n",
       "      <th>airports_nearest</th>\n",
       "      <th>cityCenters_nearest</th>\n",
       "      <th>parks_around3000</th>\n",
       "      <th>parks_nearest</th>\n",
       "      <th>ponds_around3000</th>\n",
       "      <th>ponds_nearest</th>\n",
       "      <th>days_exposition</th>\n",
       "    </tr>\n",
       "  </thead>\n",
       "  <tbody>\n",
       "    <tr>\n",
       "      <td>0</td>\n",
       "      <td>20</td>\n",
       "      <td>13000000.0</td>\n",
       "      <td>108.00</td>\n",
       "      <td>2019-03-07T00:00:00</td>\n",
       "      <td>3</td>\n",
       "      <td>2.70</td>\n",
       "      <td>16.0</td>\n",
       "      <td>51.00</td>\n",
       "      <td>8</td>\n",
       "      <td>NaN</td>\n",
       "      <td>...</td>\n",
       "      <td>25.00</td>\n",
       "      <td>NaN</td>\n",
       "      <td>Санкт-Петербург</td>\n",
       "      <td>18863.0</td>\n",
       "      <td>16028.0</td>\n",
       "      <td>1.0</td>\n",
       "      <td>482.0</td>\n",
       "      <td>2.0</td>\n",
       "      <td>755.0</td>\n",
       "      <td>NaN</td>\n",
       "    </tr>\n",
       "    <tr>\n",
       "      <td>1</td>\n",
       "      <td>7</td>\n",
       "      <td>3350000.0</td>\n",
       "      <td>40.40</td>\n",
       "      <td>2018-12-04T00:00:00</td>\n",
       "      <td>1</td>\n",
       "      <td>NaN</td>\n",
       "      <td>11.0</td>\n",
       "      <td>18.60</td>\n",
       "      <td>1</td>\n",
       "      <td>NaN</td>\n",
       "      <td>...</td>\n",
       "      <td>11.00</td>\n",
       "      <td>2.0</td>\n",
       "      <td>посёлок Шушары</td>\n",
       "      <td>12817.0</td>\n",
       "      <td>18603.0</td>\n",
       "      <td>0.0</td>\n",
       "      <td>NaN</td>\n",
       "      <td>0.0</td>\n",
       "      <td>NaN</td>\n",
       "      <td>81.0</td>\n",
       "    </tr>\n",
       "    <tr>\n",
       "      <td>2</td>\n",
       "      <td>10</td>\n",
       "      <td>5196000.0</td>\n",
       "      <td>56.00</td>\n",
       "      <td>2015-08-20T00:00:00</td>\n",
       "      <td>2</td>\n",
       "      <td>NaN</td>\n",
       "      <td>5.0</td>\n",
       "      <td>34.30</td>\n",
       "      <td>4</td>\n",
       "      <td>NaN</td>\n",
       "      <td>...</td>\n",
       "      <td>8.30</td>\n",
       "      <td>0.0</td>\n",
       "      <td>Санкт-Петербург</td>\n",
       "      <td>21741.0</td>\n",
       "      <td>13933.0</td>\n",
       "      <td>1.0</td>\n",
       "      <td>90.0</td>\n",
       "      <td>2.0</td>\n",
       "      <td>574.0</td>\n",
       "      <td>558.0</td>\n",
       "    </tr>\n",
       "    <tr>\n",
       "      <td>3</td>\n",
       "      <td>0</td>\n",
       "      <td>64900000.0</td>\n",
       "      <td>159.00</td>\n",
       "      <td>2015-07-24T00:00:00</td>\n",
       "      <td>3</td>\n",
       "      <td>NaN</td>\n",
       "      <td>14.0</td>\n",
       "      <td>NaN</td>\n",
       "      <td>9</td>\n",
       "      <td>NaN</td>\n",
       "      <td>...</td>\n",
       "      <td>NaN</td>\n",
       "      <td>0.0</td>\n",
       "      <td>Санкт-Петербург</td>\n",
       "      <td>28098.0</td>\n",
       "      <td>6800.0</td>\n",
       "      <td>2.0</td>\n",
       "      <td>84.0</td>\n",
       "      <td>3.0</td>\n",
       "      <td>234.0</td>\n",
       "      <td>424.0</td>\n",
       "    </tr>\n",
       "    <tr>\n",
       "      <td>4</td>\n",
       "      <td>2</td>\n",
       "      <td>10000000.0</td>\n",
       "      <td>100.00</td>\n",
       "      <td>2018-06-19T00:00:00</td>\n",
       "      <td>2</td>\n",
       "      <td>3.03</td>\n",
       "      <td>14.0</td>\n",
       "      <td>32.00</td>\n",
       "      <td>13</td>\n",
       "      <td>NaN</td>\n",
       "      <td>...</td>\n",
       "      <td>41.00</td>\n",
       "      <td>NaN</td>\n",
       "      <td>Санкт-Петербург</td>\n",
       "      <td>31856.0</td>\n",
       "      <td>8098.0</td>\n",
       "      <td>2.0</td>\n",
       "      <td>112.0</td>\n",
       "      <td>1.0</td>\n",
       "      <td>48.0</td>\n",
       "      <td>121.0</td>\n",
       "    </tr>\n",
       "    <tr>\n",
       "      <td>5</td>\n",
       "      <td>10</td>\n",
       "      <td>2890000.0</td>\n",
       "      <td>30.40</td>\n",
       "      <td>2018-09-10T00:00:00</td>\n",
       "      <td>1</td>\n",
       "      <td>NaN</td>\n",
       "      <td>12.0</td>\n",
       "      <td>14.40</td>\n",
       "      <td>5</td>\n",
       "      <td>NaN</td>\n",
       "      <td>...</td>\n",
       "      <td>9.10</td>\n",
       "      <td>NaN</td>\n",
       "      <td>городской посёлок Янино-1</td>\n",
       "      <td>NaN</td>\n",
       "      <td>NaN</td>\n",
       "      <td>NaN</td>\n",
       "      <td>NaN</td>\n",
       "      <td>NaN</td>\n",
       "      <td>NaN</td>\n",
       "      <td>55.0</td>\n",
       "    </tr>\n",
       "    <tr>\n",
       "      <td>6</td>\n",
       "      <td>6</td>\n",
       "      <td>3700000.0</td>\n",
       "      <td>37.30</td>\n",
       "      <td>2017-11-02T00:00:00</td>\n",
       "      <td>1</td>\n",
       "      <td>NaN</td>\n",
       "      <td>26.0</td>\n",
       "      <td>10.60</td>\n",
       "      <td>6</td>\n",
       "      <td>NaN</td>\n",
       "      <td>...</td>\n",
       "      <td>14.40</td>\n",
       "      <td>1.0</td>\n",
       "      <td>посёлок Парголово</td>\n",
       "      <td>52996.0</td>\n",
       "      <td>19143.0</td>\n",
       "      <td>0.0</td>\n",
       "      <td>NaN</td>\n",
       "      <td>0.0</td>\n",
       "      <td>NaN</td>\n",
       "      <td>155.0</td>\n",
       "    </tr>\n",
       "    <tr>\n",
       "      <td>7</td>\n",
       "      <td>5</td>\n",
       "      <td>7915000.0</td>\n",
       "      <td>71.60</td>\n",
       "      <td>2019-04-18T00:00:00</td>\n",
       "      <td>2</td>\n",
       "      <td>NaN</td>\n",
       "      <td>24.0</td>\n",
       "      <td>NaN</td>\n",
       "      <td>22</td>\n",
       "      <td>NaN</td>\n",
       "      <td>...</td>\n",
       "      <td>18.90</td>\n",
       "      <td>2.0</td>\n",
       "      <td>Санкт-Петербург</td>\n",
       "      <td>23982.0</td>\n",
       "      <td>11634.0</td>\n",
       "      <td>0.0</td>\n",
       "      <td>NaN</td>\n",
       "      <td>0.0</td>\n",
       "      <td>NaN</td>\n",
       "      <td>NaN</td>\n",
       "    </tr>\n",
       "    <tr>\n",
       "      <td>8</td>\n",
       "      <td>20</td>\n",
       "      <td>2900000.0</td>\n",
       "      <td>33.16</td>\n",
       "      <td>2018-05-23T00:00:00</td>\n",
       "      <td>1</td>\n",
       "      <td>NaN</td>\n",
       "      <td>27.0</td>\n",
       "      <td>15.43</td>\n",
       "      <td>26</td>\n",
       "      <td>NaN</td>\n",
       "      <td>...</td>\n",
       "      <td>8.81</td>\n",
       "      <td>NaN</td>\n",
       "      <td>посёлок Мурино</td>\n",
       "      <td>NaN</td>\n",
       "      <td>NaN</td>\n",
       "      <td>NaN</td>\n",
       "      <td>NaN</td>\n",
       "      <td>NaN</td>\n",
       "      <td>NaN</td>\n",
       "      <td>189.0</td>\n",
       "    </tr>\n",
       "    <tr>\n",
       "      <td>9</td>\n",
       "      <td>18</td>\n",
       "      <td>5400000.0</td>\n",
       "      <td>61.00</td>\n",
       "      <td>2017-02-26T00:00:00</td>\n",
       "      <td>3</td>\n",
       "      <td>2.50</td>\n",
       "      <td>9.0</td>\n",
       "      <td>43.60</td>\n",
       "      <td>7</td>\n",
       "      <td>NaN</td>\n",
       "      <td>...</td>\n",
       "      <td>6.50</td>\n",
       "      <td>2.0</td>\n",
       "      <td>Санкт-Петербург</td>\n",
       "      <td>50898.0</td>\n",
       "      <td>15008.0</td>\n",
       "      <td>0.0</td>\n",
       "      <td>NaN</td>\n",
       "      <td>0.0</td>\n",
       "      <td>NaN</td>\n",
       "      <td>289.0</td>\n",
       "    </tr>\n",
       "  </tbody>\n",
       "</table>\n",
       "<p>10 rows × 22 columns</p>\n",
       "</div>"
      ],
      "text/plain": [
       "   total_images  last_price  total_area first_day_exposition  rooms  \\\n",
       "0            20  13000000.0      108.00  2019-03-07T00:00:00      3   \n",
       "1             7   3350000.0       40.40  2018-12-04T00:00:00      1   \n",
       "2            10   5196000.0       56.00  2015-08-20T00:00:00      2   \n",
       "3             0  64900000.0      159.00  2015-07-24T00:00:00      3   \n",
       "4             2  10000000.0      100.00  2018-06-19T00:00:00      2   \n",
       "5            10   2890000.0       30.40  2018-09-10T00:00:00      1   \n",
       "6             6   3700000.0       37.30  2017-11-02T00:00:00      1   \n",
       "7             5   7915000.0       71.60  2019-04-18T00:00:00      2   \n",
       "8            20   2900000.0       33.16  2018-05-23T00:00:00      1   \n",
       "9            18   5400000.0       61.00  2017-02-26T00:00:00      3   \n",
       "\n",
       "   ceiling_height  floors_total  living_area  floor is_apartment  ...  \\\n",
       "0            2.70          16.0        51.00      8          NaN  ...   \n",
       "1             NaN          11.0        18.60      1          NaN  ...   \n",
       "2             NaN           5.0        34.30      4          NaN  ...   \n",
       "3             NaN          14.0          NaN      9          NaN  ...   \n",
       "4            3.03          14.0        32.00     13          NaN  ...   \n",
       "5             NaN          12.0        14.40      5          NaN  ...   \n",
       "6             NaN          26.0        10.60      6          NaN  ...   \n",
       "7             NaN          24.0          NaN     22          NaN  ...   \n",
       "8             NaN          27.0        15.43     26          NaN  ...   \n",
       "9            2.50           9.0        43.60      7          NaN  ...   \n",
       "\n",
       "   kitchen_area  balcony              locality_name  airports_nearest  \\\n",
       "0         25.00      NaN            Санкт-Петербург           18863.0   \n",
       "1         11.00      2.0             посёлок Шушары           12817.0   \n",
       "2          8.30      0.0            Санкт-Петербург           21741.0   \n",
       "3           NaN      0.0            Санкт-Петербург           28098.0   \n",
       "4         41.00      NaN            Санкт-Петербург           31856.0   \n",
       "5          9.10      NaN  городской посёлок Янино-1               NaN   \n",
       "6         14.40      1.0          посёлок Парголово           52996.0   \n",
       "7         18.90      2.0            Санкт-Петербург           23982.0   \n",
       "8          8.81      NaN             посёлок Мурино               NaN   \n",
       "9          6.50      2.0            Санкт-Петербург           50898.0   \n",
       "\n",
       "  cityCenters_nearest  parks_around3000  parks_nearest  ponds_around3000  \\\n",
       "0             16028.0               1.0          482.0               2.0   \n",
       "1             18603.0               0.0            NaN               0.0   \n",
       "2             13933.0               1.0           90.0               2.0   \n",
       "3              6800.0               2.0           84.0               3.0   \n",
       "4              8098.0               2.0          112.0               1.0   \n",
       "5                 NaN               NaN            NaN               NaN   \n",
       "6             19143.0               0.0            NaN               0.0   \n",
       "7             11634.0               0.0            NaN               0.0   \n",
       "8                 NaN               NaN            NaN               NaN   \n",
       "9             15008.0               0.0            NaN               0.0   \n",
       "\n",
       "   ponds_nearest  days_exposition  \n",
       "0          755.0              NaN  \n",
       "1            NaN             81.0  \n",
       "2          574.0            558.0  \n",
       "3          234.0            424.0  \n",
       "4           48.0            121.0  \n",
       "5            NaN             55.0  \n",
       "6            NaN            155.0  \n",
       "7            NaN              NaN  \n",
       "8            NaN            189.0  \n",
       "9            NaN            289.0  \n",
       "\n",
       "[10 rows x 22 columns]"
      ]
     },
     "execution_count": 2,
     "metadata": {},
     "output_type": "execute_result"
    }
   ],
   "source": [
    "data = pd.read_csv('/datasets/real_estate_data.csv', sep='\\t') #читаем файл\n",
    "data.head(10) #выводим первые 10 строк"
   ]
  },
  {
   "cell_type": "code",
   "execution_count": 3,
   "metadata": {
    "scrolled": true
   },
   "outputs": [
    {
     "name": "stdout",
     "output_type": "stream",
     "text": [
      "<class 'pandas.core.frame.DataFrame'>\n",
      "RangeIndex: 23699 entries, 0 to 23698\n",
      "Data columns (total 22 columns):\n",
      "total_images            23699 non-null int64\n",
      "last_price              23699 non-null float64\n",
      "total_area              23699 non-null float64\n",
      "first_day_exposition    23699 non-null object\n",
      "rooms                   23699 non-null int64\n",
      "ceiling_height          14504 non-null float64\n",
      "floors_total            23613 non-null float64\n",
      "living_area             21796 non-null float64\n",
      "floor                   23699 non-null int64\n",
      "is_apartment            2775 non-null object\n",
      "studio                  23699 non-null bool\n",
      "open_plan               23699 non-null bool\n",
      "kitchen_area            21421 non-null float64\n",
      "balcony                 12180 non-null float64\n",
      "locality_name           23650 non-null object\n",
      "airports_nearest        18157 non-null float64\n",
      "cityCenters_nearest     18180 non-null float64\n",
      "parks_around3000        18181 non-null float64\n",
      "parks_nearest           8079 non-null float64\n",
      "ponds_around3000        18181 non-null float64\n",
      "ponds_nearest           9110 non-null float64\n",
      "days_exposition         20518 non-null float64\n",
      "dtypes: bool(2), float64(14), int64(3), object(3)\n",
      "memory usage: 3.7+ MB\n"
     ]
    }
   ],
   "source": [
    "data.info() #информация о файле"
   ]
  },
  {
   "cell_type": "code",
   "execution_count": 4,
   "metadata": {},
   "outputs": [
    {
     "data": {
      "text/html": [
       "<div>\n",
       "<style scoped>\n",
       "    .dataframe tbody tr th:only-of-type {\n",
       "        vertical-align: middle;\n",
       "    }\n",
       "\n",
       "    .dataframe tbody tr th {\n",
       "        vertical-align: top;\n",
       "    }\n",
       "\n",
       "    .dataframe thead th {\n",
       "        text-align: right;\n",
       "    }\n",
       "</style>\n",
       "<table border=\"1\" class=\"dataframe\">\n",
       "  <thead>\n",
       "    <tr style=\"text-align: right;\">\n",
       "      <th></th>\n",
       "      <th>count</th>\n",
       "      <th>mean</th>\n",
       "      <th>std</th>\n",
       "      <th>min</th>\n",
       "      <th>25%</th>\n",
       "      <th>50%</th>\n",
       "      <th>75%</th>\n",
       "      <th>max</th>\n",
       "    </tr>\n",
       "  </thead>\n",
       "  <tbody>\n",
       "    <tr>\n",
       "      <td>total_images</td>\n",
       "      <td>23699.0</td>\n",
       "      <td>9.858475e+00</td>\n",
       "      <td>5.682529e+00</td>\n",
       "      <td>0.0</td>\n",
       "      <td>6.00</td>\n",
       "      <td>9.00</td>\n",
       "      <td>14.0</td>\n",
       "      <td>50.0</td>\n",
       "    </tr>\n",
       "    <tr>\n",
       "      <td>last_price</td>\n",
       "      <td>23699.0</td>\n",
       "      <td>6.541549e+06</td>\n",
       "      <td>1.088701e+07</td>\n",
       "      <td>12190.0</td>\n",
       "      <td>3400000.00</td>\n",
       "      <td>4650000.00</td>\n",
       "      <td>6800000.0</td>\n",
       "      <td>763000000.0</td>\n",
       "    </tr>\n",
       "    <tr>\n",
       "      <td>total_area</td>\n",
       "      <td>23699.0</td>\n",
       "      <td>6.034865e+01</td>\n",
       "      <td>3.565408e+01</td>\n",
       "      <td>12.0</td>\n",
       "      <td>40.00</td>\n",
       "      <td>52.00</td>\n",
       "      <td>69.9</td>\n",
       "      <td>900.0</td>\n",
       "    </tr>\n",
       "    <tr>\n",
       "      <td>rooms</td>\n",
       "      <td>23699.0</td>\n",
       "      <td>2.070636e+00</td>\n",
       "      <td>1.078405e+00</td>\n",
       "      <td>0.0</td>\n",
       "      <td>1.00</td>\n",
       "      <td>2.00</td>\n",
       "      <td>3.0</td>\n",
       "      <td>19.0</td>\n",
       "    </tr>\n",
       "    <tr>\n",
       "      <td>ceiling_height</td>\n",
       "      <td>14504.0</td>\n",
       "      <td>2.771499e+00</td>\n",
       "      <td>1.261056e+00</td>\n",
       "      <td>1.0</td>\n",
       "      <td>2.52</td>\n",
       "      <td>2.65</td>\n",
       "      <td>2.8</td>\n",
       "      <td>100.0</td>\n",
       "    </tr>\n",
       "    <tr>\n",
       "      <td>floors_total</td>\n",
       "      <td>23613.0</td>\n",
       "      <td>1.067382e+01</td>\n",
       "      <td>6.597173e+00</td>\n",
       "      <td>1.0</td>\n",
       "      <td>5.00</td>\n",
       "      <td>9.00</td>\n",
       "      <td>16.0</td>\n",
       "      <td>60.0</td>\n",
       "    </tr>\n",
       "    <tr>\n",
       "      <td>living_area</td>\n",
       "      <td>21796.0</td>\n",
       "      <td>3.445785e+01</td>\n",
       "      <td>2.203045e+01</td>\n",
       "      <td>2.0</td>\n",
       "      <td>18.60</td>\n",
       "      <td>30.00</td>\n",
       "      <td>42.3</td>\n",
       "      <td>409.7</td>\n",
       "    </tr>\n",
       "    <tr>\n",
       "      <td>floor</td>\n",
       "      <td>23699.0</td>\n",
       "      <td>5.892358e+00</td>\n",
       "      <td>4.885249e+00</td>\n",
       "      <td>1.0</td>\n",
       "      <td>2.00</td>\n",
       "      <td>4.00</td>\n",
       "      <td>8.0</td>\n",
       "      <td>33.0</td>\n",
       "    </tr>\n",
       "    <tr>\n",
       "      <td>kitchen_area</td>\n",
       "      <td>21421.0</td>\n",
       "      <td>1.056981e+01</td>\n",
       "      <td>5.905438e+00</td>\n",
       "      <td>1.3</td>\n",
       "      <td>7.00</td>\n",
       "      <td>9.10</td>\n",
       "      <td>12.0</td>\n",
       "      <td>112.0</td>\n",
       "    </tr>\n",
       "    <tr>\n",
       "      <td>balcony</td>\n",
       "      <td>12180.0</td>\n",
       "      <td>1.150082e+00</td>\n",
       "      <td>1.071300e+00</td>\n",
       "      <td>0.0</td>\n",
       "      <td>0.00</td>\n",
       "      <td>1.00</td>\n",
       "      <td>2.0</td>\n",
       "      <td>5.0</td>\n",
       "    </tr>\n",
       "    <tr>\n",
       "      <td>airports_nearest</td>\n",
       "      <td>18157.0</td>\n",
       "      <td>2.879367e+04</td>\n",
       "      <td>1.263088e+04</td>\n",
       "      <td>0.0</td>\n",
       "      <td>18585.00</td>\n",
       "      <td>26726.00</td>\n",
       "      <td>37273.0</td>\n",
       "      <td>84869.0</td>\n",
       "    </tr>\n",
       "    <tr>\n",
       "      <td>cityCenters_nearest</td>\n",
       "      <td>18180.0</td>\n",
       "      <td>1.419128e+04</td>\n",
       "      <td>8.608386e+03</td>\n",
       "      <td>181.0</td>\n",
       "      <td>9238.00</td>\n",
       "      <td>13098.50</td>\n",
       "      <td>16293.0</td>\n",
       "      <td>65968.0</td>\n",
       "    </tr>\n",
       "    <tr>\n",
       "      <td>parks_around3000</td>\n",
       "      <td>18181.0</td>\n",
       "      <td>6.114075e-01</td>\n",
       "      <td>8.020736e-01</td>\n",
       "      <td>0.0</td>\n",
       "      <td>0.00</td>\n",
       "      <td>0.00</td>\n",
       "      <td>1.0</td>\n",
       "      <td>3.0</td>\n",
       "    </tr>\n",
       "    <tr>\n",
       "      <td>parks_nearest</td>\n",
       "      <td>8079.0</td>\n",
       "      <td>4.908046e+02</td>\n",
       "      <td>3.423180e+02</td>\n",
       "      <td>1.0</td>\n",
       "      <td>288.00</td>\n",
       "      <td>455.00</td>\n",
       "      <td>612.0</td>\n",
       "      <td>3190.0</td>\n",
       "    </tr>\n",
       "    <tr>\n",
       "      <td>ponds_around3000</td>\n",
       "      <td>18181.0</td>\n",
       "      <td>7.702547e-01</td>\n",
       "      <td>9.383456e-01</td>\n",
       "      <td>0.0</td>\n",
       "      <td>0.00</td>\n",
       "      <td>1.00</td>\n",
       "      <td>1.0</td>\n",
       "      <td>3.0</td>\n",
       "    </tr>\n",
       "    <tr>\n",
       "      <td>ponds_nearest</td>\n",
       "      <td>9110.0</td>\n",
       "      <td>5.179809e+02</td>\n",
       "      <td>2.777206e+02</td>\n",
       "      <td>13.0</td>\n",
       "      <td>294.00</td>\n",
       "      <td>502.00</td>\n",
       "      <td>729.0</td>\n",
       "      <td>1344.0</td>\n",
       "    </tr>\n",
       "    <tr>\n",
       "      <td>days_exposition</td>\n",
       "      <td>20518.0</td>\n",
       "      <td>1.808886e+02</td>\n",
       "      <td>2.197280e+02</td>\n",
       "      <td>1.0</td>\n",
       "      <td>45.00</td>\n",
       "      <td>95.00</td>\n",
       "      <td>232.0</td>\n",
       "      <td>1580.0</td>\n",
       "    </tr>\n",
       "  </tbody>\n",
       "</table>\n",
       "</div>"
      ],
      "text/plain": [
       "                       count          mean           std      min         25%  \\\n",
       "total_images         23699.0  9.858475e+00  5.682529e+00      0.0        6.00   \n",
       "last_price           23699.0  6.541549e+06  1.088701e+07  12190.0  3400000.00   \n",
       "total_area           23699.0  6.034865e+01  3.565408e+01     12.0       40.00   \n",
       "rooms                23699.0  2.070636e+00  1.078405e+00      0.0        1.00   \n",
       "ceiling_height       14504.0  2.771499e+00  1.261056e+00      1.0        2.52   \n",
       "floors_total         23613.0  1.067382e+01  6.597173e+00      1.0        5.00   \n",
       "living_area          21796.0  3.445785e+01  2.203045e+01      2.0       18.60   \n",
       "floor                23699.0  5.892358e+00  4.885249e+00      1.0        2.00   \n",
       "kitchen_area         21421.0  1.056981e+01  5.905438e+00      1.3        7.00   \n",
       "balcony              12180.0  1.150082e+00  1.071300e+00      0.0        0.00   \n",
       "airports_nearest     18157.0  2.879367e+04  1.263088e+04      0.0    18585.00   \n",
       "cityCenters_nearest  18180.0  1.419128e+04  8.608386e+03    181.0     9238.00   \n",
       "parks_around3000     18181.0  6.114075e-01  8.020736e-01      0.0        0.00   \n",
       "parks_nearest         8079.0  4.908046e+02  3.423180e+02      1.0      288.00   \n",
       "ponds_around3000     18181.0  7.702547e-01  9.383456e-01      0.0        0.00   \n",
       "ponds_nearest         9110.0  5.179809e+02  2.777206e+02     13.0      294.00   \n",
       "days_exposition      20518.0  1.808886e+02  2.197280e+02      1.0       45.00   \n",
       "\n",
       "                            50%        75%          max  \n",
       "total_images               9.00       14.0         50.0  \n",
       "last_price           4650000.00  6800000.0  763000000.0  \n",
       "total_area                52.00       69.9        900.0  \n",
       "rooms                      2.00        3.0         19.0  \n",
       "ceiling_height             2.65        2.8        100.0  \n",
       "floors_total               9.00       16.0         60.0  \n",
       "living_area               30.00       42.3        409.7  \n",
       "floor                      4.00        8.0         33.0  \n",
       "kitchen_area               9.10       12.0        112.0  \n",
       "balcony                    1.00        2.0          5.0  \n",
       "airports_nearest       26726.00    37273.0      84869.0  \n",
       "cityCenters_nearest    13098.50    16293.0      65968.0  \n",
       "parks_around3000           0.00        1.0          3.0  \n",
       "parks_nearest            455.00      612.0       3190.0  \n",
       "ponds_around3000           1.00        1.0          3.0  \n",
       "ponds_nearest            502.00      729.0       1344.0  \n",
       "days_exposition           95.00      232.0       1580.0  "
      ]
     },
     "execution_count": 4,
     "metadata": {},
     "output_type": "execute_result"
    }
   ],
   "source": [
    "data.describe().T"
   ]
  },
  {
   "cell_type": "markdown",
   "metadata": {},
   "source": [
    "### Вывод"
   ]
  },
  {
   "cell_type": "markdown",
   "metadata": {},
   "source": [
    "По информации о файле можно увидеть, что в столбцах `ceiling_height`, `floors_total`, `living_area`, `is_apartment`, `kitchen_area`,`balcony`, `locality_name`,`airports_nearest`,`cityCenters_nearest`, `parks_around3000`, `parks_nearest`, `ponds_around3000`, `ponds_nearest`, `days_exposition` есть пропуски."
   ]
  },
  {
   "cell_type": "markdown",
   "metadata": {},
   "source": [
    "## Предобработка данных"
   ]
  },
  {
   "cell_type": "code",
   "execution_count": 5,
   "metadata": {},
   "outputs": [
    {
     "data": {
      "text/plain": [
       "array([  1.  ,   1.2 ,   1.75,   2.  ,   2.2 ,   2.25,   2.3 ,   2.34,\n",
       "         2.4 ,   2.45,   2.46,   2.47,   2.48,   2.49,   2.5 ,   2.51,\n",
       "         2.52,   2.53,   2.54,   2.55,   2.56,   2.57,   2.58,   2.59,\n",
       "         2.6 ,   2.61,   2.62,   2.63,   2.64,   2.65,   2.66,   2.67,\n",
       "         2.68,   2.69,   2.7 ,   2.71,   2.72,   2.73,   2.74,   2.75,\n",
       "         2.76,   2.77,   2.78,   2.79,   2.8 ,   2.81,   2.82,   2.83,\n",
       "         2.84,   2.85,   2.86,   2.87,   2.88,   2.89,   2.9 ,   2.91,\n",
       "         2.92,   2.93,   2.94,   2.95,   2.96,   2.97,   2.98,   2.99,\n",
       "         3.  ,   3.01,   3.02,   3.03,   3.04,   3.05,   3.06,   3.07,\n",
       "         3.08,   3.09,   3.1 ,   3.11,   3.12,   3.13,   3.14,   3.15,\n",
       "         3.16,   3.17,   3.18,   3.2 ,   3.21,   3.22,   3.23,   3.24,\n",
       "         3.25,   3.26,   3.27,   3.28,   3.29,   3.3 ,   3.31,   3.32,\n",
       "         3.33,   3.34,   3.35,   3.36,   3.37,   3.38,   3.39,   3.4 ,\n",
       "         3.42,   3.43,   3.44,   3.45,   3.46,   3.47,   3.48,   3.49,\n",
       "         3.5 ,   3.51,   3.52,   3.53,   3.54,   3.55,   3.56,   3.57,\n",
       "         3.58,   3.59,   3.6 ,   3.62,   3.63,   3.65,   3.66,   3.67,\n",
       "         3.68,   3.69,   3.7 ,   3.75,   3.76,   3.78,   3.8 ,   3.82,\n",
       "         3.83,   3.84,   3.85,   3.86,   3.87,   3.88,   3.9 ,   3.93,\n",
       "         3.95,   3.98,   4.  ,   4.06,   4.1 ,   4.14,   4.15,   4.19,\n",
       "         4.2 ,   4.25,   4.3 ,   4.37,   4.4 ,   4.45,   4.5 ,   4.65,\n",
       "         4.7 ,   4.8 ,   4.9 ,   5.  ,   5.2 ,   5.3 ,   5.5 ,   5.6 ,\n",
       "         5.8 ,   6.  ,   8.  ,   8.3 ,  10.3 ,  14.  ,  20.  ,  22.6 ,\n",
       "        24.  ,  25.  ,  26.  ,  27.  ,  27.5 ,  32.  , 100.  ,    nan])"
      ]
     },
     "execution_count": 5,
     "metadata": {},
     "output_type": "execute_result"
    }
   ],
   "source": [
    "data['ceiling_height'].sort_values().unique() #уникальные значения в столбце "
   ]
  },
  {
   "cell_type": "markdown",
   "metadata": {},
   "source": [
    "В столбце `ceiling_height` пропуски можно заменить на медианное значение, так как высота потолков не особо отличается друг от друга, хотя в данной таблице есть выбросы — более 7 метров, заменим их также на медианное значение."
   ]
  },
  {
   "cell_type": "code",
   "execution_count": 6,
   "metadata": {
    "scrolled": false
   },
   "outputs": [
    {
     "data": {
      "text/plain": [
       "array([1.  , 1.2 , 1.75, 2.  , 2.2 , 2.25, 2.3 , 2.34, 2.4 , 2.45, 2.46,\n",
       "       2.47, 2.48, 2.49, 2.5 , 2.51, 2.52, 2.53, 2.54, 2.55, 2.56, 2.57,\n",
       "       2.58, 2.59, 2.6 , 2.61, 2.62, 2.63, 2.64, 2.65, 2.66, 2.67, 2.68,\n",
       "       2.69, 2.7 , 2.71, 2.72, 2.73, 2.74, 2.75, 2.76, 2.77, 2.78, 2.79,\n",
       "       2.8 , 2.81, 2.82, 2.83, 2.84, 2.85, 2.86, 2.87, 2.88, 2.89, 2.9 ,\n",
       "       2.91, 2.92, 2.93, 2.94, 2.95, 2.96, 2.97, 2.98, 2.99, 3.  , 3.01,\n",
       "       3.02, 3.03, 3.04, 3.05, 3.06, 3.07, 3.08, 3.09, 3.1 , 3.11, 3.12,\n",
       "       3.13, 3.14, 3.15, 3.16, 3.17, 3.18, 3.2 , 3.21, 3.22, 3.23, 3.24,\n",
       "       3.25, 3.26, 3.27, 3.28, 3.29, 3.3 , 3.31, 3.32, 3.33, 3.34, 3.35,\n",
       "       3.36, 3.37, 3.38, 3.39, 3.4 , 3.42, 3.43, 3.44, 3.45, 3.46, 3.47,\n",
       "       3.48, 3.49, 3.5 , 3.51, 3.52, 3.53, 3.54, 3.55, 3.56, 3.57, 3.58,\n",
       "       3.59, 3.6 , 3.62, 3.63, 3.65, 3.66, 3.67, 3.68, 3.69, 3.7 , 3.75,\n",
       "       3.76, 3.78, 3.8 , 3.82, 3.83, 3.84, 3.85, 3.86, 3.87, 3.88, 3.9 ,\n",
       "       3.93, 3.95, 3.98, 4.  , 4.06, 4.1 , 4.14, 4.15, 4.19, 4.2 , 4.25,\n",
       "       4.3 , 4.37, 4.4 , 4.45, 4.5 , 4.65, 4.7 , 4.8 , 4.9 , 5.  , 5.2 ,\n",
       "       5.3 , 5.5 , 5.6 , 5.8 , 6.  ])"
      ]
     },
     "execution_count": 6,
     "metadata": {},
     "output_type": "execute_result"
    }
   ],
   "source": [
    "data['ceiling_height'] = data['ceiling_height'].fillna(data['ceiling_height'].median()) #замена пустых значений на медиану\n",
    "data.loc[data['ceiling_height'] > 7] = data['ceiling_height'].median() #замена выбросов на медиану\n",
    "data['ceiling_height'].sort_values().unique() #уникальные значения по столбцу"
   ]
  },
  {
   "cell_type": "markdown",
   "metadata": {},
   "source": [
    "Выведем таблицу, в которой этаж квартиры больше,чем общее количество этажей в доме."
   ]
  },
  {
   "cell_type": "code",
   "execution_count": 7,
   "metadata": {},
   "outputs": [
    {
     "data": {
      "text/html": [
       "<div>\n",
       "<style scoped>\n",
       "    .dataframe tbody tr th:only-of-type {\n",
       "        vertical-align: middle;\n",
       "    }\n",
       "\n",
       "    .dataframe tbody tr th {\n",
       "        vertical-align: top;\n",
       "    }\n",
       "\n",
       "    .dataframe thead th {\n",
       "        text-align: right;\n",
       "    }\n",
       "</style>\n",
       "<table border=\"1\" class=\"dataframe\">\n",
       "  <thead>\n",
       "    <tr style=\"text-align: right;\">\n",
       "      <th></th>\n",
       "      <th>total_images</th>\n",
       "      <th>last_price</th>\n",
       "      <th>total_area</th>\n",
       "      <th>first_day_exposition</th>\n",
       "      <th>rooms</th>\n",
       "      <th>ceiling_height</th>\n",
       "      <th>floors_total</th>\n",
       "      <th>living_area</th>\n",
       "      <th>floor</th>\n",
       "      <th>is_apartment</th>\n",
       "      <th>...</th>\n",
       "      <th>kitchen_area</th>\n",
       "      <th>balcony</th>\n",
       "      <th>locality_name</th>\n",
       "      <th>airports_nearest</th>\n",
       "      <th>cityCenters_nearest</th>\n",
       "      <th>parks_around3000</th>\n",
       "      <th>parks_nearest</th>\n",
       "      <th>ponds_around3000</th>\n",
       "      <th>ponds_nearest</th>\n",
       "      <th>days_exposition</th>\n",
       "    </tr>\n",
       "  </thead>\n",
       "  <tbody>\n",
       "  </tbody>\n",
       "</table>\n",
       "<p>0 rows × 22 columns</p>\n",
       "</div>"
      ],
      "text/plain": [
       "Empty DataFrame\n",
       "Columns: [total_images, last_price, total_area, first_day_exposition, rooms, ceiling_height, floors_total, living_area, floor, is_apartment, studio, open_plan, kitchen_area, balcony, locality_name, airports_nearest, cityCenters_nearest, parks_around3000, parks_nearest, ponds_around3000, ponds_nearest, days_exposition]\n",
       "Index: []\n",
       "\n",
       "[0 rows x 22 columns]"
      ]
     },
     "execution_count": 7,
     "metadata": {},
     "output_type": "execute_result"
    }
   ],
   "source": [
    "data[data['floor'] > data['floors_total']]"
   ]
  },
  {
   "cell_type": "markdown",
   "metadata": {},
   "source": [
    "Количество этажей в доме не должно быть меньше указанного этажа в объявлении.  Заменим пропуски в столбце `floors_total` на медианное значение по этажу, указанного в объявлении."
   ]
  },
  {
   "cell_type": "code",
   "execution_count": 8,
   "metadata": {},
   "outputs": [
    {
     "name": "stdout",
     "output_type": "stream",
     "text": [
      "8.0 10.0\n",
      "1.0 5.0\n",
      "4.0 5.0\n",
      "9.0 10.0\n",
      "13.0 17.0\n",
      "5.0 6.0\n",
      "6.0 9.0\n",
      "22.0 25.0\n",
      "26.0 27.0\n",
      "7.0 10.0\n",
      "3.0 5.0\n",
      "2.0 5.0\n",
      "11.0 16.0\n",
      "15.0 17.0\n",
      "18.0 22.0\n",
      "10.0 16.0\n",
      "19.0 24.0\n",
      "16.0 18.0\n",
      "20.0 24.0\n",
      "27.0 27.0\n",
      "25.0 25.0\n",
      "17.0 22.0\n",
      "14.0 17.0\n",
      "12.0 16.0\n",
      "2.65 2.65\n",
      "21.0 25.0\n",
      "28.0 36.0\n",
      "24.0 25.0\n",
      "23.0 25.0\n",
      "30.0 35.0\n",
      "29.0 36.0\n",
      "32.0 33.0\n",
      "33.0 35.0\n",
      "31.0 35.0\n"
     ]
    }
   ],
   "source": [
    "for floor in data['floor'].unique(): #применим цикл перебора по этажам в таблице\n",
    "    median = data.loc[data['floor'] == floor, 'floors_total'].median() #найдем медианное значение для определенного этажа по количеству этажей\n",
    "    print(floor,median) #вывод значений\n",
    "    data.loc[(data['floors_total'].isna()) & (data['floor'] == floor), 'floors_total'] = median"
   ]
  },
  {
   "cell_type": "markdown",
   "metadata": {},
   "source": [
    "По данным можно заметить подозрительные дробный этаж — 2.65. Выведем усеченную таблицу по данному этажу."
   ]
  },
  {
   "cell_type": "code",
   "execution_count": 9,
   "metadata": {
    "scrolled": true
   },
   "outputs": [
    {
     "data": {
      "text/html": [
       "<div>\n",
       "<style scoped>\n",
       "    .dataframe tbody tr th:only-of-type {\n",
       "        vertical-align: middle;\n",
       "    }\n",
       "\n",
       "    .dataframe tbody tr th {\n",
       "        vertical-align: top;\n",
       "    }\n",
       "\n",
       "    .dataframe thead th {\n",
       "        text-align: right;\n",
       "    }\n",
       "</style>\n",
       "<table border=\"1\" class=\"dataframe\">\n",
       "  <thead>\n",
       "    <tr style=\"text-align: right;\">\n",
       "      <th></th>\n",
       "      <th>total_images</th>\n",
       "      <th>last_price</th>\n",
       "      <th>total_area</th>\n",
       "      <th>first_day_exposition</th>\n",
       "      <th>rooms</th>\n",
       "      <th>ceiling_height</th>\n",
       "      <th>floors_total</th>\n",
       "      <th>living_area</th>\n",
       "      <th>floor</th>\n",
       "      <th>is_apartment</th>\n",
       "      <th>...</th>\n",
       "      <th>kitchen_area</th>\n",
       "      <th>balcony</th>\n",
       "      <th>locality_name</th>\n",
       "      <th>airports_nearest</th>\n",
       "      <th>cityCenters_nearest</th>\n",
       "      <th>parks_around3000</th>\n",
       "      <th>parks_nearest</th>\n",
       "      <th>ponds_around3000</th>\n",
       "      <th>ponds_nearest</th>\n",
       "      <th>days_exposition</th>\n",
       "    </tr>\n",
       "  </thead>\n",
       "  <tbody>\n",
       "    <tr>\n",
       "      <td>355</td>\n",
       "      <td>2.65</td>\n",
       "      <td>2.65</td>\n",
       "      <td>2.65</td>\n",
       "      <td>2.65</td>\n",
       "      <td>2.65</td>\n",
       "      <td>2.65</td>\n",
       "      <td>2.65</td>\n",
       "      <td>2.65</td>\n",
       "      <td>2.65</td>\n",
       "      <td>2.65</td>\n",
       "      <td>...</td>\n",
       "      <td>2.65</td>\n",
       "      <td>2.65</td>\n",
       "      <td>2.65</td>\n",
       "      <td>2.65</td>\n",
       "      <td>2.65</td>\n",
       "      <td>2.65</td>\n",
       "      <td>2.65</td>\n",
       "      <td>2.65</td>\n",
       "      <td>2.65</td>\n",
       "      <td>2.65</td>\n",
       "    </tr>\n",
       "    <tr>\n",
       "      <td>3148</td>\n",
       "      <td>2.65</td>\n",
       "      <td>2.65</td>\n",
       "      <td>2.65</td>\n",
       "      <td>2.65</td>\n",
       "      <td>2.65</td>\n",
       "      <td>2.65</td>\n",
       "      <td>2.65</td>\n",
       "      <td>2.65</td>\n",
       "      <td>2.65</td>\n",
       "      <td>2.65</td>\n",
       "      <td>...</td>\n",
       "      <td>2.65</td>\n",
       "      <td>2.65</td>\n",
       "      <td>2.65</td>\n",
       "      <td>2.65</td>\n",
       "      <td>2.65</td>\n",
       "      <td>2.65</td>\n",
       "      <td>2.65</td>\n",
       "      <td>2.65</td>\n",
       "      <td>2.65</td>\n",
       "      <td>2.65</td>\n",
       "    </tr>\n",
       "    <tr>\n",
       "      <td>3474</td>\n",
       "      <td>2.65</td>\n",
       "      <td>2.65</td>\n",
       "      <td>2.65</td>\n",
       "      <td>2.65</td>\n",
       "      <td>2.65</td>\n",
       "      <td>2.65</td>\n",
       "      <td>2.65</td>\n",
       "      <td>2.65</td>\n",
       "      <td>2.65</td>\n",
       "      <td>2.65</td>\n",
       "      <td>...</td>\n",
       "      <td>2.65</td>\n",
       "      <td>2.65</td>\n",
       "      <td>2.65</td>\n",
       "      <td>2.65</td>\n",
       "      <td>2.65</td>\n",
       "      <td>2.65</td>\n",
       "      <td>2.65</td>\n",
       "      <td>2.65</td>\n",
       "      <td>2.65</td>\n",
       "      <td>2.65</td>\n",
       "    </tr>\n",
       "    <tr>\n",
       "      <td>4643</td>\n",
       "      <td>2.65</td>\n",
       "      <td>2.65</td>\n",
       "      <td>2.65</td>\n",
       "      <td>2.65</td>\n",
       "      <td>2.65</td>\n",
       "      <td>2.65</td>\n",
       "      <td>2.65</td>\n",
       "      <td>2.65</td>\n",
       "      <td>2.65</td>\n",
       "      <td>2.65</td>\n",
       "      <td>...</td>\n",
       "      <td>2.65</td>\n",
       "      <td>2.65</td>\n",
       "      <td>2.65</td>\n",
       "      <td>2.65</td>\n",
       "      <td>2.65</td>\n",
       "      <td>2.65</td>\n",
       "      <td>2.65</td>\n",
       "      <td>2.65</td>\n",
       "      <td>2.65</td>\n",
       "      <td>2.65</td>\n",
       "    </tr>\n",
       "    <tr>\n",
       "      <td>4876</td>\n",
       "      <td>2.65</td>\n",
       "      <td>2.65</td>\n",
       "      <td>2.65</td>\n",
       "      <td>2.65</td>\n",
       "      <td>2.65</td>\n",
       "      <td>2.65</td>\n",
       "      <td>2.65</td>\n",
       "      <td>2.65</td>\n",
       "      <td>2.65</td>\n",
       "      <td>2.65</td>\n",
       "      <td>...</td>\n",
       "      <td>2.65</td>\n",
       "      <td>2.65</td>\n",
       "      <td>2.65</td>\n",
       "      <td>2.65</td>\n",
       "      <td>2.65</td>\n",
       "      <td>2.65</td>\n",
       "      <td>2.65</td>\n",
       "      <td>2.65</td>\n",
       "      <td>2.65</td>\n",
       "      <td>2.65</td>\n",
       "    </tr>\n",
       "    <tr>\n",
       "      <td>5076</td>\n",
       "      <td>2.65</td>\n",
       "      <td>2.65</td>\n",
       "      <td>2.65</td>\n",
       "      <td>2.65</td>\n",
       "      <td>2.65</td>\n",
       "      <td>2.65</td>\n",
       "      <td>2.65</td>\n",
       "      <td>2.65</td>\n",
       "      <td>2.65</td>\n",
       "      <td>2.65</td>\n",
       "      <td>...</td>\n",
       "      <td>2.65</td>\n",
       "      <td>2.65</td>\n",
       "      <td>2.65</td>\n",
       "      <td>2.65</td>\n",
       "      <td>2.65</td>\n",
       "      <td>2.65</td>\n",
       "      <td>2.65</td>\n",
       "      <td>2.65</td>\n",
       "      <td>2.65</td>\n",
       "      <td>2.65</td>\n",
       "    </tr>\n",
       "    <tr>\n",
       "      <td>5246</td>\n",
       "      <td>2.65</td>\n",
       "      <td>2.65</td>\n",
       "      <td>2.65</td>\n",
       "      <td>2.65</td>\n",
       "      <td>2.65</td>\n",
       "      <td>2.65</td>\n",
       "      <td>2.65</td>\n",
       "      <td>2.65</td>\n",
       "      <td>2.65</td>\n",
       "      <td>2.65</td>\n",
       "      <td>...</td>\n",
       "      <td>2.65</td>\n",
       "      <td>2.65</td>\n",
       "      <td>2.65</td>\n",
       "      <td>2.65</td>\n",
       "      <td>2.65</td>\n",
       "      <td>2.65</td>\n",
       "      <td>2.65</td>\n",
       "      <td>2.65</td>\n",
       "      <td>2.65</td>\n",
       "      <td>2.65</td>\n",
       "    </tr>\n",
       "    <tr>\n",
       "      <td>5669</td>\n",
       "      <td>2.65</td>\n",
       "      <td>2.65</td>\n",
       "      <td>2.65</td>\n",
       "      <td>2.65</td>\n",
       "      <td>2.65</td>\n",
       "      <td>2.65</td>\n",
       "      <td>2.65</td>\n",
       "      <td>2.65</td>\n",
       "      <td>2.65</td>\n",
       "      <td>2.65</td>\n",
       "      <td>...</td>\n",
       "      <td>2.65</td>\n",
       "      <td>2.65</td>\n",
       "      <td>2.65</td>\n",
       "      <td>2.65</td>\n",
       "      <td>2.65</td>\n",
       "      <td>2.65</td>\n",
       "      <td>2.65</td>\n",
       "      <td>2.65</td>\n",
       "      <td>2.65</td>\n",
       "      <td>2.65</td>\n",
       "    </tr>\n",
       "    <tr>\n",
       "      <td>5807</td>\n",
       "      <td>2.65</td>\n",
       "      <td>2.65</td>\n",
       "      <td>2.65</td>\n",
       "      <td>2.65</td>\n",
       "      <td>2.65</td>\n",
       "      <td>2.65</td>\n",
       "      <td>2.65</td>\n",
       "      <td>2.65</td>\n",
       "      <td>2.65</td>\n",
       "      <td>2.65</td>\n",
       "      <td>...</td>\n",
       "      <td>2.65</td>\n",
       "      <td>2.65</td>\n",
       "      <td>2.65</td>\n",
       "      <td>2.65</td>\n",
       "      <td>2.65</td>\n",
       "      <td>2.65</td>\n",
       "      <td>2.65</td>\n",
       "      <td>2.65</td>\n",
       "      <td>2.65</td>\n",
       "      <td>2.65</td>\n",
       "    </tr>\n",
       "    <tr>\n",
       "      <td>5863</td>\n",
       "      <td>2.65</td>\n",
       "      <td>2.65</td>\n",
       "      <td>2.65</td>\n",
       "      <td>2.65</td>\n",
       "      <td>2.65</td>\n",
       "      <td>2.65</td>\n",
       "      <td>2.65</td>\n",
       "      <td>2.65</td>\n",
       "      <td>2.65</td>\n",
       "      <td>2.65</td>\n",
       "      <td>...</td>\n",
       "      <td>2.65</td>\n",
       "      <td>2.65</td>\n",
       "      <td>2.65</td>\n",
       "      <td>2.65</td>\n",
       "      <td>2.65</td>\n",
       "      <td>2.65</td>\n",
       "      <td>2.65</td>\n",
       "      <td>2.65</td>\n",
       "      <td>2.65</td>\n",
       "      <td>2.65</td>\n",
       "    </tr>\n",
       "    <tr>\n",
       "      <td>6246</td>\n",
       "      <td>2.65</td>\n",
       "      <td>2.65</td>\n",
       "      <td>2.65</td>\n",
       "      <td>2.65</td>\n",
       "      <td>2.65</td>\n",
       "      <td>2.65</td>\n",
       "      <td>2.65</td>\n",
       "      <td>2.65</td>\n",
       "      <td>2.65</td>\n",
       "      <td>2.65</td>\n",
       "      <td>...</td>\n",
       "      <td>2.65</td>\n",
       "      <td>2.65</td>\n",
       "      <td>2.65</td>\n",
       "      <td>2.65</td>\n",
       "      <td>2.65</td>\n",
       "      <td>2.65</td>\n",
       "      <td>2.65</td>\n",
       "      <td>2.65</td>\n",
       "      <td>2.65</td>\n",
       "      <td>2.65</td>\n",
       "    </tr>\n",
       "    <tr>\n",
       "      <td>9379</td>\n",
       "      <td>2.65</td>\n",
       "      <td>2.65</td>\n",
       "      <td>2.65</td>\n",
       "      <td>2.65</td>\n",
       "      <td>2.65</td>\n",
       "      <td>2.65</td>\n",
       "      <td>2.65</td>\n",
       "      <td>2.65</td>\n",
       "      <td>2.65</td>\n",
       "      <td>2.65</td>\n",
       "      <td>...</td>\n",
       "      <td>2.65</td>\n",
       "      <td>2.65</td>\n",
       "      <td>2.65</td>\n",
       "      <td>2.65</td>\n",
       "      <td>2.65</td>\n",
       "      <td>2.65</td>\n",
       "      <td>2.65</td>\n",
       "      <td>2.65</td>\n",
       "      <td>2.65</td>\n",
       "      <td>2.65</td>\n",
       "    </tr>\n",
       "    <tr>\n",
       "      <td>10773</td>\n",
       "      <td>2.65</td>\n",
       "      <td>2.65</td>\n",
       "      <td>2.65</td>\n",
       "      <td>2.65</td>\n",
       "      <td>2.65</td>\n",
       "      <td>2.65</td>\n",
       "      <td>2.65</td>\n",
       "      <td>2.65</td>\n",
       "      <td>2.65</td>\n",
       "      <td>2.65</td>\n",
       "      <td>...</td>\n",
       "      <td>2.65</td>\n",
       "      <td>2.65</td>\n",
       "      <td>2.65</td>\n",
       "      <td>2.65</td>\n",
       "      <td>2.65</td>\n",
       "      <td>2.65</td>\n",
       "      <td>2.65</td>\n",
       "      <td>2.65</td>\n",
       "      <td>2.65</td>\n",
       "      <td>2.65</td>\n",
       "    </tr>\n",
       "    <tr>\n",
       "      <td>11285</td>\n",
       "      <td>2.65</td>\n",
       "      <td>2.65</td>\n",
       "      <td>2.65</td>\n",
       "      <td>2.65</td>\n",
       "      <td>2.65</td>\n",
       "      <td>2.65</td>\n",
       "      <td>2.65</td>\n",
       "      <td>2.65</td>\n",
       "      <td>2.65</td>\n",
       "      <td>2.65</td>\n",
       "      <td>...</td>\n",
       "      <td>2.65</td>\n",
       "      <td>2.65</td>\n",
       "      <td>2.65</td>\n",
       "      <td>2.65</td>\n",
       "      <td>2.65</td>\n",
       "      <td>2.65</td>\n",
       "      <td>2.65</td>\n",
       "      <td>2.65</td>\n",
       "      <td>2.65</td>\n",
       "      <td>2.65</td>\n",
       "    </tr>\n",
       "    <tr>\n",
       "      <td>14382</td>\n",
       "      <td>2.65</td>\n",
       "      <td>2.65</td>\n",
       "      <td>2.65</td>\n",
       "      <td>2.65</td>\n",
       "      <td>2.65</td>\n",
       "      <td>2.65</td>\n",
       "      <td>2.65</td>\n",
       "      <td>2.65</td>\n",
       "      <td>2.65</td>\n",
       "      <td>2.65</td>\n",
       "      <td>...</td>\n",
       "      <td>2.65</td>\n",
       "      <td>2.65</td>\n",
       "      <td>2.65</td>\n",
       "      <td>2.65</td>\n",
       "      <td>2.65</td>\n",
       "      <td>2.65</td>\n",
       "      <td>2.65</td>\n",
       "      <td>2.65</td>\n",
       "      <td>2.65</td>\n",
       "      <td>2.65</td>\n",
       "    </tr>\n",
       "    <tr>\n",
       "      <td>15061</td>\n",
       "      <td>2.65</td>\n",
       "      <td>2.65</td>\n",
       "      <td>2.65</td>\n",
       "      <td>2.65</td>\n",
       "      <td>2.65</td>\n",
       "      <td>2.65</td>\n",
       "      <td>2.65</td>\n",
       "      <td>2.65</td>\n",
       "      <td>2.65</td>\n",
       "      <td>2.65</td>\n",
       "      <td>...</td>\n",
       "      <td>2.65</td>\n",
       "      <td>2.65</td>\n",
       "      <td>2.65</td>\n",
       "      <td>2.65</td>\n",
       "      <td>2.65</td>\n",
       "      <td>2.65</td>\n",
       "      <td>2.65</td>\n",
       "      <td>2.65</td>\n",
       "      <td>2.65</td>\n",
       "      <td>2.65</td>\n",
       "    </tr>\n",
       "    <tr>\n",
       "      <td>15743</td>\n",
       "      <td>2.65</td>\n",
       "      <td>2.65</td>\n",
       "      <td>2.65</td>\n",
       "      <td>2.65</td>\n",
       "      <td>2.65</td>\n",
       "      <td>2.65</td>\n",
       "      <td>2.65</td>\n",
       "      <td>2.65</td>\n",
       "      <td>2.65</td>\n",
       "      <td>2.65</td>\n",
       "      <td>...</td>\n",
       "      <td>2.65</td>\n",
       "      <td>2.65</td>\n",
       "      <td>2.65</td>\n",
       "      <td>2.65</td>\n",
       "      <td>2.65</td>\n",
       "      <td>2.65</td>\n",
       "      <td>2.65</td>\n",
       "      <td>2.65</td>\n",
       "      <td>2.65</td>\n",
       "      <td>2.65</td>\n",
       "    </tr>\n",
       "    <tr>\n",
       "      <td>17442</td>\n",
       "      <td>2.65</td>\n",
       "      <td>2.65</td>\n",
       "      <td>2.65</td>\n",
       "      <td>2.65</td>\n",
       "      <td>2.65</td>\n",
       "      <td>2.65</td>\n",
       "      <td>2.65</td>\n",
       "      <td>2.65</td>\n",
       "      <td>2.65</td>\n",
       "      <td>2.65</td>\n",
       "      <td>...</td>\n",
       "      <td>2.65</td>\n",
       "      <td>2.65</td>\n",
       "      <td>2.65</td>\n",
       "      <td>2.65</td>\n",
       "      <td>2.65</td>\n",
       "      <td>2.65</td>\n",
       "      <td>2.65</td>\n",
       "      <td>2.65</td>\n",
       "      <td>2.65</td>\n",
       "      <td>2.65</td>\n",
       "    </tr>\n",
       "    <tr>\n",
       "      <td>17496</td>\n",
       "      <td>2.65</td>\n",
       "      <td>2.65</td>\n",
       "      <td>2.65</td>\n",
       "      <td>2.65</td>\n",
       "      <td>2.65</td>\n",
       "      <td>2.65</td>\n",
       "      <td>2.65</td>\n",
       "      <td>2.65</td>\n",
       "      <td>2.65</td>\n",
       "      <td>2.65</td>\n",
       "      <td>...</td>\n",
       "      <td>2.65</td>\n",
       "      <td>2.65</td>\n",
       "      <td>2.65</td>\n",
       "      <td>2.65</td>\n",
       "      <td>2.65</td>\n",
       "      <td>2.65</td>\n",
       "      <td>2.65</td>\n",
       "      <td>2.65</td>\n",
       "      <td>2.65</td>\n",
       "      <td>2.65</td>\n",
       "    </tr>\n",
       "    <tr>\n",
       "      <td>17857</td>\n",
       "      <td>2.65</td>\n",
       "      <td>2.65</td>\n",
       "      <td>2.65</td>\n",
       "      <td>2.65</td>\n",
       "      <td>2.65</td>\n",
       "      <td>2.65</td>\n",
       "      <td>2.65</td>\n",
       "      <td>2.65</td>\n",
       "      <td>2.65</td>\n",
       "      <td>2.65</td>\n",
       "      <td>...</td>\n",
       "      <td>2.65</td>\n",
       "      <td>2.65</td>\n",
       "      <td>2.65</td>\n",
       "      <td>2.65</td>\n",
       "      <td>2.65</td>\n",
       "      <td>2.65</td>\n",
       "      <td>2.65</td>\n",
       "      <td>2.65</td>\n",
       "      <td>2.65</td>\n",
       "      <td>2.65</td>\n",
       "    </tr>\n",
       "    <tr>\n",
       "      <td>18545</td>\n",
       "      <td>2.65</td>\n",
       "      <td>2.65</td>\n",
       "      <td>2.65</td>\n",
       "      <td>2.65</td>\n",
       "      <td>2.65</td>\n",
       "      <td>2.65</td>\n",
       "      <td>2.65</td>\n",
       "      <td>2.65</td>\n",
       "      <td>2.65</td>\n",
       "      <td>2.65</td>\n",
       "      <td>...</td>\n",
       "      <td>2.65</td>\n",
       "      <td>2.65</td>\n",
       "      <td>2.65</td>\n",
       "      <td>2.65</td>\n",
       "      <td>2.65</td>\n",
       "      <td>2.65</td>\n",
       "      <td>2.65</td>\n",
       "      <td>2.65</td>\n",
       "      <td>2.65</td>\n",
       "      <td>2.65</td>\n",
       "    </tr>\n",
       "    <tr>\n",
       "      <td>20478</td>\n",
       "      <td>2.65</td>\n",
       "      <td>2.65</td>\n",
       "      <td>2.65</td>\n",
       "      <td>2.65</td>\n",
       "      <td>2.65</td>\n",
       "      <td>2.65</td>\n",
       "      <td>2.65</td>\n",
       "      <td>2.65</td>\n",
       "      <td>2.65</td>\n",
       "      <td>2.65</td>\n",
       "      <td>...</td>\n",
       "      <td>2.65</td>\n",
       "      <td>2.65</td>\n",
       "      <td>2.65</td>\n",
       "      <td>2.65</td>\n",
       "      <td>2.65</td>\n",
       "      <td>2.65</td>\n",
       "      <td>2.65</td>\n",
       "      <td>2.65</td>\n",
       "      <td>2.65</td>\n",
       "      <td>2.65</td>\n",
       "    </tr>\n",
       "    <tr>\n",
       "      <td>20507</td>\n",
       "      <td>2.65</td>\n",
       "      <td>2.65</td>\n",
       "      <td>2.65</td>\n",
       "      <td>2.65</td>\n",
       "      <td>2.65</td>\n",
       "      <td>2.65</td>\n",
       "      <td>2.65</td>\n",
       "      <td>2.65</td>\n",
       "      <td>2.65</td>\n",
       "      <td>2.65</td>\n",
       "      <td>...</td>\n",
       "      <td>2.65</td>\n",
       "      <td>2.65</td>\n",
       "      <td>2.65</td>\n",
       "      <td>2.65</td>\n",
       "      <td>2.65</td>\n",
       "      <td>2.65</td>\n",
       "      <td>2.65</td>\n",
       "      <td>2.65</td>\n",
       "      <td>2.65</td>\n",
       "      <td>2.65</td>\n",
       "    </tr>\n",
       "    <tr>\n",
       "      <td>21377</td>\n",
       "      <td>2.65</td>\n",
       "      <td>2.65</td>\n",
       "      <td>2.65</td>\n",
       "      <td>2.65</td>\n",
       "      <td>2.65</td>\n",
       "      <td>2.65</td>\n",
       "      <td>2.65</td>\n",
       "      <td>2.65</td>\n",
       "      <td>2.65</td>\n",
       "      <td>2.65</td>\n",
       "      <td>...</td>\n",
       "      <td>2.65</td>\n",
       "      <td>2.65</td>\n",
       "      <td>2.65</td>\n",
       "      <td>2.65</td>\n",
       "      <td>2.65</td>\n",
       "      <td>2.65</td>\n",
       "      <td>2.65</td>\n",
       "      <td>2.65</td>\n",
       "      <td>2.65</td>\n",
       "      <td>2.65</td>\n",
       "    </tr>\n",
       "    <tr>\n",
       "      <td>21824</td>\n",
       "      <td>2.65</td>\n",
       "      <td>2.65</td>\n",
       "      <td>2.65</td>\n",
       "      <td>2.65</td>\n",
       "      <td>2.65</td>\n",
       "      <td>2.65</td>\n",
       "      <td>2.65</td>\n",
       "      <td>2.65</td>\n",
       "      <td>2.65</td>\n",
       "      <td>2.65</td>\n",
       "      <td>...</td>\n",
       "      <td>2.65</td>\n",
       "      <td>2.65</td>\n",
       "      <td>2.65</td>\n",
       "      <td>2.65</td>\n",
       "      <td>2.65</td>\n",
       "      <td>2.65</td>\n",
       "      <td>2.65</td>\n",
       "      <td>2.65</td>\n",
       "      <td>2.65</td>\n",
       "      <td>2.65</td>\n",
       "    </tr>\n",
       "    <tr>\n",
       "      <td>22309</td>\n",
       "      <td>2.65</td>\n",
       "      <td>2.65</td>\n",
       "      <td>2.65</td>\n",
       "      <td>2.65</td>\n",
       "      <td>2.65</td>\n",
       "      <td>2.65</td>\n",
       "      <td>2.65</td>\n",
       "      <td>2.65</td>\n",
       "      <td>2.65</td>\n",
       "      <td>2.65</td>\n",
       "      <td>...</td>\n",
       "      <td>2.65</td>\n",
       "      <td>2.65</td>\n",
       "      <td>2.65</td>\n",
       "      <td>2.65</td>\n",
       "      <td>2.65</td>\n",
       "      <td>2.65</td>\n",
       "      <td>2.65</td>\n",
       "      <td>2.65</td>\n",
       "      <td>2.65</td>\n",
       "      <td>2.65</td>\n",
       "    </tr>\n",
       "    <tr>\n",
       "      <td>22336</td>\n",
       "      <td>2.65</td>\n",
       "      <td>2.65</td>\n",
       "      <td>2.65</td>\n",
       "      <td>2.65</td>\n",
       "      <td>2.65</td>\n",
       "      <td>2.65</td>\n",
       "      <td>2.65</td>\n",
       "      <td>2.65</td>\n",
       "      <td>2.65</td>\n",
       "      <td>2.65</td>\n",
       "      <td>...</td>\n",
       "      <td>2.65</td>\n",
       "      <td>2.65</td>\n",
       "      <td>2.65</td>\n",
       "      <td>2.65</td>\n",
       "      <td>2.65</td>\n",
       "      <td>2.65</td>\n",
       "      <td>2.65</td>\n",
       "      <td>2.65</td>\n",
       "      <td>2.65</td>\n",
       "      <td>2.65</td>\n",
       "    </tr>\n",
       "    <tr>\n",
       "      <td>22869</td>\n",
       "      <td>2.65</td>\n",
       "      <td>2.65</td>\n",
       "      <td>2.65</td>\n",
       "      <td>2.65</td>\n",
       "      <td>2.65</td>\n",
       "      <td>2.65</td>\n",
       "      <td>2.65</td>\n",
       "      <td>2.65</td>\n",
       "      <td>2.65</td>\n",
       "      <td>2.65</td>\n",
       "      <td>...</td>\n",
       "      <td>2.65</td>\n",
       "      <td>2.65</td>\n",
       "      <td>2.65</td>\n",
       "      <td>2.65</td>\n",
       "      <td>2.65</td>\n",
       "      <td>2.65</td>\n",
       "      <td>2.65</td>\n",
       "      <td>2.65</td>\n",
       "      <td>2.65</td>\n",
       "      <td>2.65</td>\n",
       "    </tr>\n",
       "    <tr>\n",
       "      <td>22938</td>\n",
       "      <td>2.65</td>\n",
       "      <td>2.65</td>\n",
       "      <td>2.65</td>\n",
       "      <td>2.65</td>\n",
       "      <td>2.65</td>\n",
       "      <td>2.65</td>\n",
       "      <td>2.65</td>\n",
       "      <td>2.65</td>\n",
       "      <td>2.65</td>\n",
       "      <td>2.65</td>\n",
       "      <td>...</td>\n",
       "      <td>2.65</td>\n",
       "      <td>2.65</td>\n",
       "      <td>2.65</td>\n",
       "      <td>2.65</td>\n",
       "      <td>2.65</td>\n",
       "      <td>2.65</td>\n",
       "      <td>2.65</td>\n",
       "      <td>2.65</td>\n",
       "      <td>2.65</td>\n",
       "      <td>2.65</td>\n",
       "    </tr>\n",
       "  </tbody>\n",
       "</table>\n",
       "<p>29 rows × 22 columns</p>\n",
       "</div>"
      ],
      "text/plain": [
       "       total_images  last_price  total_area first_day_exposition  rooms  \\\n",
       "355            2.65        2.65        2.65                 2.65   2.65   \n",
       "3148           2.65        2.65        2.65                 2.65   2.65   \n",
       "3474           2.65        2.65        2.65                 2.65   2.65   \n",
       "4643           2.65        2.65        2.65                 2.65   2.65   \n",
       "4876           2.65        2.65        2.65                 2.65   2.65   \n",
       "5076           2.65        2.65        2.65                 2.65   2.65   \n",
       "5246           2.65        2.65        2.65                 2.65   2.65   \n",
       "5669           2.65        2.65        2.65                 2.65   2.65   \n",
       "5807           2.65        2.65        2.65                 2.65   2.65   \n",
       "5863           2.65        2.65        2.65                 2.65   2.65   \n",
       "6246           2.65        2.65        2.65                 2.65   2.65   \n",
       "9379           2.65        2.65        2.65                 2.65   2.65   \n",
       "10773          2.65        2.65        2.65                 2.65   2.65   \n",
       "11285          2.65        2.65        2.65                 2.65   2.65   \n",
       "14382          2.65        2.65        2.65                 2.65   2.65   \n",
       "15061          2.65        2.65        2.65                 2.65   2.65   \n",
       "15743          2.65        2.65        2.65                 2.65   2.65   \n",
       "17442          2.65        2.65        2.65                 2.65   2.65   \n",
       "17496          2.65        2.65        2.65                 2.65   2.65   \n",
       "17857          2.65        2.65        2.65                 2.65   2.65   \n",
       "18545          2.65        2.65        2.65                 2.65   2.65   \n",
       "20478          2.65        2.65        2.65                 2.65   2.65   \n",
       "20507          2.65        2.65        2.65                 2.65   2.65   \n",
       "21377          2.65        2.65        2.65                 2.65   2.65   \n",
       "21824          2.65        2.65        2.65                 2.65   2.65   \n",
       "22309          2.65        2.65        2.65                 2.65   2.65   \n",
       "22336          2.65        2.65        2.65                 2.65   2.65   \n",
       "22869          2.65        2.65        2.65                 2.65   2.65   \n",
       "22938          2.65        2.65        2.65                 2.65   2.65   \n",
       "\n",
       "       ceiling_height  floors_total  living_area  floor is_apartment  ...  \\\n",
       "355              2.65          2.65         2.65   2.65         2.65  ...   \n",
       "3148             2.65          2.65         2.65   2.65         2.65  ...   \n",
       "3474             2.65          2.65         2.65   2.65         2.65  ...   \n",
       "4643             2.65          2.65         2.65   2.65         2.65  ...   \n",
       "4876             2.65          2.65         2.65   2.65         2.65  ...   \n",
       "5076             2.65          2.65         2.65   2.65         2.65  ...   \n",
       "5246             2.65          2.65         2.65   2.65         2.65  ...   \n",
       "5669             2.65          2.65         2.65   2.65         2.65  ...   \n",
       "5807             2.65          2.65         2.65   2.65         2.65  ...   \n",
       "5863             2.65          2.65         2.65   2.65         2.65  ...   \n",
       "6246             2.65          2.65         2.65   2.65         2.65  ...   \n",
       "9379             2.65          2.65         2.65   2.65         2.65  ...   \n",
       "10773            2.65          2.65         2.65   2.65         2.65  ...   \n",
       "11285            2.65          2.65         2.65   2.65         2.65  ...   \n",
       "14382            2.65          2.65         2.65   2.65         2.65  ...   \n",
       "15061            2.65          2.65         2.65   2.65         2.65  ...   \n",
       "15743            2.65          2.65         2.65   2.65         2.65  ...   \n",
       "17442            2.65          2.65         2.65   2.65         2.65  ...   \n",
       "17496            2.65          2.65         2.65   2.65         2.65  ...   \n",
       "17857            2.65          2.65         2.65   2.65         2.65  ...   \n",
       "18545            2.65          2.65         2.65   2.65         2.65  ...   \n",
       "20478            2.65          2.65         2.65   2.65         2.65  ...   \n",
       "20507            2.65          2.65         2.65   2.65         2.65  ...   \n",
       "21377            2.65          2.65         2.65   2.65         2.65  ...   \n",
       "21824            2.65          2.65         2.65   2.65         2.65  ...   \n",
       "22309            2.65          2.65         2.65   2.65         2.65  ...   \n",
       "22336            2.65          2.65         2.65   2.65         2.65  ...   \n",
       "22869            2.65          2.65         2.65   2.65         2.65  ...   \n",
       "22938            2.65          2.65         2.65   2.65         2.65  ...   \n",
       "\n",
       "      kitchen_area balcony  locality_name  airports_nearest  \\\n",
       "355           2.65    2.65           2.65              2.65   \n",
       "3148          2.65    2.65           2.65              2.65   \n",
       "3474          2.65    2.65           2.65              2.65   \n",
       "4643          2.65    2.65           2.65              2.65   \n",
       "4876          2.65    2.65           2.65              2.65   \n",
       "5076          2.65    2.65           2.65              2.65   \n",
       "5246          2.65    2.65           2.65              2.65   \n",
       "5669          2.65    2.65           2.65              2.65   \n",
       "5807          2.65    2.65           2.65              2.65   \n",
       "5863          2.65    2.65           2.65              2.65   \n",
       "6246          2.65    2.65           2.65              2.65   \n",
       "9379          2.65    2.65           2.65              2.65   \n",
       "10773         2.65    2.65           2.65              2.65   \n",
       "11285         2.65    2.65           2.65              2.65   \n",
       "14382         2.65    2.65           2.65              2.65   \n",
       "15061         2.65    2.65           2.65              2.65   \n",
       "15743         2.65    2.65           2.65              2.65   \n",
       "17442         2.65    2.65           2.65              2.65   \n",
       "17496         2.65    2.65           2.65              2.65   \n",
       "17857         2.65    2.65           2.65              2.65   \n",
       "18545         2.65    2.65           2.65              2.65   \n",
       "20478         2.65    2.65           2.65              2.65   \n",
       "20507         2.65    2.65           2.65              2.65   \n",
       "21377         2.65    2.65           2.65              2.65   \n",
       "21824         2.65    2.65           2.65              2.65   \n",
       "22309         2.65    2.65           2.65              2.65   \n",
       "22336         2.65    2.65           2.65              2.65   \n",
       "22869         2.65    2.65           2.65              2.65   \n",
       "22938         2.65    2.65           2.65              2.65   \n",
       "\n",
       "      cityCenters_nearest  parks_around3000  parks_nearest  ponds_around3000  \\\n",
       "355                  2.65              2.65           2.65              2.65   \n",
       "3148                 2.65              2.65           2.65              2.65   \n",
       "3474                 2.65              2.65           2.65              2.65   \n",
       "4643                 2.65              2.65           2.65              2.65   \n",
       "4876                 2.65              2.65           2.65              2.65   \n",
       "5076                 2.65              2.65           2.65              2.65   \n",
       "5246                 2.65              2.65           2.65              2.65   \n",
       "5669                 2.65              2.65           2.65              2.65   \n",
       "5807                 2.65              2.65           2.65              2.65   \n",
       "5863                 2.65              2.65           2.65              2.65   \n",
       "6246                 2.65              2.65           2.65              2.65   \n",
       "9379                 2.65              2.65           2.65              2.65   \n",
       "10773                2.65              2.65           2.65              2.65   \n",
       "11285                2.65              2.65           2.65              2.65   \n",
       "14382                2.65              2.65           2.65              2.65   \n",
       "15061                2.65              2.65           2.65              2.65   \n",
       "15743                2.65              2.65           2.65              2.65   \n",
       "17442                2.65              2.65           2.65              2.65   \n",
       "17496                2.65              2.65           2.65              2.65   \n",
       "17857                2.65              2.65           2.65              2.65   \n",
       "18545                2.65              2.65           2.65              2.65   \n",
       "20478                2.65              2.65           2.65              2.65   \n",
       "20507                2.65              2.65           2.65              2.65   \n",
       "21377                2.65              2.65           2.65              2.65   \n",
       "21824                2.65              2.65           2.65              2.65   \n",
       "22309                2.65              2.65           2.65              2.65   \n",
       "22336                2.65              2.65           2.65              2.65   \n",
       "22869                2.65              2.65           2.65              2.65   \n",
       "22938                2.65              2.65           2.65              2.65   \n",
       "\n",
       "       ponds_nearest  days_exposition  \n",
       "355             2.65             2.65  \n",
       "3148            2.65             2.65  \n",
       "3474            2.65             2.65  \n",
       "4643            2.65             2.65  \n",
       "4876            2.65             2.65  \n",
       "5076            2.65             2.65  \n",
       "5246            2.65             2.65  \n",
       "5669            2.65             2.65  \n",
       "5807            2.65             2.65  \n",
       "5863            2.65             2.65  \n",
       "6246            2.65             2.65  \n",
       "9379            2.65             2.65  \n",
       "10773           2.65             2.65  \n",
       "11285           2.65             2.65  \n",
       "14382           2.65             2.65  \n",
       "15061           2.65             2.65  \n",
       "15743           2.65             2.65  \n",
       "17442           2.65             2.65  \n",
       "17496           2.65             2.65  \n",
       "17857           2.65             2.65  \n",
       "18545           2.65             2.65  \n",
       "20478           2.65             2.65  \n",
       "20507           2.65             2.65  \n",
       "21377           2.65             2.65  \n",
       "21824           2.65             2.65  \n",
       "22309           2.65             2.65  \n",
       "22336           2.65             2.65  \n",
       "22869           2.65             2.65  \n",
       "22938           2.65             2.65  \n",
       "\n",
       "[29 rows x 22 columns]"
      ]
     },
     "execution_count": 9,
     "metadata": {},
     "output_type": "execute_result"
    }
   ],
   "source": [
    "data.query('floor == \"2.65\"') #вывод таблицы, в которой значения этажа равно 2.65"
   ]
  },
  {
   "cell_type": "markdown",
   "metadata": {},
   "source": [
    "Можно сделать вывод,что это какая-то системная ошибка и удалим эти строки."
   ]
  },
  {
   "cell_type": "code",
   "execution_count": 10,
   "metadata": {},
   "outputs": [
    {
     "data": {
      "text/plain": [
       "array([ 8.,  1.,  4.,  9., 13.,  5.,  6., 22., 26.,  7.,  3.,  2., 11.,\n",
       "       15., 18., 10., 19., 16., 20., 27., 25., 17., 14., 12., 21., 28.,\n",
       "       24., 23., 30., 29., 32., 33., 31.])"
      ]
     },
     "execution_count": 10,
     "metadata": {},
     "output_type": "execute_result"
    }
   ],
   "source": [
    "data=data.query('floor != \"2.65\"') #убираем из таблицы строки, где этаж равен 2.65\n",
    "data['floor'].unique() #уникальные значения этажа"
   ]
  },
  {
   "cell_type": "markdown",
   "metadata": {},
   "source": [
    "В столбцах `living_area`,`kitchen_area` сложно предугадать какого размера площадь на месте пропусков, поэтому имеет смысл оставить данные столбцы без изменений. Проверим уникальные значения столбцов на наличие выбросов. "
   ]
  },
  {
   "cell_type": "code",
   "execution_count": 11,
   "metadata": {},
   "outputs": [
    {
     "data": {
      "text/plain": [
       "array([  2. ,   3. ,   5. , ..., 409. , 409.7,   nan])"
      ]
     },
     "execution_count": 11,
     "metadata": {},
     "output_type": "execute_result"
    }
   ],
   "source": [
    "data['living_area'].sort_values().unique() #уникальные значения размера жилой площади"
   ]
  },
  {
   "cell_type": "code",
   "execution_count": 12,
   "metadata": {
    "scrolled": false
   },
   "outputs": [
    {
     "data": {
      "text/plain": [
       "array([  1.3 ,   2.  ,   2.3 ,   2.4 ,   2.89,   3.  ,   3.2 ,   3.3 ,\n",
       "         3.4 ,   3.5 ,   3.7 ,   3.8 ,   4.  ,   4.1 ,   4.2 ,   4.3 ,\n",
       "         4.4 ,   4.5 ,   4.6 ,   4.7 ,   4.8 ,   4.9 ,   5.  ,   5.04,\n",
       "         5.06,   5.1 ,   5.14,   5.2 ,   5.21,   5.23,   5.25,   5.28,\n",
       "         5.29,   5.3 ,   5.31,   5.33,   5.35,   5.4 ,   5.42,   5.44,\n",
       "         5.47,   5.49,   5.5 ,   5.53,   5.59,   5.6 ,   5.61,   5.62,\n",
       "         5.64,   5.65,   5.68,   5.7 ,   5.74,   5.75,   5.78,   5.8 ,\n",
       "         5.82,   5.85,   5.86,   5.9 ,   5.91,   6.  ,   6.02,   6.03,\n",
       "         6.1 ,   6.16,   6.19,   6.2 ,   6.22,   6.23,   6.24,   6.25,\n",
       "         6.26,   6.27,   6.28,   6.3 ,   6.31,   6.33,   6.35,   6.36,\n",
       "         6.37,   6.4 ,   6.47,   6.5 ,   6.55,   6.58,   6.6 ,   6.61,\n",
       "         6.62,   6.65,   6.7 ,   6.72,   6.73,   6.76,   6.77,   6.8 ,\n",
       "         6.82,   6.83,   6.84,   6.86,   6.9 ,   6.91,   6.93,   6.95,\n",
       "         7.  ,   7.02,   7.03,   7.06,   7.09,   7.1 ,   7.12,   7.15,\n",
       "         7.17,   7.18,   7.19,   7.2 ,   7.3 ,   7.36,   7.4 ,   7.41,\n",
       "         7.48,   7.5 ,   7.54,   7.6 ,   7.63,   7.65,   7.7 ,   7.71,\n",
       "         7.78,   7.8 ,   7.84,   7.85,   7.86,   7.87,   7.89,   7.9 ,\n",
       "         7.92,   7.94,   7.95,   7.97,   8.  ,   8.01,   8.02,   8.03,\n",
       "         8.05,   8.06,   8.07,   8.08,   8.09,   8.1 ,   8.11,   8.12,\n",
       "         8.13,   8.15,   8.18,   8.19,   8.2 ,   8.21,   8.23,   8.25,\n",
       "         8.29,   8.3 ,   8.31,   8.32,   8.34,   8.35,   8.38,   8.4 ,\n",
       "         8.43,   8.44,   8.45,   8.47,   8.48,   8.5 ,   8.52,   8.54,\n",
       "         8.57,   8.58,   8.6 ,   8.61,   8.63,   8.65,   8.66,   8.67,\n",
       "         8.69,   8.7 ,   8.71,   8.73,   8.76,   8.77,   8.8 ,   8.81,\n",
       "         8.82,   8.84,   8.85,   8.87,   8.9 ,   8.93,   8.94,   8.95,\n",
       "         8.96,   8.98,   9.  ,   9.01,   9.04,   9.05,   9.06,   9.08,\n",
       "         9.09,   9.1 ,   9.11,   9.13,   9.16,   9.17,   9.18,   9.19,\n",
       "         9.2 ,   9.22,   9.24,   9.25,   9.26,   9.27,   9.28,   9.3 ,\n",
       "         9.31,   9.32,   9.34,   9.35,   9.36,   9.37,   9.38,   9.39,\n",
       "         9.4 ,   9.42,   9.43,   9.44,   9.45,   9.46,   9.48,   9.5 ,\n",
       "         9.51,   9.52,   9.57,   9.58,   9.59,   9.6 ,   9.62,   9.65,\n",
       "         9.66,   9.67,   9.68,   9.7 ,   9.71,   9.72,   9.73,   9.75,\n",
       "         9.76,   9.77,   9.79,   9.8 ,   9.82,   9.83,   9.85,   9.89,\n",
       "         9.9 ,   9.91,   9.93,   9.95,   9.97,   9.98,  10.  ,  10.01,\n",
       "        10.02,  10.03,  10.05,  10.06,  10.08,  10.09,  10.1 ,  10.12,\n",
       "        10.13,  10.15,  10.17,  10.18,  10.19,  10.2 ,  10.22,  10.24,\n",
       "        10.25,  10.26,  10.27,  10.29,  10.3 ,  10.32,  10.33,  10.34,\n",
       "        10.35,  10.36,  10.37,  10.38,  10.39,  10.4 ,  10.42,  10.43,\n",
       "        10.44,  10.45,  10.46,  10.47,  10.49,  10.5 ,  10.51,  10.52,\n",
       "        10.54,  10.55,  10.56,  10.58,  10.59,  10.6 ,  10.62,  10.63,\n",
       "        10.64,  10.68,  10.69,  10.7 ,  10.71,  10.72,  10.73,  10.74,\n",
       "        10.75,  10.78,  10.79,  10.8 ,  10.84,  10.86,  10.87,  10.88,\n",
       "        10.89,  10.9 ,  10.91,  10.92,  10.94,  10.95,  10.99,  11.  ,\n",
       "        11.04,  11.05,  11.06,  11.07,  11.09,  11.1 ,  11.11,  11.12,\n",
       "        11.13,  11.14,  11.16,  11.17,  11.18,  11.2 ,  11.22,  11.24,\n",
       "        11.25,  11.26,  11.27,  11.28,  11.29,  11.3 ,  11.31,  11.33,\n",
       "        11.34,  11.35,  11.36,  11.37,  11.39,  11.4 ,  11.41,  11.42,\n",
       "        11.43,  11.44,  11.45,  11.46,  11.47,  11.49,  11.5 ,  11.51,\n",
       "        11.52,  11.53,  11.55,  11.56,  11.57,  11.59,  11.6 ,  11.62,\n",
       "        11.63,  11.64,  11.65,  11.67,  11.69,  11.7 ,  11.71,  11.73,\n",
       "        11.74,  11.78,  11.8 ,  11.81,  11.84,  11.85,  11.87,  11.9 ,\n",
       "        11.92,  11.93,  11.95,  11.98,  12.  ,  12.01,  12.02,  12.03,\n",
       "        12.05,  12.08,  12.1 ,  12.11,  12.14,  12.15,  12.17,  12.18,\n",
       "        12.2 ,  12.23,  12.24,  12.25,  12.27,  12.29,  12.3 ,  12.32,\n",
       "        12.35,  12.37,  12.38,  12.39,  12.4 ,  12.43,  12.44,  12.45,\n",
       "        12.47,  12.5 ,  12.52,  12.53,  12.55,  12.56,  12.57,  12.58,\n",
       "        12.6 ,  12.63,  12.66,  12.69,  12.7 ,  12.71,  12.72,  12.75,\n",
       "        12.76,  12.8 ,  12.83,  12.84,  12.85,  12.86,  12.87,  12.88,\n",
       "        12.89,  12.9 ,  12.92,  12.93,  12.96,  13.  ,  13.02,  13.04,\n",
       "        13.05,  13.06,  13.1 ,  13.11,  13.14,  13.16,  13.17,  13.2 ,\n",
       "        13.21,  13.24,  13.25,  13.26,  13.27,  13.28,  13.29,  13.3 ,\n",
       "        13.31,  13.32,  13.33,  13.35,  13.38,  13.39,  13.4 ,  13.41,\n",
       "        13.42,  13.43,  13.47,  13.49,  13.5 ,  13.52,  13.53,  13.55,\n",
       "        13.58,  13.6 ,  13.63,  13.64,  13.65,  13.67,  13.69,  13.7 ,\n",
       "        13.73,  13.74,  13.77,  13.79,  13.8 ,  13.81,  13.83,  13.84,\n",
       "        13.86,  13.9 ,  13.93,  13.95,  14.  ,  14.02,  14.04,  14.05,\n",
       "        14.06,  14.1 ,  14.14,  14.17,  14.2 ,  14.24,  14.27,  14.29,\n",
       "        14.3 ,  14.31,  14.33,  14.4 ,  14.43,  14.46,  14.49,  14.5 ,\n",
       "        14.51,  14.55,  14.56,  14.57,  14.58,  14.6 ,  14.61,  14.64,\n",
       "        14.65,  14.7 ,  14.72,  14.74,  14.77,  14.8 ,  14.84,  14.85,\n",
       "        14.9 ,  14.93,  14.95,  14.97,  14.98,  15.  ,  15.03,  15.07,\n",
       "        15.09,  15.1 ,  15.15,  15.18,  15.2 ,  15.24,  15.26,  15.3 ,\n",
       "        15.33,  15.35,  15.37,  15.39,  15.4 ,  15.42,  15.43,  15.5 ,\n",
       "        15.54,  15.55,  15.57,  15.6 ,  15.61,  15.62,  15.69,  15.7 ,\n",
       "        15.72,  15.78,  15.8 ,  15.83,  15.85,  15.9 ,  16.  ,  16.03,\n",
       "        16.05,  16.07,  16.1 ,  16.2 ,  16.25,  16.26,  16.27,  16.3 ,\n",
       "        16.32,  16.38,  16.4 ,  16.42,  16.45,  16.46,  16.47,  16.48,\n",
       "        16.5 ,  16.6 ,  16.66,  16.7 ,  16.72,  16.74,  16.77,  16.8 ,\n",
       "        16.83,  16.88,  16.89,  16.9 ,  16.92,  17.  ,  17.06,  17.1 ,\n",
       "        17.12,  17.2 ,  17.28,  17.3 ,  17.4 ,  17.44,  17.5 ,  17.53,\n",
       "        17.55,  17.59,  17.6 ,  17.61,  17.64,  17.7 ,  17.8 ,  17.85,\n",
       "        17.87,  17.9 ,  18.  ,  18.07,  18.1 ,  18.16,  18.2 ,  18.25,\n",
       "        18.3 ,  18.34,  18.4 ,  18.45,  18.5 ,  18.55,  18.59,  18.6 ,\n",
       "        18.7 ,  18.78,  18.8 ,  18.88,  18.9 ,  18.93,  19.  ,  19.1 ,\n",
       "        19.19,  19.2 ,  19.21,  19.28,  19.3 ,  19.35,  19.39,  19.4 ,\n",
       "        19.42,  19.45,  19.5 ,  19.51,  19.6 ,  19.61,  19.7 ,  19.8 ,\n",
       "        19.9 ,  19.92,  19.94,  20.  ,  20.07,  20.1 ,  20.16,  20.2 ,\n",
       "        20.24,  20.3 ,  20.31,  20.38,  20.4 ,  20.5 ,  20.52,  20.56,\n",
       "        20.6 ,  20.7 ,  20.77,  20.8 ,  20.9 ,  20.91,  20.92,  21.  ,\n",
       "        21.1 ,  21.2 ,  21.22,  21.25,  21.3 ,  21.4 ,  21.5 ,  21.53,\n",
       "        21.55,  21.6 ,  21.7 ,  21.74,  21.76,  21.8 ,  21.82,  21.87,\n",
       "        21.9 ,  22.  ,  22.1 ,  22.15,  22.2 ,  22.22,  22.3 ,  22.31,\n",
       "        22.4 ,  22.43,  22.46,  22.5 ,  22.6 ,  22.7 ,  22.72,  22.78,\n",
       "        22.8 ,  22.9 ,  23.  ,  23.1 ,  23.2 ,  23.25,  23.28,  23.3 ,\n",
       "        23.38,  23.4 ,  23.42,  23.43,  23.5 ,  23.53,  23.6 ,  23.7 ,\n",
       "        23.71,  23.8 ,  23.9 ,  24.  ,  24.03,  24.1 ,  24.2 ,  24.3 ,\n",
       "        24.4 ,  24.5 ,  24.6 ,  24.7 ,  24.8 ,  24.89,  24.9 ,  25.  ,\n",
       "        25.02,  25.1 ,  25.11,  25.2 ,  25.3 ,  25.34,  25.4 ,  25.5 ,\n",
       "        25.6 ,  25.7 ,  25.86,  25.9 ,  26.  ,  26.1 ,  26.2 ,  26.4 ,\n",
       "        26.5 ,  26.6 ,  26.7 ,  26.8 ,  26.85,  26.9 ,  27.  ,  27.1 ,\n",
       "        27.2 ,  27.3 ,  27.4 ,  27.5 ,  27.57,  27.6 ,  27.76,  27.9 ,\n",
       "        28.  ,  28.1 ,  28.2 ,  28.3 ,  28.4 ,  28.5 ,  28.52,  28.56,\n",
       "        28.6 ,  28.63,  28.64,  28.7 ,  28.8 ,  29.  ,  29.09,  29.1 ,\n",
       "        29.2 ,  29.3 ,  29.4 ,  29.5 ,  29.7 ,  29.8 ,  29.86,  29.9 ,\n",
       "        30.  ,  30.2 ,  30.5 ,  30.59,  30.6 ,  30.8 ,  30.9 ,  31.  ,\n",
       "        31.2 ,  31.3 ,  31.4 ,  31.47,  31.5 ,  31.6 ,  31.7 ,  31.73,\n",
       "        31.8 ,  32.  ,  32.1 ,  32.3 ,  32.4 ,  32.55,  32.6 ,  32.7 ,\n",
       "        32.8 ,  32.9 ,  33.  ,  33.1 ,  33.6 ,  33.8 ,  33.9 ,  34.  ,\n",
       "        34.1 ,  34.19,  34.3 ,  34.4 ,  34.51,  34.6 ,  34.7 ,  34.78,\n",
       "        34.8 ,  35.  ,  35.05,  35.1 ,  35.35,  35.4 ,  35.5 ,  35.6 ,\n",
       "        35.7 ,  35.9 ,  36.  ,  36.2 ,  36.3 ,  36.4 ,  36.5 ,  36.6 ,\n",
       "        37.  ,  37.5 ,  37.6 ,  37.7 ,  37.78,  37.8 ,  37.9 ,  38.  ,\n",
       "        38.1 ,  38.86,  39.  ,  39.1 ,  39.7 ,  39.9 ,  40.  ,  40.1 ,\n",
       "        40.2 ,  40.3 ,  40.4 ,  40.5 ,  40.7 ,  41.  ,  41.1 ,  41.3 ,\n",
       "        41.6 ,  41.9 ,  42.  ,  42.4 ,  42.5 ,  42.6 ,  42.7 ,  42.8 ,\n",
       "        43.  ,  43.2 ,  43.4 ,  43.8 ,  44.  ,  44.7 ,  44.9 ,  45.  ,\n",
       "        45.5 ,  46.  ,  46.8 ,  47.  ,  48.  ,  48.3 ,  48.5 ,  49.2 ,\n",
       "        49.4 ,  50.  ,  50.2 ,  51.  ,  51.8 ,  53.  ,  53.1 ,  54.  ,\n",
       "        54.2 ,  54.3 ,  55.5 ,  55.7 ,  56.  ,  56.2 ,  58.  ,  58.4 ,\n",
       "        60.  ,  62.  ,  62.5 ,  63.  ,  63.4 ,  64.  ,  65.  ,  66.  ,\n",
       "        70.  ,  72.  ,  75.  ,  77.  ,  87.2 ,  93.  ,  93.2 , 100.  ,\n",
       "       100.7 , 107.  , 112.  ,    nan])"
      ]
     },
     "execution_count": 12,
     "metadata": {},
     "output_type": "execute_result"
    }
   ],
   "source": [
    "data['kitchen_area'].sort_values().unique() #уникальные значения размера кухни"
   ]
  },
  {
   "cell_type": "markdown",
   "metadata": {},
   "source": [
    "Жилая площадь в 400 квадратных метров может быть в частном доме, а в 2 квадратных метра в студии, поэтому можно сделать вывод,что с данными в приведенных столбцах все в порядке."
   ]
  },
  {
   "cell_type": "markdown",
   "metadata": {},
   "source": [
    "Вероятнее всего, пропуски в столбце `is_apartment` появились из-за того что человек выставил в объявлении не апартаменты и не заполнил этот критерий. Заменим пропуски на `False`."
   ]
  },
  {
   "cell_type": "code",
   "execution_count": 13,
   "metadata": {},
   "outputs": [
    {
     "data": {
      "text/plain": [
       "False    23623\n",
       "True        47\n",
       "Name: is_apartment, dtype: int64"
      ]
     },
     "execution_count": 13,
     "metadata": {},
     "output_type": "execute_result"
    }
   ],
   "source": [
    "data['is_apartment'] = data['is_apartment'].fillna(False) #замена пустых значений\n",
    "data['is_apartment'].value_counts() #подсчет уникальных значений в столбце"
   ]
  },
  {
   "cell_type": "markdown",
   "metadata": {},
   "source": [
    "Если человек не указал число балконов — скорее всего, их нет. Такие пропуски правильно заменить на 0."
   ]
  },
  {
   "cell_type": "code",
   "execution_count": 14,
   "metadata": {},
   "outputs": [
    {
     "data": {
      "text/plain": [
       "0.0    15268\n",
       "1.0     4188\n",
       "2.0     3650\n",
       "5.0      301\n",
       "4.0      182\n",
       "3.0       81\n",
       "Name: balcony, dtype: int64"
      ]
     },
     "execution_count": 14,
     "metadata": {},
     "output_type": "execute_result"
    }
   ],
   "source": [
    "data['balcony'] = data['balcony'].fillna(0) #замена пустых значений на ноль\n",
    "data['balcony'].value_counts() #подсчет уникальных значений"
   ]
  },
  {
   "cell_type": "markdown",
   "metadata": {},
   "source": [
    "Пропуски в столбце `days_exposition` можно оставить без изменений. Ниже приведена усеченная таблица с данными пропусками, по которой можно понять, что приведенные строки — непроданные объекты."
   ]
  },
  {
   "cell_type": "code",
   "execution_count": 15,
   "metadata": {},
   "outputs": [
    {
     "data": {
      "text/html": [
       "<div>\n",
       "<style scoped>\n",
       "    .dataframe tbody tr th:only-of-type {\n",
       "        vertical-align: middle;\n",
       "    }\n",
       "\n",
       "    .dataframe tbody tr th {\n",
       "        vertical-align: top;\n",
       "    }\n",
       "\n",
       "    .dataframe thead th {\n",
       "        text-align: right;\n",
       "    }\n",
       "</style>\n",
       "<table border=\"1\" class=\"dataframe\">\n",
       "  <thead>\n",
       "    <tr style=\"text-align: right;\">\n",
       "      <th></th>\n",
       "      <th>total_images</th>\n",
       "      <th>last_price</th>\n",
       "      <th>total_area</th>\n",
       "      <th>first_day_exposition</th>\n",
       "      <th>rooms</th>\n",
       "      <th>ceiling_height</th>\n",
       "      <th>floors_total</th>\n",
       "      <th>living_area</th>\n",
       "      <th>floor</th>\n",
       "      <th>is_apartment</th>\n",
       "      <th>...</th>\n",
       "      <th>kitchen_area</th>\n",
       "      <th>balcony</th>\n",
       "      <th>locality_name</th>\n",
       "      <th>airports_nearest</th>\n",
       "      <th>cityCenters_nearest</th>\n",
       "      <th>parks_around3000</th>\n",
       "      <th>parks_nearest</th>\n",
       "      <th>ponds_around3000</th>\n",
       "      <th>ponds_nearest</th>\n",
       "      <th>days_exposition</th>\n",
       "    </tr>\n",
       "  </thead>\n",
       "  <tbody>\n",
       "    <tr>\n",
       "      <td>0</td>\n",
       "      <td>20.0</td>\n",
       "      <td>13000000.0</td>\n",
       "      <td>108.00</td>\n",
       "      <td>2019-03-07T00:00:00</td>\n",
       "      <td>3.0</td>\n",
       "      <td>2.70</td>\n",
       "      <td>16.0</td>\n",
       "      <td>51.0</td>\n",
       "      <td>8.0</td>\n",
       "      <td>False</td>\n",
       "      <td>...</td>\n",
       "      <td>25.00</td>\n",
       "      <td>0.0</td>\n",
       "      <td>Санкт-Петербург</td>\n",
       "      <td>18863.0</td>\n",
       "      <td>16028.0</td>\n",
       "      <td>1.0</td>\n",
       "      <td>482.0</td>\n",
       "      <td>2.0</td>\n",
       "      <td>755.0</td>\n",
       "      <td>NaN</td>\n",
       "    </tr>\n",
       "    <tr>\n",
       "      <td>7</td>\n",
       "      <td>5.0</td>\n",
       "      <td>7915000.0</td>\n",
       "      <td>71.60</td>\n",
       "      <td>2019-04-18T00:00:00</td>\n",
       "      <td>2.0</td>\n",
       "      <td>2.65</td>\n",
       "      <td>24.0</td>\n",
       "      <td>NaN</td>\n",
       "      <td>22.0</td>\n",
       "      <td>False</td>\n",
       "      <td>...</td>\n",
       "      <td>18.90</td>\n",
       "      <td>2.0</td>\n",
       "      <td>Санкт-Петербург</td>\n",
       "      <td>23982.0</td>\n",
       "      <td>11634.0</td>\n",
       "      <td>0.0</td>\n",
       "      <td>NaN</td>\n",
       "      <td>0.0</td>\n",
       "      <td>NaN</td>\n",
       "      <td>NaN</td>\n",
       "    </tr>\n",
       "    <tr>\n",
       "      <td>44</td>\n",
       "      <td>13.0</td>\n",
       "      <td>5350000.0</td>\n",
       "      <td>40.00</td>\n",
       "      <td>2018-11-18T00:00:00</td>\n",
       "      <td>1.0</td>\n",
       "      <td>2.65</td>\n",
       "      <td>22.0</td>\n",
       "      <td>NaN</td>\n",
       "      <td>3.0</td>\n",
       "      <td>False</td>\n",
       "      <td>...</td>\n",
       "      <td>NaN</td>\n",
       "      <td>1.0</td>\n",
       "      <td>Санкт-Петербург</td>\n",
       "      <td>30471.0</td>\n",
       "      <td>11603.0</td>\n",
       "      <td>1.0</td>\n",
       "      <td>620.0</td>\n",
       "      <td>1.0</td>\n",
       "      <td>1152.0</td>\n",
       "      <td>NaN</td>\n",
       "    </tr>\n",
       "    <tr>\n",
       "      <td>45</td>\n",
       "      <td>17.0</td>\n",
       "      <td>5200000.0</td>\n",
       "      <td>50.60</td>\n",
       "      <td>2018-12-02T00:00:00</td>\n",
       "      <td>2.0</td>\n",
       "      <td>2.65</td>\n",
       "      <td>9.0</td>\n",
       "      <td>30.3</td>\n",
       "      <td>7.0</td>\n",
       "      <td>False</td>\n",
       "      <td>...</td>\n",
       "      <td>7.00</td>\n",
       "      <td>0.0</td>\n",
       "      <td>Санкт-Петербург</td>\n",
       "      <td>30011.0</td>\n",
       "      <td>12872.0</td>\n",
       "      <td>0.0</td>\n",
       "      <td>NaN</td>\n",
       "      <td>0.0</td>\n",
       "      <td>NaN</td>\n",
       "      <td>NaN</td>\n",
       "    </tr>\n",
       "    <tr>\n",
       "      <td>46</td>\n",
       "      <td>17.0</td>\n",
       "      <td>6600000.0</td>\n",
       "      <td>52.10</td>\n",
       "      <td>2019-01-31T00:00:00</td>\n",
       "      <td>2.0</td>\n",
       "      <td>2.60</td>\n",
       "      <td>24.0</td>\n",
       "      <td>29.7</td>\n",
       "      <td>9.0</td>\n",
       "      <td>False</td>\n",
       "      <td>...</td>\n",
       "      <td>8.30</td>\n",
       "      <td>2.0</td>\n",
       "      <td>Санкт-Петербург</td>\n",
       "      <td>15114.0</td>\n",
       "      <td>12702.0</td>\n",
       "      <td>0.0</td>\n",
       "      <td>NaN</td>\n",
       "      <td>0.0</td>\n",
       "      <td>NaN</td>\n",
       "      <td>NaN</td>\n",
       "    </tr>\n",
       "    <tr>\n",
       "      <td>...</td>\n",
       "      <td>...</td>\n",
       "      <td>...</td>\n",
       "      <td>...</td>\n",
       "      <td>...</td>\n",
       "      <td>...</td>\n",
       "      <td>...</td>\n",
       "      <td>...</td>\n",
       "      <td>...</td>\n",
       "      <td>...</td>\n",
       "      <td>...</td>\n",
       "      <td>...</td>\n",
       "      <td>...</td>\n",
       "      <td>...</td>\n",
       "      <td>...</td>\n",
       "      <td>...</td>\n",
       "      <td>...</td>\n",
       "      <td>...</td>\n",
       "      <td>...</td>\n",
       "      <td>...</td>\n",
       "      <td>...</td>\n",
       "      <td>...</td>\n",
       "    </tr>\n",
       "    <tr>\n",
       "      <td>23684</td>\n",
       "      <td>20.0</td>\n",
       "      <td>21400000.0</td>\n",
       "      <td>145.00</td>\n",
       "      <td>2018-11-02T00:00:00</td>\n",
       "      <td>4.0</td>\n",
       "      <td>3.00</td>\n",
       "      <td>26.0</td>\n",
       "      <td>71.4</td>\n",
       "      <td>17.0</td>\n",
       "      <td>False</td>\n",
       "      <td>...</td>\n",
       "      <td>15.60</td>\n",
       "      <td>0.0</td>\n",
       "      <td>Санкт-Петербург</td>\n",
       "      <td>11827.0</td>\n",
       "      <td>11459.0</td>\n",
       "      <td>0.0</td>\n",
       "      <td>NaN</td>\n",
       "      <td>0.0</td>\n",
       "      <td>NaN</td>\n",
       "      <td>NaN</td>\n",
       "    </tr>\n",
       "    <tr>\n",
       "      <td>23685</td>\n",
       "      <td>15.0</td>\n",
       "      <td>2490000.0</td>\n",
       "      <td>31.00</td>\n",
       "      <td>2019-01-24T00:00:00</td>\n",
       "      <td>1.0</td>\n",
       "      <td>2.50</td>\n",
       "      <td>5.0</td>\n",
       "      <td>17.3</td>\n",
       "      <td>5.0</td>\n",
       "      <td>False</td>\n",
       "      <td>...</td>\n",
       "      <td>5.60</td>\n",
       "      <td>1.0</td>\n",
       "      <td>Ломоносов</td>\n",
       "      <td>48393.0</td>\n",
       "      <td>51818.0</td>\n",
       "      <td>0.0</td>\n",
       "      <td>NaN</td>\n",
       "      <td>0.0</td>\n",
       "      <td>NaN</td>\n",
       "      <td>NaN</td>\n",
       "    </tr>\n",
       "    <tr>\n",
       "      <td>23694</td>\n",
       "      <td>9.0</td>\n",
       "      <td>9700000.0</td>\n",
       "      <td>133.81</td>\n",
       "      <td>2017-03-21T00:00:00</td>\n",
       "      <td>3.0</td>\n",
       "      <td>3.70</td>\n",
       "      <td>5.0</td>\n",
       "      <td>73.3</td>\n",
       "      <td>3.0</td>\n",
       "      <td>False</td>\n",
       "      <td>...</td>\n",
       "      <td>13.83</td>\n",
       "      <td>0.0</td>\n",
       "      <td>Санкт-Петербург</td>\n",
       "      <td>24665.0</td>\n",
       "      <td>4232.0</td>\n",
       "      <td>1.0</td>\n",
       "      <td>796.0</td>\n",
       "      <td>3.0</td>\n",
       "      <td>381.0</td>\n",
       "      <td>NaN</td>\n",
       "    </tr>\n",
       "    <tr>\n",
       "      <td>23696</td>\n",
       "      <td>18.0</td>\n",
       "      <td>2500000.0</td>\n",
       "      <td>56.70</td>\n",
       "      <td>2018-02-11T00:00:00</td>\n",
       "      <td>2.0</td>\n",
       "      <td>2.65</td>\n",
       "      <td>3.0</td>\n",
       "      <td>29.7</td>\n",
       "      <td>1.0</td>\n",
       "      <td>False</td>\n",
       "      <td>...</td>\n",
       "      <td>NaN</td>\n",
       "      <td>0.0</td>\n",
       "      <td>село Рождествено</td>\n",
       "      <td>NaN</td>\n",
       "      <td>NaN</td>\n",
       "      <td>NaN</td>\n",
       "      <td>NaN</td>\n",
       "      <td>NaN</td>\n",
       "      <td>NaN</td>\n",
       "      <td>NaN</td>\n",
       "    </tr>\n",
       "    <tr>\n",
       "      <td>23698</td>\n",
       "      <td>4.0</td>\n",
       "      <td>1350000.0</td>\n",
       "      <td>32.30</td>\n",
       "      <td>2017-07-21T00:00:00</td>\n",
       "      <td>1.0</td>\n",
       "      <td>2.50</td>\n",
       "      <td>5.0</td>\n",
       "      <td>12.3</td>\n",
       "      <td>1.0</td>\n",
       "      <td>False</td>\n",
       "      <td>...</td>\n",
       "      <td>9.00</td>\n",
       "      <td>0.0</td>\n",
       "      <td>поселок Новый Учхоз</td>\n",
       "      <td>NaN</td>\n",
       "      <td>NaN</td>\n",
       "      <td>NaN</td>\n",
       "      <td>NaN</td>\n",
       "      <td>NaN</td>\n",
       "      <td>NaN</td>\n",
       "      <td>NaN</td>\n",
       "    </tr>\n",
       "  </tbody>\n",
       "</table>\n",
       "<p>3175 rows × 22 columns</p>\n",
       "</div>"
      ],
      "text/plain": [
       "       total_images  last_price  total_area first_day_exposition  rooms  \\\n",
       "0              20.0  13000000.0      108.00  2019-03-07T00:00:00    3.0   \n",
       "7               5.0   7915000.0       71.60  2019-04-18T00:00:00    2.0   \n",
       "44             13.0   5350000.0       40.00  2018-11-18T00:00:00    1.0   \n",
       "45             17.0   5200000.0       50.60  2018-12-02T00:00:00    2.0   \n",
       "46             17.0   6600000.0       52.10  2019-01-31T00:00:00    2.0   \n",
       "...             ...         ...         ...                  ...    ...   \n",
       "23684          20.0  21400000.0      145.00  2018-11-02T00:00:00    4.0   \n",
       "23685          15.0   2490000.0       31.00  2019-01-24T00:00:00    1.0   \n",
       "23694           9.0   9700000.0      133.81  2017-03-21T00:00:00    3.0   \n",
       "23696          18.0   2500000.0       56.70  2018-02-11T00:00:00    2.0   \n",
       "23698           4.0   1350000.0       32.30  2017-07-21T00:00:00    1.0   \n",
       "\n",
       "       ceiling_height  floors_total  living_area  floor  is_apartment  ...  \\\n",
       "0                2.70          16.0         51.0    8.0         False  ...   \n",
       "7                2.65          24.0          NaN   22.0         False  ...   \n",
       "44               2.65          22.0          NaN    3.0         False  ...   \n",
       "45               2.65           9.0         30.3    7.0         False  ...   \n",
       "46               2.60          24.0         29.7    9.0         False  ...   \n",
       "...               ...           ...          ...    ...           ...  ...   \n",
       "23684            3.00          26.0         71.4   17.0         False  ...   \n",
       "23685            2.50           5.0         17.3    5.0         False  ...   \n",
       "23694            3.70           5.0         73.3    3.0         False  ...   \n",
       "23696            2.65           3.0         29.7    1.0         False  ...   \n",
       "23698            2.50           5.0         12.3    1.0         False  ...   \n",
       "\n",
       "      kitchen_area balcony        locality_name  airports_nearest  \\\n",
       "0            25.00     0.0      Санкт-Петербург           18863.0   \n",
       "7            18.90     2.0      Санкт-Петербург           23982.0   \n",
       "44             NaN     1.0      Санкт-Петербург           30471.0   \n",
       "45            7.00     0.0      Санкт-Петербург           30011.0   \n",
       "46            8.30     2.0      Санкт-Петербург           15114.0   \n",
       "...            ...     ...                  ...               ...   \n",
       "23684        15.60     0.0      Санкт-Петербург           11827.0   \n",
       "23685         5.60     1.0            Ломоносов           48393.0   \n",
       "23694        13.83     0.0      Санкт-Петербург           24665.0   \n",
       "23696          NaN     0.0     село Рождествено               NaN   \n",
       "23698         9.00     0.0  поселок Новый Учхоз               NaN   \n",
       "\n",
       "      cityCenters_nearest  parks_around3000  parks_nearest  ponds_around3000  \\\n",
       "0                 16028.0               1.0          482.0               2.0   \n",
       "7                 11634.0               0.0            NaN               0.0   \n",
       "44                11603.0               1.0          620.0               1.0   \n",
       "45                12872.0               0.0            NaN               0.0   \n",
       "46                12702.0               0.0            NaN               0.0   \n",
       "...                   ...               ...            ...               ...   \n",
       "23684             11459.0               0.0            NaN               0.0   \n",
       "23685             51818.0               0.0            NaN               0.0   \n",
       "23694              4232.0               1.0          796.0               3.0   \n",
       "23696                 NaN               NaN            NaN               NaN   \n",
       "23698                 NaN               NaN            NaN               NaN   \n",
       "\n",
       "       ponds_nearest  days_exposition  \n",
       "0              755.0              NaN  \n",
       "7                NaN              NaN  \n",
       "44            1152.0              NaN  \n",
       "45               NaN              NaN  \n",
       "46               NaN              NaN  \n",
       "...              ...              ...  \n",
       "23684            NaN              NaN  \n",
       "23685            NaN              NaN  \n",
       "23694          381.0              NaN  \n",
       "23696            NaN              NaN  \n",
       "23698            NaN              NaN  \n",
       "\n",
       "[3175 rows x 22 columns]"
      ]
     },
     "execution_count": 15,
     "metadata": {},
     "output_type": "execute_result"
    }
   ],
   "source": [
    "data.query('days_exposition.isna()') #вывод таблицы с пропусками в столбце"
   ]
  },
  {
   "cell_type": "markdown",
   "metadata": {},
   "source": [
    "Пропусков в столбце `locality_name` всего 49, можно сделать вывод,что их доля невелика. Скорее всего они могли появится из-за того, что  человек не заполнил населенный пункт. И по таблице ниже, можно сделать вывод,что пропуски в данном столбце не зависят от какого-то определенного столбца."
   ]
  },
  {
   "cell_type": "code",
   "execution_count": 16,
   "metadata": {},
   "outputs": [
    {
     "data": {
      "text/html": [
       "<div>\n",
       "<style scoped>\n",
       "    .dataframe tbody tr th:only-of-type {\n",
       "        vertical-align: middle;\n",
       "    }\n",
       "\n",
       "    .dataframe tbody tr th {\n",
       "        vertical-align: top;\n",
       "    }\n",
       "\n",
       "    .dataframe thead th {\n",
       "        text-align: right;\n",
       "    }\n",
       "</style>\n",
       "<table border=\"1\" class=\"dataframe\">\n",
       "  <thead>\n",
       "    <tr style=\"text-align: right;\">\n",
       "      <th></th>\n",
       "      <th>total_images</th>\n",
       "      <th>last_price</th>\n",
       "      <th>total_area</th>\n",
       "      <th>first_day_exposition</th>\n",
       "      <th>rooms</th>\n",
       "      <th>ceiling_height</th>\n",
       "      <th>floors_total</th>\n",
       "      <th>living_area</th>\n",
       "      <th>floor</th>\n",
       "      <th>is_apartment</th>\n",
       "      <th>...</th>\n",
       "      <th>kitchen_area</th>\n",
       "      <th>balcony</th>\n",
       "      <th>locality_name</th>\n",
       "      <th>airports_nearest</th>\n",
       "      <th>cityCenters_nearest</th>\n",
       "      <th>parks_around3000</th>\n",
       "      <th>parks_nearest</th>\n",
       "      <th>ponds_around3000</th>\n",
       "      <th>ponds_nearest</th>\n",
       "      <th>days_exposition</th>\n",
       "    </tr>\n",
       "  </thead>\n",
       "  <tbody>\n",
       "    <tr>\n",
       "      <td>1097</td>\n",
       "      <td>3.0</td>\n",
       "      <td>8600000.0</td>\n",
       "      <td>81.70</td>\n",
       "      <td>2016-04-15T00:00:00</td>\n",
       "      <td>3.0</td>\n",
       "      <td>3.55</td>\n",
       "      <td>5.0</td>\n",
       "      <td>50.80</td>\n",
       "      <td>2.0</td>\n",
       "      <td>False</td>\n",
       "      <td>...</td>\n",
       "      <td>8.80</td>\n",
       "      <td>0.0</td>\n",
       "      <td>NaN</td>\n",
       "      <td>23478.0</td>\n",
       "      <td>4258.0</td>\n",
       "      <td>0.0</td>\n",
       "      <td>NaN</td>\n",
       "      <td>0.0</td>\n",
       "      <td>NaN</td>\n",
       "      <td>147.0</td>\n",
       "    </tr>\n",
       "    <tr>\n",
       "      <td>2033</td>\n",
       "      <td>6.0</td>\n",
       "      <td>5398000.0</td>\n",
       "      <td>80.00</td>\n",
       "      <td>2017-05-30T00:00:00</td>\n",
       "      <td>3.0</td>\n",
       "      <td>2.65</td>\n",
       "      <td>4.0</td>\n",
       "      <td>42.60</td>\n",
       "      <td>2.0</td>\n",
       "      <td>False</td>\n",
       "      <td>...</td>\n",
       "      <td>18.60</td>\n",
       "      <td>0.0</td>\n",
       "      <td>NaN</td>\n",
       "      <td>NaN</td>\n",
       "      <td>NaN</td>\n",
       "      <td>NaN</td>\n",
       "      <td>NaN</td>\n",
       "      <td>NaN</td>\n",
       "      <td>NaN</td>\n",
       "      <td>34.0</td>\n",
       "    </tr>\n",
       "    <tr>\n",
       "      <td>2603</td>\n",
       "      <td>20.0</td>\n",
       "      <td>3351765.0</td>\n",
       "      <td>42.70</td>\n",
       "      <td>2015-09-20T00:00:00</td>\n",
       "      <td>1.0</td>\n",
       "      <td>2.65</td>\n",
       "      <td>24.0</td>\n",
       "      <td>15.60</td>\n",
       "      <td>3.0</td>\n",
       "      <td>False</td>\n",
       "      <td>...</td>\n",
       "      <td>10.70</td>\n",
       "      <td>0.0</td>\n",
       "      <td>NaN</td>\n",
       "      <td>22041.0</td>\n",
       "      <td>17369.0</td>\n",
       "      <td>0.0</td>\n",
       "      <td>NaN</td>\n",
       "      <td>1.0</td>\n",
       "      <td>374.0</td>\n",
       "      <td>276.0</td>\n",
       "    </tr>\n",
       "    <tr>\n",
       "      <td>2632</td>\n",
       "      <td>2.0</td>\n",
       "      <td>5130593.0</td>\n",
       "      <td>62.40</td>\n",
       "      <td>2015-10-11T00:00:00</td>\n",
       "      <td>2.0</td>\n",
       "      <td>2.65</td>\n",
       "      <td>24.0</td>\n",
       "      <td>33.10</td>\n",
       "      <td>21.0</td>\n",
       "      <td>False</td>\n",
       "      <td>...</td>\n",
       "      <td>8.20</td>\n",
       "      <td>0.0</td>\n",
       "      <td>NaN</td>\n",
       "      <td>22041.0</td>\n",
       "      <td>17369.0</td>\n",
       "      <td>0.0</td>\n",
       "      <td>NaN</td>\n",
       "      <td>1.0</td>\n",
       "      <td>374.0</td>\n",
       "      <td>256.0</td>\n",
       "    </tr>\n",
       "    <tr>\n",
       "      <td>3574</td>\n",
       "      <td>10.0</td>\n",
       "      <td>4200000.0</td>\n",
       "      <td>46.50</td>\n",
       "      <td>2016-05-28T00:00:00</td>\n",
       "      <td>2.0</td>\n",
       "      <td>2.65</td>\n",
       "      <td>5.0</td>\n",
       "      <td>30.80</td>\n",
       "      <td>5.0</td>\n",
       "      <td>False</td>\n",
       "      <td>...</td>\n",
       "      <td>6.50</td>\n",
       "      <td>0.0</td>\n",
       "      <td>NaN</td>\n",
       "      <td>27419.0</td>\n",
       "      <td>8127.0</td>\n",
       "      <td>0.0</td>\n",
       "      <td>NaN</td>\n",
       "      <td>1.0</td>\n",
       "      <td>603.0</td>\n",
       "      <td>45.0</td>\n",
       "    </tr>\n",
       "    <tr>\n",
       "      <td>4151</td>\n",
       "      <td>17.0</td>\n",
       "      <td>17600000.0</td>\n",
       "      <td>89.50</td>\n",
       "      <td>2014-12-09T00:00:00</td>\n",
       "      <td>2.0</td>\n",
       "      <td>3.00</td>\n",
       "      <td>8.0</td>\n",
       "      <td>39.62</td>\n",
       "      <td>7.0</td>\n",
       "      <td>False</td>\n",
       "      <td>...</td>\n",
       "      <td>13.38</td>\n",
       "      <td>0.0</td>\n",
       "      <td>NaN</td>\n",
       "      <td>25054.0</td>\n",
       "      <td>3902.0</td>\n",
       "      <td>1.0</td>\n",
       "      <td>485.0</td>\n",
       "      <td>3.0</td>\n",
       "      <td>722.0</td>\n",
       "      <td>869.0</td>\n",
       "    </tr>\n",
       "    <tr>\n",
       "      <td>4189</td>\n",
       "      <td>7.0</td>\n",
       "      <td>9200000.0</td>\n",
       "      <td>80.00</td>\n",
       "      <td>2015-12-10T00:00:00</td>\n",
       "      <td>3.0</td>\n",
       "      <td>4.00</td>\n",
       "      <td>4.0</td>\n",
       "      <td>52.30</td>\n",
       "      <td>3.0</td>\n",
       "      <td>False</td>\n",
       "      <td>...</td>\n",
       "      <td>10.40</td>\n",
       "      <td>0.0</td>\n",
       "      <td>NaN</td>\n",
       "      <td>21774.0</td>\n",
       "      <td>3039.0</td>\n",
       "      <td>1.0</td>\n",
       "      <td>690.0</td>\n",
       "      <td>1.0</td>\n",
       "      <td>953.0</td>\n",
       "      <td>223.0</td>\n",
       "    </tr>\n",
       "    <tr>\n",
       "      <td>4670</td>\n",
       "      <td>1.0</td>\n",
       "      <td>5500000.0</td>\n",
       "      <td>83.00</td>\n",
       "      <td>2015-08-14T00:00:00</td>\n",
       "      <td>3.0</td>\n",
       "      <td>2.65</td>\n",
       "      <td>7.0</td>\n",
       "      <td>NaN</td>\n",
       "      <td>6.0</td>\n",
       "      <td>False</td>\n",
       "      <td>...</td>\n",
       "      <td>NaN</td>\n",
       "      <td>0.0</td>\n",
       "      <td>NaN</td>\n",
       "      <td>26534.0</td>\n",
       "      <td>5382.0</td>\n",
       "      <td>1.0</td>\n",
       "      <td>446.0</td>\n",
       "      <td>1.0</td>\n",
       "      <td>376.0</td>\n",
       "      <td>350.0</td>\n",
       "    </tr>\n",
       "    <tr>\n",
       "      <td>5343</td>\n",
       "      <td>19.0</td>\n",
       "      <td>13540000.0</td>\n",
       "      <td>85.50</td>\n",
       "      <td>2016-01-20T00:00:00</td>\n",
       "      <td>3.0</td>\n",
       "      <td>2.65</td>\n",
       "      <td>7.0</td>\n",
       "      <td>59.10</td>\n",
       "      <td>5.0</td>\n",
       "      <td>False</td>\n",
       "      <td>...</td>\n",
       "      <td>8.30</td>\n",
       "      <td>4.0</td>\n",
       "      <td>NaN</td>\n",
       "      <td>10556.0</td>\n",
       "      <td>9538.0</td>\n",
       "      <td>1.0</td>\n",
       "      <td>67.0</td>\n",
       "      <td>0.0</td>\n",
       "      <td>NaN</td>\n",
       "      <td>303.0</td>\n",
       "    </tr>\n",
       "    <tr>\n",
       "      <td>5707</td>\n",
       "      <td>7.0</td>\n",
       "      <td>3700000.0</td>\n",
       "      <td>30.00</td>\n",
       "      <td>2016-04-29T00:00:00</td>\n",
       "      <td>1.0</td>\n",
       "      <td>2.65</td>\n",
       "      <td>24.0</td>\n",
       "      <td>20.00</td>\n",
       "      <td>23.0</td>\n",
       "      <td>False</td>\n",
       "      <td>...</td>\n",
       "      <td>NaN</td>\n",
       "      <td>0.0</td>\n",
       "      <td>NaN</td>\n",
       "      <td>21460.0</td>\n",
       "      <td>16788.0</td>\n",
       "      <td>0.0</td>\n",
       "      <td>NaN</td>\n",
       "      <td>1.0</td>\n",
       "      <td>170.0</td>\n",
       "      <td>49.0</td>\n",
       "    </tr>\n",
       "    <tr>\n",
       "      <td>6765</td>\n",
       "      <td>20.0</td>\n",
       "      <td>4895892.0</td>\n",
       "      <td>60.70</td>\n",
       "      <td>2015-03-12T00:00:00</td>\n",
       "      <td>2.0</td>\n",
       "      <td>2.65</td>\n",
       "      <td>24.0</td>\n",
       "      <td>31.90</td>\n",
       "      <td>3.0</td>\n",
       "      <td>False</td>\n",
       "      <td>...</td>\n",
       "      <td>12.20</td>\n",
       "      <td>0.0</td>\n",
       "      <td>NaN</td>\n",
       "      <td>22041.0</td>\n",
       "      <td>17369.0</td>\n",
       "      <td>0.0</td>\n",
       "      <td>NaN</td>\n",
       "      <td>1.0</td>\n",
       "      <td>374.0</td>\n",
       "      <td>468.0</td>\n",
       "    </tr>\n",
       "    <tr>\n",
       "      <td>7114</td>\n",
       "      <td>5.0</td>\n",
       "      <td>4250000.0</td>\n",
       "      <td>56.00</td>\n",
       "      <td>2016-03-16T00:00:00</td>\n",
       "      <td>3.0</td>\n",
       "      <td>2.65</td>\n",
       "      <td>5.0</td>\n",
       "      <td>40.00</td>\n",
       "      <td>4.0</td>\n",
       "      <td>False</td>\n",
       "      <td>...</td>\n",
       "      <td>6.00</td>\n",
       "      <td>0.0</td>\n",
       "      <td>NaN</td>\n",
       "      <td>14031.0</td>\n",
       "      <td>8582.0</td>\n",
       "      <td>0.0</td>\n",
       "      <td>NaN</td>\n",
       "      <td>0.0</td>\n",
       "      <td>NaN</td>\n",
       "      <td>96.0</td>\n",
       "    </tr>\n",
       "    <tr>\n",
       "      <td>7330</td>\n",
       "      <td>8.0</td>\n",
       "      <td>5100000.0</td>\n",
       "      <td>63.00</td>\n",
       "      <td>2015-01-27T00:00:00</td>\n",
       "      <td>3.0</td>\n",
       "      <td>2.65</td>\n",
       "      <td>5.0</td>\n",
       "      <td>42.00</td>\n",
       "      <td>1.0</td>\n",
       "      <td>False</td>\n",
       "      <td>...</td>\n",
       "      <td>7.50</td>\n",
       "      <td>0.0</td>\n",
       "      <td>NaN</td>\n",
       "      <td>25925.0</td>\n",
       "      <td>4627.0</td>\n",
       "      <td>2.0</td>\n",
       "      <td>459.0</td>\n",
       "      <td>0.0</td>\n",
       "      <td>NaN</td>\n",
       "      <td>566.0</td>\n",
       "    </tr>\n",
       "    <tr>\n",
       "      <td>7600</td>\n",
       "      <td>8.0</td>\n",
       "      <td>6800000.0</td>\n",
       "      <td>70.00</td>\n",
       "      <td>2016-01-31T00:00:00</td>\n",
       "      <td>3.0</td>\n",
       "      <td>2.65</td>\n",
       "      <td>11.0</td>\n",
       "      <td>42.00</td>\n",
       "      <td>9.0</td>\n",
       "      <td>False</td>\n",
       "      <td>...</td>\n",
       "      <td>11.00</td>\n",
       "      <td>1.0</td>\n",
       "      <td>NaN</td>\n",
       "      <td>37123.0</td>\n",
       "      <td>12332.0</td>\n",
       "      <td>0.0</td>\n",
       "      <td>NaN</td>\n",
       "      <td>0.0</td>\n",
       "      <td>NaN</td>\n",
       "      <td>209.0</td>\n",
       "    </tr>\n",
       "    <tr>\n",
       "      <td>8568</td>\n",
       "      <td>10.0</td>\n",
       "      <td>16000000.0</td>\n",
       "      <td>155.00</td>\n",
       "      <td>2016-05-09T00:00:00</td>\n",
       "      <td>3.0</td>\n",
       "      <td>2.65</td>\n",
       "      <td>6.0</td>\n",
       "      <td>94.00</td>\n",
       "      <td>3.0</td>\n",
       "      <td>False</td>\n",
       "      <td>...</td>\n",
       "      <td>23.00</td>\n",
       "      <td>0.0</td>\n",
       "      <td>NaN</td>\n",
       "      <td>24233.0</td>\n",
       "      <td>4065.0</td>\n",
       "      <td>1.0</td>\n",
       "      <td>547.0</td>\n",
       "      <td>0.0</td>\n",
       "      <td>NaN</td>\n",
       "      <td>248.0</td>\n",
       "    </tr>\n",
       "    <tr>\n",
       "      <td>8986</td>\n",
       "      <td>10.0</td>\n",
       "      <td>4850000.0</td>\n",
       "      <td>103.10</td>\n",
       "      <td>2018-07-10T00:00:00</td>\n",
       "      <td>3.0</td>\n",
       "      <td>2.65</td>\n",
       "      <td>5.0</td>\n",
       "      <td>68.10</td>\n",
       "      <td>4.0</td>\n",
       "      <td>False</td>\n",
       "      <td>...</td>\n",
       "      <td>16.70</td>\n",
       "      <td>0.0</td>\n",
       "      <td>NaN</td>\n",
       "      <td>19659.0</td>\n",
       "      <td>31813.0</td>\n",
       "      <td>0.0</td>\n",
       "      <td>NaN</td>\n",
       "      <td>0.0</td>\n",
       "      <td>NaN</td>\n",
       "      <td>28.0</td>\n",
       "    </tr>\n",
       "    <tr>\n",
       "      <td>9821</td>\n",
       "      <td>13.0</td>\n",
       "      <td>8000000.0</td>\n",
       "      <td>94.50</td>\n",
       "      <td>2015-01-21T00:00:00</td>\n",
       "      <td>4.0</td>\n",
       "      <td>3.00</td>\n",
       "      <td>2.0</td>\n",
       "      <td>57.80</td>\n",
       "      <td>2.0</td>\n",
       "      <td>False</td>\n",
       "      <td>...</td>\n",
       "      <td>11.30</td>\n",
       "      <td>0.0</td>\n",
       "      <td>NaN</td>\n",
       "      <td>24953.0</td>\n",
       "      <td>3801.0</td>\n",
       "      <td>1.0</td>\n",
       "      <td>375.0</td>\n",
       "      <td>2.0</td>\n",
       "      <td>532.0</td>\n",
       "      <td>531.0</td>\n",
       "    </tr>\n",
       "    <tr>\n",
       "      <td>10122</td>\n",
       "      <td>5.0</td>\n",
       "      <td>8200000.0</td>\n",
       "      <td>83.00</td>\n",
       "      <td>2015-06-24T00:00:00</td>\n",
       "      <td>4.0</td>\n",
       "      <td>2.65</td>\n",
       "      <td>5.0</td>\n",
       "      <td>53.00</td>\n",
       "      <td>2.0</td>\n",
       "      <td>False</td>\n",
       "      <td>...</td>\n",
       "      <td>10.00</td>\n",
       "      <td>0.0</td>\n",
       "      <td>NaN</td>\n",
       "      <td>25771.0</td>\n",
       "      <td>4474.0</td>\n",
       "      <td>2.0</td>\n",
       "      <td>374.0</td>\n",
       "      <td>0.0</td>\n",
       "      <td>NaN</td>\n",
       "      <td>364.0</td>\n",
       "    </tr>\n",
       "    <tr>\n",
       "      <td>11248</td>\n",
       "      <td>12.0</td>\n",
       "      <td>6300000.0</td>\n",
       "      <td>63.10</td>\n",
       "      <td>2015-01-16T00:00:00</td>\n",
       "      <td>4.0</td>\n",
       "      <td>2.65</td>\n",
       "      <td>8.0</td>\n",
       "      <td>44.00</td>\n",
       "      <td>7.0</td>\n",
       "      <td>False</td>\n",
       "      <td>...</td>\n",
       "      <td>8.70</td>\n",
       "      <td>0.0</td>\n",
       "      <td>NaN</td>\n",
       "      <td>25221.0</td>\n",
       "      <td>4069.0</td>\n",
       "      <td>0.0</td>\n",
       "      <td>NaN</td>\n",
       "      <td>2.0</td>\n",
       "      <td>653.0</td>\n",
       "      <td>551.0</td>\n",
       "    </tr>\n",
       "    <tr>\n",
       "      <td>12879</td>\n",
       "      <td>12.0</td>\n",
       "      <td>4400000.0</td>\n",
       "      <td>39.20</td>\n",
       "      <td>2016-04-26T00:00:00</td>\n",
       "      <td>1.0</td>\n",
       "      <td>2.65</td>\n",
       "      <td>12.0</td>\n",
       "      <td>20.00</td>\n",
       "      <td>12.0</td>\n",
       "      <td>False</td>\n",
       "      <td>...</td>\n",
       "      <td>7.90</td>\n",
       "      <td>0.0</td>\n",
       "      <td>NaN</td>\n",
       "      <td>37123.0</td>\n",
       "      <td>12332.0</td>\n",
       "      <td>0.0</td>\n",
       "      <td>NaN</td>\n",
       "      <td>0.0</td>\n",
       "      <td>NaN</td>\n",
       "      <td>179.0</td>\n",
       "    </tr>\n",
       "    <tr>\n",
       "      <td>12936</td>\n",
       "      <td>6.0</td>\n",
       "      <td>6800000.0</td>\n",
       "      <td>73.00</td>\n",
       "      <td>2015-11-01T00:00:00</td>\n",
       "      <td>3.0</td>\n",
       "      <td>2.65</td>\n",
       "      <td>5.0</td>\n",
       "      <td>53.10</td>\n",
       "      <td>2.0</td>\n",
       "      <td>False</td>\n",
       "      <td>...</td>\n",
       "      <td>8.20</td>\n",
       "      <td>0.0</td>\n",
       "      <td>NaN</td>\n",
       "      <td>25680.0</td>\n",
       "      <td>4383.0</td>\n",
       "      <td>3.0</td>\n",
       "      <td>336.0</td>\n",
       "      <td>0.0</td>\n",
       "      <td>NaN</td>\n",
       "      <td>542.0</td>\n",
       "    </tr>\n",
       "    <tr>\n",
       "      <td>13223</td>\n",
       "      <td>1.0</td>\n",
       "      <td>2919911.0</td>\n",
       "      <td>29.40</td>\n",
       "      <td>2015-03-12T00:00:00</td>\n",
       "      <td>1.0</td>\n",
       "      <td>2.75</td>\n",
       "      <td>24.0</td>\n",
       "      <td>21.10</td>\n",
       "      <td>2.0</td>\n",
       "      <td>False</td>\n",
       "      <td>...</td>\n",
       "      <td>NaN</td>\n",
       "      <td>0.0</td>\n",
       "      <td>NaN</td>\n",
       "      <td>22041.0</td>\n",
       "      <td>17369.0</td>\n",
       "      <td>0.0</td>\n",
       "      <td>NaN</td>\n",
       "      <td>1.0</td>\n",
       "      <td>374.0</td>\n",
       "      <td>470.0</td>\n",
       "    </tr>\n",
       "    <tr>\n",
       "      <td>13690</td>\n",
       "      <td>7.0</td>\n",
       "      <td>3500000.0</td>\n",
       "      <td>71.00</td>\n",
       "      <td>2016-06-23T00:00:00</td>\n",
       "      <td>3.0</td>\n",
       "      <td>2.75</td>\n",
       "      <td>2.0</td>\n",
       "      <td>45.60</td>\n",
       "      <td>1.0</td>\n",
       "      <td>False</td>\n",
       "      <td>...</td>\n",
       "      <td>8.00</td>\n",
       "      <td>2.0</td>\n",
       "      <td>NaN</td>\n",
       "      <td>20234.0</td>\n",
       "      <td>23659.0</td>\n",
       "      <td>0.0</td>\n",
       "      <td>NaN</td>\n",
       "      <td>2.0</td>\n",
       "      <td>296.0</td>\n",
       "      <td>92.0</td>\n",
       "    </tr>\n",
       "    <tr>\n",
       "      <td>14273</td>\n",
       "      <td>2.0</td>\n",
       "      <td>4422000.0</td>\n",
       "      <td>60.00</td>\n",
       "      <td>2016-03-23T00:00:00</td>\n",
       "      <td>2.0</td>\n",
       "      <td>2.75</td>\n",
       "      <td>23.0</td>\n",
       "      <td>32.00</td>\n",
       "      <td>14.0</td>\n",
       "      <td>False</td>\n",
       "      <td>...</td>\n",
       "      <td>11.90</td>\n",
       "      <td>0.0</td>\n",
       "      <td>NaN</td>\n",
       "      <td>22041.0</td>\n",
       "      <td>17369.0</td>\n",
       "      <td>0.0</td>\n",
       "      <td>NaN</td>\n",
       "      <td>1.0</td>\n",
       "      <td>374.0</td>\n",
       "      <td>90.0</td>\n",
       "    </tr>\n",
       "    <tr>\n",
       "      <td>14342</td>\n",
       "      <td>3.0</td>\n",
       "      <td>3611000.0</td>\n",
       "      <td>53.50</td>\n",
       "      <td>2017-04-27T00:00:00</td>\n",
       "      <td>1.0</td>\n",
       "      <td>2.65</td>\n",
       "      <td>4.0</td>\n",
       "      <td>25.80</td>\n",
       "      <td>3.0</td>\n",
       "      <td>False</td>\n",
       "      <td>...</td>\n",
       "      <td>NaN</td>\n",
       "      <td>1.0</td>\n",
       "      <td>NaN</td>\n",
       "      <td>NaN</td>\n",
       "      <td>NaN</td>\n",
       "      <td>NaN</td>\n",
       "      <td>NaN</td>\n",
       "      <td>NaN</td>\n",
       "      <td>NaN</td>\n",
       "      <td>92.0</td>\n",
       "    </tr>\n",
       "    <tr>\n",
       "      <td>15686</td>\n",
       "      <td>13.0</td>\n",
       "      <td>4700000.0</td>\n",
       "      <td>44.00</td>\n",
       "      <td>2015-12-01T00:00:00</td>\n",
       "      <td>2.0</td>\n",
       "      <td>2.65</td>\n",
       "      <td>5.0</td>\n",
       "      <td>28.00</td>\n",
       "      <td>3.0</td>\n",
       "      <td>False</td>\n",
       "      <td>...</td>\n",
       "      <td>5.00</td>\n",
       "      <td>0.0</td>\n",
       "      <td>NaN</td>\n",
       "      <td>35920.0</td>\n",
       "      <td>9633.0</td>\n",
       "      <td>2.0</td>\n",
       "      <td>472.0</td>\n",
       "      <td>3.0</td>\n",
       "      <td>535.0</td>\n",
       "      <td>280.0</td>\n",
       "    </tr>\n",
       "    <tr>\n",
       "      <td>15866</td>\n",
       "      <td>10.0</td>\n",
       "      <td>3950000.0</td>\n",
       "      <td>44.00</td>\n",
       "      <td>2016-04-16T00:00:00</td>\n",
       "      <td>2.0</td>\n",
       "      <td>2.70</td>\n",
       "      <td>5.0</td>\n",
       "      <td>28.50</td>\n",
       "      <td>5.0</td>\n",
       "      <td>False</td>\n",
       "      <td>...</td>\n",
       "      <td>5.50</td>\n",
       "      <td>1.0</td>\n",
       "      <td>NaN</td>\n",
       "      <td>36380.0</td>\n",
       "      <td>9497.0</td>\n",
       "      <td>1.0</td>\n",
       "      <td>634.0</td>\n",
       "      <td>3.0</td>\n",
       "      <td>513.0</td>\n",
       "      <td>85.0</td>\n",
       "    </tr>\n",
       "    <tr>\n",
       "      <td>16499</td>\n",
       "      <td>2.0</td>\n",
       "      <td>4995573.0</td>\n",
       "      <td>56.90</td>\n",
       "      <td>2016-06-17T00:00:00</td>\n",
       "      <td>2.0</td>\n",
       "      <td>2.65</td>\n",
       "      <td>24.0</td>\n",
       "      <td>29.20</td>\n",
       "      <td>14.0</td>\n",
       "      <td>False</td>\n",
       "      <td>...</td>\n",
       "      <td>10.90</td>\n",
       "      <td>0.0</td>\n",
       "      <td>NaN</td>\n",
       "      <td>22041.0</td>\n",
       "      <td>17369.0</td>\n",
       "      <td>0.0</td>\n",
       "      <td>NaN</td>\n",
       "      <td>1.0</td>\n",
       "      <td>374.0</td>\n",
       "      <td>4.0</td>\n",
       "    </tr>\n",
       "    <tr>\n",
       "      <td>16561</td>\n",
       "      <td>3.0</td>\n",
       "      <td>2450000.0</td>\n",
       "      <td>30.00</td>\n",
       "      <td>2016-06-02T00:00:00</td>\n",
       "      <td>1.0</td>\n",
       "      <td>2.65</td>\n",
       "      <td>4.0</td>\n",
       "      <td>17.00</td>\n",
       "      <td>2.0</td>\n",
       "      <td>False</td>\n",
       "      <td>...</td>\n",
       "      <td>6.00</td>\n",
       "      <td>1.0</td>\n",
       "      <td>NaN</td>\n",
       "      <td>21731.0</td>\n",
       "      <td>8619.0</td>\n",
       "      <td>0.0</td>\n",
       "      <td>NaN</td>\n",
       "      <td>3.0</td>\n",
       "      <td>162.0</td>\n",
       "      <td>140.0</td>\n",
       "    </tr>\n",
       "    <tr>\n",
       "      <td>16610</td>\n",
       "      <td>11.0</td>\n",
       "      <td>11940000.0</td>\n",
       "      <td>112.00</td>\n",
       "      <td>2015-11-19T00:00:00</td>\n",
       "      <td>3.0</td>\n",
       "      <td>3.00</td>\n",
       "      <td>5.0</td>\n",
       "      <td>64.00</td>\n",
       "      <td>2.0</td>\n",
       "      <td>False</td>\n",
       "      <td>...</td>\n",
       "      <td>23.00</td>\n",
       "      <td>0.0</td>\n",
       "      <td>NaN</td>\n",
       "      <td>21219.0</td>\n",
       "      <td>1322.0</td>\n",
       "      <td>1.0</td>\n",
       "      <td>740.0</td>\n",
       "      <td>3.0</td>\n",
       "      <td>365.0</td>\n",
       "      <td>319.0</td>\n",
       "    </tr>\n",
       "    <tr>\n",
       "      <td>17535</td>\n",
       "      <td>2.0</td>\n",
       "      <td>5985000.0</td>\n",
       "      <td>79.80</td>\n",
       "      <td>2018-07-30T00:00:00</td>\n",
       "      <td>3.0</td>\n",
       "      <td>2.65</td>\n",
       "      <td>9.0</td>\n",
       "      <td>NaN</td>\n",
       "      <td>2.0</td>\n",
       "      <td>False</td>\n",
       "      <td>...</td>\n",
       "      <td>NaN</td>\n",
       "      <td>0.0</td>\n",
       "      <td>NaN</td>\n",
       "      <td>NaN</td>\n",
       "      <td>NaN</td>\n",
       "      <td>NaN</td>\n",
       "      <td>NaN</td>\n",
       "      <td>NaN</td>\n",
       "      <td>NaN</td>\n",
       "      <td>213.0</td>\n",
       "    </tr>\n",
       "    <tr>\n",
       "      <td>17764</td>\n",
       "      <td>9.0</td>\n",
       "      <td>8400000.0</td>\n",
       "      <td>94.00</td>\n",
       "      <td>2016-01-24T00:00:00</td>\n",
       "      <td>3.0</td>\n",
       "      <td>2.65</td>\n",
       "      <td>23.0</td>\n",
       "      <td>52.00</td>\n",
       "      <td>5.0</td>\n",
       "      <td>False</td>\n",
       "      <td>...</td>\n",
       "      <td>NaN</td>\n",
       "      <td>0.0</td>\n",
       "      <td>NaN</td>\n",
       "      <td>36865.0</td>\n",
       "      <td>10976.0</td>\n",
       "      <td>0.0</td>\n",
       "      <td>NaN</td>\n",
       "      <td>1.0</td>\n",
       "      <td>856.0</td>\n",
       "      <td>305.0</td>\n",
       "    </tr>\n",
       "    <tr>\n",
       "      <td>18526</td>\n",
       "      <td>3.0</td>\n",
       "      <td>10800000.0</td>\n",
       "      <td>86.00</td>\n",
       "      <td>2016-06-24T00:00:00</td>\n",
       "      <td>4.0</td>\n",
       "      <td>3.20</td>\n",
       "      <td>7.0</td>\n",
       "      <td>48.00</td>\n",
       "      <td>2.0</td>\n",
       "      <td>False</td>\n",
       "      <td>...</td>\n",
       "      <td>12.00</td>\n",
       "      <td>0.0</td>\n",
       "      <td>NaN</td>\n",
       "      <td>11206.0</td>\n",
       "      <td>8943.0</td>\n",
       "      <td>0.0</td>\n",
       "      <td>NaN</td>\n",
       "      <td>0.0</td>\n",
       "      <td>NaN</td>\n",
       "      <td>65.0</td>\n",
       "    </tr>\n",
       "    <tr>\n",
       "      <td>18917</td>\n",
       "      <td>3.0</td>\n",
       "      <td>2660000.0</td>\n",
       "      <td>37.99</td>\n",
       "      <td>2017-08-17T00:00:00</td>\n",
       "      <td>1.0</td>\n",
       "      <td>2.65</td>\n",
       "      <td>4.0</td>\n",
       "      <td>13.00</td>\n",
       "      <td>1.0</td>\n",
       "      <td>False</td>\n",
       "      <td>...</td>\n",
       "      <td>12.40</td>\n",
       "      <td>0.0</td>\n",
       "      <td>NaN</td>\n",
       "      <td>21540.0</td>\n",
       "      <td>8429.0</td>\n",
       "      <td>0.0</td>\n",
       "      <td>NaN</td>\n",
       "      <td>3.0</td>\n",
       "      <td>142.0</td>\n",
       "      <td>15.0</td>\n",
       "    </tr>\n",
       "    <tr>\n",
       "      <td>19045</td>\n",
       "      <td>6.0</td>\n",
       "      <td>4650000.0</td>\n",
       "      <td>48.00</td>\n",
       "      <td>2016-01-25T00:00:00</td>\n",
       "      <td>2.0</td>\n",
       "      <td>3.12</td>\n",
       "      <td>5.0</td>\n",
       "      <td>26.20</td>\n",
       "      <td>1.0</td>\n",
       "      <td>False</td>\n",
       "      <td>...</td>\n",
       "      <td>8.00</td>\n",
       "      <td>0.0</td>\n",
       "      <td>NaN</td>\n",
       "      <td>21654.0</td>\n",
       "      <td>3312.0</td>\n",
       "      <td>1.0</td>\n",
       "      <td>549.0</td>\n",
       "      <td>1.0</td>\n",
       "      <td>858.0</td>\n",
       "      <td>254.0</td>\n",
       "    </tr>\n",
       "    <tr>\n",
       "      <td>19972</td>\n",
       "      <td>20.0</td>\n",
       "      <td>4361004.0</td>\n",
       "      <td>62.40</td>\n",
       "      <td>2015-09-20T00:00:00</td>\n",
       "      <td>2.0</td>\n",
       "      <td>2.65</td>\n",
       "      <td>24.0</td>\n",
       "      <td>33.10</td>\n",
       "      <td>21.0</td>\n",
       "      <td>False</td>\n",
       "      <td>...</td>\n",
       "      <td>8.20</td>\n",
       "      <td>0.0</td>\n",
       "      <td>NaN</td>\n",
       "      <td>22041.0</td>\n",
       "      <td>17369.0</td>\n",
       "      <td>0.0</td>\n",
       "      <td>NaN</td>\n",
       "      <td>1.0</td>\n",
       "      <td>374.0</td>\n",
       "      <td>278.0</td>\n",
       "    </tr>\n",
       "    <tr>\n",
       "      <td>20057</td>\n",
       "      <td>13.0</td>\n",
       "      <td>11500000.0</td>\n",
       "      <td>102.00</td>\n",
       "      <td>2015-10-14T00:00:00</td>\n",
       "      <td>2.0</td>\n",
       "      <td>2.65</td>\n",
       "      <td>5.0</td>\n",
       "      <td>70.00</td>\n",
       "      <td>2.0</td>\n",
       "      <td>False</td>\n",
       "      <td>...</td>\n",
       "      <td>NaN</td>\n",
       "      <td>0.0</td>\n",
       "      <td>NaN</td>\n",
       "      <td>23478.0</td>\n",
       "      <td>4258.0</td>\n",
       "      <td>0.0</td>\n",
       "      <td>NaN</td>\n",
       "      <td>0.0</td>\n",
       "      <td>NaN</td>\n",
       "      <td>325.0</td>\n",
       "    </tr>\n",
       "    <tr>\n",
       "      <td>20382</td>\n",
       "      <td>8.0</td>\n",
       "      <td>1750000.0</td>\n",
       "      <td>72.90</td>\n",
       "      <td>2018-10-27T00:00:00</td>\n",
       "      <td>3.0</td>\n",
       "      <td>2.65</td>\n",
       "      <td>5.0</td>\n",
       "      <td>47.30</td>\n",
       "      <td>2.0</td>\n",
       "      <td>False</td>\n",
       "      <td>...</td>\n",
       "      <td>8.30</td>\n",
       "      <td>0.0</td>\n",
       "      <td>NaN</td>\n",
       "      <td>NaN</td>\n",
       "      <td>NaN</td>\n",
       "      <td>NaN</td>\n",
       "      <td>NaN</td>\n",
       "      <td>NaN</td>\n",
       "      <td>NaN</td>\n",
       "      <td>NaN</td>\n",
       "    </tr>\n",
       "    <tr>\n",
       "      <td>20590</td>\n",
       "      <td>7.0</td>\n",
       "      <td>3380000.0</td>\n",
       "      <td>56.00</td>\n",
       "      <td>2017-11-06T00:00:00</td>\n",
       "      <td>2.0</td>\n",
       "      <td>2.70</td>\n",
       "      <td>4.0</td>\n",
       "      <td>29.00</td>\n",
       "      <td>3.0</td>\n",
       "      <td>False</td>\n",
       "      <td>...</td>\n",
       "      <td>10.00</td>\n",
       "      <td>1.0</td>\n",
       "      <td>NaN</td>\n",
       "      <td>NaN</td>\n",
       "      <td>NaN</td>\n",
       "      <td>NaN</td>\n",
       "      <td>NaN</td>\n",
       "      <td>NaN</td>\n",
       "      <td>NaN</td>\n",
       "      <td>78.0</td>\n",
       "    </tr>\n",
       "    <tr>\n",
       "      <td>20654</td>\n",
       "      <td>7.0</td>\n",
       "      <td>6100000.0</td>\n",
       "      <td>43.00</td>\n",
       "      <td>2016-01-13T00:00:00</td>\n",
       "      <td>1.0</td>\n",
       "      <td>2.65</td>\n",
       "      <td>5.0</td>\n",
       "      <td>21.00</td>\n",
       "      <td>3.0</td>\n",
       "      <td>False</td>\n",
       "      <td>...</td>\n",
       "      <td>12.00</td>\n",
       "      <td>1.0</td>\n",
       "      <td>NaN</td>\n",
       "      <td>24385.0</td>\n",
       "      <td>4604.0</td>\n",
       "      <td>1.0</td>\n",
       "      <td>700.0</td>\n",
       "      <td>0.0</td>\n",
       "      <td>NaN</td>\n",
       "      <td>164.0</td>\n",
       "    </tr>\n",
       "    <tr>\n",
       "      <td>21119</td>\n",
       "      <td>8.0</td>\n",
       "      <td>3500000.0</td>\n",
       "      <td>43.20</td>\n",
       "      <td>2018-11-11T00:00:00</td>\n",
       "      <td>2.0</td>\n",
       "      <td>2.65</td>\n",
       "      <td>4.0</td>\n",
       "      <td>NaN</td>\n",
       "      <td>2.0</td>\n",
       "      <td>False</td>\n",
       "      <td>...</td>\n",
       "      <td>NaN</td>\n",
       "      <td>0.0</td>\n",
       "      <td>NaN</td>\n",
       "      <td>19744.0</td>\n",
       "      <td>31897.0</td>\n",
       "      <td>0.0</td>\n",
       "      <td>NaN</td>\n",
       "      <td>0.0</td>\n",
       "      <td>NaN</td>\n",
       "      <td>9.0</td>\n",
       "    </tr>\n",
       "    <tr>\n",
       "      <td>21276</td>\n",
       "      <td>0.0</td>\n",
       "      <td>17122148.0</td>\n",
       "      <td>178.30</td>\n",
       "      <td>2017-02-10T00:00:00</td>\n",
       "      <td>1.0</td>\n",
       "      <td>2.65</td>\n",
       "      <td>3.0</td>\n",
       "      <td>NaN</td>\n",
       "      <td>1.0</td>\n",
       "      <td>False</td>\n",
       "      <td>...</td>\n",
       "      <td>41.60</td>\n",
       "      <td>1.0</td>\n",
       "      <td>NaN</td>\n",
       "      <td>60195.0</td>\n",
       "      <td>41294.0</td>\n",
       "      <td>0.0</td>\n",
       "      <td>NaN</td>\n",
       "      <td>0.0</td>\n",
       "      <td>NaN</td>\n",
       "      <td>4.0</td>\n",
       "    </tr>\n",
       "    <tr>\n",
       "      <td>21333</td>\n",
       "      <td>10.0</td>\n",
       "      <td>5900000.0</td>\n",
       "      <td>58.00</td>\n",
       "      <td>2015-03-12T00:00:00</td>\n",
       "      <td>3.0</td>\n",
       "      <td>2.65</td>\n",
       "      <td>6.0</td>\n",
       "      <td>35.20</td>\n",
       "      <td>6.0</td>\n",
       "      <td>False</td>\n",
       "      <td>...</td>\n",
       "      <td>11.00</td>\n",
       "      <td>0.0</td>\n",
       "      <td>NaN</td>\n",
       "      <td>26090.0</td>\n",
       "      <td>4805.0</td>\n",
       "      <td>0.0</td>\n",
       "      <td>NaN</td>\n",
       "      <td>1.0</td>\n",
       "      <td>943.0</td>\n",
       "      <td>486.0</td>\n",
       "    </tr>\n",
       "    <tr>\n",
       "      <td>21715</td>\n",
       "      <td>2.0</td>\n",
       "      <td>6047550.0</td>\n",
       "      <td>80.10</td>\n",
       "      <td>2018-07-30T00:00:00</td>\n",
       "      <td>2.0</td>\n",
       "      <td>2.65</td>\n",
       "      <td>9.0</td>\n",
       "      <td>30.50</td>\n",
       "      <td>2.0</td>\n",
       "      <td>False</td>\n",
       "      <td>...</td>\n",
       "      <td>29.20</td>\n",
       "      <td>0.0</td>\n",
       "      <td>NaN</td>\n",
       "      <td>NaN</td>\n",
       "      <td>NaN</td>\n",
       "      <td>NaN</td>\n",
       "      <td>NaN</td>\n",
       "      <td>NaN</td>\n",
       "      <td>NaN</td>\n",
       "      <td>176.0</td>\n",
       "    </tr>\n",
       "    <tr>\n",
       "      <td>21898</td>\n",
       "      <td>2.0</td>\n",
       "      <td>5886750.0</td>\n",
       "      <td>83.50</td>\n",
       "      <td>2018-07-30T00:00:00</td>\n",
       "      <td>2.0</td>\n",
       "      <td>2.65</td>\n",
       "      <td>9.0</td>\n",
       "      <td>36.60</td>\n",
       "      <td>2.0</td>\n",
       "      <td>False</td>\n",
       "      <td>...</td>\n",
       "      <td>29.70</td>\n",
       "      <td>0.0</td>\n",
       "      <td>NaN</td>\n",
       "      <td>NaN</td>\n",
       "      <td>NaN</td>\n",
       "      <td>NaN</td>\n",
       "      <td>NaN</td>\n",
       "      <td>NaN</td>\n",
       "      <td>NaN</td>\n",
       "      <td>169.0</td>\n",
       "    </tr>\n",
       "    <tr>\n",
       "      <td>22474</td>\n",
       "      <td>7.0</td>\n",
       "      <td>24000000.0</td>\n",
       "      <td>128.00</td>\n",
       "      <td>2015-07-24T00:00:00</td>\n",
       "      <td>4.0</td>\n",
       "      <td>2.75</td>\n",
       "      <td>6.0</td>\n",
       "      <td>68.40</td>\n",
       "      <td>6.0</td>\n",
       "      <td>False</td>\n",
       "      <td>...</td>\n",
       "      <td>16.50</td>\n",
       "      <td>0.0</td>\n",
       "      <td>NaN</td>\n",
       "      <td>23297.0</td>\n",
       "      <td>1780.0</td>\n",
       "      <td>3.0</td>\n",
       "      <td>277.0</td>\n",
       "      <td>3.0</td>\n",
       "      <td>561.0</td>\n",
       "      <td>436.0</td>\n",
       "    </tr>\n",
       "    <tr>\n",
       "      <td>22717</td>\n",
       "      <td>9.0</td>\n",
       "      <td>3000000.0</td>\n",
       "      <td>35.00</td>\n",
       "      <td>2018-01-02T00:00:00</td>\n",
       "      <td>1.0</td>\n",
       "      <td>2.60</td>\n",
       "      <td>16.0</td>\n",
       "      <td>16.00</td>\n",
       "      <td>7.0</td>\n",
       "      <td>False</td>\n",
       "      <td>...</td>\n",
       "      <td>10.00</td>\n",
       "      <td>1.0</td>\n",
       "      <td>NaN</td>\n",
       "      <td>NaN</td>\n",
       "      <td>NaN</td>\n",
       "      <td>NaN</td>\n",
       "      <td>NaN</td>\n",
       "      <td>NaN</td>\n",
       "      <td>NaN</td>\n",
       "      <td>75.0</td>\n",
       "    </tr>\n",
       "    <tr>\n",
       "      <td>22933</td>\n",
       "      <td>20.0</td>\n",
       "      <td>3176015.0</td>\n",
       "      <td>33.30</td>\n",
       "      <td>2015-04-22T00:00:00</td>\n",
       "      <td>1.0</td>\n",
       "      <td>2.65</td>\n",
       "      <td>23.0</td>\n",
       "      <td>15.40</td>\n",
       "      <td>22.0</td>\n",
       "      <td>False</td>\n",
       "      <td>...</td>\n",
       "      <td>9.00</td>\n",
       "      <td>0.0</td>\n",
       "      <td>NaN</td>\n",
       "      <td>22041.0</td>\n",
       "      <td>17369.0</td>\n",
       "      <td>0.0</td>\n",
       "      <td>NaN</td>\n",
       "      <td>1.0</td>\n",
       "      <td>374.0</td>\n",
       "      <td>427.0</td>\n",
       "    </tr>\n",
       "    <tr>\n",
       "      <td>23214</td>\n",
       "      <td>3.0</td>\n",
       "      <td>7990000.0</td>\n",
       "      <td>56.00</td>\n",
       "      <td>2016-05-31T00:00:00</td>\n",
       "      <td>2.0</td>\n",
       "      <td>2.65</td>\n",
       "      <td>6.0</td>\n",
       "      <td>NaN</td>\n",
       "      <td>5.0</td>\n",
       "      <td>False</td>\n",
       "      <td>...</td>\n",
       "      <td>NaN</td>\n",
       "      <td>0.0</td>\n",
       "      <td>NaN</td>\n",
       "      <td>11206.0</td>\n",
       "      <td>8943.0</td>\n",
       "      <td>0.0</td>\n",
       "      <td>NaN</td>\n",
       "      <td>0.0</td>\n",
       "      <td>NaN</td>\n",
       "      <td>70.0</td>\n",
       "    </tr>\n",
       "  </tbody>\n",
       "</table>\n",
       "<p>49 rows × 22 columns</p>\n",
       "</div>"
      ],
      "text/plain": [
       "       total_images  last_price  total_area first_day_exposition  rooms  \\\n",
       "1097            3.0   8600000.0       81.70  2016-04-15T00:00:00    3.0   \n",
       "2033            6.0   5398000.0       80.00  2017-05-30T00:00:00    3.0   \n",
       "2603           20.0   3351765.0       42.70  2015-09-20T00:00:00    1.0   \n",
       "2632            2.0   5130593.0       62.40  2015-10-11T00:00:00    2.0   \n",
       "3574           10.0   4200000.0       46.50  2016-05-28T00:00:00    2.0   \n",
       "4151           17.0  17600000.0       89.50  2014-12-09T00:00:00    2.0   \n",
       "4189            7.0   9200000.0       80.00  2015-12-10T00:00:00    3.0   \n",
       "4670            1.0   5500000.0       83.00  2015-08-14T00:00:00    3.0   \n",
       "5343           19.0  13540000.0       85.50  2016-01-20T00:00:00    3.0   \n",
       "5707            7.0   3700000.0       30.00  2016-04-29T00:00:00    1.0   \n",
       "6765           20.0   4895892.0       60.70  2015-03-12T00:00:00    2.0   \n",
       "7114            5.0   4250000.0       56.00  2016-03-16T00:00:00    3.0   \n",
       "7330            8.0   5100000.0       63.00  2015-01-27T00:00:00    3.0   \n",
       "7600            8.0   6800000.0       70.00  2016-01-31T00:00:00    3.0   \n",
       "8568           10.0  16000000.0      155.00  2016-05-09T00:00:00    3.0   \n",
       "8986           10.0   4850000.0      103.10  2018-07-10T00:00:00    3.0   \n",
       "9821           13.0   8000000.0       94.50  2015-01-21T00:00:00    4.0   \n",
       "10122           5.0   8200000.0       83.00  2015-06-24T00:00:00    4.0   \n",
       "11248          12.0   6300000.0       63.10  2015-01-16T00:00:00    4.0   \n",
       "12879          12.0   4400000.0       39.20  2016-04-26T00:00:00    1.0   \n",
       "12936           6.0   6800000.0       73.00  2015-11-01T00:00:00    3.0   \n",
       "13223           1.0   2919911.0       29.40  2015-03-12T00:00:00    1.0   \n",
       "13690           7.0   3500000.0       71.00  2016-06-23T00:00:00    3.0   \n",
       "14273           2.0   4422000.0       60.00  2016-03-23T00:00:00    2.0   \n",
       "14342           3.0   3611000.0       53.50  2017-04-27T00:00:00    1.0   \n",
       "15686          13.0   4700000.0       44.00  2015-12-01T00:00:00    2.0   \n",
       "15866          10.0   3950000.0       44.00  2016-04-16T00:00:00    2.0   \n",
       "16499           2.0   4995573.0       56.90  2016-06-17T00:00:00    2.0   \n",
       "16561           3.0   2450000.0       30.00  2016-06-02T00:00:00    1.0   \n",
       "16610          11.0  11940000.0      112.00  2015-11-19T00:00:00    3.0   \n",
       "17535           2.0   5985000.0       79.80  2018-07-30T00:00:00    3.0   \n",
       "17764           9.0   8400000.0       94.00  2016-01-24T00:00:00    3.0   \n",
       "18526           3.0  10800000.0       86.00  2016-06-24T00:00:00    4.0   \n",
       "18917           3.0   2660000.0       37.99  2017-08-17T00:00:00    1.0   \n",
       "19045           6.0   4650000.0       48.00  2016-01-25T00:00:00    2.0   \n",
       "19972          20.0   4361004.0       62.40  2015-09-20T00:00:00    2.0   \n",
       "20057          13.0  11500000.0      102.00  2015-10-14T00:00:00    2.0   \n",
       "20382           8.0   1750000.0       72.90  2018-10-27T00:00:00    3.0   \n",
       "20590           7.0   3380000.0       56.00  2017-11-06T00:00:00    2.0   \n",
       "20654           7.0   6100000.0       43.00  2016-01-13T00:00:00    1.0   \n",
       "21119           8.0   3500000.0       43.20  2018-11-11T00:00:00    2.0   \n",
       "21276           0.0  17122148.0      178.30  2017-02-10T00:00:00    1.0   \n",
       "21333          10.0   5900000.0       58.00  2015-03-12T00:00:00    3.0   \n",
       "21715           2.0   6047550.0       80.10  2018-07-30T00:00:00    2.0   \n",
       "21898           2.0   5886750.0       83.50  2018-07-30T00:00:00    2.0   \n",
       "22474           7.0  24000000.0      128.00  2015-07-24T00:00:00    4.0   \n",
       "22717           9.0   3000000.0       35.00  2018-01-02T00:00:00    1.0   \n",
       "22933          20.0   3176015.0       33.30  2015-04-22T00:00:00    1.0   \n",
       "23214           3.0   7990000.0       56.00  2016-05-31T00:00:00    2.0   \n",
       "\n",
       "       ceiling_height  floors_total  living_area  floor  is_apartment  ...  \\\n",
       "1097             3.55           5.0        50.80    2.0         False  ...   \n",
       "2033             2.65           4.0        42.60    2.0         False  ...   \n",
       "2603             2.65          24.0        15.60    3.0         False  ...   \n",
       "2632             2.65          24.0        33.10   21.0         False  ...   \n",
       "3574             2.65           5.0        30.80    5.0         False  ...   \n",
       "4151             3.00           8.0        39.62    7.0         False  ...   \n",
       "4189             4.00           4.0        52.30    3.0         False  ...   \n",
       "4670             2.65           7.0          NaN    6.0         False  ...   \n",
       "5343             2.65           7.0        59.10    5.0         False  ...   \n",
       "5707             2.65          24.0        20.00   23.0         False  ...   \n",
       "6765             2.65          24.0        31.90    3.0         False  ...   \n",
       "7114             2.65           5.0        40.00    4.0         False  ...   \n",
       "7330             2.65           5.0        42.00    1.0         False  ...   \n",
       "7600             2.65          11.0        42.00    9.0         False  ...   \n",
       "8568             2.65           6.0        94.00    3.0         False  ...   \n",
       "8986             2.65           5.0        68.10    4.0         False  ...   \n",
       "9821             3.00           2.0        57.80    2.0         False  ...   \n",
       "10122            2.65           5.0        53.00    2.0         False  ...   \n",
       "11248            2.65           8.0        44.00    7.0         False  ...   \n",
       "12879            2.65          12.0        20.00   12.0         False  ...   \n",
       "12936            2.65           5.0        53.10    2.0         False  ...   \n",
       "13223            2.75          24.0        21.10    2.0         False  ...   \n",
       "13690            2.75           2.0        45.60    1.0         False  ...   \n",
       "14273            2.75          23.0        32.00   14.0         False  ...   \n",
       "14342            2.65           4.0        25.80    3.0         False  ...   \n",
       "15686            2.65           5.0        28.00    3.0         False  ...   \n",
       "15866            2.70           5.0        28.50    5.0         False  ...   \n",
       "16499            2.65          24.0        29.20   14.0         False  ...   \n",
       "16561            2.65           4.0        17.00    2.0         False  ...   \n",
       "16610            3.00           5.0        64.00    2.0         False  ...   \n",
       "17535            2.65           9.0          NaN    2.0         False  ...   \n",
       "17764            2.65          23.0        52.00    5.0         False  ...   \n",
       "18526            3.20           7.0        48.00    2.0         False  ...   \n",
       "18917            2.65           4.0        13.00    1.0         False  ...   \n",
       "19045            3.12           5.0        26.20    1.0         False  ...   \n",
       "19972            2.65          24.0        33.10   21.0         False  ...   \n",
       "20057            2.65           5.0        70.00    2.0         False  ...   \n",
       "20382            2.65           5.0        47.30    2.0         False  ...   \n",
       "20590            2.70           4.0        29.00    3.0         False  ...   \n",
       "20654            2.65           5.0        21.00    3.0         False  ...   \n",
       "21119            2.65           4.0          NaN    2.0         False  ...   \n",
       "21276            2.65           3.0          NaN    1.0         False  ...   \n",
       "21333            2.65           6.0        35.20    6.0         False  ...   \n",
       "21715            2.65           9.0        30.50    2.0         False  ...   \n",
       "21898            2.65           9.0        36.60    2.0         False  ...   \n",
       "22474            2.75           6.0        68.40    6.0         False  ...   \n",
       "22717            2.60          16.0        16.00    7.0         False  ...   \n",
       "22933            2.65          23.0        15.40   22.0         False  ...   \n",
       "23214            2.65           6.0          NaN    5.0         False  ...   \n",
       "\n",
       "      kitchen_area balcony  locality_name  airports_nearest  \\\n",
       "1097          8.80     0.0            NaN           23478.0   \n",
       "2033         18.60     0.0            NaN               NaN   \n",
       "2603         10.70     0.0            NaN           22041.0   \n",
       "2632          8.20     0.0            NaN           22041.0   \n",
       "3574          6.50     0.0            NaN           27419.0   \n",
       "4151         13.38     0.0            NaN           25054.0   \n",
       "4189         10.40     0.0            NaN           21774.0   \n",
       "4670           NaN     0.0            NaN           26534.0   \n",
       "5343          8.30     4.0            NaN           10556.0   \n",
       "5707           NaN     0.0            NaN           21460.0   \n",
       "6765         12.20     0.0            NaN           22041.0   \n",
       "7114          6.00     0.0            NaN           14031.0   \n",
       "7330          7.50     0.0            NaN           25925.0   \n",
       "7600         11.00     1.0            NaN           37123.0   \n",
       "8568         23.00     0.0            NaN           24233.0   \n",
       "8986         16.70     0.0            NaN           19659.0   \n",
       "9821         11.30     0.0            NaN           24953.0   \n",
       "10122        10.00     0.0            NaN           25771.0   \n",
       "11248         8.70     0.0            NaN           25221.0   \n",
       "12879         7.90     0.0            NaN           37123.0   \n",
       "12936         8.20     0.0            NaN           25680.0   \n",
       "13223          NaN     0.0            NaN           22041.0   \n",
       "13690         8.00     2.0            NaN           20234.0   \n",
       "14273        11.90     0.0            NaN           22041.0   \n",
       "14342          NaN     1.0            NaN               NaN   \n",
       "15686         5.00     0.0            NaN           35920.0   \n",
       "15866         5.50     1.0            NaN           36380.0   \n",
       "16499        10.90     0.0            NaN           22041.0   \n",
       "16561         6.00     1.0            NaN           21731.0   \n",
       "16610        23.00     0.0            NaN           21219.0   \n",
       "17535          NaN     0.0            NaN               NaN   \n",
       "17764          NaN     0.0            NaN           36865.0   \n",
       "18526        12.00     0.0            NaN           11206.0   \n",
       "18917        12.40     0.0            NaN           21540.0   \n",
       "19045         8.00     0.0            NaN           21654.0   \n",
       "19972         8.20     0.0            NaN           22041.0   \n",
       "20057          NaN     0.0            NaN           23478.0   \n",
       "20382         8.30     0.0            NaN               NaN   \n",
       "20590        10.00     1.0            NaN               NaN   \n",
       "20654        12.00     1.0            NaN           24385.0   \n",
       "21119          NaN     0.0            NaN           19744.0   \n",
       "21276        41.60     1.0            NaN           60195.0   \n",
       "21333        11.00     0.0            NaN           26090.0   \n",
       "21715        29.20     0.0            NaN               NaN   \n",
       "21898        29.70     0.0            NaN               NaN   \n",
       "22474        16.50     0.0            NaN           23297.0   \n",
       "22717        10.00     1.0            NaN               NaN   \n",
       "22933         9.00     0.0            NaN           22041.0   \n",
       "23214          NaN     0.0            NaN           11206.0   \n",
       "\n",
       "      cityCenters_nearest  parks_around3000  parks_nearest  ponds_around3000  \\\n",
       "1097               4258.0               0.0            NaN               0.0   \n",
       "2033                  NaN               NaN            NaN               NaN   \n",
       "2603              17369.0               0.0            NaN               1.0   \n",
       "2632              17369.0               0.0            NaN               1.0   \n",
       "3574               8127.0               0.0            NaN               1.0   \n",
       "4151               3902.0               1.0          485.0               3.0   \n",
       "4189               3039.0               1.0          690.0               1.0   \n",
       "4670               5382.0               1.0          446.0               1.0   \n",
       "5343               9538.0               1.0           67.0               0.0   \n",
       "5707              16788.0               0.0            NaN               1.0   \n",
       "6765              17369.0               0.0            NaN               1.0   \n",
       "7114               8582.0               0.0            NaN               0.0   \n",
       "7330               4627.0               2.0          459.0               0.0   \n",
       "7600              12332.0               0.0            NaN               0.0   \n",
       "8568               4065.0               1.0          547.0               0.0   \n",
       "8986              31813.0               0.0            NaN               0.0   \n",
       "9821               3801.0               1.0          375.0               2.0   \n",
       "10122              4474.0               2.0          374.0               0.0   \n",
       "11248              4069.0               0.0            NaN               2.0   \n",
       "12879             12332.0               0.0            NaN               0.0   \n",
       "12936              4383.0               3.0          336.0               0.0   \n",
       "13223             17369.0               0.0            NaN               1.0   \n",
       "13690             23659.0               0.0            NaN               2.0   \n",
       "14273             17369.0               0.0            NaN               1.0   \n",
       "14342                 NaN               NaN            NaN               NaN   \n",
       "15686              9633.0               2.0          472.0               3.0   \n",
       "15866              9497.0               1.0          634.0               3.0   \n",
       "16499             17369.0               0.0            NaN               1.0   \n",
       "16561              8619.0               0.0            NaN               3.0   \n",
       "16610              1322.0               1.0          740.0               3.0   \n",
       "17535                 NaN               NaN            NaN               NaN   \n",
       "17764             10976.0               0.0            NaN               1.0   \n",
       "18526              8943.0               0.0            NaN               0.0   \n",
       "18917              8429.0               0.0            NaN               3.0   \n",
       "19045              3312.0               1.0          549.0               1.0   \n",
       "19972             17369.0               0.0            NaN               1.0   \n",
       "20057              4258.0               0.0            NaN               0.0   \n",
       "20382                 NaN               NaN            NaN               NaN   \n",
       "20590                 NaN               NaN            NaN               NaN   \n",
       "20654              4604.0               1.0          700.0               0.0   \n",
       "21119             31897.0               0.0            NaN               0.0   \n",
       "21276             41294.0               0.0            NaN               0.0   \n",
       "21333              4805.0               0.0            NaN               1.0   \n",
       "21715                 NaN               NaN            NaN               NaN   \n",
       "21898                 NaN               NaN            NaN               NaN   \n",
       "22474              1780.0               3.0          277.0               3.0   \n",
       "22717                 NaN               NaN            NaN               NaN   \n",
       "22933             17369.0               0.0            NaN               1.0   \n",
       "23214              8943.0               0.0            NaN               0.0   \n",
       "\n",
       "       ponds_nearest  days_exposition  \n",
       "1097             NaN            147.0  \n",
       "2033             NaN             34.0  \n",
       "2603           374.0            276.0  \n",
       "2632           374.0            256.0  \n",
       "3574           603.0             45.0  \n",
       "4151           722.0            869.0  \n",
       "4189           953.0            223.0  \n",
       "4670           376.0            350.0  \n",
       "5343             NaN            303.0  \n",
       "5707           170.0             49.0  \n",
       "6765           374.0            468.0  \n",
       "7114             NaN             96.0  \n",
       "7330             NaN            566.0  \n",
       "7600             NaN            209.0  \n",
       "8568             NaN            248.0  \n",
       "8986             NaN             28.0  \n",
       "9821           532.0            531.0  \n",
       "10122            NaN            364.0  \n",
       "11248          653.0            551.0  \n",
       "12879            NaN            179.0  \n",
       "12936            NaN            542.0  \n",
       "13223          374.0            470.0  \n",
       "13690          296.0             92.0  \n",
       "14273          374.0             90.0  \n",
       "14342            NaN             92.0  \n",
       "15686          535.0            280.0  \n",
       "15866          513.0             85.0  \n",
       "16499          374.0              4.0  \n",
       "16561          162.0            140.0  \n",
       "16610          365.0            319.0  \n",
       "17535            NaN            213.0  \n",
       "17764          856.0            305.0  \n",
       "18526            NaN             65.0  \n",
       "18917          142.0             15.0  \n",
       "19045          858.0            254.0  \n",
       "19972          374.0            278.0  \n",
       "20057            NaN            325.0  \n",
       "20382            NaN              NaN  \n",
       "20590            NaN             78.0  \n",
       "20654            NaN            164.0  \n",
       "21119            NaN              9.0  \n",
       "21276            NaN              4.0  \n",
       "21333          943.0            486.0  \n",
       "21715            NaN            176.0  \n",
       "21898            NaN            169.0  \n",
       "22474          561.0            436.0  \n",
       "22717            NaN             75.0  \n",
       "22933          374.0            427.0  \n",
       "23214            NaN             70.0  \n",
       "\n",
       "[49 rows x 22 columns]"
      ]
     },
     "execution_count": 16,
     "metadata": {},
     "output_type": "execute_result"
    }
   ],
   "source": [
    "data.query('locality_name.isna()') #вывод таблицы с пропусками в столбце"
   ]
  },
  {
   "cell_type": "markdown",
   "metadata": {},
   "source": [
    "Пропуски в дальности до аэропорта, центра города, парков и водоемов, а также их количество скорее всего может говорить о том,что вблизи их нет или эти моменты могли не заполнить люди. В дальнейшем данные столбцы не будут играть важной роли и их можно оставить без изменений."
   ]
  },
  {
   "cell_type": "markdown",
   "metadata": {},
   "source": [
    "Заменим тип данных в столбцах на целочисленный `last_price`,`floors_total`,`balcony`,`total_images`, `rooms`, `floor` так как это все должно считаться целым числом, а цена квартиры вряд ли будет с копейками. Также можно было бы перевести в целочисленный тип столбцы `parks_around3000`,`ponds_around3000`,`days_exposition`, но в них есть пустые значения и, поэтому это невозможно сделать. Также заменим тип данных на булевой в столбце `is_apartment`,`studio`, `open_plan`. Столбец `first_day_exposition`  приведем к типу даты."
   ]
  },
  {
   "cell_type": "code",
   "execution_count": 17,
   "metadata": {
    "scrolled": true
   },
   "outputs": [
    {
     "name": "stdout",
     "output_type": "stream",
     "text": [
      "<class 'pandas.core.frame.DataFrame'>\n",
      "Int64Index: 23670 entries, 0 to 23698\n",
      "Data columns (total 22 columns):\n",
      "total_images            23670 non-null uint8\n",
      "last_price              23670 non-null int32\n",
      "total_area              23670 non-null float16\n",
      "first_day_exposition    23670 non-null datetime64[ns]\n",
      "rooms                   23670 non-null uint8\n",
      "ceiling_height          23670 non-null float16\n",
      "floors_total            23670 non-null uint8\n",
      "living_area             21767 non-null float16\n",
      "floor                   23670 non-null uint8\n",
      "is_apartment            23670 non-null bool\n",
      "studio                  23670 non-null bool\n",
      "open_plan               23670 non-null bool\n",
      "kitchen_area            21398 non-null float16\n",
      "balcony                 23670 non-null uint8\n",
      "locality_name           23621 non-null object\n",
      "airports_nearest        18138 non-null float16\n",
      "cityCenters_nearest     18161 non-null float16\n",
      "parks_around3000        18162 non-null float16\n",
      "parks_nearest           8070 non-null float16\n",
      "ponds_around3000        18162 non-null float16\n",
      "ponds_nearest           9101 non-null float64\n",
      "days_exposition         20495 non-null float16\n",
      "dtypes: bool(3), datetime64[ns](1), float16(10), float64(1), int32(1), object(1), uint8(5)\n",
      "memory usage: 1.4+ MB\n"
     ]
    }
   ],
   "source": [
    "#заменим тип данных в столбцах\n",
    "data['last_price'] = data['last_price'].astype('int32')\n",
    "data['total_images'] = data['total_images'].astype('uint8')\n",
    "data['rooms'] = data['rooms'].astype('uint8')\n",
    "data['floors_total'] = data['floors_total'].astype('uint8')\n",
    "data['floor'] = data['floor'].astype('uint8')\n",
    "data['balcony'] = data['balcony'].astype('uint8')\n",
    "data['is_apartment'] = data['is_apartment'].astype('bool')\n",
    "data['studio'] = data['studio'].astype('bool')\n",
    "data['open_plan'] = data['open_plan'].astype('bool')\n",
    "data['total_area'] = data['total_area'].astype('float16')\n",
    "data['ceiling_height'] = data['ceiling_height'].astype('float16')\n",
    "data['living_area'] = data['living_area'].astype('float16')\n",
    "data['kitchen_area'] = data['kitchen_area'].astype('float16')\n",
    "data['airports_nearest'] = data['airports_nearest'].astype('float16')\n",
    "data['cityCenters_nearest'] = data['cityCenters_nearest'].astype('float16')\n",
    "data['parks_around3000'] = data['parks_around3000'].astype('float16')\n",
    "data['parks_nearest'] = data['parks_nearest'].astype('float16')\n",
    "data['ponds_around3000'] = data['ponds_around3000'].astype('float16')\n",
    "data['days_exposition'] = data['days_exposition'].astype('float16')\n",
    "data['first_day_exposition'] = pd.to_datetime(data['first_day_exposition'], format='%Y-%m-%dT%H:%M:%S')\n",
    "data.info() #перепроверим данные"
   ]
  },
  {
   "cell_type": "markdown",
   "metadata": {},
   "source": [
    "После изменения типов данных, памяти стало тратиться на 38% меньше."
   ]
  },
  {
   "cell_type": "markdown",
   "metadata": {},
   "source": [
    "### Вывод"
   ]
  },
  {
   "cell_type": "markdown",
   "metadata": {},
   "source": [
    "В данном пункте были заменены пропуски в столбцах `ceiling_height`, `floors_total`, `is_apartment`, `balcony`. В столбцах  `living_area`,  `kitchen_area`, `locality_name`,`airports_nearest`,`cityCenters_nearest`, `parks_around3000`, `parks_nearest`, `ponds_around3000`, `ponds_nearest`, `days_exposition` пропуски оставлены без изменений. \n",
    "\n",
    "Были удалены строки с системной ошибкой. \n",
    "Типы данных в столбцах `last_price`,`floors_total`,`balcony`,`total_images`, `rooms`, `floor` переведены в целочисленный, и в столбце  `is_apartment`,`studio`, `open_plan` в булевой. Столбец `first_day_exposition`  приведен к типу даты."
   ]
  },
  {
   "cell_type": "markdown",
   "metadata": {},
   "source": [
    "## Расчёты и добавление результатов в таблицу"
   ]
  },
  {
   "cell_type": "markdown",
   "metadata": {},
   "source": [
    "Создадим столбец `price`, который будет хранить цену квадратного метра. "
   ]
  },
  {
   "cell_type": "code",
   "execution_count": 18,
   "metadata": {
    "scrolled": true
   },
   "outputs": [],
   "source": [
    "data['price'] = data['last_price']/data['total_area'] #столбец соотношения цены на квадратный метр   "
   ]
  },
  {
   "cell_type": "markdown",
   "metadata": {},
   "source": [
    "Столбец `weekday` отвечает за день недели."
   ]
  },
  {
   "cell_type": "code",
   "execution_count": 19,
   "metadata": {
    "scrolled": true
   },
   "outputs": [],
   "source": [
    "data['weekday'] = data['first_day_exposition'].dt.weekday #создание столбца дня недели"
   ]
  },
  {
   "cell_type": "markdown",
   "metadata": {},
   "source": [
    "Столбец `month`отвечает за месяц."
   ]
  },
  {
   "cell_type": "code",
   "execution_count": 20,
   "metadata": {},
   "outputs": [],
   "source": [
    "data['month'] = data['first_day_exposition'].dt.month #создание столбца месяца"
   ]
  },
  {
   "cell_type": "markdown",
   "metadata": {},
   "source": [
    "Столбец `year`отвечает за год."
   ]
  },
  {
   "cell_type": "code",
   "execution_count": 21,
   "metadata": {
    "scrolled": true
   },
   "outputs": [],
   "source": [
    "data['year'] = data['first_day_exposition'].dt.year #создание столбца год"
   ]
  },
  {
   "cell_type": "markdown",
   "metadata": {},
   "source": [
    "Столбец `floor_category` отвечает за варианты этажей."
   ]
  },
  {
   "cell_type": "code",
   "execution_count": 22,
   "metadata": {},
   "outputs": [],
   "source": [
    "def floor_category(row):\n",
    "    if row['floor'] == 1:\n",
    "        return 'первый'\n",
    "    if row['floor'] == row['floors_total']: \n",
    "        return 'последний'\n",
    "    return 'другой'\n",
    "data['floor_category'] = data.apply(floor_category, axis = 1) #создание столбца категории этажа"
   ]
  },
  {
   "cell_type": "markdown",
   "metadata": {},
   "source": [
    "Столбцы `liv_total`, `kit_total` отвечают за соотношение жилой и общей площади и отношение площади кухни к общей соответсвенно."
   ]
  },
  {
   "cell_type": "code",
   "execution_count": 23,
   "metadata": {
    "scrolled": false
   },
   "outputs": [
    {
     "data": {
      "text/html": [
       "<div>\n",
       "<style scoped>\n",
       "    .dataframe tbody tr th:only-of-type {\n",
       "        vertical-align: middle;\n",
       "    }\n",
       "\n",
       "    .dataframe tbody tr th {\n",
       "        vertical-align: top;\n",
       "    }\n",
       "\n",
       "    .dataframe thead th {\n",
       "        text-align: right;\n",
       "    }\n",
       "</style>\n",
       "<table border=\"1\" class=\"dataframe\">\n",
       "  <thead>\n",
       "    <tr style=\"text-align: right;\">\n",
       "      <th></th>\n",
       "      <th>total_images</th>\n",
       "      <th>last_price</th>\n",
       "      <th>total_area</th>\n",
       "      <th>first_day_exposition</th>\n",
       "      <th>rooms</th>\n",
       "      <th>ceiling_height</th>\n",
       "      <th>floors_total</th>\n",
       "      <th>living_area</th>\n",
       "      <th>floor</th>\n",
       "      <th>is_apartment</th>\n",
       "      <th>...</th>\n",
       "      <th>ponds_around3000</th>\n",
       "      <th>ponds_nearest</th>\n",
       "      <th>days_exposition</th>\n",
       "      <th>price</th>\n",
       "      <th>weekday</th>\n",
       "      <th>month</th>\n",
       "      <th>year</th>\n",
       "      <th>floor_category</th>\n",
       "      <th>liv_total</th>\n",
       "      <th>kit_total</th>\n",
       "    </tr>\n",
       "  </thead>\n",
       "  <tbody>\n",
       "    <tr>\n",
       "      <td>0</td>\n",
       "      <td>20</td>\n",
       "      <td>13000000</td>\n",
       "      <td>108.00000</td>\n",
       "      <td>2019-03-07</td>\n",
       "      <td>3</td>\n",
       "      <td>2.699219</td>\n",
       "      <td>16</td>\n",
       "      <td>51.00000</td>\n",
       "      <td>8</td>\n",
       "      <td>False</td>\n",
       "      <td>...</td>\n",
       "      <td>2.0</td>\n",
       "      <td>755.0</td>\n",
       "      <td>NaN</td>\n",
       "      <td>120370.370370</td>\n",
       "      <td>3</td>\n",
       "      <td>3</td>\n",
       "      <td>2019</td>\n",
       "      <td>другой</td>\n",
       "      <td>0.472168</td>\n",
       "      <td>0.231445</td>\n",
       "    </tr>\n",
       "    <tr>\n",
       "      <td>1</td>\n",
       "      <td>7</td>\n",
       "      <td>3350000</td>\n",
       "      <td>40.40625</td>\n",
       "      <td>2018-12-04</td>\n",
       "      <td>1</td>\n",
       "      <td>2.650391</td>\n",
       "      <td>11</td>\n",
       "      <td>18.59375</td>\n",
       "      <td>1</td>\n",
       "      <td>False</td>\n",
       "      <td>...</td>\n",
       "      <td>0.0</td>\n",
       "      <td>NaN</td>\n",
       "      <td>81.0</td>\n",
       "      <td>82907.965971</td>\n",
       "      <td>1</td>\n",
       "      <td>12</td>\n",
       "      <td>2018</td>\n",
       "      <td>первый</td>\n",
       "      <td>0.460205</td>\n",
       "      <td>0.272217</td>\n",
       "    </tr>\n",
       "    <tr>\n",
       "      <td>2</td>\n",
       "      <td>10</td>\n",
       "      <td>5196000</td>\n",
       "      <td>56.00000</td>\n",
       "      <td>2015-08-20</td>\n",
       "      <td>2</td>\n",
       "      <td>2.650391</td>\n",
       "      <td>5</td>\n",
       "      <td>34.31250</td>\n",
       "      <td>4</td>\n",
       "      <td>False</td>\n",
       "      <td>...</td>\n",
       "      <td>2.0</td>\n",
       "      <td>574.0</td>\n",
       "      <td>558.0</td>\n",
       "      <td>92785.714286</td>\n",
       "      <td>3</td>\n",
       "      <td>8</td>\n",
       "      <td>2015</td>\n",
       "      <td>другой</td>\n",
       "      <td>0.612793</td>\n",
       "      <td>0.148193</td>\n",
       "    </tr>\n",
       "    <tr>\n",
       "      <td>3</td>\n",
       "      <td>0</td>\n",
       "      <td>64900000</td>\n",
       "      <td>159.00000</td>\n",
       "      <td>2015-07-24</td>\n",
       "      <td>3</td>\n",
       "      <td>2.650391</td>\n",
       "      <td>14</td>\n",
       "      <td>NaN</td>\n",
       "      <td>9</td>\n",
       "      <td>False</td>\n",
       "      <td>...</td>\n",
       "      <td>3.0</td>\n",
       "      <td>234.0</td>\n",
       "      <td>424.0</td>\n",
       "      <td>408176.100629</td>\n",
       "      <td>4</td>\n",
       "      <td>7</td>\n",
       "      <td>2015</td>\n",
       "      <td>другой</td>\n",
       "      <td>NaN</td>\n",
       "      <td>NaN</td>\n",
       "    </tr>\n",
       "    <tr>\n",
       "      <td>4</td>\n",
       "      <td>2</td>\n",
       "      <td>10000000</td>\n",
       "      <td>100.00000</td>\n",
       "      <td>2018-06-19</td>\n",
       "      <td>2</td>\n",
       "      <td>3.029297</td>\n",
       "      <td>14</td>\n",
       "      <td>32.00000</td>\n",
       "      <td>13</td>\n",
       "      <td>False</td>\n",
       "      <td>...</td>\n",
       "      <td>1.0</td>\n",
       "      <td>48.0</td>\n",
       "      <td>121.0</td>\n",
       "      <td>100000.000000</td>\n",
       "      <td>1</td>\n",
       "      <td>6</td>\n",
       "      <td>2018</td>\n",
       "      <td>другой</td>\n",
       "      <td>0.320068</td>\n",
       "      <td>0.409912</td>\n",
       "    </tr>\n",
       "  </tbody>\n",
       "</table>\n",
       "<p>5 rows × 29 columns</p>\n",
       "</div>"
      ],
      "text/plain": [
       "   total_images  last_price  total_area first_day_exposition  rooms  \\\n",
       "0            20    13000000   108.00000           2019-03-07      3   \n",
       "1             7     3350000    40.40625           2018-12-04      1   \n",
       "2            10     5196000    56.00000           2015-08-20      2   \n",
       "3             0    64900000   159.00000           2015-07-24      3   \n",
       "4             2    10000000   100.00000           2018-06-19      2   \n",
       "\n",
       "   ceiling_height  floors_total  living_area  floor  is_apartment  ...  \\\n",
       "0        2.699219            16     51.00000      8         False  ...   \n",
       "1        2.650391            11     18.59375      1         False  ...   \n",
       "2        2.650391             5     34.31250      4         False  ...   \n",
       "3        2.650391            14          NaN      9         False  ...   \n",
       "4        3.029297            14     32.00000     13         False  ...   \n",
       "\n",
       "   ponds_around3000  ponds_nearest  days_exposition          price weekday  \\\n",
       "0               2.0          755.0              NaN  120370.370370       3   \n",
       "1               0.0            NaN             81.0   82907.965971       1   \n",
       "2               2.0          574.0            558.0   92785.714286       3   \n",
       "3               3.0          234.0            424.0  408176.100629       4   \n",
       "4               1.0           48.0            121.0  100000.000000       1   \n",
       "\n",
       "   month  year  floor_category  liv_total  kit_total  \n",
       "0      3  2019          другой   0.472168   0.231445  \n",
       "1     12  2018          первый   0.460205   0.272217  \n",
       "2      8  2015          другой   0.612793   0.148193  \n",
       "3      7  2015          другой        NaN        NaN  \n",
       "4      6  2018          другой   0.320068   0.409912  \n",
       "\n",
       "[5 rows x 29 columns]"
      ]
     },
     "execution_count": 23,
     "metadata": {},
     "output_type": "execute_result"
    }
   ],
   "source": [
    "data['liv_total'] = data['living_area']/data['total_area'] #создание столбца соотношения жилой площади к общей\n",
    "data['kit_total'] = data['kitchen_area']/data['total_area'] #создание столбца соотношения кухни к общей площади\n",
    "data.head(5) #проверим наличие созданных столбцов"
   ]
  },
  {
   "cell_type": "markdown",
   "metadata": {},
   "source": [
    "### Вывод"
   ]
  },
  {
   "cell_type": "markdown",
   "metadata": {},
   "source": [
    "В данном пункте были посчитаны и созданы новые столбцы: `price`, `weekday`, `month`, `year`, `floor_category`, `liv_total`, `kit_total`."
   ]
  },
  {
   "cell_type": "markdown",
   "metadata": {},
   "source": [
    "## Исследовательский анализ данных"
   ]
  },
  {
   "cell_type": "markdown",
   "metadata": {},
   "source": [
    "Построим гистограммы для столбцов площади, цены, числа комнат, высоты потолков."
   ]
  },
  {
   "cell_type": "code",
   "execution_count": 24,
   "metadata": {
    "scrolled": true
   },
   "outputs": [
    {
     "data": {
      "image/png": "[encoded data removed]",
      "text/plain": [
       "<Figure size 432x288 with 1 Axes>"
      ]
     },
     "metadata": {
      "needs_background": "light"
     },
     "output_type": "display_data"
    }
   ],
   "source": [
    "data['total_area'].plot( kind='hist', bins = 5, range = (0,400)) #построение гистогрммы\n",
    "plt.xlabel('Общая площадь квартир, м²'), plt.ylabel('Количество квартир, шт.')\n",
    "plt.title('Количество квартир с определенной площаью\\n за период с ноября 2014 года по май 2019')\n",
    "plt.show()"
   ]
  },
  {
   "cell_type": "markdown",
   "metadata": {},
   "source": [
    "Пик наблюдается в промежутке до 75 квадратных метров. "
   ]
  },
  {
   "cell_type": "code",
   "execution_count": 25,
   "metadata": {
    "scrolled": false
   },
   "outputs": [
    {
     "data": {
      "image/png": "[encoded data removed]",
      "text/plain": [
       "<Figure size 432x288 with 1 Axes>"
      ]
     },
     "metadata": {
      "needs_background": "light"
     },
     "output_type": "display_data"
    }
   ],
   "source": [
    "data['last_price'].hist(bins = 10,range = (500000,10000000))  #построение гистогрммы\n",
    "plt.xlabel('Цена квартиры, руб'), plt.ylabel('Количество квартир, шт.')\n",
    "plt.title('Количество квартир с определенным ценовым диапазонам\\n за период с ноября 2014 года по май 2019')\n",
    "plt.show()"
   ]
  },
  {
   "cell_type": "markdown",
   "metadata": {},
   "source": [
    "Пик наблюдается в промежутке от 3 миллионов до 4, значит большая часть квартир продается в промежутке этих двух цен. Второй пик находится в промежутке от 4 до 5 миллионов. "
   ]
  },
  {
   "cell_type": "code",
   "execution_count": 26,
   "metadata": {
    "scrolled": false
   },
   "outputs": [
    {
     "data": {
      "image/png": "[encoded data removed]",
      "text/plain": [
       "<Figure size 432x288 with 1 Axes>"
      ]
     },
     "metadata": {
      "needs_background": "light"
     },
     "output_type": "display_data"
    }
   ],
   "source": [
    "data['rooms'].hist(bins = 10,range = (0,10)) #построение гистогрммы\n",
    "plt.xlabel('Количество комнат, шт.') , plt.ylabel('Количество квартир, шт.')\n",
    "plt.title('Количество квартир с определенным числом комнат\\n за период с ноября 2014 года по май 2019')\n",
    "plt.show()"
   ]
  },
  {
   "cell_type": "markdown",
   "metadata": {},
   "source": [
    "Судя по гистограмме, чаще всего продают однокомнатные и двухкомнатные квартиры."
   ]
  },
  {
   "cell_type": "code",
   "execution_count": 27,
   "metadata": {
    "scrolled": true
   },
   "outputs": [
    {
     "data": {
      "image/png": "[encoded data removed]",
      "text/plain": [
       "<Figure size 432x288 with 1 Axes>"
      ]
     },
     "metadata": {
      "needs_background": "light"
     },
     "output_type": "display_data"
    }
   ],
   "source": [
    "data['ceiling_height'].hist(bins = 4,range = (2,4)) #построение гистогрммы\n",
    "plt.xlabel('Высота потолков, м') , plt.ylabel('Количество квартир, шт.')\n",
    "plt.title('Количество квартир с определенной высотой потолков\\n за период с ноября 2014 года по май 2019')\n",
    "plt.show()"
   ]
  },
  {
   "cell_type": "markdown",
   "metadata": {},
   "source": [
    "Чаще всего продают квартиры с высотой потолков от 2.50 до 3 метров."
   ]
  },
  {
   "cell_type": "code",
   "execution_count": 28,
   "metadata": {
    "scrolled": true
   },
   "outputs": [
    {
     "data": {
      "image/png": "[encoded data removed]",
      "text/plain": [
       "<Figure size 432x288 with 1 Axes>"
      ]
     },
     "metadata": {
      "needs_background": "light"
     },
     "output_type": "display_data"
    }
   ],
   "source": [
    "data['days_exposition'].hist(bins = 10,range = (0,1500)) #построение гистогрммы\n",
    "plt.xlabel('Колиество дней продажи, дни') , plt.ylabel('Количество квартир, шт.')\n",
    "plt.title('Количество квартир с определенным количеством дней в статусе продажи\\n за период с ноября 2014 года по май 2019')\n",
    "plt.show()"
   ]
  },
  {
   "cell_type": "markdown",
   "metadata": {},
   "source": [
    "Найдем числовое описание столбца."
   ]
  },
  {
   "cell_type": "code",
   "execution_count": 29,
   "metadata": {},
   "outputs": [
    {
     "data": {
      "text/plain": [
       "count    20495.0\n",
       "mean         inf\n",
       "std          inf\n",
       "min          1.0\n",
       "25%         45.0\n",
       "50%         95.0\n",
       "75%        232.0\n",
       "max       1580.0\n",
       "Name: days_exposition, dtype: float64"
      ]
     },
     "execution_count": 29,
     "metadata": {},
     "output_type": "execute_result"
    }
   ],
   "source": [
    "data['days_exposition'].describe() #числовое описание столбца"
   ]
  },
  {
   "cell_type": "markdown",
   "metadata": {},
   "source": [
    "Судя по гистограмме, квартиры чаще всего продаются за первые 100 дней, но кто-то не может продать квартиру и за 4 года. Медиана оправдывает предположение о продаже квартир в течение 100 дней. По среднему можно сделать вывод, что квартиры продаются за полгода. Создадим усеченные таблицы с долгими и быстрыми продажами."
   ]
  },
  {
   "cell_type": "code",
   "execution_count": 30,
   "metadata": {
    "scrolled": true
   },
   "outputs": [
    {
     "data": {
      "text/html": [
       "<div>\n",
       "<style scoped>\n",
       "    .dataframe tbody tr th:only-of-type {\n",
       "        vertical-align: middle;\n",
       "    }\n",
       "\n",
       "    .dataframe tbody tr th {\n",
       "        vertical-align: top;\n",
       "    }\n",
       "\n",
       "    .dataframe thead th {\n",
       "        text-align: right;\n",
       "    }\n",
       "</style>\n",
       "<table border=\"1\" class=\"dataframe\">\n",
       "  <thead>\n",
       "    <tr style=\"text-align: right;\">\n",
       "      <th></th>\n",
       "      <th>total_images</th>\n",
       "      <th>last_price</th>\n",
       "      <th>total_area</th>\n",
       "      <th>first_day_exposition</th>\n",
       "      <th>rooms</th>\n",
       "      <th>ceiling_height</th>\n",
       "      <th>floors_total</th>\n",
       "      <th>living_area</th>\n",
       "      <th>floor</th>\n",
       "      <th>is_apartment</th>\n",
       "      <th>...</th>\n",
       "      <th>ponds_around3000</th>\n",
       "      <th>ponds_nearest</th>\n",
       "      <th>days_exposition</th>\n",
       "      <th>price</th>\n",
       "      <th>weekday</th>\n",
       "      <th>month</th>\n",
       "      <th>year</th>\n",
       "      <th>floor_category</th>\n",
       "      <th>liv_total</th>\n",
       "      <th>kit_total</th>\n",
       "    </tr>\n",
       "  </thead>\n",
       "  <tbody>\n",
       "    <tr>\n",
       "      <td>521</td>\n",
       "      <td>20</td>\n",
       "      <td>25717300</td>\n",
       "      <td>230.12500</td>\n",
       "      <td>2015-01-21</td>\n",
       "      <td>3</td>\n",
       "      <td>2.650391</td>\n",
       "      <td>3</td>\n",
       "      <td>130.000000</td>\n",
       "      <td>1</td>\n",
       "      <td>False</td>\n",
       "      <td>...</td>\n",
       "      <td>3.0</td>\n",
       "      <td>278.0</td>\n",
       "      <td>1441.0</td>\n",
       "      <td>111753.612167</td>\n",
       "      <td>2</td>\n",
       "      <td>1</td>\n",
       "      <td>2015</td>\n",
       "      <td>первый</td>\n",
       "      <td>0.564941</td>\n",
       "      <td>0.113403</td>\n",
       "    </tr>\n",
       "    <tr>\n",
       "      <td>1109</td>\n",
       "      <td>1</td>\n",
       "      <td>34878556</td>\n",
       "      <td>95.81250</td>\n",
       "      <td>2014-12-09</td>\n",
       "      <td>2</td>\n",
       "      <td>2.650391</td>\n",
       "      <td>6</td>\n",
       "      <td>58.312500</td>\n",
       "      <td>5</td>\n",
       "      <td>True</td>\n",
       "      <td>...</td>\n",
       "      <td>3.0</td>\n",
       "      <td>569.0</td>\n",
       "      <td>1572.0</td>\n",
       "      <td>364029.286367</td>\n",
       "      <td>1</td>\n",
       "      <td>12</td>\n",
       "      <td>2014</td>\n",
       "      <td>другой</td>\n",
       "      <td>0.608398</td>\n",
       "      <td>0.208740</td>\n",
       "    </tr>\n",
       "    <tr>\n",
       "      <td>1885</td>\n",
       "      <td>2</td>\n",
       "      <td>13300000</td>\n",
       "      <td>79.62500</td>\n",
       "      <td>2014-12-09</td>\n",
       "      <td>2</td>\n",
       "      <td>3.000000</td>\n",
       "      <td>8</td>\n",
       "      <td>42.687500</td>\n",
       "      <td>7</td>\n",
       "      <td>False</td>\n",
       "      <td>...</td>\n",
       "      <td>0.0</td>\n",
       "      <td>NaN</td>\n",
       "      <td>1513.0</td>\n",
       "      <td>167032.967033</td>\n",
       "      <td>1</td>\n",
       "      <td>12</td>\n",
       "      <td>2014</td>\n",
       "      <td>другой</td>\n",
       "      <td>0.536133</td>\n",
       "      <td>0.226074</td>\n",
       "    </tr>\n",
       "    <tr>\n",
       "      <td>2941</td>\n",
       "      <td>3</td>\n",
       "      <td>10090000</td>\n",
       "      <td>71.87500</td>\n",
       "      <td>2015-02-02</td>\n",
       "      <td>2</td>\n",
       "      <td>2.650391</td>\n",
       "      <td>10</td>\n",
       "      <td>34.093750</td>\n",
       "      <td>9</td>\n",
       "      <td>False</td>\n",
       "      <td>...</td>\n",
       "      <td>1.0</td>\n",
       "      <td>434.0</td>\n",
       "      <td>1458.0</td>\n",
       "      <td>140382.608696</td>\n",
       "      <td>0</td>\n",
       "      <td>2</td>\n",
       "      <td>2015</td>\n",
       "      <td>другой</td>\n",
       "      <td>0.474365</td>\n",
       "      <td>0.233643</td>\n",
       "    </tr>\n",
       "    <tr>\n",
       "      <td>4736</td>\n",
       "      <td>11</td>\n",
       "      <td>6650000</td>\n",
       "      <td>68.31250</td>\n",
       "      <td>2015-02-19</td>\n",
       "      <td>4</td>\n",
       "      <td>2.630859</td>\n",
       "      <td>5</td>\n",
       "      <td>45.093750</td>\n",
       "      <td>4</td>\n",
       "      <td>False</td>\n",
       "      <td>...</td>\n",
       "      <td>3.0</td>\n",
       "      <td>453.0</td>\n",
       "      <td>1477.0</td>\n",
       "      <td>97346.752059</td>\n",
       "      <td>3</td>\n",
       "      <td>2</td>\n",
       "      <td>2015</td>\n",
       "      <td>другой</td>\n",
       "      <td>0.660156</td>\n",
       "      <td>0.131714</td>\n",
       "    </tr>\n",
       "    <tr>\n",
       "      <td>6006</td>\n",
       "      <td>4</td>\n",
       "      <td>4400000</td>\n",
       "      <td>38.62500</td>\n",
       "      <td>2015-02-03</td>\n",
       "      <td>1</td>\n",
       "      <td>2.849609</td>\n",
       "      <td>25</td>\n",
       "      <td>15.000000</td>\n",
       "      <td>6</td>\n",
       "      <td>False</td>\n",
       "      <td>...</td>\n",
       "      <td>0.0</td>\n",
       "      <td>NaN</td>\n",
       "      <td>1452.0</td>\n",
       "      <td>113915.857605</td>\n",
       "      <td>1</td>\n",
       "      <td>2</td>\n",
       "      <td>2015</td>\n",
       "      <td>другой</td>\n",
       "      <td>0.388428</td>\n",
       "      <td>0.318359</td>\n",
       "    </tr>\n",
       "    <tr>\n",
       "      <td>6691</td>\n",
       "      <td>3</td>\n",
       "      <td>4400000</td>\n",
       "      <td>42.96875</td>\n",
       "      <td>2014-12-12</td>\n",
       "      <td>1</td>\n",
       "      <td>2.650391</td>\n",
       "      <td>5</td>\n",
       "      <td>18.718750</td>\n",
       "      <td>1</td>\n",
       "      <td>False</td>\n",
       "      <td>...</td>\n",
       "      <td>3.0</td>\n",
       "      <td>232.0</td>\n",
       "      <td>1512.0</td>\n",
       "      <td>102400.000000</td>\n",
       "      <td>4</td>\n",
       "      <td>12</td>\n",
       "      <td>2014</td>\n",
       "      <td>первый</td>\n",
       "      <td>0.435547</td>\n",
       "      <td>0.263184</td>\n",
       "    </tr>\n",
       "    <tr>\n",
       "      <td>6726</td>\n",
       "      <td>6</td>\n",
       "      <td>11995000</td>\n",
       "      <td>83.81250</td>\n",
       "      <td>2014-11-27</td>\n",
       "      <td>2</td>\n",
       "      <td>2.730469</td>\n",
       "      <td>11</td>\n",
       "      <td>42.312500</td>\n",
       "      <td>1</td>\n",
       "      <td>False</td>\n",
       "      <td>...</td>\n",
       "      <td>3.0</td>\n",
       "      <td>303.0</td>\n",
       "      <td>1406.0</td>\n",
       "      <td>143117.076808</td>\n",
       "      <td>3</td>\n",
       "      <td>11</td>\n",
       "      <td>2014</td>\n",
       "      <td>первый</td>\n",
       "      <td>0.504883</td>\n",
       "      <td>0.212891</td>\n",
       "    </tr>\n",
       "    <tr>\n",
       "      <td>9553</td>\n",
       "      <td>11</td>\n",
       "      <td>10600000</td>\n",
       "      <td>80.00000</td>\n",
       "      <td>2014-12-09</td>\n",
       "      <td>3</td>\n",
       "      <td>2.849609</td>\n",
       "      <td>17</td>\n",
       "      <td>44.000000</td>\n",
       "      <td>9</td>\n",
       "      <td>False</td>\n",
       "      <td>...</td>\n",
       "      <td>0.0</td>\n",
       "      <td>NaN</td>\n",
       "      <td>1553.0</td>\n",
       "      <td>132500.000000</td>\n",
       "      <td>1</td>\n",
       "      <td>12</td>\n",
       "      <td>2014</td>\n",
       "      <td>другой</td>\n",
       "      <td>0.549805</td>\n",
       "      <td>0.187500</td>\n",
       "    </tr>\n",
       "    <tr>\n",
       "      <td>9555</td>\n",
       "      <td>11</td>\n",
       "      <td>9950000</td>\n",
       "      <td>61.18750</td>\n",
       "      <td>2015-04-06</td>\n",
       "      <td>2</td>\n",
       "      <td>3.169922</td>\n",
       "      <td>7</td>\n",
       "      <td>39.687500</td>\n",
       "      <td>2</td>\n",
       "      <td>False</td>\n",
       "      <td>...</td>\n",
       "      <td>0.0</td>\n",
       "      <td>NaN</td>\n",
       "      <td>1434.0</td>\n",
       "      <td>162614.913177</td>\n",
       "      <td>0</td>\n",
       "      <td>4</td>\n",
       "      <td>2015</td>\n",
       "      <td>другой</td>\n",
       "      <td>0.648438</td>\n",
       "      <td>0.130737</td>\n",
       "    </tr>\n",
       "    <tr>\n",
       "      <td>11955</td>\n",
       "      <td>4</td>\n",
       "      <td>11400000</td>\n",
       "      <td>76.00000</td>\n",
       "      <td>2014-12-09</td>\n",
       "      <td>2</td>\n",
       "      <td>2.650391</td>\n",
       "      <td>9</td>\n",
       "      <td>36.000000</td>\n",
       "      <td>3</td>\n",
       "      <td>False</td>\n",
       "      <td>...</td>\n",
       "      <td>0.0</td>\n",
       "      <td>NaN</td>\n",
       "      <td>1484.0</td>\n",
       "      <td>150000.000000</td>\n",
       "      <td>1</td>\n",
       "      <td>12</td>\n",
       "      <td>2014</td>\n",
       "      <td>другой</td>\n",
       "      <td>0.473633</td>\n",
       "      <td>0.184204</td>\n",
       "    </tr>\n",
       "    <tr>\n",
       "      <td>11985</td>\n",
       "      <td>1</td>\n",
       "      <td>15104000</td>\n",
       "      <td>118.00000</td>\n",
       "      <td>2015-05-19</td>\n",
       "      <td>3</td>\n",
       "      <td>3.099609</td>\n",
       "      <td>16</td>\n",
       "      <td>64.312500</td>\n",
       "      <td>5</td>\n",
       "      <td>False</td>\n",
       "      <td>...</td>\n",
       "      <td>2.0</td>\n",
       "      <td>427.0</td>\n",
       "      <td>1417.0</td>\n",
       "      <td>128000.000000</td>\n",
       "      <td>1</td>\n",
       "      <td>5</td>\n",
       "      <td>2015</td>\n",
       "      <td>другой</td>\n",
       "      <td>0.544922</td>\n",
       "      <td>0.120972</td>\n",
       "    </tr>\n",
       "    <tr>\n",
       "      <td>14093</td>\n",
       "      <td>7</td>\n",
       "      <td>9500000</td>\n",
       "      <td>100.00000</td>\n",
       "      <td>2015-02-19</td>\n",
       "      <td>4</td>\n",
       "      <td>3.000000</td>\n",
       "      <td>5</td>\n",
       "      <td>76.000000</td>\n",
       "      <td>5</td>\n",
       "      <td>False</td>\n",
       "      <td>...</td>\n",
       "      <td>0.0</td>\n",
       "      <td>NaN</td>\n",
       "      <td>1497.0</td>\n",
       "      <td>95000.000000</td>\n",
       "      <td>3</td>\n",
       "      <td>2</td>\n",
       "      <td>2015</td>\n",
       "      <td>последний</td>\n",
       "      <td>0.759766</td>\n",
       "      <td>0.099976</td>\n",
       "    </tr>\n",
       "    <tr>\n",
       "      <td>14873</td>\n",
       "      <td>5</td>\n",
       "      <td>6400000</td>\n",
       "      <td>70.00000</td>\n",
       "      <td>2015-02-19</td>\n",
       "      <td>4</td>\n",
       "      <td>3.099609</td>\n",
       "      <td>5</td>\n",
       "      <td>56.687500</td>\n",
       "      <td>3</td>\n",
       "      <td>False</td>\n",
       "      <td>...</td>\n",
       "      <td>1.0</td>\n",
       "      <td>753.0</td>\n",
       "      <td>1430.0</td>\n",
       "      <td>91428.571429</td>\n",
       "      <td>3</td>\n",
       "      <td>2</td>\n",
       "      <td>2015</td>\n",
       "      <td>другой</td>\n",
       "      <td>0.810059</td>\n",
       "      <td>0.114258</td>\n",
       "    </tr>\n",
       "    <tr>\n",
       "      <td>15313</td>\n",
       "      <td>1</td>\n",
       "      <td>9278000</td>\n",
       "      <td>139.75000</td>\n",
       "      <td>2014-12-28</td>\n",
       "      <td>4</td>\n",
       "      <td>2.800781</td>\n",
       "      <td>5</td>\n",
       "      <td>NaN</td>\n",
       "      <td>4</td>\n",
       "      <td>False</td>\n",
       "      <td>...</td>\n",
       "      <td>0.0</td>\n",
       "      <td>NaN</td>\n",
       "      <td>1489.0</td>\n",
       "      <td>66389.982111</td>\n",
       "      <td>6</td>\n",
       "      <td>12</td>\n",
       "      <td>2014</td>\n",
       "      <td>другой</td>\n",
       "      <td>NaN</td>\n",
       "      <td>NaN</td>\n",
       "    </tr>\n",
       "    <tr>\n",
       "      <td>18843</td>\n",
       "      <td>11</td>\n",
       "      <td>3500000</td>\n",
       "      <td>48.18750</td>\n",
       "      <td>2014-12-15</td>\n",
       "      <td>2</td>\n",
       "      <td>2.500000</td>\n",
       "      <td>5</td>\n",
       "      <td>27.406250</td>\n",
       "      <td>2</td>\n",
       "      <td>False</td>\n",
       "      <td>...</td>\n",
       "      <td>NaN</td>\n",
       "      <td>NaN</td>\n",
       "      <td>1580.0</td>\n",
       "      <td>72632.944228</td>\n",
       "      <td>0</td>\n",
       "      <td>12</td>\n",
       "      <td>2014</td>\n",
       "      <td>другой</td>\n",
       "      <td>0.568848</td>\n",
       "      <td>0.159790</td>\n",
       "    </tr>\n",
       "    <tr>\n",
       "      <td>19123</td>\n",
       "      <td>9</td>\n",
       "      <td>5990000</td>\n",
       "      <td>82.00000</td>\n",
       "      <td>2015-02-19</td>\n",
       "      <td>3</td>\n",
       "      <td>3.000000</td>\n",
       "      <td>4</td>\n",
       "      <td>60.000000</td>\n",
       "      <td>2</td>\n",
       "      <td>False</td>\n",
       "      <td>...</td>\n",
       "      <td>2.0</td>\n",
       "      <td>458.0</td>\n",
       "      <td>1485.0</td>\n",
       "      <td>73048.780488</td>\n",
       "      <td>3</td>\n",
       "      <td>2</td>\n",
       "      <td>2015</td>\n",
       "      <td>другой</td>\n",
       "      <td>0.731934</td>\n",
       "      <td>0.097534</td>\n",
       "    </tr>\n",
       "    <tr>\n",
       "      <td>20969</td>\n",
       "      <td>18</td>\n",
       "      <td>13300000</td>\n",
       "      <td>133.00000</td>\n",
       "      <td>2015-02-11</td>\n",
       "      <td>4</td>\n",
       "      <td>3.000000</td>\n",
       "      <td>5</td>\n",
       "      <td>58.000000</td>\n",
       "      <td>2</td>\n",
       "      <td>False</td>\n",
       "      <td>...</td>\n",
       "      <td>1.0</td>\n",
       "      <td>534.0</td>\n",
       "      <td>1512.0</td>\n",
       "      <td>100000.000000</td>\n",
       "      <td>2</td>\n",
       "      <td>2</td>\n",
       "      <td>2015</td>\n",
       "      <td>другой</td>\n",
       "      <td>0.436035</td>\n",
       "      <td>0.338379</td>\n",
       "    </tr>\n",
       "    <tr>\n",
       "      <td>20996</td>\n",
       "      <td>10</td>\n",
       "      <td>3400000</td>\n",
       "      <td>54.59375</td>\n",
       "      <td>2014-12-10</td>\n",
       "      <td>2</td>\n",
       "      <td>2.500000</td>\n",
       "      <td>5</td>\n",
       "      <td>29.703125</td>\n",
       "      <td>1</td>\n",
       "      <td>False</td>\n",
       "      <td>...</td>\n",
       "      <td>NaN</td>\n",
       "      <td>NaN</td>\n",
       "      <td>1413.0</td>\n",
       "      <td>62278.191185</td>\n",
       "      <td>2</td>\n",
       "      <td>12</td>\n",
       "      <td>2014</td>\n",
       "      <td>первый</td>\n",
       "      <td>0.543945</td>\n",
       "      <td>0.155640</td>\n",
       "    </tr>\n",
       "  </tbody>\n",
       "</table>\n",
       "<p>19 rows × 29 columns</p>\n",
       "</div>"
      ],
      "text/plain": [
       "       total_images  last_price  total_area first_day_exposition  rooms  \\\n",
       "521              20    25717300   230.12500           2015-01-21      3   \n",
       "1109              1    34878556    95.81250           2014-12-09      2   \n",
       "1885              2    13300000    79.62500           2014-12-09      2   \n",
       "2941              3    10090000    71.87500           2015-02-02      2   \n",
       "4736             11     6650000    68.31250           2015-02-19      4   \n",
       "6006              4     4400000    38.62500           2015-02-03      1   \n",
       "6691              3     4400000    42.96875           2014-12-12      1   \n",
       "6726              6    11995000    83.81250           2014-11-27      2   \n",
       "9553             11    10600000    80.00000           2014-12-09      3   \n",
       "9555             11     9950000    61.18750           2015-04-06      2   \n",
       "11955             4    11400000    76.00000           2014-12-09      2   \n",
       "11985             1    15104000   118.00000           2015-05-19      3   \n",
       "14093             7     9500000   100.00000           2015-02-19      4   \n",
       "14873             5     6400000    70.00000           2015-02-19      4   \n",
       "15313             1     9278000   139.75000           2014-12-28      4   \n",
       "18843            11     3500000    48.18750           2014-12-15      2   \n",
       "19123             9     5990000    82.00000           2015-02-19      3   \n",
       "20969            18    13300000   133.00000           2015-02-11      4   \n",
       "20996            10     3400000    54.59375           2014-12-10      2   \n",
       "\n",
       "       ceiling_height  floors_total  living_area  floor  is_apartment  ...  \\\n",
       "521          2.650391             3   130.000000      1         False  ...   \n",
       "1109         2.650391             6    58.312500      5          True  ...   \n",
       "1885         3.000000             8    42.687500      7         False  ...   \n",
       "2941         2.650391            10    34.093750      9         False  ...   \n",
       "4736         2.630859             5    45.093750      4         False  ...   \n",
       "6006         2.849609            25    15.000000      6         False  ...   \n",
       "6691         2.650391             5    18.718750      1         False  ...   \n",
       "6726         2.730469            11    42.312500      1         False  ...   \n",
       "9553         2.849609            17    44.000000      9         False  ...   \n",
       "9555         3.169922             7    39.687500      2         False  ...   \n",
       "11955        2.650391             9    36.000000      3         False  ...   \n",
       "11985        3.099609            16    64.312500      5         False  ...   \n",
       "14093        3.000000             5    76.000000      5         False  ...   \n",
       "14873        3.099609             5    56.687500      3         False  ...   \n",
       "15313        2.800781             5          NaN      4         False  ...   \n",
       "18843        2.500000             5    27.406250      2         False  ...   \n",
       "19123        3.000000             4    60.000000      2         False  ...   \n",
       "20969        3.000000             5    58.000000      2         False  ...   \n",
       "20996        2.500000             5    29.703125      1         False  ...   \n",
       "\n",
       "       ponds_around3000  ponds_nearest  days_exposition          price  \\\n",
       "521                 3.0          278.0           1441.0  111753.612167   \n",
       "1109                3.0          569.0           1572.0  364029.286367   \n",
       "1885                0.0            NaN           1513.0  167032.967033   \n",
       "2941                1.0          434.0           1458.0  140382.608696   \n",
       "4736                3.0          453.0           1477.0   97346.752059   \n",
       "6006                0.0            NaN           1452.0  113915.857605   \n",
       "6691                3.0          232.0           1512.0  102400.000000   \n",
       "6726                3.0          303.0           1406.0  143117.076808   \n",
       "9553                0.0            NaN           1553.0  132500.000000   \n",
       "9555                0.0            NaN           1434.0  162614.913177   \n",
       "11955               0.0            NaN           1484.0  150000.000000   \n",
       "11985               2.0          427.0           1417.0  128000.000000   \n",
       "14093               0.0            NaN           1497.0   95000.000000   \n",
       "14873               1.0          753.0           1430.0   91428.571429   \n",
       "15313               0.0            NaN           1489.0   66389.982111   \n",
       "18843               NaN            NaN           1580.0   72632.944228   \n",
       "19123               2.0          458.0           1485.0   73048.780488   \n",
       "20969               1.0          534.0           1512.0  100000.000000   \n",
       "20996               NaN            NaN           1413.0   62278.191185   \n",
       "\n",
       "      weekday  month  year  floor_category  liv_total  kit_total  \n",
       "521         2      1  2015          первый   0.564941   0.113403  \n",
       "1109        1     12  2014          другой   0.608398   0.208740  \n",
       "1885        1     12  2014          другой   0.536133   0.226074  \n",
       "2941        0      2  2015          другой   0.474365   0.233643  \n",
       "4736        3      2  2015          другой   0.660156   0.131714  \n",
       "6006        1      2  2015          другой   0.388428   0.318359  \n",
       "6691        4     12  2014          первый   0.435547   0.263184  \n",
       "6726        3     11  2014          первый   0.504883   0.212891  \n",
       "9553        1     12  2014          другой   0.549805   0.187500  \n",
       "9555        0      4  2015          другой   0.648438   0.130737  \n",
       "11955       1     12  2014          другой   0.473633   0.184204  \n",
       "11985       1      5  2015          другой   0.544922   0.120972  \n",
       "14093       3      2  2015       последний   0.759766   0.099976  \n",
       "14873       3      2  2015          другой   0.810059   0.114258  \n",
       "15313       6     12  2014          другой        NaN        NaN  \n",
       "18843       0     12  2014          другой   0.568848   0.159790  \n",
       "19123       3      2  2015          другой   0.731934   0.097534  \n",
       "20969       2      2  2015          другой   0.436035   0.338379  \n",
       "20996       2     12  2014          первый   0.543945   0.155640  \n",
       "\n",
       "[19 rows x 29 columns]"
      ]
     },
     "execution_count": 30,
     "metadata": {},
     "output_type": "execute_result"
    }
   ],
   "source": [
    "data.query('days_exposition > 1400') #усеченная таблица долгой продажи"
   ]
  },
  {
   "cell_type": "code",
   "execution_count": 31,
   "metadata": {
    "scrolled": true
   },
   "outputs": [
    {
     "data": {
      "text/html": [
       "<div>\n",
       "<style scoped>\n",
       "    .dataframe tbody tr th:only-of-type {\n",
       "        vertical-align: middle;\n",
       "    }\n",
       "\n",
       "    .dataframe tbody tr th {\n",
       "        vertical-align: top;\n",
       "    }\n",
       "\n",
       "    .dataframe thead th {\n",
       "        text-align: right;\n",
       "    }\n",
       "</style>\n",
       "<table border=\"1\" class=\"dataframe\">\n",
       "  <thead>\n",
       "    <tr style=\"text-align: right;\">\n",
       "      <th></th>\n",
       "      <th>total_images</th>\n",
       "      <th>last_price</th>\n",
       "      <th>total_area</th>\n",
       "      <th>first_day_exposition</th>\n",
       "      <th>rooms</th>\n",
       "      <th>ceiling_height</th>\n",
       "      <th>floors_total</th>\n",
       "      <th>living_area</th>\n",
       "      <th>floor</th>\n",
       "      <th>is_apartment</th>\n",
       "      <th>...</th>\n",
       "      <th>ponds_around3000</th>\n",
       "      <th>ponds_nearest</th>\n",
       "      <th>days_exposition</th>\n",
       "      <th>price</th>\n",
       "      <th>weekday</th>\n",
       "      <th>month</th>\n",
       "      <th>year</th>\n",
       "      <th>floor_category</th>\n",
       "      <th>liv_total</th>\n",
       "      <th>kit_total</th>\n",
       "    </tr>\n",
       "  </thead>\n",
       "  <tbody>\n",
       "    <tr>\n",
       "      <td>1632</td>\n",
       "      <td>19</td>\n",
       "      <td>4000000</td>\n",
       "      <td>49.90625</td>\n",
       "      <td>2019-05-01</td>\n",
       "      <td>2</td>\n",
       "      <td>2.500000</td>\n",
       "      <td>9</td>\n",
       "      <td>25.000000</td>\n",
       "      <td>1</td>\n",
       "      <td>False</td>\n",
       "      <td>...</td>\n",
       "      <td>1.0</td>\n",
       "      <td>681.0</td>\n",
       "      <td>1.0</td>\n",
       "      <td>80150.281778</td>\n",
       "      <td>2</td>\n",
       "      <td>5</td>\n",
       "      <td>2019</td>\n",
       "      <td>первый</td>\n",
       "      <td>0.500977</td>\n",
       "      <td>0.200317</td>\n",
       "    </tr>\n",
       "    <tr>\n",
       "      <td>13061</td>\n",
       "      <td>20</td>\n",
       "      <td>6100000</td>\n",
       "      <td>51.40625</td>\n",
       "      <td>2019-04-29</td>\n",
       "      <td>2</td>\n",
       "      <td>3.000000</td>\n",
       "      <td>5</td>\n",
       "      <td>31.703125</td>\n",
       "      <td>4</td>\n",
       "      <td>False</td>\n",
       "      <td>...</td>\n",
       "      <td>0.0</td>\n",
       "      <td>NaN</td>\n",
       "      <td>2.0</td>\n",
       "      <td>118662.613982</td>\n",
       "      <td>0</td>\n",
       "      <td>4</td>\n",
       "      <td>2019</td>\n",
       "      <td>другой</td>\n",
       "      <td>0.616699</td>\n",
       "      <td>0.134155</td>\n",
       "    </tr>\n",
       "    <tr>\n",
       "      <td>16053</td>\n",
       "      <td>4</td>\n",
       "      <td>4070000</td>\n",
       "      <td>45.09375</td>\n",
       "      <td>2019-04-30</td>\n",
       "      <td>2</td>\n",
       "      <td>2.650391</td>\n",
       "      <td>5</td>\n",
       "      <td>22.703125</td>\n",
       "      <td>3</td>\n",
       "      <td>False</td>\n",
       "      <td>...</td>\n",
       "      <td>0.0</td>\n",
       "      <td>NaN</td>\n",
       "      <td>2.0</td>\n",
       "      <td>90256.410256</td>\n",
       "      <td>1</td>\n",
       "      <td>4</td>\n",
       "      <td>2019</td>\n",
       "      <td>другой</td>\n",
       "      <td>0.503418</td>\n",
       "      <td>0.146362</td>\n",
       "    </tr>\n",
       "    <tr>\n",
       "      <td>16212</td>\n",
       "      <td>0</td>\n",
       "      <td>7806000</td>\n",
       "      <td>25.00000</td>\n",
       "      <td>2019-04-30</td>\n",
       "      <td>1</td>\n",
       "      <td>3.000000</td>\n",
       "      <td>5</td>\n",
       "      <td>NaN</td>\n",
       "      <td>5</td>\n",
       "      <td>False</td>\n",
       "      <td>...</td>\n",
       "      <td>0.0</td>\n",
       "      <td>NaN</td>\n",
       "      <td>2.0</td>\n",
       "      <td>312240.000000</td>\n",
       "      <td>1</td>\n",
       "      <td>4</td>\n",
       "      <td>2019</td>\n",
       "      <td>последний</td>\n",
       "      <td>NaN</td>\n",
       "      <td>NaN</td>\n",
       "    </tr>\n",
       "  </tbody>\n",
       "</table>\n",
       "<p>4 rows × 29 columns</p>\n",
       "</div>"
      ],
      "text/plain": [
       "       total_images  last_price  total_area first_day_exposition  rooms  \\\n",
       "1632             19     4000000    49.90625           2019-05-01      2   \n",
       "13061            20     6100000    51.40625           2019-04-29      2   \n",
       "16053             4     4070000    45.09375           2019-04-30      2   \n",
       "16212             0     7806000    25.00000           2019-04-30      1   \n",
       "\n",
       "       ceiling_height  floors_total  living_area  floor  is_apartment  ...  \\\n",
       "1632         2.500000             9    25.000000      1         False  ...   \n",
       "13061        3.000000             5    31.703125      4         False  ...   \n",
       "16053        2.650391             5    22.703125      3         False  ...   \n",
       "16212        3.000000             5          NaN      5         False  ...   \n",
       "\n",
       "       ponds_around3000  ponds_nearest  days_exposition          price  \\\n",
       "1632                1.0          681.0              1.0   80150.281778   \n",
       "13061               0.0            NaN              2.0  118662.613982   \n",
       "16053               0.0            NaN              2.0   90256.410256   \n",
       "16212               0.0            NaN              2.0  312240.000000   \n",
       "\n",
       "      weekday  month  year  floor_category  liv_total  kit_total  \n",
       "1632        2      5  2019          первый   0.500977   0.200317  \n",
       "13061       0      4  2019          другой   0.616699   0.134155  \n",
       "16053       1      4  2019          другой   0.503418   0.146362  \n",
       "16212       1      4  2019       последний        NaN        NaN  \n",
       "\n",
       "[4 rows x 29 columns]"
      ]
     },
     "execution_count": 31,
     "metadata": {},
     "output_type": "execute_result"
    }
   ],
   "source": [
    "data.query('days_exposition < 3') #усеченная таблица быстрой продажи"
   ]
  },
  {
   "cell_type": "markdown",
   "metadata": {},
   "source": [
    "По данным таблицам можно сделать вывод,что самые долгие продажи были зимой 2015-2014 года. Самые быстрые продажи были весной 2019."
   ]
  },
  {
   "cell_type": "markdown",
   "metadata": {},
   "source": [
    "Уберем редкие и выбивающиеся значения.  По гистограммам выше, можно отобрать площадь квартиры не боле 200 квадратных метров, до 6 комнат, продажа в течение 1000 дней и стоимость не более 10 миллионов, потолки выше 2.50."
   ]
  },
  {
   "cell_type": "code",
   "execution_count": 32,
   "metadata": {
    "scrolled": true
   },
   "outputs": [
    {
     "name": "stdout",
     "output_type": "stream",
     "text": [
      "<class 'pandas.core.frame.DataFrame'>\n",
      "Int64Index: 15309 entries, 1 to 23695\n",
      "Data columns (total 29 columns):\n",
      "total_images            15309 non-null uint8\n",
      "last_price              15309 non-null int32\n",
      "total_area              15309 non-null float16\n",
      "first_day_exposition    15309 non-null datetime64[ns]\n",
      "rooms                   15309 non-null uint8\n",
      "ceiling_height          15309 non-null float16\n",
      "floors_total            15309 non-null uint8\n",
      "living_area             14019 non-null float16\n",
      "floor                   15309 non-null uint8\n",
      "is_apartment            15309 non-null bool\n",
      "studio                  15309 non-null bool\n",
      "open_plan               15309 non-null bool\n",
      "kitchen_area            13646 non-null float16\n",
      "balcony                 15309 non-null uint8\n",
      "locality_name           15269 non-null object\n",
      "airports_nearest        11479 non-null float16\n",
      "cityCenters_nearest     11490 non-null float16\n",
      "parks_around3000        11490 non-null float16\n",
      "parks_nearest           4668 non-null float16\n",
      "ponds_around3000        11490 non-null float16\n",
      "ponds_nearest           5592 non-null float64\n",
      "days_exposition         15309 non-null float16\n",
      "price                   15309 non-null float64\n",
      "weekday                 15309 non-null int64\n",
      "month                   15309 non-null int64\n",
      "year                    15309 non-null int64\n",
      "floor_category          15309 non-null object\n",
      "liv_total               14019 non-null float16\n",
      "kit_total               13646 non-null float16\n",
      "dtypes: bool(3), datetime64[ns](1), float16(12), float64(2), int32(1), int64(3), object(2), uint8(5)\n",
      "memory usage: 1.6+ MB\n"
     ]
    }
   ],
   "source": [
    "#создание новой таблицы\n",
    "good_data=data.query('total_area < 200 and rooms < 6 and days_exposition < 1000 and last_price < 10000000 and ceiling_height > 2.50 ') \n",
    "good_data.info()"
   ]
  },
  {
   "cell_type": "markdown",
   "metadata": {},
   "source": [
    "С данными условиями удалилось около 8000 строк, в новой таблице остались наиболее распространенные данные.  "
   ]
  },
  {
   "cell_type": "markdown",
   "metadata": {},
   "source": [
    "Построим диаграммы рассеяния, где на оси у будет цена квартиры, а на оси х общая площадь, удаленность от центра соответственно."
   ]
  },
  {
   "cell_type": "code",
   "execution_count": 33,
   "metadata": {
    "scrolled": false
   },
   "outputs": [
    {
     "data": {
      "image/png": "[encoded data removed]",
      "text/plain": [
       "<Figure size 432x288 with 1 Axes>"
      ]
     },
     "metadata": {
      "needs_background": "light"
     },
     "output_type": "display_data"
    },
    {
     "data": {
      "image/png": "[encoded data removed]",
      "text/plain": [
       "<Figure size 432x288 with 1 Axes>"
      ]
     },
     "metadata": {
      "needs_background": "light"
     },
     "output_type": "display_data"
    }
   ],
   "source": [
    "good_data.plot(x='total_area', y='price', kind='scatter') #построение графика\n",
    "plt.xlabel('Общая площадь, м²') , plt.ylabel('Цена за квадратный метр, руб.')\n",
    "plt.title('Зависимость цены от площади')\n",
    "plt.show()\n",
    "good_data.plot(x='cityCenters_nearest', y='price', kind='scatter') #построение графика\n",
    "plt.xlabel('Дальность до центра города, м') , plt.ylabel('Цена за квадратный метр, руб.')\n",
    "plt.title('Зависимость цены от дальности до центра города')\n",
    "plt.show()"
   ]
  },
  {
   "cell_type": "markdown",
   "metadata": {},
   "source": [
    "Для комнат построим диаграмму размаха."
   ]
  },
  {
   "cell_type": "code",
   "execution_count": 34,
   "metadata": {},
   "outputs": [
    {
     "data": {
      "text/plain": [
       "(1, 200000)"
      ]
     },
     "execution_count": 34,
     "metadata": {},
     "output_type": "execute_result"
    },
    {
     "data": {
      "image/png": "[encoded data removed]",
      "text/plain": [
       "<Figure size 432x288 with 1 Axes>"
      ]
     },
     "metadata": {
      "needs_background": "light"
     },
     "output_type": "display_data"
    }
   ],
   "source": [
    "good_data.boxplot(column ='price', by ='rooms') #построение графика\n",
    "plt.xlabel('Количество комнат, шт') , plt.ylabel('Цена за квадратный метр, руб.')\n",
    "plt.title('Зависимость цены от количества комнат')\n",
    "plt.ylim(1,200000)"
   ]
  },
  {
   "cell_type": "markdown",
   "metadata": {},
   "source": [
    "По данным диаграммам можно делать вывод, что общая площадь и цена взаимосвязаны. Чем больше площадь, тем выше цена. Количество комнат связано с ценой, заметно, что если комнат 0, то  медианная цена за один квадратный метр чаще всего высокая, а если комнат 5,то низкая. Удаленность от центра мало зависит от цены. Дешевые квартиры можно найти вблизи центра. "
   ]
  },
  {
   "cell_type": "markdown",
   "metadata": {},
   "source": [
    "Для категории этажа построим также диаграмму размаха."
   ]
  },
  {
   "cell_type": "code",
   "execution_count": 35,
   "metadata": {},
   "outputs": [
    {
     "data": {
      "text/plain": [
       "(1, 200000)"
      ]
     },
     "execution_count": 35,
     "metadata": {},
     "output_type": "execute_result"
    },
    {
     "data": {
      "image/png": "[encoded data removed]",
      "text/plain": [
       "<Figure size 432x288 with 1 Axes>"
      ]
     },
     "metadata": {
      "needs_background": "light"
     },
     "output_type": "display_data"
    }
   ],
   "source": [
    "good_data.boxplot(column='price', by='floor_category') #построение графика\n",
    "plt.xlabel('Категория этажа') , plt.ylabel('Цена за квадратный метр, руб.')\n",
    "plt.title('Зависимость цены от категории этажа')\n",
    "plt.ylim(1,200000)"
   ]
  },
  {
   "cell_type": "markdown",
   "metadata": {},
   "source": [
    "Медианные цены несильно отличаются друг от друга, однако заметно, на первом этаже квартиры стоят дешевле."
   ]
  },
  {
   "cell_type": "markdown",
   "metadata": {},
   "source": [
    "Аналогичные диагарммы зависимости цены построим для дня недели, месяца и года."
   ]
  },
  {
   "cell_type": "code",
   "execution_count": 36,
   "metadata": {
    "scrolled": true
   },
   "outputs": [
    {
     "data": {
      "text/plain": [
       "(0, 260000)"
      ]
     },
     "execution_count": 36,
     "metadata": {},
     "output_type": "execute_result"
    },
    {
     "data": {
      "image/png": "[encoded data removed]",
      "text/plain": [
       "<Figure size 432x288 with 1 Axes>"
      ]
     },
     "metadata": {
      "needs_background": "light"
     },
     "output_type": "display_data"
    },
    {
     "data": {
      "image/png": "[encoded data removed]",
      "text/plain": [
       "<Figure size 432x288 with 1 Axes>"
      ]
     },
     "metadata": {
      "needs_background": "light"
     },
     "output_type": "display_data"
    },
    {
     "data": {
      "image/png": "[encoded data removed]",
      "text/plain": [
       "<Figure size 432x288 with 1 Axes>"
      ]
     },
     "metadata": {
      "needs_background": "light"
     },
     "output_type": "display_data"
    }
   ],
   "source": [
    "#построение графиков\n",
    "good_data.boxplot(column='price', by='weekday')\n",
    "plt.xlabel('День недели') , plt.ylabel('Цена за квадратный метр, руб.')\n",
    "plt.title('Зависимость цены от дня недели')\n",
    "plt.ylim(0,260000)\n",
    "good_data.boxplot(column='price', by='month')\n",
    "plt.xlabel('Месяц') , plt.ylabel('Цена за квадратный метр, руб.')\n",
    "plt.title('Зависимость цены от месяца')\n",
    "plt.ylim(0,260000)\n",
    "good_data.boxplot(column='price', by='year')\n",
    "plt.xlabel('Год') , plt.ylabel('Цена за квадратный метр, руб.')\n",
    "plt.title('Зависимость цены от года')\n",
    "plt.ylim(0,260000)"
   ]
  },
  {
   "cell_type": "markdown",
   "metadata": {},
   "source": [
    "День недели практически не влияет на цену, хотя в воскресение они немного дешевле. В середине года медианная цена ниже,чем в начале и конце. А в 2014 году квартиры стоили дороже,чем в 2015, с 2016 года цена начала расти. "
   ]
  },
  {
   "cell_type": "markdown",
   "metadata": {},
   "source": [
    "С помощью сводной таблицы создадим новую переменную, где будут указана локация и средняя цена в данном населенном пункте. Оставим 10 таких пунктов."
   ]
  },
  {
   "cell_type": "code",
   "execution_count": 37,
   "metadata": {
    "scrolled": true
   },
   "outputs": [
    {
     "data": {
      "text/html": [
       "<div>\n",
       "<style scoped>\n",
       "    .dataframe tbody tr th:only-of-type {\n",
       "        vertical-align: middle;\n",
       "    }\n",
       "\n",
       "    .dataframe tbody tr th {\n",
       "        vertical-align: top;\n",
       "    }\n",
       "\n",
       "    .dataframe thead th {\n",
       "        text-align: right;\n",
       "    }\n",
       "</style>\n",
       "<table border=\"1\" class=\"dataframe\">\n",
       "  <thead>\n",
       "    <tr style=\"text-align: right;\">\n",
       "      <th></th>\n",
       "      <th>mean_price</th>\n",
       "      <th>count</th>\n",
       "    </tr>\n",
       "    <tr>\n",
       "      <th>locality_name</th>\n",
       "      <th></th>\n",
       "      <th></th>\n",
       "    </tr>\n",
       "  </thead>\n",
       "  <tbody>\n",
       "    <tr>\n",
       "      <td>Выборг</td>\n",
       "      <td>57565.325728</td>\n",
       "      <td>171</td>\n",
       "    </tr>\n",
       "    <tr>\n",
       "      <td>Всеволожск</td>\n",
       "      <td>66663.699635</td>\n",
       "      <td>305</td>\n",
       "    </tr>\n",
       "    <tr>\n",
       "      <td>Гатчина</td>\n",
       "      <td>67963.843913</td>\n",
       "      <td>208</td>\n",
       "    </tr>\n",
       "    <tr>\n",
       "      <td>Колпино</td>\n",
       "      <td>74419.909295</td>\n",
       "      <td>211</td>\n",
       "    </tr>\n",
       "    <tr>\n",
       "      <td>посёлок Шушары</td>\n",
       "      <td>77877.074021</td>\n",
       "      <td>376</td>\n",
       "    </tr>\n",
       "    <tr>\n",
       "      <td>посёлок Мурино</td>\n",
       "      <td>85828.219879</td>\n",
       "      <td>502</td>\n",
       "    </tr>\n",
       "    <tr>\n",
       "      <td>посёлок Парголово</td>\n",
       "      <td>89627.899073</td>\n",
       "      <td>287</td>\n",
       "    </tr>\n",
       "    <tr>\n",
       "      <td>деревня Кудрово</td>\n",
       "      <td>92144.469017</td>\n",
       "      <td>290</td>\n",
       "    </tr>\n",
       "    <tr>\n",
       "      <td>Пушкин</td>\n",
       "      <td>100788.330811</td>\n",
       "      <td>211</td>\n",
       "    </tr>\n",
       "    <tr>\n",
       "      <td>Санкт-Петербург</td>\n",
       "      <td>104076.726350</td>\n",
       "      <td>9736</td>\n",
       "    </tr>\n",
       "  </tbody>\n",
       "</table>\n",
       "</div>"
      ],
      "text/plain": [
       "                      mean_price  count\n",
       "locality_name                          \n",
       "Выборг              57565.325728    171\n",
       "Всеволожск          66663.699635    305\n",
       "Гатчина             67963.843913    208\n",
       "Колпино             74419.909295    211\n",
       "посёлок Шушары      77877.074021    376\n",
       "посёлок Мурино      85828.219879    502\n",
       "посёлок Парголово   89627.899073    287\n",
       "деревня Кудрово     92144.469017    290\n",
       "Пушкин             100788.330811    211\n",
       "Санкт-Петербург    104076.726350   9736"
      ]
     },
     "execution_count": 37,
     "metadata": {},
     "output_type": "execute_result"
    }
   ],
   "source": [
    "#создание сводной таблицы\n",
    "data_loc = good_data.pivot_table(index = 'locality_name', values = 'price', aggfunc = ['mean','count'])\n",
    "data_loc.columns = ['mean_price','count'] #переименование столбцов\n",
    "data_loc.query('count > 170').sort_values(by='mean_price') "
   ]
  },
  {
   "cell_type": "markdown",
   "metadata": {},
   "source": [
    "По данной таблице можно сделать вывод, что самые высокие цены в Санкт-Петербурге и Пушкине, самые низкие цены в Выборге."
   ]
  },
  {
   "cell_type": "markdown",
   "metadata": {},
   "source": [
    "Создадим таблицу по Санкт-Петербургу."
   ]
  },
  {
   "cell_type": "code",
   "execution_count": 38,
   "metadata": {},
   "outputs": [],
   "source": [
    "data_spb = good_data.query('locality_name == \"Санкт-Петербург\"')"
   ]
  },
  {
   "cell_type": "code",
   "execution_count": 39,
   "metadata": {},
   "outputs": [],
   "source": [
    "data_spb=data_spb.dropna(subset=['cityCenters_nearest']) #удаление пустых значений\n",
    "data_spb.loc[:,'cityCenters_nearest'] /=1000 #преобразование столбца с метрами до километров"
   ]
  },
  {
   "cell_type": "code",
   "execution_count": 40,
   "metadata": {},
   "outputs": [],
   "source": [
    "data_spb['cityCenters_nearest'] = data_spb['cityCenters_nearest'].astype('int16')"
   ]
  },
  {
   "cell_type": "code",
   "execution_count": 41,
   "metadata": {},
   "outputs": [
    {
     "data": {
      "image/png": "[encoded data removed]",
      "text/plain": [
       "<Figure size 432x288 with 1 Axes>"
      ]
     },
     "metadata": {
      "needs_background": "light"
     },
     "output_type": "display_data"
    }
   ],
   "source": [
    "spb = data_spb.pivot_table(index='cityCenters_nearest', values ='price')\n",
    "spb.columns = ['price']\n",
    "spb.plot( y = 'price', grid= True)\n",
    "plt.xlabel('Дальность до центра города, м') , plt.ylabel('Цена за квадратный метр, руб.')\n",
    "plt.title('Зависимость цены от дальности до центра Санкт-Петербурга')\n",
    "plt.show()"
   ]
  },
  {
   "cell_type": "markdown",
   "metadata": {},
   "source": [
    "График резко возрастает в радиусе примерно 3 километрах от центра. Самые дорогие квартиры в Санкт-Петербурге находятся в радиусе 5 километрах от центра, далее цена снижается."
   ]
  },
  {
   "cell_type": "code",
   "execution_count": 42,
   "metadata": {},
   "outputs": [
    {
     "data": {
      "image/png": "[encoded data removed]",
      "text/plain": [
       "<Figure size 432x288 with 1 Axes>"
      ]
     },
     "metadata": {
      "needs_background": "light"
     },
     "output_type": "display_data"
    }
   ],
   "source": [
    "spb_centr = data_spb.query('cityCenters_nearest <= 3')\n",
    "spb_centr['total_area'].hist(bins = 5,range = (0,200))\n",
    "plt.xlabel('Общая площадь квартир, м²'), plt.ylabel('Количество квартир, шт.')\n",
    "plt.title('Количество квартир с определенной площадью')\n",
    "plt.show()"
   ]
  },
  {
   "cell_type": "code",
   "execution_count": 43,
   "metadata": {
    "scrolled": true
   },
   "outputs": [
    {
     "data": {
      "image/png": "[encoded data removed]",
      "text/plain": [
       "<Figure size 432x288 with 1 Axes>"
      ]
     },
     "metadata": {
      "needs_background": "light"
     },
     "output_type": "display_data"
    }
   ],
   "source": [
    "spb_centr['last_price'].hist(bins = 8,range = (0,10000000))\n",
    "plt.xlabel('Цена, млн'), plt.ylabel('Количество квартир, шт.')\n",
    "plt.title('Количество квартир с определенным ценовым диапазоном')\n",
    "plt.show()"
   ]
  },
  {
   "cell_type": "code",
   "execution_count": 44,
   "metadata": {},
   "outputs": [
    {
     "data": {
      "image/png": "[encoded data removed]",
      "text/plain": [
       "<Figure size 432x288 with 1 Axes>"
      ]
     },
     "metadata": {
      "needs_background": "light"
     },
     "output_type": "display_data"
    }
   ],
   "source": [
    "spb_centr['rooms'].hist(bins = 5,range = (0,5))\n",
    "plt.xlabel('Количество комнат, шт.'), plt.ylabel('Количество квартир, шт.')\n",
    "plt.title('Количество квартир с определенным числом комнат')\n",
    "plt.show()"
   ]
  },
  {
   "cell_type": "code",
   "execution_count": 45,
   "metadata": {
    "scrolled": true
   },
   "outputs": [
    {
     "data": {
      "image/png": "[encoded data removed]",
      "text/plain": [
       "<Figure size 432x288 with 1 Axes>"
      ]
     },
     "metadata": {
      "needs_background": "light"
     },
     "output_type": "display_data"
    }
   ],
   "source": [
    "spb_centr['ceiling_height'].hist(bins = 3,range = (0,6))\n",
    "plt.xlabel('Высота потолков, м'), plt.ylabel('Количество квартир, шт.')\n",
    "plt.title('Количество квартир с определенным диапазоном высоты потолков')\n",
    "plt.show()"
   ]
  },
  {
   "cell_type": "markdown",
   "metadata": {},
   "source": [
    "В центре чаще всего встречаются квартиры с площадью от 35 до 80 квадратных метров, аналогично большой таблице, только с меньшим разбросом. Квартиры стоят около 8 миллионов, а в основной таблице в 2 раза меньше. В центре преобладают двухкомнатные и трехкомнатные квартиры, в общей таблице однокомнатные и двухкомнатные. В центре распространены высокие потолки от 2 до 3 метров, аналогично общей таблице."
   ]
  },
  {
   "cell_type": "markdown",
   "metadata": {},
   "source": [
    "### Вывод"
   ]
  },
  {
   "cell_type": "markdown",
   "metadata": {},
   "source": [
    "В данном пункте был произведен исследовательский анализ данных. Построены гистограммы для площади, цены, числа комнат, высоты потолков. Изучено время продажи квартиры. Убраны редкие и выбивающиеся значения.  Выявлены факторы, влияющие на цену квартиры. Выбраны 10 населённых пунктов с наибольшим числом объявлений, для которых посчитана средняя цена квадратного метра. Среди них выявлены населённые пункты с самой высокой и низкой стоимостью жилья. Выделены квартиры в Санкт-Петербурге,в котором был в дальнейшем обозначен радиус центра. Данные по радиусу были сравнены между собой с данными общей таблицы."
   ]
  },
  {
   "cell_type": "markdown",
   "metadata": {},
   "source": [
    "## Общий вывод"
   ]
  },
  {
   "cell_type": "markdown",
   "metadata": {},
   "source": [
    "В данной работе был проведен анализ продажи квартир в Ленинградксой области. Квартиры чаще всего продаются за первые 100 дней со дня объявления. В основном продаются однокомнатные и двухкомнатные квартиры до 75 квадратных метров и средняя цена варьируется от 3 до 5 миллионов рублей.Чаще всего продают квартиры с высотой потолков от 2.50 до 3 метров."
   ]
  },
  {
   "cell_type": "markdown",
   "metadata": {},
   "source": [
    "По данным таблицам можно сделать вывод,что самые долгие продажи были зимой 2015-2014 года. Самые быстрые продажи были весной 2019. "
   ]
  },
  {
   "cell_type": "markdown",
   "metadata": {},
   "source": [
    "Общая площадь и цена взаимосвязаны. Чем больше площадь, тем выше цена. Количество комнат связано с ценой, заметно, что если комнат 0, то медианная цена за один квадратный метр чаще всего высокая, а если комнат 5,то низкая. Удаленность от центра мало зависит от цены. Дешевые квартиры можно найти вблизи центра."
   ]
  },
  {
   "cell_type": "markdown",
   "metadata": {},
   "source": [
    "День недели практически не влияет на цену, хотя в воскресение они немного дешевле. В середине года медианная цена ниже,чем в начале и конце. А в 2014 году квартиры стоили дороже,чем в 2015, с 2016 года цена начала расти."
   ]
  },
  {
   "cell_type": "markdown",
   "metadata": {},
   "source": [
    "Выявлены 10 населенных пунктов Ленинградской области с самыми высокими средними ценами за квадратный метр. Самые высокие цены в Санкт-Петербурге и Пушкине, самые низкие цены в Выборге."
   ]
  },
  {
   "cell_type": "markdown",
   "metadata": {},
   "source": [
    "Самые дорогие квартиры в Санкт-Петербурге находятся в радиусе 5 километрах от центра, далее цена снижается."
   ]
  },
  {
   "cell_type": "markdown",
   "metadata": {},
   "source": [
    "## Чек-лист готовности проекта\n",
    "\n",
    "Поставьте 'x' в выполненных пунктах. Далее нажмите Shift+Enter."
   ]
  },
  {
   "cell_type": "markdown",
   "metadata": {},
   "source": [
    "- [x]  открыт файл\n",
    "- [x]  файлы изучены (выведены первые строки, метод info())\n",
    "- [x]  определены пропущенные значения\n",
    "- [x]  заполнены пропущенные значения\n",
    "- [x]  есть пояснение, какие пропущенные значения обнаружены\n",
    "- [x]  изменены типы данных\n",
    "- [x]  есть пояснение, в каких столбцах изменены типы и почему\n",
    "- [x]  посчитано и добавлено в таблицу: цена квадратного метра\n",
    "- [x]  посчитано и добавлено в таблицу: день недели, месяц и год публикации объявления\n",
    "- [x]  посчитано и добавлено в таблицу: этаж квартиры; варианты — первый, последний, другой\n",
    "- [x]  посчитано и добавлено в таблицу: соотношение жилой и общей площади, а также отношение площади кухни к общей\n",
    "- [x]  изучены следующие параметры: площадь, цена, число комнат, высота потолков\n",
    "- [x]  построены гистограммы для каждого параметра\n",
    "- [x]  выполнено задание: \"Изучите время продажи квартиры. Постройте гистограмму. Посчитайте среднее и медиану. Опишите, сколько обычно занимает продажа. Когда можно считать, что продажи прошли очень быстро, а когда необычно долго?\"\n",
    "- [x]  выполнено задание: \"Уберите редкие и выбивающиеся значения. Опишите, какие особенности обнаружили.\"\n",
    "- [x]  выполнено задание: \"Какие факторы больше всего влияют на стоимость квартиры? Изучите, зависит ли цена от квадратного метра, числа комнат, этажа (первого или последнего), удалённости от центра. Также изучите зависимость от даты размещения: дня недели, месяца и года. \"Выберите 10 населённых пунктов с наибольшим числом объявлений. Посчитайте среднюю цену квадратного метра в этих населённых пунктах. Выделите населённые пункты с самой высокой и низкой стоимостью жилья. Эти данные можно найти по имени в столбце '*locality_name'*. \"\n",
    "- [x]  выполнено задание: \"Изучите предложения квартир: для каждой квартиры есть информация о расстоянии до центра. Выделите квартиры в Санкт-Петербурге (*'locality_name'*). Ваша задача — выяснить, какая область входит в центр. Создайте столбец с расстоянием до центра в километрах: округлите до целых значений. После этого посчитайте среднюю цену для каждого километра. Постройте график: он должен показывать, как цена зависит от удалённости от центра. Определите границу, где график сильно меняется — это и будет центральная зона. \"\n",
    "- [x]  выполнено задание: \"Выделите сегмент квартир в центре. Проанализируйте эту территорию и изучите следующие параметры: площадь, цена, число комнат, высота потолков. Также выделите факторы, которые влияют на стоимость квартиры (число комнат, этаж, удалённость от центра, дата размещения объявления). Сделайте выводы. Отличаются ли они от общих выводов по всему городу?\"\n",
    "- [x]  в каждом этапе есть выводы\n",
    "- [x]  есть общий вывод"
   ]
  }
 ],
 "metadata": {
  "ExecuteTimeLog": [
   {
    "duration": 340,
    "start_time": "2022-01-17T08:04:21.769Z"
   },
   {
    "duration": 773,
    "start_time": "2022-01-17T08:04:25.740Z"
   },
   {
    "duration": 91,
    "start_time": "2022-01-17T08:04:28.952Z"
   },
   {
    "duration": 101,
    "start_time": "2022-01-17T08:09:49.617Z"
   },
   {
    "duration": 78,
    "start_time": "2022-01-17T08:10:13.758Z"
   },
   {
    "duration": 123,
    "start_time": "2022-01-17T08:11:09.462Z"
   },
   {
    "duration": 17,
    "start_time": "2022-01-17T08:11:55.071Z"
   },
   {
    "duration": 368,
    "start_time": "2022-01-17T09:07:30.851Z"
   },
   {
    "duration": 59,
    "start_time": "2022-01-17T09:07:44.584Z"
   },
   {
    "duration": 7,
    "start_time": "2022-01-17T09:41:33.188Z"
   },
   {
    "duration": 290,
    "start_time": "2022-01-17T09:42:41.445Z"
   },
   {
    "duration": 13,
    "start_time": "2022-01-17T09:42:50.272Z"
   },
   {
    "duration": 5,
    "start_time": "2022-01-17T09:45:09.277Z"
   },
   {
    "duration": 19,
    "start_time": "2022-01-17T09:51:58.210Z"
   },
   {
    "duration": 24,
    "start_time": "2022-01-17T09:52:28.174Z"
   },
   {
    "duration": 751,
    "start_time": "2022-01-17T09:52:53.860Z"
   },
   {
    "duration": 140,
    "start_time": "2022-01-17T09:52:54.614Z"
   },
   {
    "duration": 30,
    "start_time": "2022-01-17T09:52:54.764Z"
   },
   {
    "duration": 12,
    "start_time": "2022-01-17T09:52:54.797Z"
   },
   {
    "duration": 14,
    "start_time": "2022-01-17T09:52:54.811Z"
   },
   {
    "duration": 37,
    "start_time": "2022-01-17T09:52:54.828Z"
   },
   {
    "duration": 10,
    "start_time": "2022-01-17T09:53:17.969Z"
   },
   {
    "duration": 121,
    "start_time": "2022-01-17T09:56:59.871Z"
   },
   {
    "duration": 163,
    "start_time": "2022-01-17T09:57:27.991Z"
   },
   {
    "duration": 1533,
    "start_time": "2022-01-17T10:07:36.658Z"
   },
   {
    "duration": 784,
    "start_time": "2022-01-17T10:07:49.255Z"
   },
   {
    "duration": 1171,
    "start_time": "2022-01-17T10:08:04.653Z"
   },
   {
    "duration": 35,
    "start_time": "2022-01-17T10:08:56.563Z"
   },
   {
    "duration": 8681,
    "start_time": "2022-01-17T10:22:23.954Z"
   },
   {
    "duration": 32,
    "start_time": "2022-01-17T10:42:45.087Z"
   },
   {
    "duration": 24,
    "start_time": "2022-01-17T10:42:59.436Z"
   },
   {
    "duration": 11,
    "start_time": "2022-01-17T10:43:43.841Z"
   },
   {
    "duration": 402,
    "start_time": "2022-01-17T10:48:39.917Z"
   },
   {
    "duration": 23,
    "start_time": "2022-01-17T10:48:46.085Z"
   },
   {
    "duration": 23,
    "start_time": "2022-01-17T10:48:57.402Z"
   },
   {
    "duration": 22,
    "start_time": "2022-01-17T10:49:38.065Z"
   },
   {
    "duration": 26,
    "start_time": "2022-01-17T10:49:43.463Z"
   },
   {
    "duration": 24,
    "start_time": "2022-01-17T10:49:48.938Z"
   },
   {
    "duration": 25,
    "start_time": "2022-01-17T10:49:54.188Z"
   },
   {
    "duration": 22,
    "start_time": "2022-01-17T10:50:31.533Z"
   },
   {
    "duration": 306,
    "start_time": "2022-01-17T10:50:37.928Z"
   },
   {
    "duration": 360,
    "start_time": "2022-01-17T10:50:42.016Z"
   },
   {
    "duration": 313,
    "start_time": "2022-01-17T10:50:47.204Z"
   },
   {
    "duration": 317,
    "start_time": "2022-01-17T10:50:55.074Z"
   },
   {
    "duration": 22,
    "start_time": "2022-01-17T10:53:19.929Z"
   },
   {
    "duration": 285,
    "start_time": "2022-01-17T10:53:34.115Z"
   },
   {
    "duration": 22,
    "start_time": "2022-01-17T10:53:40.484Z"
   },
   {
    "duration": 21,
    "start_time": "2022-01-17T10:55:12.920Z"
   },
   {
    "duration": 2765,
    "start_time": "2022-01-17T10:57:09.023Z"
   },
   {
    "duration": 21,
    "start_time": "2022-01-17T10:57:44.103Z"
   },
   {
    "duration": 20,
    "start_time": "2022-01-17T10:57:58.556Z"
   },
   {
    "duration": 21,
    "start_time": "2022-01-17T10:59:22.459Z"
   },
   {
    "duration": 126,
    "start_time": "2022-01-17T10:59:57.007Z"
   },
   {
    "duration": 142,
    "start_time": "2022-01-17T11:00:13.018Z"
   },
   {
    "duration": 138,
    "start_time": "2022-01-17T11:00:28.970Z"
   },
   {
    "duration": 134,
    "start_time": "2022-01-17T11:00:47.013Z"
   },
   {
    "duration": 24,
    "start_time": "2022-01-17T11:02:24.161Z"
   },
   {
    "duration": 22,
    "start_time": "2022-01-17T11:02:36.139Z"
   },
   {
    "duration": 23,
    "start_time": "2022-01-17T11:02:49.724Z"
   },
   {
    "duration": 286,
    "start_time": "2022-01-17T11:03:01.082Z"
   },
   {
    "duration": 27,
    "start_time": "2022-01-17T11:03:07.507Z"
   },
   {
    "duration": 8,
    "start_time": "2022-01-17T11:05:18.223Z"
   },
   {
    "duration": 114,
    "start_time": "2022-01-17T11:11:32.724Z"
   },
   {
    "duration": 768,
    "start_time": "2022-01-17T11:12:54.939Z"
   },
   {
    "duration": 153,
    "start_time": "2022-01-17T11:12:55.710Z"
   },
   {
    "duration": 16,
    "start_time": "2022-01-17T11:12:55.866Z"
   },
   {
    "duration": 34,
    "start_time": "2022-01-17T11:12:55.885Z"
   },
   {
    "duration": 210,
    "start_time": "2022-01-17T11:12:55.922Z"
   },
   {
    "duration": 14,
    "start_time": "2022-01-17T11:12:56.134Z"
   },
   {
    "duration": 9,
    "start_time": "2022-01-17T11:12:56.163Z"
   },
   {
    "duration": 7,
    "start_time": "2022-01-17T11:12:56.174Z"
   },
   {
    "duration": 76,
    "start_time": "2022-01-17T11:15:14.755Z"
   },
   {
    "duration": 108,
    "start_time": "2022-01-18T10:34:28.053Z"
   },
   {
    "duration": 535,
    "start_time": "2022-01-18T10:34:34.022Z"
   },
   {
    "duration": 97,
    "start_time": "2022-01-18T10:34:34.559Z"
   },
   {
    "duration": 13,
    "start_time": "2022-01-18T10:34:34.658Z"
   },
   {
    "duration": 20,
    "start_time": "2022-01-18T10:34:34.673Z"
   },
   {
    "duration": 116,
    "start_time": "2022-01-18T10:34:34.694Z"
   },
   {
    "duration": 10,
    "start_time": "2022-01-18T10:34:34.811Z"
   },
   {
    "duration": 6,
    "start_time": "2022-01-18T10:34:34.823Z"
   },
   {
    "duration": 94,
    "start_time": "2022-01-18T10:34:34.831Z"
   },
   {
    "duration": -46,
    "start_time": "2022-01-18T10:34:34.973Z"
   },
   {
    "duration": 33,
    "start_time": "2022-01-18T10:35:06.930Z"
   },
   {
    "duration": 13,
    "start_time": "2022-01-18T10:50:45.879Z"
   },
   {
    "duration": 6,
    "start_time": "2022-01-18T10:52:58.517Z"
   },
   {
    "duration": 22,
    "start_time": "2022-01-18T10:54:32.563Z"
   },
   {
    "duration": 356,
    "start_time": "2022-01-18T10:55:13.322Z"
   },
   {
    "duration": 12,
    "start_time": "2022-01-18T10:55:43.725Z"
   },
   {
    "duration": 21,
    "start_time": "2022-01-18T11:04:49.507Z"
   },
   {
    "duration": 530,
    "start_time": "2022-01-18T11:09:52.329Z"
   },
   {
    "duration": 96,
    "start_time": "2022-01-18T11:09:52.861Z"
   },
   {
    "duration": 18,
    "start_time": "2022-01-18T11:09:52.958Z"
   },
   {
    "duration": 6,
    "start_time": "2022-01-18T11:09:52.978Z"
   },
   {
    "duration": 20,
    "start_time": "2022-01-18T11:09:52.985Z"
   },
   {
    "duration": 117,
    "start_time": "2022-01-18T11:09:53.006Z"
   },
   {
    "duration": 9,
    "start_time": "2022-01-18T11:09:53.125Z"
   },
   {
    "duration": 9,
    "start_time": "2022-01-18T11:09:53.136Z"
   },
   {
    "duration": 52,
    "start_time": "2022-01-18T11:09:53.146Z"
   },
   {
    "duration": 12,
    "start_time": "2022-01-18T11:09:53.200Z"
   },
   {
    "duration": 7,
    "start_time": "2022-01-18T11:09:53.214Z"
   },
   {
    "duration": 545,
    "start_time": "2022-01-18T11:12:28.231Z"
   },
   {
    "duration": 98,
    "start_time": "2022-01-18T11:12:28.778Z"
   },
   {
    "duration": 11,
    "start_time": "2022-01-18T11:12:28.878Z"
   },
   {
    "duration": 6,
    "start_time": "2022-01-18T11:12:28.890Z"
   },
   {
    "duration": 21,
    "start_time": "2022-01-18T11:12:28.897Z"
   },
   {
    "duration": 130,
    "start_time": "2022-01-18T11:12:28.920Z"
   },
   {
    "duration": 20,
    "start_time": "2022-01-18T11:12:29.052Z"
   },
   {
    "duration": 7,
    "start_time": "2022-01-18T11:12:29.075Z"
   },
   {
    "duration": 30,
    "start_time": "2022-01-18T11:12:29.084Z"
   },
   {
    "duration": 12,
    "start_time": "2022-01-18T11:12:29.116Z"
   },
   {
    "duration": 8,
    "start_time": "2022-01-18T11:12:29.129Z"
   },
   {
    "duration": 1381,
    "start_time": "2022-01-18T11:14:22.084Z"
   },
   {
    "duration": 51,
    "start_time": "2022-01-18T11:14:40.976Z"
   },
   {
    "duration": 31,
    "start_time": "2022-01-18T11:17:20.337Z"
   },
   {
    "duration": 30,
    "start_time": "2022-01-18T11:17:36.841Z"
   },
   {
    "duration": 113,
    "start_time": "2022-01-18T11:20:50.440Z"
   },
   {
    "duration": 11,
    "start_time": "2022-01-18T11:29:38.421Z"
   },
   {
    "duration": 537,
    "start_time": "2022-01-18T11:32:36.314Z"
   },
   {
    "duration": 99,
    "start_time": "2022-01-18T11:32:36.853Z"
   },
   {
    "duration": 9,
    "start_time": "2022-01-18T11:32:36.954Z"
   },
   {
    "duration": 10,
    "start_time": "2022-01-18T11:32:36.965Z"
   },
   {
    "duration": 21,
    "start_time": "2022-01-18T11:32:36.977Z"
   },
   {
    "duration": 131,
    "start_time": "2022-01-18T11:32:37.000Z"
   },
   {
    "duration": 49,
    "start_time": "2022-01-18T11:32:37.133Z"
   },
   {
    "duration": 11,
    "start_time": "2022-01-18T11:32:37.185Z"
   },
   {
    "duration": 9,
    "start_time": "2022-01-18T11:32:37.198Z"
   },
   {
    "duration": 7,
    "start_time": "2022-01-18T11:32:37.209Z"
   },
   {
    "duration": 66,
    "start_time": "2022-01-18T11:32:37.218Z"
   },
   {
    "duration": 44,
    "start_time": "2022-01-18T11:32:37.286Z"
   },
   {
    "duration": 5,
    "start_time": "2022-01-18T11:32:37.332Z"
   },
   {
    "duration": 9,
    "start_time": "2022-01-18T11:43:46.360Z"
   },
   {
    "duration": 28,
    "start_time": "2022-01-18T11:44:59.916Z"
   },
   {
    "duration": 370,
    "start_time": "2022-01-18T11:45:37.719Z"
   },
   {
    "duration": 8,
    "start_time": "2022-01-18T11:45:47.699Z"
   },
   {
    "duration": 7,
    "start_time": "2022-01-18T11:46:43.646Z"
   },
   {
    "duration": 366,
    "start_time": "2022-01-18T11:48:16.114Z"
   },
   {
    "duration": 298,
    "start_time": "2022-01-18T11:48:24.479Z"
   },
   {
    "duration": 23,
    "start_time": "2022-01-18T11:48:32.336Z"
   },
   {
    "duration": 9,
    "start_time": "2022-01-18T11:48:54.878Z"
   },
   {
    "duration": 25,
    "start_time": "2022-01-18T11:49:18.450Z"
   },
   {
    "duration": 7,
    "start_time": "2022-01-18T11:51:02.089Z"
   },
   {
    "duration": 12,
    "start_time": "2022-01-18T11:51:28.129Z"
   },
   {
    "duration": 549,
    "start_time": "2022-01-18T11:55:55.510Z"
   },
   {
    "duration": 96,
    "start_time": "2022-01-18T11:55:56.061Z"
   },
   {
    "duration": 13,
    "start_time": "2022-01-18T11:55:56.159Z"
   },
   {
    "duration": 7,
    "start_time": "2022-01-18T11:55:56.174Z"
   },
   {
    "duration": 7,
    "start_time": "2022-01-18T11:55:56.182Z"
   },
   {
    "duration": 20,
    "start_time": "2022-01-18T11:55:56.190Z"
   },
   {
    "duration": 127,
    "start_time": "2022-01-18T11:55:56.212Z"
   },
   {
    "duration": 39,
    "start_time": "2022-01-18T11:55:56.341Z"
   },
   {
    "duration": 10,
    "start_time": "2022-01-18T11:55:56.381Z"
   },
   {
    "duration": 6,
    "start_time": "2022-01-18T11:55:56.392Z"
   },
   {
    "duration": 12,
    "start_time": "2022-01-18T11:55:56.399Z"
   },
   {
    "duration": 7,
    "start_time": "2022-01-18T11:55:56.412Z"
   },
   {
    "duration": 5,
    "start_time": "2022-01-18T11:55:56.420Z"
   },
   {
    "duration": 66,
    "start_time": "2022-01-18T11:55:56.426Z"
   },
   {
    "duration": 41,
    "start_time": "2022-01-18T11:55:56.494Z"
   },
   {
    "duration": 361,
    "start_time": "2022-01-18T12:07:29.053Z"
   },
   {
    "duration": 14,
    "start_time": "2022-01-18T12:08:01.372Z"
   },
   {
    "duration": 2,
    "start_time": "2022-01-18T12:10:40.318Z"
   },
   {
    "duration": 608,
    "start_time": "2022-01-18T12:24:38.248Z"
   },
   {
    "duration": 102,
    "start_time": "2022-01-18T12:24:38.858Z"
   },
   {
    "duration": 17,
    "start_time": "2022-01-18T12:24:38.962Z"
   },
   {
    "duration": 8,
    "start_time": "2022-01-18T12:24:38.981Z"
   },
   {
    "duration": 7,
    "start_time": "2022-01-18T12:24:38.991Z"
   },
   {
    "duration": 21,
    "start_time": "2022-01-18T12:24:39.000Z"
   },
   {
    "duration": 139,
    "start_time": "2022-01-18T12:24:39.023Z"
   },
   {
    "duration": 36,
    "start_time": "2022-01-18T12:24:39.165Z"
   },
   {
    "duration": 10,
    "start_time": "2022-01-18T12:24:39.203Z"
   },
   {
    "duration": 7,
    "start_time": "2022-01-18T12:24:39.214Z"
   },
   {
    "duration": 14,
    "start_time": "2022-01-18T12:24:39.222Z"
   },
   {
    "duration": 40,
    "start_time": "2022-01-18T12:24:39.237Z"
   },
   {
    "duration": 7,
    "start_time": "2022-01-18T12:24:39.279Z"
   },
   {
    "duration": 32,
    "start_time": "2022-01-18T12:24:39.288Z"
   },
   {
    "duration": 63,
    "start_time": "2022-01-18T12:24:39.322Z"
   },
   {
    "duration": 19,
    "start_time": "2022-01-18T12:24:39.387Z"
   },
   {
    "duration": 20,
    "start_time": "2022-01-18T12:27:43.255Z"
   },
   {
    "duration": 27,
    "start_time": "2022-01-18T12:39:52.768Z"
   },
   {
    "duration": 20,
    "start_time": "2022-01-18T12:45:36.698Z"
   },
   {
    "duration": 383,
    "start_time": "2022-01-18T12:46:26.999Z"
   },
   {
    "duration": 21,
    "start_time": "2022-01-18T12:48:23.927Z"
   },
   {
    "duration": 23,
    "start_time": "2022-01-18T12:49:52.815Z"
   },
   {
    "duration": 26,
    "start_time": "2022-01-18T12:52:32.565Z"
   },
   {
    "duration": 22,
    "start_time": "2022-01-18T12:53:02.392Z"
   },
   {
    "duration": 287,
    "start_time": "2022-01-18T13:54:47.505Z"
   },
   {
    "duration": 98,
    "start_time": "2022-01-18T13:55:14.944Z"
   },
   {
    "duration": 310,
    "start_time": "2022-01-18T13:55:33.932Z"
   },
   {
    "duration": 309,
    "start_time": "2022-01-18T13:56:49.285Z"
   },
   {
    "duration": 4284,
    "start_time": "2022-01-18T13:59:25.498Z"
   },
   {
    "duration": 3961,
    "start_time": "2022-01-18T13:59:56.249Z"
   },
   {
    "duration": 8210,
    "start_time": "2022-01-18T14:00:35.815Z"
   },
   {
    "duration": 5488,
    "start_time": "2022-01-18T14:03:00.776Z"
   },
   {
    "duration": 5012,
    "start_time": "2022-01-18T14:03:20.200Z"
   },
   {
    "duration": 5704,
    "start_time": "2022-01-18T14:04:21.127Z"
   },
   {
    "duration": 5443,
    "start_time": "2022-01-18T14:04:43.765Z"
   },
   {
    "duration": 24,
    "start_time": "2022-01-18T14:10:48.536Z"
   },
   {
    "duration": 600,
    "start_time": "2022-01-18T14:13:31.249Z"
   },
   {
    "duration": 98,
    "start_time": "2022-01-18T14:13:31.851Z"
   },
   {
    "duration": 10,
    "start_time": "2022-01-18T14:13:31.952Z"
   },
   {
    "duration": 8,
    "start_time": "2022-01-18T14:13:31.971Z"
   },
   {
    "duration": 7,
    "start_time": "2022-01-18T14:13:31.981Z"
   },
   {
    "duration": 22,
    "start_time": "2022-01-18T14:13:31.990Z"
   },
   {
    "duration": 139,
    "start_time": "2022-01-18T14:13:32.013Z"
   },
   {
    "duration": 44,
    "start_time": "2022-01-18T14:13:32.154Z"
   },
   {
    "duration": 11,
    "start_time": "2022-01-18T14:13:32.201Z"
   },
   {
    "duration": 6,
    "start_time": "2022-01-18T14:13:32.214Z"
   },
   {
    "duration": 16,
    "start_time": "2022-01-18T14:13:32.222Z"
   },
   {
    "duration": 35,
    "start_time": "2022-01-18T14:13:32.240Z"
   },
   {
    "duration": 6,
    "start_time": "2022-01-18T14:13:32.276Z"
   },
   {
    "duration": 30,
    "start_time": "2022-01-18T14:13:32.284Z"
   },
   {
    "duration": 61,
    "start_time": "2022-01-18T14:13:32.316Z"
   },
   {
    "duration": 25,
    "start_time": "2022-01-18T14:13:32.379Z"
   },
   {
    "duration": 20,
    "start_time": "2022-01-18T14:13:32.405Z"
   },
   {
    "duration": 20,
    "start_time": "2022-01-18T14:13:32.427Z"
   },
   {
    "duration": 21,
    "start_time": "2022-01-18T14:13:32.472Z"
   },
   {
    "duration": 21,
    "start_time": "2022-01-18T14:13:32.495Z"
   },
   {
    "duration": 5001,
    "start_time": "2022-01-18T14:13:32.517Z"
   },
   {
    "duration": 5068,
    "start_time": "2022-01-18T14:14:44.602Z"
   },
   {
    "duration": 5457,
    "start_time": "2022-01-18T14:19:23.880Z"
   },
   {
    "duration": 1359,
    "start_time": "2022-01-18T14:20:09.467Z"
   },
   {
    "duration": 4789,
    "start_time": "2022-01-18T14:27:38.376Z"
   },
   {
    "duration": 22,
    "start_time": "2022-01-18T14:35:52.852Z"
   },
   {
    "duration": 2,
    "start_time": "2022-01-18T14:48:56.145Z"
   },
   {
    "duration": 311,
    "start_time": "2022-01-18T14:53:41.051Z"
   },
   {
    "duration": 314,
    "start_time": "2022-01-18T14:54:05.410Z"
   },
   {
    "duration": 229,
    "start_time": "2022-01-18T14:57:20.505Z"
   },
   {
    "duration": 161,
    "start_time": "2022-01-18T14:57:56.191Z"
   },
   {
    "duration": 245,
    "start_time": "2022-01-18T14:58:17.731Z"
   },
   {
    "duration": 194,
    "start_time": "2022-01-18T14:58:23.196Z"
   },
   {
    "duration": 161,
    "start_time": "2022-01-18T15:00:12.392Z"
   },
   {
    "duration": 168,
    "start_time": "2022-01-18T15:01:03.589Z"
   },
   {
    "duration": 161,
    "start_time": "2022-01-18T15:01:35.292Z"
   },
   {
    "duration": 184,
    "start_time": "2022-01-18T15:01:56.946Z"
   },
   {
    "duration": 148,
    "start_time": "2022-01-18T15:02:03.897Z"
   },
   {
    "duration": 159,
    "start_time": "2022-01-18T15:02:07.401Z"
   },
   {
    "duration": 171,
    "start_time": "2022-01-18T15:02:17.661Z"
   },
   {
    "duration": 161,
    "start_time": "2022-01-18T15:02:25.017Z"
   },
   {
    "duration": 153,
    "start_time": "2022-01-18T15:02:40.366Z"
   },
   {
    "duration": 133,
    "start_time": "2022-01-18T15:03:08.004Z"
   },
   {
    "duration": 210,
    "start_time": "2022-01-18T15:03:18.471Z"
   },
   {
    "duration": 151,
    "start_time": "2022-01-18T15:03:45.602Z"
   },
   {
    "duration": 160,
    "start_time": "2022-01-18T15:03:56.263Z"
   },
   {
    "duration": 169,
    "start_time": "2022-01-18T15:04:02.327Z"
   },
   {
    "duration": 174,
    "start_time": "2022-01-18T15:04:08.457Z"
   },
   {
    "duration": 170,
    "start_time": "2022-01-18T15:04:14.667Z"
   },
   {
    "duration": 176,
    "start_time": "2022-01-18T15:04:21.498Z"
   },
   {
    "duration": 157,
    "start_time": "2022-01-18T15:04:34.816Z"
   },
   {
    "duration": 167,
    "start_time": "2022-01-18T15:04:42.844Z"
   },
   {
    "duration": 164,
    "start_time": "2022-01-18T15:04:51.031Z"
   },
   {
    "duration": 162,
    "start_time": "2022-01-18T15:05:00.608Z"
   },
   {
    "duration": 229,
    "start_time": "2022-01-18T15:05:07.297Z"
   },
   {
    "duration": 159,
    "start_time": "2022-01-18T15:06:13.463Z"
   },
   {
    "duration": 163,
    "start_time": "2022-01-18T15:07:59.749Z"
   },
   {
    "duration": 155,
    "start_time": "2022-01-18T15:08:13.988Z"
   },
   {
    "duration": 175,
    "start_time": "2022-01-18T15:08:25.180Z"
   },
   {
    "duration": 162,
    "start_time": "2022-01-18T15:08:34.527Z"
   },
   {
    "duration": 173,
    "start_time": "2022-01-18T15:09:52.993Z"
   },
   {
    "duration": 181,
    "start_time": "2022-01-18T15:14:46.531Z"
   },
   {
    "duration": 166,
    "start_time": "2022-01-18T15:15:01.882Z"
   },
   {
    "duration": 181,
    "start_time": "2022-01-18T15:20:16.824Z"
   },
   {
    "duration": 161,
    "start_time": "2022-01-18T15:21:02.264Z"
   },
   {
    "duration": 163,
    "start_time": "2022-01-18T15:21:08.556Z"
   },
   {
    "duration": 166,
    "start_time": "2022-01-18T15:21:23.684Z"
   },
   {
    "duration": 166,
    "start_time": "2022-01-18T15:21:31.095Z"
   },
   {
    "duration": 165,
    "start_time": "2022-01-18T15:21:36.700Z"
   },
   {
    "duration": 129,
    "start_time": "2022-01-18T15:22:24.397Z"
   },
   {
    "duration": 274,
    "start_time": "2022-01-18T15:24:56.623Z"
   },
   {
    "duration": 148,
    "start_time": "2022-01-18T15:25:01.112Z"
   },
   {
    "duration": 146,
    "start_time": "2022-01-18T15:25:07.582Z"
   },
   {
    "duration": 161,
    "start_time": "2022-01-18T15:25:13.611Z"
   },
   {
    "duration": 165,
    "start_time": "2022-01-18T15:25:19.565Z"
   },
   {
    "duration": 149,
    "start_time": "2022-01-18T15:25:28.557Z"
   },
   {
    "duration": 165,
    "start_time": "2022-01-18T15:25:46.621Z"
   },
   {
    "duration": 552,
    "start_time": "2022-01-18T15:33:05.287Z"
   },
   {
    "duration": 5,
    "start_time": "2022-01-18T15:33:58.371Z"
   },
   {
    "duration": 5,
    "start_time": "2022-01-18T15:34:16.895Z"
   },
   {
    "duration": 93,
    "start_time": "2022-01-18T15:40:44.330Z"
   },
   {
    "duration": 9,
    "start_time": "2022-01-18T15:40:48.398Z"
   },
   {
    "duration": 6,
    "start_time": "2022-01-18T15:41:15.865Z"
   },
   {
    "duration": 33,
    "start_time": "2022-01-18T15:45:05.049Z"
   },
   {
    "duration": 26,
    "start_time": "2022-01-18T15:45:27.799Z"
   },
   {
    "duration": 21,
    "start_time": "2022-01-18T15:46:08.163Z"
   },
   {
    "duration": 160,
    "start_time": "2022-01-18T15:50:07.718Z"
   },
   {
    "duration": 21,
    "start_time": "2022-01-18T15:51:19.175Z"
   },
   {
    "duration": 23,
    "start_time": "2022-01-18T15:51:27.245Z"
   },
   {
    "duration": 28,
    "start_time": "2022-01-18T15:51:47.196Z"
   },
   {
    "duration": 30,
    "start_time": "2022-01-18T15:53:01.416Z"
   },
   {
    "duration": 31,
    "start_time": "2022-01-18T15:53:15.034Z"
   },
   {
    "duration": 31,
    "start_time": "2022-01-18T15:53:38.836Z"
   },
   {
    "duration": 19,
    "start_time": "2022-01-18T15:54:02.892Z"
   },
   {
    "duration": 18,
    "start_time": "2022-01-18T15:54:08.188Z"
   },
   {
    "duration": 29,
    "start_time": "2022-01-18T15:54:13.614Z"
   },
   {
    "duration": 20,
    "start_time": "2022-01-18T15:54:18.101Z"
   },
   {
    "duration": 31,
    "start_time": "2022-01-18T15:54:43.713Z"
   },
   {
    "duration": 21,
    "start_time": "2022-01-18T15:55:05.893Z"
   },
   {
    "duration": 16,
    "start_time": "2022-01-18T16:13:46.869Z"
   },
   {
    "duration": 18,
    "start_time": "2022-01-18T16:15:18.860Z"
   },
   {
    "duration": 16,
    "start_time": "2022-01-18T16:16:39.605Z"
   },
   {
    "duration": 14,
    "start_time": "2022-01-18T16:22:43.064Z"
   },
   {
    "duration": 562,
    "start_time": "2022-01-18T16:23:05.101Z"
   },
   {
    "duration": 101,
    "start_time": "2022-01-18T16:23:05.664Z"
   },
   {
    "duration": 13,
    "start_time": "2022-01-18T16:23:05.767Z"
   },
   {
    "duration": 8,
    "start_time": "2022-01-18T16:23:05.782Z"
   },
   {
    "duration": 7,
    "start_time": "2022-01-18T16:23:05.791Z"
   },
   {
    "duration": 20,
    "start_time": "2022-01-18T16:23:05.800Z"
   },
   {
    "duration": 126,
    "start_time": "2022-01-18T16:23:05.821Z"
   },
   {
    "duration": 43,
    "start_time": "2022-01-18T16:23:05.950Z"
   },
   {
    "duration": 12,
    "start_time": "2022-01-18T16:23:05.995Z"
   },
   {
    "duration": 6,
    "start_time": "2022-01-18T16:23:06.009Z"
   },
   {
    "duration": 11,
    "start_time": "2022-01-18T16:23:06.017Z"
   },
   {
    "duration": 7,
    "start_time": "2022-01-18T16:23:06.030Z"
   },
   {
    "duration": 34,
    "start_time": "2022-01-18T16:23:06.039Z"
   },
   {
    "duration": 30,
    "start_time": "2022-01-18T16:23:06.074Z"
   },
   {
    "duration": 40,
    "start_time": "2022-01-18T16:23:06.105Z"
   },
   {
    "duration": 46,
    "start_time": "2022-01-18T16:23:06.147Z"
   },
   {
    "duration": 20,
    "start_time": "2022-01-18T16:23:06.195Z"
   },
   {
    "duration": 21,
    "start_time": "2022-01-18T16:23:06.217Z"
   },
   {
    "duration": 45,
    "start_time": "2022-01-18T16:23:06.240Z"
   },
   {
    "duration": 22,
    "start_time": "2022-01-18T16:23:06.525Z"
   },
   {
    "duration": 541,
    "start_time": "2022-01-18T16:23:08.901Z"
   },
   {
    "duration": 28,
    "start_time": "2022-01-18T16:23:09.444Z"
   },
   {
    "duration": 270,
    "start_time": "2022-01-18T16:23:09.474Z"
   },
   {
    "duration": 163,
    "start_time": "2022-01-18T16:23:09.746Z"
   },
   {
    "duration": 176,
    "start_time": "2022-01-18T16:23:09.910Z"
   },
   {
    "duration": 176,
    "start_time": "2022-01-18T16:23:10.087Z"
   },
   {
    "duration": 165,
    "start_time": "2022-01-18T16:23:10.264Z"
   },
   {
    "duration": 9,
    "start_time": "2022-01-18T16:23:10.431Z"
   },
   {
    "duration": 46,
    "start_time": "2022-01-18T16:23:10.441Z"
   },
   {
    "duration": 22,
    "start_time": "2022-01-18T16:23:10.489Z"
   },
   {
    "duration": 15,
    "start_time": "2022-01-18T16:23:10.513Z"
   },
   {
    "duration": 101,
    "start_time": "2022-01-18T16:23:10.529Z"
   },
   {
    "duration": 725,
    "start_time": "2022-01-18T16:23:40.061Z"
   },
   {
    "duration": 102,
    "start_time": "2022-01-18T16:23:40.788Z"
   },
   {
    "duration": 10,
    "start_time": "2022-01-18T16:23:40.892Z"
   },
   {
    "duration": 8,
    "start_time": "2022-01-18T16:23:40.903Z"
   },
   {
    "duration": 7,
    "start_time": "2022-01-18T16:23:40.913Z"
   },
   {
    "duration": 20,
    "start_time": "2022-01-18T16:23:40.921Z"
   },
   {
    "duration": 142,
    "start_time": "2022-01-18T16:23:40.943Z"
   },
   {
    "duration": 33,
    "start_time": "2022-01-18T16:23:41.088Z"
   },
   {
    "duration": 10,
    "start_time": "2022-01-18T16:23:41.123Z"
   },
   {
    "duration": 6,
    "start_time": "2022-01-18T16:23:41.134Z"
   },
   {
    "duration": 37,
    "start_time": "2022-01-18T16:23:41.141Z"
   },
   {
    "duration": 9,
    "start_time": "2022-01-18T16:23:41.179Z"
   },
   {
    "duration": 5,
    "start_time": "2022-01-18T16:23:41.190Z"
   },
   {
    "duration": 28,
    "start_time": "2022-01-18T16:23:41.197Z"
   },
   {
    "duration": 69,
    "start_time": "2022-01-18T16:23:41.226Z"
   },
   {
    "duration": 23,
    "start_time": "2022-01-18T16:23:41.296Z"
   },
   {
    "duration": 19,
    "start_time": "2022-01-18T16:23:41.321Z"
   },
   {
    "duration": 41,
    "start_time": "2022-01-18T16:23:41.342Z"
   },
   {
    "duration": 19,
    "start_time": "2022-01-18T16:23:41.385Z"
   },
   {
    "duration": 19,
    "start_time": "2022-01-18T16:23:41.405Z"
   },
   {
    "duration": 554,
    "start_time": "2022-01-18T16:23:41.425Z"
   },
   {
    "duration": 20,
    "start_time": "2022-01-18T16:23:41.980Z"
   },
   {
    "duration": 271,
    "start_time": "2022-01-18T16:23:42.003Z"
   },
   {
    "duration": 162,
    "start_time": "2022-01-18T16:23:42.275Z"
   },
   {
    "duration": 174,
    "start_time": "2022-01-18T16:23:42.438Z"
   },
   {
    "duration": 180,
    "start_time": "2022-01-18T16:23:42.614Z"
   },
   {
    "duration": 169,
    "start_time": "2022-01-18T16:23:42.796Z"
   },
   {
    "duration": 9,
    "start_time": "2022-01-18T16:23:42.967Z"
   },
   {
    "duration": 31,
    "start_time": "2022-01-18T16:23:42.978Z"
   },
   {
    "duration": 20,
    "start_time": "2022-01-18T16:23:43.011Z"
   },
   {
    "duration": 13,
    "start_time": "2022-01-18T16:23:43.032Z"
   },
   {
    "duration": 99,
    "start_time": "2022-01-18T16:23:43.072Z"
   },
   {
    "duration": 579,
    "start_time": "2022-01-18T16:23:59.488Z"
   },
   {
    "duration": 100,
    "start_time": "2022-01-18T16:24:00.069Z"
   },
   {
    "duration": 9,
    "start_time": "2022-01-18T16:24:00.171Z"
   },
   {
    "duration": 11,
    "start_time": "2022-01-18T16:24:00.182Z"
   },
   {
    "duration": 7,
    "start_time": "2022-01-18T16:24:00.195Z"
   },
   {
    "duration": 21,
    "start_time": "2022-01-18T16:24:00.203Z"
   },
   {
    "duration": 127,
    "start_time": "2022-01-18T16:24:00.226Z"
   },
   {
    "duration": 39,
    "start_time": "2022-01-18T16:24:00.356Z"
   },
   {
    "duration": 10,
    "start_time": "2022-01-18T16:24:00.397Z"
   },
   {
    "duration": 5,
    "start_time": "2022-01-18T16:24:00.409Z"
   },
   {
    "duration": 11,
    "start_time": "2022-01-18T16:24:00.416Z"
   },
   {
    "duration": 8,
    "start_time": "2022-01-18T16:24:00.428Z"
   },
   {
    "duration": 36,
    "start_time": "2022-01-18T16:24:00.437Z"
   },
   {
    "duration": 31,
    "start_time": "2022-01-18T16:24:00.474Z"
   },
   {
    "duration": 45,
    "start_time": "2022-01-18T16:24:00.506Z"
   },
   {
    "duration": 44,
    "start_time": "2022-01-18T16:24:00.553Z"
   },
   {
    "duration": 23,
    "start_time": "2022-01-18T16:24:00.598Z"
   },
   {
    "duration": 49,
    "start_time": "2022-01-18T16:24:00.623Z"
   },
   {
    "duration": 22,
    "start_time": "2022-01-18T16:24:00.673Z"
   },
   {
    "duration": 21,
    "start_time": "2022-01-18T16:24:00.696Z"
   },
   {
    "duration": 567,
    "start_time": "2022-01-18T16:24:00.719Z"
   },
   {
    "duration": 20,
    "start_time": "2022-01-18T16:24:01.287Z"
   },
   {
    "duration": 283,
    "start_time": "2022-01-18T16:24:01.309Z"
   },
   {
    "duration": 173,
    "start_time": "2022-01-18T16:24:01.594Z"
   },
   {
    "duration": 178,
    "start_time": "2022-01-18T16:24:01.771Z"
   },
   {
    "duration": 203,
    "start_time": "2022-01-18T16:24:01.950Z"
   },
   {
    "duration": 187,
    "start_time": "2022-01-18T16:24:02.155Z"
   },
   {
    "duration": 8,
    "start_time": "2022-01-18T16:24:02.344Z"
   },
   {
    "duration": 42,
    "start_time": "2022-01-18T16:24:02.353Z"
   },
   {
    "duration": 20,
    "start_time": "2022-01-18T16:24:02.396Z"
   },
   {
    "duration": 16,
    "start_time": "2022-01-18T16:24:02.417Z"
   },
   {
    "duration": 94,
    "start_time": "2022-01-18T16:24:02.434Z"
   },
   {
    "duration": 575,
    "start_time": "2022-01-18T16:35:22.359Z"
   },
   {
    "duration": 880,
    "start_time": "2022-01-18T16:36:02.926Z"
   },
   {
    "duration": 823,
    "start_time": "2022-01-18T16:36:36.380Z"
   },
   {
    "duration": 700,
    "start_time": "2022-01-18T16:36:51.773Z"
   },
   {
    "duration": 447,
    "start_time": "2022-01-18T16:37:12.532Z"
   },
   {
    "duration": 1078,
    "start_time": "2022-01-18T16:40:50.089Z"
   },
   {
    "duration": 719,
    "start_time": "2022-01-18T16:41:09.572Z"
   },
   {
    "duration": 1166,
    "start_time": "2022-01-18T16:42:30.926Z"
   },
   {
    "duration": 641,
    "start_time": "2022-01-18T17:13:28.965Z"
   },
   {
    "duration": 97,
    "start_time": "2022-01-18T17:13:29.608Z"
   },
   {
    "duration": 9,
    "start_time": "2022-01-18T17:13:29.707Z"
   },
   {
    "duration": 16,
    "start_time": "2022-01-18T17:13:29.718Z"
   },
   {
    "duration": 14,
    "start_time": "2022-01-18T17:13:29.736Z"
   },
   {
    "duration": 34,
    "start_time": "2022-01-18T17:13:29.751Z"
   },
   {
    "duration": 113,
    "start_time": "2022-01-18T17:13:29.786Z"
   },
   {
    "duration": 32,
    "start_time": "2022-01-18T17:13:29.902Z"
   },
   {
    "duration": 10,
    "start_time": "2022-01-18T17:13:29.937Z"
   },
   {
    "duration": 26,
    "start_time": "2022-01-18T17:13:29.948Z"
   },
   {
    "duration": 13,
    "start_time": "2022-01-18T17:13:29.983Z"
   },
   {
    "duration": 19,
    "start_time": "2022-01-18T17:13:29.997Z"
   },
   {
    "duration": 26,
    "start_time": "2022-01-18T17:13:30.018Z"
   },
   {
    "duration": 32,
    "start_time": "2022-01-18T17:13:30.046Z"
   },
   {
    "duration": 44,
    "start_time": "2022-01-18T17:13:30.079Z"
   },
   {
    "duration": 24,
    "start_time": "2022-01-18T17:13:30.124Z"
   },
   {
    "duration": 37,
    "start_time": "2022-01-18T17:13:30.149Z"
   },
   {
    "duration": 22,
    "start_time": "2022-01-18T17:13:30.187Z"
   },
   {
    "duration": 21,
    "start_time": "2022-01-18T17:13:30.210Z"
   },
   {
    "duration": 45,
    "start_time": "2022-01-18T17:13:30.232Z"
   },
   {
    "duration": 548,
    "start_time": "2022-01-18T17:13:30.279Z"
   },
   {
    "duration": 21,
    "start_time": "2022-01-18T17:13:30.828Z"
   },
   {
    "duration": 282,
    "start_time": "2022-01-18T17:13:30.851Z"
   },
   {
    "duration": 168,
    "start_time": "2022-01-18T17:13:31.135Z"
   },
   {
    "duration": 178,
    "start_time": "2022-01-18T17:13:31.305Z"
   },
   {
    "duration": 189,
    "start_time": "2022-01-18T17:13:31.485Z"
   },
   {
    "duration": 185,
    "start_time": "2022-01-18T17:13:31.675Z"
   },
   {
    "duration": 15,
    "start_time": "2022-01-18T17:13:31.861Z"
   },
   {
    "duration": 30,
    "start_time": "2022-01-18T17:13:31.878Z"
   },
   {
    "duration": 22,
    "start_time": "2022-01-18T17:13:31.910Z"
   },
   {
    "duration": 39,
    "start_time": "2022-01-18T17:13:31.933Z"
   },
   {
    "duration": 840,
    "start_time": "2022-01-18T17:13:31.973Z"
   },
   {
    "duration": 157,
    "start_time": "2022-01-18T17:15:08.741Z"
   },
   {
    "duration": 945,
    "start_time": "2022-01-18T17:16:17.165Z"
   },
   {
    "duration": 927,
    "start_time": "2022-01-18T17:18:55.384Z"
   },
   {
    "duration": 940,
    "start_time": "2022-01-18T17:19:33.172Z"
   },
   {
    "duration": 97100,
    "start_time": "2022-01-18T17:19:48.291Z"
   },
   {
    "duration": 86,
    "start_time": "2022-01-18T17:21:25.307Z"
   },
   {
    "duration": 1261,
    "start_time": "2022-01-18T17:21:50.360Z"
   },
   {
    "duration": 488,
    "start_time": "2022-01-18T17:25:55.962Z"
   },
   {
    "duration": 514,
    "start_time": "2022-01-18T17:26:20.011Z"
   },
   {
    "duration": 452,
    "start_time": "2022-01-18T17:31:05.830Z"
   },
   {
    "duration": 161,
    "start_time": "2022-01-18T17:31:11.416Z"
   },
   {
    "duration": 356,
    "start_time": "2022-01-18T17:32:44.526Z"
   },
   {
    "duration": 210,
    "start_time": "2022-01-18T17:33:33.092Z"
   },
   {
    "duration": 214,
    "start_time": "2022-01-18T17:33:42.974Z"
   },
   {
    "duration": 198,
    "start_time": "2022-01-18T17:34:18.034Z"
   },
   {
    "duration": 195,
    "start_time": "2022-01-18T17:35:54.186Z"
   },
   {
    "duration": 203,
    "start_time": "2022-01-18T17:36:06.525Z"
   },
   {
    "duration": 163,
    "start_time": "2022-01-18T17:36:23.830Z"
   },
   {
    "duration": 201,
    "start_time": "2022-01-18T17:38:49.890Z"
   },
   {
    "duration": 204,
    "start_time": "2022-01-18T17:40:02.745Z"
   },
   {
    "duration": 490,
    "start_time": "2022-01-18T17:40:46.753Z"
   },
   {
    "duration": 203,
    "start_time": "2022-01-18T17:40:53.891Z"
   },
   {
    "duration": 463,
    "start_time": "2022-01-18T17:44:01.818Z"
   },
   {
    "duration": 209,
    "start_time": "2022-01-18T17:44:09.090Z"
   },
   {
    "duration": 1101,
    "start_time": "2022-01-18T17:44:47.439Z"
   },
   {
    "duration": 192,
    "start_time": "2022-01-18T17:44:53.250Z"
   },
   {
    "duration": 135,
    "start_time": "2022-01-18T17:45:29.074Z"
   },
   {
    "duration": 98,
    "start_time": "2022-01-18T17:46:40.847Z"
   },
   {
    "duration": 109,
    "start_time": "2022-01-18T17:48:58.250Z"
   },
   {
    "duration": 320,
    "start_time": "2022-01-18T17:50:30.694Z"
   },
   {
    "duration": 701,
    "start_time": "2022-01-18T17:50:57.445Z"
   },
   {
    "duration": 786,
    "start_time": "2022-01-18T17:54:44.222Z"
   },
   {
    "duration": 792,
    "start_time": "2022-01-18T17:55:13.566Z"
   },
   {
    "duration": 765,
    "start_time": "2022-01-18T17:55:23.873Z"
   },
   {
    "duration": 160,
    "start_time": "2022-01-18T17:55:53.579Z"
   },
   {
    "duration": 174,
    "start_time": "2022-01-18T17:56:00.539Z"
   },
   {
    "duration": 173,
    "start_time": "2022-01-18T17:56:06.002Z"
   },
   {
    "duration": 224,
    "start_time": "2022-01-18T17:56:18.450Z"
   },
   {
    "duration": 768,
    "start_time": "2022-01-18T17:59:02.836Z"
   },
   {
    "duration": 895,
    "start_time": "2022-01-18T17:59:29.092Z"
   },
   {
    "duration": 736,
    "start_time": "2022-01-18T18:02:27.957Z"
   },
   {
    "duration": 693,
    "start_time": "2022-01-18T18:02:49.256Z"
   },
   {
    "duration": 15,
    "start_time": "2022-01-18T18:06:13.881Z"
   },
   {
    "duration": 305,
    "start_time": "2022-01-18T18:06:52.628Z"
   },
   {
    "duration": 9,
    "start_time": "2022-01-18T18:06:57.532Z"
   },
   {
    "duration": 18,
    "start_time": "2022-01-18T18:15:02.337Z"
   },
   {
    "duration": 22,
    "start_time": "2022-01-18T18:15:15.684Z"
   },
   {
    "duration": 15,
    "start_time": "2022-01-18T18:15:38.989Z"
   },
   {
    "duration": 23,
    "start_time": "2022-01-18T18:20:22.177Z"
   },
   {
    "duration": 1270,
    "start_time": "2022-01-18T18:22:01.352Z"
   },
   {
    "duration": 23,
    "start_time": "2022-01-18T18:22:18.501Z"
   },
   {
    "duration": 25,
    "start_time": "2022-01-18T18:23:54.150Z"
   },
   {
    "duration": 28,
    "start_time": "2022-01-18T18:24:10.571Z"
   },
   {
    "duration": 25,
    "start_time": "2022-01-18T18:24:20.373Z"
   },
   {
    "duration": 21,
    "start_time": "2022-01-18T18:24:26.050Z"
   },
   {
    "duration": 23,
    "start_time": "2022-01-18T18:24:31.531Z"
   },
   {
    "duration": 22,
    "start_time": "2022-01-18T18:24:56.769Z"
   },
   {
    "duration": 22,
    "start_time": "2022-01-18T18:25:11.940Z"
   },
   {
    "duration": 22,
    "start_time": "2022-01-18T18:25:22.240Z"
   },
   {
    "duration": 23,
    "start_time": "2022-01-18T18:29:06.534Z"
   },
   {
    "duration": 26,
    "start_time": "2022-01-18T18:29:21.672Z"
   },
   {
    "duration": 146,
    "start_time": "2022-01-18T18:30:05.938Z"
   },
   {
    "duration": 7,
    "start_time": "2022-01-18T18:31:57.577Z"
   },
   {
    "duration": 171,
    "start_time": "2022-01-18T18:36:09.204Z"
   },
   {
    "duration": 8242,
    "start_time": "2022-01-18T18:39:48.957Z"
   },
   {
    "duration": 309,
    "start_time": "2022-01-18T18:40:17.930Z"
   },
   {
    "duration": 10,
    "start_time": "2022-01-18T18:43:13.485Z"
   },
   {
    "duration": 36,
    "start_time": "2022-01-18T18:43:44.815Z"
   },
   {
    "duration": 10747,
    "start_time": "2022-01-18T18:44:27.784Z"
   },
   {
    "duration": 4,
    "start_time": "2022-01-18T18:44:39.138Z"
   },
   {
    "duration": 311,
    "start_time": "2022-01-18T18:46:31.157Z"
   },
   {
    "duration": 295,
    "start_time": "2022-01-18T18:58:43.303Z"
   },
   {
    "duration": 676,
    "start_time": "2022-01-18T18:59:35.493Z"
   },
   {
    "duration": 4870,
    "start_time": "2022-01-18T19:01:45.696Z"
   },
   {
    "duration": 317,
    "start_time": "2022-01-18T19:03:43.136Z"
   },
   {
    "duration": 319,
    "start_time": "2022-01-18T19:09:58.577Z"
   },
   {
    "duration": 7,
    "start_time": "2022-01-18T19:10:17.142Z"
   },
   {
    "duration": 6,
    "start_time": "2022-01-18T19:11:21.924Z"
   },
   {
    "duration": 34,
    "start_time": "2022-01-18T19:11:45.335Z"
   },
   {
    "duration": 550,
    "start_time": "2022-01-18T19:12:09.204Z"
   },
   {
    "duration": 96,
    "start_time": "2022-01-18T19:12:09.756Z"
   },
   {
    "duration": 18,
    "start_time": "2022-01-18T19:12:09.853Z"
   },
   {
    "duration": 8,
    "start_time": "2022-01-18T19:12:09.873Z"
   },
   {
    "duration": 7,
    "start_time": "2022-01-18T19:12:09.883Z"
   },
   {
    "duration": 21,
    "start_time": "2022-01-18T19:12:09.892Z"
   },
   {
    "duration": 127,
    "start_time": "2022-01-18T19:12:09.914Z"
   },
   {
    "duration": 44,
    "start_time": "2022-01-18T19:12:10.043Z"
   },
   {
    "duration": 10,
    "start_time": "2022-01-18T19:12:10.089Z"
   },
   {
    "duration": 6,
    "start_time": "2022-01-18T19:12:10.100Z"
   },
   {
    "duration": 11,
    "start_time": "2022-01-18T19:12:10.108Z"
   },
   {
    "duration": 8,
    "start_time": "2022-01-18T19:12:10.120Z"
   },
   {
    "duration": 5,
    "start_time": "2022-01-18T19:12:10.130Z"
   },
   {
    "duration": 58,
    "start_time": "2022-01-18T19:12:10.137Z"
   },
   {
    "duration": 38,
    "start_time": "2022-01-18T19:12:10.197Z"
   },
   {
    "duration": 39,
    "start_time": "2022-01-18T19:12:10.237Z"
   },
   {
    "duration": 19,
    "start_time": "2022-01-18T19:12:10.278Z"
   },
   {
    "duration": 21,
    "start_time": "2022-01-18T19:12:10.299Z"
   },
   {
    "duration": 20,
    "start_time": "2022-01-18T19:12:10.322Z"
   },
   {
    "duration": 44,
    "start_time": "2022-01-18T19:12:10.343Z"
   },
   {
    "duration": 699,
    "start_time": "2022-01-18T19:12:10.388Z"
   },
   {
    "duration": 19,
    "start_time": "2022-01-18T19:12:11.089Z"
   },
   {
    "duration": 272,
    "start_time": "2022-01-18T19:12:11.111Z"
   },
   {
    "duration": 165,
    "start_time": "2022-01-18T19:12:11.384Z"
   },
   {
    "duration": 167,
    "start_time": "2022-01-18T19:12:11.551Z"
   },
   {
    "duration": 176,
    "start_time": "2022-01-18T19:12:11.720Z"
   },
   {
    "duration": 177,
    "start_time": "2022-01-18T19:12:11.898Z"
   },
   {
    "duration": 8,
    "start_time": "2022-01-18T19:12:12.076Z"
   },
   {
    "duration": 34,
    "start_time": "2022-01-18T19:12:12.086Z"
   },
   {
    "duration": 21,
    "start_time": "2022-01-18T19:12:12.121Z"
   },
   {
    "duration": 35,
    "start_time": "2022-01-18T19:12:12.144Z"
   },
   {
    "duration": 818,
    "start_time": "2022-01-18T19:12:12.181Z"
   },
   {
    "duration": 228,
    "start_time": "2022-01-18T19:12:13.001Z"
   },
   {
    "duration": 178,
    "start_time": "2022-01-18T19:12:13.230Z"
   },
   {
    "duration": 790,
    "start_time": "2022-01-18T19:12:13.409Z"
   },
   {
    "duration": 21,
    "start_time": "2022-01-18T19:12:14.200Z"
   },
   {
    "duration": 52,
    "start_time": "2022-01-18T19:12:14.223Z"
   },
   {
    "duration": 32,
    "start_time": "2022-01-18T19:12:14.277Z"
   },
   {
    "duration": 381,
    "start_time": "2022-01-18T19:12:14.310Z"
   },
   {
    "duration": 7,
    "start_time": "2022-01-18T19:14:20.209Z"
   },
   {
    "duration": 556,
    "start_time": "2022-01-18T19:14:40.730Z"
   },
   {
    "duration": 100,
    "start_time": "2022-01-18T19:14:41.287Z"
   },
   {
    "duration": 9,
    "start_time": "2022-01-18T19:14:41.389Z"
   },
   {
    "duration": 7,
    "start_time": "2022-01-18T19:14:41.400Z"
   },
   {
    "duration": 7,
    "start_time": "2022-01-18T19:14:41.408Z"
   },
   {
    "duration": 21,
    "start_time": "2022-01-18T19:14:41.417Z"
   },
   {
    "duration": 140,
    "start_time": "2022-01-18T19:14:41.440Z"
   },
   {
    "duration": 31,
    "start_time": "2022-01-18T19:14:41.582Z"
   },
   {
    "duration": 11,
    "start_time": "2022-01-18T19:14:41.614Z"
   },
   {
    "duration": 6,
    "start_time": "2022-01-18T19:14:41.626Z"
   },
   {
    "duration": 12,
    "start_time": "2022-01-18T19:14:41.634Z"
   },
   {
    "duration": 8,
    "start_time": "2022-01-18T19:14:41.672Z"
   },
   {
    "duration": 9,
    "start_time": "2022-01-18T19:14:41.682Z"
   },
   {
    "duration": 30,
    "start_time": "2022-01-18T19:14:41.693Z"
   },
   {
    "duration": 66,
    "start_time": "2022-01-18T19:14:41.725Z"
   },
   {
    "duration": 24,
    "start_time": "2022-01-18T19:14:41.792Z"
   },
   {
    "duration": 19,
    "start_time": "2022-01-18T19:14:41.818Z"
   },
   {
    "duration": 42,
    "start_time": "2022-01-18T19:14:41.839Z"
   },
   {
    "duration": 21,
    "start_time": "2022-01-18T19:14:41.883Z"
   },
   {
    "duration": 20,
    "start_time": "2022-01-18T19:14:41.906Z"
   },
   {
    "duration": 574,
    "start_time": "2022-01-18T19:14:41.927Z"
   },
   {
    "duration": 20,
    "start_time": "2022-01-18T19:14:42.503Z"
   },
   {
    "duration": 286,
    "start_time": "2022-01-18T19:14:42.526Z"
   },
   {
    "duration": 167,
    "start_time": "2022-01-18T19:14:42.814Z"
   },
   {
    "duration": 175,
    "start_time": "2022-01-18T19:14:42.983Z"
   },
   {
    "duration": 183,
    "start_time": "2022-01-18T19:14:43.160Z"
   },
   {
    "duration": 176,
    "start_time": "2022-01-18T19:14:43.345Z"
   },
   {
    "duration": 9,
    "start_time": "2022-01-18T19:14:43.522Z"
   },
   {
    "duration": 49,
    "start_time": "2022-01-18T19:14:43.532Z"
   },
   {
    "duration": 21,
    "start_time": "2022-01-18T19:14:43.583Z"
   },
   {
    "duration": 16,
    "start_time": "2022-01-18T19:14:43.606Z"
   },
   {
    "duration": 868,
    "start_time": "2022-01-18T19:14:43.624Z"
   },
   {
    "duration": 216,
    "start_time": "2022-01-18T19:14:44.494Z"
   },
   {
    "duration": 171,
    "start_time": "2022-01-18T19:14:44.712Z"
   },
   {
    "duration": 792,
    "start_time": "2022-01-18T19:14:44.884Z"
   },
   {
    "duration": 23,
    "start_time": "2022-01-18T19:14:45.678Z"
   },
   {
    "duration": 37,
    "start_time": "2022-01-18T19:14:45.702Z"
   },
   {
    "duration": 32,
    "start_time": "2022-01-18T19:14:45.741Z"
   },
   {
    "duration": 408,
    "start_time": "2022-01-18T19:14:45.775Z"
   },
   {
    "duration": 307,
    "start_time": "2022-01-18T19:15:38.407Z"
   },
   {
    "duration": 602,
    "start_time": "2022-01-18T19:17:24.054Z"
   },
   {
    "duration": 98,
    "start_time": "2022-01-18T19:17:24.657Z"
   },
   {
    "duration": 9,
    "start_time": "2022-01-18T19:17:24.756Z"
   },
   {
    "duration": 7,
    "start_time": "2022-01-18T19:17:24.771Z"
   },
   {
    "duration": 10,
    "start_time": "2022-01-18T19:17:24.779Z"
   },
   {
    "duration": 20,
    "start_time": "2022-01-18T19:17:24.790Z"
   },
   {
    "duration": 123,
    "start_time": "2022-01-18T19:17:24.811Z"
   },
   {
    "duration": 40,
    "start_time": "2022-01-18T19:17:24.937Z"
   },
   {
    "duration": 11,
    "start_time": "2022-01-18T19:17:24.978Z"
   },
   {
    "duration": 6,
    "start_time": "2022-01-18T19:17:24.991Z"
   },
   {
    "duration": 12,
    "start_time": "2022-01-18T19:17:24.999Z"
   },
   {
    "duration": 8,
    "start_time": "2022-01-18T19:17:25.013Z"
   },
   {
    "duration": 6,
    "start_time": "2022-01-18T19:17:25.023Z"
   },
   {
    "duration": 69,
    "start_time": "2022-01-18T19:17:25.030Z"
   },
   {
    "duration": 40,
    "start_time": "2022-01-18T19:17:25.101Z"
   },
   {
    "duration": 40,
    "start_time": "2022-01-18T19:17:25.143Z"
   },
   {
    "duration": 20,
    "start_time": "2022-01-18T19:17:25.184Z"
   },
   {
    "duration": 22,
    "start_time": "2022-01-18T19:17:25.206Z"
   },
   {
    "duration": 51,
    "start_time": "2022-01-18T19:17:25.229Z"
   },
   {
    "duration": 23,
    "start_time": "2022-01-18T19:17:25.281Z"
   },
   {
    "duration": 571,
    "start_time": "2022-01-18T19:17:25.305Z"
   },
   {
    "duration": 21,
    "start_time": "2022-01-18T19:17:25.877Z"
   },
   {
    "duration": 280,
    "start_time": "2022-01-18T19:17:25.901Z"
   },
   {
    "duration": 165,
    "start_time": "2022-01-18T19:17:26.183Z"
   },
   {
    "duration": 173,
    "start_time": "2022-01-18T19:17:26.350Z"
   },
   {
    "duration": 185,
    "start_time": "2022-01-18T19:17:26.525Z"
   },
   {
    "duration": 176,
    "start_time": "2022-01-18T19:17:26.711Z"
   },
   {
    "duration": 8,
    "start_time": "2022-01-18T19:17:26.889Z"
   },
   {
    "duration": 30,
    "start_time": "2022-01-18T19:17:26.899Z"
   },
   {
    "duration": 42,
    "start_time": "2022-01-18T19:17:26.931Z"
   },
   {
    "duration": 15,
    "start_time": "2022-01-18T19:17:26.974Z"
   },
   {
    "duration": 774,
    "start_time": "2022-01-18T19:17:26.991Z"
   },
   {
    "duration": 209,
    "start_time": "2022-01-18T19:17:27.771Z"
   },
   {
    "duration": 178,
    "start_time": "2022-01-18T19:17:27.981Z"
   },
   {
    "duration": 748,
    "start_time": "2022-01-18T19:17:28.161Z"
   },
   {
    "duration": 21,
    "start_time": "2022-01-18T19:17:28.910Z"
   },
   {
    "duration": 356,
    "start_time": "2022-01-18T19:17:28.932Z"
   },
   {
    "duration": 258,
    "start_time": "2022-01-18T19:17:29.032Z"
   },
   {
    "duration": 249,
    "start_time": "2022-01-18T19:17:29.042Z"
   },
   {
    "duration": 235,
    "start_time": "2022-01-18T19:17:29.057Z"
   },
   {
    "duration": 38,
    "start_time": "2022-01-18T19:17:39.298Z"
   },
   {
    "duration": 8,
    "start_time": "2022-01-18T19:17:44.673Z"
   },
   {
    "duration": 332,
    "start_time": "2022-01-18T19:17:47.683Z"
   },
   {
    "duration": 579,
    "start_time": "2022-01-18T19:19:18.982Z"
   },
   {
    "duration": 98,
    "start_time": "2022-01-18T19:19:19.563Z"
   },
   {
    "duration": 9,
    "start_time": "2022-01-18T19:19:19.663Z"
   },
   {
    "duration": 7,
    "start_time": "2022-01-18T19:19:19.674Z"
   },
   {
    "duration": 6,
    "start_time": "2022-01-18T19:19:19.682Z"
   },
   {
    "duration": 20,
    "start_time": "2022-01-18T19:19:19.690Z"
   },
   {
    "duration": 133,
    "start_time": "2022-01-18T19:19:19.711Z"
   },
   {
    "duration": 41,
    "start_time": "2022-01-18T19:19:19.846Z"
   },
   {
    "duration": 10,
    "start_time": "2022-01-18T19:19:19.888Z"
   },
   {
    "duration": 6,
    "start_time": "2022-01-18T19:19:19.900Z"
   },
   {
    "duration": 12,
    "start_time": "2022-01-18T19:19:19.907Z"
   },
   {
    "duration": 8,
    "start_time": "2022-01-18T19:19:19.921Z"
   },
   {
    "duration": 7,
    "start_time": "2022-01-18T19:19:19.931Z"
   },
   {
    "duration": 33,
    "start_time": "2022-01-18T19:19:19.972Z"
   },
   {
    "duration": 42,
    "start_time": "2022-01-18T19:19:20.006Z"
   },
   {
    "duration": 38,
    "start_time": "2022-01-18T19:19:20.049Z"
   },
   {
    "duration": 21,
    "start_time": "2022-01-18T19:19:20.088Z"
   },
   {
    "duration": 21,
    "start_time": "2022-01-18T19:19:20.111Z"
   },
   {
    "duration": 48,
    "start_time": "2022-01-18T19:19:20.133Z"
   },
   {
    "duration": 24,
    "start_time": "2022-01-18T19:19:20.183Z"
   },
   {
    "duration": 595,
    "start_time": "2022-01-18T19:19:20.208Z"
   },
   {
    "duration": 22,
    "start_time": "2022-01-18T19:19:20.805Z"
   },
   {
    "duration": 296,
    "start_time": "2022-01-18T19:19:20.830Z"
   },
   {
    "duration": 166,
    "start_time": "2022-01-18T19:19:21.128Z"
   },
   {
    "duration": 177,
    "start_time": "2022-01-18T19:19:21.296Z"
   },
   {
    "duration": 184,
    "start_time": "2022-01-18T19:19:21.475Z"
   },
   {
    "duration": 165,
    "start_time": "2022-01-18T19:19:21.660Z"
   },
   {
    "duration": 7,
    "start_time": "2022-01-18T19:19:21.827Z"
   },
   {
    "duration": 43,
    "start_time": "2022-01-18T19:19:21.836Z"
   },
   {
    "duration": 21,
    "start_time": "2022-01-18T19:19:21.880Z"
   },
   {
    "duration": 15,
    "start_time": "2022-01-18T19:19:21.903Z"
   },
   {
    "duration": 879,
    "start_time": "2022-01-18T19:19:21.920Z"
   },
   {
    "duration": 228,
    "start_time": "2022-01-18T19:19:22.801Z"
   },
   {
    "duration": 187,
    "start_time": "2022-01-18T19:19:23.030Z"
   },
   {
    "duration": 811,
    "start_time": "2022-01-18T19:19:23.218Z"
   },
   {
    "duration": 24,
    "start_time": "2022-01-18T19:19:24.030Z"
   },
   {
    "duration": 54,
    "start_time": "2022-01-18T19:19:24.055Z"
   },
   {
    "duration": 10,
    "start_time": "2022-01-18T19:19:24.111Z"
   },
   {
    "duration": 391,
    "start_time": "2022-01-18T19:19:24.122Z"
   },
   {
    "duration": 231,
    "start_time": "2022-01-18T19:19:24.284Z"
   },
   {
    "duration": 5,
    "start_time": "2022-01-18T19:20:02.064Z"
   },
   {
    "duration": 4,
    "start_time": "2022-01-18T19:20:34.454Z"
   },
   {
    "duration": 10,
    "start_time": "2022-01-18T19:21:39.304Z"
   },
   {
    "duration": 9,
    "start_time": "2022-01-18T19:21:49.407Z"
   },
   {
    "duration": 11,
    "start_time": "2022-01-18T19:23:14.776Z"
   },
   {
    "duration": 4,
    "start_time": "2022-01-18T19:23:28.687Z"
   },
   {
    "duration": 573,
    "start_time": "2022-01-18T19:24:14.289Z"
   },
   {
    "duration": 99,
    "start_time": "2022-01-18T19:24:14.864Z"
   },
   {
    "duration": 9,
    "start_time": "2022-01-18T19:24:14.964Z"
   },
   {
    "duration": 7,
    "start_time": "2022-01-18T19:24:14.975Z"
   },
   {
    "duration": 7,
    "start_time": "2022-01-18T19:24:14.984Z"
   },
   {
    "duration": 27,
    "start_time": "2022-01-18T19:24:14.992Z"
   },
   {
    "duration": 138,
    "start_time": "2022-01-18T19:24:15.020Z"
   },
   {
    "duration": 39,
    "start_time": "2022-01-18T19:24:15.160Z"
   },
   {
    "duration": 9,
    "start_time": "2022-01-18T19:24:15.201Z"
   },
   {
    "duration": 6,
    "start_time": "2022-01-18T19:24:15.212Z"
   },
   {
    "duration": 13,
    "start_time": "2022-01-18T19:24:15.219Z"
   },
   {
    "duration": 7,
    "start_time": "2022-01-18T19:24:15.234Z"
   },
   {
    "duration": 8,
    "start_time": "2022-01-18T19:24:15.271Z"
   },
   {
    "duration": 31,
    "start_time": "2022-01-18T19:24:15.280Z"
   },
   {
    "duration": 60,
    "start_time": "2022-01-18T19:24:15.313Z"
   },
   {
    "duration": 24,
    "start_time": "2022-01-18T19:24:15.374Z"
   },
   {
    "duration": 20,
    "start_time": "2022-01-18T19:24:15.399Z"
   },
   {
    "duration": 21,
    "start_time": "2022-01-18T19:24:15.421Z"
   },
   {
    "duration": 45,
    "start_time": "2022-01-18T19:24:15.443Z"
   },
   {
    "duration": 20,
    "start_time": "2022-01-18T19:24:15.489Z"
   },
   {
    "duration": 669,
    "start_time": "2022-01-18T19:24:15.511Z"
   },
   {
    "duration": 21,
    "start_time": "2022-01-18T19:24:16.181Z"
   },
   {
    "duration": 291,
    "start_time": "2022-01-18T19:24:16.205Z"
   },
   {
    "duration": 174,
    "start_time": "2022-01-18T19:24:16.499Z"
   },
   {
    "duration": 173,
    "start_time": "2022-01-18T19:24:16.675Z"
   },
   {
    "duration": 176,
    "start_time": "2022-01-18T19:24:16.850Z"
   },
   {
    "duration": 215,
    "start_time": "2022-01-18T19:24:17.027Z"
   },
   {
    "duration": 10,
    "start_time": "2022-01-18T19:24:17.245Z"
   },
   {
    "duration": 56,
    "start_time": "2022-01-18T19:24:17.256Z"
   },
   {
    "duration": 27,
    "start_time": "2022-01-18T19:24:17.314Z"
   },
   {
    "duration": 37,
    "start_time": "2022-01-18T19:24:17.343Z"
   },
   {
    "duration": 816,
    "start_time": "2022-01-18T19:24:17.382Z"
   },
   {
    "duration": 209,
    "start_time": "2022-01-18T19:24:18.199Z"
   },
   {
    "duration": 180,
    "start_time": "2022-01-18T19:24:18.410Z"
   },
   {
    "duration": 754,
    "start_time": "2022-01-18T19:24:18.593Z"
   },
   {
    "duration": 24,
    "start_time": "2022-01-18T19:24:19.349Z"
   },
   {
    "duration": 35,
    "start_time": "2022-01-18T19:24:19.374Z"
   },
   {
    "duration": 10,
    "start_time": "2022-01-18T19:24:19.410Z"
   },
   {
    "duration": 4,
    "start_time": "2022-01-18T19:24:19.421Z"
   },
   {
    "duration": 368,
    "start_time": "2022-01-18T19:24:19.426Z"
   },
   {
    "duration": 1228,
    "start_time": "2022-01-18T19:25:35.731Z"
   },
   {
    "duration": 575,
    "start_time": "2022-01-18T19:25:41.887Z"
   },
   {
    "duration": 105,
    "start_time": "2022-01-18T19:25:42.463Z"
   },
   {
    "duration": 10,
    "start_time": "2022-01-18T19:25:42.570Z"
   },
   {
    "duration": 13,
    "start_time": "2022-01-18T19:25:42.581Z"
   },
   {
    "duration": 23,
    "start_time": "2022-01-18T19:25:42.596Z"
   },
   {
    "duration": 46,
    "start_time": "2022-01-18T19:25:42.621Z"
   },
   {
    "duration": 104,
    "start_time": "2022-01-18T19:25:42.669Z"
   },
   {
    "duration": 32,
    "start_time": "2022-01-18T19:25:42.776Z"
   },
   {
    "duration": 12,
    "start_time": "2022-01-18T19:25:42.811Z"
   },
   {
    "duration": 24,
    "start_time": "2022-01-18T19:25:42.824Z"
   },
   {
    "duration": 27,
    "start_time": "2022-01-18T19:25:42.849Z"
   },
   {
    "duration": 9,
    "start_time": "2022-01-18T19:25:42.877Z"
   },
   {
    "duration": 27,
    "start_time": "2022-01-18T19:25:42.887Z"
   },
   {
    "duration": 35,
    "start_time": "2022-01-18T19:25:42.915Z"
   },
   {
    "duration": 39,
    "start_time": "2022-01-18T19:25:42.952Z"
   },
   {
    "duration": 24,
    "start_time": "2022-01-18T19:25:42.993Z"
   },
   {
    "duration": 19,
    "start_time": "2022-01-18T19:25:43.019Z"
   },
   {
    "duration": 41,
    "start_time": "2022-01-18T19:25:43.040Z"
   },
   {
    "duration": 19,
    "start_time": "2022-01-18T19:25:43.082Z"
   },
   {
    "duration": 20,
    "start_time": "2022-01-18T19:25:43.103Z"
   },
   {
    "duration": 589,
    "start_time": "2022-01-18T19:25:43.124Z"
   },
   {
    "duration": 21,
    "start_time": "2022-01-18T19:25:43.715Z"
   },
   {
    "duration": 291,
    "start_time": "2022-01-18T19:25:43.739Z"
   },
   {
    "duration": 170,
    "start_time": "2022-01-18T19:25:44.032Z"
   },
   {
    "duration": 175,
    "start_time": "2022-01-18T19:25:44.204Z"
   },
   {
    "duration": 177,
    "start_time": "2022-01-18T19:25:44.381Z"
   },
   {
    "duration": 172,
    "start_time": "2022-01-18T19:25:44.560Z"
   },
   {
    "duration": 8,
    "start_time": "2022-01-18T19:25:44.733Z"
   },
   {
    "duration": 37,
    "start_time": "2022-01-18T19:25:44.742Z"
   },
   {
    "duration": 20,
    "start_time": "2022-01-18T19:25:44.781Z"
   },
   {
    "duration": 14,
    "start_time": "2022-01-18T19:25:44.802Z"
   },
   {
    "duration": 770,
    "start_time": "2022-01-18T19:25:44.818Z"
   },
   {
    "duration": 210,
    "start_time": "2022-01-18T19:25:45.590Z"
   },
   {
    "duration": 177,
    "start_time": "2022-01-18T19:25:45.802Z"
   },
   {
    "duration": 776,
    "start_time": "2022-01-18T19:25:45.981Z"
   },
   {
    "duration": 28,
    "start_time": "2022-01-18T19:25:46.759Z"
   },
   {
    "duration": 42,
    "start_time": "2022-01-18T19:25:46.789Z"
   },
   {
    "duration": 358,
    "start_time": "2022-01-18T19:25:46.833Z"
   },
   {
    "duration": 181,
    "start_time": "2022-01-18T19:25:47.011Z"
   },
   {
    "duration": 173,
    "start_time": "2022-01-18T19:25:47.020Z"
   },
   {
    "duration": 319,
    "start_time": "2022-01-18T19:26:15.219Z"
   },
   {
    "duration": 323,
    "start_time": "2022-01-18T19:26:37.961Z"
   },
   {
    "duration": 358,
    "start_time": "2022-01-18T19:27:46.310Z"
   },
   {
    "duration": 306,
    "start_time": "2022-01-18T19:27:59.531Z"
   },
   {
    "duration": 10,
    "start_time": "2022-01-18T19:28:21.217Z"
   },
   {
    "duration": 5,
    "start_time": "2022-01-18T19:28:28.672Z"
   },
   {
    "duration": 1299,
    "start_time": "2022-01-18T19:28:41.287Z"
   },
   {
    "duration": 14,
    "start_time": "2022-01-18T19:28:55.309Z"
   },
   {
    "duration": 7661,
    "start_time": "2022-01-18T19:31:51.833Z"
   },
   {
    "duration": 179,
    "start_time": "2022-01-18T19:32:18.161Z"
   },
   {
    "duration": 165,
    "start_time": "2022-01-18T19:32:55.386Z"
   },
   {
    "duration": 31,
    "start_time": "2022-01-18T19:41:48.437Z"
   },
   {
    "duration": 582,
    "start_time": "2022-01-18T19:42:28.982Z"
   },
   {
    "duration": 99,
    "start_time": "2022-01-18T19:42:29.566Z"
   },
   {
    "duration": 9,
    "start_time": "2022-01-18T19:42:29.668Z"
   },
   {
    "duration": 8,
    "start_time": "2022-01-18T19:42:29.679Z"
   },
   {
    "duration": 18,
    "start_time": "2022-01-18T19:42:29.688Z"
   },
   {
    "duration": 21,
    "start_time": "2022-01-18T19:42:29.708Z"
   },
   {
    "duration": 120,
    "start_time": "2022-01-18T19:42:29.730Z"
   },
   {
    "duration": 40,
    "start_time": "2022-01-18T19:42:29.853Z"
   },
   {
    "duration": 10,
    "start_time": "2022-01-18T19:42:29.895Z"
   },
   {
    "duration": 6,
    "start_time": "2022-01-18T19:42:29.907Z"
   },
   {
    "duration": 12,
    "start_time": "2022-01-18T19:42:29.915Z"
   },
   {
    "duration": 8,
    "start_time": "2022-01-18T19:42:29.929Z"
   },
   {
    "duration": 34,
    "start_time": "2022-01-18T19:42:29.939Z"
   },
   {
    "duration": 36,
    "start_time": "2022-01-18T19:42:29.974Z"
   },
   {
    "duration": 62,
    "start_time": "2022-01-18T19:42:30.012Z"
   },
   {
    "duration": 25,
    "start_time": "2022-01-18T19:42:30.075Z"
   },
   {
    "duration": 21,
    "start_time": "2022-01-18T19:42:30.102Z"
   },
   {
    "duration": 47,
    "start_time": "2022-01-18T19:42:30.125Z"
   },
   {
    "duration": 23,
    "start_time": "2022-01-18T19:42:30.173Z"
   },
   {
    "duration": 21,
    "start_time": "2022-01-18T19:42:30.198Z"
   },
   {
    "duration": 576,
    "start_time": "2022-01-18T19:42:30.221Z"
   },
   {
    "duration": 21,
    "start_time": "2022-01-18T19:42:30.799Z"
   },
   {
    "duration": 282,
    "start_time": "2022-01-18T19:42:30.823Z"
   },
   {
    "duration": 168,
    "start_time": "2022-01-18T19:42:31.108Z"
   },
   {
    "duration": 173,
    "start_time": "2022-01-18T19:42:31.278Z"
   },
   {
    "duration": 181,
    "start_time": "2022-01-18T19:42:31.453Z"
   },
   {
    "duration": 177,
    "start_time": "2022-01-18T19:42:31.636Z"
   },
   {
    "duration": 8,
    "start_time": "2022-01-18T19:42:31.814Z"
   },
   {
    "duration": 29,
    "start_time": "2022-01-18T19:42:31.824Z"
   },
   {
    "duration": 36,
    "start_time": "2022-01-18T19:42:31.855Z"
   },
   {
    "duration": 17,
    "start_time": "2022-01-18T19:42:31.893Z"
   },
   {
    "duration": 805,
    "start_time": "2022-01-18T19:42:31.911Z"
   },
   {
    "duration": 221,
    "start_time": "2022-01-18T19:42:32.717Z"
   },
   {
    "duration": 179,
    "start_time": "2022-01-18T19:42:32.940Z"
   },
   {
    "duration": 765,
    "start_time": "2022-01-18T19:42:33.121Z"
   },
   {
    "duration": 23,
    "start_time": "2022-01-18T19:42:33.887Z"
   },
   {
    "duration": 37,
    "start_time": "2022-01-18T19:42:33.911Z"
   },
   {
    "duration": 30,
    "start_time": "2022-01-18T19:42:33.949Z"
   },
   {
    "duration": 3,
    "start_time": "2022-01-18T19:42:33.981Z"
   },
   {
    "duration": 180,
    "start_time": "2022-01-18T19:42:33.986Z"
   },
   {
    "duration": 33,
    "start_time": "2022-01-18T19:42:34.171Z"
   },
   {
    "duration": 300,
    "start_time": "2022-01-18T19:44:21.588Z"
   },
   {
    "duration": 7871,
    "start_time": "2022-01-18T19:48:35.885Z"
   },
   {
    "duration": 8308,
    "start_time": "2022-01-18T19:48:55.634Z"
   },
   {
    "duration": 182,
    "start_time": "2022-01-18T19:49:33.284Z"
   },
   {
    "duration": 180,
    "start_time": "2022-01-18T19:49:48.173Z"
   },
   {
    "duration": 161,
    "start_time": "2022-01-18T19:50:14.028Z"
   },
   {
    "duration": 164,
    "start_time": "2022-01-18T19:50:23.673Z"
   },
   {
    "duration": 160,
    "start_time": "2022-01-18T19:50:35.072Z"
   },
   {
    "duration": 150,
    "start_time": "2022-01-18T19:50:42.234Z"
   },
   {
    "duration": 242,
    "start_time": "2022-01-18T19:51:01.036Z"
   },
   {
    "duration": 170,
    "start_time": "2022-01-18T19:51:08.476Z"
   },
   {
    "duration": 166,
    "start_time": "2022-01-18T19:51:14.706Z"
   },
   {
    "duration": 156,
    "start_time": "2022-01-18T19:51:27.609Z"
   },
   {
    "duration": 164,
    "start_time": "2022-01-18T19:51:33.244Z"
   },
   {
    "duration": 151,
    "start_time": "2022-01-18T19:57:21.167Z"
   },
   {
    "duration": 147,
    "start_time": "2022-01-18T19:57:35.094Z"
   },
   {
    "duration": 149,
    "start_time": "2022-01-18T19:57:48.855Z"
   },
   {
    "duration": 595,
    "start_time": "2022-01-18T20:18:35.292Z"
   },
   {
    "duration": 104,
    "start_time": "2022-01-18T20:18:35.889Z"
   },
   {
    "duration": 9,
    "start_time": "2022-01-18T20:18:35.995Z"
   },
   {
    "duration": 8,
    "start_time": "2022-01-18T20:18:36.006Z"
   },
   {
    "duration": 8,
    "start_time": "2022-01-18T20:18:36.016Z"
   },
   {
    "duration": 22,
    "start_time": "2022-01-18T20:18:36.025Z"
   },
   {
    "duration": 132,
    "start_time": "2022-01-18T20:18:36.049Z"
   },
   {
    "duration": 29,
    "start_time": "2022-01-18T20:18:36.185Z"
   },
   {
    "duration": 10,
    "start_time": "2022-01-18T20:18:36.216Z"
   },
   {
    "duration": 7,
    "start_time": "2022-01-18T20:18:36.227Z"
   },
   {
    "duration": 37,
    "start_time": "2022-01-18T20:18:36.235Z"
   },
   {
    "duration": 7,
    "start_time": "2022-01-18T20:18:36.274Z"
   },
   {
    "duration": 6,
    "start_time": "2022-01-18T20:18:36.283Z"
   },
   {
    "duration": 31,
    "start_time": "2022-01-18T20:18:36.290Z"
   },
   {
    "duration": 66,
    "start_time": "2022-01-18T20:18:36.323Z"
   },
   {
    "duration": 24,
    "start_time": "2022-01-18T20:18:36.391Z"
   },
   {
    "duration": 19,
    "start_time": "2022-01-18T20:18:36.416Z"
   },
   {
    "duration": 43,
    "start_time": "2022-01-18T20:18:36.437Z"
   },
   {
    "duration": 22,
    "start_time": "2022-01-18T20:18:36.482Z"
   },
   {
    "duration": 22,
    "start_time": "2022-01-18T20:18:36.506Z"
   },
   {
    "duration": 580,
    "start_time": "2022-01-18T20:18:36.530Z"
   },
   {
    "duration": 23,
    "start_time": "2022-01-18T20:18:37.112Z"
   },
   {
    "duration": 284,
    "start_time": "2022-01-18T20:18:37.139Z"
   },
   {
    "duration": 167,
    "start_time": "2022-01-18T20:18:37.426Z"
   },
   {
    "duration": 169,
    "start_time": "2022-01-18T20:18:37.594Z"
   },
   {
    "duration": 177,
    "start_time": "2022-01-18T20:18:37.764Z"
   },
   {
    "duration": 165,
    "start_time": "2022-01-18T20:18:37.943Z"
   },
   {
    "duration": 7,
    "start_time": "2022-01-18T20:18:38.110Z"
   },
   {
    "duration": 29,
    "start_time": "2022-01-18T20:18:38.119Z"
   },
   {
    "duration": 37,
    "start_time": "2022-01-18T20:18:38.150Z"
   },
   {
    "duration": 15,
    "start_time": "2022-01-18T20:18:38.189Z"
   },
   {
    "duration": 775,
    "start_time": "2022-01-18T20:18:38.205Z"
   },
   {
    "duration": 209,
    "start_time": "2022-01-18T20:18:38.981Z"
   },
   {
    "duration": 176,
    "start_time": "2022-01-18T20:18:39.192Z"
   },
   {
    "duration": 742,
    "start_time": "2022-01-18T20:18:39.372Z"
   },
   {
    "duration": 21,
    "start_time": "2022-01-18T20:18:40.116Z"
   },
   {
    "duration": 6,
    "start_time": "2022-01-18T20:18:40.139Z"
   },
   {
    "duration": 8,
    "start_time": "2022-01-18T20:18:40.146Z"
   },
   {
    "duration": 3,
    "start_time": "2022-01-18T20:18:40.172Z"
   },
   {
    "duration": 170,
    "start_time": "2022-01-18T20:18:40.176Z"
   },
   {
    "duration": 169,
    "start_time": "2022-01-18T20:18:40.348Z"
   },
   {
    "duration": 166,
    "start_time": "2022-01-18T20:18:40.518Z"
   },
   {
    "duration": 163,
    "start_time": "2022-01-18T20:18:40.686Z"
   },
   {
    "duration": 160,
    "start_time": "2022-01-18T20:18:40.851Z"
   },
   {
    "duration": 555,
    "start_time": "2022-01-18T20:23:10.028Z"
   },
   {
    "duration": 99,
    "start_time": "2022-01-18T20:23:10.584Z"
   },
   {
    "duration": 9,
    "start_time": "2022-01-18T20:23:10.685Z"
   },
   {
    "duration": 8,
    "start_time": "2022-01-18T20:23:10.696Z"
   },
   {
    "duration": 7,
    "start_time": "2022-01-18T20:23:10.705Z"
   },
   {
    "duration": 21,
    "start_time": "2022-01-18T20:23:10.713Z"
   },
   {
    "duration": 137,
    "start_time": "2022-01-18T20:23:10.735Z"
   },
   {
    "duration": 34,
    "start_time": "2022-01-18T20:23:10.875Z"
   },
   {
    "duration": 12,
    "start_time": "2022-01-18T20:23:10.910Z"
   },
   {
    "duration": 7,
    "start_time": "2022-01-18T20:23:10.923Z"
   },
   {
    "duration": 11,
    "start_time": "2022-01-18T20:23:10.932Z"
   },
   {
    "duration": 7,
    "start_time": "2022-01-18T20:23:10.972Z"
   },
   {
    "duration": 7,
    "start_time": "2022-01-18T20:23:10.981Z"
   },
   {
    "duration": 30,
    "start_time": "2022-01-18T20:23:10.989Z"
   },
   {
    "duration": 63,
    "start_time": "2022-01-18T20:23:11.021Z"
   },
   {
    "duration": 25,
    "start_time": "2022-01-18T20:23:11.085Z"
   },
   {
    "duration": 3,
    "start_time": "2022-01-18T20:23:11.111Z"
   },
   {
    "duration": 6,
    "start_time": "2022-01-18T20:23:11.116Z"
   },
   {
    "duration": 4,
    "start_time": "2022-01-18T20:23:11.124Z"
   },
   {
    "duration": 4,
    "start_time": "2022-01-18T20:23:11.130Z"
   },
   {
    "duration": 559,
    "start_time": "2022-01-18T20:23:11.135Z"
   },
   {
    "duration": 21,
    "start_time": "2022-01-18T20:23:11.696Z"
   },
   {
    "duration": 269,
    "start_time": "2022-01-18T20:23:11.720Z"
   },
   {
    "duration": 161,
    "start_time": "2022-01-18T20:23:11.991Z"
   },
   {
    "duration": 173,
    "start_time": "2022-01-18T20:23:12.154Z"
   },
   {
    "duration": 176,
    "start_time": "2022-01-18T20:23:12.328Z"
   },
   {
    "duration": 181,
    "start_time": "2022-01-18T20:23:12.505Z"
   },
   {
    "duration": 8,
    "start_time": "2022-01-18T20:23:12.688Z"
   },
   {
    "duration": 30,
    "start_time": "2022-01-18T20:23:12.697Z"
   },
   {
    "duration": 44,
    "start_time": "2022-01-18T20:23:12.729Z"
   },
   {
    "duration": 16,
    "start_time": "2022-01-18T20:23:12.774Z"
   },
   {
    "duration": 800,
    "start_time": "2022-01-18T20:23:12.791Z"
   },
   {
    "duration": 213,
    "start_time": "2022-01-18T20:23:13.592Z"
   },
   {
    "duration": 192,
    "start_time": "2022-01-18T20:23:13.807Z"
   },
   {
    "duration": 779,
    "start_time": "2022-01-18T20:23:14.001Z"
   },
   {
    "duration": 21,
    "start_time": "2022-01-18T20:23:14.781Z"
   },
   {
    "duration": 5,
    "start_time": "2022-01-18T20:23:14.804Z"
   },
   {
    "duration": 10,
    "start_time": "2022-01-18T20:23:14.811Z"
   },
   {
    "duration": 3,
    "start_time": "2022-01-18T20:23:14.823Z"
   },
   {
    "duration": 246,
    "start_time": "2022-01-18T20:23:14.828Z"
   },
   {
    "duration": 166,
    "start_time": "2022-01-18T20:23:15.075Z"
   },
   {
    "duration": 166,
    "start_time": "2022-01-18T20:23:15.243Z"
   },
   {
    "duration": 166,
    "start_time": "2022-01-18T20:23:15.411Z"
   },
   {
    "duration": 158,
    "start_time": "2022-01-18T20:23:15.579Z"
   },
   {
    "duration": 600,
    "start_time": "2022-01-22T15:45:23.603Z"
   },
   {
    "duration": 89,
    "start_time": "2022-01-22T15:45:24.205Z"
   },
   {
    "duration": 16,
    "start_time": "2022-01-22T15:45:24.296Z"
   },
   {
    "duration": 8,
    "start_time": "2022-01-22T15:45:24.314Z"
   },
   {
    "duration": 68,
    "start_time": "2022-01-22T15:45:24.323Z"
   },
   {
    "duration": 23,
    "start_time": "2022-01-22T15:45:24.393Z"
   },
   {
    "duration": 21,
    "start_time": "2022-01-22T15:45:24.418Z"
   },
   {
    "duration": 125,
    "start_time": "2022-01-22T15:45:24.442Z"
   },
   {
    "duration": 47,
    "start_time": "2022-01-22T15:45:24.569Z"
   },
   {
    "duration": 11,
    "start_time": "2022-01-22T15:45:24.618Z"
   },
   {
    "duration": 14,
    "start_time": "2022-01-22T15:45:24.630Z"
   },
   {
    "duration": 22,
    "start_time": "2022-01-22T15:45:24.646Z"
   },
   {
    "duration": 13,
    "start_time": "2022-01-22T15:45:24.670Z"
   },
   {
    "duration": 17,
    "start_time": "2022-01-22T15:45:24.684Z"
   },
   {
    "duration": 46,
    "start_time": "2022-01-22T15:45:24.702Z"
   },
   {
    "duration": 44,
    "start_time": "2022-01-22T15:45:24.749Z"
   },
   {
    "duration": 47,
    "start_time": "2022-01-22T15:45:24.794Z"
   },
   {
    "duration": 4,
    "start_time": "2022-01-22T15:45:24.843Z"
   },
   {
    "duration": 13,
    "start_time": "2022-01-22T15:45:24.849Z"
   },
   {
    "duration": 8,
    "start_time": "2022-01-22T15:45:24.863Z"
   },
   {
    "duration": 12,
    "start_time": "2022-01-22T15:45:24.873Z"
   },
   {
    "duration": 566,
    "start_time": "2022-01-22T15:45:24.887Z"
   },
   {
    "duration": 22,
    "start_time": "2022-01-22T15:45:25.457Z"
   },
   {
    "duration": 299,
    "start_time": "2022-01-22T15:45:25.481Z"
   },
   {
    "duration": 195,
    "start_time": "2022-01-22T15:45:25.781Z"
   },
   {
    "duration": 201,
    "start_time": "2022-01-22T15:45:25.978Z"
   },
   {
    "duration": 191,
    "start_time": "2022-01-22T15:45:26.181Z"
   },
   {
    "duration": 193,
    "start_time": "2022-01-22T15:45:26.374Z"
   },
   {
    "duration": 8,
    "start_time": "2022-01-22T15:45:26.568Z"
   },
   {
    "duration": 42,
    "start_time": "2022-01-22T15:45:26.577Z"
   },
   {
    "duration": 23,
    "start_time": "2022-01-22T15:45:26.621Z"
   },
   {
    "duration": 15,
    "start_time": "2022-01-22T15:45:26.646Z"
   },
   {
    "duration": 887,
    "start_time": "2022-01-22T15:45:26.662Z"
   },
   {
    "duration": 251,
    "start_time": "2022-01-22T15:45:27.551Z"
   },
   {
    "duration": 215,
    "start_time": "2022-01-22T15:45:27.804Z"
   },
   {
    "duration": 866,
    "start_time": "2022-01-22T15:45:28.020Z"
   },
   {
    "duration": 30,
    "start_time": "2022-01-22T15:45:28.887Z"
   },
   {
    "duration": 5,
    "start_time": "2022-01-22T15:45:28.919Z"
   },
   {
    "duration": 7,
    "start_time": "2022-01-22T15:45:28.926Z"
   },
   {
    "duration": 4,
    "start_time": "2022-01-22T15:45:28.934Z"
   },
   {
    "duration": 212,
    "start_time": "2022-01-22T15:45:28.939Z"
   },
   {
    "duration": 193,
    "start_time": "2022-01-22T15:45:29.153Z"
   },
   {
    "duration": 191,
    "start_time": "2022-01-22T15:45:29.348Z"
   },
   {
    "duration": 184,
    "start_time": "2022-01-22T15:45:29.541Z"
   },
   {
    "duration": 170,
    "start_time": "2022-01-22T15:45:29.726Z"
   },
   {
    "duration": 82,
    "start_time": "2022-01-22T15:47:47.685Z"
   },
   {
    "duration": 14,
    "start_time": "2022-01-22T16:01:50.449Z"
   },
   {
    "duration": 17,
    "start_time": "2022-01-22T16:08:39.638Z"
   },
   {
    "duration": 34,
    "start_time": "2022-01-22T16:19:20.053Z"
   },
   {
    "duration": 24,
    "start_time": "2022-01-22T16:19:53.721Z"
   },
   {
    "duration": 317,
    "start_time": "2022-01-22T16:23:52.026Z"
   },
   {
    "duration": 196,
    "start_time": "2022-01-22T16:24:15.057Z"
   },
   {
    "duration": 701,
    "start_time": "2022-01-23T17:24:52.542Z"
   },
   {
    "duration": 83,
    "start_time": "2022-01-23T17:24:53.245Z"
   },
   {
    "duration": 9,
    "start_time": "2022-01-23T17:24:53.330Z"
   },
   {
    "duration": 64,
    "start_time": "2022-01-23T17:24:53.341Z"
   },
   {
    "duration": 6,
    "start_time": "2022-01-23T17:24:53.407Z"
   },
   {
    "duration": 27,
    "start_time": "2022-01-23T17:24:53.414Z"
   },
   {
    "duration": 16,
    "start_time": "2022-01-23T17:24:53.442Z"
   },
   {
    "duration": 117,
    "start_time": "2022-01-23T17:24:53.460Z"
   },
   {
    "duration": 32,
    "start_time": "2022-01-23T17:24:53.579Z"
   },
   {
    "duration": 21,
    "start_time": "2022-01-23T17:24:53.612Z"
   },
   {
    "duration": 7,
    "start_time": "2022-01-23T17:24:53.634Z"
   },
   {
    "duration": 12,
    "start_time": "2022-01-23T17:24:53.642Z"
   },
   {
    "duration": 8,
    "start_time": "2022-01-23T17:24:53.655Z"
   },
   {
    "duration": 7,
    "start_time": "2022-01-23T17:24:53.664Z"
   },
   {
    "duration": 56,
    "start_time": "2022-01-23T17:24:53.673Z"
   },
   {
    "duration": 39,
    "start_time": "2022-01-23T17:24:53.730Z"
   },
   {
    "duration": 8854,
    "start_time": "2022-01-23T17:24:53.771Z"
   },
   {
    "duration": -216,
    "start_time": "2022-01-23T17:25:02.844Z"
   },
   {
    "duration": -227,
    "start_time": "2022-01-23T17:25:02.856Z"
   },
   {
    "duration": -239,
    "start_time": "2022-01-23T17:25:02.868Z"
   },
   {
    "duration": -250,
    "start_time": "2022-01-23T17:25:02.880Z"
   },
   {
    "duration": -261,
    "start_time": "2022-01-23T17:25:02.892Z"
   },
   {
    "duration": -273,
    "start_time": "2022-01-23T17:25:02.905Z"
   },
   {
    "duration": -286,
    "start_time": "2022-01-23T17:25:02.919Z"
   },
   {
    "duration": -327,
    "start_time": "2022-01-23T17:25:02.961Z"
   },
   {
    "duration": -392,
    "start_time": "2022-01-23T17:25:03.027Z"
   },
   {
    "duration": -454,
    "start_time": "2022-01-23T17:25:03.090Z"
   },
   {
    "duration": -496,
    "start_time": "2022-01-23T17:25:03.133Z"
   },
   {
    "duration": -524,
    "start_time": "2022-01-23T17:25:03.162Z"
   },
   {
    "duration": -534,
    "start_time": "2022-01-23T17:25:03.173Z"
   },
   {
    "duration": -546,
    "start_time": "2022-01-23T17:25:03.186Z"
   },
   {
    "duration": -557,
    "start_time": "2022-01-23T17:25:03.198Z"
   },
   {
    "duration": -568,
    "start_time": "2022-01-23T17:25:03.210Z"
   },
   {
    "duration": -579,
    "start_time": "2022-01-23T17:25:03.222Z"
   },
   {
    "duration": -591,
    "start_time": "2022-01-23T17:25:03.235Z"
   },
   {
    "duration": -601,
    "start_time": "2022-01-23T17:25:03.246Z"
   },
   {
    "duration": -633,
    "start_time": "2022-01-23T17:25:03.278Z"
   },
   {
    "duration": -643,
    "start_time": "2022-01-23T17:25:03.289Z"
   },
   {
    "duration": -655,
    "start_time": "2022-01-23T17:25:03.302Z"
   },
   {
    "duration": -665,
    "start_time": "2022-01-23T17:25:03.313Z"
   },
   {
    "duration": -707,
    "start_time": "2022-01-23T17:25:03.356Z"
   },
   {
    "duration": -742,
    "start_time": "2022-01-23T17:25:03.392Z"
   },
   {
    "duration": -797,
    "start_time": "2022-01-23T17:25:03.448Z"
   },
   {
    "duration": -840,
    "start_time": "2022-01-23T17:25:03.492Z"
   },
   {
    "duration": -878,
    "start_time": "2022-01-23T17:25:03.531Z"
   },
   {
    "duration": 670,
    "start_time": "2022-01-23T17:26:31.133Z"
   },
   {
    "duration": 85,
    "start_time": "2022-01-23T17:26:31.805Z"
   },
   {
    "duration": 9,
    "start_time": "2022-01-23T17:26:31.892Z"
   },
   {
    "duration": 71,
    "start_time": "2022-01-23T17:26:31.903Z"
   },
   {
    "duration": 7,
    "start_time": "2022-01-23T17:26:31.975Z"
   },
   {
    "duration": 21,
    "start_time": "2022-01-23T17:26:31.984Z"
   },
   {
    "duration": 36,
    "start_time": "2022-01-23T17:26:32.007Z"
   },
   {
    "duration": 108,
    "start_time": "2022-01-23T17:26:32.045Z"
   },
   {
    "duration": 33,
    "start_time": "2022-01-23T17:26:32.155Z"
   },
   {
    "duration": 11,
    "start_time": "2022-01-23T17:26:32.190Z"
   },
   {
    "duration": 27,
    "start_time": "2022-01-23T17:26:32.203Z"
   },
   {
    "duration": 12,
    "start_time": "2022-01-23T17:26:32.232Z"
   },
   {
    "duration": 7,
    "start_time": "2022-01-23T17:26:32.245Z"
   },
   {
    "duration": 5,
    "start_time": "2022-01-23T17:26:32.254Z"
   },
   {
    "duration": 28,
    "start_time": "2022-01-23T17:26:32.261Z"
   },
   {
    "duration": 70,
    "start_time": "2022-01-23T17:26:32.291Z"
   },
   {
    "duration": 32,
    "start_time": "2022-01-23T17:26:32.363Z"
   },
   {
    "duration": 5,
    "start_time": "2022-01-23T17:26:32.397Z"
   },
   {
    "duration": 24,
    "start_time": "2022-01-23T17:26:32.403Z"
   },
   {
    "duration": 5,
    "start_time": "2022-01-23T17:26:32.429Z"
   },
   {
    "duration": 6,
    "start_time": "2022-01-23T17:26:32.436Z"
   },
   {
    "duration": 520,
    "start_time": "2022-01-23T17:26:32.444Z"
   },
   {
    "duration": 22,
    "start_time": "2022-01-23T17:26:32.968Z"
   },
   {
    "duration": 219,
    "start_time": "2022-01-23T17:26:32.991Z"
   },
   {
    "duration": 175,
    "start_time": "2022-01-23T17:26:33.212Z"
   },
   {
    "duration": 174,
    "start_time": "2022-01-23T17:26:33.389Z"
   },
   {
    "duration": 175,
    "start_time": "2022-01-23T17:26:33.565Z"
   },
   {
    "duration": 166,
    "start_time": "2022-01-23T17:26:33.742Z"
   },
   {
    "duration": 18,
    "start_time": "2022-01-23T17:26:33.910Z"
   },
   {
    "duration": 28,
    "start_time": "2022-01-23T17:26:33.929Z"
   },
   {
    "duration": 22,
    "start_time": "2022-01-23T17:26:33.959Z"
   },
   {
    "duration": 45,
    "start_time": "2022-01-23T17:26:33.983Z"
   },
   {
    "duration": 832,
    "start_time": "2022-01-23T17:26:34.029Z"
   },
   {
    "duration": 219,
    "start_time": "2022-01-23T17:26:34.863Z"
   },
   {
    "duration": 183,
    "start_time": "2022-01-23T17:26:35.083Z"
   },
   {
    "duration": 764,
    "start_time": "2022-01-23T17:26:35.267Z"
   },
   {
    "duration": 23,
    "start_time": "2022-01-23T17:26:36.033Z"
   },
   {
    "duration": 6,
    "start_time": "2022-01-23T17:26:36.058Z"
   },
   {
    "duration": 8,
    "start_time": "2022-01-23T17:26:36.065Z"
   },
   {
    "duration": 3,
    "start_time": "2022-01-23T17:26:36.074Z"
   },
   {
    "duration": 193,
    "start_time": "2022-01-23T17:26:36.078Z"
   },
   {
    "duration": 170,
    "start_time": "2022-01-23T17:26:36.272Z"
   },
   {
    "duration": 157,
    "start_time": "2022-01-23T17:26:36.443Z"
   },
   {
    "duration": 169,
    "start_time": "2022-01-23T17:26:36.602Z"
   },
   {
    "duration": 148,
    "start_time": "2022-01-23T17:26:36.773Z"
   },
   {
    "duration": 5,
    "start_time": "2022-01-23T17:37:01.702Z"
   },
   {
    "duration": 5,
    "start_time": "2022-01-23T17:37:34.638Z"
   },
   {
    "duration": 183,
    "start_time": "2022-01-23T17:37:56.473Z"
   },
   {
    "duration": 178,
    "start_time": "2022-01-23T17:38:48.376Z"
   },
   {
    "duration": 200,
    "start_time": "2022-01-23T17:40:51.251Z"
   },
   {
    "duration": 113,
    "start_time": "2022-01-23T17:42:24.118Z"
   },
   {
    "duration": 99,
    "start_time": "2022-01-23T17:45:39.497Z"
   },
   {
    "duration": 166,
    "start_time": "2022-01-23T17:52:20.148Z"
   },
   {
    "duration": 170,
    "start_time": "2022-01-23T17:56:02.898Z"
   },
   {
    "duration": 239,
    "start_time": "2022-01-23T17:57:08.547Z"
   },
   {
    "duration": 182,
    "start_time": "2022-01-23T17:58:11.298Z"
   },
   {
    "duration": 192,
    "start_time": "2022-01-23T18:00:30.783Z"
   },
   {
    "duration": 813,
    "start_time": "2022-01-23T18:06:38.116Z"
   },
   {
    "duration": 213,
    "start_time": "2022-01-23T18:08:33.749Z"
   },
   {
    "duration": 175,
    "start_time": "2022-01-23T18:15:10.855Z"
   },
   {
    "duration": 731,
    "start_time": "2022-01-23T18:16:46.301Z"
   },
   {
    "duration": 175,
    "start_time": "2022-01-23T18:18:46.442Z"
   },
   {
    "duration": 252,
    "start_time": "2022-01-23T18:19:10.213Z"
   },
   {
    "duration": 180,
    "start_time": "2022-01-23T18:20:45.224Z"
   },
   {
    "duration": 166,
    "start_time": "2022-01-23T18:21:54.605Z"
   },
   {
    "duration": 170,
    "start_time": "2022-01-23T18:23:05.274Z"
   },
   {
    "duration": 161,
    "start_time": "2022-01-23T18:23:20.618Z"
   },
   {
    "duration": 156,
    "start_time": "2022-01-23T18:24:15.680Z"
   },
   {
    "duration": 675,
    "start_time": "2022-01-23T18:36:36.816Z"
   },
   {
    "duration": 85,
    "start_time": "2022-01-23T18:36:37.493Z"
   },
   {
    "duration": 10,
    "start_time": "2022-01-23T18:36:37.579Z"
   },
   {
    "duration": 68,
    "start_time": "2022-01-23T18:36:37.590Z"
   },
   {
    "duration": 6,
    "start_time": "2022-01-23T18:36:37.660Z"
   },
   {
    "duration": 19,
    "start_time": "2022-01-23T18:36:37.668Z"
   },
   {
    "duration": 16,
    "start_time": "2022-01-23T18:36:37.689Z"
   },
   {
    "duration": 110,
    "start_time": "2022-01-23T18:36:37.727Z"
   },
   {
    "duration": 33,
    "start_time": "2022-01-23T18:36:37.839Z"
   },
   {
    "duration": 10,
    "start_time": "2022-01-23T18:36:37.873Z"
   },
   {
    "duration": 6,
    "start_time": "2022-01-23T18:36:37.885Z"
   },
   {
    "duration": 37,
    "start_time": "2022-01-23T18:36:37.892Z"
   },
   {
    "duration": 8,
    "start_time": "2022-01-23T18:36:37.930Z"
   },
   {
    "duration": 6,
    "start_time": "2022-01-23T18:36:37.939Z"
   },
   {
    "duration": 35,
    "start_time": "2022-01-23T18:36:37.946Z"
   },
   {
    "duration": 67,
    "start_time": "2022-01-23T18:36:37.983Z"
   },
   {
    "duration": 34,
    "start_time": "2022-01-23T18:36:38.052Z"
   },
   {
    "duration": 5,
    "start_time": "2022-01-23T18:36:38.087Z"
   },
   {
    "duration": 6,
    "start_time": "2022-01-23T18:36:38.094Z"
   },
   {
    "duration": 31,
    "start_time": "2022-01-23T18:36:38.101Z"
   },
   {
    "duration": 5,
    "start_time": "2022-01-23T18:36:38.133Z"
   },
   {
    "duration": 538,
    "start_time": "2022-01-23T18:36:38.140Z"
   },
   {
    "duration": 22,
    "start_time": "2022-01-23T18:36:38.681Z"
   },
   {
    "duration": 250,
    "start_time": "2022-01-23T18:36:38.706Z"
   },
   {
    "duration": 185,
    "start_time": "2022-01-23T18:36:38.958Z"
   },
   {
    "duration": 190,
    "start_time": "2022-01-23T18:36:39.145Z"
   },
   {
    "duration": 215,
    "start_time": "2022-01-23T18:36:39.337Z"
   },
   {
    "duration": 203,
    "start_time": "2022-01-23T18:36:39.554Z"
   },
   {
    "duration": 10,
    "start_time": "2022-01-23T18:36:39.759Z"
   },
   {
    "duration": 28,
    "start_time": "2022-01-23T18:36:39.770Z"
   },
   {
    "duration": 44,
    "start_time": "2022-01-23T18:36:39.800Z"
   },
   {
    "duration": 17,
    "start_time": "2022-01-23T18:36:39.846Z"
   },
   {
    "duration": 847,
    "start_time": "2022-01-23T18:36:39.865Z"
   },
   {
    "duration": 228,
    "start_time": "2022-01-23T18:36:40.714Z"
   },
   {
    "duration": 197,
    "start_time": "2022-01-23T18:36:40.943Z"
   },
   {
    "duration": 798,
    "start_time": "2022-01-23T18:36:41.142Z"
   },
   {
    "duration": 22,
    "start_time": "2022-01-23T18:36:41.942Z"
   },
   {
    "duration": 7,
    "start_time": "2022-01-23T18:36:41.965Z"
   },
   {
    "duration": 57,
    "start_time": "2022-01-23T18:36:41.973Z"
   },
   {
    "duration": 3,
    "start_time": "2022-01-23T18:36:42.032Z"
   },
   {
    "duration": 217,
    "start_time": "2022-01-23T18:36:42.037Z"
   },
   {
    "duration": 180,
    "start_time": "2022-01-23T18:36:42.255Z"
   },
   {
    "duration": 175,
    "start_time": "2022-01-23T18:36:42.436Z"
   },
   {
    "duration": 164,
    "start_time": "2022-01-23T18:36:42.613Z"
   },
   {
    "duration": 170,
    "start_time": "2022-01-23T18:36:42.779Z"
   },
   {
    "duration": 774,
    "start_time": "2022-01-23T18:42:50.676Z"
   },
   {
    "duration": 94,
    "start_time": "2022-01-23T18:42:51.452Z"
   },
   {
    "duration": 9,
    "start_time": "2022-01-23T18:42:51.548Z"
   },
   {
    "duration": 94,
    "start_time": "2022-01-23T18:42:51.559Z"
   },
   {
    "duration": 10,
    "start_time": "2022-01-23T18:42:51.655Z"
   },
   {
    "duration": 25,
    "start_time": "2022-01-23T18:42:51.666Z"
   },
   {
    "duration": 42,
    "start_time": "2022-01-23T18:42:51.693Z"
   },
   {
    "duration": 114,
    "start_time": "2022-01-23T18:42:51.737Z"
   },
   {
    "duration": 36,
    "start_time": "2022-01-23T18:42:51.853Z"
   },
   {
    "duration": 12,
    "start_time": "2022-01-23T18:42:51.890Z"
   },
   {
    "duration": 24,
    "start_time": "2022-01-23T18:42:51.904Z"
   },
   {
    "duration": 17,
    "start_time": "2022-01-23T18:42:51.930Z"
   },
   {
    "duration": 9,
    "start_time": "2022-01-23T18:42:51.948Z"
   },
   {
    "duration": 7,
    "start_time": "2022-01-23T18:42:51.959Z"
   },
   {
    "duration": 64,
    "start_time": "2022-01-23T18:42:51.968Z"
   },
   {
    "duration": 42,
    "start_time": "2022-01-23T18:42:52.034Z"
   },
   {
    "duration": 57,
    "start_time": "2022-01-23T18:42:52.079Z"
   },
   {
    "duration": 5,
    "start_time": "2022-01-23T18:42:52.137Z"
   },
   {
    "duration": 9,
    "start_time": "2022-01-23T18:42:52.143Z"
   },
   {
    "duration": 6,
    "start_time": "2022-01-23T18:42:52.153Z"
   },
   {
    "duration": 5,
    "start_time": "2022-01-23T18:42:52.161Z"
   },
   {
    "duration": 569,
    "start_time": "2022-01-23T18:42:52.167Z"
   },
   {
    "duration": 22,
    "start_time": "2022-01-23T18:42:52.739Z"
   },
   {
    "duration": 241,
    "start_time": "2022-01-23T18:42:52.763Z"
   },
   {
    "duration": 245,
    "start_time": "2022-01-23T18:42:53.006Z"
   },
   {
    "duration": 205,
    "start_time": "2022-01-23T18:42:53.254Z"
   },
   {
    "duration": 225,
    "start_time": "2022-01-23T18:42:53.461Z"
   },
   {
    "duration": 196,
    "start_time": "2022-01-23T18:42:53.688Z"
   },
   {
    "duration": 10,
    "start_time": "2022-01-23T18:42:53.885Z"
   },
   {
    "duration": 45,
    "start_time": "2022-01-23T18:42:53.896Z"
   },
   {
    "duration": 24,
    "start_time": "2022-01-23T18:42:53.942Z"
   },
   {
    "duration": 17,
    "start_time": "2022-01-23T18:42:53.968Z"
   },
   {
    "duration": 911,
    "start_time": "2022-01-23T18:42:53.987Z"
   },
   {
    "duration": 261,
    "start_time": "2022-01-23T18:42:54.900Z"
   },
   {
    "duration": 198,
    "start_time": "2022-01-23T18:42:55.163Z"
   },
   {
    "duration": 827,
    "start_time": "2022-01-23T18:42:55.363Z"
   },
   {
    "duration": 22,
    "start_time": "2022-01-23T18:42:56.192Z"
   },
   {
    "duration": 8,
    "start_time": "2022-01-23T18:42:56.228Z"
   },
   {
    "duration": 13,
    "start_time": "2022-01-23T18:42:56.238Z"
   },
   {
    "duration": 5,
    "start_time": "2022-01-23T18:42:56.252Z"
   },
   {
    "duration": 215,
    "start_time": "2022-01-23T18:42:56.258Z"
   },
   {
    "duration": 225,
    "start_time": "2022-01-23T18:42:56.475Z"
   },
   {
    "duration": 176,
    "start_time": "2022-01-23T18:42:56.702Z"
   },
   {
    "duration": 175,
    "start_time": "2022-01-23T18:42:56.880Z"
   },
   {
    "duration": 178,
    "start_time": "2022-01-23T18:42:57.057Z"
   }
  ],
  "kernelspec": {
   "display_name": "Python 3 (ipykernel)",
   "language": "python",
   "name": "python3"
  },
  "language_info": {
   "codemirror_mode": {
    "name": "ipython",
    "version": 3
   },
   "file_extension": ".py",
   "mimetype": "text/x-python",
   "name": "python",
   "nbconvert_exporter": "python",
   "pygments_lexer": "ipython3",
   "version": "3.9.12"
  },
  "toc": {
   "base_numbering": 1,
   "nav_menu": {},
   "number_sections": true,
   "sideBar": true,
   "skip_h1_title": true,
   "title_cell": "Содержание",
   "title_sidebar": "Contents",
   "toc_cell": true,
   "toc_position": {
    "height": "calc(100% - 180px)",
    "left": "10px",
    "top": "150px",
    "width": "250.71px"
   },
   "toc_section_display": true,
   "toc_window_display": true
  }
 },
 "nbformat": 4,
 "nbformat_minor": 2
}
