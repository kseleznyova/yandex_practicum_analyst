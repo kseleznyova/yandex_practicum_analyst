{
 "cells": [
  {
   "cell_type": "markdown",
   "id": "bc302d1b",
   "metadata": {},
   "source": [
    "## Импортируем необходимые данные"
   ]
  },
  {
   "cell_type": "code",
   "execution_count": 1,
   "id": "2b6e6be2",
   "metadata": {
    "tags": [
     "aa81075c-062f-4de0-b5fe-14c73dc7468e"
    ]
   },
   "outputs": [],
   "source": [
    "import pandas as pd\n",
    "import numpy as np\n",
    "\n",
    "from sqlalchemy import create_engine"
   ]
  },
  {
   "cell_type": "code",
   "execution_count": 2,
   "id": "6ed3f9b7",
   "metadata": {},
   "outputs": [],
   "source": [
    "path_to_db = '/datasets/telecomm_csi.db'\n",
    "engine = create_engine(f'sqlite:///{path_to_db}', echo = False)"
   ]
  },
  {
   "cell_type": "code",
   "execution_count": 3,
   "id": "5b3a31cc",
   "metadata": {},
   "outputs": [],
   "source": [
    "query = \"\"\"\n",
    "SELECT USER.user_id,\n",
    "       USER.lt_day,\n",
    "       CASE\n",
    "           WHEN USER.lt_day <= 365 THEN 'новый'\n",
    "           WHEN USER.lt_day > 365 THEN 'не новый'\n",
    "       END AS is_new,\n",
    "       USER.age,\n",
    "       CASE \n",
    "           WHEN USER.gender_segment = 1 THEN 'женщина'\n",
    "           WHEN USER.gender_segment = 0 THEN 'мужчина'\n",
    "       END AS gender_segment,\n",
    "       USER.os_name,\n",
    "       USER.cpe_type_name,\n",
    "       location.country,\n",
    "       location.city,\n",
    "       age_segment.title AS age_segment,\n",
    "       traffic_segment.title AS traffic_segment,\n",
    "       lifetime_segment.title AS lifetime_segment,\n",
    "       USER.nps_score,\n",
    "       CASE \n",
    "           WHEN USER.nps_score < 7 THEN 'критики'\n",
    "           WHEN USER.nps_score > 6 AND USER.nps_score < 9 THEN 'нейтралы'\n",
    "           WHEN USER.nps_score > 8 THEN 'сторонники'\n",
    "       END AS nps_group\n",
    "FROM USER AS USER\n",
    "JOIN location AS location ON USER.location_id = location.location_id\n",
    "JOIN age_segment AS age_segment ON USER.age_gr_id = age_segment.age_gr_id\n",
    "JOIN traffic_segment AS traffic_segment ON USER.tr_gr_id = traffic_segment.tr_gr_id\n",
    "JOIN lifetime_segment AS lifetime_segment ON USER.lt_gr_id = lifetime_segment.lt_gr_id ;\n",
    "\"\"\""
   ]
  },
  {
   "cell_type": "code",
   "execution_count": 4,
   "id": "66022b8b",
   "metadata": {},
   "outputs": [
    {
     "data": {
      "text/html": [
       "<div>\n",
       "<style scoped>\n",
       "    .dataframe tbody tr th:only-of-type {\n",
       "        vertical-align: middle;\n",
       "    }\n",
       "\n",
       "    .dataframe tbody tr th {\n",
       "        vertical-align: top;\n",
       "    }\n",
       "\n",
       "    .dataframe thead th {\n",
       "        text-align: right;\n",
       "    }\n",
       "</style>\n",
       "<table border=\"1\" class=\"dataframe\">\n",
       "  <thead>\n",
       "    <tr style=\"text-align: right;\">\n",
       "      <th></th>\n",
       "      <th>user_id</th>\n",
       "      <th>lt_day</th>\n",
       "      <th>is_new</th>\n",
       "      <th>age</th>\n",
       "      <th>gender_segment</th>\n",
       "      <th>os_name</th>\n",
       "      <th>cpe_type_name</th>\n",
       "      <th>country</th>\n",
       "      <th>city</th>\n",
       "      <th>age_segment</th>\n",
       "      <th>traffic_segment</th>\n",
       "      <th>lifetime_segment</th>\n",
       "      <th>nps_score</th>\n",
       "      <th>nps_group</th>\n",
       "    </tr>\n",
       "  </thead>\n",
       "  <tbody>\n",
       "    <tr>\n",
       "      <th>0</th>\n",
       "      <td>A001A2</td>\n",
       "      <td>2320</td>\n",
       "      <td>не новый</td>\n",
       "      <td>45.0</td>\n",
       "      <td>женщина</td>\n",
       "      <td>ANDROID</td>\n",
       "      <td>SMARTPHONE</td>\n",
       "      <td>Россия</td>\n",
       "      <td>Уфа</td>\n",
       "      <td>05 45-54</td>\n",
       "      <td>04 1-5</td>\n",
       "      <td>08 36+</td>\n",
       "      <td>10</td>\n",
       "      <td>сторонники</td>\n",
       "    </tr>\n",
       "    <tr>\n",
       "      <th>1</th>\n",
       "      <td>A001WF</td>\n",
       "      <td>2344</td>\n",
       "      <td>не новый</td>\n",
       "      <td>53.0</td>\n",
       "      <td>мужчина</td>\n",
       "      <td>ANDROID</td>\n",
       "      <td>SMARTPHONE</td>\n",
       "      <td>Россия</td>\n",
       "      <td>Киров</td>\n",
       "      <td>05 45-54</td>\n",
       "      <td>04 1-5</td>\n",
       "      <td>08 36+</td>\n",
       "      <td>10</td>\n",
       "      <td>сторонники</td>\n",
       "    </tr>\n",
       "    <tr>\n",
       "      <th>2</th>\n",
       "      <td>A003Q7</td>\n",
       "      <td>467</td>\n",
       "      <td>не новый</td>\n",
       "      <td>57.0</td>\n",
       "      <td>мужчина</td>\n",
       "      <td>ANDROID</td>\n",
       "      <td>SMARTPHONE</td>\n",
       "      <td>Россия</td>\n",
       "      <td>Москва</td>\n",
       "      <td>06 55-64</td>\n",
       "      <td>08 20-25</td>\n",
       "      <td>06 13-24</td>\n",
       "      <td>10</td>\n",
       "      <td>сторонники</td>\n",
       "    </tr>\n",
       "  </tbody>\n",
       "</table>\n",
       "</div>"
      ],
      "text/plain": [
       "  user_id  lt_day    is_new   age gender_segment  os_name cpe_type_name  \\\n",
       "0  A001A2    2320  не новый  45.0        женщина  ANDROID    SMARTPHONE   \n",
       "1  A001WF    2344  не новый  53.0        мужчина  ANDROID    SMARTPHONE   \n",
       "2  A003Q7     467  не новый  57.0        мужчина  ANDROID    SMARTPHONE   \n",
       "\n",
       "  country    city age_segment traffic_segment lifetime_segment  nps_score  \\\n",
       "0  Россия     Уфа    05 45-54          04 1-5           08 36+         10   \n",
       "1  Россия   Киров    05 45-54          04 1-5           08 36+         10   \n",
       "2  Россия  Москва    06 55-64        08 20-25         06 13-24         10   \n",
       "\n",
       "    nps_group  \n",
       "0  сторонники  \n",
       "1  сторонники  \n",
       "2  сторонники  "
      ]
     },
     "execution_count": 4,
     "metadata": {},
     "output_type": "execute_result"
    }
   ],
   "source": [
    "df = pd.read_sql(query, engine)\n",
    "df.head(3)"
   ]
  },
  {
   "cell_type": "code",
   "execution_count": 5,
   "id": "1d6cc9e5",
   "metadata": {},
   "outputs": [],
   "source": [
    "df.to_csv('telecomm_csi_tableau.csv', index=False)"
   ]
  },
  {
   "cell_type": "markdown",
   "id": "21fd6a9b",
   "metadata": {},
   "source": [
    "### Ссылка на дашборд на сайте Tableau Public:"
   ]
  },
  {
   "cell_type": "markdown",
   "id": "9c58d0e9",
   "metadata": {},
   "source": [
    "https://public.tableau.com/app/profile/.65851822/viz/nps_16507141900550/Dashboardnps?publish=yes"
   ]
  },
  {
   "cell_type": "markdown",
   "id": "b8926d49",
   "metadata": {},
   "source": [
    "### Ссылка на pdf-файл с презентацией:"
   ]
  },
  {
   "cell_type": "markdown",
   "id": "9770c5c9",
   "metadata": {},
   "source": [
    "https://disk.yandex.ru/i/SLt05QDyhXw-zw"
   ]
  }
 ],
 "metadata": {
  "ExecuteTimeLog": [
   {
    "duration": 752,
    "start_time": "2021-10-03T17:40:52.731Z"
   },
   {
    "duration": 20,
    "start_time": "2021-10-03T17:40:53.486Z"
   },
   {
    "duration": 4,
    "start_time": "2021-10-03T17:41:04.638Z"
   },
   {
    "duration": 461,
    "start_time": "2021-10-03T17:41:04.912Z"
   },
   {
    "duration": 284,
    "start_time": "2021-10-03T17:41:05.376Z"
   },
   {
    "duration": 574,
    "start_time": "2021-10-06T07:55:05.029Z"
   },
   {
    "duration": 6,
    "start_time": "2021-10-06T07:55:05.605Z"
   },
   {
    "duration": 3,
    "start_time": "2021-10-06T07:55:14.685Z"
   },
   {
    "duration": 406,
    "start_time": "2021-10-06T07:55:15.522Z"
   },
   {
    "duration": 67,
    "start_time": "2021-10-06T07:55:15.929Z"
   },
   {
    "duration": 840,
    "start_time": "2021-10-07T07:54:04.647Z"
   },
   {
    "duration": 10,
    "start_time": "2021-10-07T07:54:05.490Z"
   },
   {
    "duration": 4,
    "start_time": "2021-10-07T07:54:05.544Z"
   },
   {
    "duration": 391,
    "start_time": "2021-10-07T07:54:06.237Z"
   },
   {
    "duration": 293,
    "start_time": "2021-10-07T07:54:06.654Z"
   },
   {
    "duration": 650,
    "start_time": "2022-04-21T13:09:59.691Z"
   },
   {
    "duration": 16,
    "start_time": "2022-04-21T13:10:01.539Z"
   },
   {
    "duration": 6,
    "start_time": "2022-04-21T13:10:04.442Z"
   },
   {
    "duration": 5550,
    "start_time": "2022-04-21T13:10:12.467Z"
   },
   {
    "duration": 4664,
    "start_time": "2022-04-21T13:10:18.019Z"
   },
   {
    "duration": 552,
    "start_time": "2022-04-21T13:11:25.653Z"
   },
   {
    "duration": 11,
    "start_time": "2022-04-21T13:11:26.207Z"
   },
   {
    "duration": 14,
    "start_time": "2022-04-21T13:11:26.220Z"
   },
   {
    "duration": 5591,
    "start_time": "2022-04-21T13:11:26.238Z"
   },
   {
    "duration": 4698,
    "start_time": "2022-04-21T13:11:31.831Z"
   },
   {
    "duration": 589,
    "start_time": "2022-04-21T13:19:04.826Z"
   },
   {
    "duration": 16,
    "start_time": "2022-04-21T13:19:05.417Z"
   },
   {
    "duration": 6,
    "start_time": "2022-04-21T13:19:05.437Z"
   },
   {
    "duration": 5773,
    "start_time": "2022-04-21T13:19:05.447Z"
   },
   {
    "duration": 4231,
    "start_time": "2022-04-21T13:19:11.222Z"
   },
   {
    "duration": 496,
    "start_time": "2022-05-01T04:31:00.859Z"
   },
   {
    "duration": 20,
    "start_time": "2022-05-01T04:31:01.357Z"
   },
   {
    "duration": 7,
    "start_time": "2022-05-01T04:31:01.379Z"
   },
   {
    "duration": 5843,
    "start_time": "2022-05-01T04:31:01.387Z"
   },
   {
    "duration": 3766,
    "start_time": "2022-05-01T04:31:07.231Z"
   },
   {
    "duration": 136,
    "start_time": "2022-05-01T07:32:00.176Z"
   },
   {
    "duration": 547,
    "start_time": "2022-05-01T07:42:19.247Z"
   },
   {
    "duration": 11,
    "start_time": "2022-05-01T07:42:19.796Z"
   },
   {
    "duration": 3,
    "start_time": "2022-05-01T07:42:19.809Z"
   },
   {
    "duration": 5361,
    "start_time": "2022-05-01T07:42:19.814Z"
   },
   {
    "duration": 3911,
    "start_time": "2022-05-01T07:42:25.177Z"
   },
   {
    "duration": 517,
    "start_time": "2022-05-03T05:10:34.517Z"
   },
   {
    "duration": 36,
    "start_time": "2022-05-03T05:10:35.036Z"
   },
   {
    "duration": 3,
    "start_time": "2022-05-03T05:10:35.074Z"
   },
   {
    "duration": 7606,
    "start_time": "2022-05-03T05:10:35.080Z"
   },
   {
    "duration": 4431,
    "start_time": "2022-05-03T05:10:42.688Z"
   }
  ],
  "kernelspec": {
   "display_name": "Python 3 (ipykernel)",
   "language": "python",
   "name": "python3"
  },
  "language_info": {
   "codemirror_mode": {
    "name": "ipython",
    "version": 3
   },
   "file_extension": ".py",
   "mimetype": "text/x-python",
   "name": "python",
   "nbconvert_exporter": "python",
   "pygments_lexer": "ipython3",
   "version": "3.9.12"
  },
  "toc": {
   "base_numbering": 1,
   "nav_menu": {},
   "number_sections": true,
   "sideBar": true,
   "skip_h1_title": true,
   "title_cell": "Table of Contents",
   "title_sidebar": "Contents",
   "toc_cell": false,
   "toc_position": {},
   "toc_section_display": true,
   "toc_window_display": false
  }
 },
 "nbformat": 4,
 "nbformat_minor": 5
}
