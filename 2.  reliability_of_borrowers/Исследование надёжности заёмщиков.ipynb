{
 "cells": [
  {
   "cell_type": "markdown",
   "metadata": {},
   "source": [
    "# Исследование надёжности заёмщиков\n",
    "\n",
    "Заказчик — кредитный отдел банка. Нужно разобраться, влияет ли семейное положение и количество детей клиента на факт погашения кредита в срок. Входные данные от банка — статистика о платёжеспособности клиентов.\n",
    "\n",
    "Результаты исследования будут учтены при построении модели **кредитного скоринга** — специальной системы, которая оценивает способность потенциального заёмщика вернуть кредит банку."
   ]
  },
  {
   "cell_type": "markdown",
   "metadata": {},
   "source": [
    "## Шаг 1. Откроем файл с данными и изучим общую информацию"
   ]
  },
  {
   "cell_type": "code",
   "execution_count": 1,
   "metadata": {
    "scrolled": true
   },
   "outputs": [
    {
     "data": {
      "text/html": [
       "<div>\n",
       "<style scoped>\n",
       "    .dataframe tbody tr th:only-of-type {\n",
       "        vertical-align: middle;\n",
       "    }\n",
       "\n",
       "    .dataframe tbody tr th {\n",
       "        vertical-align: top;\n",
       "    }\n",
       "\n",
       "    .dataframe thead th {\n",
       "        text-align: right;\n",
       "    }\n",
       "</style>\n",
       "<table border=\"1\" class=\"dataframe\">\n",
       "  <thead>\n",
       "    <tr style=\"text-align: right;\">\n",
       "      <th></th>\n",
       "      <th>children</th>\n",
       "      <th>days_employed</th>\n",
       "      <th>dob_years</th>\n",
       "      <th>education</th>\n",
       "      <th>education_id</th>\n",
       "      <th>family_status</th>\n",
       "      <th>family_status_id</th>\n",
       "      <th>gender</th>\n",
       "      <th>income_type</th>\n",
       "      <th>debt</th>\n",
       "      <th>total_income</th>\n",
       "      <th>purpose</th>\n",
       "    </tr>\n",
       "  </thead>\n",
       "  <tbody>\n",
       "    <tr>\n",
       "      <td>0</td>\n",
       "      <td>1</td>\n",
       "      <td>-8437.673028</td>\n",
       "      <td>42</td>\n",
       "      <td>высшее</td>\n",
       "      <td>0</td>\n",
       "      <td>женат / замужем</td>\n",
       "      <td>0</td>\n",
       "      <td>F</td>\n",
       "      <td>сотрудник</td>\n",
       "      <td>0</td>\n",
       "      <td>253875.639453</td>\n",
       "      <td>покупка жилья</td>\n",
       "    </tr>\n",
       "    <tr>\n",
       "      <td>1</td>\n",
       "      <td>1</td>\n",
       "      <td>-4024.803754</td>\n",
       "      <td>36</td>\n",
       "      <td>среднее</td>\n",
       "      <td>1</td>\n",
       "      <td>женат / замужем</td>\n",
       "      <td>0</td>\n",
       "      <td>F</td>\n",
       "      <td>сотрудник</td>\n",
       "      <td>0</td>\n",
       "      <td>112080.014102</td>\n",
       "      <td>приобретение автомобиля</td>\n",
       "    </tr>\n",
       "    <tr>\n",
       "      <td>2</td>\n",
       "      <td>0</td>\n",
       "      <td>-5623.422610</td>\n",
       "      <td>33</td>\n",
       "      <td>Среднее</td>\n",
       "      <td>1</td>\n",
       "      <td>женат / замужем</td>\n",
       "      <td>0</td>\n",
       "      <td>M</td>\n",
       "      <td>сотрудник</td>\n",
       "      <td>0</td>\n",
       "      <td>145885.952297</td>\n",
       "      <td>покупка жилья</td>\n",
       "    </tr>\n",
       "    <tr>\n",
       "      <td>3</td>\n",
       "      <td>3</td>\n",
       "      <td>-4124.747207</td>\n",
       "      <td>32</td>\n",
       "      <td>среднее</td>\n",
       "      <td>1</td>\n",
       "      <td>женат / замужем</td>\n",
       "      <td>0</td>\n",
       "      <td>M</td>\n",
       "      <td>сотрудник</td>\n",
       "      <td>0</td>\n",
       "      <td>267628.550329</td>\n",
       "      <td>дополнительное образование</td>\n",
       "    </tr>\n",
       "    <tr>\n",
       "      <td>4</td>\n",
       "      <td>0</td>\n",
       "      <td>340266.072047</td>\n",
       "      <td>53</td>\n",
       "      <td>среднее</td>\n",
       "      <td>1</td>\n",
       "      <td>гражданский брак</td>\n",
       "      <td>1</td>\n",
       "      <td>F</td>\n",
       "      <td>пенсионер</td>\n",
       "      <td>0</td>\n",
       "      <td>158616.077870</td>\n",
       "      <td>сыграть свадьбу</td>\n",
       "    </tr>\n",
       "    <tr>\n",
       "      <td>5</td>\n",
       "      <td>0</td>\n",
       "      <td>-926.185831</td>\n",
       "      <td>27</td>\n",
       "      <td>высшее</td>\n",
       "      <td>0</td>\n",
       "      <td>гражданский брак</td>\n",
       "      <td>1</td>\n",
       "      <td>M</td>\n",
       "      <td>компаньон</td>\n",
       "      <td>0</td>\n",
       "      <td>255763.565419</td>\n",
       "      <td>покупка жилья</td>\n",
       "    </tr>\n",
       "    <tr>\n",
       "      <td>6</td>\n",
       "      <td>0</td>\n",
       "      <td>-2879.202052</td>\n",
       "      <td>43</td>\n",
       "      <td>высшее</td>\n",
       "      <td>0</td>\n",
       "      <td>женат / замужем</td>\n",
       "      <td>0</td>\n",
       "      <td>F</td>\n",
       "      <td>компаньон</td>\n",
       "      <td>0</td>\n",
       "      <td>240525.971920</td>\n",
       "      <td>операции с жильем</td>\n",
       "    </tr>\n",
       "    <tr>\n",
       "      <td>7</td>\n",
       "      <td>0</td>\n",
       "      <td>-152.779569</td>\n",
       "      <td>50</td>\n",
       "      <td>СРЕДНЕЕ</td>\n",
       "      <td>1</td>\n",
       "      <td>женат / замужем</td>\n",
       "      <td>0</td>\n",
       "      <td>M</td>\n",
       "      <td>сотрудник</td>\n",
       "      <td>0</td>\n",
       "      <td>135823.934197</td>\n",
       "      <td>образование</td>\n",
       "    </tr>\n",
       "    <tr>\n",
       "      <td>8</td>\n",
       "      <td>2</td>\n",
       "      <td>-6929.865299</td>\n",
       "      <td>35</td>\n",
       "      <td>ВЫСШЕЕ</td>\n",
       "      <td>0</td>\n",
       "      <td>гражданский брак</td>\n",
       "      <td>1</td>\n",
       "      <td>F</td>\n",
       "      <td>сотрудник</td>\n",
       "      <td>0</td>\n",
       "      <td>95856.832424</td>\n",
       "      <td>на проведение свадьбы</td>\n",
       "    </tr>\n",
       "    <tr>\n",
       "      <td>9</td>\n",
       "      <td>0</td>\n",
       "      <td>-2188.756445</td>\n",
       "      <td>41</td>\n",
       "      <td>среднее</td>\n",
       "      <td>1</td>\n",
       "      <td>женат / замужем</td>\n",
       "      <td>0</td>\n",
       "      <td>M</td>\n",
       "      <td>сотрудник</td>\n",
       "      <td>0</td>\n",
       "      <td>144425.938277</td>\n",
       "      <td>покупка жилья для семьи</td>\n",
       "    </tr>\n",
       "  </tbody>\n",
       "</table>\n",
       "</div>"
      ],
      "text/plain": [
       "   children  days_employed  dob_years education  education_id  \\\n",
       "0         1   -8437.673028         42    высшее             0   \n",
       "1         1   -4024.803754         36   среднее             1   \n",
       "2         0   -5623.422610         33   Среднее             1   \n",
       "3         3   -4124.747207         32   среднее             1   \n",
       "4         0  340266.072047         53   среднее             1   \n",
       "5         0    -926.185831         27    высшее             0   \n",
       "6         0   -2879.202052         43    высшее             0   \n",
       "7         0    -152.779569         50   СРЕДНЕЕ             1   \n",
       "8         2   -6929.865299         35    ВЫСШЕЕ             0   \n",
       "9         0   -2188.756445         41   среднее             1   \n",
       "\n",
       "      family_status  family_status_id gender income_type  debt   total_income  \\\n",
       "0   женат / замужем                 0      F   сотрудник     0  253875.639453   \n",
       "1   женат / замужем                 0      F   сотрудник     0  112080.014102   \n",
       "2   женат / замужем                 0      M   сотрудник     0  145885.952297   \n",
       "3   женат / замужем                 0      M   сотрудник     0  267628.550329   \n",
       "4  гражданский брак                 1      F   пенсионер     0  158616.077870   \n",
       "5  гражданский брак                 1      M   компаньон     0  255763.565419   \n",
       "6   женат / замужем                 0      F   компаньон     0  240525.971920   \n",
       "7   женат / замужем                 0      M   сотрудник     0  135823.934197   \n",
       "8  гражданский брак                 1      F   сотрудник     0   95856.832424   \n",
       "9   женат / замужем                 0      M   сотрудник     0  144425.938277   \n",
       "\n",
       "                      purpose  \n",
       "0               покупка жилья  \n",
       "1     приобретение автомобиля  \n",
       "2               покупка жилья  \n",
       "3  дополнительное образование  \n",
       "4             сыграть свадьбу  \n",
       "5               покупка жилья  \n",
       "6           операции с жильем  \n",
       "7                 образование  \n",
       "8       на проведение свадьбы  \n",
       "9     покупка жилья для семьи  "
      ]
     },
     "metadata": {},
     "output_type": "display_data"
    }
   ],
   "source": [
    "import pandas as pd #импорт библиотеки pandas\n",
    "# pymystem3 импортируется так:\n",
    "from pymystem3 import Mystem\n",
    "m = Mystem()\n",
    "df = pd.read_csv('/datasets/data.csv') #чтение файла с данными и сохранение в df\n",
    "display(df.head(10)) # получение первых 10 строк таблицы df"
   ]
  },
  {
   "cell_type": "code",
   "execution_count": 2,
   "metadata": {},
   "outputs": [
    {
     "name": "stdout",
     "output_type": "stream",
     "text": [
      "<class 'pandas.core.frame.DataFrame'>\n",
      "RangeIndex: 21525 entries, 0 to 21524\n",
      "Data columns (total 12 columns):\n",
      "children            21525 non-null int64\n",
      "days_employed       19351 non-null float64\n",
      "dob_years           21525 non-null int64\n",
      "education           21525 non-null object\n",
      "education_id        21525 non-null int64\n",
      "family_status       21525 non-null object\n",
      "family_status_id    21525 non-null int64\n",
      "gender              21525 non-null object\n",
      "income_type         21525 non-null object\n",
      "debt                21525 non-null int64\n",
      "total_income        19351 non-null float64\n",
      "purpose             21525 non-null object\n",
      "dtypes: float64(2), int64(5), object(5)\n",
      "memory usage: 2.0+ MB\n"
     ]
    }
   ],
   "source": [
    "df.info()# получение общей информации о данных в таблице df"
   ]
  },
  {
   "cell_type": "markdown",
   "metadata": {},
   "source": [
    "**Вывод**"
   ]
  },
  {
   "cell_type": "markdown",
   "metadata": {},
   "source": [
    "Основной инструмент аналитика — `pandas`.\n"
   ]
  },
  {
   "cell_type": "markdown",
   "metadata": {},
   "source": [
    "Прочитан файл `data.csv` из папки `/datasets` и сохранен в переменной `df`."
   ]
  },
  {
   "cell_type": "markdown",
   "metadata": {},
   "source": [
    "Изучена информация о таблице. В столбцах `days_employed` и `total_income` есть пропуски."
   ]
  },
  {
   "cell_type": "markdown",
   "metadata": {},
   "source": [
    "## Шаг 2. Предобработка данных"
   ]
  },
  {
   "cell_type": "markdown",
   "metadata": {},
   "source": [
    "### Обработка пропусков"
   ]
  },
  {
   "cell_type": "markdown",
   "metadata": {},
   "source": [
    "Для начала, чтобы получше познакомиться с данными, рассмотрим количество уникальных значений в каждом столбце. И найдем видимые ошибки."
   ]
  },
  {
   "cell_type": "code",
   "execution_count": 3,
   "metadata": {},
   "outputs": [
    {
     "data": {
      "text/plain": [
       " 0     14149\n",
       " 1      4818\n",
       " 2      2055\n",
       " 3       330\n",
       " 20       76\n",
       "-1        47\n",
       " 4        41\n",
       " 5         9\n",
       "Name: children, dtype: int64"
      ]
     },
     "execution_count": 3,
     "metadata": {},
     "output_type": "execute_result"
    }
   ],
   "source": [
    "df['children'].value_counts() #Уникальные значения столбца и их количество"
   ]
  },
  {
   "cell_type": "code",
   "execution_count": 4,
   "metadata": {},
   "outputs": [
    {
     "data": {
      "text/plain": [
       "35    617\n",
       "40    609\n",
       "41    607\n",
       "34    603\n",
       "38    598\n",
       "42    597\n",
       "33    581\n",
       "39    573\n",
       "31    560\n",
       "36    555\n",
       "44    547\n",
       "29    545\n",
       "30    540\n",
       "48    538\n",
       "37    537\n",
       "50    514\n",
       "43    513\n",
       "32    510\n",
       "49    508\n",
       "28    503\n",
       "45    497\n",
       "27    493\n",
       "56    487\n",
       "52    484\n",
       "47    480\n",
       "54    479\n",
       "46    475\n",
       "58    461\n",
       "57    460\n",
       "53    459\n",
       "51    448\n",
       "59    444\n",
       "55    443\n",
       "26    408\n",
       "60    377\n",
       "25    357\n",
       "61    355\n",
       "62    352\n",
       "63    269\n",
       "64    265\n",
       "24    264\n",
       "23    254\n",
       "65    194\n",
       "66    183\n",
       "22    183\n",
       "67    167\n",
       "21    111\n",
       "0     101\n",
       "68     99\n",
       "69     85\n",
       "70     65\n",
       "71     58\n",
       "20     51\n",
       "72     33\n",
       "19     14\n",
       "73      8\n",
       "74      6\n",
       "75      1\n",
       "Name: dob_years, dtype: int64"
      ]
     },
     "execution_count": 4,
     "metadata": {},
     "output_type": "execute_result"
    }
   ],
   "source": [
    "df['dob_years'].value_counts() #Уникальные значения столбца и их количество"
   ]
  },
  {
   "cell_type": "code",
   "execution_count": 5,
   "metadata": {},
   "outputs": [
    {
     "data": {
      "text/plain": [
       "среднее                13750\n",
       "высшее                  4718\n",
       "СРЕДНЕЕ                  772\n",
       "Среднее                  711\n",
       "неоконченное высшее      668\n",
       "ВЫСШЕЕ                   274\n",
       "Высшее                   268\n",
       "начальное                250\n",
       "Неоконченное высшее       47\n",
       "НЕОКОНЧЕННОЕ ВЫСШЕЕ       29\n",
       "НАЧАЛЬНОЕ                 17\n",
       "Начальное                 15\n",
       "ученая степень             4\n",
       "Ученая степень             1\n",
       "УЧЕНАЯ СТЕПЕНЬ             1\n",
       "Name: education, dtype: int64"
      ]
     },
     "execution_count": 5,
     "metadata": {},
     "output_type": "execute_result"
    }
   ],
   "source": [
    "df['education'].value_counts() #Уникальные значения столбца и их количество"
   ]
  },
  {
   "cell_type": "code",
   "execution_count": 6,
   "metadata": {},
   "outputs": [
    {
     "data": {
      "text/plain": [
       "1    15233\n",
       "0     5260\n",
       "2      744\n",
       "3      282\n",
       "4        6\n",
       "Name: education_id, dtype: int64"
      ]
     },
     "execution_count": 6,
     "metadata": {},
     "output_type": "execute_result"
    }
   ],
   "source": [
    "df['education_id'].value_counts() #Уникальные значения столбца и их количество"
   ]
  },
  {
   "cell_type": "code",
   "execution_count": 7,
   "metadata": {},
   "outputs": [
    {
     "data": {
      "text/plain": [
       "женат / замужем          12380\n",
       "гражданский брак          4177\n",
       "Не женат / не замужем     2813\n",
       "в разводе                 1195\n",
       "вдовец / вдова             960\n",
       "Name: family_status, dtype: int64"
      ]
     },
     "execution_count": 7,
     "metadata": {},
     "output_type": "execute_result"
    }
   ],
   "source": [
    "df['family_status'].value_counts() #Уникальные значения столбца и их количество"
   ]
  },
  {
   "cell_type": "code",
   "execution_count": 8,
   "metadata": {},
   "outputs": [
    {
     "data": {
      "text/plain": [
       "0    12380\n",
       "1     4177\n",
       "4     2813\n",
       "3     1195\n",
       "2      960\n",
       "Name: family_status_id, dtype: int64"
      ]
     },
     "execution_count": 8,
     "metadata": {},
     "output_type": "execute_result"
    }
   ],
   "source": [
    "df['family_status_id'].value_counts() #Уникальные значения столбца и их количество"
   ]
  },
  {
   "cell_type": "code",
   "execution_count": 9,
   "metadata": {},
   "outputs": [
    {
     "data": {
      "text/plain": [
       "F      14236\n",
       "M       7288\n",
       "XNA        1\n",
       "Name: gender, dtype: int64"
      ]
     },
     "execution_count": 9,
     "metadata": {},
     "output_type": "execute_result"
    }
   ],
   "source": [
    "df['gender'].value_counts() #Уникальные значения столбца и их количество"
   ]
  },
  {
   "cell_type": "code",
   "execution_count": 10,
   "metadata": {},
   "outputs": [
    {
     "data": {
      "text/plain": [
       "array(['сотрудник', 'пенсионер', 'компаньон', 'госслужащий',\n",
       "       'безработный', 'предприниматель', 'студент', 'в декрете'],\n",
       "      dtype=object)"
      ]
     },
     "execution_count": 10,
     "metadata": {},
     "output_type": "execute_result"
    }
   ],
   "source": [
    "df['income_type'].unique() #уникальные значения столбца"
   ]
  },
  {
   "cell_type": "code",
   "execution_count": 11,
   "metadata": {},
   "outputs": [
    {
     "data": {
      "text/plain": [
       "0    19784\n",
       "1     1741\n",
       "Name: debt, dtype: int64"
      ]
     },
     "execution_count": 11,
     "metadata": {},
     "output_type": "execute_result"
    }
   ],
   "source": [
    "df['debt'].value_counts() #Уникальные значения столбца и их количество"
   ]
  },
  {
   "cell_type": "code",
   "execution_count": 12,
   "metadata": {},
   "outputs": [
    {
     "data": {
      "text/plain": [
       "112874.418757    1\n",
       "133912.272223    1\n",
       "182036.676828    1\n",
       "122421.963500    1\n",
       "198271.837248    1\n",
       "                ..\n",
       "133299.194693    1\n",
       "115080.782380    1\n",
       "84896.781597     1\n",
       "153838.839212    1\n",
       "150014.128510    1\n",
       "Name: total_income, Length: 19351, dtype: int64"
      ]
     },
     "execution_count": 12,
     "metadata": {},
     "output_type": "execute_result"
    }
   ],
   "source": [
    "df['total_income'].value_counts() #Уникальные значения столбца и их количество"
   ]
  },
  {
   "cell_type": "code",
   "execution_count": 13,
   "metadata": {},
   "outputs": [
    {
     "data": {
      "text/plain": [
       "свадьба                                   797\n",
       "на проведение свадьбы                     777\n",
       "сыграть свадьбу                           774\n",
       "операции с недвижимостью                  676\n",
       "покупка коммерческой недвижимости         664\n",
       "операции с жильем                         653\n",
       "покупка жилья для сдачи                   653\n",
       "операции с коммерческой недвижимостью     651\n",
       "жилье                                     647\n",
       "покупка жилья                             647\n",
       "покупка жилья для семьи                   641\n",
       "строительство собственной недвижимости    635\n",
       "недвижимость                              634\n",
       "операции со своей недвижимостью           630\n",
       "строительство жилой недвижимости          626\n",
       "покупка недвижимости                      624\n",
       "покупка своего жилья                      620\n",
       "строительство недвижимости                620\n",
       "ремонт жилью                              612\n",
       "покупка жилой недвижимости                607\n",
       "на покупку своего автомобиля              505\n",
       "заняться высшим образованием              496\n",
       "автомобиль                                495\n",
       "сделка с подержанным автомобилем          489\n",
       "свой автомобиль                           480\n",
       "на покупку подержанного автомобиля        479\n",
       "автомобили                                478\n",
       "на покупку автомобиля                     472\n",
       "дополнительное образование                462\n",
       "приобретение автомобиля                   462\n",
       "сделка с автомобилем                      455\n",
       "высшее образование                        453\n",
       "образование                               447\n",
       "получение дополнительного образования     447\n",
       "получение образования                     443\n",
       "профильное образование                    436\n",
       "получение высшего образования             426\n",
       "заняться образованием                     412\n",
       "Name: purpose, dtype: int64"
      ]
     },
     "execution_count": 13,
     "metadata": {},
     "output_type": "execute_result"
    }
   ],
   "source": [
    "df['purpose'].value_counts() #Уникальные значения столбца и их количество"
   ]
  },
  {
   "cell_type": "code",
   "execution_count": 14,
   "metadata": {},
   "outputs": [
    {
     "data": {
      "text/plain": [
       "-986.927316     1\n",
       "-7026.359174    1\n",
       "-4236.274243    1\n",
       "-6620.396473    1\n",
       "-1238.560080    1\n",
       "               ..\n",
       "-2849.351119    1\n",
       "-5619.328204    1\n",
       "-448.829898     1\n",
       "-1687.038672    1\n",
       "-582.538413     1\n",
       "Name: days_employed, Length: 19351, dtype: int64"
      ]
     },
     "execution_count": 14,
     "metadata": {},
     "output_type": "execute_result"
    }
   ],
   "source": [
    "df['days_employed'].value_counts() #Уникальные значения столбца и их количество"
   ]
  },
  {
   "cell_type": "markdown",
   "metadata": {},
   "source": [
    "В столбце `children` есть отрицательное число. Детей не может быть отрицательное количество. Заменим -1 на 0. Также у одного человека есть 20 детей, скорее всего это ошибка, и заменим 20 на 2."
   ]
  },
  {
   "cell_type": "code",
   "execution_count": 15,
   "metadata": {},
   "outputs": [],
   "source": [
    "df.loc[df['children'] == -1, 'children'] = 0 #замена -1 на 0\n",
    "df.loc[df['children'] == 20, 'children'] = 2 #замена 20 на 2"
   ]
  },
  {
   "cell_type": "markdown",
   "metadata": {},
   "source": [
    "Перепроверим данные:"
   ]
  },
  {
   "cell_type": "code",
   "execution_count": 16,
   "metadata": {},
   "outputs": [
    {
     "data": {
      "text/plain": [
       "array([1, 0, 3, 2, 4, 5])"
      ]
     },
     "execution_count": 16,
     "metadata": {},
     "output_type": "execute_result"
    }
   ],
   "source": [
    "df['children'].unique() #Уникальные значения столбца "
   ]
  },
  {
   "cell_type": "markdown",
   "metadata": {},
   "source": [
    "В столбце `education`, `family_status` разные регистры. Переведем все в нижний регистр и проверим результат."
   ]
  },
  {
   "cell_type": "code",
   "execution_count": 17,
   "metadata": {
    "scrolled": true
   },
   "outputs": [
    {
     "data": {
      "text/plain": [
       "array(['высшее', 'среднее', 'неоконченное высшее', 'начальное',\n",
       "       'ученая степень'], dtype=object)"
      ]
     },
     "execution_count": 17,
     "metadata": {},
     "output_type": "execute_result"
    }
   ],
   "source": [
    "df['education'] = df['education'].str.lower()\n",
    "df['education'].unique()"
   ]
  },
  {
   "cell_type": "code",
   "execution_count": 18,
   "metadata": {},
   "outputs": [
    {
     "data": {
      "text/plain": [
       "array(['женат / замужем', 'гражданский брак', 'вдовец / вдова',\n",
       "       'в разводе', 'не женат / не замужем'], dtype=object)"
      ]
     },
     "execution_count": 18,
     "metadata": {},
     "output_type": "execute_result"
    }
   ],
   "source": [
    "df['family_status'] = df['family_status'].str.lower()\n",
    "df['family_status'].unique()"
   ]
  },
  {
   "cell_type": "markdown",
   "metadata": {},
   "source": [
    "В столбцах `days_employed` и `total_income` есть пропуски, как мы выяснили из первого пункта. Такое может происходить, если человек решил не заполнять данный пункт о себе или случайно пропустил, например. Также в столбце `days_employed`есть отрицательные значения. Такое может произойти из-за соединения нескольких таблиц.  Для начала переведем столбец `days_employed` к положительным числам с помощью метода `apply(abs)`."
   ]
  },
  {
   "cell_type": "code",
   "execution_count": 19,
   "metadata": {},
   "outputs": [
    {
     "data": {
      "text/html": [
       "<div>\n",
       "<style scoped>\n",
       "    .dataframe tbody tr th:only-of-type {\n",
       "        vertical-align: middle;\n",
       "    }\n",
       "\n",
       "    .dataframe tbody tr th {\n",
       "        vertical-align: top;\n",
       "    }\n",
       "\n",
       "    .dataframe thead th {\n",
       "        text-align: right;\n",
       "    }\n",
       "</style>\n",
       "<table border=\"1\" class=\"dataframe\">\n",
       "  <thead>\n",
       "    <tr style=\"text-align: right;\">\n",
       "      <th></th>\n",
       "      <th>children</th>\n",
       "      <th>days_employed</th>\n",
       "      <th>dob_years</th>\n",
       "      <th>education</th>\n",
       "      <th>education_id</th>\n",
       "      <th>family_status</th>\n",
       "      <th>family_status_id</th>\n",
       "      <th>gender</th>\n",
       "      <th>income_type</th>\n",
       "      <th>debt</th>\n",
       "      <th>total_income</th>\n",
       "      <th>purpose</th>\n",
       "    </tr>\n",
       "  </thead>\n",
       "  <tbody>\n",
       "    <tr>\n",
       "      <td>20444</td>\n",
       "      <td>0</td>\n",
       "      <td>328728.720605</td>\n",
       "      <td>72</td>\n",
       "      <td>среднее</td>\n",
       "      <td>1</td>\n",
       "      <td>вдовец / вдова</td>\n",
       "      <td>2</td>\n",
       "      <td>F</td>\n",
       "      <td>пенсионер</td>\n",
       "      <td>0</td>\n",
       "      <td>96519.339647</td>\n",
       "      <td>покупка жилья для семьи</td>\n",
       "    </tr>\n",
       "    <tr>\n",
       "      <td>9328</td>\n",
       "      <td>2</td>\n",
       "      <td>328734.923996</td>\n",
       "      <td>41</td>\n",
       "      <td>высшее</td>\n",
       "      <td>0</td>\n",
       "      <td>женат / замужем</td>\n",
       "      <td>0</td>\n",
       "      <td>M</td>\n",
       "      <td>пенсионер</td>\n",
       "      <td>0</td>\n",
       "      <td>126997.497760</td>\n",
       "      <td>операции со своей недвижимостью</td>\n",
       "    </tr>\n",
       "    <tr>\n",
       "      <td>17782</td>\n",
       "      <td>0</td>\n",
       "      <td>328771.341387</td>\n",
       "      <td>56</td>\n",
       "      <td>среднее</td>\n",
       "      <td>1</td>\n",
       "      <td>женат / замужем</td>\n",
       "      <td>0</td>\n",
       "      <td>F</td>\n",
       "      <td>пенсионер</td>\n",
       "      <td>0</td>\n",
       "      <td>68648.047062</td>\n",
       "      <td>операции с коммерческой недвижимостью</td>\n",
       "    </tr>\n",
       "    <tr>\n",
       "      <td>14783</td>\n",
       "      <td>0</td>\n",
       "      <td>328795.726728</td>\n",
       "      <td>62</td>\n",
       "      <td>высшее</td>\n",
       "      <td>0</td>\n",
       "      <td>женат / замужем</td>\n",
       "      <td>0</td>\n",
       "      <td>F</td>\n",
       "      <td>пенсионер</td>\n",
       "      <td>0</td>\n",
       "      <td>79940.196752</td>\n",
       "      <td>на покупку своего автомобиля</td>\n",
       "    </tr>\n",
       "    <tr>\n",
       "      <td>7229</td>\n",
       "      <td>1</td>\n",
       "      <td>328827.345667</td>\n",
       "      <td>32</td>\n",
       "      <td>среднее</td>\n",
       "      <td>1</td>\n",
       "      <td>гражданский брак</td>\n",
       "      <td>1</td>\n",
       "      <td>F</td>\n",
       "      <td>пенсионер</td>\n",
       "      <td>0</td>\n",
       "      <td>122162.965695</td>\n",
       "      <td>сыграть свадьбу</td>\n",
       "    </tr>\n",
       "    <tr>\n",
       "      <td>5332</td>\n",
       "      <td>0</td>\n",
       "      <td>328834.274455</td>\n",
       "      <td>55</td>\n",
       "      <td>среднее</td>\n",
       "      <td>1</td>\n",
       "      <td>женат / замужем</td>\n",
       "      <td>0</td>\n",
       "      <td>F</td>\n",
       "      <td>пенсионер</td>\n",
       "      <td>0</td>\n",
       "      <td>49802.142892</td>\n",
       "      <td>профильное образование</td>\n",
       "    </tr>\n",
       "    <tr>\n",
       "      <td>5756</td>\n",
       "      <td>0</td>\n",
       "      <td>328842.364916</td>\n",
       "      <td>51</td>\n",
       "      <td>высшее</td>\n",
       "      <td>0</td>\n",
       "      <td>женат / замужем</td>\n",
       "      <td>0</td>\n",
       "      <td>F</td>\n",
       "      <td>пенсионер</td>\n",
       "      <td>0</td>\n",
       "      <td>189181.456572</td>\n",
       "      <td>недвижимость</td>\n",
       "    </tr>\n",
       "    <tr>\n",
       "      <td>13325</td>\n",
       "      <td>0</td>\n",
       "      <td>328862.571412</td>\n",
       "      <td>55</td>\n",
       "      <td>среднее</td>\n",
       "      <td>1</td>\n",
       "      <td>вдовец / вдова</td>\n",
       "      <td>2</td>\n",
       "      <td>F</td>\n",
       "      <td>пенсионер</td>\n",
       "      <td>0</td>\n",
       "      <td>99127.379599</td>\n",
       "      <td>на покупку автомобиля</td>\n",
       "    </tr>\n",
       "    <tr>\n",
       "      <td>3642</td>\n",
       "      <td>0</td>\n",
       "      <td>328874.270668</td>\n",
       "      <td>54</td>\n",
       "      <td>среднее</td>\n",
       "      <td>1</td>\n",
       "      <td>женат / замужем</td>\n",
       "      <td>0</td>\n",
       "      <td>F</td>\n",
       "      <td>пенсионер</td>\n",
       "      <td>0</td>\n",
       "      <td>202345.082322</td>\n",
       "      <td>строительство собственной недвижимости</td>\n",
       "    </tr>\n",
       "    <tr>\n",
       "      <td>3386</td>\n",
       "      <td>0</td>\n",
       "      <td>328895.862752</td>\n",
       "      <td>58</td>\n",
       "      <td>среднее</td>\n",
       "      <td>1</td>\n",
       "      <td>вдовец / вдова</td>\n",
       "      <td>2</td>\n",
       "      <td>F</td>\n",
       "      <td>пенсионер</td>\n",
       "      <td>0</td>\n",
       "      <td>130432.389679</td>\n",
       "      <td>образование</td>\n",
       "    </tr>\n",
       "  </tbody>\n",
       "</table>\n",
       "</div>"
      ],
      "text/plain": [
       "       children  days_employed  dob_years education  education_id  \\\n",
       "20444         0  328728.720605         72   среднее             1   \n",
       "9328          2  328734.923996         41    высшее             0   \n",
       "17782         0  328771.341387         56   среднее             1   \n",
       "14783         0  328795.726728         62    высшее             0   \n",
       "7229          1  328827.345667         32   среднее             1   \n",
       "5332          0  328834.274455         55   среднее             1   \n",
       "5756          0  328842.364916         51    высшее             0   \n",
       "13325         0  328862.571412         55   среднее             1   \n",
       "3642          0  328874.270668         54   среднее             1   \n",
       "3386          0  328895.862752         58   среднее             1   \n",
       "\n",
       "          family_status  family_status_id gender income_type  debt  \\\n",
       "20444    вдовец / вдова                 2      F   пенсионер     0   \n",
       "9328    женат / замужем                 0      M   пенсионер     0   \n",
       "17782   женат / замужем                 0      F   пенсионер     0   \n",
       "14783   женат / замужем                 0      F   пенсионер     0   \n",
       "7229   гражданский брак                 1      F   пенсионер     0   \n",
       "5332    женат / замужем                 0      F   пенсионер     0   \n",
       "5756    женат / замужем                 0      F   пенсионер     0   \n",
       "13325    вдовец / вдова                 2      F   пенсионер     0   \n",
       "3642    женат / замужем                 0      F   пенсионер     0   \n",
       "3386     вдовец / вдова                 2      F   пенсионер     0   \n",
       "\n",
       "        total_income                                 purpose  \n",
       "20444   96519.339647                 покупка жилья для семьи  \n",
       "9328   126997.497760         операции со своей недвижимостью  \n",
       "17782   68648.047062   операции с коммерческой недвижимостью  \n",
       "14783   79940.196752            на покупку своего автомобиля  \n",
       "7229   122162.965695                         сыграть свадьбу  \n",
       "5332    49802.142892                  профильное образование  \n",
       "5756   189181.456572                            недвижимость  \n",
       "13325   99127.379599                   на покупку автомобиля  \n",
       "3642   202345.082322  строительство собственной недвижимости  \n",
       "3386   130432.389679                             образование  "
      ]
     },
     "execution_count": 19,
     "metadata": {},
     "output_type": "execute_result"
    }
   ],
   "source": [
    "df[df['days_employed'] > 0].sort_values(by = 'days_employed').head(10) #оценим минимальные значения в столбце"
   ]
  },
  {
   "cell_type": "code",
   "execution_count": 20,
   "metadata": {
    "scrolled": false
   },
   "outputs": [
    {
     "data": {
      "text/html": [
       "<div>\n",
       "<style scoped>\n",
       "    .dataframe tbody tr th:only-of-type {\n",
       "        vertical-align: middle;\n",
       "    }\n",
       "\n",
       "    .dataframe tbody tr th {\n",
       "        vertical-align: top;\n",
       "    }\n",
       "\n",
       "    .dataframe thead th {\n",
       "        text-align: right;\n",
       "    }\n",
       "</style>\n",
       "<table border=\"1\" class=\"dataframe\">\n",
       "  <thead>\n",
       "    <tr style=\"text-align: right;\">\n",
       "      <th></th>\n",
       "      <th>children</th>\n",
       "      <th>days_employed</th>\n",
       "      <th>dob_years</th>\n",
       "      <th>education</th>\n",
       "      <th>education_id</th>\n",
       "      <th>family_status</th>\n",
       "      <th>family_status_id</th>\n",
       "      <th>gender</th>\n",
       "      <th>income_type</th>\n",
       "      <th>debt</th>\n",
       "      <th>total_income</th>\n",
       "      <th>purpose</th>\n",
       "    </tr>\n",
       "  </thead>\n",
       "  <tbody>\n",
       "    <tr>\n",
       "      <td>16335</td>\n",
       "      <td>1</td>\n",
       "      <td>-18388.949901</td>\n",
       "      <td>61</td>\n",
       "      <td>среднее</td>\n",
       "      <td>1</td>\n",
       "      <td>женат / замужем</td>\n",
       "      <td>0</td>\n",
       "      <td>F</td>\n",
       "      <td>сотрудник</td>\n",
       "      <td>0</td>\n",
       "      <td>186178.934089</td>\n",
       "      <td>операции с недвижимостью</td>\n",
       "    </tr>\n",
       "    <tr>\n",
       "      <td>4299</td>\n",
       "      <td>0</td>\n",
       "      <td>-17615.563266</td>\n",
       "      <td>61</td>\n",
       "      <td>среднее</td>\n",
       "      <td>1</td>\n",
       "      <td>женат / замужем</td>\n",
       "      <td>0</td>\n",
       "      <td>F</td>\n",
       "      <td>компаньон</td>\n",
       "      <td>0</td>\n",
       "      <td>122560.741753</td>\n",
       "      <td>покупка жилья</td>\n",
       "    </tr>\n",
       "    <tr>\n",
       "      <td>7329</td>\n",
       "      <td>0</td>\n",
       "      <td>-16593.472817</td>\n",
       "      <td>60</td>\n",
       "      <td>высшее</td>\n",
       "      <td>0</td>\n",
       "      <td>женат / замужем</td>\n",
       "      <td>0</td>\n",
       "      <td>F</td>\n",
       "      <td>сотрудник</td>\n",
       "      <td>0</td>\n",
       "      <td>124697.846781</td>\n",
       "      <td>заняться высшим образованием</td>\n",
       "    </tr>\n",
       "    <tr>\n",
       "      <td>17838</td>\n",
       "      <td>0</td>\n",
       "      <td>-16264.699501</td>\n",
       "      <td>59</td>\n",
       "      <td>среднее</td>\n",
       "      <td>1</td>\n",
       "      <td>женат / замужем</td>\n",
       "      <td>0</td>\n",
       "      <td>F</td>\n",
       "      <td>сотрудник</td>\n",
       "      <td>0</td>\n",
       "      <td>51238.967133</td>\n",
       "      <td>на покупку автомобиля</td>\n",
       "    </tr>\n",
       "    <tr>\n",
       "      <td>16825</td>\n",
       "      <td>0</td>\n",
       "      <td>-16119.687737</td>\n",
       "      <td>64</td>\n",
       "      <td>среднее</td>\n",
       "      <td>1</td>\n",
       "      <td>женат / замужем</td>\n",
       "      <td>0</td>\n",
       "      <td>F</td>\n",
       "      <td>сотрудник</td>\n",
       "      <td>0</td>\n",
       "      <td>91527.685995</td>\n",
       "      <td>покупка жилой недвижимости</td>\n",
       "    </tr>\n",
       "    <tr>\n",
       "      <td>3974</td>\n",
       "      <td>0</td>\n",
       "      <td>-15835.725775</td>\n",
       "      <td>64</td>\n",
       "      <td>среднее</td>\n",
       "      <td>1</td>\n",
       "      <td>гражданский брак</td>\n",
       "      <td>1</td>\n",
       "      <td>F</td>\n",
       "      <td>компаньон</td>\n",
       "      <td>0</td>\n",
       "      <td>96858.531436</td>\n",
       "      <td>сыграть свадьбу</td>\n",
       "    </tr>\n",
       "    <tr>\n",
       "      <td>1539</td>\n",
       "      <td>0</td>\n",
       "      <td>-15785.678893</td>\n",
       "      <td>59</td>\n",
       "      <td>высшее</td>\n",
       "      <td>0</td>\n",
       "      <td>не женат / не замужем</td>\n",
       "      <td>4</td>\n",
       "      <td>F</td>\n",
       "      <td>сотрудник</td>\n",
       "      <td>0</td>\n",
       "      <td>119563.851852</td>\n",
       "      <td>операции с коммерческой недвижимостью</td>\n",
       "    </tr>\n",
       "    <tr>\n",
       "      <td>4321</td>\n",
       "      <td>0</td>\n",
       "      <td>-15773.061335</td>\n",
       "      <td>61</td>\n",
       "      <td>среднее</td>\n",
       "      <td>1</td>\n",
       "      <td>гражданский брак</td>\n",
       "      <td>1</td>\n",
       "      <td>F</td>\n",
       "      <td>сотрудник</td>\n",
       "      <td>0</td>\n",
       "      <td>205868.585780</td>\n",
       "      <td>свадьба</td>\n",
       "    </tr>\n",
       "    <tr>\n",
       "      <td>7731</td>\n",
       "      <td>0</td>\n",
       "      <td>-15618.063786</td>\n",
       "      <td>64</td>\n",
       "      <td>среднее</td>\n",
       "      <td>1</td>\n",
       "      <td>женат / замужем</td>\n",
       "      <td>0</td>\n",
       "      <td>F</td>\n",
       "      <td>компаньон</td>\n",
       "      <td>0</td>\n",
       "      <td>296525.358574</td>\n",
       "      <td>высшее образование</td>\n",
       "    </tr>\n",
       "    <tr>\n",
       "      <td>15675</td>\n",
       "      <td>0</td>\n",
       "      <td>-15410.040779</td>\n",
       "      <td>65</td>\n",
       "      <td>высшее</td>\n",
       "      <td>0</td>\n",
       "      <td>женат / замужем</td>\n",
       "      <td>0</td>\n",
       "      <td>F</td>\n",
       "      <td>сотрудник</td>\n",
       "      <td>0</td>\n",
       "      <td>188800.068859</td>\n",
       "      <td>покупка жилой недвижимости</td>\n",
       "    </tr>\n",
       "  </tbody>\n",
       "</table>\n",
       "</div>"
      ],
      "text/plain": [
       "       children  days_employed  dob_years education  education_id  \\\n",
       "16335         1  -18388.949901         61   среднее             1   \n",
       "4299          0  -17615.563266         61   среднее             1   \n",
       "7329          0  -16593.472817         60    высшее             0   \n",
       "17838         0  -16264.699501         59   среднее             1   \n",
       "16825         0  -16119.687737         64   среднее             1   \n",
       "3974          0  -15835.725775         64   среднее             1   \n",
       "1539          0  -15785.678893         59    высшее             0   \n",
       "4321          0  -15773.061335         61   среднее             1   \n",
       "7731          0  -15618.063786         64   среднее             1   \n",
       "15675         0  -15410.040779         65    высшее             0   \n",
       "\n",
       "               family_status  family_status_id gender income_type  debt  \\\n",
       "16335        женат / замужем                 0      F   сотрудник     0   \n",
       "4299         женат / замужем                 0      F   компаньон     0   \n",
       "7329         женат / замужем                 0      F   сотрудник     0   \n",
       "17838        женат / замужем                 0      F   сотрудник     0   \n",
       "16825        женат / замужем                 0      F   сотрудник     0   \n",
       "3974        гражданский брак                 1      F   компаньон     0   \n",
       "1539   не женат / не замужем                 4      F   сотрудник     0   \n",
       "4321        гражданский брак                 1      F   сотрудник     0   \n",
       "7731         женат / замужем                 0      F   компаньон     0   \n",
       "15675        женат / замужем                 0      F   сотрудник     0   \n",
       "\n",
       "        total_income                                purpose  \n",
       "16335  186178.934089               операции с недвижимостью  \n",
       "4299   122560.741753                          покупка жилья  \n",
       "7329   124697.846781           заняться высшим образованием  \n",
       "17838   51238.967133                  на покупку автомобиля  \n",
       "16825   91527.685995             покупка жилой недвижимости  \n",
       "3974    96858.531436                        сыграть свадьбу  \n",
       "1539   119563.851852  операции с коммерческой недвижимостью  \n",
       "4321   205868.585780                                свадьба  \n",
       "7731   296525.358574                     высшее образование  \n",
       "15675  188800.068859             покупка жилой недвижимости  "
      ]
     },
     "execution_count": 20,
     "metadata": {},
     "output_type": "execute_result"
    }
   ],
   "source": [
    "df[df['days_employed'] < 0].sort_values(by = 'days_employed').head(10) #оценим максимальные значения в столбце"
   ]
  },
  {
   "cell_type": "markdown",
   "metadata": {},
   "source": [
    "Заметим, что некоторые люди работают/работали 300000 дней, что говорит о том, что они работают/работали примерно 1000 лет, что невозможно. Человек в своей жизни может работать примерно до 30000 дней. Скорее всего некоторые данные могут быть представлены в часах. Соответственно переведем все значения столбца в положительные числа, а далее разделим числа, которые превышают 30000, на 24. "
   ]
  },
  {
   "cell_type": "code",
   "execution_count": 21,
   "metadata": {},
   "outputs": [],
   "source": [
    "df['days_employed'] = df['days_employed'].apply(abs) \n",
    "# data['days_employed'] >30000 позволяет выбрать строки с аномально большим стажем\n",
    "df.loc[df['days_employed'] > 30000, 'days_employed'] = df.loc[df['days_employed'] > 30000, 'days_employed'] / 24 "
   ]
  },
  {
   "cell_type": "markdown",
   "metadata": {},
   "source": [
    "Затем заполним пропуски в данных столбцах с группировкой по количеству детей. Среднее значение некорректно характеризует данные, когда некоторые значения сильно выделяются среди большинства.Когда дело касается трудового стажа или заработка, разброс значений может быть большой, поэтому по отношению к упомянутым столбцам применим медиану."
   ]
  },
  {
   "cell_type": "code",
   "execution_count": 22,
   "metadata": {
    "scrolled": true
   },
   "outputs": [
    {
     "name": "stdout",
     "output_type": "stream",
     "text": [
      "1 1664.5049013073733\n",
      "0 2626.036234562627\n",
      "3 1765.0660443004722\n",
      "2 1678.1320841476213\n",
      "4 1905.879025041378\n",
      "5 1231.5714864842407\n"
     ]
    }
   ],
   "source": [
    "for children in df['children'].unique(): #применим цикл перебора по количеству детей в таблице\n",
    "    median = df.loc[df['children'] == children, 'days_employed'].median() #найдем медианное значение для определенного количества детей по трудовому стажу\n",
    "    print(children,median) #вывод значений\n",
    "    df.loc[(df['days_employed'].isna()) & (df['children'] == children), 'days_employed'] = median #замена пустых значений на медианное для определенного количества детей\n"
   ]
  },
  {
   "cell_type": "code",
   "execution_count": 23,
   "metadata": {},
   "outputs": [
    {
     "name": "stdout",
     "output_type": "stream",
     "text": [
      "1 147943.0277792188\n",
      "0 143937.20798209106\n",
      "3 157221.54927459502\n",
      "2 144600.7234995688\n",
      "4 156135.2104343605\n",
      "5 186351.41025073355\n"
     ]
    }
   ],
   "source": [
    "#Аналогичные действия для ежемесячного дохода:\n",
    "for children in df['children'].unique():\n",
    "    median = df.loc[df['children'] == children, 'total_income'].median()\n",
    "    print(children,median)\n",
    "    df.loc[(df['total_income'].isna()) & (df['children'] == children), 'total_income'] = median"
   ]
  },
  {
   "cell_type": "code",
   "execution_count": 24,
   "metadata": {},
   "outputs": [
    {
     "name": "stdout",
     "output_type": "stream",
     "text": [
      "<class 'pandas.core.frame.DataFrame'>\n",
      "RangeIndex: 21525 entries, 0 to 21524\n",
      "Data columns (total 12 columns):\n",
      "children            21525 non-null int64\n",
      "days_employed       21525 non-null float64\n",
      "dob_years           21525 non-null int64\n",
      "education           21525 non-null object\n",
      "education_id        21525 non-null int64\n",
      "family_status       21525 non-null object\n",
      "family_status_id    21525 non-null int64\n",
      "gender              21525 non-null object\n",
      "income_type         21525 non-null object\n",
      "debt                21525 non-null int64\n",
      "total_income        21525 non-null float64\n",
      "purpose             21525 non-null object\n",
      "dtypes: float64(2), int64(5), object(5)\n",
      "memory usage: 2.0+ MB\n"
     ]
    }
   ],
   "source": [
    "df.info()# получение общей информации о данных в таблице df"
   ]
  },
  {
   "cell_type": "markdown",
   "metadata": {},
   "source": [
    "**Вывод**"
   ]
  },
  {
   "cell_type": "markdown",
   "metadata": {},
   "source": [
    "В данном пункте выполнен анализ уникальных занчений по каждому столбцу. В столбце `children` заменены значений -1 и 20 на 0 и 2 соответсвенно. В столбце `education` все значения переведены в нижний регистр. В столбце `days_employed` применен модуль ко всем числам. В столбцах `days_employed`, `total_income` пропущенные значения заменены на медианные значения по группировке столбца количеству детей"
   ]
  },
  {
   "cell_type": "markdown",
   "metadata": {},
   "source": [
    "### Замена типа данных"
   ]
  },
  {
   "cell_type": "markdown",
   "metadata": {},
   "source": [
    "Сделаем столбец `days_employed` целочисленным методом `astype('int')`, так как в данном столбце находится общий трудовой стаж в днях, то есть целое число. "
   ]
  },
  {
   "cell_type": "code",
   "execution_count": 25,
   "metadata": {
    "scrolled": true
   },
   "outputs": [
    {
     "name": "stdout",
     "output_type": "stream",
     "text": [
      "<class 'pandas.core.frame.DataFrame'>\n",
      "RangeIndex: 21525 entries, 0 to 21524\n",
      "Data columns (total 12 columns):\n",
      "children            21525 non-null int64\n",
      "days_employed       21525 non-null int64\n",
      "dob_years           21525 non-null int64\n",
      "education           21525 non-null object\n",
      "education_id        21525 non-null int64\n",
      "family_status       21525 non-null object\n",
      "family_status_id    21525 non-null int64\n",
      "gender              21525 non-null object\n",
      "income_type         21525 non-null object\n",
      "debt                21525 non-null int64\n",
      "total_income        21525 non-null float64\n",
      "purpose             21525 non-null object\n",
      "dtypes: float64(1), int64(6), object(5)\n",
      "memory usage: 2.0+ MB\n"
     ]
    }
   ],
   "source": [
    "df['days_employed']=df['days_employed'].astype('int') #перевод значений столбца в тип int\n",
    "df.info()"
   ]
  },
  {
   "cell_type": "markdown",
   "metadata": {},
   "source": [
    "**Вывод**"
   ]
  },
  {
   "cell_type": "markdown",
   "metadata": {},
   "source": [
    "В данном пункте бы выполнен перевод значений столбца `days_employed` в целочисленный тип. "
   ]
  },
  {
   "cell_type": "markdown",
   "metadata": {},
   "source": [
    "### Обработка дубликатов"
   ]
  },
  {
   "cell_type": "markdown",
   "metadata": {},
   "source": [
    "В пункте 2.1 было посчитано количество уникальных значений для каждого столбца, все слова переведены в нижний регистр для удобства поиска явных дубликатов, посчитаем их количество последовательным применением методов `duplicated()`,`sum()`."
   ]
  },
  {
   "cell_type": "code",
   "execution_count": 26,
   "metadata": {},
   "outputs": [
    {
     "data": {
      "text/plain": [
       "71"
      ]
     },
     "execution_count": 26,
     "metadata": {},
     "output_type": "execute_result"
    }
   ],
   "source": [
    "df.duplicated().sum() #посчитаем количество дубликатов"
   ]
  },
  {
   "cell_type": "markdown",
   "metadata": {},
   "source": [
    "Удалим дубликаты методом `drop_duplicates()`. При вызове метода `drop_duplicates()` вместе с повторяющимися строками удаляются их индексы, поэтому используется с методом `reset_index()`."
   ]
  },
  {
   "cell_type": "code",
   "execution_count": 27,
   "metadata": {},
   "outputs": [],
   "source": [
    "df = df.drop_duplicates().reset_index(drop = True)"
   ]
  },
  {
   "cell_type": "code",
   "execution_count": 28,
   "metadata": {},
   "outputs": [
    {
     "data": {
      "text/plain": [
       "0"
      ]
     },
     "execution_count": 28,
     "metadata": {},
     "output_type": "execute_result"
    }
   ],
   "source": [
    "df.duplicated().sum() #проверим результат"
   ]
  },
  {
   "cell_type": "markdown",
   "metadata": {},
   "source": [
    "**Вывод**"
   ]
  },
  {
   "cell_type": "markdown",
   "metadata": {},
   "source": [
    "В данном пункте были удалены полные совпадения явных дубликатов. Дубликаты могли появится из-за разных регистров, некорректного количества детей, пропусков."
   ]
  },
  {
   "cell_type": "markdown",
   "metadata": {},
   "source": [
    "### Лемматизация"
   ]
  },
  {
   "cell_type": "markdown",
   "metadata": {},
   "source": [
    "Проанализируем столбец purpose, так как можно заметить, что причины для получения кредита меньше,чем количество уникальных значений столбца, так как одни и те же причины записаны по-разному. "
   ]
  },
  {
   "cell_type": "markdown",
   "metadata": {},
   "source": [
    "Одна из библиотек с функцией лемматизации на русском языке — pymystem3, разработана сотрудниками Яндекса. "
   ]
  },
  {
   "cell_type": "code",
   "execution_count": 30,
   "metadata": {},
   "outputs": [],
   "source": [
    "# функция для лемматизации столбца purpose\n",
    "def categorize(purpose):\n",
    "    purpose_lemmas = m.lemmatize(purpose) \n",
    "    if 'недвижимость' in purpose_lemmas or 'жилье' in purpose_lemmas:\n",
    "        return 'недвижимость'\n",
    "    elif 'образование' in purpose_lemmas:\n",
    "        return 'образование'\n",
    "    elif 'автомобиль' in purpose_lemmas:\n",
    "        return 'автомобиль'\n",
    "    elif 'свадьба' in purpose_lemmas:\n",
    "        return 'свадьба'\n",
    "    else:\n",
    "        return 'прочее'"
   ]
  },
  {
   "cell_type": "code",
   "execution_count": 31,
   "metadata": {},
   "outputs": [
    {
     "data": {
      "text/plain": [
       "недвижимость    10811\n",
       "автомобиль       4306\n",
       "образование      4013\n",
       "свадьба          2324\n",
       "Name: general_purpose, dtype: int64"
      ]
     },
     "execution_count": 31,
     "metadata": {},
     "output_type": "execute_result"
    }
   ],
   "source": [
    "df['general_purpose'] = df['purpose'].apply(categorize) #добавляем новый столбец в таблицу  \n",
    "df['general_purpose'].value_counts() #выводим количество уникальных значений"
   ]
  },
  {
   "cell_type": "markdown",
   "metadata": {},
   "source": [
    "**Вывод**"
   ]
  },
  {
   "cell_type": "markdown",
   "metadata": {},
   "source": [
    "В данном пункте создан отдельный столбец с леммами столбца `purpose`."
   ]
  },
  {
   "cell_type": "markdown",
   "metadata": {},
   "source": [
    "### Категоризация данных"
   ]
  },
  {
   "cell_type": "markdown",
   "metadata": {},
   "source": [
    "Думаю, одна из важных категорий — тип занятости человека, чтобы нацелиться на удержание данных людей в категории. "
   ]
  },
  {
   "cell_type": "code",
   "execution_count": 32,
   "metadata": {},
   "outputs": [
    {
     "data": {
      "text/html": [
       "<div>\n",
       "<style scoped>\n",
       "    .dataframe tbody tr th:only-of-type {\n",
       "        vertical-align: middle;\n",
       "    }\n",
       "\n",
       "    .dataframe tbody tr th {\n",
       "        vertical-align: top;\n",
       "    }\n",
       "\n",
       "    .dataframe thead th {\n",
       "        text-align: right;\n",
       "    }\n",
       "</style>\n",
       "<table border=\"1\" class=\"dataframe\">\n",
       "  <thead>\n",
       "    <tr style=\"text-align: right;\">\n",
       "      <th></th>\n",
       "      <th>income_type</th>\n",
       "    </tr>\n",
       "  </thead>\n",
       "  <tbody>\n",
       "    <tr>\n",
       "      <td>0</td>\n",
       "      <td>сотрудник</td>\n",
       "    </tr>\n",
       "    <tr>\n",
       "      <td>4</td>\n",
       "      <td>пенсионер</td>\n",
       "    </tr>\n",
       "    <tr>\n",
       "      <td>5</td>\n",
       "      <td>компаньон</td>\n",
       "    </tr>\n",
       "    <tr>\n",
       "      <td>26</td>\n",
       "      <td>госслужащий</td>\n",
       "    </tr>\n",
       "    <tr>\n",
       "      <td>3132</td>\n",
       "      <td>безработный</td>\n",
       "    </tr>\n",
       "  </tbody>\n",
       "</table>\n",
       "</div>"
      ],
      "text/plain": [
       "      income_type\n",
       "0       сотрудник\n",
       "4       пенсионер\n",
       "5       компаньон\n",
       "26    госслужащий\n",
       "3132  безработный"
      ]
     },
     "execution_count": 32,
     "metadata": {},
     "output_type": "execute_result"
    }
   ],
   "source": [
    "df_category = df[['income_type']].drop_duplicates()\n",
    "df_category.head()"
   ]
  },
  {
   "cell_type": "markdown",
   "metadata": {},
   "source": [
    "Также следует понимать в каком семейном положении находится человек. "
   ]
  },
  {
   "cell_type": "code",
   "execution_count": 33,
   "metadata": {},
   "outputs": [
    {
     "data": {
      "text/html": [
       "<div>\n",
       "<style scoped>\n",
       "    .dataframe tbody tr th:only-of-type {\n",
       "        vertical-align: middle;\n",
       "    }\n",
       "\n",
       "    .dataframe tbody tr th {\n",
       "        vertical-align: top;\n",
       "    }\n",
       "\n",
       "    .dataframe thead th {\n",
       "        text-align: right;\n",
       "    }\n",
       "</style>\n",
       "<table border=\"1\" class=\"dataframe\">\n",
       "  <thead>\n",
       "    <tr style=\"text-align: right;\">\n",
       "      <th></th>\n",
       "      <th>family_status</th>\n",
       "    </tr>\n",
       "  </thead>\n",
       "  <tbody>\n",
       "    <tr>\n",
       "      <td>0</td>\n",
       "      <td>женат / замужем</td>\n",
       "    </tr>\n",
       "    <tr>\n",
       "      <td>4</td>\n",
       "      <td>гражданский брак</td>\n",
       "    </tr>\n",
       "    <tr>\n",
       "      <td>18</td>\n",
       "      <td>вдовец / вдова</td>\n",
       "    </tr>\n",
       "    <tr>\n",
       "      <td>19</td>\n",
       "      <td>в разводе</td>\n",
       "    </tr>\n",
       "    <tr>\n",
       "      <td>24</td>\n",
       "      <td>не женат / не замужем</td>\n",
       "    </tr>\n",
       "  </tbody>\n",
       "</table>\n",
       "</div>"
      ],
      "text/plain": [
       "            family_status\n",
       "0         женат / замужем\n",
       "4        гражданский брак\n",
       "18         вдовец / вдова\n",
       "19              в разводе\n",
       "24  не женат / не замужем"
      ]
     },
     "execution_count": 33,
     "metadata": {},
     "output_type": "execute_result"
    }
   ],
   "source": [
    "df[['family_status']].drop_duplicates()"
   ]
  },
  {
   "cell_type": "markdown",
   "metadata": {},
   "source": [
    "При целях привлечения новых клиентов и удержании имеющихся необходимо понимать для каких целей люди берут кредит. "
   ]
  },
  {
   "cell_type": "code",
   "execution_count": 34,
   "metadata": {},
   "outputs": [
    {
     "data": {
      "text/html": [
       "<div>\n",
       "<style scoped>\n",
       "    .dataframe tbody tr th:only-of-type {\n",
       "        vertical-align: middle;\n",
       "    }\n",
       "\n",
       "    .dataframe tbody tr th {\n",
       "        vertical-align: top;\n",
       "    }\n",
       "\n",
       "    .dataframe thead th {\n",
       "        text-align: right;\n",
       "    }\n",
       "</style>\n",
       "<table border=\"1\" class=\"dataframe\">\n",
       "  <thead>\n",
       "    <tr style=\"text-align: right;\">\n",
       "      <th></th>\n",
       "      <th>general_purpose</th>\n",
       "    </tr>\n",
       "  </thead>\n",
       "  <tbody>\n",
       "    <tr>\n",
       "      <td>0</td>\n",
       "      <td>недвижимость</td>\n",
       "    </tr>\n",
       "    <tr>\n",
       "      <td>1</td>\n",
       "      <td>автомобиль</td>\n",
       "    </tr>\n",
       "    <tr>\n",
       "      <td>3</td>\n",
       "      <td>образование</td>\n",
       "    </tr>\n",
       "    <tr>\n",
       "      <td>4</td>\n",
       "      <td>свадьба</td>\n",
       "    </tr>\n",
       "  </tbody>\n",
       "</table>\n",
       "</div>"
      ],
      "text/plain": [
       "  general_purpose\n",
       "0    недвижимость\n",
       "1      автомобиль\n",
       "3     образование\n",
       "4         свадьба"
      ]
     },
     "execution_count": 34,
     "metadata": {},
     "output_type": "execute_result"
    }
   ],
   "source": [
    "df[['general_purpose']].drop_duplicates()"
   ]
  },
  {
   "cell_type": "markdown",
   "metadata": {},
   "source": [
    "**Вывод**"
   ]
  },
  {
   "cell_type": "markdown",
   "metadata": {},
   "source": [
    "В данном пункте подобраны категории, на которые следует обратить внимание при привлечении новых клиентов и удержании имеющихся."
   ]
  },
  {
   "cell_type": "markdown",
   "metadata": {},
   "source": [
    "## Шаг 3. Ответим на вопросы"
   ]
  },
  {
   "cell_type": "markdown",
   "metadata": {},
   "source": [
    "- Есть ли зависимость между наличием детей и возвратом кредита в срок?"
   ]
  },
  {
   "cell_type": "code",
   "execution_count": 35,
   "metadata": {},
   "outputs": [
    {
     "name": "stdout",
     "output_type": "stream",
     "text": [
      "нет детей                   13074\n",
      "1 ребенок                    4364\n",
      "2 ребенка                    1926\n",
      "не отдают вовремя кредит     1741\n",
      "3 ребенка                     303\n",
      "4 ребенка                      37\n",
      "5 детей                         9\n",
      "Name: children_debt, dtype: int64\n"
     ]
    }
   ],
   "source": [
    "def children_count(row):\n",
    "    children = row['children']\n",
    "    debt = row['debt']\n",
    "    \n",
    "    if children == 0:\n",
    "        if debt == 0:\n",
    "            return 'нет детей'\n",
    "    if children == 1:\n",
    "        if debt == 0:\n",
    "            return '1 ребенок'\n",
    "    if children == 2:\n",
    "        if debt == 0:\n",
    "            return '2 ребенка'\n",
    "    if children == 3:\n",
    "        if debt == 0:\n",
    "            return '3 ребенка'\n",
    "    if children == 4:\n",
    "        if debt == 0:\n",
    "            return '4 ребенка'\n",
    "    if children == 5:\n",
    "        if debt == 0:\n",
    "            return '5 детей'\n",
    "    return 'не отдают вовремя кредит'\n",
    "row_values =[1, 0]\n",
    "row_columns =['children', 'debt']\n",
    "row=pd.Series(data=row_values, index=row_columns)\n",
    "\n",
    "\n",
    "df['children_debt']=df.apply(children_count, axis = 1)\n",
    "print(df['children_debt'].value_counts())"
   ]
  },
  {
   "cell_type": "markdown",
   "metadata": {},
   "source": [
    "**Вывод**"
   ]
  },
  {
   "cell_type": "markdown",
   "metadata": {},
   "source": [
    "Как можно заметить люди, у которых 5 детей редко вовремя отдают кредит. Малый процент людей,отдающих вовремя кредит, составили те, кто имеют 3-4 ребенка. Чаще отдают вовремя кредит люди без детей. "
   ]
  },
  {
   "cell_type": "markdown",
   "metadata": {},
   "source": [
    "- Есть ли зависимость между семейным положением и возвратом кредита в срок?"
   ]
  },
  {
   "cell_type": "code",
   "execution_count": 36,
   "metadata": {},
   "outputs": [
    {
     "name": "stdout",
     "output_type": "stream",
     "text": [
      "женат / замужем             11408\n",
      "не отдают вовремя кредит     4277\n",
      "гражданский брак             3763\n",
      "в разводе                    1110\n",
      "вдовец / вдова                896\n",
      "Name: family_debt, dtype: int64\n"
     ]
    }
   ],
   "source": [
    "def family_count(row):\n",
    "    family_status = row['family_status']\n",
    "    debt = row['debt']\n",
    "    \n",
    "    if family_status == 'женат / замужем':\n",
    "        if debt == 0:\n",
    "            return 'женат / замужем'\n",
    "    if family_status == 'гражданский брак':\n",
    "        if debt == 0:\n",
    "            return 'гражданский брак'\n",
    "    if family_status == 'вдовец / вдова':\n",
    "        if debt == 0:\n",
    "            return 'вдовец / вдова'\n",
    "    if family_status == 'в разводе':\n",
    "        if debt == 0:\n",
    "            return 'в разводе'\n",
    "    if family_status == 'Не женат / не замужем':\n",
    "        if debt == 0:\n",
    "            return 'не женат / не замужем'\n",
    "    \n",
    "    return 'не отдают вовремя кредит'\n",
    "row_values =['Не женат / не замужем', 0]\n",
    "row_columns =['family_status', 'debt']\n",
    "row =pd.Series(data = row_values, index = row_columns)\n",
    "\n",
    "\n",
    "df['family_debt'] = df.apply(family_count, axis = 1)\n",
    "print(df['family_debt'].value_counts())"
   ]
  },
  {
   "cell_type": "markdown",
   "metadata": {},
   "source": [
    "**Вывод**"
   ]
  },
  {
   "cell_type": "markdown",
   "metadata": {},
   "source": [
    "Люди,находящиеся в браке чаще отдают вовремя кредит, чем одинокие."
   ]
  },
  {
   "cell_type": "markdown",
   "metadata": {},
   "source": [
    "- Есть ли зависимость между уровнем дохода и возвратом кредита в срок?"
   ]
  },
  {
   "cell_type": "code",
   "execution_count": 37,
   "metadata": {},
   "outputs": [
    {
     "name": "stdout",
     "output_type": "stream",
     "text": [
      "высокий доход               17611\n",
      "средний доход                1987\n",
      "не отдают вовремя кредит     1741\n",
      "низкий доход                  115\n",
      "Name: total_debt, dtype: int64\n"
     ]
    }
   ],
   "source": [
    "def total_count(row):\n",
    "    total_income = row['total_income']\n",
    "    debt = row['debt']\n",
    "    \n",
    "    if total_income < 40000:\n",
    "        if debt == 0:\n",
    "            return 'низкий доход'\n",
    "    if 40000 <= total_income <=80000:\n",
    "        if debt==0:\n",
    "            return 'средний доход'\n",
    "    if total_income > 80000:\n",
    "        if debt == 0:\n",
    "            return 'высокий доход'\n",
    "    \n",
    "    return 'не отдают вовремя кредит'\n",
    "row_values =[20000,0]\n",
    "row_columns =['total_income', 'debt']\n",
    "row =pd.Series(data = row_values, index = row_columns)\n",
    "\n",
    "\n",
    "df['total_debt'] = df.apply(total_count, axis = 1)\n",
    "print(df['total_debt'].value_counts())"
   ]
  },
  {
   "cell_type": "markdown",
   "metadata": {},
   "source": [
    "**Вывод**"
   ]
  },
  {
   "cell_type": "markdown",
   "metadata": {},
   "source": [
    "Очевидно, что люди с большим доходом чаще отдают кредит вовремя."
   ]
  },
  {
   "cell_type": "markdown",
   "metadata": {},
   "source": [
    "- Как разные цели кредита влияют на его возврат в срок?"
   ]
  },
  {
   "cell_type": "code",
   "execution_count": 38,
   "metadata": {
    "scrolled": true
   },
   "outputs": [
    {
     "name": "stdout",
     "output_type": "stream",
     "text": [
      "недвижимость                10029\n",
      "не отдают вовремя кредит     5384\n",
      "автомобиль                   3903\n",
      "свадьба                      2138\n",
      "Name: purpose_debt, dtype: int64\n"
     ]
    }
   ],
   "source": [
    "def purpose_count(row):\n",
    "    general_purpose = row['general_purpose']\n",
    "    debt = row['debt']\n",
    "    \n",
    "    if general_purpose == 'недвижимость':\n",
    "        if debt == 0:\n",
    "            return 'недвижимость'\n",
    "    if general_purpose == 'автомобиль':\n",
    "        if debt == 0:\n",
    "            return 'автомобиль'\n",
    "    if general_purpose == 'свадьба':\n",
    "        if debt == 0:\n",
    "            return 'свадьба'\n",
    "    if general_purpose == 'обучение':\n",
    "        if debt == 0:\n",
    "            return 'обучение'\n",
    "    \n",
    "    \n",
    "    return 'не отдают вовремя кредит'\n",
    "row_values =['обучение',0]\n",
    "row_columns =['general_purpose', 'debt']\n",
    "row =pd.Series(data = row_values, index = row_columns)\n",
    "\n",
    "\n",
    "df['purpose_debt'] = df.apply(purpose_count, axis = 1)\n",
    "print(df['purpose_debt'].value_counts())"
   ]
  },
  {
   "cell_type": "markdown",
   "metadata": {},
   "source": [
    "**Вывод**"
   ]
  },
  {
   "cell_type": "markdown",
   "metadata": {},
   "source": [
    "Чаще люди отдают вовремя кредит за недвижимоть, реже всего за свадьбу. За обучение не отдают вовремя кредит."
   ]
  },
  {
   "cell_type": "markdown",
   "metadata": {},
   "source": [
    "## Шаг 4. Общий вывод"
   ]
  },
  {
   "cell_type": "markdown",
   "metadata": {},
   "source": [
    "В ходе работы была изучена таблица о заемщиках и информация о данной таблицы. Просмотрены уникальные значения в каждом столбце, найдены и исправлены некорректные значения, все буквы переведены в нижний регистр, чтобы удобнее избавиться от дубликатов. Также были заполнены пропущенные значения. Значения столбца количнества отработанных дней были переведены в целочисленный формат. Также был создан отдельный столбец с конкретными причинами кредита. Выявлены категории по занятости людей,причинам кредита и семейному положени. Найдены зависимости возврата кредита в срок. люди, у которых 5 детей редко вовремя отдают кредит. Малый процент людей,отдающих вовремя кредит, составили те, кто имеют 3-4 ребенка. Чаще отдают вовремя кредит люди без детей. Люди,находящиеся в браке чаще отдают вовремя кредит, чем одинокие. Очевидно, что люди с большим доходом чаще отдают кредит вовремя. Чаще люди отдают вовремя кредит за недвижимоть, реже всего за свадьбу. За обучение не отдают вовремя кредит."
   ]
  },
  {
   "cell_type": "markdown",
   "metadata": {},
   "source": [
    "## Чек-лист готовности проекта\n",
    "\n",
    "Поставьте 'x' в выполненных пунктах. Далее нажмите Shift+Enter."
   ]
  },
  {
   "cell_type": "markdown",
   "metadata": {},
   "source": [
    "- [x]  открыт файл;\n",
    "- [x]  файл изучен;\n",
    "- [x]  определены пропущенные значения;\n",
    "- [x]  заполнены пропущенные значения;\n",
    "- [x]  есть пояснение, какие пропущенные значения обнаружены;\n",
    "- [x]  описаны возможные причины появления пропусков в данных;\n",
    "- [x]  объяснено, по какому принципу заполнены пропуски;\n",
    "- [x]  заменен вещественный тип данных на целочисленный;\n",
    "- [x]  есть пояснение, какой метод используется для изменения типа данных и почему;\n",
    "- [x]  удалены дубликаты;\n",
    "- [x]  есть пояснение, какой метод используется для поиска и удаления дубликатов;\n",
    "- [x]  описаны возможные причины появления дубликатов в данных;\n",
    "- [x]  выделены леммы в значениях столбца с целями получения кредита;\n",
    "- [x]  описан процесс лемматизации;\n",
    "- [x]  данные категоризированы;\n",
    "- [x]  есть объяснение принципа категоризации данных;\n",
    "- [x]  есть ответ на вопрос: \"Есть ли зависимость между наличием детей и возвратом кредита в срок?\";\n",
    "- [x]  есть ответ на вопрос: \"Есть ли зависимость между семейным положением и возвратом кредита в срок?\";\n",
    "- [x]  есть ответ на вопрос: \"Есть ли зависимость между уровнем дохода и возвратом кредита в срок?\";\n",
    "- [x]  есть ответ на вопрос: \"Как разные цели кредита влияют на его возврат в срок?\";\n",
    "- [x]  в каждом этапе есть выводы;\n",
    "- [x]  есть общий вывод."
   ]
  }
 ],
 "metadata": {
  "ExecuteTimeLog": [
   {
    "duration": 654,
    "start_time": "2021-12-15T18:13:23.986Z"
   },
   {
    "duration": 2470,
    "start_time": "2021-12-15T18:15:26.929Z"
   },
   {
    "duration": 2074,
    "start_time": "2021-12-15T18:20:30.608Z"
   },
   {
    "duration": 2584,
    "start_time": "2021-12-15T18:20:37.097Z"
   },
   {
    "duration": 2516,
    "start_time": "2021-12-15T18:20:49.010Z"
   },
   {
    "duration": 2054,
    "start_time": "2021-12-15T18:20:53.816Z"
   },
   {
    "duration": 2462,
    "start_time": "2021-12-15T18:25:57.735Z"
   },
   {
    "duration": 2012,
    "start_time": "2021-12-15T18:26:09.268Z"
   },
   {
    "duration": 2256,
    "start_time": "2021-12-15T18:26:31.218Z"
   },
   {
    "duration": 2574,
    "start_time": "2021-12-15T18:26:37.726Z"
   },
   {
    "duration": 2199,
    "start_time": "2021-12-15T18:26:57.737Z"
   },
   {
    "duration": 2509,
    "start_time": "2021-12-15T18:28:15.487Z"
   },
   {
    "duration": 1786,
    "start_time": "2021-12-15T18:28:43.756Z"
   },
   {
    "duration": 2070,
    "start_time": "2021-12-15T18:28:56.850Z"
   },
   {
    "duration": 1994,
    "start_time": "2021-12-15T18:30:29.742Z"
   },
   {
    "duration": 2024,
    "start_time": "2021-12-15T18:30:35.621Z"
   },
   {
    "duration": 2043,
    "start_time": "2021-12-15T18:30:42.789Z"
   },
   {
    "duration": 2013,
    "start_time": "2021-12-15T18:30:50.642Z"
   },
   {
    "duration": 2540,
    "start_time": "2021-12-15T18:31:48.668Z"
   },
   {
    "duration": 2486,
    "start_time": "2021-12-15T18:31:54.805Z"
   },
   {
    "duration": 2401,
    "start_time": "2021-12-15T18:33:06.584Z"
   },
   {
    "duration": 2247,
    "start_time": "2021-12-15T18:33:28.418Z"
   },
   {
    "duration": 2090,
    "start_time": "2021-12-15T18:37:53.679Z"
   },
   {
    "duration": 2439,
    "start_time": "2021-12-15T18:38:04.259Z"
   },
   {
    "duration": 2047,
    "start_time": "2021-12-15T18:38:30.193Z"
   },
   {
    "duration": 2535,
    "start_time": "2021-12-15T18:38:58.660Z"
   },
   {
    "duration": 2009,
    "start_time": "2021-12-15T18:39:05.717Z"
   },
   {
    "duration": 113,
    "start_time": "2021-12-15T18:44:18.547Z"
   },
   {
    "duration": 52,
    "start_time": "2021-12-15T18:44:28.684Z"
   },
   {
    "duration": 56,
    "start_time": "2021-12-15T18:44:42.140Z"
   },
   {
    "duration": 58,
    "start_time": "2021-12-15T18:45:54.354Z"
   },
   {
    "duration": 135,
    "start_time": "2021-12-15T18:48:00.579Z"
   },
   {
    "duration": 67,
    "start_time": "2021-12-15T18:53:49.752Z"
   },
   {
    "duration": 55,
    "start_time": "2021-12-15T18:54:52.422Z"
   },
   {
    "duration": 11,
    "start_time": "2021-12-15T18:59:47.708Z"
   },
   {
    "duration": 58,
    "start_time": "2021-12-15T18:59:50.481Z"
   },
   {
    "duration": 28,
    "start_time": "2021-12-15T19:10:00.698Z"
   },
   {
    "duration": 17,
    "start_time": "2021-12-15T19:10:44.014Z"
   },
   {
    "duration": 5,
    "start_time": "2021-12-15T19:36:37.350Z"
   },
   {
    "duration": 14,
    "start_time": "2021-12-15T19:37:14.003Z"
   },
   {
    "duration": 5,
    "start_time": "2021-12-15T19:37:43.921Z"
   },
   {
    "duration": 5,
    "start_time": "2021-12-15T19:39:44.858Z"
   },
   {
    "duration": 5,
    "start_time": "2021-12-15T19:40:00.522Z"
   },
   {
    "duration": 5,
    "start_time": "2021-12-15T19:42:29.891Z"
   },
   {
    "duration": 6,
    "start_time": "2021-12-15T19:43:13.773Z"
   },
   {
    "duration": 5,
    "start_time": "2021-12-15T19:44:01.951Z"
   },
   {
    "duration": 5,
    "start_time": "2021-12-15T19:44:33.236Z"
   },
   {
    "duration": 5,
    "start_time": "2021-12-15T19:44:42.585Z"
   },
   {
    "duration": 4,
    "start_time": "2021-12-15T19:45:07.177Z"
   },
   {
    "duration": 5,
    "start_time": "2021-12-15T19:45:22.249Z"
   },
   {
    "duration": 315,
    "start_time": "2021-12-15T19:46:07.955Z"
   },
   {
    "duration": 5,
    "start_time": "2021-12-15T19:46:36.722Z"
   },
   {
    "duration": 5,
    "start_time": "2021-12-15T19:46:41.261Z"
   },
   {
    "duration": 6,
    "start_time": "2021-12-15T19:47:23.096Z"
   },
   {
    "duration": 6,
    "start_time": "2021-12-15T19:47:26.714Z"
   },
   {
    "duration": 7,
    "start_time": "2021-12-15T19:47:55.132Z"
   },
   {
    "duration": 9,
    "start_time": "2021-12-15T19:48:07.997Z"
   },
   {
    "duration": 7,
    "start_time": "2021-12-15T19:48:36.157Z"
   },
   {
    "duration": 376,
    "start_time": "2021-12-16T18:47:49.037Z"
   },
   {
    "duration": 862,
    "start_time": "2021-12-16T18:47:55.375Z"
   },
   {
    "duration": 21,
    "start_time": "2021-12-16T18:48:00.153Z"
   },
   {
    "duration": 299,
    "start_time": "2021-12-16T18:48:04.017Z"
   },
   {
    "duration": 6513,
    "start_time": "2021-12-16T18:48:13.744Z"
   },
   {
    "duration": 9,
    "start_time": "2021-12-16T18:48:50.499Z"
   },
   {
    "duration": 9,
    "start_time": "2021-12-16T18:49:10.860Z"
   },
   {
    "duration": 6,
    "start_time": "2021-12-16T18:49:17.493Z"
   },
   {
    "duration": 7,
    "start_time": "2021-12-16T18:49:23.358Z"
   },
   {
    "duration": 11,
    "start_time": "2021-12-16T18:49:52.202Z"
   },
   {
    "duration": 6,
    "start_time": "2021-12-16T18:49:57.772Z"
   },
   {
    "duration": 8,
    "start_time": "2021-12-16T18:50:07.123Z"
   },
   {
    "duration": 11,
    "start_time": "2021-12-16T18:50:13.816Z"
   },
   {
    "duration": 9,
    "start_time": "2021-12-16T18:50:21.466Z"
   },
   {
    "duration": 11,
    "start_time": "2021-12-16T18:50:27.647Z"
   },
   {
    "duration": 9,
    "start_time": "2021-12-16T18:50:33.701Z"
   },
   {
    "duration": 11,
    "start_time": "2021-12-16T18:50:37.982Z"
   },
   {
    "duration": 11,
    "start_time": "2021-12-16T18:50:46.857Z"
   },
   {
    "duration": 10,
    "start_time": "2021-12-16T18:53:26.690Z"
   },
   {
    "duration": 14,
    "start_time": "2021-12-16T19:10:16.202Z"
   },
   {
    "duration": 14,
    "start_time": "2021-12-16T19:10:22.806Z"
   },
   {
    "duration": 255,
    "start_time": "2021-12-16T19:11:59.187Z"
   },
   {
    "duration": 269,
    "start_time": "2021-12-16T19:12:39.372Z"
   },
   {
    "duration": 42,
    "start_time": "2021-12-16T19:12:47.636Z"
   },
   {
    "duration": 43,
    "start_time": "2021-12-16T19:13:16.912Z"
   },
   {
    "duration": 15,
    "start_time": "2021-12-16T19:20:18.892Z"
   },
   {
    "duration": 25,
    "start_time": "2021-12-16T19:25:08.018Z"
   },
   {
    "duration": 34,
    "start_time": "2021-12-16T19:25:29.800Z"
   },
   {
    "duration": 30,
    "start_time": "2021-12-16T19:28:11.603Z"
   },
   {
    "duration": 40,
    "start_time": "2021-12-16T19:28:37.023Z"
   },
   {
    "duration": 29,
    "start_time": "2021-12-16T19:29:11.579Z"
   },
   {
    "duration": 27,
    "start_time": "2021-12-16T19:29:21.347Z"
   },
   {
    "duration": 27,
    "start_time": "2021-12-16T19:29:33.867Z"
   },
   {
    "duration": 12,
    "start_time": "2021-12-16T19:35:31.352Z"
   },
   {
    "duration": 74,
    "start_time": "2021-12-16T19:35:37.348Z"
   },
   {
    "duration": 12,
    "start_time": "2021-12-16T19:36:04.591Z"
   },
   {
    "duration": 12,
    "start_time": "2021-12-16T19:36:12.707Z"
   },
   {
    "duration": 12,
    "start_time": "2021-12-16T19:36:49.860Z"
   },
   {
    "duration": 10,
    "start_time": "2021-12-16T19:37:41.549Z"
   },
   {
    "duration": 19,
    "start_time": "2021-12-16T19:41:31.992Z"
   },
   {
    "duration": 13,
    "start_time": "2021-12-16T19:41:39.080Z"
   },
   {
    "duration": 8,
    "start_time": "2021-12-16T19:45:20.726Z"
   },
   {
    "duration": 9,
    "start_time": "2021-12-16T19:45:32.554Z"
   },
   {
    "duration": 11,
    "start_time": "2021-12-16T19:45:39.772Z"
   },
   {
    "duration": 8,
    "start_time": "2021-12-16T19:45:42.537Z"
   },
   {
    "duration": 7,
    "start_time": "2021-12-16T19:46:13.808Z"
   },
   {
    "duration": 84,
    "start_time": "2021-12-16T19:47:08.778Z"
   },
   {
    "duration": 7,
    "start_time": "2021-12-16T19:47:16.211Z"
   },
   {
    "duration": 9,
    "start_time": "2021-12-16T19:47:21.641Z"
   },
   {
    "duration": 9,
    "start_time": "2021-12-16T19:47:39.488Z"
   },
   {
    "duration": 8,
    "start_time": "2021-12-16T19:48:22.348Z"
   },
   {
    "duration": 8,
    "start_time": "2021-12-16T19:48:26.699Z"
   },
   {
    "duration": 8,
    "start_time": "2021-12-16T19:48:58.960Z"
   },
   {
    "duration": 862,
    "start_time": "2021-12-16T19:49:49.002Z"
   },
   {
    "duration": 19,
    "start_time": "2021-12-16T19:49:49.867Z"
   },
   {
    "duration": 28,
    "start_time": "2021-12-16T19:49:49.889Z"
   },
   {
    "duration": 19,
    "start_time": "2021-12-16T19:49:49.920Z"
   },
   {
    "duration": 29,
    "start_time": "2021-12-16T19:49:49.941Z"
   },
   {
    "duration": 40,
    "start_time": "2021-12-16T19:49:49.973Z"
   },
   {
    "duration": 19,
    "start_time": "2021-12-16T19:49:50.016Z"
   },
   {
    "duration": 28,
    "start_time": "2021-12-16T19:49:50.039Z"
   },
   {
    "duration": 28,
    "start_time": "2021-12-16T19:49:50.070Z"
   },
   {
    "duration": 39,
    "start_time": "2021-12-16T19:49:50.100Z"
   },
   {
    "duration": 34,
    "start_time": "2021-12-16T19:49:50.142Z"
   },
   {
    "duration": 31,
    "start_time": "2021-12-16T19:49:50.180Z"
   },
   {
    "duration": 46,
    "start_time": "2021-12-16T19:49:50.214Z"
   },
   {
    "duration": 50,
    "start_time": "2021-12-16T19:49:50.263Z"
   },
   {
    "duration": 27,
    "start_time": "2021-12-16T19:49:50.315Z"
   },
   {
    "duration": 35,
    "start_time": "2021-12-16T19:49:50.344Z"
   },
   {
    "duration": 43,
    "start_time": "2021-12-16T19:49:50.381Z"
   },
   {
    "duration": 14,
    "start_time": "2021-12-16T19:51:02.185Z"
   },
   {
    "duration": 7,
    "start_time": "2021-12-16T19:51:04.965Z"
   },
   {
    "duration": 23,
    "start_time": "2021-12-16T20:01:46.650Z"
   },
   {
    "duration": 23,
    "start_time": "2021-12-16T20:03:02.196Z"
   },
   {
    "duration": 121,
    "start_time": "2021-12-16T20:07:15.232Z"
   },
   {
    "duration": 353,
    "start_time": "2021-12-17T20:06:20.292Z"
   },
   {
    "duration": 849,
    "start_time": "2021-12-17T20:06:39.320Z"
   },
   {
    "duration": 21,
    "start_time": "2021-12-17T20:06:40.171Z"
   },
   {
    "duration": 29,
    "start_time": "2021-12-17T20:06:40.195Z"
   },
   {
    "duration": 23,
    "start_time": "2021-12-17T20:06:40.226Z"
   },
   {
    "duration": 33,
    "start_time": "2021-12-17T20:06:40.251Z"
   },
   {
    "duration": 24,
    "start_time": "2021-12-17T20:06:40.286Z"
   },
   {
    "duration": 33,
    "start_time": "2021-12-17T20:06:40.312Z"
   },
   {
    "duration": 18,
    "start_time": "2021-12-17T20:06:40.349Z"
   },
   {
    "duration": 31,
    "start_time": "2021-12-17T20:06:40.369Z"
   },
   {
    "duration": 49,
    "start_time": "2021-12-17T20:06:40.402Z"
   },
   {
    "duration": 33,
    "start_time": "2021-12-17T20:06:40.453Z"
   },
   {
    "duration": 48,
    "start_time": "2021-12-17T20:06:40.488Z"
   },
   {
    "duration": 30,
    "start_time": "2021-12-17T20:06:40.539Z"
   },
   {
    "duration": 31,
    "start_time": "2021-12-17T20:06:40.572Z"
   },
   {
    "duration": 30,
    "start_time": "2021-12-17T20:06:40.606Z"
   },
   {
    "duration": 35,
    "start_time": "2021-12-17T20:06:40.638Z"
   },
   {
    "duration": 41,
    "start_time": "2021-12-17T20:06:40.676Z"
   },
   {
    "duration": 56,
    "start_time": "2021-12-17T20:06:40.720Z"
   },
   {
    "duration": 32,
    "start_time": "2021-12-17T20:07:37.946Z"
   },
   {
    "duration": 395,
    "start_time": "2021-12-17T20:13:58.516Z"
   },
   {
    "duration": 35,
    "start_time": "2021-12-17T20:14:42.845Z"
   },
   {
    "duration": 16,
    "start_time": "2021-12-17T20:14:47.096Z"
   },
   {
    "duration": 697,
    "start_time": "2021-12-19T16:36:40.726Z"
   },
   {
    "duration": 14,
    "start_time": "2021-12-19T16:36:41.424Z"
   },
   {
    "duration": 6,
    "start_time": "2021-12-19T16:36:41.440Z"
   },
   {
    "duration": 6,
    "start_time": "2021-12-19T16:36:41.448Z"
   },
   {
    "duration": 7,
    "start_time": "2021-12-19T16:36:41.456Z"
   },
   {
    "duration": 5,
    "start_time": "2021-12-19T16:36:41.488Z"
   },
   {
    "duration": 10,
    "start_time": "2021-12-19T16:36:41.494Z"
   },
   {
    "duration": 6,
    "start_time": "2021-12-19T16:36:41.506Z"
   },
   {
    "duration": 8,
    "start_time": "2021-12-19T16:36:41.514Z"
   },
   {
    "duration": 8,
    "start_time": "2021-12-19T16:36:41.523Z"
   },
   {
    "duration": 5,
    "start_time": "2021-12-19T16:36:41.533Z"
   },
   {
    "duration": 7,
    "start_time": "2021-12-19T16:36:41.540Z"
   },
   {
    "duration": 40,
    "start_time": "2021-12-19T16:36:41.549Z"
   },
   {
    "duration": 9,
    "start_time": "2021-12-19T16:36:41.591Z"
   },
   {
    "duration": 7,
    "start_time": "2021-12-19T16:36:41.601Z"
   },
   {
    "duration": 4,
    "start_time": "2021-12-19T16:36:41.609Z"
   },
   {
    "duration": 17,
    "start_time": "2021-12-19T16:36:41.614Z"
   },
   {
    "duration": 26,
    "start_time": "2021-12-19T16:36:41.632Z"
   },
   {
    "duration": 47,
    "start_time": "2021-12-19T16:36:41.660Z"
   },
   {
    "duration": 13,
    "start_time": "2021-12-19T16:36:41.709Z"
   },
   {
    "duration": 16,
    "start_time": "2021-12-19T16:41:00.373Z"
   },
   {
    "duration": 322,
    "start_time": "2021-12-19T16:58:42.727Z"
   },
   {
    "duration": 4,
    "start_time": "2021-12-19T16:58:54.978Z"
   },
   {
    "duration": 12,
    "start_time": "2021-12-19T16:59:04.702Z"
   },
   {
    "duration": 740,
    "start_time": "2021-12-19T16:59:58.824Z"
   },
   {
    "duration": 11,
    "start_time": "2021-12-19T16:59:59.566Z"
   },
   {
    "duration": 11,
    "start_time": "2021-12-19T16:59:59.580Z"
   },
   {
    "duration": 5,
    "start_time": "2021-12-19T16:59:59.593Z"
   },
   {
    "duration": 11,
    "start_time": "2021-12-19T16:59:59.600Z"
   },
   {
    "duration": 8,
    "start_time": "2021-12-19T16:59:59.613Z"
   },
   {
    "duration": 8,
    "start_time": "2021-12-19T16:59:59.623Z"
   },
   {
    "duration": 6,
    "start_time": "2021-12-19T16:59:59.634Z"
   },
   {
    "duration": 47,
    "start_time": "2021-12-19T16:59:59.642Z"
   },
   {
    "duration": 7,
    "start_time": "2021-12-19T16:59:59.691Z"
   },
   {
    "duration": 10,
    "start_time": "2021-12-19T16:59:59.699Z"
   },
   {
    "duration": 8,
    "start_time": "2021-12-19T16:59:59.711Z"
   },
   {
    "duration": 7,
    "start_time": "2021-12-19T16:59:59.720Z"
   },
   {
    "duration": 7,
    "start_time": "2021-12-19T16:59:59.729Z"
   },
   {
    "duration": 8,
    "start_time": "2021-12-19T16:59:59.738Z"
   },
   {
    "duration": 4,
    "start_time": "2021-12-19T16:59:59.747Z"
   },
   {
    "duration": 45,
    "start_time": "2021-12-19T16:59:59.753Z"
   },
   {
    "duration": 310,
    "start_time": "2021-12-19T16:59:59.800Z"
   },
   {
    "duration": -3270,
    "start_time": "2021-12-19T17:00:03.382Z"
   },
   {
    "duration": -3302,
    "start_time": "2021-12-19T17:00:03.415Z"
   },
   {
    "duration": -3335,
    "start_time": "2021-12-19T17:00:03.449Z"
   },
   {
    "duration": 1344,
    "start_time": "2021-12-19T17:00:35.685Z"
   },
   {
    "duration": 10,
    "start_time": "2021-12-19T17:00:37.031Z"
   },
   {
    "duration": 8,
    "start_time": "2021-12-19T17:00:37.043Z"
   },
   {
    "duration": 9,
    "start_time": "2021-12-19T17:00:37.052Z"
   },
   {
    "duration": 11,
    "start_time": "2021-12-19T17:00:37.062Z"
   },
   {
    "duration": 7,
    "start_time": "2021-12-19T17:00:37.088Z"
   },
   {
    "duration": 12,
    "start_time": "2021-12-19T17:00:37.097Z"
   },
   {
    "duration": 6,
    "start_time": "2021-12-19T17:00:37.113Z"
   },
   {
    "duration": 10,
    "start_time": "2021-12-19T17:00:37.121Z"
   },
   {
    "duration": 9,
    "start_time": "2021-12-19T17:00:37.132Z"
   },
   {
    "duration": 7,
    "start_time": "2021-12-19T17:00:37.143Z"
   },
   {
    "duration": 8,
    "start_time": "2021-12-19T17:00:37.151Z"
   },
   {
    "duration": 31,
    "start_time": "2021-12-19T17:00:37.161Z"
   },
   {
    "duration": 8,
    "start_time": "2021-12-19T17:00:37.193Z"
   },
   {
    "duration": 7,
    "start_time": "2021-12-19T17:00:37.203Z"
   },
   {
    "duration": 5,
    "start_time": "2021-12-19T17:00:37.211Z"
   },
   {
    "duration": 14,
    "start_time": "2021-12-19T17:00:37.217Z"
   },
   {
    "duration": 287,
    "start_time": "2021-12-19T17:00:37.233Z"
   },
   {
    "duration": -3224,
    "start_time": "2021-12-19T17:00:40.746Z"
   },
   {
    "duration": -3233,
    "start_time": "2021-12-19T17:00:40.756Z"
   },
   {
    "duration": -3241,
    "start_time": "2021-12-19T17:00:40.765Z"
   },
   {
    "duration": 9,
    "start_time": "2021-12-19T17:19:21.420Z"
   },
   {
    "duration": 248,
    "start_time": "2021-12-19T17:19:46.335Z"
   },
   {
    "duration": 227,
    "start_time": "2021-12-19T17:19:57.165Z"
   },
   {
    "duration": 256,
    "start_time": "2021-12-19T17:20:13.897Z"
   },
   {
    "duration": 243,
    "start_time": "2021-12-19T17:23:03.976Z"
   },
   {
    "duration": 18,
    "start_time": "2021-12-19T17:23:29.933Z"
   },
   {
    "duration": 80,
    "start_time": "2021-12-19T17:23:47.234Z"
   },
   {
    "duration": 16,
    "start_time": "2021-12-19T17:23:51.268Z"
   },
   {
    "duration": 7,
    "start_time": "2021-12-19T17:25:35.815Z"
   },
   {
    "duration": 14,
    "start_time": "2021-12-19T17:28:03.131Z"
   },
   {
    "duration": 27,
    "start_time": "2021-12-19T17:28:05.916Z"
   },
   {
    "duration": 85,
    "start_time": "2021-12-19T17:36:19.026Z"
   },
   {
    "duration": 239,
    "start_time": "2021-12-19T17:37:49.651Z"
   },
   {
    "duration": 14,
    "start_time": "2021-12-19T17:52:48.867Z"
   },
   {
    "duration": 233,
    "start_time": "2021-12-19T17:52:51.637Z"
   },
   {
    "duration": 655,
    "start_time": "2021-12-19T17:58:02.149Z"
   },
   {
    "duration": 11,
    "start_time": "2021-12-19T17:58:02.805Z"
   },
   {
    "duration": 5,
    "start_time": "2021-12-19T17:58:02.818Z"
   },
   {
    "duration": 16,
    "start_time": "2021-12-19T17:58:02.824Z"
   },
   {
    "duration": 7,
    "start_time": "2021-12-19T17:58:02.841Z"
   },
   {
    "duration": 6,
    "start_time": "2021-12-19T17:58:02.849Z"
   },
   {
    "duration": 6,
    "start_time": "2021-12-19T17:58:02.857Z"
   },
   {
    "duration": 5,
    "start_time": "2021-12-19T17:58:02.889Z"
   },
   {
    "duration": 6,
    "start_time": "2021-12-19T17:58:02.896Z"
   },
   {
    "duration": 6,
    "start_time": "2021-12-19T17:58:02.904Z"
   },
   {
    "duration": 5,
    "start_time": "2021-12-19T17:58:02.911Z"
   },
   {
    "duration": 9,
    "start_time": "2021-12-19T17:58:02.918Z"
   },
   {
    "duration": 10,
    "start_time": "2021-12-19T17:58:02.929Z"
   },
   {
    "duration": 50,
    "start_time": "2021-12-19T17:58:02.941Z"
   },
   {
    "duration": 9,
    "start_time": "2021-12-19T17:58:02.992Z"
   },
   {
    "duration": 4,
    "start_time": "2021-12-19T17:58:03.002Z"
   },
   {
    "duration": 16,
    "start_time": "2021-12-19T17:58:03.008Z"
   },
   {
    "duration": 15,
    "start_time": "2021-12-19T17:58:03.025Z"
   },
   {
    "duration": 48,
    "start_time": "2021-12-19T17:58:03.042Z"
   },
   {
    "duration": 10,
    "start_time": "2021-12-19T17:58:03.092Z"
   },
   {
    "duration": 24,
    "start_time": "2021-12-19T17:58:03.104Z"
   },
   {
    "duration": 21,
    "start_time": "2021-12-19T17:58:03.129Z"
   },
   {
    "duration": 38,
    "start_time": "2021-12-19T17:58:03.153Z"
   },
   {
    "duration": 12,
    "start_time": "2021-12-19T17:58:03.192Z"
   },
   {
    "duration": 95,
    "start_time": "2021-12-19T18:02:20.078Z"
   },
   {
    "duration": 16,
    "start_time": "2021-12-19T18:03:04.401Z"
   },
   {
    "duration": 14,
    "start_time": "2021-12-19T18:13:48.961Z"
   },
   {
    "duration": 90,
    "start_time": "2021-12-19T18:16:48.892Z"
   },
   {
    "duration": 44,
    "start_time": "2021-12-19T18:23:15.199Z"
   },
   {
    "duration": 37,
    "start_time": "2021-12-19T18:23:37.744Z"
   },
   {
    "duration": 15,
    "start_time": "2021-12-19T18:24:05.553Z"
   },
   {
    "duration": 14,
    "start_time": "2021-12-19T18:24:08.681Z"
   },
   {
    "duration": 28,
    "start_time": "2021-12-19T18:24:10.594Z"
   },
   {
    "duration": 15,
    "start_time": "2021-12-19T18:24:23.353Z"
   },
   {
    "duration": 29,
    "start_time": "2021-12-19T18:25:37.763Z"
   },
   {
    "duration": 11,
    "start_time": "2021-12-19T18:25:51.336Z"
   },
   {
    "duration": 11,
    "start_time": "2021-12-19T18:25:59.822Z"
   },
   {
    "duration": 23,
    "start_time": "2021-12-19T18:28:29.401Z"
   },
   {
    "duration": 10,
    "start_time": "2021-12-19T18:28:37.497Z"
   },
   {
    "duration": 13,
    "start_time": "2021-12-19T18:28:46.149Z"
   },
   {
    "duration": 15,
    "start_time": "2021-12-19T18:31:49.195Z"
   },
   {
    "duration": 576,
    "start_time": "2021-12-19T18:31:55.645Z"
   },
   {
    "duration": 10,
    "start_time": "2021-12-19T18:31:56.223Z"
   },
   {
    "duration": 4,
    "start_time": "2021-12-19T18:31:56.235Z"
   },
   {
    "duration": 9,
    "start_time": "2021-12-19T18:31:56.241Z"
   },
   {
    "duration": 10,
    "start_time": "2021-12-19T18:31:56.252Z"
   },
   {
    "duration": 6,
    "start_time": "2021-12-19T18:31:56.264Z"
   },
   {
    "duration": 7,
    "start_time": "2021-12-19T18:31:56.288Z"
   },
   {
    "duration": 6,
    "start_time": "2021-12-19T18:31:56.297Z"
   },
   {
    "duration": 6,
    "start_time": "2021-12-19T18:31:56.305Z"
   },
   {
    "duration": 5,
    "start_time": "2021-12-19T18:31:56.313Z"
   },
   {
    "duration": 7,
    "start_time": "2021-12-19T18:31:56.319Z"
   },
   {
    "duration": 9,
    "start_time": "2021-12-19T18:31:56.327Z"
   },
   {
    "duration": 7,
    "start_time": "2021-12-19T18:31:56.338Z"
   },
   {
    "duration": 46,
    "start_time": "2021-12-19T18:31:56.346Z"
   },
   {
    "duration": 8,
    "start_time": "2021-12-19T18:31:56.394Z"
   },
   {
    "duration": 6,
    "start_time": "2021-12-19T18:31:56.403Z"
   },
   {
    "duration": 15,
    "start_time": "2021-12-19T18:31:56.410Z"
   },
   {
    "duration": 15,
    "start_time": "2021-12-19T18:31:56.427Z"
   },
   {
    "duration": 17,
    "start_time": "2021-12-19T18:31:56.443Z"
   },
   {
    "duration": 11,
    "start_time": "2021-12-19T18:31:56.487Z"
   },
   {
    "duration": 25,
    "start_time": "2021-12-19T18:31:56.500Z"
   },
   {
    "duration": 22,
    "start_time": "2021-12-19T18:31:56.526Z"
   },
   {
    "duration": 10,
    "start_time": "2021-12-19T18:31:56.550Z"
   },
   {
    "duration": 37,
    "start_time": "2021-12-19T18:31:56.561Z"
   },
   {
    "duration": 14,
    "start_time": "2021-12-19T18:31:56.600Z"
   },
   {
    "duration": 16,
    "start_time": "2021-12-19T18:31:56.616Z"
   },
   {
    "duration": 14,
    "start_time": "2021-12-19T18:31:56.633Z"
   },
   {
    "duration": 552,
    "start_time": "2021-12-19T18:45:14.376Z"
   },
   {
    "duration": 7,
    "start_time": "2021-12-19T19:06:40.267Z"
   },
   {
    "duration": 359,
    "start_time": "2021-12-19T19:07:37.874Z"
   },
   {
    "duration": 3,
    "start_time": "2021-12-19T19:15:31.848Z"
   },
   {
    "duration": 3756,
    "start_time": "2021-12-19T19:17:54.313Z"
   },
   {
    "duration": 2875,
    "start_time": "2021-12-19T19:18:12.988Z"
   },
   {
    "duration": 2586,
    "start_time": "2021-12-19T19:18:35.410Z"
   },
   {
    "duration": 3396,
    "start_time": "2021-12-19T19:23:32.323Z"
   },
   {
    "duration": 2879,
    "start_time": "2021-12-19T19:24:01.622Z"
   },
   {
    "duration": 12,
    "start_time": "2021-12-19T19:26:10.284Z"
   },
   {
    "duration": 271,
    "start_time": "2021-12-19T19:27:01.739Z"
   },
   {
    "duration": 275,
    "start_time": "2021-12-19T19:27:30.940Z"
   },
   {
    "duration": 10,
    "start_time": "2021-12-19T19:27:40.313Z"
   },
   {
    "duration": 11,
    "start_time": "2021-12-19T19:29:59.763Z"
   },
   {
    "duration": 10,
    "start_time": "2021-12-19T19:31:05.882Z"
   },
   {
    "duration": 244,
    "start_time": "2021-12-19T19:33:07.598Z"
   },
   {
    "duration": 8,
    "start_time": "2021-12-19T19:33:17.832Z"
   },
   {
    "duration": 9,
    "start_time": "2021-12-19T19:33:54.174Z"
   },
   {
    "duration": 15,
    "start_time": "2021-12-19T19:54:12.749Z"
   },
   {
    "duration": 17,
    "start_time": "2021-12-19T19:54:47.678Z"
   },
   {
    "duration": 18,
    "start_time": "2021-12-19T19:55:02.132Z"
   },
   {
    "duration": 974,
    "start_time": "2021-12-21T17:44:32.899Z"
   },
   {
    "duration": 16,
    "start_time": "2021-12-21T17:44:33.875Z"
   },
   {
    "duration": 9,
    "start_time": "2021-12-21T17:44:33.894Z"
   },
   {
    "duration": 9,
    "start_time": "2021-12-21T17:44:33.906Z"
   },
   {
    "duration": 50,
    "start_time": "2021-12-21T17:44:33.918Z"
   },
   {
    "duration": 8,
    "start_time": "2021-12-21T17:44:33.971Z"
   },
   {
    "duration": 11,
    "start_time": "2021-12-21T17:44:33.982Z"
   },
   {
    "duration": 8,
    "start_time": "2021-12-21T17:44:33.999Z"
   },
   {
    "duration": 58,
    "start_time": "2021-12-21T17:44:34.009Z"
   },
   {
    "duration": 8,
    "start_time": "2021-12-21T17:44:34.069Z"
   },
   {
    "duration": 9,
    "start_time": "2021-12-21T17:44:34.079Z"
   },
   {
    "duration": 14,
    "start_time": "2021-12-21T17:44:34.090Z"
   },
   {
    "duration": 11,
    "start_time": "2021-12-21T17:44:34.108Z"
   },
   {
    "duration": 56,
    "start_time": "2021-12-21T17:44:34.121Z"
   },
   {
    "duration": 16,
    "start_time": "2021-12-21T17:44:34.180Z"
   },
   {
    "duration": 8,
    "start_time": "2021-12-21T17:44:34.199Z"
   },
   {
    "duration": 69,
    "start_time": "2021-12-21T17:44:34.210Z"
   },
   {
    "duration": 34,
    "start_time": "2021-12-21T17:44:34.282Z"
   },
   {
    "duration": 66,
    "start_time": "2021-12-21T17:44:34.319Z"
   },
   {
    "duration": 22,
    "start_time": "2021-12-21T17:44:34.388Z"
   },
   {
    "duration": 75,
    "start_time": "2021-12-21T17:44:34.413Z"
   },
   {
    "duration": 37,
    "start_time": "2021-12-21T17:44:34.491Z"
   },
   {
    "duration": 36,
    "start_time": "2021-12-21T17:44:34.532Z"
   },
   {
    "duration": 20,
    "start_time": "2021-12-21T17:44:34.572Z"
   },
   {
    "duration": 26,
    "start_time": "2021-12-21T17:44:34.595Z"
   },
   {
    "duration": 68,
    "start_time": "2021-12-21T17:44:34.624Z"
   },
   {
    "duration": 24,
    "start_time": "2021-12-21T17:44:34.695Z"
   },
   {
    "duration": 6,
    "start_time": "2021-12-21T17:44:34.721Z"
   },
   {
    "duration": 40,
    "start_time": "2021-12-21T17:44:34.729Z"
   },
   {
    "duration": 5004,
    "start_time": "2021-12-21T17:44:34.772Z"
   },
   {
    "duration": 32,
    "start_time": "2021-12-21T17:44:39.778Z"
   },
   {
    "duration": 15,
    "start_time": "2021-12-21T17:44:39.813Z"
   },
   {
    "duration": 47,
    "start_time": "2021-12-21T17:44:39.831Z"
   },
   {
    "duration": 12,
    "start_time": "2021-12-21T17:44:39.880Z"
   },
   {
    "duration": 14,
    "start_time": "2021-12-21T17:44:39.894Z"
   },
   {
    "duration": 15,
    "start_time": "2021-12-21T17:46:20.107Z"
   },
   {
    "duration": 109,
    "start_time": "2021-12-21T17:57:02.302Z"
   },
   {
    "duration": 86,
    "start_time": "2021-12-21T18:00:07.753Z"
   },
   {
    "duration": 8341,
    "start_time": "2021-12-21T18:31:28.777Z"
   },
   {
    "duration": 16,
    "start_time": "2021-12-21T18:32:50.466Z"
   },
   {
    "duration": 769,
    "start_time": "2021-12-21T18:42:46.204Z"
   },
   {
    "duration": 639,
    "start_time": "2021-12-21T18:48:29.192Z"
   },
   {
    "duration": 650,
    "start_time": "2021-12-21T18:48:49.260Z"
   },
   {
    "duration": 626,
    "start_time": "2021-12-21T18:53:05.723Z"
   },
   {
    "duration": 41,
    "start_time": "2021-12-21T18:58:34.571Z"
   },
   {
    "duration": 900,
    "start_time": "2021-12-21T18:58:44.376Z"
   },
   {
    "duration": 19,
    "start_time": "2021-12-21T18:58:45.279Z"
   },
   {
    "duration": 10,
    "start_time": "2021-12-21T18:58:45.302Z"
   },
   {
    "duration": 12,
    "start_time": "2021-12-21T18:58:45.316Z"
   },
   {
    "duration": 15,
    "start_time": "2021-12-21T18:58:45.371Z"
   },
   {
    "duration": 36,
    "start_time": "2021-12-21T18:58:45.389Z"
   },
   {
    "duration": 13,
    "start_time": "2021-12-21T18:58:45.430Z"
   },
   {
    "duration": 12,
    "start_time": "2021-12-21T18:58:45.447Z"
   },
   {
    "duration": 24,
    "start_time": "2021-12-21T18:58:45.468Z"
   },
   {
    "duration": 21,
    "start_time": "2021-12-21T18:58:45.495Z"
   },
   {
    "duration": 9,
    "start_time": "2021-12-21T18:58:45.519Z"
   },
   {
    "duration": 12,
    "start_time": "2021-12-21T18:58:45.530Z"
   },
   {
    "duration": 16,
    "start_time": "2021-12-21T18:58:45.568Z"
   },
   {
    "duration": 49,
    "start_time": "2021-12-21T18:58:45.586Z"
   },
   {
    "duration": 14,
    "start_time": "2021-12-21T18:58:45.638Z"
   },
   {
    "duration": 10,
    "start_time": "2021-12-21T18:58:45.654Z"
   },
   {
    "duration": 27,
    "start_time": "2021-12-21T18:58:45.667Z"
   },
   {
    "duration": 70,
    "start_time": "2021-12-21T18:58:45.697Z"
   },
   {
    "duration": 28,
    "start_time": "2021-12-21T18:58:45.770Z"
   },
   {
    "duration": 33,
    "start_time": "2021-12-21T18:58:45.800Z"
   },
   {
    "duration": 47,
    "start_time": "2021-12-21T18:58:45.836Z"
   },
   {
    "duration": 40,
    "start_time": "2021-12-21T18:58:45.885Z"
   },
   {
    "duration": 73,
    "start_time": "2021-12-21T18:58:45.931Z"
   },
   {
    "duration": 19,
    "start_time": "2021-12-21T18:58:46.007Z"
   },
   {
    "duration": 43,
    "start_time": "2021-12-21T18:58:46.029Z"
   },
   {
    "duration": 27,
    "start_time": "2021-12-21T18:58:46.075Z"
   },
   {
    "duration": 32,
    "start_time": "2021-12-21T18:58:46.105Z"
   },
   {
    "duration": 30,
    "start_time": "2021-12-21T18:58:46.167Z"
   },
   {
    "duration": 6,
    "start_time": "2021-12-21T18:58:46.200Z"
   },
   {
    "duration": 7,
    "start_time": "2021-12-21T18:58:46.208Z"
   },
   {
    "duration": 6005,
    "start_time": "2021-12-21T18:58:46.218Z"
   },
   {
    "duration": 47,
    "start_time": "2021-12-21T18:58:52.226Z"
   },
   {
    "duration": 22,
    "start_time": "2021-12-21T18:58:52.276Z"
   },
   {
    "duration": 16,
    "start_time": "2021-12-21T18:58:52.301Z"
   },
   {
    "duration": 682,
    "start_time": "2021-12-21T18:58:52.320Z"
   },
   {
    "duration": 695,
    "start_time": "2021-12-21T18:58:53.004Z"
   },
   {
    "duration": 84,
    "start_time": "2021-12-21T18:59:57.674Z"
   },
   {
    "duration": 96,
    "start_time": "2021-12-21T19:05:13.100Z"
   },
   {
    "duration": 86,
    "start_time": "2021-12-21T19:05:19.125Z"
   },
   {
    "duration": 98,
    "start_time": "2021-12-21T19:05:25.143Z"
   },
   {
    "duration": 648,
    "start_time": "2021-12-21T19:05:30.045Z"
   },
   {
    "duration": 645,
    "start_time": "2021-12-21T19:05:50.754Z"
   },
   {
    "duration": 710,
    "start_time": "2021-12-21T19:09:54.445Z"
   },
   {
    "duration": 632,
    "start_time": "2021-12-21T19:10:56.752Z"
   },
   {
    "duration": 637,
    "start_time": "2021-12-21T19:11:35.249Z"
   },
   {
    "duration": 626,
    "start_time": "2021-12-21T19:12:52.287Z"
   },
   {
    "duration": 647,
    "start_time": "2021-12-21T19:13:38.621Z"
   },
   {
    "duration": 460,
    "start_time": "2021-12-21T19:14:13.701Z"
   },
   {
    "duration": 632,
    "start_time": "2021-12-21T19:14:32.247Z"
   },
   {
    "duration": 630,
    "start_time": "2021-12-21T19:14:48.696Z"
   },
   {
    "duration": 648,
    "start_time": "2021-12-21T19:15:19.723Z"
   },
   {
    "duration": 1058,
    "start_time": "2021-12-21T19:17:36.909Z"
   },
   {
    "duration": 934,
    "start_time": "2021-12-21T19:18:03.896Z"
   },
   {
    "duration": 951,
    "start_time": "2021-12-21T19:18:35.884Z"
   },
   {
    "duration": 698,
    "start_time": "2021-12-21T19:19:17.372Z"
   },
   {
    "duration": 637,
    "start_time": "2021-12-21T19:19:25.392Z"
   },
   {
    "duration": 84,
    "start_time": "2021-12-21T19:20:11.598Z"
   },
   {
    "duration": 24,
    "start_time": "2021-12-21T19:20:55.113Z"
   },
   {
    "duration": 25,
    "start_time": "2021-12-21T19:21:01.295Z"
   },
   {
    "duration": 34,
    "start_time": "2021-12-21T19:21:27.533Z"
   },
   {
    "duration": 45,
    "start_time": "2021-12-21T19:21:39.549Z"
   },
   {
    "duration": 16,
    "start_time": "2021-12-21T19:21:52.863Z"
   },
   {
    "duration": 43,
    "start_time": "2021-12-21T19:22:27.627Z"
   },
   {
    "duration": 5,
    "start_time": "2021-12-21T19:23:12.210Z"
   },
   {
    "duration": 4056,
    "start_time": "2021-12-21T19:23:14.628Z"
   },
   {
    "duration": 4023,
    "start_time": "2021-12-21T19:23:21.050Z"
   },
   {
    "duration": 19,
    "start_time": "2021-12-21T19:23:32.966Z"
   },
   {
    "duration": 971,
    "start_time": "2021-12-21T19:26:28.397Z"
   },
   {
    "duration": 17,
    "start_time": "2021-12-21T19:26:29.371Z"
   },
   {
    "duration": 9,
    "start_time": "2021-12-21T19:26:29.391Z"
   },
   {
    "duration": 16,
    "start_time": "2021-12-21T19:26:29.403Z"
   },
   {
    "duration": 47,
    "start_time": "2021-12-21T19:26:29.422Z"
   },
   {
    "duration": 18,
    "start_time": "2021-12-21T19:26:29.472Z"
   },
   {
    "duration": 10,
    "start_time": "2021-12-21T19:26:29.493Z"
   },
   {
    "duration": 18,
    "start_time": "2021-12-21T19:26:29.508Z"
   },
   {
    "duration": 38,
    "start_time": "2021-12-21T19:26:29.529Z"
   },
   {
    "duration": 9,
    "start_time": "2021-12-21T19:26:29.570Z"
   },
   {
    "duration": 14,
    "start_time": "2021-12-21T19:26:29.582Z"
   },
   {
    "duration": 13,
    "start_time": "2021-12-21T19:26:29.599Z"
   },
   {
    "duration": 56,
    "start_time": "2021-12-21T19:26:29.615Z"
   },
   {
    "duration": 14,
    "start_time": "2021-12-21T19:26:29.674Z"
   },
   {
    "duration": 14,
    "start_time": "2021-12-21T19:26:29.692Z"
   },
   {
    "duration": 8,
    "start_time": "2021-12-21T19:26:29.709Z"
   },
   {
    "duration": 62,
    "start_time": "2021-12-21T19:26:29.720Z"
   },
   {
    "duration": 27,
    "start_time": "2021-12-21T19:26:29.785Z"
   },
   {
    "duration": 59,
    "start_time": "2021-12-21T19:26:29.814Z"
   },
   {
    "duration": 43,
    "start_time": "2021-12-21T19:26:29.876Z"
   },
   {
    "duration": 18,
    "start_time": "2021-12-21T19:26:29.921Z"
   },
   {
    "duration": 48,
    "start_time": "2021-12-21T19:26:29.966Z"
   },
   {
    "duration": 63,
    "start_time": "2021-12-21T19:26:30.022Z"
   },
   {
    "duration": 18,
    "start_time": "2021-12-21T19:26:30.089Z"
   },
   {
    "duration": 23,
    "start_time": "2021-12-21T19:26:30.109Z"
   },
   {
    "duration": 54,
    "start_time": "2021-12-21T19:26:30.135Z"
   },
   {
    "duration": 30,
    "start_time": "2021-12-21T19:26:30.191Z"
   },
   {
    "duration": 59,
    "start_time": "2021-12-21T19:26:30.223Z"
   },
   {
    "duration": 76,
    "start_time": "2021-12-21T19:26:30.285Z"
   },
   {
    "duration": 7,
    "start_time": "2021-12-21T19:26:30.363Z"
   },
   {
    "duration": 5310,
    "start_time": "2021-12-21T19:26:30.373Z"
   },
   {
    "duration": 22,
    "start_time": "2021-12-21T19:26:35.686Z"
   },
   {
    "duration": 18,
    "start_time": "2021-12-21T19:26:35.711Z"
   },
   {
    "duration": 45,
    "start_time": "2021-12-21T19:26:35.732Z"
   },
   {
    "duration": 972,
    "start_time": "2021-12-21T19:26:35.780Z"
   },
   {
    "duration": 965,
    "start_time": "2021-12-21T19:26:36.754Z"
   },
   {
    "duration": 671,
    "start_time": "2021-12-21T19:26:37.723Z"
   },
   {
    "duration": 803,
    "start_time": "2021-12-21T19:26:38.397Z"
   },
   {
    "duration": 1000,
    "start_time": "2021-12-21T19:43:05.159Z"
   },
   {
    "duration": 17,
    "start_time": "2021-12-21T19:43:06.162Z"
   },
   {
    "duration": 9,
    "start_time": "2021-12-21T19:43:06.182Z"
   },
   {
    "duration": 20,
    "start_time": "2021-12-21T19:43:06.194Z"
   },
   {
    "duration": 11,
    "start_time": "2021-12-21T19:43:06.217Z"
   },
   {
    "duration": 9,
    "start_time": "2021-12-21T19:43:06.268Z"
   },
   {
    "duration": 15,
    "start_time": "2021-12-21T19:43:06.280Z"
   },
   {
    "duration": 10,
    "start_time": "2021-12-21T19:43:06.301Z"
   },
   {
    "duration": 56,
    "start_time": "2021-12-21T19:43:06.315Z"
   },
   {
    "duration": 21,
    "start_time": "2021-12-21T19:43:06.374Z"
   },
   {
    "duration": 9,
    "start_time": "2021-12-21T19:43:06.398Z"
   },
   {
    "duration": 19,
    "start_time": "2021-12-21T19:43:06.410Z"
   },
   {
    "duration": 37,
    "start_time": "2021-12-21T19:43:06.431Z"
   },
   {
    "duration": 11,
    "start_time": "2021-12-21T19:43:06.471Z"
   },
   {
    "duration": 12,
    "start_time": "2021-12-21T19:43:06.485Z"
   },
   {
    "duration": 6,
    "start_time": "2021-12-21T19:43:06.499Z"
   },
   {
    "duration": 64,
    "start_time": "2021-12-21T19:43:06.508Z"
   },
   {
    "duration": 28,
    "start_time": "2021-12-21T19:43:06.575Z"
   },
   {
    "duration": 63,
    "start_time": "2021-12-21T19:43:06.606Z"
   },
   {
    "duration": 34,
    "start_time": "2021-12-21T19:43:06.671Z"
   },
   {
    "duration": 16,
    "start_time": "2021-12-21T19:43:06.708Z"
   },
   {
    "duration": 81,
    "start_time": "2021-12-21T19:43:06.727Z"
   },
   {
    "duration": 66,
    "start_time": "2021-12-21T19:43:06.815Z"
   },
   {
    "duration": 15,
    "start_time": "2021-12-21T19:43:06.884Z"
   },
   {
    "duration": 19,
    "start_time": "2021-12-21T19:43:06.901Z"
   },
   {
    "duration": 53,
    "start_time": "2021-12-21T19:43:06.922Z"
   },
   {
    "duration": 29,
    "start_time": "2021-12-21T19:43:06.977Z"
   },
   {
    "duration": 25,
    "start_time": "2021-12-21T19:43:07.009Z"
   },
   {
    "duration": 34,
    "start_time": "2021-12-21T19:43:07.036Z"
   },
   {
    "duration": 6,
    "start_time": "2021-12-21T19:43:07.072Z"
   },
   {
    "duration": 5025,
    "start_time": "2021-12-21T19:43:07.081Z"
   },
   {
    "duration": 23,
    "start_time": "2021-12-21T19:43:12.109Z"
   },
   {
    "duration": 36,
    "start_time": "2021-12-21T19:43:12.134Z"
   },
   {
    "duration": 14,
    "start_time": "2021-12-21T19:43:12.172Z"
   },
   {
    "duration": 963,
    "start_time": "2021-12-21T19:43:12.189Z"
   },
   {
    "duration": 952,
    "start_time": "2021-12-21T19:43:13.155Z"
   },
   {
    "duration": 662,
    "start_time": "2021-12-21T19:43:14.110Z"
   },
   {
    "duration": 629,
    "start_time": "2021-12-21T19:43:14.774Z"
   }
  ],
  "kernelspec": {
   "display_name": "Python 3 (ipykernel)",
   "language": "python",
   "name": "python3"
  },
  "language_info": {
   "codemirror_mode": {
    "name": "ipython",
    "version": 3
   },
   "file_extension": ".py",
   "mimetype": "text/x-python",
   "name": "python",
   "nbconvert_exporter": "python",
   "pygments_lexer": "ipython3",
   "version": "3.9.12"
  },
  "toc": {
   "base_numbering": 1,
   "nav_menu": {},
   "number_sections": true,
   "sideBar": true,
   "skip_h1_title": true,
   "title_cell": "Table of Contents",
   "title_sidebar": "Contents",
   "toc_cell": false,
   "toc_position": {},
   "toc_section_display": true,
   "toc_window_display": false
  }
 },
 "nbformat": 4,
 "nbformat_minor": 2
}
