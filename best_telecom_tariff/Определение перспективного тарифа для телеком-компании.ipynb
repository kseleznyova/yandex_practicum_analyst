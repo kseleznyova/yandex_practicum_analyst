{
 "cells": [
  {
   "cell_type": "markdown",
   "metadata": {
    "toc": true
   },
   "source": [
    "<h1>Содержание<span class=\"tocSkip\"></span></h1>\n",
    "<div class=\"toc\"><ul class=\"toc-item\"><li><span><a href=\"#Цель-и-задачи\" data-toc-modified-id=\"Цель-и-задачи-1\"><span class=\"toc-item-num\">1&nbsp;&nbsp;</span>Цель и задачи</a></span></li><li><span><a href=\"#Описание-данных\" data-toc-modified-id=\"Описание-данных-2\"><span class=\"toc-item-num\">2&nbsp;&nbsp;</span>Описание данных</a></span></li><li><span><a href=\"#Загрузка-данных-и-подготовка-их-к-анализу\" data-toc-modified-id=\"Загрузка-данных-и-подготовка-их-к-анализу-3\"><span class=\"toc-item-num\">3&nbsp;&nbsp;</span>Загрузка данных и подготовка их к анализу</a></span><ul class=\"toc-item\"><li><span><a href=\"#Вывод\" data-toc-modified-id=\"Вывод-3.1\"><span class=\"toc-item-num\">3.1&nbsp;&nbsp;</span>Вывод</a></span></li></ul></li><li><span><a href=\"#Предобработка-данных\" data-toc-modified-id=\"Предобработка-данных-4\"><span class=\"toc-item-num\">4&nbsp;&nbsp;</span>Предобработка данных</a></span><ul class=\"toc-item\"><li><span><a href=\"#Вывод\" data-toc-modified-id=\"Вывод-4.1\"><span class=\"toc-item-num\">4.1&nbsp;&nbsp;</span>Вывод</a></span></li></ul></li><li><span><a href=\"#Анализ-данных\" data-toc-modified-id=\"Анализ-данных-5\"><span class=\"toc-item-num\">5&nbsp;&nbsp;</span>Анализ данных</a></span><ul class=\"toc-item\"><li><span><a href=\"#Вывод\" data-toc-modified-id=\"Вывод-5.1\"><span class=\"toc-item-num\">5.1&nbsp;&nbsp;</span>Вывод</a></span></li></ul></li><li><span><a href=\"#Проверка-гипотез\" data-toc-modified-id=\"Проверка-гипотез-6\"><span class=\"toc-item-num\">6&nbsp;&nbsp;</span>Проверка гипотез</a></span><ul class=\"toc-item\"><li><span><a href=\"#Вывод\" data-toc-modified-id=\"Вывод-6.1\"><span class=\"toc-item-num\">6.1&nbsp;&nbsp;</span>Вывод</a></span></li></ul></li><li><span><a href=\"#Общий-вывод\" data-toc-modified-id=\"Общий-вывод-7\"><span class=\"toc-item-num\">7&nbsp;&nbsp;</span>Общий вывод</a></span></li></ul></div>"
   ]
  },
  {
   "cell_type": "markdown",
   "metadata": {},
   "source": [
    "# Определение перспективного тарифа для телеком-компании"
   ]
  },
  {
   "cell_type": "markdown",
   "metadata": {},
   "source": [
    "## Цель и задачи\n",
    "\n",
    "Целью работы является определить какой тарифный план приносит больше прибыли.\n",
    "\n",
    "Задачи:\n",
    "- сделать предварительный анализ тарифов на небольшой выборке клиентов;\n",
    "- проанализировать поведение клиентов и сделать вывод — какой тариф лучше."
   ]
  },
  {
   "cell_type": "markdown",
   "metadata": {},
   "source": [
    "## Описание данных\n",
    "\n",
    "Таблица `users` (информация о пользователях):\n",
    "- user_id — уникальный идентификатор пользователя\n",
    "- first_name — имя пользователя\n",
    "- last_name — фамилия пользователя\n",
    "- age — возраст пользователя (годы)\n",
    "- reg_date — дата подключения тарифа (день, месяц, год)\n",
    "- churn_date — дата прекращения пользования тарифом (если значение пропущено, то тариф ещё действовал на момент выгрузки данных)\n",
    "- city — город проживания пользователя\n",
    "- tariff — название тарифного плана\n",
    "\n",
    "Таблица `calls` (информация о звонках):\n",
    "- id — уникальный номер звонка\n",
    "- call_date — дата звонка\n",
    "- duration — длительность звонка в минутах\n",
    "- user_id — идентификатор пользователя, сделавшего звонок\n",
    "\n",
    "Таблица `messages` (информация о сообщениях):\n",
    "- id — уникальный номер сообщения\n",
    "- message_date — дата сообщения\n",
    "- user_id — идентификатор пользователя, отправившего сообщение\n",
    "\n",
    "Таблица `internet` (информация об интернет-сессиях):\n",
    "- id — уникальный номер сессии\n",
    "- mb_used — объём потраченного за сессию интернет-трафика (в мегабайтах)\n",
    "- session_date — дата интернет-сессии\n",
    "- user_id — идентификатор пользователя\n",
    "\n",
    "Таблица `tariffs` (информация о тарифах):\n",
    "- tariff_name — название тарифа\n",
    "- rub_monthly_fee — ежемесячная абонентская плата в рублях\n",
    "- minutes_included — количество минут разговора в месяц, включённых в абонентскую плату\n",
    "- messages_included — количество сообщений в месяц, включённых в абонентскую плату\n",
    "- mb_per_month_included — объём интернет-трафика, включённого в абонентскую плату (в мегабайтах)\n",
    "- rub_per_minute — стоимость минуты разговора сверх тарифного пакета (например, если в тарифе 100 минут разговора в месяц, то со 101 минуты будет взиматься плата)\n",
    "- rub_per_message — стоимость отправки сообщения сверх тарифного пакета\n",
    "- rub_per_gb — стоимость дополнительного гигабайта интернет-трафика сверх тарифного пакета (1 гигабайт = 1024 мегабайта)"
   ]
  },
  {
   "cell_type": "markdown",
   "metadata": {},
   "source": [
    "## Загрузка данных и подготовка их к анализу\n",
    "Загрузим все таблицы. Выведем у каждой таблицы первые пять строк и посмотрим на информацию о таблице."
   ]
  },
  {
   "cell_type": "code",
   "execution_count": 1,
   "metadata": {},
   "outputs": [],
   "source": [
    "import pandas as pd # импорт библиотеки pandas\n",
    "import matplotlib.pyplot as plt\n",
    "import seaborn as sns\n",
    "from scipy import stats as st\n",
    "import plotly.express as px\n",
    "import warnings\n",
    "warnings.filterwarnings(\"ignore\")\n",
    "import numpy as np\n",
    "warnings.simplefilter(action='ignore', category=FutureWarning)"
   ]
  },
  {
   "cell_type": "code",
   "execution_count": 2,
   "metadata": {
    "scrolled": true
   },
   "outputs": [
    {
     "name": "stdout",
     "output_type": "stream",
     "text": [
      "       id   call_date  duration  user_id\n",
      "0  1000_0  2018-07-25      0.00     1000\n",
      "1  1000_1  2018-08-17      0.00     1000\n",
      "2  1000_2  2018-06-11      2.85     1000\n",
      "3  1000_3  2018-09-21     13.80     1000\n",
      "4  1000_4  2018-12-15      5.18     1000\n",
      "<class 'pandas.core.frame.DataFrame'>\n",
      "RangeIndex: 202607 entries, 0 to 202606\n",
      "Data columns (total 4 columns):\n",
      " #   Column     Non-Null Count   Dtype  \n",
      "---  ------     --------------   -----  \n",
      " 0   id         202607 non-null  object \n",
      " 1   call_date  202607 non-null  object \n",
      " 2   duration   202607 non-null  float64\n",
      " 3   user_id    202607 non-null  int64  \n",
      "dtypes: float64(1), int64(1), object(2)\n",
      "memory usage: 6.2+ MB\n"
     ]
    }
   ],
   "source": [
    "calls = pd.read_csv('/datasets/calls.csv') #читаем файл\n",
    "print(calls.head(5)) #выводим первые 5 строк\n",
    "calls.info()"
   ]
  },
  {
   "cell_type": "markdown",
   "metadata": {},
   "source": [
    "Пропущенных значений не обнаружено. Тип даты необходимо перевсти в правильный формат. И проверим таблицу на наличие дубликатов. И аналогичные действия проведем со следующими таблицами "
   ]
  },
  {
   "cell_type": "code",
   "execution_count": 3,
   "metadata": {},
   "outputs": [],
   "source": [
    "calls['call_date'] = pd.to_datetime(calls['call_date'])"
   ]
  },
  {
   "cell_type": "code",
   "execution_count": 4,
   "metadata": {},
   "outputs": [
    {
     "name": "stdout",
     "output_type": "stream",
     "text": [
      "Количество дубликатов: 0\n"
     ]
    }
   ],
   "source": [
    "print('Количество дубликатов:',calls.duplicated().sum())"
   ]
  },
  {
   "cell_type": "code",
   "execution_count": 5,
   "metadata": {
    "scrolled": true
   },
   "outputs": [
    {
     "name": "stdout",
     "output_type": "stream",
     "text": [
      "       id  mb_used session_date  user_id\n",
      "0  1000_0   112.95   2018-11-25     1000\n",
      "1  1000_1  1052.81   2018-09-07     1000\n",
      "2  1000_2  1197.26   2018-06-25     1000\n",
      "3  1000_3   550.27   2018-08-22     1000\n",
      "4  1000_4   302.56   2018-09-24     1000\n",
      "<class 'pandas.core.frame.DataFrame'>\n",
      "Int64Index: 149396 entries, 0 to 149395\n",
      "Data columns (total 4 columns):\n",
      " #   Column        Non-Null Count   Dtype  \n",
      "---  ------        --------------   -----  \n",
      " 0   id            149396 non-null  object \n",
      " 1   mb_used       149396 non-null  float64\n",
      " 2   session_date  149396 non-null  object \n",
      " 3   user_id       149396 non-null  int64  \n",
      "dtypes: float64(1), int64(1), object(2)\n",
      "memory usage: 5.7+ MB\n"
     ]
    }
   ],
   "source": [
    "internet = pd.read_csv('/datasets/internet.csv', index_col=0) #читаем файл\n",
    "print(internet.head(5)) #выводим первые 5 строк\n",
    "internet.info()"
   ]
  },
  {
   "cell_type": "code",
   "execution_count": 6,
   "metadata": {},
   "outputs": [
    {
     "name": "stdout",
     "output_type": "stream",
     "text": [
      "Количество дубликатов: 0\n"
     ]
    }
   ],
   "source": [
    "\n",
    "internet['session_date'] = pd.to_datetime(internet['session_date'])\n",
    "print('Количество дубликатов:',internet.duplicated().sum())"
   ]
  },
  {
   "cell_type": "code",
   "execution_count": 7,
   "metadata": {
    "scrolled": true
   },
   "outputs": [
    {
     "name": "stdout",
     "output_type": "stream",
     "text": [
      "       id message_date  user_id\n",
      "0  1000_0   2018-06-27     1000\n",
      "1  1000_1   2018-10-08     1000\n",
      "2  1000_2   2018-08-04     1000\n",
      "3  1000_3   2018-06-16     1000\n",
      "4  1000_4   2018-12-05     1000\n",
      "<class 'pandas.core.frame.DataFrame'>\n",
      "RangeIndex: 123036 entries, 0 to 123035\n",
      "Data columns (total 3 columns):\n",
      " #   Column        Non-Null Count   Dtype \n",
      "---  ------        --------------   ----- \n",
      " 0   id            123036 non-null  object\n",
      " 1   message_date  123036 non-null  object\n",
      " 2   user_id       123036 non-null  int64 \n",
      "dtypes: int64(1), object(2)\n",
      "memory usage: 2.8+ MB\n"
     ]
    }
   ],
   "source": [
    "messages = pd.read_csv('/datasets/messages.csv') #читаем файл\n",
    "print(messages.head(5)) #выводим первые 5 строк\n",
    "messages.info()"
   ]
  },
  {
   "cell_type": "code",
   "execution_count": 8,
   "metadata": {},
   "outputs": [
    {
     "name": "stdout",
     "output_type": "stream",
     "text": [
      "Количество дубликатов: 0\n"
     ]
    }
   ],
   "source": [
    "messages['message_date'] = pd.to_datetime(messages['message_date'])\n",
    "print('Количество дубликатов:',messages.duplicated().sum())"
   ]
  },
  {
   "cell_type": "code",
   "execution_count": 9,
   "metadata": {},
   "outputs": [
    {
     "name": "stdout",
     "output_type": "stream",
     "text": [
      "   messages_included  mb_per_month_included  minutes_included  \\\n",
      "0                 50                  15360               500   \n",
      "1               1000                  30720              3000   \n",
      "\n",
      "   rub_monthly_fee  rub_per_gb  rub_per_message  rub_per_minute tariff_name  \n",
      "0              550         200                3               3       smart  \n",
      "1             1950         150                1               1       ultra  \n",
      "<class 'pandas.core.frame.DataFrame'>\n",
      "RangeIndex: 2 entries, 0 to 1\n",
      "Data columns (total 8 columns):\n",
      " #   Column                 Non-Null Count  Dtype \n",
      "---  ------                 --------------  ----- \n",
      " 0   messages_included      2 non-null      int64 \n",
      " 1   mb_per_month_included  2 non-null      int64 \n",
      " 2   minutes_included       2 non-null      int64 \n",
      " 3   rub_monthly_fee        2 non-null      int64 \n",
      " 4   rub_per_gb             2 non-null      int64 \n",
      " 5   rub_per_message        2 non-null      int64 \n",
      " 6   rub_per_minute         2 non-null      int64 \n",
      " 7   tariff_name            2 non-null      object\n",
      "dtypes: int64(7), object(1)\n",
      "memory usage: 256.0+ bytes\n"
     ]
    }
   ],
   "source": [
    "tariffs = pd.read_csv('/datasets/tariffs.csv') #читаем файл\n",
    "print(tariffs.head(5)) #выводим первые 5 строк\n",
    "tariffs.info()"
   ]
  },
  {
   "cell_type": "code",
   "execution_count": 10,
   "metadata": {
    "scrolled": false
   },
   "outputs": [
    {
     "name": "stdout",
     "output_type": "stream",
     "text": [
      "   user_id  age churn_date         city first_name  last_name    reg_date  \\\n",
      "0     1000   52        NaN    Краснодар     Рафаил  Верещагин  2018-05-25   \n",
      "1     1001   41        NaN       Москва       Иван       Ежов  2018-11-01   \n",
      "2     1002   59        NaN  Стерлитамак    Евгений  Абрамович  2018-06-17   \n",
      "3     1003   23        NaN       Москва      Белла   Белякова  2018-08-17   \n",
      "4     1004   68        NaN  Новокузнецк    Татьяна   Авдеенко  2018-05-14   \n",
      "\n",
      "  tariff  \n",
      "0  ultra  \n",
      "1  smart  \n",
      "2  smart  \n",
      "3  ultra  \n",
      "4  ultra  \n",
      "<class 'pandas.core.frame.DataFrame'>\n",
      "RangeIndex: 500 entries, 0 to 499\n",
      "Data columns (total 8 columns):\n",
      " #   Column      Non-Null Count  Dtype \n",
      "---  ------      --------------  ----- \n",
      " 0   user_id     500 non-null    int64 \n",
      " 1   age         500 non-null    int64 \n",
      " 2   churn_date  38 non-null     object\n",
      " 3   city        500 non-null    object\n",
      " 4   first_name  500 non-null    object\n",
      " 5   last_name   500 non-null    object\n",
      " 6   reg_date    500 non-null    object\n",
      " 7   tariff      500 non-null    object\n",
      "dtypes: int64(2), object(6)\n",
      "memory usage: 31.4+ KB\n"
     ]
    }
   ],
   "source": [
    "users = pd.read_csv('/datasets/users.csv') #читаем файл\n",
    "print(users.head(5)) #выводим первые 5 строк\n",
    "users.info()"
   ]
  },
  {
   "cell_type": "markdown",
   "metadata": {},
   "source": [
    "В столбце с данными о прекращении пользования тарифом 462 пропущенных значения. Данные пропуски означают, что на момент выгрузки данных пользователь продолжал пользоваться тарифом. Значит, данные пропуски лучше оставить без изменений."
   ]
  },
  {
   "cell_type": "code",
   "execution_count": 11,
   "metadata": {},
   "outputs": [
    {
     "name": "stdout",
     "output_type": "stream",
     "text": [
      "Количество дубликатов: 0\n"
     ]
    }
   ],
   "source": [
    "users['churn_date'] = pd.to_datetime(users['churn_date'])\n",
    "users['reg_date'] = pd.to_datetime(users['reg_date'])\n",
    "print('Количество дубликатов:',users.duplicated().sum())"
   ]
  },
  {
   "cell_type": "markdown",
   "metadata": {},
   "source": [
    "### Вывод"
   ]
  },
  {
   "cell_type": "markdown",
   "metadata": {},
   "source": [
    "В ходе выгрузки данных были исправлены типы данных. Дубликатов в таблицах не оказалось."
   ]
  },
  {
   "cell_type": "markdown",
   "metadata": {},
   "source": [
    "## Предобработка данных"
   ]
  },
  {
   "cell_type": "markdown",
   "metadata": {},
   "source": [
    "Чтобы не нагружать таблицу `users` удалим столбцы с возрастом и именем."
   ]
  },
  {
   "cell_type": "code",
   "execution_count": 12,
   "metadata": {},
   "outputs": [
    {
     "data": {
      "text/html": [
       "<div>\n",
       "<style scoped>\n",
       "    .dataframe tbody tr th:only-of-type {\n",
       "        vertical-align: middle;\n",
       "    }\n",
       "\n",
       "    .dataframe tbody tr th {\n",
       "        vertical-align: top;\n",
       "    }\n",
       "\n",
       "    .dataframe thead th {\n",
       "        text-align: right;\n",
       "    }\n",
       "</style>\n",
       "<table border=\"1\" class=\"dataframe\">\n",
       "  <thead>\n",
       "    <tr style=\"text-align: right;\">\n",
       "      <th></th>\n",
       "      <th>user_id</th>\n",
       "      <th>churn_date</th>\n",
       "      <th>city</th>\n",
       "      <th>reg_date</th>\n",
       "      <th>tariff</th>\n",
       "    </tr>\n",
       "  </thead>\n",
       "  <tbody>\n",
       "    <tr>\n",
       "      <th>0</th>\n",
       "      <td>1000</td>\n",
       "      <td>NaT</td>\n",
       "      <td>Краснодар</td>\n",
       "      <td>2018-05-25</td>\n",
       "      <td>ultra</td>\n",
       "    </tr>\n",
       "    <tr>\n",
       "      <th>1</th>\n",
       "      <td>1001</td>\n",
       "      <td>NaT</td>\n",
       "      <td>Москва</td>\n",
       "      <td>2018-11-01</td>\n",
       "      <td>smart</td>\n",
       "    </tr>\n",
       "    <tr>\n",
       "      <th>2</th>\n",
       "      <td>1002</td>\n",
       "      <td>NaT</td>\n",
       "      <td>Стерлитамак</td>\n",
       "      <td>2018-06-17</td>\n",
       "      <td>smart</td>\n",
       "    </tr>\n",
       "    <tr>\n",
       "      <th>3</th>\n",
       "      <td>1003</td>\n",
       "      <td>NaT</td>\n",
       "      <td>Москва</td>\n",
       "      <td>2018-08-17</td>\n",
       "      <td>ultra</td>\n",
       "    </tr>\n",
       "    <tr>\n",
       "      <th>4</th>\n",
       "      <td>1004</td>\n",
       "      <td>NaT</td>\n",
       "      <td>Новокузнецк</td>\n",
       "      <td>2018-05-14</td>\n",
       "      <td>ultra</td>\n",
       "    </tr>\n",
       "    <tr>\n",
       "      <th>...</th>\n",
       "      <td>...</td>\n",
       "      <td>...</td>\n",
       "      <td>...</td>\n",
       "      <td>...</td>\n",
       "      <td>...</td>\n",
       "    </tr>\n",
       "    <tr>\n",
       "      <th>495</th>\n",
       "      <td>1495</td>\n",
       "      <td>NaT</td>\n",
       "      <td>Иркутск</td>\n",
       "      <td>2018-08-28</td>\n",
       "      <td>ultra</td>\n",
       "    </tr>\n",
       "    <tr>\n",
       "      <th>496</th>\n",
       "      <td>1496</td>\n",
       "      <td>NaT</td>\n",
       "      <td>Вологда</td>\n",
       "      <td>2018-01-27</td>\n",
       "      <td>smart</td>\n",
       "    </tr>\n",
       "    <tr>\n",
       "      <th>497</th>\n",
       "      <td>1497</td>\n",
       "      <td>NaT</td>\n",
       "      <td>Челябинск</td>\n",
       "      <td>2018-10-09</td>\n",
       "      <td>smart</td>\n",
       "    </tr>\n",
       "    <tr>\n",
       "      <th>498</th>\n",
       "      <td>1498</td>\n",
       "      <td>2018-10-25</td>\n",
       "      <td>Владикавказ</td>\n",
       "      <td>2018-07-19</td>\n",
       "      <td>smart</td>\n",
       "    </tr>\n",
       "    <tr>\n",
       "      <th>499</th>\n",
       "      <td>1499</td>\n",
       "      <td>NaT</td>\n",
       "      <td>Пермь</td>\n",
       "      <td>2018-09-27</td>\n",
       "      <td>smart</td>\n",
       "    </tr>\n",
       "  </tbody>\n",
       "</table>\n",
       "<p>500 rows × 5 columns</p>\n",
       "</div>"
      ],
      "text/plain": [
       "     user_id churn_date         city   reg_date tariff\n",
       "0       1000        NaT    Краснодар 2018-05-25  ultra\n",
       "1       1001        NaT       Москва 2018-11-01  smart\n",
       "2       1002        NaT  Стерлитамак 2018-06-17  smart\n",
       "3       1003        NaT       Москва 2018-08-17  ultra\n",
       "4       1004        NaT  Новокузнецк 2018-05-14  ultra\n",
       "..       ...        ...          ...        ...    ...\n",
       "495     1495        NaT      Иркутск 2018-08-28  ultra\n",
       "496     1496        NaT      Вологда 2018-01-27  smart\n",
       "497     1497        NaT    Челябинск 2018-10-09  smart\n",
       "498     1498 2018-10-25  Владикавказ 2018-07-19  smart\n",
       "499     1499        NaT        Пермь 2018-09-27  smart\n",
       "\n",
       "[500 rows x 5 columns]"
      ]
     },
     "execution_count": 12,
     "metadata": {},
     "output_type": "execute_result"
    }
   ],
   "source": [
    "users = users.drop(['age', 'first_name', 'last_name'], axis=1)\n",
    "users"
   ]
  },
  {
   "cell_type": "markdown",
   "metadata": {},
   "source": [
    "Округлим данные столбца duration таблицы `calls` в большую сторону."
   ]
  },
  {
   "cell_type": "code",
   "execution_count": 13,
   "metadata": {},
   "outputs": [
    {
     "data": {
      "text/html": [
       "<div>\n",
       "<style scoped>\n",
       "    .dataframe tbody tr th:only-of-type {\n",
       "        vertical-align: middle;\n",
       "    }\n",
       "\n",
       "    .dataframe tbody tr th {\n",
       "        vertical-align: top;\n",
       "    }\n",
       "\n",
       "    .dataframe thead th {\n",
       "        text-align: right;\n",
       "    }\n",
       "</style>\n",
       "<table border=\"1\" class=\"dataframe\">\n",
       "  <thead>\n",
       "    <tr style=\"text-align: right;\">\n",
       "      <th></th>\n",
       "      <th>id</th>\n",
       "      <th>call_date</th>\n",
       "      <th>duration</th>\n",
       "      <th>user_id</th>\n",
       "    </tr>\n",
       "  </thead>\n",
       "  <tbody>\n",
       "    <tr>\n",
       "      <th>0</th>\n",
       "      <td>1000_0</td>\n",
       "      <td>2018-07-25</td>\n",
       "      <td>0</td>\n",
       "      <td>1000</td>\n",
       "    </tr>\n",
       "    <tr>\n",
       "      <th>1</th>\n",
       "      <td>1000_1</td>\n",
       "      <td>2018-08-17</td>\n",
       "      <td>0</td>\n",
       "      <td>1000</td>\n",
       "    </tr>\n",
       "    <tr>\n",
       "      <th>2</th>\n",
       "      <td>1000_2</td>\n",
       "      <td>2018-06-11</td>\n",
       "      <td>3</td>\n",
       "      <td>1000</td>\n",
       "    </tr>\n",
       "    <tr>\n",
       "      <th>3</th>\n",
       "      <td>1000_3</td>\n",
       "      <td>2018-09-21</td>\n",
       "      <td>14</td>\n",
       "      <td>1000</td>\n",
       "    </tr>\n",
       "    <tr>\n",
       "      <th>4</th>\n",
       "      <td>1000_4</td>\n",
       "      <td>2018-12-15</td>\n",
       "      <td>6</td>\n",
       "      <td>1000</td>\n",
       "    </tr>\n",
       "    <tr>\n",
       "      <th>...</th>\n",
       "      <td>...</td>\n",
       "      <td>...</td>\n",
       "      <td>...</td>\n",
       "      <td>...</td>\n",
       "    </tr>\n",
       "    <tr>\n",
       "      <th>202602</th>\n",
       "      <td>1499_215</td>\n",
       "      <td>2018-12-26</td>\n",
       "      <td>1</td>\n",
       "      <td>1499</td>\n",
       "    </tr>\n",
       "    <tr>\n",
       "      <th>202603</th>\n",
       "      <td>1499_216</td>\n",
       "      <td>2018-10-18</td>\n",
       "      <td>19</td>\n",
       "      <td>1499</td>\n",
       "    </tr>\n",
       "    <tr>\n",
       "      <th>202604</th>\n",
       "      <td>1499_217</td>\n",
       "      <td>2018-11-10</td>\n",
       "      <td>11</td>\n",
       "      <td>1499</td>\n",
       "    </tr>\n",
       "    <tr>\n",
       "      <th>202605</th>\n",
       "      <td>1499_218</td>\n",
       "      <td>2018-10-06</td>\n",
       "      <td>5</td>\n",
       "      <td>1499</td>\n",
       "    </tr>\n",
       "    <tr>\n",
       "      <th>202606</th>\n",
       "      <td>1499_219</td>\n",
       "      <td>2018-12-14</td>\n",
       "      <td>20</td>\n",
       "      <td>1499</td>\n",
       "    </tr>\n",
       "  </tbody>\n",
       "</table>\n",
       "<p>202607 rows × 4 columns</p>\n",
       "</div>"
      ],
      "text/plain": [
       "              id  call_date  duration  user_id\n",
       "0         1000_0 2018-07-25         0     1000\n",
       "1         1000_1 2018-08-17         0     1000\n",
       "2         1000_2 2018-06-11         3     1000\n",
       "3         1000_3 2018-09-21        14     1000\n",
       "4         1000_4 2018-12-15         6     1000\n",
       "...          ...        ...       ...      ...\n",
       "202602  1499_215 2018-12-26         1     1499\n",
       "202603  1499_216 2018-10-18        19     1499\n",
       "202604  1499_217 2018-11-10        11     1499\n",
       "202605  1499_218 2018-10-06         5     1499\n",
       "202606  1499_219 2018-12-14        20     1499\n",
       "\n",
       "[202607 rows x 4 columns]"
      ]
     },
     "execution_count": 13,
     "metadata": {},
     "output_type": "execute_result"
    }
   ],
   "source": [
    "calls['duration'] = np.ceil(calls['duration']).astype('int')\n",
    "calls"
   ]
  },
  {
   "cell_type": "code",
   "execution_count": 14,
   "metadata": {},
   "outputs": [],
   "source": [
    "#Создадим столбец с месяцем в таблице звонков\n",
    "calls['month'] = calls['call_date'].dt.month_name()"
   ]
  },
  {
   "cell_type": "markdown",
   "metadata": {},
   "source": [
    "Сгруппируем таблицу по пользователю и месяцу и посчитаем длительность и количество звонков в месяц"
   ]
  },
  {
   "cell_type": "code",
   "execution_count": 15,
   "metadata": {},
   "outputs": [
    {
     "data": {
      "text/html": [
       "<div>\n",
       "<style scoped>\n",
       "    .dataframe tbody tr th:only-of-type {\n",
       "        vertical-align: middle;\n",
       "    }\n",
       "\n",
       "    .dataframe tbody tr th {\n",
       "        vertical-align: top;\n",
       "    }\n",
       "\n",
       "    .dataframe thead th {\n",
       "        text-align: right;\n",
       "    }\n",
       "</style>\n",
       "<table border=\"1\" class=\"dataframe\">\n",
       "  <thead>\n",
       "    <tr style=\"text-align: right;\">\n",
       "      <th></th>\n",
       "      <th>user_id</th>\n",
       "      <th>month</th>\n",
       "      <th>month_duration</th>\n",
       "      <th>calls_total</th>\n",
       "    </tr>\n",
       "  </thead>\n",
       "  <tbody>\n",
       "    <tr>\n",
       "      <th>0</th>\n",
       "      <td>1000</td>\n",
       "      <td>August</td>\n",
       "      <td>408</td>\n",
       "      <td>52</td>\n",
       "    </tr>\n",
       "    <tr>\n",
       "      <th>1</th>\n",
       "      <td>1000</td>\n",
       "      <td>December</td>\n",
       "      <td>333</td>\n",
       "      <td>46</td>\n",
       "    </tr>\n",
       "    <tr>\n",
       "      <th>2</th>\n",
       "      <td>1000</td>\n",
       "      <td>July</td>\n",
       "      <td>340</td>\n",
       "      <td>47</td>\n",
       "    </tr>\n",
       "    <tr>\n",
       "      <th>3</th>\n",
       "      <td>1000</td>\n",
       "      <td>June</td>\n",
       "      <td>172</td>\n",
       "      <td>43</td>\n",
       "    </tr>\n",
       "    <tr>\n",
       "      <th>4</th>\n",
       "      <td>1000</td>\n",
       "      <td>May</td>\n",
       "      <td>159</td>\n",
       "      <td>22</td>\n",
       "    </tr>\n",
       "    <tr>\n",
       "      <th>...</th>\n",
       "      <td>...</td>\n",
       "      <td>...</td>\n",
       "      <td>...</td>\n",
       "      <td>...</td>\n",
       "    </tr>\n",
       "    <tr>\n",
       "      <th>3169</th>\n",
       "      <td>1498</td>\n",
       "      <td>September</td>\n",
       "      <td>471</td>\n",
       "      <td>59</td>\n",
       "    </tr>\n",
       "    <tr>\n",
       "      <th>3170</th>\n",
       "      <td>1499</td>\n",
       "      <td>December</td>\n",
       "      <td>492</td>\n",
       "      <td>69</td>\n",
       "    </tr>\n",
       "    <tr>\n",
       "      <th>3171</th>\n",
       "      <td>1499</td>\n",
       "      <td>November</td>\n",
       "      <td>612</td>\n",
       "      <td>74</td>\n",
       "    </tr>\n",
       "    <tr>\n",
       "      <th>3172</th>\n",
       "      <td>1499</td>\n",
       "      <td>October</td>\n",
       "      <td>449</td>\n",
       "      <td>68</td>\n",
       "    </tr>\n",
       "    <tr>\n",
       "      <th>3173</th>\n",
       "      <td>1499</td>\n",
       "      <td>September</td>\n",
       "      <td>70</td>\n",
       "      <td>9</td>\n",
       "    </tr>\n",
       "  </tbody>\n",
       "</table>\n",
       "<p>3174 rows × 4 columns</p>\n",
       "</div>"
      ],
      "text/plain": [
       "      user_id      month  month_duration  calls_total\n",
       "0        1000     August             408           52\n",
       "1        1000   December             333           46\n",
       "2        1000       July             340           47\n",
       "3        1000       June             172           43\n",
       "4        1000        May             159           22\n",
       "...       ...        ...             ...          ...\n",
       "3169     1498  September             471           59\n",
       "3170     1499   December             492           69\n",
       "3171     1499   November             612           74\n",
       "3172     1499    October             449           68\n",
       "3173     1499  September              70            9\n",
       "\n",
       "[3174 rows x 4 columns]"
      ]
     },
     "execution_count": 15,
     "metadata": {},
     "output_type": "execute_result"
    }
   ],
   "source": [
    "call = calls.groupby(['user_id', 'month']).agg({'duration':'sum', 'id':'count'}).reset_index().rename(columns={'duration':'month_duration','id':'calls_total'})\n",
    "call"
   ]
  },
  {
   "cell_type": "markdown",
   "metadata": {},
   "source": [
    "Аналогичные действия проведем с таблицами сообщений и интернета."
   ]
  },
  {
   "cell_type": "code",
   "execution_count": 16,
   "metadata": {},
   "outputs": [],
   "source": [
    "#количество отправленных сообщений по месяцам\n",
    "messages['month'] = messages['message_date'].dt.month_name()"
   ]
  },
  {
   "cell_type": "code",
   "execution_count": 17,
   "metadata": {
    "scrolled": true
   },
   "outputs": [
    {
     "data": {
      "text/html": [
       "<div>\n",
       "<style scoped>\n",
       "    .dataframe tbody tr th:only-of-type {\n",
       "        vertical-align: middle;\n",
       "    }\n",
       "\n",
       "    .dataframe tbody tr th {\n",
       "        vertical-align: top;\n",
       "    }\n",
       "\n",
       "    .dataframe thead th {\n",
       "        text-align: right;\n",
       "    }\n",
       "</style>\n",
       "<table border=\"1\" class=\"dataframe\">\n",
       "  <thead>\n",
       "    <tr style=\"text-align: right;\">\n",
       "      <th></th>\n",
       "      <th>user_id</th>\n",
       "      <th>month</th>\n",
       "      <th>messages_total</th>\n",
       "    </tr>\n",
       "  </thead>\n",
       "  <tbody>\n",
       "    <tr>\n",
       "      <th>0</th>\n",
       "      <td>1000</td>\n",
       "      <td>August</td>\n",
       "      <td>81</td>\n",
       "    </tr>\n",
       "    <tr>\n",
       "      <th>1</th>\n",
       "      <td>1000</td>\n",
       "      <td>December</td>\n",
       "      <td>70</td>\n",
       "    </tr>\n",
       "    <tr>\n",
       "      <th>2</th>\n",
       "      <td>1000</td>\n",
       "      <td>July</td>\n",
       "      <td>75</td>\n",
       "    </tr>\n",
       "    <tr>\n",
       "      <th>3</th>\n",
       "      <td>1000</td>\n",
       "      <td>June</td>\n",
       "      <td>60</td>\n",
       "    </tr>\n",
       "    <tr>\n",
       "      <th>4</th>\n",
       "      <td>1000</td>\n",
       "      <td>May</td>\n",
       "      <td>22</td>\n",
       "    </tr>\n",
       "    <tr>\n",
       "      <th>...</th>\n",
       "      <td>...</td>\n",
       "      <td>...</td>\n",
       "      <td>...</td>\n",
       "    </tr>\n",
       "    <tr>\n",
       "      <th>2712</th>\n",
       "      <td>1498</td>\n",
       "      <td>September</td>\n",
       "      <td>44</td>\n",
       "    </tr>\n",
       "    <tr>\n",
       "      <th>2713</th>\n",
       "      <td>1499</td>\n",
       "      <td>December</td>\n",
       "      <td>66</td>\n",
       "    </tr>\n",
       "    <tr>\n",
       "      <th>2714</th>\n",
       "      <td>1499</td>\n",
       "      <td>November</td>\n",
       "      <td>59</td>\n",
       "    </tr>\n",
       "    <tr>\n",
       "      <th>2715</th>\n",
       "      <td>1499</td>\n",
       "      <td>October</td>\n",
       "      <td>48</td>\n",
       "    </tr>\n",
       "    <tr>\n",
       "      <th>2716</th>\n",
       "      <td>1499</td>\n",
       "      <td>September</td>\n",
       "      <td>11</td>\n",
       "    </tr>\n",
       "  </tbody>\n",
       "</table>\n",
       "<p>2717 rows × 3 columns</p>\n",
       "</div>"
      ],
      "text/plain": [
       "      user_id      month  messages_total\n",
       "0        1000     August              81\n",
       "1        1000   December              70\n",
       "2        1000       July              75\n",
       "3        1000       June              60\n",
       "4        1000        May              22\n",
       "...       ...        ...             ...\n",
       "2712     1498  September              44\n",
       "2713     1499   December              66\n",
       "2714     1499   November              59\n",
       "2715     1499    October              48\n",
       "2716     1499  September              11\n",
       "\n",
       "[2717 rows x 3 columns]"
      ]
     },
     "execution_count": 17,
     "metadata": {},
     "output_type": "execute_result"
    }
   ],
   "source": [
    "message = messages.groupby(['user_id', 'month']).agg({'id':'count'}).reset_index().rename(columns = {'id':'messages_total'})\n",
    "message"
   ]
  },
  {
   "cell_type": "code",
   "execution_count": 18,
   "metadata": {},
   "outputs": [],
   "source": [
    "#Объем израсходованного трафика по месяцам\n",
    "internet['month'] = internet['session_date'].dt.month_name()"
   ]
  },
  {
   "cell_type": "code",
   "execution_count": 19,
   "metadata": {
    "scrolled": true
   },
   "outputs": [
    {
     "data": {
      "text/html": [
       "<div>\n",
       "<style scoped>\n",
       "    .dataframe tbody tr th:only-of-type {\n",
       "        vertical-align: middle;\n",
       "    }\n",
       "\n",
       "    .dataframe tbody tr th {\n",
       "        vertical-align: top;\n",
       "    }\n",
       "\n",
       "    .dataframe thead th {\n",
       "        text-align: right;\n",
       "    }\n",
       "</style>\n",
       "<table border=\"1\" class=\"dataframe\">\n",
       "  <thead>\n",
       "    <tr style=\"text-align: right;\">\n",
       "      <th></th>\n",
       "      <th>user_id</th>\n",
       "      <th>month</th>\n",
       "      <th>mb_in_month</th>\n",
       "    </tr>\n",
       "  </thead>\n",
       "  <tbody>\n",
       "    <tr>\n",
       "      <th>0</th>\n",
       "      <td>1000</td>\n",
       "      <td>August</td>\n",
       "      <td>14055.93</td>\n",
       "    </tr>\n",
       "    <tr>\n",
       "      <th>1</th>\n",
       "      <td>1000</td>\n",
       "      <td>December</td>\n",
       "      <td>9817.61</td>\n",
       "    </tr>\n",
       "    <tr>\n",
       "      <th>2</th>\n",
       "      <td>1000</td>\n",
       "      <td>July</td>\n",
       "      <td>14003.64</td>\n",
       "    </tr>\n",
       "    <tr>\n",
       "      <th>3</th>\n",
       "      <td>1000</td>\n",
       "      <td>June</td>\n",
       "      <td>23233.77</td>\n",
       "    </tr>\n",
       "    <tr>\n",
       "      <th>4</th>\n",
       "      <td>1000</td>\n",
       "      <td>May</td>\n",
       "      <td>2253.49</td>\n",
       "    </tr>\n",
       "    <tr>\n",
       "      <th>...</th>\n",
       "      <td>...</td>\n",
       "      <td>...</td>\n",
       "      <td>...</td>\n",
       "    </tr>\n",
       "    <tr>\n",
       "      <th>3198</th>\n",
       "      <td>1498</td>\n",
       "      <td>September</td>\n",
       "      <td>22134.41</td>\n",
       "    </tr>\n",
       "    <tr>\n",
       "      <th>3199</th>\n",
       "      <td>1499</td>\n",
       "      <td>December</td>\n",
       "      <td>13055.58</td>\n",
       "    </tr>\n",
       "    <tr>\n",
       "      <th>3200</th>\n",
       "      <td>1499</td>\n",
       "      <td>November</td>\n",
       "      <td>17963.31</td>\n",
       "    </tr>\n",
       "    <tr>\n",
       "      <th>3201</th>\n",
       "      <td>1499</td>\n",
       "      <td>October</td>\n",
       "      <td>17788.51</td>\n",
       "    </tr>\n",
       "    <tr>\n",
       "      <th>3202</th>\n",
       "      <td>1499</td>\n",
       "      <td>September</td>\n",
       "      <td>1845.75</td>\n",
       "    </tr>\n",
       "  </tbody>\n",
       "</table>\n",
       "<p>3203 rows × 3 columns</p>\n",
       "</div>"
      ],
      "text/plain": [
       "      user_id      month  mb_in_month\n",
       "0        1000     August     14055.93\n",
       "1        1000   December      9817.61\n",
       "2        1000       July     14003.64\n",
       "3        1000       June     23233.77\n",
       "4        1000        May      2253.49\n",
       "...       ...        ...          ...\n",
       "3198     1498  September     22134.41\n",
       "3199     1499   December     13055.58\n",
       "3200     1499   November     17963.31\n",
       "3201     1499    October     17788.51\n",
       "3202     1499  September      1845.75\n",
       "\n",
       "[3203 rows x 3 columns]"
      ]
     },
     "execution_count": 19,
     "metadata": {},
     "output_type": "execute_result"
    }
   ],
   "source": [
    "net = internet.groupby(['user_id', 'month']).agg({'mb_used':'sum'}).reset_index().rename(columns = {'mb_used':'mb_in_month'})\n",
    "net"
   ]
  },
  {
   "cell_type": "code",
   "execution_count": 20,
   "metadata": {},
   "outputs": [],
   "source": [
    "#округлим значения \n",
    "net['mb_used'] = internet['mb_used'].apply(np.ceil).astype('int64')"
   ]
  },
  {
   "cell_type": "markdown",
   "metadata": {},
   "source": [
    "Для объединения таблицы `tariffs` необходимо переименовать столбец с названием тарифа."
   ]
  },
  {
   "cell_type": "code",
   "execution_count": 21,
   "metadata": {},
   "outputs": [],
   "source": [
    "tariffs = tariffs.rename(columns={'tariff_name':'tariff'})"
   ]
  },
  {
   "cell_type": "markdown",
   "metadata": {},
   "source": [
    "Теперь можем объединить все таблицы в одну."
   ]
  },
  {
   "cell_type": "code",
   "execution_count": 22,
   "metadata": {},
   "outputs": [
    {
     "data": {
      "text/html": [
       "<div>\n",
       "<style scoped>\n",
       "    .dataframe tbody tr th:only-of-type {\n",
       "        vertical-align: middle;\n",
       "    }\n",
       "\n",
       "    .dataframe tbody tr th {\n",
       "        vertical-align: top;\n",
       "    }\n",
       "\n",
       "    .dataframe thead th {\n",
       "        text-align: right;\n",
       "    }\n",
       "</style>\n",
       "<table border=\"1\" class=\"dataframe\">\n",
       "  <thead>\n",
       "    <tr style=\"text-align: right;\">\n",
       "      <th></th>\n",
       "      <th>user_id</th>\n",
       "      <th>month</th>\n",
       "      <th>month_duration</th>\n",
       "      <th>calls_total</th>\n",
       "      <th>messages_total</th>\n",
       "      <th>mb_in_month</th>\n",
       "      <th>mb_used</th>\n",
       "      <th>churn_date</th>\n",
       "      <th>city</th>\n",
       "      <th>reg_date</th>\n",
       "      <th>tariff</th>\n",
       "      <th>messages_included</th>\n",
       "      <th>mb_per_month_included</th>\n",
       "      <th>minutes_included</th>\n",
       "      <th>rub_monthly_fee</th>\n",
       "      <th>rub_per_gb</th>\n",
       "      <th>rub_per_message</th>\n",
       "      <th>rub_per_minute</th>\n",
       "    </tr>\n",
       "  </thead>\n",
       "  <tbody>\n",
       "    <tr>\n",
       "      <th>0</th>\n",
       "      <td>1000</td>\n",
       "      <td>August</td>\n",
       "      <td>408.0</td>\n",
       "      <td>52.0</td>\n",
       "      <td>81.0</td>\n",
       "      <td>14055.93</td>\n",
       "      <td>113.0</td>\n",
       "      <td>NaT</td>\n",
       "      <td>Краснодар</td>\n",
       "      <td>2018-05-25</td>\n",
       "      <td>ultra</td>\n",
       "      <td>1000</td>\n",
       "      <td>30720</td>\n",
       "      <td>3000</td>\n",
       "      <td>1950</td>\n",
       "      <td>150</td>\n",
       "      <td>1</td>\n",
       "      <td>1</td>\n",
       "    </tr>\n",
       "    <tr>\n",
       "      <th>1</th>\n",
       "      <td>1000</td>\n",
       "      <td>December</td>\n",
       "      <td>333.0</td>\n",
       "      <td>46.0</td>\n",
       "      <td>70.0</td>\n",
       "      <td>9817.61</td>\n",
       "      <td>1053.0</td>\n",
       "      <td>NaT</td>\n",
       "      <td>Краснодар</td>\n",
       "      <td>2018-05-25</td>\n",
       "      <td>ultra</td>\n",
       "      <td>1000</td>\n",
       "      <td>30720</td>\n",
       "      <td>3000</td>\n",
       "      <td>1950</td>\n",
       "      <td>150</td>\n",
       "      <td>1</td>\n",
       "      <td>1</td>\n",
       "    </tr>\n",
       "    <tr>\n",
       "      <th>2</th>\n",
       "      <td>1000</td>\n",
       "      <td>July</td>\n",
       "      <td>340.0</td>\n",
       "      <td>47.0</td>\n",
       "      <td>75.0</td>\n",
       "      <td>14003.64</td>\n",
       "      <td>1198.0</td>\n",
       "      <td>NaT</td>\n",
       "      <td>Краснодар</td>\n",
       "      <td>2018-05-25</td>\n",
       "      <td>ultra</td>\n",
       "      <td>1000</td>\n",
       "      <td>30720</td>\n",
       "      <td>3000</td>\n",
       "      <td>1950</td>\n",
       "      <td>150</td>\n",
       "      <td>1</td>\n",
       "      <td>1</td>\n",
       "    </tr>\n",
       "    <tr>\n",
       "      <th>3</th>\n",
       "      <td>1000</td>\n",
       "      <td>June</td>\n",
       "      <td>172.0</td>\n",
       "      <td>43.0</td>\n",
       "      <td>60.0</td>\n",
       "      <td>23233.77</td>\n",
       "      <td>551.0</td>\n",
       "      <td>NaT</td>\n",
       "      <td>Краснодар</td>\n",
       "      <td>2018-05-25</td>\n",
       "      <td>ultra</td>\n",
       "      <td>1000</td>\n",
       "      <td>30720</td>\n",
       "      <td>3000</td>\n",
       "      <td>1950</td>\n",
       "      <td>150</td>\n",
       "      <td>1</td>\n",
       "      <td>1</td>\n",
       "    </tr>\n",
       "    <tr>\n",
       "      <th>4</th>\n",
       "      <td>1000</td>\n",
       "      <td>May</td>\n",
       "      <td>159.0</td>\n",
       "      <td>22.0</td>\n",
       "      <td>22.0</td>\n",
       "      <td>2253.49</td>\n",
       "      <td>303.0</td>\n",
       "      <td>NaT</td>\n",
       "      <td>Краснодар</td>\n",
       "      <td>2018-05-25</td>\n",
       "      <td>ultra</td>\n",
       "      <td>1000</td>\n",
       "      <td>30720</td>\n",
       "      <td>3000</td>\n",
       "      <td>1950</td>\n",
       "      <td>150</td>\n",
       "      <td>1</td>\n",
       "      <td>1</td>\n",
       "    </tr>\n",
       "  </tbody>\n",
       "</table>\n",
       "</div>"
      ],
      "text/plain": [
       "   user_id     month  month_duration  calls_total  messages_total  \\\n",
       "0     1000    August           408.0         52.0            81.0   \n",
       "1     1000  December           333.0         46.0            70.0   \n",
       "2     1000      July           340.0         47.0            75.0   \n",
       "3     1000      June           172.0         43.0            60.0   \n",
       "4     1000       May           159.0         22.0            22.0   \n",
       "\n",
       "   mb_in_month  mb_used churn_date       city   reg_date tariff  \\\n",
       "0     14055.93    113.0        NaT  Краснодар 2018-05-25  ultra   \n",
       "1      9817.61   1053.0        NaT  Краснодар 2018-05-25  ultra   \n",
       "2     14003.64   1198.0        NaT  Краснодар 2018-05-25  ultra   \n",
       "3     23233.77    551.0        NaT  Краснодар 2018-05-25  ultra   \n",
       "4      2253.49    303.0        NaT  Краснодар 2018-05-25  ultra   \n",
       "\n",
       "   messages_included  mb_per_month_included  minutes_included  \\\n",
       "0               1000                  30720              3000   \n",
       "1               1000                  30720              3000   \n",
       "2               1000                  30720              3000   \n",
       "3               1000                  30720              3000   \n",
       "4               1000                  30720              3000   \n",
       "\n",
       "   rub_monthly_fee  rub_per_gb  rub_per_message  rub_per_minute  \n",
       "0             1950         150                1               1  \n",
       "1             1950         150                1               1  \n",
       "2             1950         150                1               1  \n",
       "3             1950         150                1               1  \n",
       "4             1950         150                1               1  "
      ]
     },
     "execution_count": 22,
     "metadata": {},
     "output_type": "execute_result"
    }
   ],
   "source": [
    "df = call.merge(message, on=['user_id','month'], how='outer')\n",
    "df = df.merge(net, on=['user_id','month'], how='outer')\n",
    "df = df.merge(users, on='user_id', how='left')\n",
    "df = df.merge(tariffs, on='tariff', how='left')\n",
    "df.head()"
   ]
  },
  {
   "cell_type": "markdown",
   "metadata": {},
   "source": [
    "Проверим информацию о полученной таблице"
   ]
  },
  {
   "cell_type": "code",
   "execution_count": 23,
   "metadata": {
    "scrolled": true
   },
   "outputs": [
    {
     "name": "stdout",
     "output_type": "stream",
     "text": [
      "<class 'pandas.core.frame.DataFrame'>\n",
      "Int64Index: 3214 entries, 0 to 3213\n",
      "Data columns (total 18 columns):\n",
      " #   Column                 Non-Null Count  Dtype         \n",
      "---  ------                 --------------  -----         \n",
      " 0   user_id                3214 non-null   int64         \n",
      " 1   month                  3214 non-null   object        \n",
      " 2   month_duration         3174 non-null   float64       \n",
      " 3   calls_total            3174 non-null   float64       \n",
      " 4   messages_total         2717 non-null   float64       \n",
      " 5   mb_in_month            3203 non-null   float64       \n",
      " 6   mb_used                3203 non-null   float64       \n",
      " 7   churn_date             187 non-null    datetime64[ns]\n",
      " 8   city                   3214 non-null   object        \n",
      " 9   reg_date               3214 non-null   datetime64[ns]\n",
      " 10  tariff                 3214 non-null   object        \n",
      " 11  messages_included      3214 non-null   int64         \n",
      " 12  mb_per_month_included  3214 non-null   int64         \n",
      " 13  minutes_included       3214 non-null   int64         \n",
      " 14  rub_monthly_fee        3214 non-null   int64         \n",
      " 15  rub_per_gb             3214 non-null   int64         \n",
      " 16  rub_per_message        3214 non-null   int64         \n",
      " 17  rub_per_minute         3214 non-null   int64         \n",
      "dtypes: datetime64[ns](2), float64(5), int64(8), object(3)\n",
      "memory usage: 477.1+ KB\n"
     ]
    }
   ],
   "source": [
    "df.info()"
   ]
  },
  {
   "cell_type": "code",
   "execution_count": 24,
   "metadata": {},
   "outputs": [
    {
     "data": {
      "text/html": [
       "<div>\n",
       "<style scoped>\n",
       "    .dataframe tbody tr th:only-of-type {\n",
       "        vertical-align: middle;\n",
       "    }\n",
       "\n",
       "    .dataframe tbody tr th {\n",
       "        vertical-align: top;\n",
       "    }\n",
       "\n",
       "    .dataframe thead th {\n",
       "        text-align: right;\n",
       "    }\n",
       "</style>\n",
       "<table border=\"1\" class=\"dataframe\">\n",
       "  <thead>\n",
       "    <tr style=\"text-align: right;\">\n",
       "      <th></th>\n",
       "      <th>count</th>\n",
       "      <th>mean</th>\n",
       "      <th>std</th>\n",
       "      <th>min</th>\n",
       "      <th>25%</th>\n",
       "      <th>50%</th>\n",
       "      <th>75%</th>\n",
       "      <th>max</th>\n",
       "    </tr>\n",
       "  </thead>\n",
       "  <tbody>\n",
       "    <tr>\n",
       "      <th>user_id</th>\n",
       "      <td>3214.0</td>\n",
       "      <td>1251.590230</td>\n",
       "      <td>144.659172</td>\n",
       "      <td>1000.0</td>\n",
       "      <td>1125.000</td>\n",
       "      <td>1253.00</td>\n",
       "      <td>1378.750</td>\n",
       "      <td>1499.00</td>\n",
       "    </tr>\n",
       "    <tr>\n",
       "      <th>month_duration</th>\n",
       "      <td>3174.0</td>\n",
       "      <td>456.931632</td>\n",
       "      <td>238.031270</td>\n",
       "      <td>0.0</td>\n",
       "      <td>290.000</td>\n",
       "      <td>447.00</td>\n",
       "      <td>592.000</td>\n",
       "      <td>1673.00</td>\n",
       "    </tr>\n",
       "    <tr>\n",
       "      <th>calls_total</th>\n",
       "      <td>3174.0</td>\n",
       "      <td>63.833333</td>\n",
       "      <td>32.678036</td>\n",
       "      <td>1.0</td>\n",
       "      <td>41.000</td>\n",
       "      <td>63.00</td>\n",
       "      <td>83.000</td>\n",
       "      <td>244.00</td>\n",
       "    </tr>\n",
       "    <tr>\n",
       "      <th>messages_total</th>\n",
       "      <td>2717.0</td>\n",
       "      <td>45.283769</td>\n",
       "      <td>35.051363</td>\n",
       "      <td>1.0</td>\n",
       "      <td>19.000</td>\n",
       "      <td>38.00</td>\n",
       "      <td>63.000</td>\n",
       "      <td>224.00</td>\n",
       "    </tr>\n",
       "    <tr>\n",
       "      <th>mb_in_month</th>\n",
       "      <td>3203.0</td>\n",
       "      <td>17266.708626</td>\n",
       "      <td>7516.356902</td>\n",
       "      <td>0.0</td>\n",
       "      <td>12526.905</td>\n",
       "      <td>16963.11</td>\n",
       "      <td>21432.175</td>\n",
       "      <td>49745.69</td>\n",
       "    </tr>\n",
       "    <tr>\n",
       "      <th>mb_used</th>\n",
       "      <td>3203.0</td>\n",
       "      <td>361.503903</td>\n",
       "      <td>278.225055</td>\n",
       "      <td>0.0</td>\n",
       "      <td>132.000</td>\n",
       "      <td>337.00</td>\n",
       "      <td>553.000</td>\n",
       "      <td>1365.00</td>\n",
       "    </tr>\n",
       "    <tr>\n",
       "      <th>messages_included</th>\n",
       "      <td>3214.0</td>\n",
       "      <td>341.148102</td>\n",
       "      <td>438.044726</td>\n",
       "      <td>50.0</td>\n",
       "      <td>50.000</td>\n",
       "      <td>50.00</td>\n",
       "      <td>1000.000</td>\n",
       "      <td>1000.00</td>\n",
       "    </tr>\n",
       "    <tr>\n",
       "      <th>mb_per_month_included</th>\n",
       "      <td>3214.0</td>\n",
       "      <td>20067.405103</td>\n",
       "      <td>7082.491569</td>\n",
       "      <td>15360.0</td>\n",
       "      <td>15360.000</td>\n",
       "      <td>15360.00</td>\n",
       "      <td>30720.000</td>\n",
       "      <td>30720.00</td>\n",
       "    </tr>\n",
       "    <tr>\n",
       "      <th>minutes_included</th>\n",
       "      <td>3214.0</td>\n",
       "      <td>1266.179216</td>\n",
       "      <td>1152.749279</td>\n",
       "      <td>500.0</td>\n",
       "      <td>500.000</td>\n",
       "      <td>500.00</td>\n",
       "      <td>3000.000</td>\n",
       "      <td>3000.00</td>\n",
       "    </tr>\n",
       "    <tr>\n",
       "      <th>rub_monthly_fee</th>\n",
       "      <td>3214.0</td>\n",
       "      <td>979.060361</td>\n",
       "      <td>645.539596</td>\n",
       "      <td>550.0</td>\n",
       "      <td>550.000</td>\n",
       "      <td>550.00</td>\n",
       "      <td>1950.000</td>\n",
       "      <td>1950.00</td>\n",
       "    </tr>\n",
       "    <tr>\n",
       "      <th>rub_per_gb</th>\n",
       "      <td>3214.0</td>\n",
       "      <td>184.676416</td>\n",
       "      <td>23.054986</td>\n",
       "      <td>150.0</td>\n",
       "      <td>150.000</td>\n",
       "      <td>200.00</td>\n",
       "      <td>200.000</td>\n",
       "      <td>200.00</td>\n",
       "    </tr>\n",
       "    <tr>\n",
       "      <th>rub_per_message</th>\n",
       "      <td>3214.0</td>\n",
       "      <td>2.387057</td>\n",
       "      <td>0.922199</td>\n",
       "      <td>1.0</td>\n",
       "      <td>1.000</td>\n",
       "      <td>3.00</td>\n",
       "      <td>3.000</td>\n",
       "      <td>3.00</td>\n",
       "    </tr>\n",
       "    <tr>\n",
       "      <th>rub_per_minute</th>\n",
       "      <td>3214.0</td>\n",
       "      <td>2.387057</td>\n",
       "      <td>0.922199</td>\n",
       "      <td>1.0</td>\n",
       "      <td>1.000</td>\n",
       "      <td>3.00</td>\n",
       "      <td>3.000</td>\n",
       "      <td>3.00</td>\n",
       "    </tr>\n",
       "  </tbody>\n",
       "</table>\n",
       "</div>"
      ],
      "text/plain": [
       "                        count          mean          std      min        25%  \\\n",
       "user_id                3214.0   1251.590230   144.659172   1000.0   1125.000   \n",
       "month_duration         3174.0    456.931632   238.031270      0.0    290.000   \n",
       "calls_total            3174.0     63.833333    32.678036      1.0     41.000   \n",
       "messages_total         2717.0     45.283769    35.051363      1.0     19.000   \n",
       "mb_in_month            3203.0  17266.708626  7516.356902      0.0  12526.905   \n",
       "mb_used                3203.0    361.503903   278.225055      0.0    132.000   \n",
       "messages_included      3214.0    341.148102   438.044726     50.0     50.000   \n",
       "mb_per_month_included  3214.0  20067.405103  7082.491569  15360.0  15360.000   \n",
       "minutes_included       3214.0   1266.179216  1152.749279    500.0    500.000   \n",
       "rub_monthly_fee        3214.0    979.060361   645.539596    550.0    550.000   \n",
       "rub_per_gb             3214.0    184.676416    23.054986    150.0    150.000   \n",
       "rub_per_message        3214.0      2.387057     0.922199      1.0      1.000   \n",
       "rub_per_minute         3214.0      2.387057     0.922199      1.0      1.000   \n",
       "\n",
       "                            50%        75%       max  \n",
       "user_id                 1253.00   1378.750   1499.00  \n",
       "month_duration           447.00    592.000   1673.00  \n",
       "calls_total               63.00     83.000    244.00  \n",
       "messages_total            38.00     63.000    224.00  \n",
       "mb_in_month            16963.11  21432.175  49745.69  \n",
       "mb_used                  337.00    553.000   1365.00  \n",
       "messages_included         50.00   1000.000   1000.00  \n",
       "mb_per_month_included  15360.00  30720.000  30720.00  \n",
       "minutes_included         500.00   3000.000   3000.00  \n",
       "rub_monthly_fee          550.00   1950.000   1950.00  \n",
       "rub_per_gb               200.00    200.000    200.00  \n",
       "rub_per_message            3.00      3.000      3.00  \n",
       "rub_per_minute             3.00      3.000      3.00  "
      ]
     },
     "execution_count": 24,
     "metadata": {},
     "output_type": "execute_result"
    }
   ],
   "source": [
    "df.describe().T"
   ]
  },
  {
   "cell_type": "code",
   "execution_count": 25,
   "metadata": {},
   "outputs": [
    {
     "data": {
      "text/plain": [
       "498"
      ]
     },
     "execution_count": 25,
     "metadata": {},
     "output_type": "execute_result"
    }
   ],
   "source": [
    "#количество уникальных пользователей в таблице\n",
    "df['user_id'].nunique()"
   ]
  },
  {
   "cell_type": "markdown",
   "metadata": {},
   "source": [
    "Изначально было 500 пользователей, 2 пользователя могли не войти в итоговую таблицу, так как скорее всего еще не успели начать пользоваться тарифом."
   ]
  },
  {
   "cell_type": "markdown",
   "metadata": {},
   "source": [
    "Заменим пропущенные значения во всех столбцах с пропусками, кроме churn_date,  на 0, так как возможно люди не пользуются тарифным планом. "
   ]
  },
  {
   "cell_type": "code",
   "execution_count": 26,
   "metadata": {},
   "outputs": [],
   "source": [
    "df['month_duration'] = df['month_duration'].fillna(0)\n",
    "df['calls_total'] = df['calls_total'].fillna(0)\n",
    "df['messages_total'] = df['messages_total'].fillna(0)\n",
    "df['mb_in_month'] = df['mb_in_month'].fillna(0)"
   ]
  },
  {
   "cell_type": "code",
   "execution_count": 27,
   "metadata": {},
   "outputs": [
    {
     "data": {
      "text/plain": [
       "user_id                     0\n",
       "month                       0\n",
       "month_duration              0\n",
       "calls_total                 0\n",
       "messages_total              0\n",
       "mb_in_month                 0\n",
       "mb_used                    11\n",
       "churn_date               3027\n",
       "city                        0\n",
       "reg_date                    0\n",
       "tariff                      0\n",
       "messages_included           0\n",
       "mb_per_month_included       0\n",
       "minutes_included            0\n",
       "rub_monthly_fee             0\n",
       "rub_per_gb                  0\n",
       "rub_per_message             0\n",
       "rub_per_minute              0\n",
       "dtype: int64"
      ]
     },
     "execution_count": 27,
     "metadata": {},
     "output_type": "execute_result"
    }
   ],
   "source": [
    "#Проверим\n",
    "df.isna().sum()"
   ]
  },
  {
   "cell_type": "markdown",
   "metadata": {},
   "source": [
    "Проверим количество дубликатов."
   ]
  },
  {
   "cell_type": "code",
   "execution_count": 28,
   "metadata": {
    "scrolled": true
   },
   "outputs": [
    {
     "data": {
      "text/plain": [
       "0"
      ]
     },
     "execution_count": 28,
     "metadata": {},
     "output_type": "execute_result"
    }
   ],
   "source": [
    "df.duplicated().sum()"
   ]
  },
  {
   "cell_type": "markdown",
   "metadata": {},
   "source": [
    "Переведем столбцы с мегабайтами в гигабайты. Напишем функцию для расчета выручки."
   ]
  },
  {
   "cell_type": "code",
   "execution_count": 29,
   "metadata": {},
   "outputs": [],
   "source": [
    "df['gb_in_month'] = np.ceil(df['mb_in_month']/1024).astype('Int8')\n",
    "df['gb_per_month_included'] = np.ceil(df['mb_per_month_included']/1024).astype('Int8')"
   ]
  },
  {
   "cell_type": "code",
   "execution_count": 30,
   "metadata": {},
   "outputs": [],
   "source": [
    "def revenue(row):\n",
    "    revenue_sum = row['rub_monthly_fee']\n",
    "    if row['month_duration'] > row['minutes_included']:\n",
    "        revenue_sum += ((row['month_duration'] - row['minutes_included']) * row['rub_per_minute'])\n",
    "    if row['messages_total'] > row['messages_included']:\n",
    "        revenue_sum += ((row['messages_total'] - row['messages_included']) * row['rub_per_message'])\n",
    "    if row['gb_in_month'] > row['gb_per_month_included']:\n",
    "        revenue_sum += ((row['gb_in_month'] - row['gb_per_month_included'])*row['rub_per_gb'])\n",
    "    return revenue_sum"
   ]
  },
  {
   "cell_type": "code",
   "execution_count": 31,
   "metadata": {
    "scrolled": true
   },
   "outputs": [
    {
     "data": {
      "text/html": [
       "<div>\n",
       "<style scoped>\n",
       "    .dataframe tbody tr th:only-of-type {\n",
       "        vertical-align: middle;\n",
       "    }\n",
       "\n",
       "    .dataframe tbody tr th {\n",
       "        vertical-align: top;\n",
       "    }\n",
       "\n",
       "    .dataframe thead th {\n",
       "        text-align: right;\n",
       "    }\n",
       "</style>\n",
       "<table border=\"1\" class=\"dataframe\">\n",
       "  <thead>\n",
       "    <tr style=\"text-align: right;\">\n",
       "      <th></th>\n",
       "      <th>user_id</th>\n",
       "      <th>month</th>\n",
       "      <th>month_duration</th>\n",
       "      <th>calls_total</th>\n",
       "      <th>messages_total</th>\n",
       "      <th>mb_in_month</th>\n",
       "      <th>mb_used</th>\n",
       "      <th>churn_date</th>\n",
       "      <th>city</th>\n",
       "      <th>reg_date</th>\n",
       "      <th>...</th>\n",
       "      <th>messages_included</th>\n",
       "      <th>mb_per_month_included</th>\n",
       "      <th>minutes_included</th>\n",
       "      <th>rub_monthly_fee</th>\n",
       "      <th>rub_per_gb</th>\n",
       "      <th>rub_per_message</th>\n",
       "      <th>rub_per_minute</th>\n",
       "      <th>gb_in_month</th>\n",
       "      <th>gb_per_month_included</th>\n",
       "      <th>revenue</th>\n",
       "    </tr>\n",
       "  </thead>\n",
       "  <tbody>\n",
       "    <tr>\n",
       "      <th>0</th>\n",
       "      <td>1000</td>\n",
       "      <td>August</td>\n",
       "      <td>408.0</td>\n",
       "      <td>52.0</td>\n",
       "      <td>81.0</td>\n",
       "      <td>14055.93</td>\n",
       "      <td>113.0</td>\n",
       "      <td>NaT</td>\n",
       "      <td>Краснодар</td>\n",
       "      <td>2018-05-25</td>\n",
       "      <td>...</td>\n",
       "      <td>1000</td>\n",
       "      <td>30720</td>\n",
       "      <td>3000</td>\n",
       "      <td>1950</td>\n",
       "      <td>150</td>\n",
       "      <td>1</td>\n",
       "      <td>1</td>\n",
       "      <td>14</td>\n",
       "      <td>30</td>\n",
       "      <td>1950.0</td>\n",
       "    </tr>\n",
       "    <tr>\n",
       "      <th>1</th>\n",
       "      <td>1000</td>\n",
       "      <td>December</td>\n",
       "      <td>333.0</td>\n",
       "      <td>46.0</td>\n",
       "      <td>70.0</td>\n",
       "      <td>9817.61</td>\n",
       "      <td>1053.0</td>\n",
       "      <td>NaT</td>\n",
       "      <td>Краснодар</td>\n",
       "      <td>2018-05-25</td>\n",
       "      <td>...</td>\n",
       "      <td>1000</td>\n",
       "      <td>30720</td>\n",
       "      <td>3000</td>\n",
       "      <td>1950</td>\n",
       "      <td>150</td>\n",
       "      <td>1</td>\n",
       "      <td>1</td>\n",
       "      <td>10</td>\n",
       "      <td>30</td>\n",
       "      <td>1950.0</td>\n",
       "    </tr>\n",
       "    <tr>\n",
       "      <th>2</th>\n",
       "      <td>1000</td>\n",
       "      <td>July</td>\n",
       "      <td>340.0</td>\n",
       "      <td>47.0</td>\n",
       "      <td>75.0</td>\n",
       "      <td>14003.64</td>\n",
       "      <td>1198.0</td>\n",
       "      <td>NaT</td>\n",
       "      <td>Краснодар</td>\n",
       "      <td>2018-05-25</td>\n",
       "      <td>...</td>\n",
       "      <td>1000</td>\n",
       "      <td>30720</td>\n",
       "      <td>3000</td>\n",
       "      <td>1950</td>\n",
       "      <td>150</td>\n",
       "      <td>1</td>\n",
       "      <td>1</td>\n",
       "      <td>14</td>\n",
       "      <td>30</td>\n",
       "      <td>1950.0</td>\n",
       "    </tr>\n",
       "    <tr>\n",
       "      <th>3</th>\n",
       "      <td>1000</td>\n",
       "      <td>June</td>\n",
       "      <td>172.0</td>\n",
       "      <td>43.0</td>\n",
       "      <td>60.0</td>\n",
       "      <td>23233.77</td>\n",
       "      <td>551.0</td>\n",
       "      <td>NaT</td>\n",
       "      <td>Краснодар</td>\n",
       "      <td>2018-05-25</td>\n",
       "      <td>...</td>\n",
       "      <td>1000</td>\n",
       "      <td>30720</td>\n",
       "      <td>3000</td>\n",
       "      <td>1950</td>\n",
       "      <td>150</td>\n",
       "      <td>1</td>\n",
       "      <td>1</td>\n",
       "      <td>23</td>\n",
       "      <td>30</td>\n",
       "      <td>1950.0</td>\n",
       "    </tr>\n",
       "    <tr>\n",
       "      <th>4</th>\n",
       "      <td>1000</td>\n",
       "      <td>May</td>\n",
       "      <td>159.0</td>\n",
       "      <td>22.0</td>\n",
       "      <td>22.0</td>\n",
       "      <td>2253.49</td>\n",
       "      <td>303.0</td>\n",
       "      <td>NaT</td>\n",
       "      <td>Краснодар</td>\n",
       "      <td>2018-05-25</td>\n",
       "      <td>...</td>\n",
       "      <td>1000</td>\n",
       "      <td>30720</td>\n",
       "      <td>3000</td>\n",
       "      <td>1950</td>\n",
       "      <td>150</td>\n",
       "      <td>1</td>\n",
       "      <td>1</td>\n",
       "      <td>3</td>\n",
       "      <td>30</td>\n",
       "      <td>1950.0</td>\n",
       "    </tr>\n",
       "    <tr>\n",
       "      <th>...</th>\n",
       "      <td>...</td>\n",
       "      <td>...</td>\n",
       "      <td>...</td>\n",
       "      <td>...</td>\n",
       "      <td>...</td>\n",
       "      <td>...</td>\n",
       "      <td>...</td>\n",
       "      <td>...</td>\n",
       "      <td>...</td>\n",
       "      <td>...</td>\n",
       "      <td>...</td>\n",
       "      <td>...</td>\n",
       "      <td>...</td>\n",
       "      <td>...</td>\n",
       "      <td>...</td>\n",
       "      <td>...</td>\n",
       "      <td>...</td>\n",
       "      <td>...</td>\n",
       "      <td>...</td>\n",
       "      <td>...</td>\n",
       "      <td>...</td>\n",
       "    </tr>\n",
       "    <tr>\n",
       "      <th>3209</th>\n",
       "      <td>1489</td>\n",
       "      <td>December</td>\n",
       "      <td>0.0</td>\n",
       "      <td>0.0</td>\n",
       "      <td>35.0</td>\n",
       "      <td>17322.51</td>\n",
       "      <td>0.0</td>\n",
       "      <td>NaT</td>\n",
       "      <td>Санкт-Петербург</td>\n",
       "      <td>2018-08-15</td>\n",
       "      <td>...</td>\n",
       "      <td>50</td>\n",
       "      <td>15360</td>\n",
       "      <td>500</td>\n",
       "      <td>550</td>\n",
       "      <td>200</td>\n",
       "      <td>3</td>\n",
       "      <td>3</td>\n",
       "      <td>17</td>\n",
       "      <td>15</td>\n",
       "      <td>950.0</td>\n",
       "    </tr>\n",
       "    <tr>\n",
       "      <th>3210</th>\n",
       "      <td>1489</td>\n",
       "      <td>November</td>\n",
       "      <td>0.0</td>\n",
       "      <td>0.0</td>\n",
       "      <td>20.0</td>\n",
       "      <td>17491.56</td>\n",
       "      <td>0.0</td>\n",
       "      <td>NaT</td>\n",
       "      <td>Санкт-Петербург</td>\n",
       "      <td>2018-08-15</td>\n",
       "      <td>...</td>\n",
       "      <td>50</td>\n",
       "      <td>15360</td>\n",
       "      <td>500</td>\n",
       "      <td>550</td>\n",
       "      <td>200</td>\n",
       "      <td>3</td>\n",
       "      <td>3</td>\n",
       "      <td>18</td>\n",
       "      <td>15</td>\n",
       "      <td>1150.0</td>\n",
       "    </tr>\n",
       "    <tr>\n",
       "      <th>3211</th>\n",
       "      <td>1489</td>\n",
       "      <td>October</td>\n",
       "      <td>0.0</td>\n",
       "      <td>0.0</td>\n",
       "      <td>21.0</td>\n",
       "      <td>19559.44</td>\n",
       "      <td>432.0</td>\n",
       "      <td>NaT</td>\n",
       "      <td>Санкт-Петербург</td>\n",
       "      <td>2018-08-15</td>\n",
       "      <td>...</td>\n",
       "      <td>50</td>\n",
       "      <td>15360</td>\n",
       "      <td>500</td>\n",
       "      <td>550</td>\n",
       "      <td>200</td>\n",
       "      <td>3</td>\n",
       "      <td>3</td>\n",
       "      <td>20</td>\n",
       "      <td>15</td>\n",
       "      <td>1550.0</td>\n",
       "    </tr>\n",
       "    <tr>\n",
       "      <th>3212</th>\n",
       "      <td>1489</td>\n",
       "      <td>September</td>\n",
       "      <td>0.0</td>\n",
       "      <td>0.0</td>\n",
       "      <td>32.0</td>\n",
       "      <td>17206.30</td>\n",
       "      <td>82.0</td>\n",
       "      <td>NaT</td>\n",
       "      <td>Санкт-Петербург</td>\n",
       "      <td>2018-08-15</td>\n",
       "      <td>...</td>\n",
       "      <td>50</td>\n",
       "      <td>15360</td>\n",
       "      <td>500</td>\n",
       "      <td>550</td>\n",
       "      <td>200</td>\n",
       "      <td>3</td>\n",
       "      <td>3</td>\n",
       "      <td>17</td>\n",
       "      <td>15</td>\n",
       "      <td>950.0</td>\n",
       "    </tr>\n",
       "    <tr>\n",
       "      <th>3213</th>\n",
       "      <td>1476</td>\n",
       "      <td>April</td>\n",
       "      <td>0.0</td>\n",
       "      <td>0.0</td>\n",
       "      <td>0.0</td>\n",
       "      <td>530.78</td>\n",
       "      <td>224.0</td>\n",
       "      <td>NaT</td>\n",
       "      <td>Москва</td>\n",
       "      <td>2018-04-30</td>\n",
       "      <td>...</td>\n",
       "      <td>1000</td>\n",
       "      <td>30720</td>\n",
       "      <td>3000</td>\n",
       "      <td>1950</td>\n",
       "      <td>150</td>\n",
       "      <td>1</td>\n",
       "      <td>1</td>\n",
       "      <td>1</td>\n",
       "      <td>30</td>\n",
       "      <td>1950.0</td>\n",
       "    </tr>\n",
       "  </tbody>\n",
       "</table>\n",
       "<p>3214 rows × 21 columns</p>\n",
       "</div>"
      ],
      "text/plain": [
       "      user_id      month  month_duration  calls_total  messages_total  \\\n",
       "0        1000     August           408.0         52.0            81.0   \n",
       "1        1000   December           333.0         46.0            70.0   \n",
       "2        1000       July           340.0         47.0            75.0   \n",
       "3        1000       June           172.0         43.0            60.0   \n",
       "4        1000        May           159.0         22.0            22.0   \n",
       "...       ...        ...             ...          ...             ...   \n",
       "3209     1489   December             0.0          0.0            35.0   \n",
       "3210     1489   November             0.0          0.0            20.0   \n",
       "3211     1489    October             0.0          0.0            21.0   \n",
       "3212     1489  September             0.0          0.0            32.0   \n",
       "3213     1476      April             0.0          0.0             0.0   \n",
       "\n",
       "      mb_in_month  mb_used churn_date             city   reg_date  ...  \\\n",
       "0        14055.93    113.0        NaT        Краснодар 2018-05-25  ...   \n",
       "1         9817.61   1053.0        NaT        Краснодар 2018-05-25  ...   \n",
       "2        14003.64   1198.0        NaT        Краснодар 2018-05-25  ...   \n",
       "3        23233.77    551.0        NaT        Краснодар 2018-05-25  ...   \n",
       "4         2253.49    303.0        NaT        Краснодар 2018-05-25  ...   \n",
       "...           ...      ...        ...              ...        ...  ...   \n",
       "3209     17322.51      0.0        NaT  Санкт-Петербург 2018-08-15  ...   \n",
       "3210     17491.56      0.0        NaT  Санкт-Петербург 2018-08-15  ...   \n",
       "3211     19559.44    432.0        NaT  Санкт-Петербург 2018-08-15  ...   \n",
       "3212     17206.30     82.0        NaT  Санкт-Петербург 2018-08-15  ...   \n",
       "3213       530.78    224.0        NaT           Москва 2018-04-30  ...   \n",
       "\n",
       "     messages_included  mb_per_month_included  minutes_included  \\\n",
       "0                 1000                  30720              3000   \n",
       "1                 1000                  30720              3000   \n",
       "2                 1000                  30720              3000   \n",
       "3                 1000                  30720              3000   \n",
       "4                 1000                  30720              3000   \n",
       "...                ...                    ...               ...   \n",
       "3209                50                  15360               500   \n",
       "3210                50                  15360               500   \n",
       "3211                50                  15360               500   \n",
       "3212                50                  15360               500   \n",
       "3213              1000                  30720              3000   \n",
       "\n",
       "      rub_monthly_fee  rub_per_gb  rub_per_message  rub_per_minute  \\\n",
       "0                1950         150                1               1   \n",
       "1                1950         150                1               1   \n",
       "2                1950         150                1               1   \n",
       "3                1950         150                1               1   \n",
       "4                1950         150                1               1   \n",
       "...               ...         ...              ...             ...   \n",
       "3209              550         200                3               3   \n",
       "3210              550         200                3               3   \n",
       "3211              550         200                3               3   \n",
       "3212              550         200                3               3   \n",
       "3213             1950         150                1               1   \n",
       "\n",
       "      gb_in_month  gb_per_month_included  revenue  \n",
       "0              14                     30   1950.0  \n",
       "1              10                     30   1950.0  \n",
       "2              14                     30   1950.0  \n",
       "3              23                     30   1950.0  \n",
       "4               3                     30   1950.0  \n",
       "...           ...                    ...      ...  \n",
       "3209           17                     15    950.0  \n",
       "3210           18                     15   1150.0  \n",
       "3211           20                     15   1550.0  \n",
       "3212           17                     15    950.0  \n",
       "3213            1                     30   1950.0  \n",
       "\n",
       "[3214 rows x 21 columns]"
      ]
     },
     "execution_count": 31,
     "metadata": {},
     "output_type": "execute_result"
    }
   ],
   "source": [
    "df['revenue'] = df.apply(revenue, axis=1)\n",
    "df"
   ]
  },
  {
   "cell_type": "markdown",
   "metadata": {},
   "source": [
    "Избавим таблицу от лишних столбцов."
   ]
  },
  {
   "cell_type": "code",
   "execution_count": 32,
   "metadata": {},
   "outputs": [
    {
     "data": {
      "text/html": [
       "<div>\n",
       "<style scoped>\n",
       "    .dataframe tbody tr th:only-of-type {\n",
       "        vertical-align: middle;\n",
       "    }\n",
       "\n",
       "    .dataframe tbody tr th {\n",
       "        vertical-align: top;\n",
       "    }\n",
       "\n",
       "    .dataframe thead th {\n",
       "        text-align: right;\n",
       "    }\n",
       "</style>\n",
       "<table border=\"1\" class=\"dataframe\">\n",
       "  <thead>\n",
       "    <tr style=\"text-align: right;\">\n",
       "      <th></th>\n",
       "      <th>user_id</th>\n",
       "      <th>month</th>\n",
       "      <th>month_duration</th>\n",
       "      <th>calls_total</th>\n",
       "      <th>messages_total</th>\n",
       "      <th>mb_used</th>\n",
       "      <th>city</th>\n",
       "      <th>tariff</th>\n",
       "      <th>messages_included</th>\n",
       "      <th>minutes_included</th>\n",
       "      <th>rub_monthly_fee</th>\n",
       "      <th>rub_per_gb</th>\n",
       "      <th>rub_per_message</th>\n",
       "      <th>rub_per_minute</th>\n",
       "      <th>gb_in_month</th>\n",
       "      <th>gb_per_month_included</th>\n",
       "      <th>revenue</th>\n",
       "    </tr>\n",
       "  </thead>\n",
       "  <tbody>\n",
       "    <tr>\n",
       "      <th>0</th>\n",
       "      <td>1000</td>\n",
       "      <td>August</td>\n",
       "      <td>408.0</td>\n",
       "      <td>52.0</td>\n",
       "      <td>81.0</td>\n",
       "      <td>113.0</td>\n",
       "      <td>Краснодар</td>\n",
       "      <td>ultra</td>\n",
       "      <td>1000</td>\n",
       "      <td>3000</td>\n",
       "      <td>1950</td>\n",
       "      <td>150</td>\n",
       "      <td>1</td>\n",
       "      <td>1</td>\n",
       "      <td>14</td>\n",
       "      <td>30</td>\n",
       "      <td>1950.0</td>\n",
       "    </tr>\n",
       "    <tr>\n",
       "      <th>1</th>\n",
       "      <td>1000</td>\n",
       "      <td>December</td>\n",
       "      <td>333.0</td>\n",
       "      <td>46.0</td>\n",
       "      <td>70.0</td>\n",
       "      <td>1053.0</td>\n",
       "      <td>Краснодар</td>\n",
       "      <td>ultra</td>\n",
       "      <td>1000</td>\n",
       "      <td>3000</td>\n",
       "      <td>1950</td>\n",
       "      <td>150</td>\n",
       "      <td>1</td>\n",
       "      <td>1</td>\n",
       "      <td>10</td>\n",
       "      <td>30</td>\n",
       "      <td>1950.0</td>\n",
       "    </tr>\n",
       "    <tr>\n",
       "      <th>2</th>\n",
       "      <td>1000</td>\n",
       "      <td>July</td>\n",
       "      <td>340.0</td>\n",
       "      <td>47.0</td>\n",
       "      <td>75.0</td>\n",
       "      <td>1198.0</td>\n",
       "      <td>Краснодар</td>\n",
       "      <td>ultra</td>\n",
       "      <td>1000</td>\n",
       "      <td>3000</td>\n",
       "      <td>1950</td>\n",
       "      <td>150</td>\n",
       "      <td>1</td>\n",
       "      <td>1</td>\n",
       "      <td>14</td>\n",
       "      <td>30</td>\n",
       "      <td>1950.0</td>\n",
       "    </tr>\n",
       "    <tr>\n",
       "      <th>3</th>\n",
       "      <td>1000</td>\n",
       "      <td>June</td>\n",
       "      <td>172.0</td>\n",
       "      <td>43.0</td>\n",
       "      <td>60.0</td>\n",
       "      <td>551.0</td>\n",
       "      <td>Краснодар</td>\n",
       "      <td>ultra</td>\n",
       "      <td>1000</td>\n",
       "      <td>3000</td>\n",
       "      <td>1950</td>\n",
       "      <td>150</td>\n",
       "      <td>1</td>\n",
       "      <td>1</td>\n",
       "      <td>23</td>\n",
       "      <td>30</td>\n",
       "      <td>1950.0</td>\n",
       "    </tr>\n",
       "    <tr>\n",
       "      <th>4</th>\n",
       "      <td>1000</td>\n",
       "      <td>May</td>\n",
       "      <td>159.0</td>\n",
       "      <td>22.0</td>\n",
       "      <td>22.0</td>\n",
       "      <td>303.0</td>\n",
       "      <td>Краснодар</td>\n",
       "      <td>ultra</td>\n",
       "      <td>1000</td>\n",
       "      <td>3000</td>\n",
       "      <td>1950</td>\n",
       "      <td>150</td>\n",
       "      <td>1</td>\n",
       "      <td>1</td>\n",
       "      <td>3</td>\n",
       "      <td>30</td>\n",
       "      <td>1950.0</td>\n",
       "    </tr>\n",
       "    <tr>\n",
       "      <th>...</th>\n",
       "      <td>...</td>\n",
       "      <td>...</td>\n",
       "      <td>...</td>\n",
       "      <td>...</td>\n",
       "      <td>...</td>\n",
       "      <td>...</td>\n",
       "      <td>...</td>\n",
       "      <td>...</td>\n",
       "      <td>...</td>\n",
       "      <td>...</td>\n",
       "      <td>...</td>\n",
       "      <td>...</td>\n",
       "      <td>...</td>\n",
       "      <td>...</td>\n",
       "      <td>...</td>\n",
       "      <td>...</td>\n",
       "      <td>...</td>\n",
       "    </tr>\n",
       "    <tr>\n",
       "      <th>3209</th>\n",
       "      <td>1489</td>\n",
       "      <td>December</td>\n",
       "      <td>0.0</td>\n",
       "      <td>0.0</td>\n",
       "      <td>35.0</td>\n",
       "      <td>0.0</td>\n",
       "      <td>Санкт-Петербург</td>\n",
       "      <td>smart</td>\n",
       "      <td>50</td>\n",
       "      <td>500</td>\n",
       "      <td>550</td>\n",
       "      <td>200</td>\n",
       "      <td>3</td>\n",
       "      <td>3</td>\n",
       "      <td>17</td>\n",
       "      <td>15</td>\n",
       "      <td>950.0</td>\n",
       "    </tr>\n",
       "    <tr>\n",
       "      <th>3210</th>\n",
       "      <td>1489</td>\n",
       "      <td>November</td>\n",
       "      <td>0.0</td>\n",
       "      <td>0.0</td>\n",
       "      <td>20.0</td>\n",
       "      <td>0.0</td>\n",
       "      <td>Санкт-Петербург</td>\n",
       "      <td>smart</td>\n",
       "      <td>50</td>\n",
       "      <td>500</td>\n",
       "      <td>550</td>\n",
       "      <td>200</td>\n",
       "      <td>3</td>\n",
       "      <td>3</td>\n",
       "      <td>18</td>\n",
       "      <td>15</td>\n",
       "      <td>1150.0</td>\n",
       "    </tr>\n",
       "    <tr>\n",
       "      <th>3211</th>\n",
       "      <td>1489</td>\n",
       "      <td>October</td>\n",
       "      <td>0.0</td>\n",
       "      <td>0.0</td>\n",
       "      <td>21.0</td>\n",
       "      <td>432.0</td>\n",
       "      <td>Санкт-Петербург</td>\n",
       "      <td>smart</td>\n",
       "      <td>50</td>\n",
       "      <td>500</td>\n",
       "      <td>550</td>\n",
       "      <td>200</td>\n",
       "      <td>3</td>\n",
       "      <td>3</td>\n",
       "      <td>20</td>\n",
       "      <td>15</td>\n",
       "      <td>1550.0</td>\n",
       "    </tr>\n",
       "    <tr>\n",
       "      <th>3212</th>\n",
       "      <td>1489</td>\n",
       "      <td>September</td>\n",
       "      <td>0.0</td>\n",
       "      <td>0.0</td>\n",
       "      <td>32.0</td>\n",
       "      <td>82.0</td>\n",
       "      <td>Санкт-Петербург</td>\n",
       "      <td>smart</td>\n",
       "      <td>50</td>\n",
       "      <td>500</td>\n",
       "      <td>550</td>\n",
       "      <td>200</td>\n",
       "      <td>3</td>\n",
       "      <td>3</td>\n",
       "      <td>17</td>\n",
       "      <td>15</td>\n",
       "      <td>950.0</td>\n",
       "    </tr>\n",
       "    <tr>\n",
       "      <th>3213</th>\n",
       "      <td>1476</td>\n",
       "      <td>April</td>\n",
       "      <td>0.0</td>\n",
       "      <td>0.0</td>\n",
       "      <td>0.0</td>\n",
       "      <td>224.0</td>\n",
       "      <td>Москва</td>\n",
       "      <td>ultra</td>\n",
       "      <td>1000</td>\n",
       "      <td>3000</td>\n",
       "      <td>1950</td>\n",
       "      <td>150</td>\n",
       "      <td>1</td>\n",
       "      <td>1</td>\n",
       "      <td>1</td>\n",
       "      <td>30</td>\n",
       "      <td>1950.0</td>\n",
       "    </tr>\n",
       "  </tbody>\n",
       "</table>\n",
       "<p>3214 rows × 17 columns</p>\n",
       "</div>"
      ],
      "text/plain": [
       "      user_id      month  month_duration  calls_total  messages_total  \\\n",
       "0        1000     August           408.0         52.0            81.0   \n",
       "1        1000   December           333.0         46.0            70.0   \n",
       "2        1000       July           340.0         47.0            75.0   \n",
       "3        1000       June           172.0         43.0            60.0   \n",
       "4        1000        May           159.0         22.0            22.0   \n",
       "...       ...        ...             ...          ...             ...   \n",
       "3209     1489   December             0.0          0.0            35.0   \n",
       "3210     1489   November             0.0          0.0            20.0   \n",
       "3211     1489    October             0.0          0.0            21.0   \n",
       "3212     1489  September             0.0          0.0            32.0   \n",
       "3213     1476      April             0.0          0.0             0.0   \n",
       "\n",
       "      mb_used             city tariff  messages_included  minutes_included  \\\n",
       "0       113.0        Краснодар  ultra               1000              3000   \n",
       "1      1053.0        Краснодар  ultra               1000              3000   \n",
       "2      1198.0        Краснодар  ultra               1000              3000   \n",
       "3       551.0        Краснодар  ultra               1000              3000   \n",
       "4       303.0        Краснодар  ultra               1000              3000   \n",
       "...       ...              ...    ...                ...               ...   \n",
       "3209      0.0  Санкт-Петербург  smart                 50               500   \n",
       "3210      0.0  Санкт-Петербург  smart                 50               500   \n",
       "3211    432.0  Санкт-Петербург  smart                 50               500   \n",
       "3212     82.0  Санкт-Петербург  smart                 50               500   \n",
       "3213    224.0           Москва  ultra               1000              3000   \n",
       "\n",
       "      rub_monthly_fee  rub_per_gb  rub_per_message  rub_per_minute  \\\n",
       "0                1950         150                1               1   \n",
       "1                1950         150                1               1   \n",
       "2                1950         150                1               1   \n",
       "3                1950         150                1               1   \n",
       "4                1950         150                1               1   \n",
       "...               ...         ...              ...             ...   \n",
       "3209              550         200                3               3   \n",
       "3210              550         200                3               3   \n",
       "3211              550         200                3               3   \n",
       "3212              550         200                3               3   \n",
       "3213             1950         150                1               1   \n",
       "\n",
       "      gb_in_month  gb_per_month_included  revenue  \n",
       "0              14                     30   1950.0  \n",
       "1              10                     30   1950.0  \n",
       "2              14                     30   1950.0  \n",
       "3              23                     30   1950.0  \n",
       "4               3                     30   1950.0  \n",
       "...           ...                    ...      ...  \n",
       "3209           17                     15    950.0  \n",
       "3210           18                     15   1150.0  \n",
       "3211           20                     15   1550.0  \n",
       "3212           17                     15    950.0  \n",
       "3213            1                     30   1950.0  \n",
       "\n",
       "[3214 rows x 17 columns]"
      ]
     },
     "execution_count": 32,
     "metadata": {},
     "output_type": "execute_result"
    }
   ],
   "source": [
    "df = df.drop(['churn_date', 'reg_date', 'mb_in_month','mb_per_month_included'], axis=1)\n",
    "df"
   ]
  },
  {
   "cell_type": "markdown",
   "metadata": {},
   "source": [
    "### Вывод"
   ]
  },
  {
   "cell_type": "markdown",
   "metadata": {},
   "source": [
    "В ходе предобработки данных были сгруппированы и объединены исходные таблицы сгруппированы, заполнены пропуски, мегабайты переведены в гигабайты, произведен расчет помесячной выручки с каждого пользователя, удалены лишние столбцы."
   ]
  },
  {
   "cell_type": "markdown",
   "metadata": {},
   "source": [
    "## Анализ данных"
   ]
  },
  {
   "cell_type": "markdown",
   "metadata": {},
   "source": [
    "Опишем поведение клиентов оператора, исходя из выборки. Проанализируем сколько минут разговора, сколько сообщений и какой объём интернет-трафика требуется пользователям каждого тарифа в месяц. Посчитаем среднее количество, дисперсию и стандартное отклонение. "
   ]
  },
  {
   "cell_type": "markdown",
   "metadata": {},
   "source": [
    "Для удобства разделим таблицу по тарифам."
   ]
  },
  {
   "cell_type": "code",
   "execution_count": 33,
   "metadata": {},
   "outputs": [],
   "source": [
    "smart = df.query('tariff == \"smart\"')\n",
    "ultra = df.query('tariff == \"ultra\"')"
   ]
  },
  {
   "cell_type": "code",
   "execution_count": 34,
   "metadata": {},
   "outputs": [
    {
     "data": {
      "text/html": [
       "<div>\n",
       "<style scoped>\n",
       "    .dataframe tbody tr th:only-of-type {\n",
       "        vertical-align: middle;\n",
       "    }\n",
       "\n",
       "    .dataframe tbody tr th {\n",
       "        vertical-align: top;\n",
       "    }\n",
       "\n",
       "    .dataframe thead th {\n",
       "        text-align: right;\n",
       "    }\n",
       "</style>\n",
       "<table border=\"1\" class=\"dataframe\">\n",
       "  <thead>\n",
       "    <tr style=\"text-align: right;\">\n",
       "      <th></th>\n",
       "      <th>count</th>\n",
       "      <th>mean</th>\n",
       "      <th>std</th>\n",
       "      <th>min</th>\n",
       "      <th>25%</th>\n",
       "      <th>50%</th>\n",
       "      <th>75%</th>\n",
       "      <th>max</th>\n",
       "    </tr>\n",
       "  </thead>\n",
       "  <tbody>\n",
       "    <tr>\n",
       "      <th>user_id</th>\n",
       "      <td>2229.0</td>\n",
       "      <td>1246.506505</td>\n",
       "      <td>146.119496</td>\n",
       "      <td>1001.0</td>\n",
       "      <td>1121.0</td>\n",
       "      <td>1239.0</td>\n",
       "      <td>1376.0</td>\n",
       "      <td>1499.0</td>\n",
       "    </tr>\n",
       "    <tr>\n",
       "      <th>month_duration</th>\n",
       "      <td>2229.0</td>\n",
       "      <td>417.934948</td>\n",
       "      <td>190.313730</td>\n",
       "      <td>0.0</td>\n",
       "      <td>282.0</td>\n",
       "      <td>422.0</td>\n",
       "      <td>545.0</td>\n",
       "      <td>1435.0</td>\n",
       "    </tr>\n",
       "    <tr>\n",
       "      <th>calls_total</th>\n",
       "      <td>2229.0</td>\n",
       "      <td>58.463437</td>\n",
       "      <td>25.939858</td>\n",
       "      <td>0.0</td>\n",
       "      <td>40.0</td>\n",
       "      <td>60.0</td>\n",
       "      <td>76.0</td>\n",
       "      <td>198.0</td>\n",
       "    </tr>\n",
       "    <tr>\n",
       "      <th>messages_total</th>\n",
       "      <td>2229.0</td>\n",
       "      <td>33.384029</td>\n",
       "      <td>28.227876</td>\n",
       "      <td>0.0</td>\n",
       "      <td>10.0</td>\n",
       "      <td>28.0</td>\n",
       "      <td>51.0</td>\n",
       "      <td>143.0</td>\n",
       "    </tr>\n",
       "    <tr>\n",
       "      <th>mb_used</th>\n",
       "      <td>2228.0</td>\n",
       "      <td>363.537702</td>\n",
       "      <td>276.845715</td>\n",
       "      <td>0.0</td>\n",
       "      <td>138.0</td>\n",
       "      <td>342.5</td>\n",
       "      <td>550.0</td>\n",
       "      <td>1365.0</td>\n",
       "    </tr>\n",
       "    <tr>\n",
       "      <th>messages_included</th>\n",
       "      <td>2229.0</td>\n",
       "      <td>50.000000</td>\n",
       "      <td>0.000000</td>\n",
       "      <td>50.0</td>\n",
       "      <td>50.0</td>\n",
       "      <td>50.0</td>\n",
       "      <td>50.0</td>\n",
       "      <td>50.0</td>\n",
       "    </tr>\n",
       "    <tr>\n",
       "      <th>minutes_included</th>\n",
       "      <td>2229.0</td>\n",
       "      <td>500.000000</td>\n",
       "      <td>0.000000</td>\n",
       "      <td>500.0</td>\n",
       "      <td>500.0</td>\n",
       "      <td>500.0</td>\n",
       "      <td>500.0</td>\n",
       "      <td>500.0</td>\n",
       "    </tr>\n",
       "    <tr>\n",
       "      <th>rub_monthly_fee</th>\n",
       "      <td>2229.0</td>\n",
       "      <td>550.000000</td>\n",
       "      <td>0.000000</td>\n",
       "      <td>550.0</td>\n",
       "      <td>550.0</td>\n",
       "      <td>550.0</td>\n",
       "      <td>550.0</td>\n",
       "      <td>550.0</td>\n",
       "    </tr>\n",
       "    <tr>\n",
       "      <th>rub_per_gb</th>\n",
       "      <td>2229.0</td>\n",
       "      <td>200.000000</td>\n",
       "      <td>0.000000</td>\n",
       "      <td>200.0</td>\n",
       "      <td>200.0</td>\n",
       "      <td>200.0</td>\n",
       "      <td>200.0</td>\n",
       "      <td>200.0</td>\n",
       "    </tr>\n",
       "    <tr>\n",
       "      <th>rub_per_message</th>\n",
       "      <td>2229.0</td>\n",
       "      <td>3.000000</td>\n",
       "      <td>0.000000</td>\n",
       "      <td>3.0</td>\n",
       "      <td>3.0</td>\n",
       "      <td>3.0</td>\n",
       "      <td>3.0</td>\n",
       "      <td>3.0</td>\n",
       "    </tr>\n",
       "    <tr>\n",
       "      <th>rub_per_minute</th>\n",
       "      <td>2229.0</td>\n",
       "      <td>3.000000</td>\n",
       "      <td>0.000000</td>\n",
       "      <td>3.0</td>\n",
       "      <td>3.0</td>\n",
       "      <td>3.0</td>\n",
       "      <td>3.0</td>\n",
       "      <td>3.0</td>\n",
       "    </tr>\n",
       "    <tr>\n",
       "      <th>gb_in_month</th>\n",
       "      <td>2229.0</td>\n",
       "      <td>16.328847</td>\n",
       "      <td>5.747061</td>\n",
       "      <td>0.0</td>\n",
       "      <td>13.0</td>\n",
       "      <td>17.0</td>\n",
       "      <td>20.0</td>\n",
       "      <td>38.0</td>\n",
       "    </tr>\n",
       "    <tr>\n",
       "      <th>gb_per_month_included</th>\n",
       "      <td>2229.0</td>\n",
       "      <td>15.000000</td>\n",
       "      <td>0.000000</td>\n",
       "      <td>15.0</td>\n",
       "      <td>15.0</td>\n",
       "      <td>15.0</td>\n",
       "      <td>15.0</td>\n",
       "      <td>15.0</td>\n",
       "    </tr>\n",
       "    <tr>\n",
       "      <th>revenue</th>\n",
       "      <td>2229.0</td>\n",
       "      <td>1289.973531</td>\n",
       "      <td>818.404367</td>\n",
       "      <td>550.0</td>\n",
       "      <td>550.0</td>\n",
       "      <td>1023.0</td>\n",
       "      <td>1750.0</td>\n",
       "      <td>6770.0</td>\n",
       "    </tr>\n",
       "  </tbody>\n",
       "</table>\n",
       "</div>"
      ],
      "text/plain": [
       "                        count         mean         std     min     25%  \\\n",
       "user_id                2229.0  1246.506505  146.119496  1001.0  1121.0   \n",
       "month_duration         2229.0   417.934948  190.313730     0.0   282.0   \n",
       "calls_total            2229.0    58.463437   25.939858     0.0    40.0   \n",
       "messages_total         2229.0    33.384029   28.227876     0.0    10.0   \n",
       "mb_used                2228.0   363.537702  276.845715     0.0   138.0   \n",
       "messages_included      2229.0    50.000000    0.000000    50.0    50.0   \n",
       "minutes_included       2229.0   500.000000    0.000000   500.0   500.0   \n",
       "rub_monthly_fee        2229.0   550.000000    0.000000   550.0   550.0   \n",
       "rub_per_gb             2229.0   200.000000    0.000000   200.0   200.0   \n",
       "rub_per_message        2229.0     3.000000    0.000000     3.0     3.0   \n",
       "rub_per_minute         2229.0     3.000000    0.000000     3.0     3.0   \n",
       "gb_in_month            2229.0    16.328847    5.747061     0.0    13.0   \n",
       "gb_per_month_included  2229.0    15.000000    0.000000    15.0    15.0   \n",
       "revenue                2229.0  1289.973531  818.404367   550.0   550.0   \n",
       "\n",
       "                          50%     75%     max  \n",
       "user_id                1239.0  1376.0  1499.0  \n",
       "month_duration          422.0   545.0  1435.0  \n",
       "calls_total              60.0    76.0   198.0  \n",
       "messages_total           28.0    51.0   143.0  \n",
       "mb_used                 342.5   550.0  1365.0  \n",
       "messages_included        50.0    50.0    50.0  \n",
       "minutes_included        500.0   500.0   500.0  \n",
       "rub_monthly_fee         550.0   550.0   550.0  \n",
       "rub_per_gb              200.0   200.0   200.0  \n",
       "rub_per_message           3.0     3.0     3.0  \n",
       "rub_per_minute            3.0     3.0     3.0  \n",
       "gb_in_month              17.0    20.0    38.0  \n",
       "gb_per_month_included    15.0    15.0    15.0  \n",
       "revenue                1023.0  1750.0  6770.0  "
      ]
     },
     "execution_count": 34,
     "metadata": {},
     "output_type": "execute_result"
    }
   ],
   "source": [
    "smart.describe().T"
   ]
  },
  {
   "cell_type": "code",
   "execution_count": 35,
   "metadata": {},
   "outputs": [
    {
     "data": {
      "text/html": [
       "<div>\n",
       "<style scoped>\n",
       "    .dataframe tbody tr th:only-of-type {\n",
       "        vertical-align: middle;\n",
       "    }\n",
       "\n",
       "    .dataframe tbody tr th {\n",
       "        vertical-align: top;\n",
       "    }\n",
       "\n",
       "    .dataframe thead th {\n",
       "        text-align: right;\n",
       "    }\n",
       "</style>\n",
       "<table border=\"1\" class=\"dataframe\">\n",
       "  <thead>\n",
       "    <tr style=\"text-align: right;\">\n",
       "      <th></th>\n",
       "      <th>count</th>\n",
       "      <th>mean</th>\n",
       "      <th>std</th>\n",
       "      <th>min</th>\n",
       "      <th>25%</th>\n",
       "      <th>50%</th>\n",
       "      <th>75%</th>\n",
       "      <th>max</th>\n",
       "    </tr>\n",
       "  </thead>\n",
       "  <tbody>\n",
       "    <tr>\n",
       "      <th>user_id</th>\n",
       "      <td>985.0</td>\n",
       "      <td>1263.094416</td>\n",
       "      <td>140.694908</td>\n",
       "      <td>1000.0</td>\n",
       "      <td>1143.0</td>\n",
       "      <td>1277.0</td>\n",
       "      <td>1381.0</td>\n",
       "      <td>1495.0</td>\n",
       "    </tr>\n",
       "    <tr>\n",
       "      <th>month_duration</th>\n",
       "      <td>985.0</td>\n",
       "      <td>526.623350</td>\n",
       "      <td>317.606098</td>\n",
       "      <td>0.0</td>\n",
       "      <td>284.0</td>\n",
       "      <td>518.0</td>\n",
       "      <td>752.0</td>\n",
       "      <td>1673.0</td>\n",
       "    </tr>\n",
       "    <tr>\n",
       "      <th>calls_total</th>\n",
       "      <td>985.0</td>\n",
       "      <td>73.392893</td>\n",
       "      <td>43.916853</td>\n",
       "      <td>0.0</td>\n",
       "      <td>41.0</td>\n",
       "      <td>74.0</td>\n",
       "      <td>104.0</td>\n",
       "      <td>244.0</td>\n",
       "    </tr>\n",
       "    <tr>\n",
       "      <th>messages_total</th>\n",
       "      <td>985.0</td>\n",
       "      <td>49.363452</td>\n",
       "      <td>47.804457</td>\n",
       "      <td>0.0</td>\n",
       "      <td>6.0</td>\n",
       "      <td>38.0</td>\n",
       "      <td>79.0</td>\n",
       "      <td>224.0</td>\n",
       "    </tr>\n",
       "    <tr>\n",
       "      <th>mb_used</th>\n",
       "      <td>975.0</td>\n",
       "      <td>356.856410</td>\n",
       "      <td>281.439425</td>\n",
       "      <td>0.0</td>\n",
       "      <td>108.5</td>\n",
       "      <td>330.0</td>\n",
       "      <td>559.5</td>\n",
       "      <td>1313.0</td>\n",
       "    </tr>\n",
       "    <tr>\n",
       "      <th>messages_included</th>\n",
       "      <td>985.0</td>\n",
       "      <td>1000.000000</td>\n",
       "      <td>0.000000</td>\n",
       "      <td>1000.0</td>\n",
       "      <td>1000.0</td>\n",
       "      <td>1000.0</td>\n",
       "      <td>1000.0</td>\n",
       "      <td>1000.0</td>\n",
       "    </tr>\n",
       "    <tr>\n",
       "      <th>minutes_included</th>\n",
       "      <td>985.0</td>\n",
       "      <td>3000.000000</td>\n",
       "      <td>0.000000</td>\n",
       "      <td>3000.0</td>\n",
       "      <td>3000.0</td>\n",
       "      <td>3000.0</td>\n",
       "      <td>3000.0</td>\n",
       "      <td>3000.0</td>\n",
       "    </tr>\n",
       "    <tr>\n",
       "      <th>rub_monthly_fee</th>\n",
       "      <td>985.0</td>\n",
       "      <td>1950.000000</td>\n",
       "      <td>0.000000</td>\n",
       "      <td>1950.0</td>\n",
       "      <td>1950.0</td>\n",
       "      <td>1950.0</td>\n",
       "      <td>1950.0</td>\n",
       "      <td>1950.0</td>\n",
       "    </tr>\n",
       "    <tr>\n",
       "      <th>rub_per_gb</th>\n",
       "      <td>985.0</td>\n",
       "      <td>150.000000</td>\n",
       "      <td>0.000000</td>\n",
       "      <td>150.0</td>\n",
       "      <td>150.0</td>\n",
       "      <td>150.0</td>\n",
       "      <td>150.0</td>\n",
       "      <td>150.0</td>\n",
       "    </tr>\n",
       "    <tr>\n",
       "      <th>rub_per_message</th>\n",
       "      <td>985.0</td>\n",
       "      <td>1.000000</td>\n",
       "      <td>0.000000</td>\n",
       "      <td>1.0</td>\n",
       "      <td>1.0</td>\n",
       "      <td>1.0</td>\n",
       "      <td>1.0</td>\n",
       "      <td>1.0</td>\n",
       "    </tr>\n",
       "    <tr>\n",
       "      <th>rub_per_minute</th>\n",
       "      <td>985.0</td>\n",
       "      <td>1.000000</td>\n",
       "      <td>0.000000</td>\n",
       "      <td>1.0</td>\n",
       "      <td>1.0</td>\n",
       "      <td>1.0</td>\n",
       "      <td>1.0</td>\n",
       "      <td>1.0</td>\n",
       "    </tr>\n",
       "    <tr>\n",
       "      <th>gb_in_month</th>\n",
       "      <td>985.0</td>\n",
       "      <td>19.494416</td>\n",
       "      <td>9.853511</td>\n",
       "      <td>0.0</td>\n",
       "      <td>12.0</td>\n",
       "      <td>19.0</td>\n",
       "      <td>27.0</td>\n",
       "      <td>49.0</td>\n",
       "    </tr>\n",
       "    <tr>\n",
       "      <th>gb_per_month_included</th>\n",
       "      <td>985.0</td>\n",
       "      <td>30.000000</td>\n",
       "      <td>0.000000</td>\n",
       "      <td>30.0</td>\n",
       "      <td>30.0</td>\n",
       "      <td>30.0</td>\n",
       "      <td>30.0</td>\n",
       "      <td>30.0</td>\n",
       "    </tr>\n",
       "    <tr>\n",
       "      <th>revenue</th>\n",
       "      <td>985.0</td>\n",
       "      <td>2070.152284</td>\n",
       "      <td>376.187114</td>\n",
       "      <td>1950.0</td>\n",
       "      <td>1950.0</td>\n",
       "      <td>1950.0</td>\n",
       "      <td>1950.0</td>\n",
       "      <td>4800.0</td>\n",
       "    </tr>\n",
       "  </tbody>\n",
       "</table>\n",
       "</div>"
      ],
      "text/plain": [
       "                       count         mean         std     min     25%     50%  \\\n",
       "user_id                985.0  1263.094416  140.694908  1000.0  1143.0  1277.0   \n",
       "month_duration         985.0   526.623350  317.606098     0.0   284.0   518.0   \n",
       "calls_total            985.0    73.392893   43.916853     0.0    41.0    74.0   \n",
       "messages_total         985.0    49.363452   47.804457     0.0     6.0    38.0   \n",
       "mb_used                975.0   356.856410  281.439425     0.0   108.5   330.0   \n",
       "messages_included      985.0  1000.000000    0.000000  1000.0  1000.0  1000.0   \n",
       "minutes_included       985.0  3000.000000    0.000000  3000.0  3000.0  3000.0   \n",
       "rub_monthly_fee        985.0  1950.000000    0.000000  1950.0  1950.0  1950.0   \n",
       "rub_per_gb             985.0   150.000000    0.000000   150.0   150.0   150.0   \n",
       "rub_per_message        985.0     1.000000    0.000000     1.0     1.0     1.0   \n",
       "rub_per_minute         985.0     1.000000    0.000000     1.0     1.0     1.0   \n",
       "gb_in_month            985.0    19.494416    9.853511     0.0    12.0    19.0   \n",
       "gb_per_month_included  985.0    30.000000    0.000000    30.0    30.0    30.0   \n",
       "revenue                985.0  2070.152284  376.187114  1950.0  1950.0  1950.0   \n",
       "\n",
       "                          75%     max  \n",
       "user_id                1381.0  1495.0  \n",
       "month_duration          752.0  1673.0  \n",
       "calls_total             104.0   244.0  \n",
       "messages_total           79.0   224.0  \n",
       "mb_used                 559.5  1313.0  \n",
       "messages_included      1000.0  1000.0  \n",
       "minutes_included       3000.0  3000.0  \n",
       "rub_monthly_fee        1950.0  1950.0  \n",
       "rub_per_gb              150.0   150.0  \n",
       "rub_per_message           1.0     1.0  \n",
       "rub_per_minute            1.0     1.0  \n",
       "gb_in_month              27.0    49.0  \n",
       "gb_per_month_included    30.0    30.0  \n",
       "revenue                1950.0  4800.0  "
      ]
     },
     "execution_count": 35,
     "metadata": {},
     "output_type": "execute_result"
    }
   ],
   "source": [
    "ultra.describe().T"
   ]
  },
  {
   "cell_type": "markdown",
   "metadata": {},
   "source": [
    "Средняя длительность звонка для тарифа `smart` 418 минут, для `ultra` — 527. Среднее количество сообений для тарифа `smart` — 33, для `ultra` — 50. Среднее количество использованных гигабайт для тарифа `smart` 16 гб, для `ultra` — 20 гб."
   ]
  },
  {
   "cell_type": "markdown",
   "metadata": {},
   "source": [
    "Посчитаем дисперсию и среднее отклонение для длительности звонков."
   ]
  },
  {
   "cell_type": "code",
   "execution_count": 36,
   "metadata": {
    "scrolled": true
   },
   "outputs": [
    {
     "name": "stdout",
     "output_type": "stream",
     "text": [
      "Дисперсия для тарифа smart: 36219.31578434428\n",
      "Среднее отклонение для тарифа smart: 190.31372988921288\n",
      "Дисперсия для тарифа ultra: 100873.63339730098\n",
      "Среднее отклонение для тарифа ultra: 317.6060978591264\n"
     ]
    }
   ],
   "source": [
    "print('Дисперсия для тарифа smart:', np.var(smart['month_duration'], ddof=1))\n",
    "print('Среднее отклонение для тарифа smart:', np.std(smart['month_duration'], ddof=1))\n",
    "print('Дисперсия для тарифа ultra:', np.var(ultra['month_duration'], ddof=1))\n",
    "print('Среднее отклонение для тарифа ultra:', np.std(ultra['month_duration'], ddof=1))"
   ]
  },
  {
   "cell_type": "markdown",
   "metadata": {},
   "source": [
    "Посчитаем дисперсию и среднее отклонение для количества сообщений."
   ]
  },
  {
   "cell_type": "code",
   "execution_count": 37,
   "metadata": {},
   "outputs": [
    {
     "name": "stdout",
     "output_type": "stream",
     "text": [
      "Дисперсия для тарифа smart: 796.8129584480083\n",
      "Среднее отклонение для тарифа smart: 28.22787555676141\n",
      "Дисперсия для тарифа ultra: 2285.2661425446736\n",
      "Среднее отклонение для тарифа ultra: 47.804457350174715\n"
     ]
    }
   ],
   "source": [
    "print('Дисперсия для тарифа smart:', np.var(smart['messages_total'], ddof=1))\n",
    "print('Среднее отклонение для тарифа smart:', np.std(smart['messages_total'], ddof=1))\n",
    "print('Дисперсия для тарифа ultra:', np.var(ultra['messages_total'], ddof=1))\n",
    "print('Среднее отклонение для тарифа ultra:', np.std(ultra['messages_total'], ddof=1))"
   ]
  },
  {
   "cell_type": "markdown",
   "metadata": {},
   "source": [
    "Посчитаем дисперсию и среднее отклонение для количества гигабайт."
   ]
  },
  {
   "cell_type": "code",
   "execution_count": 38,
   "metadata": {
    "scrolled": true
   },
   "outputs": [
    {
     "name": "stdout",
     "output_type": "stream",
     "text": [
      "Дисперсия для тарифа smart: 33.02870517811161\n",
      "Среднее отклонение для тарифа smart: 5.7470605685090534\n",
      "Дисперсия для тарифа ultra: 97.09168626965459\n",
      "Среднее отклонение для тарифа ultra: 9.853511367510293\n"
     ]
    }
   ],
   "source": [
    "print('Дисперсия для тарифа smart:', np.var(smart['gb_in_month'], ddof=1))\n",
    "print('Среднее отклонение для тарифа smart:', np.std(smart['gb_in_month'], ddof=1))\n",
    "print('Дисперсия для тарифа ultra:', np.var(ultra['gb_in_month'], ddof=1))\n",
    "print('Среднее отклонение для тарифа ultra:', np.std(ultra['gb_in_month'], ddof=1))"
   ]
  },
  {
   "cell_type": "markdown",
   "metadata": {},
   "source": [
    "Дисперсия показывает нам насколько далеко могут быть \"разбросаны данные\" от среднего значения. В данном случае видно, что для у тарифа `ultra` данные широко разбросаны от среднего как для длительности звоноков, так и для количества гб и сообщений."
   ]
  },
  {
   "cell_type": "markdown",
   "metadata": {},
   "source": [
    "Построим гистограммы для распределений длительности звонков, количества звонком, сообщений и гигабайт соответственно."
   ]
  },
  {
   "cell_type": "code",
   "execution_count": 39,
   "metadata": {},
   "outputs": [
    {
     "data": {
      "image/png": "[encoded data removed]",
      "text/plain": [
       "<Figure size 432x288 with 1 Axes>"
      ]
     },
     "metadata": {
      "needs_background": "light"
     },
     "output_type": "display_data"
    }
   ],
   "source": [
    "sns.distplot(smart['month_duration'], bins=8) \n",
    "plt.title(\"Распределение длительности звонков тарифа smart\")\n",
    "plt.xlabel('Длительность звонков')\n",
    "plt.ylabel('Плотность распределения')\n",
    "plt.show()"
   ]
  },
  {
   "cell_type": "code",
   "execution_count": 40,
   "metadata": {},
   "outputs": [
    {
     "data": {
      "image/png": "[encoded data removed]",
      "text/plain": [
       "<Figure size 432x288 with 1 Axes>"
      ]
     },
     "metadata": {
      "needs_background": "light"
     },
     "output_type": "display_data"
    }
   ],
   "source": [
    "sns.distplot(ultra['month_duration'], bins=8) \n",
    "plt.title(\"Распределение длительности звонков тарифа ultra\")\n",
    "plt.xlabel('Длительность звонков')\n",
    "plt.ylabel('Плотность распределения')\n",
    "plt.show()"
   ]
  },
  {
   "cell_type": "markdown",
   "metadata": {},
   "source": [
    "Как видно из графиков, для обоих тарифов характерна длительность 500 минут в месяц. Но в тарифе `smart` сдвиг в меньшую сторону, а для `ultra` - в большую."
   ]
  },
  {
   "cell_type": "code",
   "execution_count": 41,
   "metadata": {},
   "outputs": [
    {
     "data": {
      "image/png": "[encoded data removed]",
      "text/plain": [
       "<Figure size 432x288 with 1 Axes>"
      ]
     },
     "metadata": {
      "needs_background": "light"
     },
     "output_type": "display_data"
    }
   ],
   "source": [
    "sns.distplot(smart['messages_total'], bins=15) \n",
    "plt.title(\"Распределение количества сообщений тарифа smart\")\n",
    "plt.xlabel('Количество сообщений')\n",
    "plt.ylabel('Плотность распределения')\n",
    "plt.show()"
   ]
  },
  {
   "cell_type": "code",
   "execution_count": 42,
   "metadata": {
    "scrolled": true
   },
   "outputs": [
    {
     "data": {
      "image/png": "[encoded data removed]",
      "text/plain": [
       "<Figure size 432x288 with 1 Axes>"
      ]
     },
     "metadata": {
      "needs_background": "light"
     },
     "output_type": "display_data"
    }
   ],
   "source": [
    "sns.distplot(ultra['messages_total'], bins=15) \n",
    "plt.title(\"Распределение количества сообщений тарифа ultra\")\n",
    "plt.xlabel('Количество сообщений')\n",
    "plt.ylabel('Плотность распределения')\n",
    "plt.show()"
   ]
  },
  {
   "cell_type": "markdown",
   "metadata": {},
   "source": [
    "Как видно из графиков, для пользователей тарифа `smart` характерно в месяц писать до 10 сообщений, а для `ultra` примерно до 20 сообщений. Благодаря данным гистограммам видно насколько лучше для анализа строить графики, чем просто знать среднее. Так как, если вспомнить, то среднее для тарифов было 33 и 50. "
   ]
  },
  {
   "cell_type": "code",
   "execution_count": 43,
   "metadata": {},
   "outputs": [
    {
     "data": {
      "image/png": "[encoded data removed]",
      "text/plain": [
       "<Figure size 432x288 with 1 Axes>"
      ]
     },
     "metadata": {
      "needs_background": "light"
     },
     "output_type": "display_data"
    }
   ],
   "source": [
    "sns.distplot(smart['gb_in_month'], bins=15) \n",
    "plt.title(\"Распределение количества потребляемых гб тарифа smart\")\n",
    "plt.xlabel('Количество гб')\n",
    "plt.ylabel('Плотность распределения')\n",
    "plt.show()"
   ]
  },
  {
   "cell_type": "code",
   "execution_count": 44,
   "metadata": {
    "scrolled": true
   },
   "outputs": [
    {
     "data": {
      "image/png": "[encoded data removed]",
      "text/plain": [
       "<Figure size 432x288 with 1 Axes>"
      ]
     },
     "metadata": {
      "needs_background": "light"
     },
     "output_type": "display_data"
    }
   ],
   "source": [
    "sns.distplot(ultra['gb_in_month'], bins=10) \n",
    "plt.title(\"Распределение количества потребляемых гб тарифа ultra\")\n",
    "plt.xlabel('Количество гб')\n",
    "plt.ylabel('Плотность распределения')\n",
    "plt.show()"
   ]
  },
  {
   "cell_type": "markdown",
   "metadata": {},
   "source": [
    "По графикам видно, что в обоих тарифах пользователи используют от 15 до 20 гб."
   ]
  },
  {
   "cell_type": "code",
   "execution_count": 45,
   "metadata": {},
   "outputs": [
    {
     "data": {
      "image/png": "[encoded data removed]",
      "text/plain": [
       "<Figure size 432x288 with 1 Axes>"
      ]
     },
     "metadata": {
      "needs_background": "light"
     },
     "output_type": "display_data"
    }
   ],
   "source": [
    "sns.distplot(smart['revenue'], bins=5) \n",
    "plt.title(\"Распределение выручки тарифа smart\")\n",
    "plt.xlabel('Выручка')\n",
    "plt.ylabel('Плотность распределения')\n",
    "plt.show()"
   ]
  },
  {
   "cell_type": "code",
   "execution_count": 46,
   "metadata": {},
   "outputs": [
    {
     "data": {
      "image/png": "[encoded data removed]",
      "text/plain": [
       "<Figure size 432x288 with 1 Axes>"
      ]
     },
     "metadata": {
      "needs_background": "light"
     },
     "output_type": "display_data"
    }
   ],
   "source": [
    "sns.distplot(ultra['revenue'], bins=5) \n",
    "plt.title(\"Распределение выручки тарифа ultra\")\n",
    "plt.xlabel('Выручка')\n",
    "plt.ylabel('Плотность распределения')\n",
    "plt.show()"
   ]
  },
  {
   "cell_type": "markdown",
   "metadata": {},
   "source": [
    "По графикам видно, что чаще всего выручка в тарифе `smart` около 1000, в тарифе `ultra` составляет от 2000 до 2500 и может показаться, что в тарифе `ultra` выручка получается больше, чем в тарифе `smart`. Но не все так однозначно, так как в тарифе `smart` присутствует досточное количество пользователей, платящих до 3000. "
   ]
  },
  {
   "cell_type": "markdown",
   "metadata": {},
   "source": [
    "### Вывод"
   ]
  },
  {
   "cell_type": "markdown",
   "metadata": {},
   "source": [
    "В данном пункте были проанализированы статистические данные, такие как среднее, дисперсия, среднее отклонение и построены гистограммы, которые лучше дали понять информацию о данных. \n",
    "\n",
    "Средняя длительность звонка для тарифа `smart` 418 минут, для `ultra` — 527. Среднее количество сообений для тарифа `smart` — 33, для `ultra` — 50. Среднее количество использованных гигабайт для тарифа `smart` 16 гб, для `ultra` — 20 гб.\n",
    "\n",
    "\n",
    "Для обоих тарифов характерна длительность 500 минут в месяц. Но в тарифе `smart` сдвиг в меньшую сторону, а для `ultra` - в большую. Для пользователей тарифа `smart` характерно в месяц писать до 10 сообщений, а для `ultra` примерно до 20 сообщений. В обоих тарифах пользователи используют от 15 до 20 гб. Чаще всего выручка в тарифе `smart` около 1000, в тарифе `ultra` составляет от 2000 до 2500 и может показаться, что в тарифе `ultra` выручка получается больше, чем в тарифе `smart`. Но не все так однозначно, так как в тарифе `smart` присутствует досточное количество пользователей, платящих до 3000. "
   ]
  },
  {
   "cell_type": "markdown",
   "metadata": {},
   "source": [
    "## Проверка гипотез"
   ]
  },
  {
   "cell_type": "markdown",
   "metadata": {},
   "source": [
    "* средняя выручка пользователей тарифов `smart` и `ultra` различается;\n",
    "* средняя выручка пользователей из Москвы отличается от выручки пользователей из других регионов;\n",
    "Будем использовать t-критерий Стьюдента, так как сравниваемые выборки независимы между собой. Гипотеза о равенстве средних двух генеральных совокупностей №1\n",
    "\n",
    "Сформулируем гипотезы:\n",
    "\n",
    "- Н0: Выручка тарифов `smart` и `ultra` не различается;\n",
    "- Н1: Выручка тарифов `smart` и `ultra` различается."
   ]
  },
  {
   "cell_type": "markdown",
   "metadata": {},
   "source": [
    "Выведем среднее, дисперсию, среднее квадратическое отклонение по выручке на каждый тариф."
   ]
  },
  {
   "cell_type": "code",
   "execution_count": 47,
   "metadata": {
    "scrolled": true
   },
   "outputs": [
    {
     "name": "stdout",
     "output_type": "stream",
     "text": [
      "Среднее для тарифа smart: 1289.9735307312696\n",
      "Дисперсия для тарифа smart: 669785.7080064242\n",
      "Среднее отклонение для тарифа smart: 818.4043670499469\n",
      "Среднее для тарифа ultra: 2070.1522842639592\n",
      "Дисперсия для тарифа ultra: 141516.7450786183\n",
      "Среднее отклонение для тарифа ultra: 376.1871144505328\n"
     ]
    }
   ],
   "source": [
    "print('Среднее для тарифа smart:', smart['revenue'].mean())\n",
    "print('Дисперсия для тарифа smart:', np.var(smart['revenue'], ddof=1))\n",
    "print('Среднее отклонение для тарифа smart:', np.std(smart['revenue'], ddof=1))\n",
    "print('Среднее для тарифа ultra:', ultra['revenue'].mean())\n",
    "print('Дисперсия для тарифа ultra:', np.var(ultra['revenue'], ddof=1))\n",
    "print('Среднее отклонение для тарифа ultra:', np.std(ultra['revenue'], ddof=1))"
   ]
  },
  {
   "cell_type": "markdown",
   "metadata": {},
   "source": [
    "Так как дисперсии сильно отличаются, то в качестве equal_var примем False."
   ]
  },
  {
   "cell_type": "code",
   "execution_count": 48,
   "metadata": {
    "scrolled": true
   },
   "outputs": [
    {
     "name": "stdout",
     "output_type": "stream",
     "text": [
      "p-значение:  4.2606313931076085e-250\n",
      "Отвергаем нулевую гипотезу\n"
     ]
    }
   ],
   "source": [
    "sample_1 = smart['revenue']\n",
    "sample_2 = ultra['revenue']\n",
    "\n",
    "# принимаем критический уровень статистической значимости\n",
    "# если p-value окажется меньше данного значения - отвергаем нулевую гипотезу\n",
    "alpha = .05\n",
    "\n",
    "# зададим параметр equal_var = False, так как дисперсии выборок не равны между собой\n",
    "results = st.stats.ttest_ind(sample_1, sample_2, equal_var = False)\n",
    "\n",
    "print('p-значение: ', results.pvalue)\n",
    "\n",
    "if results.pvalue < alpha:\n",
    "    print(\"Отвергаем нулевую гипотезу\")\n",
    "else:\n",
    "    print(\"Не получилось отвергнуть нулевую гипотезу\")"
   ]
  },
  {
   "cell_type": "markdown",
   "metadata": {},
   "source": [
    "p-значение достаточно мало, что дает основание отвергнуть предположение об отсутствии различий между выручками у разных тарифных планов, т.е. маловероятна случайность результатов теста гипотезы."
   ]
  },
  {
   "cell_type": "markdown",
   "metadata": {},
   "source": [
    "Сформулируем гипотезы для второй гипотезы:\n",
    "- H0: средняя выручка пользователей из Москвы не отличается от выручки пользователей из других регионов;\n",
    "- H1: средняя выручка пользователей из Москвы отличается от выручки пользователей из других регионов.\n",
    "\n",
    "Посчитаем Среднее, дисперсию, среднее квадратическое отклонение. "
   ]
  },
  {
   "cell_type": "code",
   "execution_count": 49,
   "metadata": {},
   "outputs": [
    {
     "name": "stdout",
     "output_type": "stream",
     "text": [
      "Среднее для Москвы: 1546.7135842880523\n",
      "Дисперсия для Москвы: 565636.467011886\n",
      "Среднее отклонение для Москвы: 752.0880713133841\n",
      "Среднее для провинции: 1524.9362274298885\n",
      "Дисперсия для провинции: 654137.6285218114\n",
      "Среднее отклонение для провинции: 808.7877524553716\n"
     ]
    }
   ],
   "source": [
    "print('Среднее для Москвы:', df.query('city == \"Москва\"')['revenue'].mean())\n",
    "print('Дисперсия для Москвы:', np.var(df.query('city == \"Москва\"')['revenue'], ddof=1))\n",
    "print('Среднее отклонение для Москвы:', np.std(df.query('city == \"Москва\"')['revenue'], ddof=1))\n",
    "print('Среднее для провинции:', df.query('city != \"Москва\"')['revenue'].mean())\n",
    "print('Дисперсия для провинции:', np.var(df.query('city != \"Москва\"')['revenue'], ddof=1))\n",
    "print('Среднее отклонение для провинции:', np.std(df.query('city != \"Москва\"')['revenue'], ddof=1))"
   ]
  },
  {
   "cell_type": "code",
   "execution_count": 50,
   "metadata": {},
   "outputs": [
    {
     "name": "stdout",
     "output_type": "stream",
     "text": [
      "p-значение:  0.5257376663729298\n",
      "Не получилось отвергнуть нулевую гипотезу\n"
     ]
    }
   ],
   "source": [
    "sample_1 = df.query('city == \"Москва\"')['revenue']\n",
    "sample_2 = df.query('city != \"Москва\"')['revenue']\n",
    "\n",
    "# принимаем критический уровень статистической значимости\n",
    "# если p-value окажется меньше данного значения - отвергаем нулевую гипотезу\n",
    "alpha = .05\n",
    "\n",
    "# зададим параметр equal_var = False, так как дисперсии выборок не равны между собой\n",
    "results = st.stats.ttest_ind(sample_1, sample_2, equal_var = False)\n",
    "\n",
    "print('p-значение: ', results.pvalue)\n",
    "\n",
    "if results.pvalue < alpha:\n",
    "    print(\"Отвергаем нулевую гипотезу\")\n",
    "else:\n",
    "    print(\"Не получилось отвергнуть нулевую гипотезу\")"
   ]
  },
  {
   "cell_type": "markdown",
   "metadata": {},
   "source": [
    "Получаем, что средняя выручка мало зависит от региона. По среднему значению так же видно, что числа различаются незначительно. "
   ]
  },
  {
   "cell_type": "markdown",
   "metadata": {},
   "source": [
    "### Вывод"
   ]
  },
  {
   "cell_type": "markdown",
   "metadata": {},
   "source": [
    "В данном пункте были проверены гипотезы, по которым можно сделать вывод, что выручка тарифов `smart` и `ultra` различается, но средняя выручка в Москве и других городах не особо различается."
   ]
  },
  {
   "cell_type": "markdown",
   "metadata": {},
   "source": [
    "## Общий вывод"
   ]
  },
  {
   "cell_type": "markdown",
   "metadata": {},
   "source": [
    "В ходе работы были загружены таблицы с данными, проведена обработка данных, соединены все таблицы и проведен анализ полученной таблицы.\n",
    "\n",
    "Средняя длительность звонка для тарифа `smart` 418 минут, для `ultra` — 527. Среднее количество сообений для тарифа `smart` — 33, для `ultra` — 50. Среднее количество использованных гигабайт для тарифа `smart` 16 гб, для `ultra` — 20 гб.\n",
    "\n",
    "\n",
    "Для обоих тарифов характерна длительность 500 минут в месяц. Но в тарифе `smart` сдвиг в меньшую сторону, а для `ultra` - в большую. Для пользователей тарифа `smart` характерно в месяц писать до 10 сообщений, а для `ultra` примерно до 20 сообщений. В обоих тарифах пользователи используют от 15 до 20 гб. Чаще всего выручка в тарифе `smart` около 1000, в тарифе `ultra` составляет от 2000 до 2500 и может показаться, что в тарифе `ultra` выручка получается больше, чем в тарифе `smart`. Но не все так однозначно, так как в тарифе `smart` присутствует досточное количество пользователей, платящих до 3000. \n",
    "\n",
    "Проверка гипотез показала, что выручка тарифов `smart` и `ultra` различается, но средняя выручка в Москве и других городах не особо различается.\n",
    "\n",
    "Опираясь на данные, коммерческий департамент компании \"Мегалайн\" может скорректировать рекламный бюджет в сторону более прибыльного тарифа — `ultra`."
   ]
  }
 ],
 "metadata": {
  "ExecuteTimeLog": [
   {
    "duration": 445,
    "start_time": "2022-07-28T14:03:26.657Z"
   },
   {
    "duration": 618,
    "start_time": "2022-07-28T14:05:09.370Z"
   },
   {
    "duration": 533,
    "start_time": "2022-07-28T14:06:15.140Z"
   },
   {
    "duration": 208,
    "start_time": "2022-07-28T14:21:17.757Z"
   },
   {
    "duration": 80,
    "start_time": "2022-07-28T14:22:05.591Z"
   },
   {
    "duration": 102,
    "start_time": "2022-07-28T14:23:22.324Z"
   },
   {
    "duration": 42,
    "start_time": "2022-07-28T19:26:28.134Z"
   },
   {
    "duration": 151,
    "start_time": "2022-07-28T19:27:09.785Z"
   },
   {
    "duration": 123,
    "start_time": "2022-07-28T19:28:09.040Z"
   },
   {
    "duration": 109,
    "start_time": "2022-07-28T19:29:38.503Z"
   },
   {
    "duration": 67,
    "start_time": "2022-07-28T19:31:09.815Z"
   },
   {
    "duration": 11,
    "start_time": "2022-07-28T19:32:55.272Z"
   },
   {
    "duration": 7,
    "start_time": "2022-07-28T19:33:48.193Z"
   },
   {
    "duration": 122,
    "start_time": "2022-07-28T19:45:30.036Z"
   },
   {
    "duration": 15,
    "start_time": "2022-07-28T19:45:42.254Z"
   },
   {
    "duration": 421,
    "start_time": "2022-07-28T20:06:47.020Z"
   },
   {
    "duration": 309,
    "start_time": "2022-07-28T20:06:47.443Z"
   },
   {
    "duration": 45,
    "start_time": "2022-07-28T20:06:47.754Z"
   },
   {
    "duration": 125,
    "start_time": "2022-07-28T20:06:47.800Z"
   },
   {
    "duration": 180,
    "start_time": "2022-07-28T20:06:47.927Z"
   },
   {
    "duration": 77,
    "start_time": "2022-07-28T20:06:48.109Z"
   },
   {
    "duration": 119,
    "start_time": "2022-07-28T20:06:48.188Z"
   },
   {
    "duration": 64,
    "start_time": "2022-07-28T20:06:48.310Z"
   },
   {
    "duration": 36,
    "start_time": "2022-07-28T20:06:48.376Z"
   },
   {
    "duration": 35,
    "start_time": "2022-07-28T20:06:48.414Z"
   },
   {
    "duration": 10,
    "start_time": "2022-07-28T20:06:48.451Z"
   },
   {
    "duration": 393,
    "start_time": "2022-08-03T18:38:02.430Z"
   },
   {
    "duration": 294,
    "start_time": "2022-08-03T18:38:02.825Z"
   },
   {
    "duration": 34,
    "start_time": "2022-08-03T18:38:03.121Z"
   },
   {
    "duration": 110,
    "start_time": "2022-08-03T18:38:03.156Z"
   },
   {
    "duration": 340,
    "start_time": "2022-08-03T18:38:03.268Z"
   },
   {
    "duration": 65,
    "start_time": "2022-08-03T18:38:03.610Z"
   },
   {
    "duration": 749,
    "start_time": "2022-08-03T18:38:03.688Z"
   },
   {
    "duration": 60,
    "start_time": "2022-08-03T18:38:04.439Z"
   },
   {
    "duration": 82,
    "start_time": "2022-08-03T18:38:04.502Z"
   },
   {
    "duration": 71,
    "start_time": "2022-08-03T18:38:04.586Z"
   },
   {
    "duration": 8,
    "start_time": "2022-08-03T18:38:04.659Z"
   },
   {
    "duration": 64,
    "start_time": "2022-08-03T19:00:12.471Z"
   },
   {
    "duration": 45,
    "start_time": "2022-08-03T19:13:23.426Z"
   },
   {
    "duration": 20,
    "start_time": "2022-08-03T19:13:30.549Z"
   },
   {
    "duration": 14,
    "start_time": "2022-08-03T19:16:51.733Z"
   },
   {
    "duration": 13,
    "start_time": "2022-08-03T19:27:59.635Z"
   },
   {
    "duration": 77,
    "start_time": "2022-08-03T19:31:26.355Z"
   },
   {
    "duration": 48,
    "start_time": "2022-08-03T19:32:35.268Z"
   },
   {
    "duration": 48,
    "start_time": "2022-08-03T19:39:30.375Z"
   },
   {
    "duration": 30,
    "start_time": "2022-08-03T19:40:18.392Z"
   },
   {
    "duration": 44,
    "start_time": "2022-08-03T19:41:32.097Z"
   },
   {
    "duration": 4,
    "start_time": "2022-08-03T19:42:25.631Z"
   },
   {
    "duration": 29,
    "start_time": "2022-08-03T19:43:09.056Z"
   },
   {
    "duration": 58,
    "start_time": "2022-08-03T19:44:21.466Z"
   },
   {
    "duration": 15,
    "start_time": "2022-08-03T19:44:29.665Z"
   },
   {
    "duration": 19,
    "start_time": "2022-08-03T19:44:59.939Z"
   },
   {
    "duration": 27,
    "start_time": "2022-08-03T19:45:58.483Z"
   },
   {
    "duration": 434,
    "start_time": "2022-08-03T19:46:40.566Z"
   },
   {
    "duration": 223,
    "start_time": "2022-08-03T19:46:41.002Z"
   },
   {
    "duration": 34,
    "start_time": "2022-08-03T19:46:41.226Z"
   },
   {
    "duration": 101,
    "start_time": "2022-08-03T19:46:41.262Z"
   },
   {
    "duration": 157,
    "start_time": "2022-08-03T19:46:41.366Z"
   },
   {
    "duration": 68,
    "start_time": "2022-08-03T19:46:41.525Z"
   },
   {
    "duration": 105,
    "start_time": "2022-08-03T19:46:41.595Z"
   },
   {
    "duration": 53,
    "start_time": "2022-08-03T19:46:41.702Z"
   },
   {
    "duration": 26,
    "start_time": "2022-08-03T19:46:41.756Z"
   },
   {
    "duration": 37,
    "start_time": "2022-08-03T19:46:41.787Z"
   },
   {
    "duration": 8,
    "start_time": "2022-08-03T19:46:41.825Z"
   },
   {
    "duration": 22,
    "start_time": "2022-08-03T19:46:41.834Z"
   },
   {
    "duration": 12,
    "start_time": "2022-08-03T19:46:41.857Z"
   },
   {
    "duration": 64,
    "start_time": "2022-08-03T19:46:41.872Z"
   },
   {
    "duration": 61,
    "start_time": "2022-08-03T19:46:41.938Z"
   },
   {
    "duration": 39,
    "start_time": "2022-08-03T19:46:42.001Z"
   },
   {
    "duration": 46,
    "start_time": "2022-08-03T19:46:42.042Z"
   },
   {
    "duration": 44,
    "start_time": "2022-08-03T19:46:42.089Z"
   },
   {
    "duration": 5,
    "start_time": "2022-08-03T19:46:42.134Z"
   },
   {
    "duration": 51,
    "start_time": "2022-08-03T19:46:42.140Z"
   },
   {
    "duration": 79,
    "start_time": "2022-08-03T19:46:42.193Z"
   },
   {
    "duration": 356,
    "start_time": "2022-08-03T19:47:24.136Z"
   },
   {
    "duration": 195,
    "start_time": "2022-08-03T19:47:24.494Z"
   },
   {
    "duration": 36,
    "start_time": "2022-08-03T19:47:24.690Z"
   },
   {
    "duration": 120,
    "start_time": "2022-08-03T19:47:24.727Z"
   },
   {
    "duration": 156,
    "start_time": "2022-08-03T19:47:24.849Z"
   },
   {
    "duration": 69,
    "start_time": "2022-08-03T19:47:25.007Z"
   },
   {
    "duration": 110,
    "start_time": "2022-08-03T19:47:25.087Z"
   },
   {
    "duration": 58,
    "start_time": "2022-08-03T19:47:25.199Z"
   },
   {
    "duration": 28,
    "start_time": "2022-08-03T19:47:25.259Z"
   },
   {
    "duration": 39,
    "start_time": "2022-08-03T19:47:25.289Z"
   },
   {
    "duration": 10,
    "start_time": "2022-08-03T19:47:25.330Z"
   },
   {
    "duration": 27,
    "start_time": "2022-08-03T19:47:25.342Z"
   },
   {
    "duration": 16,
    "start_time": "2022-08-03T19:47:25.371Z"
   },
   {
    "duration": 62,
    "start_time": "2022-08-03T19:47:25.390Z"
   },
   {
    "duration": 58,
    "start_time": "2022-08-03T19:47:25.454Z"
   },
   {
    "duration": 38,
    "start_time": "2022-08-03T19:47:25.514Z"
   },
   {
    "duration": 43,
    "start_time": "2022-08-03T19:47:25.554Z"
   },
   {
    "duration": 46,
    "start_time": "2022-08-03T19:47:25.599Z"
   },
   {
    "duration": 5,
    "start_time": "2022-08-03T19:47:25.647Z"
   },
   {
    "duration": 46,
    "start_time": "2022-08-03T19:47:25.653Z"
   },
   {
    "duration": 27,
    "start_time": "2022-08-03T19:47:25.701Z"
   },
   {
    "duration": 73,
    "start_time": "2022-08-03T19:47:48.782Z"
   },
   {
    "duration": 8,
    "start_time": "2022-08-03T19:48:02.381Z"
   },
   {
    "duration": 4,
    "start_time": "2022-08-03T19:49:31.266Z"
   },
   {
    "duration": 45,
    "start_time": "2022-08-03T19:49:37.036Z"
   },
   {
    "duration": 431,
    "start_time": "2022-08-03T19:49:50.094Z"
   },
   {
    "duration": 190,
    "start_time": "2022-08-03T19:49:50.526Z"
   },
   {
    "duration": 36,
    "start_time": "2022-08-03T19:49:50.718Z"
   },
   {
    "duration": 141,
    "start_time": "2022-08-03T19:49:50.755Z"
   },
   {
    "duration": 160,
    "start_time": "2022-08-03T19:49:50.898Z"
   },
   {
    "duration": 70,
    "start_time": "2022-08-03T19:49:51.060Z"
   },
   {
    "duration": 105,
    "start_time": "2022-08-03T19:49:51.132Z"
   },
   {
    "duration": 71,
    "start_time": "2022-08-03T19:49:51.238Z"
   },
   {
    "duration": 26,
    "start_time": "2022-08-03T19:49:51.310Z"
   },
   {
    "duration": 37,
    "start_time": "2022-08-03T19:49:51.338Z"
   },
   {
    "duration": 10,
    "start_time": "2022-08-03T19:49:51.376Z"
   },
   {
    "duration": 27,
    "start_time": "2022-08-03T19:49:51.388Z"
   },
   {
    "duration": 13,
    "start_time": "2022-08-03T19:49:51.417Z"
   },
   {
    "duration": 70,
    "start_time": "2022-08-03T19:49:51.433Z"
   },
   {
    "duration": 49,
    "start_time": "2022-08-03T19:49:51.504Z"
   },
   {
    "duration": 60,
    "start_time": "2022-08-03T19:49:51.554Z"
   },
   {
    "duration": 31,
    "start_time": "2022-08-03T19:49:51.616Z"
   },
   {
    "duration": 63,
    "start_time": "2022-08-03T19:49:51.649Z"
   },
   {
    "duration": 5,
    "start_time": "2022-08-03T19:49:51.714Z"
   },
   {
    "duration": 34,
    "start_time": "2022-08-03T19:49:51.721Z"
   },
   {
    "duration": 4,
    "start_time": "2022-08-03T19:49:51.756Z"
   },
   {
    "duration": 57,
    "start_time": "2022-08-03T19:49:51.762Z"
   },
   {
    "duration": 9,
    "start_time": "2022-08-03T19:49:51.821Z"
   },
   {
    "duration": 21,
    "start_time": "2022-08-03T19:49:51.832Z"
   },
   {
    "duration": 13,
    "start_time": "2022-08-03T19:51:33.799Z"
   },
   {
    "duration": 5,
    "start_time": "2022-08-03T19:55:12.042Z"
   },
   {
    "duration": 8,
    "start_time": "2022-08-03T19:55:35.145Z"
   },
   {
    "duration": 12,
    "start_time": "2022-08-03T19:56:03.727Z"
   },
   {
    "duration": 88,
    "start_time": "2022-08-03T19:56:42.835Z"
   },
   {
    "duration": 4,
    "start_time": "2022-08-03T19:56:52.078Z"
   },
   {
    "duration": 79,
    "start_time": "2022-08-03T19:59:06.959Z"
   },
   {
    "duration": 4,
    "start_time": "2022-08-03T19:59:23.027Z"
   },
   {
    "duration": 839,
    "start_time": "2022-08-03T19:59:24.931Z"
   },
   {
    "duration": 424,
    "start_time": "2022-08-03T20:00:31.581Z"
   },
   {
    "duration": 195,
    "start_time": "2022-08-03T20:00:32.007Z"
   },
   {
    "duration": 37,
    "start_time": "2022-08-03T20:00:32.204Z"
   },
   {
    "duration": 119,
    "start_time": "2022-08-03T20:00:32.244Z"
   },
   {
    "duration": 161,
    "start_time": "2022-08-03T20:00:32.365Z"
   },
   {
    "duration": 74,
    "start_time": "2022-08-03T20:00:32.528Z"
   },
   {
    "duration": 110,
    "start_time": "2022-08-03T20:00:32.603Z"
   },
   {
    "duration": 53,
    "start_time": "2022-08-03T20:00:32.715Z"
   },
   {
    "duration": 26,
    "start_time": "2022-08-03T20:00:32.770Z"
   },
   {
    "duration": 39,
    "start_time": "2022-08-03T20:00:32.799Z"
   },
   {
    "duration": 9,
    "start_time": "2022-08-03T20:00:32.840Z"
   },
   {
    "duration": 22,
    "start_time": "2022-08-03T20:00:32.850Z"
   },
   {
    "duration": 20,
    "start_time": "2022-08-03T20:00:32.874Z"
   },
   {
    "duration": 62,
    "start_time": "2022-08-03T20:00:32.896Z"
   },
   {
    "duration": 64,
    "start_time": "2022-08-03T20:00:32.960Z"
   },
   {
    "duration": 39,
    "start_time": "2022-08-03T20:00:33.026Z"
   },
   {
    "duration": 43,
    "start_time": "2022-08-03T20:00:33.067Z"
   },
   {
    "duration": 45,
    "start_time": "2022-08-03T20:00:33.112Z"
   },
   {
    "duration": 4,
    "start_time": "2022-08-03T20:00:33.159Z"
   },
   {
    "duration": 51,
    "start_time": "2022-08-03T20:00:33.165Z"
   },
   {
    "duration": 4,
    "start_time": "2022-08-03T20:00:33.218Z"
   },
   {
    "duration": 36,
    "start_time": "2022-08-03T20:00:33.224Z"
   },
   {
    "duration": 28,
    "start_time": "2022-08-03T20:00:33.261Z"
   },
   {
    "duration": 5,
    "start_time": "2022-08-03T20:00:33.291Z"
   },
   {
    "duration": 10,
    "start_time": "2022-08-03T20:00:33.298Z"
   },
   {
    "duration": 9,
    "start_time": "2022-08-03T20:00:33.310Z"
   },
   {
    "duration": 4,
    "start_time": "2022-08-03T20:00:33.321Z"
   },
   {
    "duration": 143,
    "start_time": "2022-08-03T20:00:33.327Z"
   },
   {
    "duration": 429,
    "start_time": "2022-08-03T20:01:23.764Z"
   },
   {
    "duration": 198,
    "start_time": "2022-08-03T20:01:24.195Z"
   },
   {
    "duration": 34,
    "start_time": "2022-08-03T20:01:24.395Z"
   },
   {
    "duration": 111,
    "start_time": "2022-08-03T20:01:24.431Z"
   },
   {
    "duration": 153,
    "start_time": "2022-08-03T20:01:24.545Z"
   },
   {
    "duration": 61,
    "start_time": "2022-08-03T20:01:24.699Z"
   },
   {
    "duration": 108,
    "start_time": "2022-08-03T20:01:24.762Z"
   },
   {
    "duration": 62,
    "start_time": "2022-08-03T20:01:24.872Z"
   },
   {
    "duration": 26,
    "start_time": "2022-08-03T20:01:24.936Z"
   },
   {
    "duration": 38,
    "start_time": "2022-08-03T20:01:24.963Z"
   },
   {
    "duration": 11,
    "start_time": "2022-08-03T20:01:25.003Z"
   },
   {
    "duration": 29,
    "start_time": "2022-08-03T20:01:25.015Z"
   },
   {
    "duration": 15,
    "start_time": "2022-08-03T20:01:25.045Z"
   },
   {
    "duration": 68,
    "start_time": "2022-08-03T20:01:25.062Z"
   },
   {
    "duration": 56,
    "start_time": "2022-08-03T20:01:25.131Z"
   },
   {
    "duration": 38,
    "start_time": "2022-08-03T20:01:25.189Z"
   },
   {
    "duration": 61,
    "start_time": "2022-08-03T20:01:25.229Z"
   },
   {
    "duration": 44,
    "start_time": "2022-08-03T20:01:25.292Z"
   },
   {
    "duration": 4,
    "start_time": "2022-08-03T20:01:25.338Z"
   },
   {
    "duration": 47,
    "start_time": "2022-08-03T20:01:25.344Z"
   },
   {
    "duration": 3,
    "start_time": "2022-08-03T20:01:25.393Z"
   },
   {
    "duration": 34,
    "start_time": "2022-08-03T20:01:25.397Z"
   },
   {
    "duration": 13,
    "start_time": "2022-08-03T20:01:25.433Z"
   },
   {
    "duration": 7,
    "start_time": "2022-08-03T20:01:25.448Z"
   },
   {
    "duration": 31,
    "start_time": "2022-08-03T20:01:25.457Z"
   },
   {
    "duration": 13,
    "start_time": "2022-08-03T20:01:25.490Z"
   },
   {
    "duration": 4,
    "start_time": "2022-08-03T20:01:25.505Z"
   },
   {
    "duration": 1058,
    "start_time": "2022-08-03T20:01:25.510Z"
   },
   {
    "duration": 4,
    "start_time": "2022-08-03T20:01:52.041Z"
   },
   {
    "duration": 987,
    "start_time": "2022-08-03T20:01:53.933Z"
   },
   {
    "duration": 395,
    "start_time": "2022-08-04T16:41:07.531Z"
   },
   {
    "duration": 296,
    "start_time": "2022-08-04T16:41:07.928Z"
   },
   {
    "duration": 35,
    "start_time": "2022-08-04T16:41:08.226Z"
   },
   {
    "duration": 94,
    "start_time": "2022-08-04T16:41:08.263Z"
   },
   {
    "duration": 345,
    "start_time": "2022-08-04T16:41:08.360Z"
   },
   {
    "duration": 78,
    "start_time": "2022-08-04T16:41:08.707Z"
   },
   {
    "duration": 367,
    "start_time": "2022-08-04T16:41:08.787Z"
   },
   {
    "duration": 51,
    "start_time": "2022-08-04T16:41:09.156Z"
   },
   {
    "duration": 91,
    "start_time": "2022-08-04T16:41:09.209Z"
   },
   {
    "duration": 73,
    "start_time": "2022-08-04T16:41:09.301Z"
   },
   {
    "duration": 10,
    "start_time": "2022-08-04T16:41:09.375Z"
   },
   {
    "duration": 19,
    "start_time": "2022-08-04T16:41:09.387Z"
   },
   {
    "duration": 22,
    "start_time": "2022-08-04T16:41:09.408Z"
   },
   {
    "duration": 67,
    "start_time": "2022-08-04T16:41:09.434Z"
   },
   {
    "duration": 51,
    "start_time": "2022-08-04T16:41:09.503Z"
   },
   {
    "duration": 34,
    "start_time": "2022-08-04T16:41:09.556Z"
   },
   {
    "duration": 45,
    "start_time": "2022-08-04T16:41:09.592Z"
   },
   {
    "duration": 40,
    "start_time": "2022-08-04T16:41:09.639Z"
   },
   {
    "duration": 4,
    "start_time": "2022-08-04T16:41:09.681Z"
   },
   {
    "duration": 38,
    "start_time": "2022-08-04T16:41:09.717Z"
   },
   {
    "duration": 3,
    "start_time": "2022-08-04T16:41:09.756Z"
   },
   {
    "duration": 35,
    "start_time": "2022-08-04T16:41:09.760Z"
   },
   {
    "duration": 36,
    "start_time": "2022-08-04T16:41:09.797Z"
   },
   {
    "duration": 5,
    "start_time": "2022-08-04T16:41:09.835Z"
   },
   {
    "duration": 13,
    "start_time": "2022-08-04T16:41:09.842Z"
   },
   {
    "duration": 10,
    "start_time": "2022-08-04T16:41:09.857Z"
   },
   {
    "duration": 6,
    "start_time": "2022-08-04T16:41:09.869Z"
   },
   {
    "duration": 1253,
    "start_time": "2022-08-04T16:41:09.877Z"
   },
   {
    "duration": 403,
    "start_time": "2022-08-04T16:58:54.246Z"
   },
   {
    "duration": 188,
    "start_time": "2022-08-04T16:58:54.651Z"
   },
   {
    "duration": 35,
    "start_time": "2022-08-04T16:58:54.841Z"
   },
   {
    "duration": 101,
    "start_time": "2022-08-04T16:58:54.877Z"
   },
   {
    "duration": 157,
    "start_time": "2022-08-04T16:58:54.980Z"
   },
   {
    "duration": 82,
    "start_time": "2022-08-04T16:58:55.139Z"
   },
   {
    "duration": 122,
    "start_time": "2022-08-04T16:58:55.226Z"
   },
   {
    "duration": 61,
    "start_time": "2022-08-04T16:58:55.350Z"
   },
   {
    "duration": 33,
    "start_time": "2022-08-04T16:58:55.412Z"
   },
   {
    "duration": 38,
    "start_time": "2022-08-04T16:58:55.446Z"
   },
   {
    "duration": 12,
    "start_time": "2022-08-04T16:58:55.485Z"
   },
   {
    "duration": 26,
    "start_time": "2022-08-04T16:58:55.499Z"
   },
   {
    "duration": 17,
    "start_time": "2022-08-04T16:58:55.527Z"
   },
   {
    "duration": 71,
    "start_time": "2022-08-04T16:58:55.547Z"
   },
   {
    "duration": 52,
    "start_time": "2022-08-04T16:58:55.619Z"
   },
   {
    "duration": 52,
    "start_time": "2022-08-04T16:58:55.673Z"
   },
   {
    "duration": 30,
    "start_time": "2022-08-04T16:58:55.727Z"
   },
   {
    "duration": 40,
    "start_time": "2022-08-04T16:58:55.759Z"
   },
   {
    "duration": 12,
    "start_time": "2022-08-04T16:58:55.801Z"
   },
   {
    "duration": 40,
    "start_time": "2022-08-04T16:58:55.815Z"
   },
   {
    "duration": 3,
    "start_time": "2022-08-04T16:58:55.856Z"
   },
   {
    "duration": 34,
    "start_time": "2022-08-04T16:58:55.861Z"
   },
   {
    "duration": 32,
    "start_time": "2022-08-04T16:58:55.896Z"
   },
   {
    "duration": 904,
    "start_time": "2022-08-04T16:58:55.931Z"
   },
   {
    "duration": 0,
    "start_time": "2022-08-04T16:58:56.836Z"
   },
   {
    "duration": 0,
    "start_time": "2022-08-04T16:58:56.838Z"
   },
   {
    "duration": 0,
    "start_time": "2022-08-04T16:58:56.839Z"
   },
   {
    "duration": 0,
    "start_time": "2022-08-04T16:58:56.840Z"
   },
   {
    "duration": 425,
    "start_time": "2022-08-04T16:59:55.504Z"
   },
   {
    "duration": 234,
    "start_time": "2022-08-04T16:59:55.931Z"
   },
   {
    "duration": 36,
    "start_time": "2022-08-04T16:59:56.166Z"
   },
   {
    "duration": 113,
    "start_time": "2022-08-04T16:59:56.204Z"
   },
   {
    "duration": 197,
    "start_time": "2022-08-04T16:59:56.320Z"
   },
   {
    "duration": 98,
    "start_time": "2022-08-04T16:59:56.519Z"
   },
   {
    "duration": 142,
    "start_time": "2022-08-04T16:59:56.619Z"
   },
   {
    "duration": 90,
    "start_time": "2022-08-04T16:59:56.764Z"
   },
   {
    "duration": 29,
    "start_time": "2022-08-04T16:59:56.856Z"
   },
   {
    "duration": 64,
    "start_time": "2022-08-04T16:59:56.887Z"
   },
   {
    "duration": 16,
    "start_time": "2022-08-04T16:59:56.952Z"
   },
   {
    "duration": 55,
    "start_time": "2022-08-04T16:59:56.970Z"
   },
   {
    "duration": 45,
    "start_time": "2022-08-04T16:59:57.027Z"
   },
   {
    "duration": 79,
    "start_time": "2022-08-04T16:59:57.076Z"
   },
   {
    "duration": 79,
    "start_time": "2022-08-04T16:59:57.157Z"
   },
   {
    "duration": 35,
    "start_time": "2022-08-04T16:59:57.238Z"
   },
   {
    "duration": 56,
    "start_time": "2022-08-04T16:59:57.275Z"
   },
   {
    "duration": 43,
    "start_time": "2022-08-04T16:59:57.333Z"
   },
   {
    "duration": 5,
    "start_time": "2022-08-04T16:59:57.377Z"
   },
   {
    "duration": 51,
    "start_time": "2022-08-04T16:59:57.384Z"
   },
   {
    "duration": 3,
    "start_time": "2022-08-04T16:59:57.437Z"
   },
   {
    "duration": 44,
    "start_time": "2022-08-04T16:59:57.442Z"
   },
   {
    "duration": 42,
    "start_time": "2022-08-04T16:59:57.488Z"
   },
   {
    "duration": 5,
    "start_time": "2022-08-04T16:59:57.532Z"
   },
   {
    "duration": 9,
    "start_time": "2022-08-04T16:59:57.539Z"
   },
   {
    "duration": 15,
    "start_time": "2022-08-04T16:59:57.550Z"
   },
   {
    "duration": 7,
    "start_time": "2022-08-04T16:59:57.567Z"
   },
   {
    "duration": 1363,
    "start_time": "2022-08-04T16:59:57.576Z"
   },
   {
    "duration": 3,
    "start_time": "2022-08-04T17:00:34.675Z"
   },
   {
    "duration": 1411,
    "start_time": "2022-08-04T17:00:37.024Z"
   },
   {
    "duration": 5,
    "start_time": "2022-08-04T17:02:00.425Z"
   },
   {
    "duration": 972,
    "start_time": "2022-08-04T17:02:02.983Z"
   },
   {
    "duration": 5,
    "start_time": "2022-08-04T17:02:46.657Z"
   },
   {
    "duration": 1062,
    "start_time": "2022-08-04T17:02:49.123Z"
   },
   {
    "duration": 9,
    "start_time": "2022-08-04T17:03:19.437Z"
   },
   {
    "duration": 1399,
    "start_time": "2022-08-04T17:03:21.856Z"
   },
   {
    "duration": 5,
    "start_time": "2022-08-04T17:03:30.230Z"
   },
   {
    "duration": 160,
    "start_time": "2022-08-04T17:03:34.069Z"
   },
   {
    "duration": 4,
    "start_time": "2022-08-04T17:45:47.160Z"
   },
   {
    "duration": 363,
    "start_time": "2022-08-04T17:45:53.166Z"
   },
   {
    "duration": 181,
    "start_time": "2022-08-04T17:45:53.532Z"
   },
   {
    "duration": 63,
    "start_time": "2022-08-04T17:45:53.715Z"
   },
   {
    "duration": 94,
    "start_time": "2022-08-04T17:45:53.781Z"
   },
   {
    "duration": 155,
    "start_time": "2022-08-04T17:45:53.876Z"
   },
   {
    "duration": 64,
    "start_time": "2022-08-04T17:45:54.033Z"
   },
   {
    "duration": 132,
    "start_time": "2022-08-04T17:45:54.099Z"
   },
   {
    "duration": 50,
    "start_time": "2022-08-04T17:45:54.233Z"
   },
   {
    "duration": 35,
    "start_time": "2022-08-04T17:45:54.285Z"
   },
   {
    "duration": 38,
    "start_time": "2022-08-04T17:45:54.327Z"
   },
   {
    "duration": 9,
    "start_time": "2022-08-04T17:45:54.367Z"
   },
   {
    "duration": 22,
    "start_time": "2022-08-04T17:45:54.378Z"
   },
   {
    "duration": 23,
    "start_time": "2022-08-04T17:45:54.402Z"
   },
   {
    "duration": 58,
    "start_time": "2022-08-04T17:45:54.430Z"
   },
   {
    "duration": 52,
    "start_time": "2022-08-04T17:45:54.490Z"
   },
   {
    "duration": 34,
    "start_time": "2022-08-04T17:45:54.544Z"
   },
   {
    "duration": 52,
    "start_time": "2022-08-04T17:45:54.580Z"
   },
   {
    "duration": 40,
    "start_time": "2022-08-04T17:45:54.634Z"
   },
   {
    "duration": 5,
    "start_time": "2022-08-04T17:45:54.676Z"
   },
   {
    "duration": 74,
    "start_time": "2022-08-04T17:45:54.683Z"
   },
   {
    "duration": 4,
    "start_time": "2022-08-04T17:45:54.759Z"
   },
   {
    "duration": 33,
    "start_time": "2022-08-04T17:45:54.764Z"
   },
   {
    "duration": 33,
    "start_time": "2022-08-04T17:45:54.799Z"
   },
   {
    "duration": 6,
    "start_time": "2022-08-04T17:45:54.833Z"
   },
   {
    "duration": 11,
    "start_time": "2022-08-04T17:45:54.841Z"
   },
   {
    "duration": 11,
    "start_time": "2022-08-04T17:45:54.853Z"
   },
   {
    "duration": 5,
    "start_time": "2022-08-04T17:45:54.866Z"
   },
   {
    "duration": 185,
    "start_time": "2022-08-04T17:45:54.875Z"
   },
   {
    "duration": 1147,
    "start_time": "2022-08-04T17:50:12.060Z"
   },
   {
    "duration": 395,
    "start_time": "2022-08-04T17:50:39.610Z"
   },
   {
    "duration": 210,
    "start_time": "2022-08-04T17:50:40.007Z"
   },
   {
    "duration": 44,
    "start_time": "2022-08-04T17:50:40.227Z"
   },
   {
    "duration": 107,
    "start_time": "2022-08-04T17:50:40.273Z"
   },
   {
    "duration": 185,
    "start_time": "2022-08-04T17:50:40.383Z"
   },
   {
    "duration": 80,
    "start_time": "2022-08-04T17:50:40.571Z"
   },
   {
    "duration": 105,
    "start_time": "2022-08-04T17:50:40.653Z"
   },
   {
    "duration": 66,
    "start_time": "2022-08-04T17:50:40.760Z"
   },
   {
    "duration": 25,
    "start_time": "2022-08-04T17:50:40.830Z"
   },
   {
    "duration": 44,
    "start_time": "2022-08-04T17:50:40.856Z"
   },
   {
    "duration": 22,
    "start_time": "2022-08-04T17:50:40.902Z"
   },
   {
    "duration": 32,
    "start_time": "2022-08-04T17:50:40.926Z"
   },
   {
    "duration": 12,
    "start_time": "2022-08-04T17:50:40.960Z"
   },
   {
    "duration": 71,
    "start_time": "2022-08-04T17:50:40.976Z"
   },
   {
    "duration": 46,
    "start_time": "2022-08-04T17:50:41.048Z"
   },
   {
    "duration": 55,
    "start_time": "2022-08-04T17:50:41.095Z"
   },
   {
    "duration": 31,
    "start_time": "2022-08-04T17:50:41.152Z"
   },
   {
    "duration": 69,
    "start_time": "2022-08-04T17:50:41.184Z"
   },
   {
    "duration": 4,
    "start_time": "2022-08-04T17:50:41.256Z"
   },
   {
    "duration": 33,
    "start_time": "2022-08-04T17:50:41.262Z"
   },
   {
    "duration": 14,
    "start_time": "2022-08-04T17:50:41.310Z"
   },
   {
    "duration": 54,
    "start_time": "2022-08-04T17:50:41.326Z"
   },
   {
    "duration": 12,
    "start_time": "2022-08-04T17:50:41.382Z"
   },
   {
    "duration": 4,
    "start_time": "2022-08-04T17:50:41.396Z"
   },
   {
    "duration": 22,
    "start_time": "2022-08-04T17:50:41.402Z"
   },
   {
    "duration": 22,
    "start_time": "2022-08-04T17:50:41.427Z"
   },
   {
    "duration": 951,
    "start_time": "2022-08-04T17:50:41.451Z"
   },
   {
    "duration": 0,
    "start_time": "2022-08-04T17:50:42.404Z"
   },
   {
    "duration": 0,
    "start_time": "2022-08-04T17:50:42.406Z"
   },
   {
    "duration": 394,
    "start_time": "2022-08-04T17:51:02.849Z"
   },
   {
    "duration": 184,
    "start_time": "2022-08-04T17:51:03.245Z"
   },
   {
    "duration": 50,
    "start_time": "2022-08-04T17:51:03.431Z"
   },
   {
    "duration": 94,
    "start_time": "2022-08-04T17:51:03.483Z"
   },
   {
    "duration": 154,
    "start_time": "2022-08-04T17:51:03.580Z"
   },
   {
    "duration": 62,
    "start_time": "2022-08-04T17:51:03.736Z"
   },
   {
    "duration": 122,
    "start_time": "2022-08-04T17:51:03.800Z"
   },
   {
    "duration": 52,
    "start_time": "2022-08-04T17:51:03.923Z"
   },
   {
    "duration": 26,
    "start_time": "2022-08-04T17:51:03.976Z"
   },
   {
    "duration": 45,
    "start_time": "2022-08-04T17:51:04.003Z"
   },
   {
    "duration": 9,
    "start_time": "2022-08-04T17:51:04.050Z"
   },
   {
    "duration": 20,
    "start_time": "2022-08-04T17:51:04.060Z"
   },
   {
    "duration": 12,
    "start_time": "2022-08-04T17:51:04.082Z"
   },
   {
    "duration": 60,
    "start_time": "2022-08-04T17:51:04.096Z"
   },
   {
    "duration": 45,
    "start_time": "2022-08-04T17:51:04.157Z"
   },
   {
    "duration": 43,
    "start_time": "2022-08-04T17:51:04.204Z"
   },
   {
    "duration": 36,
    "start_time": "2022-08-04T17:51:04.249Z"
   },
   {
    "duration": 59,
    "start_time": "2022-08-04T17:51:04.287Z"
   },
   {
    "duration": 4,
    "start_time": "2022-08-04T17:51:04.348Z"
   },
   {
    "duration": 39,
    "start_time": "2022-08-04T17:51:04.354Z"
   },
   {
    "duration": 22,
    "start_time": "2022-08-04T17:51:04.395Z"
   },
   {
    "duration": 42,
    "start_time": "2022-08-04T17:51:04.419Z"
   },
   {
    "duration": 11,
    "start_time": "2022-08-04T17:51:04.463Z"
   },
   {
    "duration": 4,
    "start_time": "2022-08-04T17:51:04.475Z"
   },
   {
    "duration": 8,
    "start_time": "2022-08-04T17:51:04.480Z"
   },
   {
    "duration": 34,
    "start_time": "2022-08-04T17:51:04.490Z"
   },
   {
    "duration": 8,
    "start_time": "2022-08-04T17:51:04.526Z"
   },
   {
    "duration": 5,
    "start_time": "2022-08-04T17:51:04.535Z"
   },
   {
    "duration": 153,
    "start_time": "2022-08-04T17:51:04.542Z"
   },
   {
    "duration": 356,
    "start_time": "2022-08-04T17:51:33.176Z"
   },
   {
    "duration": 175,
    "start_time": "2022-08-04T17:51:33.534Z"
   },
   {
    "duration": 35,
    "start_time": "2022-08-04T17:51:33.718Z"
   },
   {
    "duration": 102,
    "start_time": "2022-08-04T17:51:33.755Z"
   },
   {
    "duration": 146,
    "start_time": "2022-08-04T17:51:33.859Z"
   },
   {
    "duration": 67,
    "start_time": "2022-08-04T17:51:34.007Z"
   },
   {
    "duration": 107,
    "start_time": "2022-08-04T17:51:34.075Z"
   },
   {
    "duration": 58,
    "start_time": "2022-08-04T17:51:34.184Z"
   },
   {
    "duration": 29,
    "start_time": "2022-08-04T17:51:34.243Z"
   },
   {
    "duration": 40,
    "start_time": "2022-08-04T17:51:34.273Z"
   },
   {
    "duration": 13,
    "start_time": "2022-08-04T17:51:34.324Z"
   },
   {
    "duration": 26,
    "start_time": "2022-08-04T17:51:34.339Z"
   },
   {
    "duration": 16,
    "start_time": "2022-08-04T17:51:34.367Z"
   },
   {
    "duration": 73,
    "start_time": "2022-08-04T17:51:34.385Z"
   },
   {
    "duration": 45,
    "start_time": "2022-08-04T17:51:34.460Z"
   },
   {
    "duration": 35,
    "start_time": "2022-08-04T17:51:34.518Z"
   },
   {
    "duration": 29,
    "start_time": "2022-08-04T17:51:34.555Z"
   },
   {
    "duration": 54,
    "start_time": "2022-08-04T17:51:34.586Z"
   },
   {
    "duration": 4,
    "start_time": "2022-08-04T17:51:34.642Z"
   },
   {
    "duration": 48,
    "start_time": "2022-08-04T17:51:34.647Z"
   },
   {
    "duration": 4,
    "start_time": "2022-08-04T17:51:34.717Z"
   },
   {
    "duration": 33,
    "start_time": "2022-08-04T17:51:34.723Z"
   },
   {
    "duration": 11,
    "start_time": "2022-08-04T17:51:34.758Z"
   },
   {
    "duration": 5,
    "start_time": "2022-08-04T17:51:34.770Z"
   },
   {
    "duration": 12,
    "start_time": "2022-08-04T17:51:34.776Z"
   },
   {
    "duration": 36,
    "start_time": "2022-08-04T17:51:34.790Z"
   },
   {
    "duration": 7,
    "start_time": "2022-08-04T17:51:34.827Z"
   },
   {
    "duration": 4,
    "start_time": "2022-08-04T17:51:34.835Z"
   },
   {
    "duration": 142,
    "start_time": "2022-08-04T17:51:34.841Z"
   },
   {
    "duration": 21,
    "start_time": "2022-08-04T17:55:02.127Z"
   },
   {
    "duration": 10,
    "start_time": "2022-08-04T18:10:40.334Z"
   },
   {
    "duration": 14,
    "start_time": "2022-08-04T18:10:54.343Z"
   },
   {
    "duration": 45,
    "start_time": "2022-08-04T18:11:51.930Z"
   },
   {
    "duration": 40,
    "start_time": "2022-08-04T18:12:49.373Z"
   },
   {
    "duration": 905,
    "start_time": "2022-08-04T18:17:36.197Z"
   },
   {
    "duration": 5,
    "start_time": "2022-08-04T18:17:57.326Z"
   },
   {
    "duration": 8,
    "start_time": "2022-08-04T18:19:34.072Z"
   },
   {
    "duration": 8,
    "start_time": "2022-08-04T18:21:21.634Z"
   },
   {
    "duration": 7,
    "start_time": "2022-08-04T18:21:50.730Z"
   },
   {
    "duration": 7,
    "start_time": "2022-08-04T18:53:58.839Z"
   },
   {
    "duration": 7,
    "start_time": "2022-08-04T18:55:09.855Z"
   },
   {
    "duration": 1054,
    "start_time": "2022-08-04T18:58:13.851Z"
   },
   {
    "duration": 1151,
    "start_time": "2022-08-04T18:58:18.086Z"
   },
   {
    "duration": 201,
    "start_time": "2022-08-04T18:58:19.245Z"
   },
   {
    "duration": 39,
    "start_time": "2022-08-04T18:58:19.450Z"
   },
   {
    "duration": 104,
    "start_time": "2022-08-04T18:58:19.491Z"
   },
   {
    "duration": 169,
    "start_time": "2022-08-04T18:58:19.597Z"
   },
   {
    "duration": 77,
    "start_time": "2022-08-04T18:58:19.768Z"
   },
   {
    "duration": 112,
    "start_time": "2022-08-04T18:58:19.850Z"
   },
   {
    "duration": 58,
    "start_time": "2022-08-04T18:58:19.964Z"
   },
   {
    "duration": 31,
    "start_time": "2022-08-04T18:58:20.038Z"
   },
   {
    "duration": 37,
    "start_time": "2022-08-04T18:58:20.072Z"
   },
   {
    "duration": 12,
    "start_time": "2022-08-04T18:58:20.115Z"
   },
   {
    "duration": 48,
    "start_time": "2022-08-04T18:58:20.134Z"
   },
   {
    "duration": 25,
    "start_time": "2022-08-04T18:58:20.184Z"
   },
   {
    "duration": 107,
    "start_time": "2022-08-04T18:58:20.217Z"
   },
   {
    "duration": 45,
    "start_time": "2022-08-04T18:58:20.338Z"
   },
   {
    "duration": 45,
    "start_time": "2022-08-04T18:58:20.385Z"
   },
   {
    "duration": 51,
    "start_time": "2022-08-04T18:58:20.432Z"
   },
   {
    "duration": 72,
    "start_time": "2022-08-04T18:58:20.485Z"
   },
   {
    "duration": 5,
    "start_time": "2022-08-04T18:58:20.558Z"
   },
   {
    "duration": 40,
    "start_time": "2022-08-04T18:58:20.565Z"
   },
   {
    "duration": 14,
    "start_time": "2022-08-04T18:58:20.607Z"
   },
   {
    "duration": 39,
    "start_time": "2022-08-04T18:58:20.650Z"
   },
   {
    "duration": 13,
    "start_time": "2022-08-04T18:58:20.691Z"
   },
   {
    "duration": 9,
    "start_time": "2022-08-04T18:58:20.706Z"
   },
   {
    "duration": 44,
    "start_time": "2022-08-04T18:58:20.718Z"
   },
   {
    "duration": 14,
    "start_time": "2022-08-04T18:58:20.764Z"
   },
   {
    "duration": 7,
    "start_time": "2022-08-04T18:58:20.779Z"
   },
   {
    "duration": 5,
    "start_time": "2022-08-04T18:58:20.790Z"
   },
   {
    "duration": 179,
    "start_time": "2022-08-04T18:58:20.797Z"
   },
   {
    "duration": 22,
    "start_time": "2022-08-04T18:58:20.977Z"
   },
   {
    "duration": 21,
    "start_time": "2022-08-04T18:58:21.000Z"
   },
   {
    "duration": 87,
    "start_time": "2022-08-04T18:58:21.023Z"
   },
   {
    "duration": 41,
    "start_time": "2022-08-04T18:58:21.121Z"
   },
   {
    "duration": 17,
    "start_time": "2022-08-04T18:58:21.164Z"
   },
   {
    "duration": 7,
    "start_time": "2022-08-04T18:58:21.183Z"
   },
   {
    "duration": 19,
    "start_time": "2022-08-04T18:58:21.191Z"
   },
   {
    "duration": 26939,
    "start_time": "2022-08-04T19:09:46.624Z"
   },
   {
    "duration": 29508,
    "start_time": "2022-08-04T19:10:36.863Z"
   },
   {
    "duration": 125,
    "start_time": "2022-08-04T19:11:46.060Z"
   },
   {
    "duration": 151,
    "start_time": "2022-08-04T19:13:55.737Z"
   },
   {
    "duration": 164,
    "start_time": "2022-08-04T19:15:45.697Z"
   },
   {
    "duration": 210,
    "start_time": "2022-08-04T19:17:36.062Z"
   },
   {
    "duration": 1269,
    "start_time": "2022-08-05T10:21:32.484Z"
   },
   {
    "duration": 550,
    "start_time": "2022-08-05T10:21:33.755Z"
   },
   {
    "duration": 34,
    "start_time": "2022-08-05T10:21:34.307Z"
   },
   {
    "duration": 101,
    "start_time": "2022-08-05T10:21:34.343Z"
   },
   {
    "duration": 426,
    "start_time": "2022-08-05T10:21:34.446Z"
   },
   {
    "duration": 60,
    "start_time": "2022-08-05T10:21:34.874Z"
   },
   {
    "duration": 159,
    "start_time": "2022-08-05T10:21:34.936Z"
   },
   {
    "duration": 50,
    "start_time": "2022-08-05T10:21:35.097Z"
   },
   {
    "duration": 56,
    "start_time": "2022-08-05T10:21:35.148Z"
   },
   {
    "duration": 68,
    "start_time": "2022-08-05T10:21:35.206Z"
   },
   {
    "duration": 8,
    "start_time": "2022-08-05T10:21:35.276Z"
   },
   {
    "duration": 20,
    "start_time": "2022-08-05T10:21:35.286Z"
   },
   {
    "duration": 12,
    "start_time": "2022-08-05T10:21:35.308Z"
   },
   {
    "duration": 62,
    "start_time": "2022-08-05T10:21:35.322Z"
   },
   {
    "duration": 65,
    "start_time": "2022-08-05T10:21:35.387Z"
   },
   {
    "duration": 60,
    "start_time": "2022-08-05T10:21:35.455Z"
   },
   {
    "duration": 32,
    "start_time": "2022-08-05T10:21:35.517Z"
   },
   {
    "duration": 68,
    "start_time": "2022-08-05T10:21:35.551Z"
   },
   {
    "duration": 6,
    "start_time": "2022-08-05T10:21:35.621Z"
   },
   {
    "duration": 34,
    "start_time": "2022-08-05T10:21:35.629Z"
   },
   {
    "duration": 3,
    "start_time": "2022-08-05T10:21:35.664Z"
   },
   {
    "duration": 52,
    "start_time": "2022-08-05T10:21:35.669Z"
   },
   {
    "duration": 12,
    "start_time": "2022-08-05T10:21:35.722Z"
   },
   {
    "duration": 5,
    "start_time": "2022-08-05T10:21:35.736Z"
   },
   {
    "duration": 14,
    "start_time": "2022-08-05T10:21:35.742Z"
   },
   {
    "duration": 12,
    "start_time": "2022-08-05T10:21:35.757Z"
   },
   {
    "duration": 5,
    "start_time": "2022-08-05T10:21:35.771Z"
   },
   {
    "duration": 3,
    "start_time": "2022-08-05T10:21:35.778Z"
   },
   {
    "duration": 169,
    "start_time": "2022-08-05T10:21:35.782Z"
   },
   {
    "duration": 21,
    "start_time": "2022-08-05T10:21:35.953Z"
   },
   {
    "duration": 9,
    "start_time": "2022-08-05T10:21:35.975Z"
   },
   {
    "duration": 73,
    "start_time": "2022-08-05T10:21:35.985Z"
   },
   {
    "duration": 76,
    "start_time": "2022-08-05T10:21:36.060Z"
   },
   {
    "duration": 9,
    "start_time": "2022-08-05T10:21:36.141Z"
   },
   {
    "duration": 17,
    "start_time": "2022-08-05T10:21:36.152Z"
   },
   {
    "duration": 20,
    "start_time": "2022-08-05T10:21:36.171Z"
   },
   {
    "duration": 192,
    "start_time": "2022-08-05T10:21:36.193Z"
   },
   {
    "duration": 93,
    "start_time": "2022-08-05T10:27:49.444Z"
   },
   {
    "duration": 78,
    "start_time": "2022-08-05T10:28:10.632Z"
   },
   {
    "duration": 459,
    "start_time": "2022-08-05T10:28:14.822Z"
   },
   {
    "duration": 54,
    "start_time": "2022-08-05T10:29:04.939Z"
   },
   {
    "duration": 58,
    "start_time": "2022-08-05T10:31:32.836Z"
   },
   {
    "duration": 12,
    "start_time": "2022-08-05T10:31:47.633Z"
   },
   {
    "duration": 10,
    "start_time": "2022-08-05T10:31:56.283Z"
   },
   {
    "duration": 19,
    "start_time": "2022-08-05T10:32:14.439Z"
   },
   {
    "duration": 167,
    "start_time": "2022-08-05T10:36:07.135Z"
   },
   {
    "duration": 171,
    "start_time": "2022-08-05T10:36:45.682Z"
   },
   {
    "duration": 163,
    "start_time": "2022-08-05T10:38:13.816Z"
   },
   {
    "duration": 5,
    "start_time": "2022-08-05T10:43:01.196Z"
   },
   {
    "duration": 4,
    "start_time": "2022-08-05T10:43:17.704Z"
   },
   {
    "duration": 166,
    "start_time": "2022-08-05T10:43:25.483Z"
   },
   {
    "duration": 9,
    "start_time": "2022-08-05T10:43:58.360Z"
   },
   {
    "duration": 167,
    "start_time": "2022-08-05T10:44:04.858Z"
   },
   {
    "duration": 144,
    "start_time": "2022-08-05T10:44:15.182Z"
   },
   {
    "duration": 157,
    "start_time": "2022-08-05T10:44:58.355Z"
   },
   {
    "duration": 149,
    "start_time": "2022-08-05T10:45:06.939Z"
   },
   {
    "duration": 168,
    "start_time": "2022-08-05T10:45:47.763Z"
   },
   {
    "duration": 227,
    "start_time": "2022-08-05T10:45:55.697Z"
   },
   {
    "duration": 148,
    "start_time": "2022-08-05T10:54:51.186Z"
   },
   {
    "duration": 174,
    "start_time": "2022-08-05T10:55:28.139Z"
   },
   {
    "duration": 136,
    "start_time": "2022-08-05T10:55:37.538Z"
   },
   {
    "duration": 158,
    "start_time": "2022-08-05T10:56:50.341Z"
   },
   {
    "duration": 155,
    "start_time": "2022-08-05T10:57:06.610Z"
   },
   {
    "duration": 157,
    "start_time": "2022-08-05T10:57:16.848Z"
   },
   {
    "duration": 150,
    "start_time": "2022-08-05T11:02:14.353Z"
   },
   {
    "duration": 167,
    "start_time": "2022-08-05T11:02:40.492Z"
   },
   {
    "duration": 160,
    "start_time": "2022-08-05T11:03:15.697Z"
   },
   {
    "duration": 109,
    "start_time": "2022-08-05T11:10:03.099Z"
   },
   {
    "duration": 145,
    "start_time": "2022-08-05T11:12:14.138Z"
   },
   {
    "duration": 172,
    "start_time": "2022-08-05T11:12:16.419Z"
   },
   {
    "duration": 246,
    "start_time": "2022-08-05T11:13:35.221Z"
   },
   {
    "duration": 137,
    "start_time": "2022-08-05T11:14:17.032Z"
   },
   {
    "duration": 148,
    "start_time": "2022-08-05T11:14:32.332Z"
   },
   {
    "duration": 141,
    "start_time": "2022-08-05T11:14:40.409Z"
   },
   {
    "duration": 158,
    "start_time": "2022-08-05T11:14:45.890Z"
   },
   {
    "duration": 132,
    "start_time": "2022-08-05T11:15:22.919Z"
   },
   {
    "duration": 148,
    "start_time": "2022-08-05T11:15:29.158Z"
   },
   {
    "duration": 1140,
    "start_time": "2022-08-05T11:23:27.760Z"
   },
   {
    "duration": 175,
    "start_time": "2022-08-05T11:23:28.902Z"
   },
   {
    "duration": 41,
    "start_time": "2022-08-05T11:23:29.078Z"
   },
   {
    "duration": 99,
    "start_time": "2022-08-05T11:23:29.121Z"
   },
   {
    "duration": 141,
    "start_time": "2022-08-05T11:23:29.222Z"
   },
   {
    "duration": 65,
    "start_time": "2022-08-05T11:23:29.364Z"
   },
   {
    "duration": 94,
    "start_time": "2022-08-05T11:23:29.430Z"
   },
   {
    "duration": 52,
    "start_time": "2022-08-05T11:23:29.525Z"
   },
   {
    "duration": 25,
    "start_time": "2022-08-05T11:23:29.578Z"
   },
   {
    "duration": 36,
    "start_time": "2022-08-05T11:23:29.605Z"
   },
   {
    "duration": 7,
    "start_time": "2022-08-05T11:23:29.643Z"
   },
   {
    "duration": 16,
    "start_time": "2022-08-05T11:23:29.652Z"
   },
   {
    "duration": 13,
    "start_time": "2022-08-05T11:23:29.669Z"
   },
   {
    "duration": 69,
    "start_time": "2022-08-05T11:23:29.685Z"
   },
   {
    "duration": 57,
    "start_time": "2022-08-05T11:23:29.756Z"
   },
   {
    "duration": 35,
    "start_time": "2022-08-05T11:23:29.814Z"
   },
   {
    "duration": 33,
    "start_time": "2022-08-05T11:23:29.850Z"
   },
   {
    "duration": 53,
    "start_time": "2022-08-05T11:23:29.884Z"
   },
   {
    "duration": 4,
    "start_time": "2022-08-05T11:23:29.938Z"
   },
   {
    "duration": 34,
    "start_time": "2022-08-05T11:23:29.943Z"
   },
   {
    "duration": 3,
    "start_time": "2022-08-05T11:23:29.979Z"
   },
   {
    "duration": 47,
    "start_time": "2022-08-05T11:23:29.984Z"
   },
   {
    "duration": 12,
    "start_time": "2022-08-05T11:23:30.033Z"
   },
   {
    "duration": 13,
    "start_time": "2022-08-05T11:23:30.046Z"
   },
   {
    "duration": 20,
    "start_time": "2022-08-05T11:23:30.060Z"
   },
   {
    "duration": 10,
    "start_time": "2022-08-05T11:23:30.081Z"
   },
   {
    "duration": 14,
    "start_time": "2022-08-05T11:23:30.092Z"
   },
   {
    "duration": 4,
    "start_time": "2022-08-05T11:23:30.107Z"
   },
   {
    "duration": 125,
    "start_time": "2022-08-05T11:23:30.113Z"
   },
   {
    "duration": 21,
    "start_time": "2022-08-05T11:23:30.240Z"
   },
   {
    "duration": 17,
    "start_time": "2022-08-05T11:23:30.263Z"
   },
   {
    "duration": 47,
    "start_time": "2022-08-05T11:23:30.281Z"
   },
   {
    "duration": 39,
    "start_time": "2022-08-05T11:23:30.329Z"
   },
   {
    "duration": 5,
    "start_time": "2022-08-05T11:23:30.370Z"
   },
   {
    "duration": 12,
    "start_time": "2022-08-05T11:23:30.377Z"
   },
   {
    "duration": 6,
    "start_time": "2022-08-05T11:23:30.405Z"
   },
   {
    "duration": 172,
    "start_time": "2022-08-05T11:23:30.413Z"
   },
   {
    "duration": 170,
    "start_time": "2022-08-05T11:23:30.587Z"
   },
   {
    "duration": 151,
    "start_time": "2022-08-05T11:23:30.759Z"
   },
   {
    "duration": 158,
    "start_time": "2022-08-05T11:23:30.912Z"
   },
   {
    "duration": 168,
    "start_time": "2022-08-05T11:23:31.073Z"
   },
   {
    "duration": 156,
    "start_time": "2022-08-05T11:23:31.242Z"
   },
   {
    "duration": 227,
    "start_time": "2022-08-05T11:23:31.406Z"
   },
   {
    "duration": 133,
    "start_time": "2022-08-05T11:23:31.635Z"
   },
   {
    "duration": 149,
    "start_time": "2022-08-05T11:23:31.769Z"
   },
   {
    "duration": 81,
    "start_time": "2022-08-05T11:25:52.789Z"
   },
   {
    "duration": 10,
    "start_time": "2022-08-05T11:30:33.077Z"
   },
   {
    "duration": 6,
    "start_time": "2022-08-05T11:32:27.376Z"
   },
   {
    "duration": 3,
    "start_time": "2022-08-05T11:33:00.722Z"
   },
   {
    "duration": 5,
    "start_time": "2022-08-05T11:33:06.243Z"
   },
   {
    "duration": 364,
    "start_time": "2022-08-05T11:35:03.493Z"
   },
   {
    "duration": 90,
    "start_time": "2022-08-05T11:36:45.047Z"
   },
   {
    "duration": 3,
    "start_time": "2022-08-05T11:36:53.243Z"
   },
   {
    "duration": 5,
    "start_time": "2022-08-05T11:36:57.882Z"
   },
   {
    "duration": 3,
    "start_time": "2022-08-05T11:38:55.974Z"
   },
   {
    "duration": 6,
    "start_time": "2022-08-05T11:38:59.697Z"
   },
   {
    "duration": 27,
    "start_time": "2022-08-05T11:48:09.681Z"
   },
   {
    "duration": 103,
    "start_time": "2022-08-05T11:50:44.769Z"
   },
   {
    "duration": 12,
    "start_time": "2022-08-05T11:51:03.726Z"
   },
   {
    "duration": 29,
    "start_time": "2022-08-05T11:52:48.183Z"
   },
   {
    "duration": 7,
    "start_time": "2022-08-05T11:53:00.505Z"
   },
   {
    "duration": 9,
    "start_time": "2022-08-05T11:53:23.344Z"
   },
   {
    "duration": 21,
    "start_time": "2022-08-05T11:53:41.336Z"
   },
   {
    "duration": 1166,
    "start_time": "2022-08-05T12:07:33.570Z"
   },
   {
    "duration": 170,
    "start_time": "2022-08-05T12:07:34.738Z"
   },
   {
    "duration": 33,
    "start_time": "2022-08-05T12:07:34.910Z"
   },
   {
    "duration": 103,
    "start_time": "2022-08-05T12:07:34.945Z"
   },
   {
    "duration": 145,
    "start_time": "2022-08-05T12:07:35.050Z"
   },
   {
    "duration": 63,
    "start_time": "2022-08-05T12:07:35.196Z"
   },
   {
    "duration": 95,
    "start_time": "2022-08-05T12:07:35.261Z"
   },
   {
    "duration": 57,
    "start_time": "2022-08-05T12:07:35.357Z"
   },
   {
    "duration": 25,
    "start_time": "2022-08-05T12:07:35.415Z"
   },
   {
    "duration": 39,
    "start_time": "2022-08-05T12:07:35.442Z"
   },
   {
    "duration": 9,
    "start_time": "2022-08-05T12:07:35.482Z"
   },
   {
    "duration": 18,
    "start_time": "2022-08-05T12:07:35.493Z"
   },
   {
    "duration": 15,
    "start_time": "2022-08-05T12:07:35.512Z"
   },
   {
    "duration": 76,
    "start_time": "2022-08-05T12:07:35.530Z"
   },
   {
    "duration": 41,
    "start_time": "2022-08-05T12:07:35.608Z"
   },
   {
    "duration": 36,
    "start_time": "2022-08-05T12:07:35.650Z"
   },
   {
    "duration": 43,
    "start_time": "2022-08-05T12:07:35.687Z"
   },
   {
    "duration": 43,
    "start_time": "2022-08-05T12:07:35.731Z"
   },
   {
    "duration": 5,
    "start_time": "2022-08-05T12:07:35.776Z"
   },
   {
    "duration": 47,
    "start_time": "2022-08-05T12:07:35.782Z"
   },
   {
    "duration": 4,
    "start_time": "2022-08-05T12:07:35.831Z"
   },
   {
    "duration": 31,
    "start_time": "2022-08-05T12:07:35.836Z"
   },
   {
    "duration": 11,
    "start_time": "2022-08-05T12:07:35.869Z"
   },
   {
    "duration": 28,
    "start_time": "2022-08-05T12:07:35.882Z"
   },
   {
    "duration": 10,
    "start_time": "2022-08-05T12:07:35.911Z"
   },
   {
    "duration": 8,
    "start_time": "2022-08-05T12:07:35.922Z"
   },
   {
    "duration": 6,
    "start_time": "2022-08-05T12:07:35.932Z"
   },
   {
    "duration": 4,
    "start_time": "2022-08-05T12:07:35.939Z"
   },
   {
    "duration": 191,
    "start_time": "2022-08-05T12:07:35.944Z"
   },
   {
    "duration": 30,
    "start_time": "2022-08-05T12:07:36.137Z"
   },
   {
    "duration": 13,
    "start_time": "2022-08-05T12:07:36.169Z"
   },
   {
    "duration": 57,
    "start_time": "2022-08-05T12:07:36.185Z"
   },
   {
    "duration": 38,
    "start_time": "2022-08-05T12:07:36.243Z"
   },
   {
    "duration": 23,
    "start_time": "2022-08-05T12:07:36.283Z"
   },
   {
    "duration": 8,
    "start_time": "2022-08-05T12:07:36.307Z"
   },
   {
    "duration": 8,
    "start_time": "2022-08-05T12:07:36.316Z"
   },
   {
    "duration": 164,
    "start_time": "2022-08-05T12:07:36.325Z"
   },
   {
    "duration": 174,
    "start_time": "2022-08-05T12:07:36.490Z"
   },
   {
    "duration": 142,
    "start_time": "2022-08-05T12:07:36.666Z"
   },
   {
    "duration": 165,
    "start_time": "2022-08-05T12:07:36.810Z"
   },
   {
    "duration": 156,
    "start_time": "2022-08-05T12:07:36.979Z"
   },
   {
    "duration": 152,
    "start_time": "2022-08-05T12:07:37.137Z"
   },
   {
    "duration": 228,
    "start_time": "2022-08-05T12:07:37.290Z"
   },
   {
    "duration": 140,
    "start_time": "2022-08-05T12:07:37.520Z"
   },
   {
    "duration": 147,
    "start_time": "2022-08-05T12:07:37.662Z"
   },
   {
    "duration": 8,
    "start_time": "2022-08-05T12:07:37.811Z"
   },
   {
    "duration": 7,
    "start_time": "2022-08-05T12:07:37.820Z"
   },
   {
    "duration": 21,
    "start_time": "2022-08-05T12:07:37.829Z"
   },
   {
    "duration": 10,
    "start_time": "2022-08-05T12:07:37.852Z"
   },
   {
    "duration": 1397,
    "start_time": "2022-08-05T19:14:41.778Z"
   },
   {
    "duration": 371,
    "start_time": "2022-08-05T19:14:43.177Z"
   },
   {
    "duration": 29,
    "start_time": "2022-08-05T19:14:43.550Z"
   },
   {
    "duration": 94,
    "start_time": "2022-08-05T19:14:43.581Z"
   },
   {
    "duration": 422,
    "start_time": "2022-08-05T19:14:43.677Z"
   },
   {
    "duration": 76,
    "start_time": "2022-08-05T19:14:44.109Z"
   },
   {
    "duration": 429,
    "start_time": "2022-08-05T19:14:44.186Z"
   },
   {
    "duration": 73,
    "start_time": "2022-08-05T19:14:44.622Z"
   },
   {
    "duration": 103,
    "start_time": "2022-08-05T19:14:44.697Z"
   },
   {
    "duration": 83,
    "start_time": "2022-08-05T19:14:44.808Z"
   },
   {
    "duration": 14,
    "start_time": "2022-08-05T19:14:44.893Z"
   },
   {
    "duration": 52,
    "start_time": "2022-08-05T19:14:44.910Z"
   },
   {
    "duration": 12,
    "start_time": "2022-08-05T19:14:44.964Z"
   },
   {
    "duration": 84,
    "start_time": "2022-08-05T19:14:44.980Z"
   },
   {
    "duration": 82,
    "start_time": "2022-08-05T19:14:45.066Z"
   },
   {
    "duration": 50,
    "start_time": "2022-08-05T19:14:45.151Z"
   },
   {
    "duration": 77,
    "start_time": "2022-08-05T19:14:45.203Z"
   },
   {
    "duration": 55,
    "start_time": "2022-08-05T19:14:45.281Z"
   },
   {
    "duration": 21,
    "start_time": "2022-08-05T19:14:45.337Z"
   },
   {
    "duration": 30,
    "start_time": "2022-08-05T19:14:45.359Z"
   },
   {
    "duration": 3,
    "start_time": "2022-08-05T19:14:45.390Z"
   },
   {
    "duration": 57,
    "start_time": "2022-08-05T19:14:45.395Z"
   },
   {
    "duration": 18,
    "start_time": "2022-08-05T19:14:45.453Z"
   },
   {
    "duration": 15,
    "start_time": "2022-08-05T19:14:45.472Z"
   },
   {
    "duration": 9,
    "start_time": "2022-08-05T19:14:45.489Z"
   },
   {
    "duration": 53,
    "start_time": "2022-08-05T19:14:45.501Z"
   },
   {
    "duration": 13,
    "start_time": "2022-08-05T19:14:45.556Z"
   },
   {
    "duration": 5,
    "start_time": "2022-08-05T19:14:45.570Z"
   },
   {
    "duration": 151,
    "start_time": "2022-08-05T19:14:45.577Z"
   },
   {
    "duration": 23,
    "start_time": "2022-08-05T19:14:45.732Z"
   },
   {
    "duration": 12,
    "start_time": "2022-08-05T19:14:45.756Z"
   },
   {
    "duration": 53,
    "start_time": "2022-08-05T19:14:45.769Z"
   },
   {
    "duration": 46,
    "start_time": "2022-08-05T19:14:45.825Z"
   },
   {
    "duration": 6,
    "start_time": "2022-08-05T19:14:45.872Z"
   },
   {
    "duration": 7,
    "start_time": "2022-08-05T19:14:45.879Z"
   },
   {
    "duration": 6,
    "start_time": "2022-08-05T19:14:45.887Z"
   },
   {
    "duration": 158,
    "start_time": "2022-08-05T19:14:45.903Z"
   },
   {
    "duration": 169,
    "start_time": "2022-08-05T19:14:46.063Z"
   },
   {
    "duration": 144,
    "start_time": "2022-08-05T19:14:46.233Z"
   },
   {
    "duration": 167,
    "start_time": "2022-08-05T19:14:46.379Z"
   },
   {
    "duration": 181,
    "start_time": "2022-08-05T19:14:46.549Z"
   },
   {
    "duration": 153,
    "start_time": "2022-08-05T19:14:46.738Z"
   },
   {
    "duration": 254,
    "start_time": "2022-08-05T19:14:46.893Z"
   },
   {
    "duration": 141,
    "start_time": "2022-08-05T19:14:47.149Z"
   },
   {
    "duration": 160,
    "start_time": "2022-08-05T19:14:47.291Z"
   },
   {
    "duration": 7,
    "start_time": "2022-08-05T19:14:47.452Z"
   },
   {
    "duration": 8,
    "start_time": "2022-08-05T19:14:47.461Z"
   },
   {
    "duration": 43,
    "start_time": "2022-08-05T19:14:47.471Z"
   },
   {
    "duration": 12,
    "start_time": "2022-08-05T19:14:47.518Z"
   },
   {
    "duration": 127,
    "start_time": "2022-08-05T23:13:48.008Z"
   },
   {
    "duration": 135,
    "start_time": "2022-08-05T23:17:43.164Z"
   },
   {
    "duration": 137,
    "start_time": "2022-08-07T16:23:32.355Z"
   },
   {
    "duration": 1621,
    "start_time": "2022-08-07T16:30:04.855Z"
   },
   {
    "duration": 581,
    "start_time": "2022-08-07T16:30:06.478Z"
   },
   {
    "duration": 38,
    "start_time": "2022-08-07T16:30:07.061Z"
   },
   {
    "duration": 120,
    "start_time": "2022-08-07T16:30:07.101Z"
   },
   {
    "duration": 479,
    "start_time": "2022-08-07T16:30:07.222Z"
   },
   {
    "duration": 67,
    "start_time": "2022-08-07T16:30:07.703Z"
   },
   {
    "duration": 193,
    "start_time": "2022-08-07T16:30:07.772Z"
   },
   {
    "duration": 65,
    "start_time": "2022-08-07T16:30:07.966Z"
   },
   {
    "duration": 60,
    "start_time": "2022-08-07T16:30:08.034Z"
   },
   {
    "duration": 71,
    "start_time": "2022-08-07T16:30:08.097Z"
   },
   {
    "duration": 9,
    "start_time": "2022-08-07T16:30:08.170Z"
   },
   {
    "duration": 20,
    "start_time": "2022-08-07T16:30:08.181Z"
   },
   {
    "duration": 21,
    "start_time": "2022-08-07T16:30:08.202Z"
   },
   {
    "duration": 83,
    "start_time": "2022-08-07T16:30:08.225Z"
   },
   {
    "duration": 59,
    "start_time": "2022-08-07T16:30:08.310Z"
   },
   {
    "duration": 58,
    "start_time": "2022-08-07T16:30:08.371Z"
   },
   {
    "duration": 39,
    "start_time": "2022-08-07T16:30:08.431Z"
   },
   {
    "duration": 63,
    "start_time": "2022-08-07T16:30:08.472Z"
   },
   {
    "duration": 43,
    "start_time": "2022-08-07T16:30:08.537Z"
   },
   {
    "duration": 8,
    "start_time": "2022-08-07T16:30:08.592Z"
   },
   {
    "duration": 3,
    "start_time": "2022-08-07T16:30:08.602Z"
   },
   {
    "duration": 41,
    "start_time": "2022-08-07T16:30:08.607Z"
   },
   {
    "duration": 13,
    "start_time": "2022-08-07T16:30:08.650Z"
   },
   {
    "duration": 71,
    "start_time": "2022-08-07T16:30:08.665Z"
   },
   {
    "duration": 6,
    "start_time": "2022-08-07T16:30:08.737Z"
   },
   {
    "duration": 16,
    "start_time": "2022-08-07T16:30:08.744Z"
   },
   {
    "duration": 30,
    "start_time": "2022-08-07T16:30:08.762Z"
   },
   {
    "duration": 8,
    "start_time": "2022-08-07T16:30:08.795Z"
   },
   {
    "duration": 7,
    "start_time": "2022-08-07T16:30:08.804Z"
   },
   {
    "duration": 154,
    "start_time": "2022-08-07T16:30:08.812Z"
   },
   {
    "duration": 37,
    "start_time": "2022-08-07T16:30:08.968Z"
   },
   {
    "duration": 10,
    "start_time": "2022-08-07T16:30:09.006Z"
   },
   {
    "duration": 58,
    "start_time": "2022-08-07T16:30:09.018Z"
   },
   {
    "duration": 50,
    "start_time": "2022-08-07T16:30:09.092Z"
   },
   {
    "duration": 7,
    "start_time": "2022-08-07T16:30:09.144Z"
   },
   {
    "duration": 42,
    "start_time": "2022-08-07T16:30:09.153Z"
   },
   {
    "duration": 8,
    "start_time": "2022-08-07T16:30:09.197Z"
   },
   {
    "duration": 265,
    "start_time": "2022-08-07T16:30:09.207Z"
   },
   {
    "duration": 171,
    "start_time": "2022-08-07T16:30:09.473Z"
   },
   {
    "duration": 187,
    "start_time": "2022-08-07T16:30:09.646Z"
   },
   {
    "duration": 212,
    "start_time": "2022-08-07T16:30:09.835Z"
   },
   {
    "duration": 251,
    "start_time": "2022-08-07T16:30:10.050Z"
   },
   {
    "duration": 220,
    "start_time": "2022-08-07T16:30:10.303Z"
   },
   {
    "duration": 177,
    "start_time": "2022-08-07T16:30:10.525Z"
   },
   {
    "duration": 269,
    "start_time": "2022-08-07T16:30:10.704Z"
   },
   {
    "duration": 18,
    "start_time": "2022-08-07T16:30:10.974Z"
   },
   {
    "duration": 11,
    "start_time": "2022-08-07T16:30:10.994Z"
   },
   {
    "duration": 28,
    "start_time": "2022-08-07T16:30:11.007Z"
   },
   {
    "duration": 13,
    "start_time": "2022-08-07T16:30:11.037Z"
   },
   {
    "duration": 6,
    "start_time": "2022-08-07T16:35:25.930Z"
   },
   {
    "duration": 5,
    "start_time": "2022-08-07T16:35:43.395Z"
   },
   {
    "duration": 6,
    "start_time": "2022-08-07T16:35:50.233Z"
   },
   {
    "duration": 4,
    "start_time": "2022-08-07T16:36:18.035Z"
   },
   {
    "duration": 110,
    "start_time": "2022-08-07T16:36:36.535Z"
   },
   {
    "duration": 6,
    "start_time": "2022-08-07T16:36:56.769Z"
   },
   {
    "duration": 5,
    "start_time": "2022-08-07T16:37:22.463Z"
   },
   {
    "duration": 5,
    "start_time": "2022-08-07T16:38:14.270Z"
   },
   {
    "duration": 207,
    "start_time": "2022-08-07T16:45:11.976Z"
   },
   {
    "duration": 1378,
    "start_time": "2022-08-07T16:50:51.364Z"
   },
   {
    "duration": 210,
    "start_time": "2022-08-07T16:50:52.744Z"
   },
   {
    "duration": 44,
    "start_time": "2022-08-07T16:50:52.956Z"
   },
   {
    "duration": 115,
    "start_time": "2022-08-07T16:50:53.002Z"
   },
   {
    "duration": 198,
    "start_time": "2022-08-07T16:50:53.119Z"
   },
   {
    "duration": 77,
    "start_time": "2022-08-07T16:50:53.319Z"
   },
   {
    "duration": 125,
    "start_time": "2022-08-07T16:50:53.398Z"
   },
   {
    "duration": 76,
    "start_time": "2022-08-07T16:50:53.525Z"
   },
   {
    "duration": 27,
    "start_time": "2022-08-07T16:50:53.603Z"
   },
   {
    "duration": 40,
    "start_time": "2022-08-07T16:50:53.633Z"
   },
   {
    "duration": 11,
    "start_time": "2022-08-07T16:50:53.675Z"
   },
   {
    "duration": 20,
    "start_time": "2022-08-07T16:50:53.687Z"
   },
   {
    "duration": 16,
    "start_time": "2022-08-07T16:50:53.708Z"
   },
   {
    "duration": 83,
    "start_time": "2022-08-07T16:50:53.726Z"
   },
   {
    "duration": 51,
    "start_time": "2022-08-07T16:50:53.811Z"
   },
   {
    "duration": 61,
    "start_time": "2022-08-07T16:50:53.864Z"
   },
   {
    "duration": 33,
    "start_time": "2022-08-07T16:50:53.927Z"
   },
   {
    "duration": 81,
    "start_time": "2022-08-07T16:50:53.962Z"
   },
   {
    "duration": 46,
    "start_time": "2022-08-07T16:50:54.045Z"
   },
   {
    "duration": 9,
    "start_time": "2022-08-07T16:50:54.093Z"
   },
   {
    "duration": 4,
    "start_time": "2022-08-07T16:50:54.103Z"
   },
   {
    "duration": 39,
    "start_time": "2022-08-07T16:50:54.109Z"
   },
   {
    "duration": 43,
    "start_time": "2022-08-07T16:50:54.150Z"
   },
   {
    "duration": 46,
    "start_time": "2022-08-07T16:50:54.195Z"
   },
   {
    "duration": 5,
    "start_time": "2022-08-07T16:50:54.243Z"
   },
   {
    "duration": 45,
    "start_time": "2022-08-07T16:50:54.250Z"
   },
   {
    "duration": 22,
    "start_time": "2022-08-07T16:50:54.297Z"
   },
   {
    "duration": 27,
    "start_time": "2022-08-07T16:50:54.323Z"
   },
   {
    "duration": 22,
    "start_time": "2022-08-07T16:50:54.351Z"
   },
   {
    "duration": 18,
    "start_time": "2022-08-07T16:50:54.375Z"
   },
   {
    "duration": 169,
    "start_time": "2022-08-07T16:50:54.395Z"
   },
   {
    "duration": 33,
    "start_time": "2022-08-07T16:50:54.566Z"
   },
   {
    "duration": 10,
    "start_time": "2022-08-07T16:50:54.601Z"
   },
   {
    "duration": 53,
    "start_time": "2022-08-07T16:50:54.613Z"
   },
   {
    "duration": 66,
    "start_time": "2022-08-07T16:50:54.668Z"
   },
   {
    "duration": 9,
    "start_time": "2022-08-07T16:50:54.736Z"
   },
   {
    "duration": 91,
    "start_time": "2022-08-07T16:50:54.746Z"
   },
   {
    "duration": 16,
    "start_time": "2022-08-07T16:50:54.839Z"
   },
   {
    "duration": 199,
    "start_time": "2022-08-07T16:50:54.856Z"
   },
   {
    "duration": 182,
    "start_time": "2022-08-07T16:50:55.057Z"
   },
   {
    "duration": 214,
    "start_time": "2022-08-07T16:50:55.241Z"
   },
   {
    "duration": 212,
    "start_time": "2022-08-07T16:50:55.456Z"
   },
   {
    "duration": 195,
    "start_time": "2022-08-07T16:50:55.670Z"
   },
   {
    "duration": 207,
    "start_time": "2022-08-07T16:50:55.867Z"
   },
   {
    "duration": 181,
    "start_time": "2022-08-07T16:50:56.077Z"
   },
   {
    "duration": 287,
    "start_time": "2022-08-07T16:50:56.260Z"
   },
   {
    "duration": 9,
    "start_time": "2022-08-07T16:50:56.549Z"
   },
   {
    "duration": 10,
    "start_time": "2022-08-07T16:50:56.560Z"
   },
   {
    "duration": 46,
    "start_time": "2022-08-07T16:50:56.573Z"
   },
   {
    "duration": 11,
    "start_time": "2022-08-07T16:50:56.620Z"
   }
  ],
  "kernelspec": {
   "display_name": "Python 3 (ipykernel)",
   "language": "python",
   "name": "python3"
  },
  "language_info": {
   "codemirror_mode": {
    "name": "ipython",
    "version": 3
   },
   "file_extension": ".py",
   "mimetype": "text/x-python",
   "name": "python",
   "nbconvert_exporter": "python",
   "pygments_lexer": "ipython3",
   "version": "3.9.12"
  },
  "toc": {
   "base_numbering": 1,
   "nav_menu": {},
   "number_sections": true,
   "sideBar": true,
   "skip_h1_title": true,
   "title_cell": "Содержание",
   "title_sidebar": "Contents",
   "toc_cell": true,
   "toc_position": {
    "height": "calc(100% - 180px)",
    "left": "10px",
    "top": "150px",
    "width": "286.237px"
   },
   "toc_section_display": true,
   "toc_window_display": true
  }
 },
 "nbformat": 4,
 "nbformat_minor": 2
}
