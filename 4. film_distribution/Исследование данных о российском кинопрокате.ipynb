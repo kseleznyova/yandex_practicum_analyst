{
 "cells": [
  {
   "cell_type": "markdown",
   "metadata": {
    "id": "sIfNaMOxgFyK"
   },
   "source": [
    "## Исследование данных о российском кинопрокате\n",
    "\n"
   ]
  },
  {
   "cell_type": "markdown",
   "metadata": {},
   "source": [
    "В данной работе анализируется рынок российского кинопроката и выявляются текущие тренды.\n",
    "\n",
    "\n",
    "**Цель исследования** — исследование рынка российского кинопроката.\n",
    "\n",
    "1. Проанализировать общие данные, найти динамику проката и суммы сборов по годам, влияние возрастного ограничения на сборы.\n",
    "\n",
    "2. Исследование фильмов, получивших государственную поддержку.\n",
    "\n",
    "\n",
    "**Описание данных**\n",
    "\n",
    "Работа состоит из двух таблиц, которые необходимо соединить в одну. Первая таблица содержит информацию о прокатных удостоверениях, вторая — данные о прокате в российских кинотеатрах.\n",
    "\n",
    "\n",
    "**План работы**\n",
    "\n",
    "Исследование продет в пять этапов:\n",
    "1. Открытие таблиц с данными и поседующее их соединение;\n",
    "2. Предобработка данных;\n",
    "3. Исследовательский анализ данных;\n",
    "4. Исследовательский анализ фильмов, получивших государственную поддержку;\n",
    "5. Общий вывод о проделанной работе."
   ]
  },
  {
   "cell_type": "markdown",
   "metadata": {
    "id": "3bSlkCsbgFyL"
   },
   "source": [
    "### Шаг 1. Откроем файлы с данными и объедим их в один датафрейм. \n",
    "\n",
    "Объединим данные таким образом, чтобы все объекты из датасета `mkrf_movies` обязательно вошли в получившийся датафрейм. \n",
    "\n",
    "<div id=\"accordion\">\n",
    "    <div class=\"card\">\n",
    "        <div class=\"card-header\" id=\"headingThree\">\n",
    "            <button class=\"btn btn-link collapsed\" data-toggle=\"collapse\" data-target=\"#collapseHint_0\" aria-expanded=\"false\" aria-controls=\"collapseHint_0\">Подсказка</button>\n",
    "        </div>\n",
    "        <div id=\"collapseHint_0\" class=\"collapse\" aria-labelledby=\"headingThree\" data-parent=\"#accordion\">\n",
    "            <div class=\"card-body\">\n",
    "Обратим внимание на тип данных столбца, по которому будете соединять датафреймы. Тип данных этих столбцов должен быть одинаковым в обоих датафреймах.\n",
    "            </div>\n",
    "        </div>\n",
    "    </div>\n",
    "</div>"
   ]
  },
  {
   "cell_type": "code",
   "execution_count": 1,
   "metadata": {
    "id": "dw87FlzMgFyM"
   },
   "outputs": [],
   "source": [
    "import pandas as pd # импорт библиотеки pandas\n",
    "import matplotlib.pyplot as plt #импорт библиотеки matplotlib.pyplot\n",
    "import numpy as np #импорт библиотеки numpy\n",
    "np.warnings.filterwarnings('ignore', category=np.VisibleDeprecationWarning) #игнорирование предупреждения\n",
    "import warnings #импорт warnings\n",
    "from pandas.core.common import SettingWithCopyWarning  #импорт SettingWithCopyWarning\n",
    "warnings.simplefilter(action=\"ignore\", category=SettingWithCopyWarning) #игнорирование предупреждения"
   ]
  },
  {
   "cell_type": "code",
   "execution_count": 2,
   "metadata": {},
   "outputs": [
    {
     "data": {
      "text/html": [
       "<div>\n",
       "<style scoped>\n",
       "    .dataframe tbody tr th:only-of-type {\n",
       "        vertical-align: middle;\n",
       "    }\n",
       "\n",
       "    .dataframe tbody tr th {\n",
       "        vertical-align: top;\n",
       "    }\n",
       "\n",
       "    .dataframe thead th {\n",
       "        text-align: right;\n",
       "    }\n",
       "</style>\n",
       "<table border=\"1\" class=\"dataframe\">\n",
       "  <thead>\n",
       "    <tr style=\"text-align: right;\">\n",
       "      <th></th>\n",
       "      <th>title</th>\n",
       "      <th>puNumber</th>\n",
       "      <th>show_start_date</th>\n",
       "      <th>type</th>\n",
       "      <th>film_studio</th>\n",
       "      <th>production_country</th>\n",
       "      <th>director</th>\n",
       "      <th>producer</th>\n",
       "      <th>age_restriction</th>\n",
       "      <th>refundable_support</th>\n",
       "      <th>nonrefundable_support</th>\n",
       "      <th>budget</th>\n",
       "      <th>financing_source</th>\n",
       "      <th>ratings</th>\n",
       "      <th>genres</th>\n",
       "    </tr>\n",
       "  </thead>\n",
       "  <tbody>\n",
       "    <tr>\n",
       "      <td>0</td>\n",
       "      <td>Открытый простор</td>\n",
       "      <td>221048915</td>\n",
       "      <td>2015-11-27T12:00:00.000Z</td>\n",
       "      <td>Художественный</td>\n",
       "      <td>Тачстоун Пикчерз, Кобальт Пикчерз, Бикон Пикче...</td>\n",
       "      <td>США</td>\n",
       "      <td>Кевин Костнер</td>\n",
       "      <td>Дэвид Валдес, Кевин Костнер, Джейк Эбертс</td>\n",
       "      <td>«18+» - запрещено для детей</td>\n",
       "      <td>NaN</td>\n",
       "      <td>NaN</td>\n",
       "      <td>NaN</td>\n",
       "      <td>NaN</td>\n",
       "      <td>7.2</td>\n",
       "      <td>боевик,драма,мелодрама</td>\n",
       "    </tr>\n",
       "    <tr>\n",
       "      <td>1</td>\n",
       "      <td>Особо важное задание</td>\n",
       "      <td>111013716</td>\n",
       "      <td>2016-09-13T12:00:00.000Z</td>\n",
       "      <td>Художественный</td>\n",
       "      <td>Киностудия \"Мосфильм\"</td>\n",
       "      <td>СССР</td>\n",
       "      <td>Е.Матвеев</td>\n",
       "      <td>NaN</td>\n",
       "      <td>«6+» - для детей старше 6 лет</td>\n",
       "      <td>NaN</td>\n",
       "      <td>NaN</td>\n",
       "      <td>NaN</td>\n",
       "      <td>NaN</td>\n",
       "      <td>6.6</td>\n",
       "      <td>драма,военный</td>\n",
       "    </tr>\n",
       "    <tr>\n",
       "      <td>2</td>\n",
       "      <td>Особо опасен</td>\n",
       "      <td>221038416</td>\n",
       "      <td>2016-10-10T12:00:00.000Z</td>\n",
       "      <td>Художественный</td>\n",
       "      <td>Юниверсал Пикчерз, Кикстарт Продакшнз, Марк Пл...</td>\n",
       "      <td>США</td>\n",
       "      <td>Тимур Бекмамбетов</td>\n",
       "      <td>Джим Лемли, Джейсон Нетер, Марк Е.Платт, Яйн Смит</td>\n",
       "      <td>«18+» - запрещено для детей</td>\n",
       "      <td>NaN</td>\n",
       "      <td>NaN</td>\n",
       "      <td>NaN</td>\n",
       "      <td>NaN</td>\n",
       "      <td>6.8</td>\n",
       "      <td>фантастика,боевик,триллер</td>\n",
       "    </tr>\n",
       "    <tr>\n",
       "      <td>3</td>\n",
       "      <td>Особо опасен</td>\n",
       "      <td>221026916</td>\n",
       "      <td>2016-06-10T12:00:00.000Z</td>\n",
       "      <td>Художественный</td>\n",
       "      <td>Юниверсал Пикчерз, Кикстарт Продакшнз, Марк Пл...</td>\n",
       "      <td>США</td>\n",
       "      <td>Тимур Бекмамбетов</td>\n",
       "      <td>Джим Лемли, Джейсон Нетер, Марк Е.Платт, Яйн Смит</td>\n",
       "      <td>«18+» - запрещено для детей</td>\n",
       "      <td>NaN</td>\n",
       "      <td>NaN</td>\n",
       "      <td>NaN</td>\n",
       "      <td>NaN</td>\n",
       "      <td>6.8</td>\n",
       "      <td>фантастика,боевик,триллер</td>\n",
       "    </tr>\n",
       "    <tr>\n",
       "      <td>4</td>\n",
       "      <td>Особо опасен</td>\n",
       "      <td>221030815</td>\n",
       "      <td>2015-07-29T12:00:00.000Z</td>\n",
       "      <td>Художественный</td>\n",
       "      <td>Юниверсал Пикчерз, Кикстарт Продакшнз, Марк Пл...</td>\n",
       "      <td>США</td>\n",
       "      <td>Тимур Бекмамбетов</td>\n",
       "      <td>Джим Лемли, Джейсон Нетер, Марк Е.Платт, Яйн Смит</td>\n",
       "      <td>«18+» - запрещено для детей</td>\n",
       "      <td>NaN</td>\n",
       "      <td>NaN</td>\n",
       "      <td>NaN</td>\n",
       "      <td>NaN</td>\n",
       "      <td>6.8</td>\n",
       "      <td>фантастика,боевик,триллер</td>\n",
       "    </tr>\n",
       "  </tbody>\n",
       "</table>\n",
       "</div>"
      ],
      "text/plain": [
       "                  title   puNumber           show_start_date            type  \\\n",
       "0      Открытый простор  221048915  2015-11-27T12:00:00.000Z  Художественный   \n",
       "1  Особо важное задание  111013716  2016-09-13T12:00:00.000Z  Художественный   \n",
       "2          Особо опасен  221038416  2016-10-10T12:00:00.000Z  Художественный   \n",
       "3          Особо опасен  221026916  2016-06-10T12:00:00.000Z  Художественный   \n",
       "4          Особо опасен  221030815  2015-07-29T12:00:00.000Z  Художественный   \n",
       "\n",
       "                                         film_studio production_country  \\\n",
       "0  Тачстоун Пикчерз, Кобальт Пикчерз, Бикон Пикче...                США   \n",
       "1                              Киностудия \"Мосфильм\"               СССР   \n",
       "2  Юниверсал Пикчерз, Кикстарт Продакшнз, Марк Пл...                США   \n",
       "3  Юниверсал Пикчерз, Кикстарт Продакшнз, Марк Пл...                США   \n",
       "4  Юниверсал Пикчерз, Кикстарт Продакшнз, Марк Пл...                США   \n",
       "\n",
       "            director                                           producer  \\\n",
       "0      Кевин Костнер          Дэвид Валдес, Кевин Костнер, Джейк Эбертс   \n",
       "1          Е.Матвеев                                                NaN   \n",
       "2  Тимур Бекмамбетов  Джим Лемли, Джейсон Нетер, Марк Е.Платт, Яйн Смит   \n",
       "3  Тимур Бекмамбетов  Джим Лемли, Джейсон Нетер, Марк Е.Платт, Яйн Смит   \n",
       "4  Тимур Бекмамбетов  Джим Лемли, Джейсон Нетер, Марк Е.Платт, Яйн Смит   \n",
       "\n",
       "                 age_restriction  refundable_support  nonrefundable_support  \\\n",
       "0    «18+» - запрещено для детей                 NaN                    NaN   \n",
       "1  «6+» - для детей старше 6 лет                 NaN                    NaN   \n",
       "2    «18+» - запрещено для детей                 NaN                    NaN   \n",
       "3    «18+» - запрещено для детей                 NaN                    NaN   \n",
       "4    «18+» - запрещено для детей                 NaN                    NaN   \n",
       "\n",
       "   budget financing_source ratings                     genres  \n",
       "0     NaN              NaN     7.2     боевик,драма,мелодрама  \n",
       "1     NaN              NaN     6.6              драма,военный  \n",
       "2     NaN              NaN     6.8  фантастика,боевик,триллер  \n",
       "3     NaN              NaN     6.8  фантастика,боевик,триллер  \n",
       "4     NaN              NaN     6.8  фантастика,боевик,триллер  "
      ]
     },
     "execution_count": 2,
     "metadata": {},
     "output_type": "execute_result"
    }
   ],
   "source": [
    "movie = pd.read_csv('/datasets/mkrf_movies.csv') #читаем файл\n",
    "movie.head(5) #выводим первые 5 строк"
   ]
  },
  {
   "cell_type": "code",
   "execution_count": 3,
   "metadata": {
    "scrolled": true
   },
   "outputs": [
    {
     "name": "stdout",
     "output_type": "stream",
     "text": [
      "<class 'pandas.core.frame.DataFrame'>\n",
      "RangeIndex: 7486 entries, 0 to 7485\n",
      "Data columns (total 15 columns):\n",
      "title                    7486 non-null object\n",
      "puNumber                 7486 non-null object\n",
      "show_start_date          7486 non-null object\n",
      "type                     7486 non-null object\n",
      "film_studio              7468 non-null object\n",
      "production_country       7484 non-null object\n",
      "director                 7477 non-null object\n",
      "producer                 6918 non-null object\n",
      "age_restriction          7486 non-null object\n",
      "refundable_support       332 non-null float64\n",
      "nonrefundable_support    332 non-null float64\n",
      "budget                   332 non-null float64\n",
      "financing_source         332 non-null object\n",
      "ratings                  6519 non-null object\n",
      "genres                   6510 non-null object\n",
      "dtypes: float64(3), object(12)\n",
      "memory usage: 877.4+ KB\n"
     ]
    }
   ],
   "source": [
    "movie.info() #общая информация о файле"
   ]
  },
  {
   "cell_type": "code",
   "execution_count": 4,
   "metadata": {},
   "outputs": [
    {
     "data": {
      "text/plain": [
       "array([' 111004112', '111000110', '111000111', ..., '231001012',\n",
       "       '231001111', 'нет'], dtype=object)"
      ]
     },
     "execution_count": 4,
     "metadata": {},
     "output_type": "execute_result"
    }
   ],
   "source": [
    "movie['puNumber'].sort_values().unique()"
   ]
  },
  {
   "cell_type": "markdown",
   "metadata": {},
   "source": [
    "Столбец `puNumber` имеет тип `object`. В данном столбце есть значение \"нет\". Выведем на экран усеченную таблицу с этим значением. "
   ]
  },
  {
   "cell_type": "code",
   "execution_count": 5,
   "metadata": {},
   "outputs": [
    {
     "data": {
      "text/html": [
       "<div>\n",
       "<style scoped>\n",
       "    .dataframe tbody tr th:only-of-type {\n",
       "        vertical-align: middle;\n",
       "    }\n",
       "\n",
       "    .dataframe tbody tr th {\n",
       "        vertical-align: top;\n",
       "    }\n",
       "\n",
       "    .dataframe thead th {\n",
       "        text-align: right;\n",
       "    }\n",
       "</style>\n",
       "<table border=\"1\" class=\"dataframe\">\n",
       "  <thead>\n",
       "    <tr style=\"text-align: right;\">\n",
       "      <th></th>\n",
       "      <th>title</th>\n",
       "      <th>puNumber</th>\n",
       "      <th>show_start_date</th>\n",
       "      <th>type</th>\n",
       "      <th>film_studio</th>\n",
       "      <th>production_country</th>\n",
       "      <th>director</th>\n",
       "      <th>producer</th>\n",
       "      <th>age_restriction</th>\n",
       "      <th>refundable_support</th>\n",
       "      <th>nonrefundable_support</th>\n",
       "      <th>budget</th>\n",
       "      <th>financing_source</th>\n",
       "      <th>ratings</th>\n",
       "      <th>genres</th>\n",
       "    </tr>\n",
       "  </thead>\n",
       "  <tbody>\n",
       "    <tr>\n",
       "      <td>1797</td>\n",
       "      <td>Курбан-роман. (История с жертвой)</td>\n",
       "      <td>нет</td>\n",
       "      <td>2014-05-15T12:00:00.000Z</td>\n",
       "      <td>Художественный</td>\n",
       "      <td>ФОНД \"ИННОВАЦИЯ\"</td>\n",
       "      <td>Россия</td>\n",
       "      <td>С.Юзеев</td>\n",
       "      <td>М.Галицкая</td>\n",
       "      <td>«12+» - для детей старше 12 лет</td>\n",
       "      <td>NaN</td>\n",
       "      <td>NaN</td>\n",
       "      <td>NaN</td>\n",
       "      <td>NaN</td>\n",
       "      <td>NaN</td>\n",
       "      <td>NaN</td>\n",
       "    </tr>\n",
       "  </tbody>\n",
       "</table>\n",
       "</div>"
      ],
      "text/plain": [
       "                                  title puNumber           show_start_date  \\\n",
       "1797  Курбан-роман. (История с жертвой)      нет  2014-05-15T12:00:00.000Z   \n",
       "\n",
       "                type       film_studio production_country director  \\\n",
       "1797  Художественный  ФОНД \"ИННОВАЦИЯ\"             Россия  С.Юзеев   \n",
       "\n",
       "        producer                  age_restriction  refundable_support  \\\n",
       "1797  М.Галицкая  «12+» - для детей старше 12 лет                 NaN   \n",
       "\n",
       "      nonrefundable_support  budget financing_source ratings genres  \n",
       "1797                    NaN     NaN              NaN     NaN    NaN  "
      ]
     },
     "execution_count": 5,
     "metadata": {},
     "output_type": "execute_result"
    }
   ],
   "source": [
    "movie.query('puNumber == \"нет\"') #усеченная таблица"
   ]
  },
  {
   "cell_type": "code",
   "execution_count": 6,
   "metadata": {},
   "outputs": [
    {
     "name": "stdout",
     "output_type": "stream",
     "text": [
      "<class 'pandas.core.frame.DataFrame'>\n",
      "RangeIndex: 7486 entries, 0 to 7485\n",
      "Data columns (total 15 columns):\n",
      "title                    7486 non-null object\n",
      "puNumber                 7486 non-null int64\n",
      "show_start_date          7486 non-null object\n",
      "type                     7486 non-null object\n",
      "film_studio              7468 non-null object\n",
      "production_country       7484 non-null object\n",
      "director                 7477 non-null object\n",
      "producer                 6918 non-null object\n",
      "age_restriction          7486 non-null object\n",
      "refundable_support       332 non-null float64\n",
      "nonrefundable_support    332 non-null float64\n",
      "budget                   332 non-null float64\n",
      "financing_source         332 non-null object\n",
      "ratings                  6519 non-null object\n",
      "genres                   6510 non-null object\n",
      "dtypes: float64(3), int64(1), object(11)\n",
      "memory usage: 877.4+ KB\n"
     ]
    }
   ],
   "source": [
    "movie['puNumber'] = movie['puNumber'].str.replace('нет','0') #заменим на 0\n",
    "movie['puNumber'] = pd.to_numeric(movie['puNumber']) #заменим тип данных на числовой\n",
    "movie.info() #проверим"
   ]
  },
  {
   "cell_type": "code",
   "execution_count": 7,
   "metadata": {},
   "outputs": [
    {
     "data": {
      "text/html": [
       "<div>\n",
       "<style scoped>\n",
       "    .dataframe tbody tr th:only-of-type {\n",
       "        vertical-align: middle;\n",
       "    }\n",
       "\n",
       "    .dataframe tbody tr th {\n",
       "        vertical-align: top;\n",
       "    }\n",
       "\n",
       "    .dataframe thead th {\n",
       "        text-align: right;\n",
       "    }\n",
       "</style>\n",
       "<table border=\"1\" class=\"dataframe\">\n",
       "  <thead>\n",
       "    <tr style=\"text-align: right;\">\n",
       "      <th></th>\n",
       "      <th>puNumber</th>\n",
       "      <th>box_office</th>\n",
       "    </tr>\n",
       "  </thead>\n",
       "  <tbody>\n",
       "    <tr>\n",
       "      <td>0</td>\n",
       "      <td>111000113</td>\n",
       "      <td>2,450.00</td>\n",
       "    </tr>\n",
       "    <tr>\n",
       "      <td>1</td>\n",
       "      <td>111000115</td>\n",
       "      <td>61,040.00</td>\n",
       "    </tr>\n",
       "    <tr>\n",
       "      <td>2</td>\n",
       "      <td>111000116</td>\n",
       "      <td>153,030,013.40</td>\n",
       "    </tr>\n",
       "    <tr>\n",
       "      <td>3</td>\n",
       "      <td>111000117</td>\n",
       "      <td>12,260,956.00</td>\n",
       "    </tr>\n",
       "    <tr>\n",
       "      <td>4</td>\n",
       "      <td>111000118</td>\n",
       "      <td>163,684,057.79</td>\n",
       "    </tr>\n",
       "  </tbody>\n",
       "</table>\n",
       "</div>"
      ],
      "text/plain": [
       "    puNumber     box_office\n",
       "0  111000113       2,450.00\n",
       "1  111000115      61,040.00\n",
       "2  111000116 153,030,013.40\n",
       "3  111000117  12,260,956.00\n",
       "4  111000118 163,684,057.79"
      ]
     },
     "execution_count": 7,
     "metadata": {},
     "output_type": "execute_result"
    }
   ],
   "source": [
    "shows = pd.read_csv('/datasets/mkrf_shows.csv') #читаем файл\n",
    "pd.options.display.float_format = '{:,.2f}'.format #избавимся от экспоненциального формата\n",
    "shows.head(5) #выводим первые 5 строк"
   ]
  },
  {
   "cell_type": "code",
   "execution_count": 8,
   "metadata": {},
   "outputs": [
    {
     "name": "stdout",
     "output_type": "stream",
     "text": [
      "<class 'pandas.core.frame.DataFrame'>\n",
      "RangeIndex: 3158 entries, 0 to 3157\n",
      "Data columns (total 2 columns):\n",
      "puNumber      3158 non-null int64\n",
      "box_office    3158 non-null float64\n",
      "dtypes: float64(1), int64(1)\n",
      "memory usage: 49.5 KB\n"
     ]
    }
   ],
   "source": [
    "shows.info() #общая информация о файле"
   ]
  },
  {
   "cell_type": "code",
   "execution_count": 9,
   "metadata": {
    "scrolled": true
   },
   "outputs": [
    {
     "name": "stdout",
     "output_type": "stream",
     "text": [
      "<class 'pandas.core.frame.DataFrame'>\n",
      "Int64Index: 7486 entries, 0 to 7485\n",
      "Data columns (total 16 columns):\n",
      "title                    7486 non-null object\n",
      "puNumber                 7486 non-null int64\n",
      "show_start_date          7486 non-null object\n",
      "type                     7486 non-null object\n",
      "film_studio              7468 non-null object\n",
      "production_country       7484 non-null object\n",
      "director                 7477 non-null object\n",
      "producer                 6918 non-null object\n",
      "age_restriction          7486 non-null object\n",
      "refundable_support       332 non-null float64\n",
      "nonrefundable_support    332 non-null float64\n",
      "budget                   332 non-null float64\n",
      "financing_source         332 non-null object\n",
      "ratings                  6519 non-null object\n",
      "genres                   6510 non-null object\n",
      "box_office               3158 non-null float64\n",
      "dtypes: float64(4), int64(1), object(11)\n",
      "memory usage: 994.2+ KB\n"
     ]
    }
   ],
   "source": [
    "data = movie.merge(shows, on = 'puNumber', how = 'outer') #соединяем файлы\n",
    "data.info() "
   ]
  },
  {
   "cell_type": "markdown",
   "metadata": {},
   "source": [
    "#### Вывод"
   ]
  },
  {
   "cell_type": "markdown",
   "metadata": {},
   "source": [
    "На данном этапе работы были загружены библиотеки, открыты и соединины файлы."
   ]
  },
  {
   "cell_type": "markdown",
   "metadata": {
    "id": "KLDGpPG0gFyM"
   },
   "source": [
    "### Шаг 2. Предобработка данных"
   ]
  },
  {
   "cell_type": "markdown",
   "metadata": {
    "id": "ssWwKXsxgFyO"
   },
   "source": [
    "#### Шаг 2.1. Проверим типы данных\n",
    "\n",
    "- Проверим типы данных в датафрейме и преобразуем их там, где это необходимо."
   ]
  },
  {
   "cell_type": "markdown",
   "metadata": {},
   "source": [
    "Столбец `show_start_date` имеет тип данных `object` заменим его на тип даты и времени. "
   ]
  },
  {
   "cell_type": "code",
   "execution_count": 10,
   "metadata": {
    "id": "kVGSplJOgFyO"
   },
   "outputs": [
    {
     "name": "stdout",
     "output_type": "stream",
     "text": [
      "<class 'pandas.core.frame.DataFrame'>\n",
      "Int64Index: 7486 entries, 0 to 7485\n",
      "Data columns (total 16 columns):\n",
      "title                    7486 non-null object\n",
      "puNumber                 7486 non-null int64\n",
      "show_start_date          7486 non-null datetime64[ns]\n",
      "type                     7486 non-null object\n",
      "film_studio              7468 non-null object\n",
      "production_country       7484 non-null object\n",
      "director                 7477 non-null object\n",
      "producer                 6918 non-null object\n",
      "age_restriction          7486 non-null object\n",
      "refundable_support       332 non-null float64\n",
      "nonrefundable_support    332 non-null float64\n",
      "budget                   332 non-null float64\n",
      "financing_source         332 non-null object\n",
      "ratings                  6519 non-null object\n",
      "genres                   6510 non-null object\n",
      "box_office               3158 non-null float64\n",
      "dtypes: datetime64[ns](1), float64(4), int64(1), object(10)\n",
      "memory usage: 994.2+ KB\n"
     ]
    }
   ],
   "source": [
    "data['show_start_date'] = pd.to_datetime(data['show_start_date'], format = '%Y-%m-%dT%H:%M:%S.%fZ') #заменим формат\n",
    "data.info()  #проверим"
   ]
  },
  {
   "cell_type": "code",
   "execution_count": 11,
   "metadata": {},
   "outputs": [
    {
     "data": {
      "text/plain": [
       "array(['1.0', '1.1', '1.2', '1.3', '1.4', '1.5', '1.6', '1.7', '1.8',\n",
       "       '1.9', '19%', '2.1', '2.4', '2.5', '2.6', '2.7', '2.8', '2.9',\n",
       "       '28%', '3.0', '3.1', '3.2', '3.3', '3.4', '3.5', '3.6', '3.7',\n",
       "       '3.8', '3.9', '4.0', '4.1', '4.2', '4.3', '4.4', '4.5', '4.6',\n",
       "       '4.7', '4.8', '4.9', '5.0', '5.1', '5.2', '5.3', '5.4', '5.5',\n",
       "       '5.6', '5.7', '5.8', '5.9', '6.0', '6.1', '6.2', '6.3', '6.4',\n",
       "       '6.5', '6.6', '6.7', '6.8', '6.9', '62%', '64%', '7.0', '7.1',\n",
       "       '7.2', '7.3', '7.4', '7.5', '7.6', '7.7', '7.8', '7.9', '79%',\n",
       "       '8.0', '8.1', '8.2', '8.3', '8.4', '8.5', '8.6', '8.7', '8.8',\n",
       "       '8.9', '83%', '88%', '89%', '9.0', '9.1', '9.2', '90%', '91%',\n",
       "       '94%', '97%', '98%', '99%', nan], dtype=object)"
      ]
     },
     "execution_count": 11,
     "metadata": {},
     "output_type": "execute_result"
    }
   ],
   "source": [
    "data['ratings'].sort_values().unique()"
   ]
  },
  {
   "cell_type": "markdown",
   "metadata": {},
   "source": [
    "В столбце рейтинга есть проблемные значения с процентами. Вероятнее всего они могли появиться из-за некорретного ввода значений рейтинга. Можно убрать значения процента, перевести столбец в тип данных `float16` и разделить полученное число на 10 для корректности процентных значений."
   ]
  },
  {
   "cell_type": "code",
   "execution_count": 12,
   "metadata": {},
   "outputs": [
    {
     "data": {
      "text/plain": [
       "array([1.        , 1.09960938, 1.20019531, 1.29980469, 1.40039062,\n",
       "       1.5       , 1.59960938, 1.70019531, 1.79980469, 1.90039062,\n",
       "       2.09960938, 2.40039062, 2.5       , 2.59960938, 2.69921875,\n",
       "       2.80078125, 2.90039062, 3.        , 3.09960938, 3.19921875,\n",
       "       3.30078125, 3.40039062, 3.5       , 3.59960938, 3.69921875,\n",
       "       3.80078125, 3.90039062, 4.        , 4.1015625 , 4.19921875,\n",
       "       4.30078125, 4.3984375 , 4.5       , 4.6015625 , 4.69921875,\n",
       "       4.80078125, 4.8984375 , 5.        , 5.1015625 , 5.19921875,\n",
       "       5.30078125, 5.3984375 , 5.5       , 5.6015625 , 5.69921875,\n",
       "       5.80078125, 5.8984375 , 6.        , 6.1015625 , 6.19921875,\n",
       "       6.30078125, 6.3984375 , 6.5       , 6.6015625 , 6.69921875,\n",
       "       6.80078125, 6.8984375 , 7.        , 7.1015625 , 7.19921875,\n",
       "       7.30078125, 7.3984375 , 7.5       , 7.6015625 , 7.69921875,\n",
       "       7.80078125, 7.8984375 , 8.        , 8.1015625 , 8.203125  ,\n",
       "       8.296875  , 8.3984375 , 8.5       , 8.6015625 , 8.703125  ,\n",
       "       8.796875  , 8.8984375 , 9.        , 9.1015625 , 9.203125  ,\n",
       "       9.3984375 , 9.703125  , 9.796875  , 9.8984375 ,        nan])"
      ]
     },
     "execution_count": 12,
     "metadata": {},
     "output_type": "execute_result"
    }
   ],
   "source": [
    "data['ratings'] = data['ratings'].str.replace('%','')\n",
    "data['ratings']=data['ratings'].astype('float16')\n",
    "data.loc[data['ratings'] > 10,'ratings'] /=10\n",
    "data['ratings'].sort_values().unique()"
   ]
  },
  {
   "cell_type": "markdown",
   "metadata": {
    "id": "i0MOLbF-gFyP"
   },
   "source": [
    "#### Шаг 2.2. Изучим пропуски в датафрейме\n",
    "\n"
   ]
  },
  {
   "cell_type": "markdown",
   "metadata": {
    "id": "8MJD_lkngFyP"
   },
   "source": [
    "В столбцах `film_studio`,`production_country`,`director`,`producer`,`age_restriction`,`refundable_support`, `nonrefundable_support`, `budget`, `financing_source`, `ratings`, `genres`, `box_office` есть пропуски. Стобцы с пропусками, связанные с государственным финансированием, скорее всего не получали финансирования или не афишировали эти данные, оставим их как есть. В оставшихся категориальных столбцах пропуски заменим на \"не определено\", чтобы не терять данные."
   ]
  },
  {
   "cell_type": "code",
   "execution_count": 13,
   "metadata": {},
   "outputs": [
    {
     "name": "stdout",
     "output_type": "stream",
     "text": [
      "<class 'pandas.core.frame.DataFrame'>\n",
      "Int64Index: 7486 entries, 0 to 7485\n",
      "Data columns (total 16 columns):\n",
      "title                    7486 non-null object\n",
      "puNumber                 7486 non-null int64\n",
      "show_start_date          7486 non-null datetime64[ns]\n",
      "type                     7486 non-null object\n",
      "film_studio              7486 non-null object\n",
      "production_country       7486 non-null object\n",
      "director                 7486 non-null object\n",
      "producer                 7486 non-null object\n",
      "age_restriction          7486 non-null object\n",
      "refundable_support       332 non-null float64\n",
      "nonrefundable_support    332 non-null float64\n",
      "budget                   332 non-null float64\n",
      "financing_source         7486 non-null object\n",
      "ratings                  7486 non-null object\n",
      "genres                   7486 non-null object\n",
      "box_office               3158 non-null float64\n",
      "dtypes: datetime64[ns](1), float64(4), int64(1), object(10)\n",
      "memory usage: 994.2+ KB\n"
     ]
    }
   ],
   "source": [
    "columns_to_replace = ['film_studio', 'production_country', 'director','financing_source', 'producer','age_restriction','ratings','genres'] #создание списка с названиями колонок\n",
    "#цикла для замены пустых значений в вышеперечисленных столбцах\n",
    "for column in columns_to_replace: \n",
    "    data[column] = data[column].fillna('unknown')\n",
    "data.info() #проверим"
   ]
  },
  {
   "cell_type": "markdown",
   "metadata": {
    "id": "4c6k1t9ygFyQ"
   },
   "source": [
    "#### Шаг 2.3. Изучим дубликаты в датафрейме\n",
    "- Проверим, есть ли в данных дубликаты. "
   ]
  },
  {
   "cell_type": "code",
   "execution_count": 14,
   "metadata": {
    "id": "aKck8RIdgFyQ"
   },
   "outputs": [
    {
     "data": {
      "text/plain": [
       "0"
      ]
     },
     "execution_count": 14,
     "metadata": {},
     "output_type": "execute_result"
    }
   ],
   "source": [
    "data.duplicated().sum()# подсчёт явных дубликатов"
   ]
  },
  {
   "cell_type": "markdown",
   "metadata": {},
   "source": [
    "Полных дубликатов не обнаружено. Дубликатов не должно быть в столбце `puNumber`,  так как там находятся уникальные значения."
   ]
  },
  {
   "cell_type": "code",
   "execution_count": 15,
   "metadata": {
    "scrolled": true
   },
   "outputs": [
    {
     "data": {
      "text/plain": [
       "221054410    2\n",
       "221154310    2\n",
       "114001919    1\n",
       "221025616    1\n",
       "221136210    1\n",
       "            ..\n",
       "121034419    1\n",
       "112025418    1\n",
       "111008518    1\n",
       "121000711    1\n",
       "0            1\n",
       "Name: puNumber, Length: 7484, dtype: int64"
      ]
     },
     "execution_count": 15,
     "metadata": {},
     "output_type": "execute_result"
    }
   ],
   "source": [
    "data['puNumber'].value_counts()"
   ]
  },
  {
   "cell_type": "code",
   "execution_count": 16,
   "metadata": {
    "scrolled": true
   },
   "outputs": [
    {
     "data": {
      "text/html": [
       "<div>\n",
       "<style scoped>\n",
       "    .dataframe tbody tr th:only-of-type {\n",
       "        vertical-align: middle;\n",
       "    }\n",
       "\n",
       "    .dataframe tbody tr th {\n",
       "        vertical-align: top;\n",
       "    }\n",
       "\n",
       "    .dataframe thead th {\n",
       "        text-align: right;\n",
       "    }\n",
       "</style>\n",
       "<table border=\"1\" class=\"dataframe\">\n",
       "  <thead>\n",
       "    <tr style=\"text-align: right;\">\n",
       "      <th></th>\n",
       "      <th>title</th>\n",
       "      <th>puNumber</th>\n",
       "      <th>show_start_date</th>\n",
       "      <th>type</th>\n",
       "      <th>film_studio</th>\n",
       "      <th>production_country</th>\n",
       "      <th>director</th>\n",
       "      <th>producer</th>\n",
       "      <th>age_restriction</th>\n",
       "      <th>refundable_support</th>\n",
       "      <th>nonrefundable_support</th>\n",
       "      <th>budget</th>\n",
       "      <th>financing_source</th>\n",
       "      <th>ratings</th>\n",
       "      <th>genres</th>\n",
       "      <th>box_office</th>\n",
       "    </tr>\n",
       "  </thead>\n",
       "  <tbody>\n",
       "    <tr>\n",
       "      <td>4638</td>\n",
       "      <td>Как жениться и остаться холостым</td>\n",
       "      <td>221154310</td>\n",
       "      <td>2010-12-17 12:00:00</td>\n",
       "      <td>Художественный</td>\n",
       "      <td>Ше Вам, Скрипт Ассосье, Тэ Фэ 1 Фильм Продюксь...</td>\n",
       "      <td>Франция</td>\n",
       "      <td>Эрик Лартиго</td>\n",
       "      <td>Амандин Било, Алан Шаба</td>\n",
       "      <td>«16+» - для детей старше 16 лет</td>\n",
       "      <td>nan</td>\n",
       "      <td>nan</td>\n",
       "      <td>nan</td>\n",
       "      <td>unknown</td>\n",
       "      <td>7.00</td>\n",
       "      <td>мелодрама,комедия</td>\n",
       "      <td>nan</td>\n",
       "    </tr>\n",
       "    <tr>\n",
       "      <td>4639</td>\n",
       "      <td>Иоанна - женщина на папском престоле /По роман...</td>\n",
       "      <td>221154310</td>\n",
       "      <td>2010-12-17 12:00:00</td>\n",
       "      <td>Художественный</td>\n",
       "      <td>Константин Фильм, А Эр Ди Дегето Фильм, Дюне ...</td>\n",
       "      <td>Германия - Великобритания - Италия - Испания</td>\n",
       "      <td>Зенке Вортманн</td>\n",
       "      <td>Оливер Бербен, Дорис Д.Хайнце, Фарук Элтан</td>\n",
       "      <td>«16+» - для детей старше 16 лет</td>\n",
       "      <td>nan</td>\n",
       "      <td>nan</td>\n",
       "      <td>nan</td>\n",
       "      <td>unknown</td>\n",
       "      <td>7.60</td>\n",
       "      <td>драма,мелодрама,история</td>\n",
       "      <td>nan</td>\n",
       "    </tr>\n",
       "    <tr>\n",
       "      <td>5067</td>\n",
       "      <td>Анализируй это!</td>\n",
       "      <td>221054410</td>\n",
       "      <td>2010-05-25 12:00:00</td>\n",
       "      <td>Художественный</td>\n",
       "      <td>Уорнер Бразерс, Вилладж Роудшоу Филмз ЛТД</td>\n",
       "      <td>США-Австралия</td>\n",
       "      <td>ХЭрольд Рэмис</td>\n",
       "      <td>Джейн Розенталь, Пола Уейнстейн</td>\n",
       "      <td>«16+» - для детей старше 16 лет</td>\n",
       "      <td>nan</td>\n",
       "      <td>nan</td>\n",
       "      <td>nan</td>\n",
       "      <td>unknown</td>\n",
       "      <td>7.40</td>\n",
       "      <td>комедия,криминал</td>\n",
       "      <td>nan</td>\n",
       "    </tr>\n",
       "    <tr>\n",
       "      <td>5068</td>\n",
       "      <td>Анализируй то!</td>\n",
       "      <td>221054410</td>\n",
       "      <td>2010-05-25 12:00:00</td>\n",
       "      <td>Художественный</td>\n",
       "      <td>Уорнер Бразерс, Виллидж Роадшоу Пикчерз, Эн-Пи...</td>\n",
       "      <td>США</td>\n",
       "      <td>Гарольд Реймис</td>\n",
       "      <td>Джейн Розенталь, Паул Уэйнстейн</td>\n",
       "      <td>«12+» - для детей старше 12 лет</td>\n",
       "      <td>nan</td>\n",
       "      <td>nan</td>\n",
       "      <td>nan</td>\n",
       "      <td>unknown</td>\n",
       "      <td>6.80</td>\n",
       "      <td>комедия,криминал</td>\n",
       "      <td>nan</td>\n",
       "    </tr>\n",
       "  </tbody>\n",
       "</table>\n",
       "</div>"
      ],
      "text/plain": [
       "                                                  title   puNumber  \\\n",
       "4638                   Как жениться и остаться холостым  221154310   \n",
       "4639  Иоанна - женщина на папском престоле /По роман...  221154310   \n",
       "5067                                    Анализируй это!  221054410   \n",
       "5068                                     Анализируй то!  221054410   \n",
       "\n",
       "         show_start_date            type  \\\n",
       "4638 2010-12-17 12:00:00  Художественный   \n",
       "4639 2010-12-17 12:00:00  Художественный   \n",
       "5067 2010-05-25 12:00:00  Художественный   \n",
       "5068 2010-05-25 12:00:00  Художественный   \n",
       "\n",
       "                                            film_studio  \\\n",
       "4638  Ше Вам, Скрипт Ассосье, Тэ Фэ 1 Фильм Продюксь...   \n",
       "4639   Константин Фильм, А Эр Ди Дегето Фильм, Дюне ...   \n",
       "5067          Уорнер Бразерс, Вилладж Роудшоу Филмз ЛТД   \n",
       "5068  Уорнер Бразерс, Виллидж Роадшоу Пикчерз, Эн-Пи...   \n",
       "\n",
       "                                production_country        director  \\\n",
       "4638                                       Франция    Эрик Лартиго   \n",
       "4639  Германия - Великобритания - Италия - Испания  Зенке Вортманн   \n",
       "5067                                 США-Австралия   ХЭрольд Рэмис   \n",
       "5068                                           США  Гарольд Реймис   \n",
       "\n",
       "                                        producer  \\\n",
       "4638                     Амандин Било, Алан Шаба   \n",
       "4639  Оливер Бербен, Дорис Д.Хайнце, Фарук Элтан   \n",
       "5067             Джейн Розенталь, Пола Уейнстейн   \n",
       "5068             Джейн Розенталь, Паул Уэйнстейн   \n",
       "\n",
       "                      age_restriction  refundable_support  \\\n",
       "4638  «16+» - для детей старше 16 лет                 nan   \n",
       "4639  «16+» - для детей старше 16 лет                 nan   \n",
       "5067  «16+» - для детей старше 16 лет                 nan   \n",
       "5068  «12+» - для детей старше 12 лет                 nan   \n",
       "\n",
       "      nonrefundable_support  budget financing_source ratings  \\\n",
       "4638                    nan     nan          unknown    7.00   \n",
       "4639                    nan     nan          unknown    7.60   \n",
       "5067                    nan     nan          unknown    7.40   \n",
       "5068                    nan     nan          unknown    6.80   \n",
       "\n",
       "                       genres  box_office  \n",
       "4638        мелодрама,комедия         nan  \n",
       "4639  драма,мелодрама,история         nan  \n",
       "5067         комедия,криминал         nan  \n",
       "5068         комедия,криминал         nan  "
      ]
     },
     "execution_count": 16,
     "metadata": {},
     "output_type": "execute_result"
    }
   ],
   "source": [
    "data.query('puNumber == \"221054410\" or puNumber == \"221154310\"')"
   ]
  },
  {
   "cell_type": "markdown",
   "metadata": {},
   "source": [
    "Можно заметить, что первая пара дубликатов появилась случайным образом, это вовсе не дубликаты, скорее всего была допущена ошибка при заполнении столбца номера прокатного удостоверения. Во второй паре заметен дубликат, только по-разному написаны имя режиссера, в третей строке добавлена страна Австралия, рейтинг, по-разному написаны студии-производители и разные возрастные категории.  Удалим последнюю строчку."
   ]
  },
  {
   "cell_type": "code",
   "execution_count": 17,
   "metadata": {},
   "outputs": [
    {
     "data": {
      "text/html": [
       "<div>\n",
       "<style scoped>\n",
       "    .dataframe tbody tr th:only-of-type {\n",
       "        vertical-align: middle;\n",
       "    }\n",
       "\n",
       "    .dataframe tbody tr th {\n",
       "        vertical-align: top;\n",
       "    }\n",
       "\n",
       "    .dataframe thead th {\n",
       "        text-align: right;\n",
       "    }\n",
       "</style>\n",
       "<table border=\"1\" class=\"dataframe\">\n",
       "  <thead>\n",
       "    <tr style=\"text-align: right;\">\n",
       "      <th></th>\n",
       "      <th>title</th>\n",
       "      <th>puNumber</th>\n",
       "      <th>show_start_date</th>\n",
       "      <th>type</th>\n",
       "      <th>film_studio</th>\n",
       "      <th>production_country</th>\n",
       "      <th>director</th>\n",
       "      <th>producer</th>\n",
       "      <th>age_restriction</th>\n",
       "      <th>refundable_support</th>\n",
       "      <th>nonrefundable_support</th>\n",
       "      <th>budget</th>\n",
       "      <th>financing_source</th>\n",
       "      <th>ratings</th>\n",
       "      <th>genres</th>\n",
       "      <th>box_office</th>\n",
       "    </tr>\n",
       "  </thead>\n",
       "  <tbody>\n",
       "    <tr>\n",
       "      <td>5067</td>\n",
       "      <td>Анализируй это!</td>\n",
       "      <td>221054410</td>\n",
       "      <td>2010-05-25 12:00:00</td>\n",
       "      <td>Художественный</td>\n",
       "      <td>Уорнер Бразерс, Вилладж Роудшоу Филмз ЛТД</td>\n",
       "      <td>США-Австралия</td>\n",
       "      <td>ХЭрольд Рэмис</td>\n",
       "      <td>Джейн Розенталь, Пола Уейнстейн</td>\n",
       "      <td>«16+» - для детей старше 16 лет</td>\n",
       "      <td>nan</td>\n",
       "      <td>nan</td>\n",
       "      <td>nan</td>\n",
       "      <td>unknown</td>\n",
       "      <td>7.40</td>\n",
       "      <td>комедия,криминал</td>\n",
       "      <td>nan</td>\n",
       "    </tr>\n",
       "  </tbody>\n",
       "</table>\n",
       "</div>"
      ],
      "text/plain": [
       "                title   puNumber     show_start_date            type  \\\n",
       "5067  Анализируй это!  221054410 2010-05-25 12:00:00  Художественный   \n",
       "\n",
       "                                    film_studio production_country  \\\n",
       "5067  Уорнер Бразерс, Вилладж Роудшоу Филмз ЛТД      США-Австралия   \n",
       "\n",
       "           director                         producer  \\\n",
       "5067  ХЭрольд Рэмис  Джейн Розенталь, Пола Уейнстейн   \n",
       "\n",
       "                      age_restriction  refundable_support  \\\n",
       "5067  «16+» - для детей старше 16 лет                 nan   \n",
       "\n",
       "      nonrefundable_support  budget financing_source ratings  \\\n",
       "5067                    nan     nan          unknown    7.40   \n",
       "\n",
       "                genres  box_office  \n",
       "5067  комедия,криминал         nan  "
      ]
     },
     "execution_count": 17,
     "metadata": {},
     "output_type": "execute_result"
    }
   ],
   "source": [
    "data = data.drop(labels = [5068], axis = 0) \n",
    "data.query('puNumber == \"221054410\"') #проверим"
   ]
  },
  {
   "cell_type": "markdown",
   "metadata": {},
   "source": [
    "В столбце названия фильма должны содержаться уникальные значения. Однако данные строки с дублирующимя названием не являются полыми дубликатами, так как у них точно отличается прокатное удостоверение. Например, у римейков могут быть разные прокатные удостоверения, это явно разные фильмы и считать их дубликатами нельзя. Более того, для проката в разных сетях (например в кинотеатрах и на тв) выдаются разные прокатные удостоверения. Но все-таки проверим количество уникальных значений для определенного фильма."
   ]
  },
  {
   "cell_type": "code",
   "execution_count": 18,
   "metadata": {
    "scrolled": true
   },
   "outputs": [
    {
     "data": {
      "text/plain": [
       "День святого Валентина_                             5\n",
       "Робин Гуд (Robin Hood)                              4\n",
       "Дорога /По новелле Кормака МкКарфи/                 4\n",
       "Безумцы                                             4\n",
       "Не брать живым /По книге Раджива Чандрасекарана/    4\n",
       "                                                   ..\n",
       "Однажды... в Голливуде                              1\n",
       "Сумерки /По одноименному роману Стефани Майер/      1\n",
       "Малавита                                            1\n",
       "Контрибуция (режиссерская версия)                   1\n",
       "Queen. Live in Budapest 1986                        1\n",
       "Name: title, Length: 6771, dtype: int64"
      ]
     },
     "execution_count": 18,
     "metadata": {},
     "output_type": "execute_result"
    }
   ],
   "source": [
    "data['title'].value_counts()"
   ]
  },
  {
   "cell_type": "markdown",
   "metadata": {},
   "source": [
    "Видим, что дубликаты по названию есть, но ничего делать с представленными фильмами не будем, так как они не являются полными дубликатами, а их удаление приведет к искажению данных. "
   ]
  },
  {
   "cell_type": "markdown",
   "metadata": {
    "id": "52fOPrEBgFyQ"
   },
   "source": [
    "#### Шаг 2.4. Изучим категориальные значения\n",
    "\n",
    "- Посмотрим, какая общая проблема встречается почти во всех категориальных столбцах;\n",
    "- Исправим проблемные значения в поле `type`.\n"
   ]
  },
  {
   "cell_type": "code",
   "execution_count": 19,
   "metadata": {},
   "outputs": [
    {
     "data": {
      "text/plain": [
       "array([' Анимационный', ' Художественный', 'Анимационный',\n",
       "       'Документальный', 'Музыкально-развлекательный',\n",
       "       'Научно-популярный', 'Прочие', 'Художественный'], dtype=object)"
      ]
     },
     "execution_count": 19,
     "metadata": {},
     "output_type": "execute_result"
    }
   ],
   "source": [
    "data['type'].sort_values().unique() #уникальные значения столбца"
   ]
  },
  {
   "cell_type": "code",
   "execution_count": 20,
   "metadata": {},
   "outputs": [
    {
     "data": {
      "text/plain": [
       "array([' АНО \"Кинофорум\"',\n",
       "       ' Ауматик Интертейнмент, Блюмхаус Продакшнз и др.',\n",
       "       ' ЗАО \"Кинокомпания ФаворитФильм\" по заказу ООО \"ФАВОРИТ МЕДИА\"',\n",
       "       ...,\n",
       "       'ристалл Сити Интертейнмент, Эксклюзив Медиа Групп, Хоуп Таун Интертейнмент, Каппа Андерковар Пикчерз, Скарлет Файр Интертейнмент',\n",
       "       'совместное производство Киностудия \"Мосфильм\", \"Космос-филм\" (Франция), \"Посейдон Продакшинз Лимитед\" (Англия), \"ИКАИК\" (Куба), ДЕФА (ГДР)',\n",
       "       'юФилм, Твинпикс'], dtype=object)"
      ]
     },
     "execution_count": 20,
     "metadata": {},
     "output_type": "execute_result"
    }
   ],
   "source": [
    "data['film_studio'].sort_values().unique()"
   ]
  },
  {
   "cell_type": "code",
   "execution_count": 21,
   "metadata": {},
   "outputs": [
    {
     "data": {
      "text/plain": [
       "array([' СССР', ' СССР ', ' СССР   ', '2019', 'CША', 'unknown',\n",
       "       'Австралия', 'Австралия - Великобритания - Бельгия - Индия',\n",
       "       'Австралия - Германия', 'Австралия - Ирландия',\n",
       "       'Австралия - Колумбия', 'Австралия - США', 'Австралия, Канада',\n",
       "       'Австралия, США', 'Австралия-Великобритания', 'Австралия-Ирландия',\n",
       "       'Австралия-США', 'Австралия-Турция-США', 'Австрия',\n",
       "       'Австрия - Германия', 'Австрия - Германия - Франция',\n",
       "       'Австрия - Люксембург', 'Австрия, Великобритания, Германия',\n",
       "       'Австрия-Германия-Франция', 'Австрия-Франция-Германия',\n",
       "       'Азербайджан-Россия', 'Аргентина', 'Аргентина - Бразилия',\n",
       "       'Аргентина - Испания', 'Аргентина - Испания - Уругвай',\n",
       "       'Аргентина - Мексика - Бразилия - Франция - США',\n",
       "       'Аргентина - Уругвай - Россия - Германия - Франция - Нидерланды',\n",
       "       'Аргентина - Франция - Испания', 'Аргентина, Испания',\n",
       "       'Аргентина-Испания', 'Армения', 'Армения - Германия',\n",
       "       'Армения - Казахстан', 'Армения-Россия', 'Бельгия',\n",
       "       'Бельгия - Германия - Люксембург',\n",
       "       'Бельгия - Германия - Люксембург - Франция',\n",
       "       'Бельгия - Испания - Канада - Нидерланды',\n",
       "       'Бельгия - Италия - Франция ', 'Бельгия - Люксембург',\n",
       "       'Бельгия - Люксембург - Франция - Швейцария',\n",
       "       'Бельгия - Нидерланды - Франция', 'Бельгия - США',\n",
       "       'Бельгия - Франция', 'Бельгия - Франция - Люксембург',\n",
       "       'Бельгия, Великобритания, США', 'Бельгия, Канада',\n",
       "       'Бельгия-Германия-Канада-Франция-США-Великобритания',\n",
       "       'Бельгия-Нидерланды', 'Бельгия-Франция', 'Бельгия-Франция-Италия',\n",
       "       'Болгария', 'Болгария - США', 'Болгария - Франция - Изриль',\n",
       "       'Босния и Герцеговина - Франция - Великобритания - Германия - Словения - Бельгия - Сербия',\n",
       "       'Бразилия', 'Бразилия - Германия - Порртугалия - Франция ',\n",
       "       'Бразилия - Испания', 'Бразилия - К;анада',\n",
       "       'Бразилия - Канада - США', 'Бразилия - Португалия - Франция',\n",
       "       'Бразилия - США', 'Бразилия - США - КНР ',\n",
       "       'Бразилия, Уругвай, Дания, Норвегия, Чили, Швеция',\n",
       "       'Великобритания', 'Великобритания ',\n",
       "       'Великобритания - Австралия - США',\n",
       "       'Великобритания - Австрия - Германия',\n",
       "       'Великобритания - Австрия - Франция - США',\n",
       "       'Великобритания - Аргентина - США - Франция - Россия - Испания',\n",
       "       'Великобритания - Германия',\n",
       "       'Великобритания - Германия - Нидерланды - Дания',\n",
       "       'Великобритания - Германия - США',\n",
       "       'Великобритания - Германия - Франция - Кипр - США',\n",
       "       'Великобритания - Гонконг - Венгрия - США - Ирландия',\n",
       "       'Великобритания - Дания', 'Великобритания - Израиль',\n",
       "       'Великобритания - Израиль - Франция - Япония - США',\n",
       "       'Великобритания - Ирландия', 'Великобритания - Ирландия - США',\n",
       "       'Великобритания - Ирландия - США ',\n",
       "       'Великобритания - Исландия - Испания - Швейцария - США',\n",
       "       'Великобритания - Испания', 'Великобритания - Испания - Германия',\n",
       "       'Великобритания - Испания - Италия - Латвия - Франция - Эстония',\n",
       "       'Великобритания - Испания - Непал - Индия - Венгрия - Гонконг - Германия - Дания - Бахрейн',\n",
       "       'Великобритания - Италия', 'Великобритания - Италия - Испания',\n",
       "       'Великобритания - Италия - Швейцария', 'Великобритания - КНР',\n",
       "       'Великобритания - Канада', 'Великобритания - Канада - США',\n",
       "       'Великобритания - Люксембург', 'Великобритания - Мексика - США',\n",
       "       'Великобритания - Нидерланды - Германия - Франция - Бельгия - Австрия ',\n",
       "       'Великобритания - Нидерланды - Франция - США',\n",
       "       'Великобритания - Нидерланды - Франция - Хорватия',\n",
       "       'Великобритания - Новая Зеландия',\n",
       "       'Великобритания - Норвегия - Дания - Германия',\n",
       "       'Великобритания - Норвегия - Кения - Хорватия',\n",
       "       'Великобритания - Польша',\n",
       "       'Великобритания - Польша - КНР - Индия - Норвегия',\n",
       "       'Великобритания - Пуэрто-Рико', 'Великобритания - Россия - КНР',\n",
       "       'Великобритания - Россия - Украина - США',\n",
       "       'Великобритания - Румыния', 'Великобритания - США',\n",
       "       'Великобритания - США - Австралия - Ирландия - Германия - Куба - Канада',\n",
       "       'Великобритания - США - Германия',\n",
       "       'Великобритания - США - Германия - Бельгия',\n",
       "       'Великобритания - США - Германия - Канада - Австралия',\n",
       "       'Великобритания - США - Индия', 'Великобритания - США - Канада',\n",
       "       'Великобритания - США - Канада - Бельгия - Нидерланды - Австрия - Германия',\n",
       "       'Великобритания - США - Канада - Нидерланды - Франция',\n",
       "       'Великобритания - США - Россия', 'Великобритания - США - Франция',\n",
       "       'Великобритания - США - Швейцария', 'Великобритания - Франция',\n",
       "       'Великобритания - Франция - Австрия - Швеция',\n",
       "       'Великобритания - Франция - Бельгия',\n",
       "       'Великобритания - Франция - Бельгия - Италия',\n",
       "       'Великобритания - Франция - Бельгия - США',\n",
       "       'Великобритания - Франция - Венгрия',\n",
       "       'Великобритания - Франция - Германия',\n",
       "       'Великобритания - Франция - Германия - США',\n",
       "       'Великобритания - Франция - Италия',\n",
       "       'Великобритания - Франция - Италия - Индия - Дания - КНР - Бангладеш - Камбоджа - Гаити - Уганда',\n",
       "       'Великобритания - Франция - Италия - США',\n",
       "       'Великобритания - Франция - Республика Кипр - Швейцария - США - Сербия',\n",
       "       'Великобритания - Франция - США',\n",
       "       'Великобритания - Франция - Швеция - Бельгия',\n",
       "       'Великобритания - Чехия - Франция',\n",
       "       'Великобритания - Чехия - Франция - Италия',\n",
       "       'Великобритания - ЮАР', 'Великобритания - Япония - США',\n",
       "       'Великобритания, Австралия',\n",
       "       'Великобритания, Германия, Дания, США', 'Великобритания, Канада',\n",
       "       'Великобритания, Канада, США',\n",
       "       'Великобритания, Нидерланды, Польша, Швейцария, Франция',\n",
       "       'Великобритания, Новая Зеландия', 'Великобритания, США',\n",
       "       'Великобритания, США, Испания', 'Великобритания, Франция',\n",
       "       'Великобритания, Франция, Бельгия', 'Великобритания, Швеция, США',\n",
       "       'Великобритания, Южная Корея, Канада, США, Индия, Китай, Япония',\n",
       "       'Великобритания, Япония, США', 'Великобритания-Австралия - США',\n",
       "       'Великобритания-Венгрия', 'Великобритания-Германия-Канада-ЮАР',\n",
       "       'Великобритания-США', 'Великобритания-США-Германия-КНР',\n",
       "       'Великобритания-США-Франция', 'Великобритания-Франция',\n",
       "       'Великобритания-Франция-Германия', 'Великобритания-Франция-Италия',\n",
       "       'Венгрия', 'Венгрия - Германия - Швеция', 'Венесуэла', 'Германия',\n",
       "       'Германия - Австралия', 'Германия - Австрия',\n",
       "       'Германия - Австрия - Ирландия', 'Германия - Австрия - Франция',\n",
       "       'Германия - Аргентина - Нидерланды - Чили', 'Германия - Бельгия',\n",
       "       'Германия - Бельгия - Великобритания',\n",
       "       'Германия - Бельгия - Люксембург - Ирландия',\n",
       "       'Германия - Бельгия - Люксембург - Норвегия',\n",
       "       'Германия - Бельгия - США -Франция', 'Германия - Великобритания',\n",
       "       'Германия - Великобритания - Австрия',\n",
       "       'Германия - Великобритания - Италия - Испания',\n",
       "       'Германия - Великобритания - США',\n",
       "       'Германия - Дания - Испания - Швеция - Канада - Эстония - Франция',\n",
       "       'Германия - Дания - Норвегия', 'Германия - Исландия',\n",
       "       'Германия - Италия', 'Германия - Италия - США',\n",
       "       'Германия - Италия - Франция', 'Германия - Канада',\n",
       "       'Германия - Китай', 'Германия - Люксембург - Бельгия',\n",
       "       'Германия - Люксембург - Дания', 'Германия - Люксембург - Франция',\n",
       "       'Германия - Нидерланды - Беларусь - Россия - Латвия',\n",
       "       'Германия - Нидерланды - ЮАР', 'Германия - Россия',\n",
       "       'Германия - США', 'Германия - США - Великобритания - Израиль',\n",
       "       'Германия - США - Великобритания - Ирландия',\n",
       "       'Германия - США - Франция - Испания',\n",
       "       'Германия - США - Швеция - Франция',\n",
       "       'Германия - Финляндия - Австралия', 'Германия - Франция',\n",
       "       'Германия - Франция -  Польша - Турция - Канада - Италия - Россия ',\n",
       "       'Германия - Франция - Австрия', 'Германия - Франция - Бельгия',\n",
       "       'Германия - Франция - Великобритания - Польша - США',\n",
       "       'Германия - Франция - Канада', 'Германия - Франция - Люксембург',\n",
       "       'Германия - Франция - Польша', 'Германия - Швейцария',\n",
       "       'Германия - Швейцария - Франция - Южная Корея - США',\n",
       "       'Германия, Австралия', 'Германия, Бельгия', 'Германия, Россия',\n",
       "       'Германия, США', 'Германия, Франция',\n",
       "       'Германия, Франция, Великобритания', 'Германия, Франция, США',\n",
       "       'Германия-Австрия', 'Германия-Австрия-Франция-Италия',\n",
       "       'Германия-Великобритания', 'Германия-Израиль',\n",
       "       'Германия-Италия- Шри-Ланка', 'Германия-Италия-Швейцария',\n",
       "       'Германия-Канада-Великобритания-Швейцария-Франция',\n",
       "       'Германия-Канада-Франция-Бельгия', 'Германия-Кения',\n",
       "       'Германия-США', 'Германия-Украина-Нидерланды',\n",
       "       'Германия-Франция-Великобритания',\n",
       "       'Германия-Франция-Великобритания-США', 'Германия-Франция-Польша',\n",
       "       'Германия-Швеция', 'Голландия', 'Гонконг', 'Гонконг - КНР',\n",
       "       'Гонконг - Сингапур - Таиланд - Великобритания', 'Гонконг, КНР',\n",
       "       'Греция', 'Греция - Германия - Франция', 'Греция - Россия',\n",
       "       'Грузия', 'Грузия - Россия - Украина - Хорватия - Германия',\n",
       "       'Грузия - Украина', 'Грузия - Франция - Люксембург',\n",
       "       'Грузия-Россия', 'Грузия-Франция', 'Дания',\n",
       "       'Дания - Австрия - Ирландия - Финляндия - Норвегия - Швеция - Нидерланды',\n",
       "       'Дания - Великобритания - ЮАР', 'Дания - Германия',\n",
       "       'Дания - Германия - Швеция', 'Дания - Исландия',\n",
       "       'Дания - Канада - Швеция - Франция - Германия - Великобритания - США',\n",
       "       'Дания - Латвия - Россия - США',\n",
       "       'Дания - Норвегия - Великобритания', 'Дания - США',\n",
       "       'Дания - Франция - Германия - Швеция',\n",
       "       'Дания - Франция - Италия - Бельгия - Нидерланды',\n",
       "       'Дания - Швейцария - Бельгия - Франция', 'Дания - Швеция',\n",
       "       'Дания - Швеция - Великобритания - Франция - Германия - Нидерланды - Норвегия - Финляндия',\n",
       "       'Дания - Швеция - Италия - Франция - Германия',\n",
       "       'Дания, Канада, Норвегия, Австралия, США',\n",
       "       'Дания, Норвегия, Венгрия, Чехия',\n",
       "       'Дания, Норвегия, Швеция, Исландия',\n",
       "       'Дания, Швеция, Великобритания, Франция, Германия, Норвегия, Финляндия, Нидерланды, Италия',\n",
       "       'Дания-Франция-Бельгия-Германия-Великобритания',\n",
       "       'Дания-Швеция-Франция-Германия', 'Израиль',\n",
       "       'Израиль - Германия - Польша - Бельгия - Франция - Люксембург',\n",
       "       'Израиль - Германия - Франция - Швейцария', 'Израиль - Франция',\n",
       "       'Израиль - Франция - Великобритания - Германия',\n",
       "       'Израиль - Франция - Германия - Палестина - США - Австрия - Великобритания',\n",
       "       'Израиль, Украина', 'Израиль-США-Франция', 'Индия',\n",
       "       'Индия - Великобритания', 'Индия - КНР', 'Индия - Мексика',\n",
       "       'Индия - США', 'Индонезия', 'Иран', 'Иран ', 'Иран, Франция',\n",
       "       'Ирландия', 'Ирландия - Великобритания - Канада',\n",
       "       'Ирландия - Великобритания - США',\n",
       "       'Ирландия - Великобритания - Франция - США',\n",
       "       'Ирландия - Великобритания - Франция - США - Германия - Нидерланды',\n",
       "       'Ирландия - Дания - Бельгия - Люксембург - Франция',\n",
       "       'Ирландия - США',\n",
       "       'Ирландия - Финляндия - Бельгия - Великобритания - США - Швейцария',\n",
       "       'Ирландия, Великобритания', 'Ирландия, Канада',\n",
       "       'Ирландия-Великобритания', 'Ирландия-Великобритания-Германия',\n",
       "       'Ирландия-Нидерланды-Франция-США-Великобритания', 'Исландия',\n",
       "       'Исландия - Финляндия', 'Исландия, Бельгия',\n",
       "       'Исландия-Ирландия-Германия', 'Испания', 'Испания - Аргентина',\n",
       "       'Испания - Аргентина - Индия - США',\n",
       "       'Испания - Бельгия - Франция - Португалия - Великобритания',\n",
       "       'Испания - Болгария - США', 'Испания - Великобритания - Франция',\n",
       "       'Испания - Германия - Нидерланды', 'Испания - Италия - Франция',\n",
       "       'Испания - Канада', 'Испания - Канада - Япония', 'Испания - Куба',\n",
       "       'Испания - Мальта', 'Испания - Мексика', 'Испания - США',\n",
       "       'Испания - США - Великобритания - Канада',\n",
       "       'Испания - США - Колумбия', 'Испания - Уругвай - Аргентина',\n",
       "       'Испания - Франция',\n",
       "       'Испания - Франция - Нидерланды - Германия - Бельгия - Великобритания - Канада',\n",
       "       'Испания - Франция - США - Великобритания - Бельгия',\n",
       "       'Испания - Швейцария - Великобритания - Германия - Новая Зеландия - Нидерланды - Канада',\n",
       "       'Испания, Ирландия, Бельгия, Франция',\n",
       "       'Испания, Франция, Великобритания, Дания, Бельгия, Германия',\n",
       "       'Испания, Франция, Италия', 'Испания-Аргентина', 'Испания-Канада',\n",
       "       'Испания-Колумбия', 'Испания-Мексика',\n",
       "       'Испания-Франция-Греция-Индия-США-Россия-Великобритания', 'Италия',\n",
       "       'Италия ', 'Италия - Аргентина - Словения ',\n",
       "       'Италия - Бельгия - Франция', 'Италия - Канада', 'Италия - Россия',\n",
       "       'Италия - США', 'Италия - Франция', 'Италия - Франция - Германия',\n",
       "       'Италия - Франция - Швейцария',\n",
       "       'Италия - Франция - Швейцария - Великобритания',\n",
       "       'Италия - Фрация - Бразилия - Германия',\n",
       "       'Италия - Швейцария - Германия', 'Италия, Германия',\n",
       "       'Италия, Испания', 'Италия, Франция', 'Италия, Франция, Германия',\n",
       "       'Италия-Великобритания', 'Италия-США', 'Италия-Франция',\n",
       "       'Италия-Франция-Великобритания', 'Италия-Швейцария',\n",
       "       'Италия-Швейцария-Франция-Германия ', 'КНР', 'КНР - Гонконг',\n",
       "       'КНР - Гонконг - США', 'КНР - Канада - США', 'КНР - США',\n",
       "       'КНР - США ', 'КНР - Сингапур', 'КНР - Франция',\n",
       "       'КНР, Индия, Гонконг, США', 'КНР, США', 'КНР-США', 'Казахстан',\n",
       "       'Канада', 'Канада - Германия', 'Канада - Испания',\n",
       "       'Канада - Италия', 'Канада - КНР', 'Канада - Мексика',\n",
       "       'Канада - Норвегия', 'Канада - США',\n",
       "       'Канада - США - Германия - Франция',\n",
       "       'Канада - США - Нидерланды - Великобритания - Аргентина',\n",
       "       'Канада - Франция', 'Канада - Франция - Великобритания',\n",
       "       'Канада - Франция - Испания',\n",
       "       'Канада - Франция - США - ОАЭ - Великобритания',\n",
       "       'Канада - Южная Корея', 'Канада, Великобритания', 'Канада, США',\n",
       "       'Канада, США, Каймановы острова', 'Канада, США, Норвегия',\n",
       "       'Канада, Франция, Италия, Швейцария, США', 'Канада- Испания',\n",
       "       'Канада-Бразилия-Япония', 'Канада-Великобритания',\n",
       "       'Канада-Германия', 'Канада-США', 'Канада-Франция', 'Канада-ЮАР',\n",
       "       'Канада-Южная Корея-США', 'Кения, Германия', 'Киргизия',\n",
       "       'Киргизия-Россия', 'Китай', 'Китай - Гонконг',\n",
       "       'Китай, Канада, США', 'Китай, США', 'Китай-Гонконг',\n",
       "       'Китай-Гонконг-США', 'Княжество Андорра - Украина', 'Колумбия',\n",
       "       'Колумбия - США', 'Корея', 'Латвия - Россия', 'Латвия - Франция',\n",
       "       'Ливан-США', 'Литва - Венгрия', 'Литва-Россия-Украина',\n",
       "       'Люксембург - Бельгия - Франция',\n",
       "       'Люксембург - Нидерланды - Испания - Великобритания - США - Италия',\n",
       "       'Македония - Франция - Великобритания', 'Малайзия',\n",
       "       'Малайзия - США', 'Мексика',\n",
       "       'Мексика - Аргентина - Великобритания', 'Мексика - Испания',\n",
       "       'Мексика - Испания - Дания - США',\n",
       "       'Мексика - Нидерланды - Германия - Франция', 'Мексика - США',\n",
       "       'Мексика - Тайвань - США', 'Мексика - Франция',\n",
       "       'Мексика - Франция - Нидерланды - Германия', 'Мексика - Чили',\n",
       "       'Мексика - Эквадор - Канада - США - Франция - Малайзия - Италия - Аргентина - Германия - Индия  ',\n",
       "       'Мексика, Франция, Германия, Дания, Швеция', 'Мексика-Аргентина',\n",
       "       'Монголия', 'Нидерланды', 'Нидерланды - Бельгия - Болгария',\n",
       "       'Нидерланды - Бельгия - Германия - Ирландия',\n",
       "       'Нидерланды - Бельгия - Люксембург',\n",
       "       'Нидерланды - Великобритания - Бельгия', 'Нидерланды - Россия',\n",
       "       'Нидерланды - Россия - Германия',\n",
       "       'Нидерланды - США - Германия - Канада - Франция - Ирландия - Великобритания',\n",
       "       'Нидерланды - Франция - Германия - Бельгия - Швеция - Великобритания',\n",
       "       'Нидерланды, Бельгия', 'Нидерланды, Бельгия, Люксембург',\n",
       "       'Нидерланды-Великобритания-Франция-Италия-Япония',\n",
       "       'Новая Зеландия', 'Новая Зеландия - КНР', 'Новая Зеландия - США',\n",
       "       'Норвегия',\n",
       "       'Норвегия - Азербайджан - Россия - Колумбия - Великобритания - Венгрия - Румыния - Франция - Грузия',\n",
       "       'Норвегия - Дания - Швеция',\n",
       "       'Норвегия - Исландия - США - Великобритания ',\n",
       "       'Норвегия - Нидерланды', 'Норвегия - США', 'Норвегия - Швеция',\n",
       "       'Норвегия - Швеция - Дания - Германия',\n",
       "       'Норвегия - Швеция - Россия', 'Норвегия, Швеция, Дания',\n",
       "       'Норвения', 'ОАЭ - США', 'Пакистан', 'Парагвай', 'Перу', 'Польша',\n",
       "       'Польша - Ирландия', 'Польша - Италия - Россия',\n",
       "       'Польша - Португалия - Франция - Великобритания',\n",
       "       'Польша - Франция', 'Польша - Франция - Великобритания',\n",
       "       'Польша - Франция - Испания - Бразилия - Швеция', 'Португалия',\n",
       "       'Португалия - Франция', 'Португалия, Франция, Польша, США',\n",
       "       'Пуэрто-Рико, Великобритания, США', 'Республика Армения',\n",
       "       'Республика Беларусь',\n",
       "       'Республика Беларусь, Германия, США, Россия',\n",
       "       'Республика Казахстан', 'Республика Кипр',\n",
       "       'Республика Кипр - Россия', 'Республика Кипр, Россия',\n",
       "       'Республика Кипр, США, Россия', 'Республика Кипр-Россия',\n",
       "       'Республика Корея', 'Республика Узбекистан', 'Россия',\n",
       "       'Россия - Азербайджан', 'Россия - Болгария', 'Россия - Германия',\n",
       "       'Россия - Германия - Украина', 'Россия - Германия - Швейцария',\n",
       "       'Россия - Грузия', 'Россия - Италия', 'Россия - Казахстан',\n",
       "       'Россия - Польша', 'Россия - Республика Кипр', 'Россия - США',\n",
       "       'Россия - Франция - Великобритания - Латвия',\n",
       "       'Россия - Эстония - Финляндия - Беларусь', 'Россия,  Испания',\n",
       "       'Россия, Австрия', 'Россия, Армения', 'Россия, Бельгия, Финляндия',\n",
       "       'Россия, Германия', 'Россия, Германия, Великобритания',\n",
       "       'Россия, Германия, Казахстан, Польша, Китай',\n",
       "       'Россия, Германия, Франция, Бельгия', 'Россия, Грузия, Испания',\n",
       "       'Россия, Грузия, Хорватия, Испания', 'Россия, Испания',\n",
       "       'Россия, Италия', 'Россия, Казахстан, США',\n",
       "       'Россия, Латвия, Чешская Республика',\n",
       "       'Россия, Нидерланды, Финляндия', 'Россия, Польша, Финляндия',\n",
       "       'Россия, Республика Беларусь', 'Россия, Республика Кипр',\n",
       "       'Россия, Румыния', 'Россия, Сербия', 'Россия, Таджикистан',\n",
       "       'Россия, Украина', 'Россия, Украина, Польша',\n",
       "       'Россия, Украина, Республика Беларусь, Литва',\n",
       "       'Россия, Франция, Германия, Бельгия', 'Россия, Франция, Латвия',\n",
       "       'Россия-Азербайджан', 'Россия-Беларусь', 'Россия-Белоруссия',\n",
       "       'Россия-Германия', 'Россия-Ирландия', 'Россия-Италия',\n",
       "       'Россия-Казахстан', 'Россия-Кипр', 'Россия-Китай', 'Россия-Польша',\n",
       "       'Россия-Польша-Голландия-Словакия', 'Россия-США',\n",
       "       'Россия-США-Канада-Люксембург', 'Россия-Словакия-Чехия',\n",
       "       'Россия-Украина', 'Россия-Украина-Германия', 'Россия-Франция',\n",
       "       'Румыния', 'Румыния - Франция - Бельгия',\n",
       "       'Румыния, ЮАР, Иран, Франция, Канада, Великобритания',\n",
       "       'Румыния-США', 'СССР', 'СССР ', 'СССР  ', 'СССР   ', 'СССР    ',\n",
       "       'СССР     ', 'СССР - ГДР - Польша - Италия', 'СССР - Италия',\n",
       "       'СССР - Швейцария - Франция', 'СССР, Албания', 'СССР, Афганистан',\n",
       "       'СССР, ВНР', 'СССР, Венгрия', 'СССР, Венгрия, ЧССР, ГДР',\n",
       "       'СССР, ГДР', 'СССР, Италия', 'СССР, Монголия', 'СССР, Польша',\n",
       "       'СССР, Россия', 'СССР, Румыния, Франция', 'СССР, ФРГ',\n",
       "       'СССР, ФРГ, Западный Берлин', 'СССР, Финляндия',\n",
       "       'СССР, Франция, Англия, Куба, ГДР',\n",
       "       'СССР, ЧССР, Западный Берлин, ПНР', 'СССР, Швеция', 'США', 'США ',\n",
       "       'США - Австралия', 'США - Австралия - Дания',\n",
       "       'США - Австралия - Индия', 'США - Австралия - Мексика',\n",
       "       'США - Австралия - Новая Зеландия - Великобритания',\n",
       "       'США - Австралия - Франция', 'США - Бельгия',\n",
       "       'США - Бельгия - Великобритания', 'США - Болгария - Мексика',\n",
       "       'США - Бразилия - Великобритания - Канада',\n",
       "       'США - Бразилия - Франция - Австралия - Великобритания - Германия',\n",
       "       'США - Великобритания', 'США - Великобритания ',\n",
       "       'США - Великобритания - Австралия',\n",
       "       'США - Великобритания - Болгария',\n",
       "       'США - Великобритания - Германия',\n",
       "       'США - Великобритания - Германия - - Швеция - Канада',\n",
       "       'США - Великобритания - Германия - Бельгия - Дания',\n",
       "       'США - Великобритания - Германия - Новая Зеландия - Бельгия - Франция',\n",
       "       'США - Великобритания - Ирландия',\n",
       "       'США - Великобритания - Исландия',\n",
       "       'США - Великобритания - Испания',\n",
       "       'США - Великобритания - Италия - Израиль - Сербия - Индия',\n",
       "       'США - Великобритания - КНР', 'США - Великобритания - Канада',\n",
       "       'США - Великобритания - Канада - КНР',\n",
       "       'США - Великобритания - Канада - Швеция',\n",
       "       'США - Великобритания - Новая Зеландия',\n",
       "       'США - Великобритания - Франция',\n",
       "       'США - Великобритания - Франция - Гонконг',\n",
       "       'США - Великобритания - Чехия',\n",
       "       'США - Великобритания - Швейцария - Франция',\n",
       "       'США - Великобритания - Швеция', 'США - Великобритания - Япония',\n",
       "       'США - Великобритания- Франция - Швеция',\n",
       "       'США - Венгрия - Великобритания', 'США - Вьетнам',\n",
       "       'США - Германия', 'США - Германия - Великобритания',\n",
       "       'США - Германия - Гонконг - Сингапур', 'США - Германия - КНР',\n",
       "       'США - Германия - Канада', 'США - Германия - Нидерланды',\n",
       "       'США - Германия - Франция',\n",
       "       'США - Германия - Франция - Великобритания - Канада ',\n",
       "       'США - Германия - Япония', 'США - Гонконг', 'США - Гонконг - КНР ',\n",
       "       'США - Дания', 'США - Индия', 'США - Индия - ОАЭ',\n",
       "       'США - Ирландия - Великобритания',\n",
       "       'США - Ирландия - Великобритания - Франция', 'США - Испания',\n",
       "       'США - Испания - Болгария', 'США - Испания - Франция',\n",
       "       'США - Испания - Франция - Великобритания', 'США - Италия',\n",
       "       'США - КНР', 'США - КНР - Индия - Ю.Корея', 'США - Канада',\n",
       "       'США - Канада - Аргентина',\n",
       "       'США - Канада - Афганистан - Бельгия - Франция',\n",
       "       'США - Канада - Великобритания', 'США - Канада - Германия',\n",
       "       'США - Канада - Германия - Франция', 'США - Канада - Индонезия',\n",
       "       'США - Канада - КНР',\n",
       "       'США - Канада - Россия - Франция - Чили - Ирландия',\n",
       "       'США - Канада - Франция - Индия', 'США - Канада - Япония - КНР',\n",
       "       'США - Китай', 'США - Колумбия', 'США - Колумбия - Испания',\n",
       "       'США - Мальта', 'США - Мексика',\n",
       "       'США - Нидерланды - Бельгия - Венгрия - Греция - Канада',\n",
       "       'США - Нидерланды - Финляндия - Великобритания - Италия',\n",
       "       'США - Новая Зеландия', 'США - Новая Зеландия - Япония',\n",
       "       'США - Норвегия', 'США - ОАЭ',\n",
       "       'США - Объединенные Арабские Эмираты', 'США - Пуэрто Рико',\n",
       "       'США - Пуэрто-Рико - Франция ', 'США - Россия',\n",
       "       'США - Россия - Польша - Германия - Пуэрто Рико',\n",
       "       'США - Россия - Франция', 'США - Румыния - Великобритания',\n",
       "       'США - Сингапур - Малайзия - Индонезия', 'США - Украина',\n",
       "       'США - Финляндия',\n",
       "       'США - Финляндия - Испания - Великобритания - Франция',\n",
       "       'США - Франция', 'США - Франция - Бельгия - Италия',\n",
       "       'США - Франция - Великобритания',\n",
       "       'США - Франция - Великобритания - Бразилия ',\n",
       "       'США - Франция - Германия',\n",
       "       'США - Франция - Германия - Канада - Австралия ',\n",
       "       'США - Франция - Испания - Великобритания',\n",
       "       'США - Франция - Канада - Великобритания',\n",
       "       'США - Франция - Канада - Германия - Австралия - Индия',\n",
       "       'США - Франция - Турция', 'США - Франция - ЮАР',\n",
       "       'США - Хорватия - Босния-Герцеговина', 'США - Чехия - Франция',\n",
       "       'США - Чили', 'США - Швейцария - Франция', 'США - Швеция',\n",
       "       'США - ЮАР', 'США - ЮАР - Гонконг', 'США - Южная Корея',\n",
       "       'США - Япония', 'США - Япония - Германия',\n",
       "       'США - Япония - Канада - Великобритания - Германия - Франция',\n",
       "       'США - Япония - Франция - Великобритания',\n",
       "       'США -Великобритания - Австралия', 'США -Германия',\n",
       "       'США, Великобритания', 'США, Великобритания, Ирландия, Люксембург',\n",
       "       'США, Великобритания, Люксембург', 'США, Великобритания, Франция',\n",
       "       'США, Германия', 'США, Гонконг ', 'США, Индия', 'США, Канада',\n",
       "       'США, Россия', 'США, Украина', 'США, Франция',\n",
       "       'США, Франция, Япония', 'США, Япония', 'США- Ю.Корея',\n",
       "       'США-Австралия', 'США-Аргентина', 'США-Бельгия',\n",
       "       'США-Великобритания', 'США-Великобритания-Австралия',\n",
       "       'США-Великобритания-Индия', 'США-Великобритания-Ирландия',\n",
       "       'США-Великобритания-Новая Зеландия', 'США-Великобритания-Франция',\n",
       "       'США-Великобритания-Чехия-Румыния', 'США-Венгрия', 'США-Германия',\n",
       "       'США-Германия-Австралия', 'США-Германия-Великобритания',\n",
       "       'США-Германия-Канада', 'США-Гонконг-Китай', 'США-Индия',\n",
       "       'США-Индонезия', 'США-Ирландия', 'США-Испания',\n",
       "       'США-Италия-Греция', 'США-Италия-Испания',\n",
       "       'США-Италия-Испания-Аргентина', 'США-КНР', 'США-Канада',\n",
       "       'США-Канада-Австралия', 'США-Канада-Бельгия', 'США-Канада-Италия',\n",
       "       'США-Канада-Франция', 'США-Китай', 'США-Колумбия', 'США-Мальта',\n",
       "       'США-Мексика', 'США-Нидерланды', 'США-ОАЭ', 'США-Россия',\n",
       "       'США-ФРГ-Россия', 'США-Франция',\n",
       "       'США-Франция-Великобритания-Австрия', 'США-Франция-Ирландия',\n",
       "       'США-Франция-Испания', 'США-Франция-Канада', 'США-ЮАР',\n",
       "       'США-Южная Корея-Новая Зеландия', 'США-Япония',\n",
       "       'США-Япония-Германия-Великобритания',\n",
       "       'США-Япония-Германия-Великобритания-Нидерланды', 'СЩА',\n",
       "       'Сербия - Великобритания - США', 'Сербия - Германия - Венгрия',\n",
       "       'Сербия - Словения - Хорватия - Черногория - Македония',\n",
       "       'Сингапур - Великобритания - Индонезия - Канада - США',\n",
       "       'Сша, Канада', 'Таиланд', 'Таиланд - КНР - США', 'Таиланд - США',\n",
       "       'Таиланд-Великобритания-Франция-Германия-Испания-Нидерланды',\n",
       "       'Турция', 'Турция - Германя - Франция', 'Турция - США', 'Украина',\n",
       "       'Украина - Германия - Латвия - Эстония', 'Украина - Нидерланды',\n",
       "       'Уругвай - Аргентина - Испания', 'Уругвай - Колумбия',\n",
       "       'Уругвай-Мексика-Германия ', 'Финляндия',\n",
       "       'Финляндия - Австрия - Россия',\n",
       "       'Финляндия - Великобритания - Германия', 'Финляндия - Германия',\n",
       "       'Финляндия - Дания - Германия - Ирландия',\n",
       "       'Финляндия - Исландия - Швеция', 'Финляндия - Канада',\n",
       "       'Финляндия - Польша', 'Финляндия - Франция - Германия',\n",
       "       'Финляндия - Швеция - Германия', 'Финляндия - Швеция - Норвегия',\n",
       "       'Финляндия, Латвия', 'Финляндия-Дания-Германия-Ирландия',\n",
       "       'Франция', 'Франция ', 'Франция -  Бельгия', 'Франция - Австрия',\n",
       "       'Франция - Австрия - Германия - Италия - США', 'Франция - Бельгия',\n",
       "       'Франция - Бельгия - Великобритания - Испания - Германия - США',\n",
       "       'Франция - Бельгия - Великобритания - США - Нидерланды - Канада',\n",
       "       'Франция - Бельгия - Испания', 'Франция - Бельгия - Канада',\n",
       "       'Франция - Бельгия - Люксембург', 'Франция - Бельгия - Чехия',\n",
       "       'Франция - Бельгия - Япония', 'Франция - Бенльгия',\n",
       "       'Франция - Бразилия', 'Франция - Бразилия - Италия',\n",
       "       'Франция - Великобритания',\n",
       "       'Франция - Великобритания - Багамские острова - США',\n",
       "       'Франция - Великобритания - Камбоджа - США - КНР',\n",
       "       'Франция - Великобритания - Нидерланды - Люксембург',\n",
       "       'Франция - Германия', 'Франция - Германия - Австрия',\n",
       "       'Франция - Германия - Бельгия', 'Франция - Германия - Италия',\n",
       "       'Франция - Германия - Литва - Нидерланды - Россия',\n",
       "       'Франция - Германия - Нидерланды', 'Франция - Германия - США',\n",
       "       'Франция - Германия - Турция - Катар',\n",
       "       'Франция - Германия - Швеция - США - Чехия - Словакия - Великобритания - Нидерланды',\n",
       "       'Франция - Греция', 'Франция - Дания', 'Франция - Дания - США',\n",
       "       'Франция - Дания - Швеция - КНР', 'Франция - Израиль - Германия',\n",
       "       'Франция - Ирландия - Швеция', 'Франция - Испания',\n",
       "       'Франция - Испания - Дания - Венгрия - Швейцария',\n",
       "       'Франция - Испания - Румыния - США - Бельгия',\n",
       "       'Франция - Испания - Тайвань', 'Франция - Италия',\n",
       "       'Франция - Италия - Бельгия - КНР',\n",
       "       'Франция - Италия - Бельгия - Люксембург',\n",
       "       'Франция - Италия - Великобритания - США',\n",
       "       'Франция - Италия - Иран', 'Франция - Италия - Швейцария',\n",
       "       'Франция - КНР', 'Франция - Канада', 'Франция - Канада - Бельгия',\n",
       "       'Франция - Канада - Н.Зеландия - США - Нидерланды - Германия - Швеция - Россия',\n",
       "       'Франция - Люксембург', 'Франция - Люксембург - Бельгия',\n",
       "       'Франция - Люксембург - Германия - Бельгия - Швейцария - Великобритания ',\n",
       "       'Франция - Македония', 'Франция - Мексика - США',\n",
       "       'Франция - Монако', 'Франция - Нидерланды',\n",
       "       'Франция - Польша - Бельгия', 'Франция - Португалия',\n",
       "       'Франция - Россия',\n",
       "       'Франция - Россия - Швейцария - Румыния - Венгрия',\n",
       "       'Франция - США', 'Франция - США - Бельгия',\n",
       "       'Франция - США - Великобритания - Колумбия - Бельгия - Россия',\n",
       "       'Франция - США - Норвегия - Дания', 'Франция - Сенегал - Бельгия',\n",
       "       'Франция - Украина - Грузия - Армения', 'Франция - Финляндия',\n",
       "       'Франция - Чехия - Бельгия', 'Франция - Чехия - Великобритания',\n",
       "       'Франция - Чили', 'Франция - Швейцария',\n",
       "       'Франция - Швейцария - Германия',\n",
       "       'Франция - Швеция - Дания - Норвегия', 'Франция -Бельгия',\n",
       "       'Франция, Бельгия', 'Франция, Бельгия, Люксембург',\n",
       "       'Франция, Германия', 'Франция, Канада',\n",
       "       'Франция, Люксембург, Бельгия', 'Франция, Новая Зеландия',\n",
       "       'Франция, Норвегия', 'Франция-Австралия', 'Франция-Аргентина',\n",
       "       'Франция-Бельгия', 'Франция-Бельгия-Канада',\n",
       "       'Франция-Великобритания', 'Франция-Великобритания - Германия',\n",
       "       'Франция-Великобритания-Чехия', 'Франция-Германия',\n",
       "       'Франция-Германия-Австрия', 'Франция-Германия-Великобритания',\n",
       "       'Франция-Германия-Италия', 'Франция-Гонконг-Ирландия',\n",
       "       'Франция-Грузия-Германия-Россия-Украина-Бельгия', 'Франция-Индия',\n",
       "       'Франция-Испания', 'Франция-Испания-Бельгия-Панама',\n",
       "       'Франция-Испания-Германия', 'Франция-Испания-Швейцария',\n",
       "       'Франция-Италия', 'Франция-Италия-Испания-Венгрия', 'Франция-КНР',\n",
       "       'Франция-Канада', 'Франция-Китай', 'Франция-Перу',\n",
       "       'Франция-Польша', 'Франция-Россия',\n",
       "       'Франция-Россия-Румыния-Италия-Бельгия', 'Франция-США',\n",
       "       'Франция-Украина', 'Хорватия', 'Чехия', 'Чехия - Германия',\n",
       "       'Чехия - Испания - США', 'Чехия - Словакия - Хорватия',\n",
       "       'Чехия-Великобритания-США', 'Чехословакия', 'Чили',\n",
       "       'Чили - Испания', 'Чили - Франция - США', 'Швейцария',\n",
       "       'Швейцария - Австрия', 'Швейцария - Великобритания',\n",
       "       'Швейцария - Израиль - Франция - Великобритания',\n",
       "       'Швейцария - КНР - США - Россия - Республика Корея - Великобритания',\n",
       "       'Швейцария - Люксембург', 'Швейцария - Франция',\n",
       "       'Швейцария, Великобритания, Франция, США, Ирландия',\n",
       "       'Швейцария-Австрия', 'Швейцария-Германия-ЮАР', 'Швейцария-Франция',\n",
       "       'Швеция', 'Швеция - Германия',\n",
       "       'Швеция - Германия - Дания - Норвегия',\n",
       "       'Швеция - Германия - Франция - Дания',\n",
       "       'Швеция - Германия - Франция - Норвегия', 'Швеция - Дания',\n",
       "       'Швеция - Дания - Финляндия', 'Швеция - Норвегия', 'Швеция - США',\n",
       "       'Швеция - Франция - Норвегия - Дания',\n",
       "       'Швеция, Норвегия, Финляндия, Франция',\n",
       "       'Швеция, Франция, Великобритания', 'Швеция-Куба',\n",
       "       'Швеция-Финляндия-Франция-Норвегия', 'Швеция-Франция',\n",
       "       'Швеция-Франция-Дания', 'Эстония', 'Эстония - Россия', 'ЮАР',\n",
       "       'ЮАР - США', 'Южная Корея', 'Южная Корея - КНР',\n",
       "       'Южная Корея - США', 'Южная Корея - США - Канада', 'Япония',\n",
       "       'Япония - Великобритания - Франция',\n",
       "       'Япония - Великобритания - Швейцария - Ирландия - Дания - Франция - Польша - Австралия - Канада  ',\n",
       "       'Япония - КНР - Южная Корея', 'Япония - Канада', 'Япония - США',\n",
       "       'Япония - Франция - США - Южная Корея - Турция',\n",
       "       'Япония, Великобритания',\n",
       "       'Япония, Великобритания, Австрия, Германия, Ю.Корея',\n",
       "       'Япония, США', 'Япония-Великобритания', 'Япония-США-Франция'],\n",
       "      dtype=object)"
      ]
     },
     "execution_count": 21,
     "metadata": {},
     "output_type": "execute_result"
    }
   ],
   "source": [
    "data['production_country'].sort_values().unique()"
   ]
  },
  {
   "cell_type": "code",
   "execution_count": 22,
   "metadata": {},
   "outputs": [
    {
     "data": {
      "text/plain": [
       "array(['unknown', 'Министерство культуры',\n",
       "       'Министерство культуры, Фонд кино', 'Фонд кино'], dtype=object)"
      ]
     },
     "execution_count": 22,
     "metadata": {},
     "output_type": "execute_result"
    }
   ],
   "source": [
    "data['financing_source'].sort_values().unique()"
   ]
  },
  {
   "cell_type": "code",
   "execution_count": 23,
   "metadata": {},
   "outputs": [
    {
     "data": {
      "text/plain": [
       "array([' А.Шальопа', ' Г.Шпригов',\n",
       "       ' Дитмар Ганше, Филипп Фогес,  Бенджамин Херрман, Миша Хоффманн, Эберхард Юнексдорф, Энн Мередит',\n",
       "       ...,\n",
       "       'Яэль Абекассис, Мат Кирби, Мишель Киркман, Пабло Мелер, Брайан Дж. Фалконер, Стефан Эйхенбергер',\n",
       "       'Яэль Бергман, Лаура Уотерс, Питер Хеллайар',\n",
       "       'Яэль Фогель, Летиция Гонзалез'], dtype=object)"
      ]
     },
     "execution_count": 23,
     "metadata": {},
     "output_type": "execute_result"
    }
   ],
   "source": [
    "data['producer'].sort_values().unique()"
   ]
  },
  {
   "cell_type": "code",
   "execution_count": 24,
   "metadata": {},
   "outputs": [
    {
     "data": {
      "text/plain": [
       "array([' Йохан Нийенхейс', ' Н.Орлов, Р.Быков', ' Р.Асхаев', ...,\n",
       "       'хореография Пьера Лакотта по Филиппу Тальони',\n",
       "       'хореография Фредерика Аштона', 'хореография Фредерика Эштона'],\n",
       "      dtype=object)"
      ]
     },
     "execution_count": 24,
     "metadata": {},
     "output_type": "execute_result"
    }
   ],
   "source": [
    "data['director'].sort_values().unique()"
   ]
  },
  {
   "cell_type": "code",
   "execution_count": 25,
   "metadata": {},
   "outputs": [
    {
     "data": {
      "text/plain": [
       "array(['«0+» - для любой зрительской аудитории',\n",
       "       '«12+» - для детей старше 12 лет',\n",
       "       '«16+» - для детей старше 16 лет', '«18+» - запрещено для детей',\n",
       "       '«6+» - для детей старше 6 лет'], dtype=object)"
      ]
     },
     "execution_count": 25,
     "metadata": {},
     "output_type": "execute_result"
    }
   ],
   "source": [
    "data['age_restriction'].sort_values().unique()"
   ]
  },
  {
   "cell_type": "code",
   "execution_count": 26,
   "metadata": {},
   "outputs": [
    {
     "data": {
      "text/plain": [
       "array(['unknown', 'аниме,мультфильм', 'аниме,мультфильм,боевик',\n",
       "       'аниме,мультфильм,детектив', 'аниме,мультфильм,драма',\n",
       "       'аниме,мультфильм,комедия', 'аниме,мультфильм,короткометражка',\n",
       "       'аниме,мультфильм,мелодрама', 'аниме,мультфильм,приключения',\n",
       "       'аниме,мультфильм,ужасы', 'аниме,мультфильм,фантастика',\n",
       "       'аниме,мультфильм,фэнтези', 'биография', 'биография,военный,драма',\n",
       "       'биография,документальный', 'биография,драма',\n",
       "       'биография,драма,военный', 'биография,драма,история',\n",
       "       'биография,драма,криминал', 'биография,история',\n",
       "       'биография,история,драма', 'биография,криминал,драма',\n",
       "       'биография,криминал,триллер', 'биография,мелодрама,драма',\n",
       "       'биография,музыка,драма', 'биография,музыка,мюзикл',\n",
       "       'биография,спорт,драма', 'биография,спорт,история',\n",
       "       'биография,спорт,комедия', 'боевик', 'боевик,вестерн,приключения',\n",
       "       'боевик,военный', 'боевик,военный,драма', 'боевик,военный,история',\n",
       "       'боевик,детектив', 'боевик,драма', 'боевик,драма,биография',\n",
       "       'боевик,драма,вестерн', 'боевик,драма,военный',\n",
       "       'боевик,драма,история', 'боевик,драма,комедия',\n",
       "       'боевик,драма,криминал', 'боевик,драма,мелодрама',\n",
       "       'боевик,драма,приключения', 'боевик,драма,триллер',\n",
       "       'боевик,история', 'боевик,история,драма', 'боевик,комедия',\n",
       "       'боевик,комедия,криминал', 'боевик,комедия,приключения',\n",
       "       'боевик,комедия,семейный', 'боевик,криминал',\n",
       "       'боевик,криминал,детектив', 'боевик,криминал,драма',\n",
       "       'боевик,криминал,триллер', 'боевик,мелодрама',\n",
       "       'боевик,мелодрама,комедия', 'боевик,приключения',\n",
       "       'боевик,приключения,детектив', 'боевик,приключения,история',\n",
       "       'боевик,приключения,семейный', 'боевик,приключения,триллер',\n",
       "       'боевик,спорт,драма', 'боевик,триллер', 'боевик,триллер,детектив',\n",
       "       'боевик,триллер,драма', 'боевик,триллер,комедия',\n",
       "       'боевик,триллер,криминал', 'боевик,триллер,мелодрама',\n",
       "       'боевик,триллер,приключения', 'боевик,триллер,фэнтези',\n",
       "       'боевик,фантастика', 'боевик,фантастика,приключения',\n",
       "       'боевик,фантастика,триллер', 'боевик,фэнтези',\n",
       "       'боевик,фэнтези,драма', 'вестерн,биография,драма',\n",
       "       'вестерн,боевик,драма', 'вестерн,драма,триллер',\n",
       "       'вестерн,криминал,триллер', 'вестерн,приключения,боевик',\n",
       "       'военный', 'военный,биография,драма', 'военный,боевик,драма',\n",
       "       'военный,боевик,история', 'военный,детектив', 'военный,драма',\n",
       "       'военный,драма,боевик', 'военный,драма,история',\n",
       "       'военный,драма,комедия', 'военный,история',\n",
       "       'военный,история,драма', 'военный,приключения,драма', 'детектив',\n",
       "       'детектив,боевик,история', 'детектив,драма,криминал',\n",
       "       'детектив,драма,триллер', 'детектив,история,драма',\n",
       "       'детектив,комедия', 'детектив,комедия,драма', 'детектив,криминал',\n",
       "       'детектив,криминал,боевик', 'детектив,криминал,драма',\n",
       "       'детектив,криминал,триллер', 'детектив,мелодрама',\n",
       "       'детектив,мелодрама,фэнтези', 'детектив,приключения,драма',\n",
       "       'детектив,приключения,триллер', 'детектив,триллер',\n",
       "       'детектив,триллер,боевик', 'детектив,триллер,драма',\n",
       "       'детектив,триллер,криминал', 'детектив,триллер,ужасы',\n",
       "       'детектив,ужасы,криминал', 'детектив,фантастика,криминал',\n",
       "       'детектив,фантастика,триллер', 'детектив,фильм-нуар,комедия',\n",
       "       'детектив,фэнтези,триллер', 'детский', 'детский,комедия',\n",
       "       'детский,мелодрама,семейный', 'детский,мультфильм,приключения',\n",
       "       'детский,приключения,комедия', 'детский,приключения,семейный',\n",
       "       'детский,приключения,фантастика', 'детский,семейный',\n",
       "       'детский,фэнтези', 'детский,фэнтези,приключения',\n",
       "       'для взрослых,драма,комедия', 'для взрослых,драма,мелодрама',\n",
       "       'документальный', 'документальный,биография',\n",
       "       'документальный,биография,история',\n",
       "       'документальный,биография,музыка',\n",
       "       'документальный,биография,спорт',\n",
       "       'документальный,боевик,приключения',\n",
       "       'документальный,военный,драма', 'документальный,военный,история',\n",
       "       'документальный,драма', 'документальный,драма,биография',\n",
       "       'документальный,драма,история', 'документальный,драма,комедия',\n",
       "       'документальный,драма,музыка', 'документальный,драма,семейный',\n",
       "       'документальный,история', 'документальный,комедия',\n",
       "       'документальный,комедия,история',\n",
       "       'документальный,комедия,криминал',\n",
       "       'документальный,короткометражка',\n",
       "       'документальный,короткометражка,семейный',\n",
       "       'документальный,криминал,военный', 'документальный,музыка',\n",
       "       'документальный,музыка,биография', 'документальный,музыка,концерт',\n",
       "       'документальный,мюзикл', 'документальный,новости,драма',\n",
       "       'документальный,приключения',\n",
       "       'документальный,приключения,семейный', 'документальный,семейный',\n",
       "       'документальный,семейный,музыка', 'документальный,спорт',\n",
       "       'документальный,спорт,биография',\n",
       "       'документальный,триллер,биография', 'документальный,ужасы',\n",
       "       'документальный,ужасы,боевик', 'документальный,фантастика',\n",
       "       'документальный,фэнтези', 'документальный,фэнтези,драма',\n",
       "       'документальный,фэнтези,семейный', 'драма', 'драма,биография',\n",
       "       'драма,биография,история', 'драма,биография,комедия',\n",
       "       'драма,биография,музыка', 'драма,биография,мюзикл',\n",
       "       'драма,биография,спорт', 'драма,боевик', 'драма,боевик,история',\n",
       "       'драма,боевик,криминал', 'драма,боевик,приключения',\n",
       "       'драма,вестерн', 'драма,вестерн,боевик',\n",
       "       'драма,вестерн,приключения', 'драма,военный',\n",
       "       'драма,военный,биография', 'драма,военный,боевик',\n",
       "       'драма,военный,история', 'драма,военный,приключения',\n",
       "       'драма,военный,триллер', 'драма,детектив',\n",
       "       'драма,детектив,история', 'драма,детектив,криминал',\n",
       "       'драма,детектив,приключения', 'драма,история',\n",
       "       'драма,история,биография', 'драма,история,военный',\n",
       "       'драма,история,детектив', 'драма,история,музыка',\n",
       "       'драма,история,триллер', 'драма,комедия',\n",
       "       'драма,комедия,биография', 'драма,комедия,вестерн',\n",
       "       'драма,комедия,военный', 'драма,комедия,детектив',\n",
       "       'драма,комедия,история', 'драма,комедия,криминал',\n",
       "       'драма,комедия,мелодрама', 'драма,комедия,музыка',\n",
       "       'драма,комедия,мультфильм', 'драма,комедия,приключения',\n",
       "       'драма,комедия,семейный', 'драма,комедия,спорт',\n",
       "       'драма,комедия,триллер', 'драма,комедия,ужасы',\n",
       "       'драма,комедия,фантастика', 'драма,криминал',\n",
       "       'драма,криминал,биография', 'драма,криминал,боевик',\n",
       "       'драма,криминал,вестерн', 'драма,криминал,детектив',\n",
       "       'драма,криминал,история', 'драма,криминал,приключения',\n",
       "       'драма,криминал,семейный', 'драма,криминал,спорт',\n",
       "       'драма,криминал,фантастика', 'драма,криминал,фильм-нуар',\n",
       "       'драма,мелодрама', 'драма,мелодрама,биография',\n",
       "       'драма,мелодрама,военный', 'драма,мелодрама,детектив',\n",
       "       'драма,мелодрама,история', 'драма,мелодрама,комедия',\n",
       "       'драма,мелодрама,криминал', 'драма,мелодрама,музыка',\n",
       "       'драма,мелодрама,приключения', 'драма,мелодрама,семейный',\n",
       "       'драма,мелодрама,триллер', 'драма,мелодрама,фэнтези',\n",
       "       'драма,музыка', 'драма,мультфильм', 'драма,приключения',\n",
       "       'драма,приключения,биография', 'драма,приключения,военный',\n",
       "       'драма,приключения,история', 'драма,приключения,мелодрама',\n",
       "       'драма,приключения,семейный', 'драма,приключения,триллер',\n",
       "       'драма,приключения,фэнтези', 'драма,семейный',\n",
       "       'драма,семейный,биография', 'драма,семейный,комедия',\n",
       "       'драма,спорт', 'драма,спорт,биография', 'драма,спорт,боевик',\n",
       "       'драма,спорт,история', 'драма,спорт,комедия',\n",
       "       'драма,спорт,семейный', 'драма,триллер', 'драма,триллер,биография',\n",
       "       'драма,триллер,детектив', 'драма,триллер,криминал',\n",
       "       'драма,триллер,приключения', 'драма,ужасы', 'драма,фантастика',\n",
       "       'драма,фантастика,триллер', 'драма,фантастика,ужасы',\n",
       "       'драма,фэнтези', 'драма,фэнтези,история', 'история',\n",
       "       'история,биография,военный', 'история,биография,драма',\n",
       "       'история,боевик,фэнтези', 'история,детектив', 'история,драма',\n",
       "       'история,драма,боевик', 'история,драма,мелодрама',\n",
       "       'история,криминал', 'история,мелодрама', 'история,приключения',\n",
       "       'история,спорт,драма', 'комедия', 'комедия,биография',\n",
       "       'комедия,биография,история', 'комедия,боевик,криминал',\n",
       "       'комедия,боевик,приключения', 'комедия,боевик,фантастика',\n",
       "       'комедия,вестерн', 'комедия,военный', 'комедия,военный,музыка',\n",
       "       'комедия,детектив', 'комедия,детектив,приключения',\n",
       "       'комедия,драма', 'комедия,драма,биография',\n",
       "       'комедия,драма,военный', 'комедия,драма,короткометражка',\n",
       "       'комедия,драма,криминал', 'комедия,драма,мелодрама',\n",
       "       'комедия,драма,семейный', 'комедия,история',\n",
       "       'комедия,история,драма', 'комедия,криминал',\n",
       "       'комедия,криминал,биография', 'комедия,криминал,боевик',\n",
       "       'комедия,криминал,детектив', 'комедия,криминал,драма',\n",
       "       'комедия,криминал,история', 'комедия,криминал,приключения',\n",
       "       'комедия,криминал,семейный', 'комедия,криминал,спорт',\n",
       "       'комедия,криминал,триллер', 'комедия,мелодрама',\n",
       "       'комедия,мелодрама,драма', 'комедия,мелодрама,криминал',\n",
       "       'комедия,мелодрама,фантастика', 'комедия,мелодрама,фэнтези',\n",
       "       'комедия,музыка', 'комедия,музыка,драма',\n",
       "       'комедия,мультфильм,фантастика', 'комедия,приключения',\n",
       "       'комедия,приключения,вестерн', 'комедия,приключения,детектив',\n",
       "       'комедия,приключения,история', 'комедия,приключения,криминал',\n",
       "       'комедия,приключения,мелодрама', 'комедия,приключения,музыка',\n",
       "       'комедия,приключения,семейный', 'комедия,приключения,спорт',\n",
       "       'комедия,приключения,фэнтези', 'комедия,семейный',\n",
       "       'комедия,семейный,музыка', 'комедия,семейный,приключения',\n",
       "       'комедия,семейный,фантастика', 'комедия,семейный,фэнтези',\n",
       "       'комедия,спорт', 'комедия,триллер', 'комедия,триллер,драма',\n",
       "       'комедия,ужасы', 'комедия,фантастика', 'комедия,фантастика,боевик',\n",
       "       'комедия,фантастика,мелодрама', 'комедия,фэнтези',\n",
       "       'комедия,фэнтези,криминал', 'комедия,фэнтези,мелодрама',\n",
       "       'комедия,фэнтези,приключения', 'комедия,фэнтези,ужасы',\n",
       "       'концерт,музыка', 'концерт,музыка,документальный',\n",
       "       'короткометражка', 'короткометражка,биография',\n",
       "       'короткометражка,боевик,драма', 'короткометражка,драма',\n",
       "       'короткометражка,драма,военный', 'короткометражка,драма,триллер',\n",
       "       'короткометражка,комедия,криминал', 'короткометражка,мелодрама',\n",
       "       'короткометражка,музыка', 'короткометражка,мультфильм',\n",
       "       'короткометражка,фантастика', 'криминал',\n",
       "       'криминал,биография,комедия', 'криминал,боевик',\n",
       "       'криминал,боевик,комедия', 'криминал,боевик,триллер',\n",
       "       'криминал,детектив', 'криминал,детектив,приключения',\n",
       "       'криминал,драма', 'криминал,драма,комедия',\n",
       "       'криминал,драма,триллер', 'криминал,комедия',\n",
       "       'криминал,комедия,боевик', 'криминал,комедия,драма',\n",
       "       'криминал,комедия,триллер', 'криминал,мелодрама',\n",
       "       'криминал,триллер,драма', 'мелодрама', 'мелодрама,биография',\n",
       "       'мелодрама,военный,драма', 'мелодрама,детектив',\n",
       "       'мелодрама,детектив,комедия', 'мелодрама,драма',\n",
       "       'мелодрама,драма,боевик', 'мелодрама,драма,комедия',\n",
       "       'мелодрама,драма,музыка', 'мелодрама,драма,фэнтези',\n",
       "       'мелодрама,история', 'мелодрама,история,драма',\n",
       "       'мелодрама,история,триллер', 'мелодрама,комедия',\n",
       "       'мелодрама,комедия,драма', 'мелодрама,комедия,криминал',\n",
       "       'мелодрама,комедия,музыка', 'мелодрама,комедия,приключения',\n",
       "       'мелодрама,комедия,семейный', 'мелодрама,комедия,спорт',\n",
       "       'мелодрама,комедия,триллер', 'мелодрама,комедия,ужасы',\n",
       "       'мелодрама,криминал', 'мелодрама,музыка', 'мелодрама,музыка,драма',\n",
       "       'мелодрама,приключения', 'мелодрама,приключения,боевик',\n",
       "       'мелодрама,семейный', 'мелодрама,семейный,приключения',\n",
       "       'мелодрама,триллер,история', 'мелодрама,фантастика,драма',\n",
       "       'мелодрама,фэнтези,триллер', 'музыка,концерт',\n",
       "       'музыка,концерт,документальный', 'музыка,мелодрама,фэнтези',\n",
       "       'музыка,приключения,концерт', 'мультфильм',\n",
       "       'мультфильм,биография,драма', 'мультфильм,боевик,детектив',\n",
       "       'мультфильм,боевик,комедия', 'мультфильм,боевик,приключения',\n",
       "       'мультфильм,боевик,триллер', 'мультфильм,детский',\n",
       "       'мультфильм,детский,комедия', 'мультфильм,детский,приключения',\n",
       "       'мультфильм,детский,семейный', 'мультфильм,драма',\n",
       "       'мультфильм,драма,комедия', 'мультфильм,драма,приключения',\n",
       "       'мультфильм,история', 'мультфильм,комедия',\n",
       "       'мультфильм,комедия,детский', 'мультфильм,комедия,криминал',\n",
       "       'мультфильм,комедия,приключения', 'мультфильм,комедия,семейный',\n",
       "       'мультфильм,комедия,фантастика', 'мультфильм,короткометражка',\n",
       "       'мультфильм,короткометражка,детский',\n",
       "       'мультфильм,короткометражка,комедия',\n",
       "       'мультфильм,короткометражка,мелодрама',\n",
       "       'мультфильм,короткометражка,мюзикл',\n",
       "       'мультфильм,короткометражка,ужасы',\n",
       "       'мультфильм,короткометражка,фэнтези', 'мультфильм,мелодрама,драма',\n",
       "       'мультфильм,мелодрама,комедия', 'мультфильм,мелодрама,приключения',\n",
       "       'мультфильм,мюзикл,детский', 'мультфильм,мюзикл,драма',\n",
       "       'мультфильм,мюзикл,комедия', 'мультфильм,мюзикл,мелодрама',\n",
       "       'мультфильм,мюзикл,фэнтези', 'мультфильм,приключения',\n",
       "       'мультфильм,приключения,военный',\n",
       "       'мультфильм,приключения,детектив',\n",
       "       'мультфильм,приключения,детский', 'мультфильм,приключения,драма',\n",
       "       'мультфильм,приключения,комедия',\n",
       "       'мультфильм,приключения,семейный',\n",
       "       'мультфильм,приключения,фантастика',\n",
       "       'мультфильм,приключения,фэнтези', 'мультфильм,семейный',\n",
       "       'мультфильм,семейный,детский', 'мультфильм,семейный,драма',\n",
       "       'мультфильм,семейный,комедия', 'мультфильм,семейный,спорт',\n",
       "       'мультфильм,семейный,фэнтези', 'мультфильм,ужасы,комедия',\n",
       "       'мультфильм,ужасы,фантастика', 'мультфильм,ужасы,фэнтези',\n",
       "       'мультфильм,фантастика,боевик', 'мультфильм,фантастика,комедия',\n",
       "       'мультфильм,фантастика,приключения',\n",
       "       'мультфильм,фантастика,фэнтези', 'мультфильм,фэнтези',\n",
       "       'мультфильм,фэнтези,боевик', 'мультфильм,фэнтези,детский',\n",
       "       'мультфильм,фэнтези,драма', 'мультфильм,фэнтези,история',\n",
       "       'мультфильм,фэнтези,комедия', 'мультфильм,фэнтези,мелодрама',\n",
       "       'мультфильм,фэнтези,приключения', 'мультфильм,фэнтези,семейный',\n",
       "       'мультфильм,фэнтези,триллер', 'мюзикл', 'мюзикл,боевик,драма',\n",
       "       'мюзикл,драма', 'мюзикл,драма,мелодрама', 'мюзикл,комедия',\n",
       "       'мюзикл,комедия,детский', 'мюзикл,комедия,мелодрама',\n",
       "       'мюзикл,комедия,музыка', 'мюзикл,комедия,приключения',\n",
       "       'мюзикл,мелодрама', 'мюзикл,мелодрама,комедия',\n",
       "       'мюзикл,мелодрама,фэнтези', 'мюзикл,семейный',\n",
       "       'мюзикл,семейный,драма', 'мюзикл,ужасы,триллер',\n",
       "       'мюзикл,фэнтези,драма', 'мюзикл,фэнтези,комедия',\n",
       "       'мюзикл,фэнтези,мелодрама', 'мюзикл,фэнтези,семейный',\n",
       "       'приключения', 'приключения,биография,драма',\n",
       "       'приключения,биография,история', 'приключения,боевик',\n",
       "       'приключения,боевик,триллер', 'приключения,вестерн,боевик',\n",
       "       'приключения,военный', 'приключения,детектив,мелодрама',\n",
       "       'приключения,детектив,семейный', 'приключения,детский',\n",
       "       'приключения,детский,комедия', 'приключения,драма',\n",
       "       'приключения,драма,фантастика', 'приключения,история',\n",
       "       'приключения,история,военный', 'приключения,история,драма',\n",
       "       'приключения,комедия,фэнтези', 'приключения,мелодрама,детектив',\n",
       "       'приключения,семейный', 'приключения,семейный,драма',\n",
       "       'приключения,триллер', 'приключения,триллер,биография',\n",
       "       'приключения,фантастика', 'приключения,фантастика,драма',\n",
       "       'приключения,фантастика,семейный', 'приключения,фэнтези',\n",
       "       'приключения,фэнтези,семейный', 'реальное ТВ', 'семейный',\n",
       "       'семейный,детектив,детский', 'семейный,документальный',\n",
       "       'семейный,комедия', 'семейный,комедия,драма',\n",
       "       'семейный,комедия,музыка', 'семейный,мелодрама',\n",
       "       'семейный,мультфильм,комедия', 'семейный,приключения',\n",
       "       'семейный,приключения,военный',\n",
       "       'семейный,приключения,документальный',\n",
       "       'семейный,приключения,комедия', 'семейный,спорт,боевик',\n",
       "       'семейный,фэнтези', 'семейный,фэнтези,комедия', 'спорт,драма',\n",
       "       'спорт,драма,биография', 'спорт,драма,комедия',\n",
       "       'спорт,мелодрама,криминал', 'триллер', 'триллер,биография,драма',\n",
       "       'триллер,боевик', 'триллер,боевик,криминал',\n",
       "       'триллер,боевик,приключения', 'триллер,военный',\n",
       "       'триллер,детектив', 'триллер,детектив,драма',\n",
       "       'триллер,детектив,криминал', 'триллер,детектив,ужасы',\n",
       "       'триллер,драма', 'триллер,драма,биография', 'триллер,драма,боевик',\n",
       "       'триллер,драма,военный', 'триллер,драма,детектив',\n",
       "       'триллер,драма,история', 'триллер,драма,комедия',\n",
       "       'триллер,драма,криминал', 'триллер,драма,мелодрама',\n",
       "       'триллер,драма,приключения', 'триллер,драма,ужасы',\n",
       "       'триллер,драма,фантастика', 'триллер,комедия',\n",
       "       'триллер,комедия,криминал', 'триллер,комедия,ужасы',\n",
       "       'триллер,криминал', 'триллер,криминал,боевик',\n",
       "       'триллер,криминал,детектив', 'триллер,криминал,драма',\n",
       "       'триллер,криминал,комедия', 'триллер,криминал,приключения',\n",
       "       'триллер,мелодрама', 'триллер,мелодрама,детектив',\n",
       "       'триллер,мелодрама,драма', 'триллер,мелодрама,комедия',\n",
       "       'триллер,мелодрама,криминал', 'триллер,приключения',\n",
       "       'триллер,приключения,драма', 'триллер,ужасы',\n",
       "       'триллер,ужасы,детектив', 'триллер,ужасы,драма',\n",
       "       'триллер,ужасы,криминал', 'триллер,ужасы,мелодрама',\n",
       "       'триллер,фантастика,боевик', 'триллер,фантастика,драма',\n",
       "       'триллер,фэнтези', 'триллер,фэнтези,драма', 'ужасы',\n",
       "       'ужасы,боевик', 'ужасы,боевик,комедия', 'ужасы,боевик,криминал',\n",
       "       'ужасы,боевик,триллер', 'ужасы,боевик,фантастика',\n",
       "       'ужасы,боевик,фэнтези', 'ужасы,детектив', 'ужасы,драма',\n",
       "       'ужасы,драма,вестерн', 'ужасы,драма,военный',\n",
       "       'ужасы,драма,детектив', 'ужасы,драма,комедия',\n",
       "       'ужасы,драма,мелодрама', 'ужасы,драма,триллер', 'ужасы,комедия',\n",
       "       'ужасы,комедия,боевик', 'ужасы,комедия,детектив',\n",
       "       'ужасы,комедия,драма', 'ужасы,комедия,криминал',\n",
       "       'ужасы,комедия,музыка', 'ужасы,комедия,приключения',\n",
       "       'ужасы,комедия,семейный', 'ужасы,комедия,фантастика',\n",
       "       'ужасы,комедия,фэнтези', 'ужасы,мелодрама,детектив',\n",
       "       'ужасы,мелодрама,комедия', 'ужасы,приключения', 'ужасы,триллер',\n",
       "       'ужасы,триллер,детектив', 'ужасы,триллер,драма',\n",
       "       'ужасы,триллер,комедия', 'ужасы,триллер,криминал',\n",
       "       'ужасы,триллер,мелодрама', 'ужасы,триллер,приключения',\n",
       "       'ужасы,триллер,фантастика', 'ужасы,фантастика',\n",
       "       'ужасы,фантастика,боевик', 'ужасы,фантастика,детектив',\n",
       "       'ужасы,фантастика,драма', 'ужасы,фантастика,комедия',\n",
       "       'ужасы,фантастика,мелодрама', 'ужасы,фантастика,триллер',\n",
       "       'ужасы,фантастика,фэнтези', 'ужасы,фэнтези',\n",
       "       'ужасы,фэнтези,боевик', 'ужасы,фэнтези,детектив',\n",
       "       'ужасы,фэнтези,драма', 'ужасы,фэнтези,комедия',\n",
       "       'ужасы,фэнтези,мелодрама', 'ужасы,фэнтези,приключения',\n",
       "       'ужасы,фэнтези,триллер', 'фантастика', 'фантастика,боевик',\n",
       "       'фантастика,боевик,военный', 'фантастика,боевик,детектив',\n",
       "       'фантастика,боевик,драма', 'фантастика,боевик,комедия',\n",
       "       'фантастика,боевик,криминал', 'фантастика,боевик,мелодрама',\n",
       "       'фантастика,боевик,приключения', 'фантастика,боевик,семейный',\n",
       "       'фантастика,боевик,триллер', 'фантастика,боевик,ужасы',\n",
       "       'фантастика,боевик,фэнтези', 'фантастика,детектив,боевик',\n",
       "       'фантастика,детектив,фэнтези', 'фантастика,драма',\n",
       "       'фантастика,драма,боевик', 'фантастика,драма,детектив',\n",
       "       'фантастика,драма,комедия', 'фантастика,драма,криминал',\n",
       "       'фантастика,драма,мелодрама', 'фантастика,драма,приключения',\n",
       "       'фантастика,драма,триллер', 'фантастика,драма,ужасы',\n",
       "       'фантастика,комедия', 'фантастика,комедия,боевик',\n",
       "       'фантастика,комедия,детектив', 'фантастика,комедия,приключения',\n",
       "       'фантастика,комедия,семейный', 'фантастика,мелодрама',\n",
       "       'фантастика,мелодрама,боевик', 'фантастика,мелодрама,комедия',\n",
       "       'фантастика,мелодрама,фэнтези', 'фантастика,мультфильм,драма',\n",
       "       'фантастика,приключения', 'фантастика,приключения,боевик',\n",
       "       'фантастика,приключения,военный',\n",
       "       'фантастика,приключения,детектив', 'фантастика,приключения,драма',\n",
       "       'фантастика,приключения,семейный', 'фантастика,триллер',\n",
       "       'фантастика,триллер,боевик', 'фантастика,триллер,детектив',\n",
       "       'фантастика,триллер,драма', 'фантастика,триллер,комедия',\n",
       "       'фантастика,триллер,криминал', 'фантастика,триллер,мелодрама',\n",
       "       'фантастика,триллер,приключения', 'фантастика,фэнтези,боевик',\n",
       "       'фантастика,фэнтези,детектив', 'фантастика,фэнтези,драма',\n",
       "       'фантастика,фэнтези,комедия', 'фантастика,фэнтези,приключения',\n",
       "       'фантастика,фэнтези,триллер', 'фильм-нуар,триллер,детектив',\n",
       "       'фэнтези', 'фэнтези,боевик', 'фэнтези,боевик,вестерн',\n",
       "       'фэнтези,боевик,военный', 'фэнтези,боевик,детектив',\n",
       "       'фэнтези,боевик,драма', 'фэнтези,боевик,комедия',\n",
       "       'фэнтези,боевик,криминал', 'фэнтези,боевик,мелодрама',\n",
       "       'фэнтези,боевик,приключения', 'фэнтези,боевик,семейный',\n",
       "       'фэнтези,боевик,триллер', 'фэнтези,боевик,ужасы', 'фэнтези,драма',\n",
       "       'фэнтези,драма,биография', 'фэнтези,драма,детектив',\n",
       "       'фэнтези,драма,комедия', 'фэнтези,драма,мелодрама',\n",
       "       'фэнтези,драма,приключения', 'фэнтези,драма,семейный',\n",
       "       'фэнтези,драма,ужасы', 'фэнтези,драма,фильм-нуар',\n",
       "       'фэнтези,комедия', 'фэнтези,комедия,детектив',\n",
       "       'фэнтези,комедия,драма', 'фэнтези,комедия,криминал',\n",
       "       'фэнтези,комедия,приключения', 'фэнтези,комедия,семейный',\n",
       "       'фэнтези,мелодрама', 'фэнтези,мелодрама,драма',\n",
       "       'фэнтези,мелодрама,комедия', 'фэнтези,мелодрама,приключения',\n",
       "       'фэнтези,приключения', 'фэнтези,приключения,боевик',\n",
       "       'фэнтези,приключения,драма', 'фэнтези,приключения,комедия',\n",
       "       'фэнтези,приключения,семейный', 'фэнтези,семейный',\n",
       "       'фэнтези,семейный,мелодрама', 'фэнтези,семейный,приключения',\n",
       "       'фэнтези,триллер,детектив', 'фэнтези,триллер,драма',\n",
       "       'фэнтези,триллер,мелодрама', 'фэнтези,триллер,приключения',\n",
       "       'фэнтези,ужасы', 'фэнтези,ужасы,триллер'], dtype=object)"
      ]
     },
     "execution_count": 26,
     "metadata": {},
     "output_type": "execute_result"
    }
   ],
   "source": [
    "data['genres'].sort_values().unique()"
   ]
  },
  {
   "cell_type": "code",
   "execution_count": 27,
   "metadata": {},
   "outputs": [
    {
     "data": {
      "text/plain": [
       "array([' Я ПРЕПОД', '\"SOS\" над тайгой', '\"V\" значит вендетта', ...,\n",
       "       'Ярость / Fury',\n",
       "       'альманах документальных фильмов \"Вокзалы России: История, Любовь и Великие тайны…\" Фильм первый \"ВОКЗАЛЫ РОССИИ СВЯЗЬ ВРЕМЕН\"',\n",
       "       'сНежное шоу'], dtype=object)"
      ]
     },
     "execution_count": 27,
     "metadata": {},
     "output_type": "execute_result"
    }
   ],
   "source": [
    "data['title'].sort_values().unique()"
   ]
  },
  {
   "cell_type": "markdown",
   "metadata": {},
   "source": [
    "Судя по данным, можно заметить, что ненужные пробелы есть в некоторых столбцах не только в начале значений, но и в конце. Удалим эти пробелы во всех столбцах, и вместе с этим переведем все значения в нижний регистр."
   ]
  },
  {
   "cell_type": "code",
   "execution_count": 28,
   "metadata": {
    "id": "PnXKIVdFgFyR"
   },
   "outputs": [
    {
     "data": {
      "text/plain": [
       "array(['художественный', 'анимационный', 'прочие', 'документальный',\n",
       "       'научно-популярный', 'музыкально-развлекательный'], dtype=object)"
      ]
     },
     "execution_count": 28,
     "metadata": {},
     "output_type": "execute_result"
    }
   ],
   "source": [
    "columns_to_strip = ['film_studio', 'production_country', 'type','financing_source', 'producer','age_restriction','genres','director','title'] #создание списка с названиями колонок\n",
    "#цикл для вышеперечисленных столбцов, чтобы убрать пробелы, а затем перевести в нижний регистр \n",
    "for column in columns_to_strip: \n",
    "    data[column] = data[column].str.strip()\n",
    "    data[column] = data[column].str.lower()\n",
    "data['type'].unique()# проверим один столбец"
   ]
  },
  {
   "cell_type": "markdown",
   "metadata": {},
   "source": [
    "Почти во всех категориальных данных три общие проблемы:\n",
    "1. Пробелы в начале и конце значений;\n",
    "2. Нарушен регистр (заглавные буквы встречаются в середине слова)\n",
    "3. Встречаются списки, то есть значения в одной строке записаны через запятую."
   ]
  },
  {
   "cell_type": "markdown",
   "metadata": {
    "id": "XFSN5lrEgFyR"
   },
   "source": [
    "#### Шаг 2.5. Проверим количественные значения\n",
    "\n",
    "- Проверим, обнаружились ли в таких столбцах подозрительные данные. Как с такими данными лучше поступить?\n"
   ]
  },
  {
   "cell_type": "markdown",
   "metadata": {
    "id": "YbzClBxagFyS"
   },
   "source": [
    "Столбец `budget` должен быть как сумма столбцов `refundable_support` и `nonrefundable_support`. Проверим есть ли строки, где столбец `budget` меньше суммы столбцов `refundable_support` и `nonrefundable_support`. Но для начала выведем общую информацию о столбцах."
   ]
  },
  {
   "cell_type": "code",
   "execution_count": 29,
   "metadata": {
    "scrolled": true
   },
   "outputs": [
    {
     "data": {
      "text/plain": [
       "count             332.00\n",
       "mean      127,229,716.68\n",
       "std       188,588,333.12\n",
       "min                 0.00\n",
       "25%        42,000,000.00\n",
       "50%        68,649,916.00\n",
       "75%       141,985,319.50\n",
       "max     2,305,074,303.00\n",
       "Name: budget, dtype: float64"
      ]
     },
     "execution_count": 29,
     "metadata": {},
     "output_type": "execute_result"
    }
   ],
   "source": [
    "data['budget'].describe() #информация о столбце"
   ]
  },
  {
   "cell_type": "code",
   "execution_count": 30,
   "metadata": {},
   "outputs": [
    {
     "data": {
      "text/html": [
       "<div>\n",
       "<style scoped>\n",
       "    .dataframe tbody tr th:only-of-type {\n",
       "        vertical-align: middle;\n",
       "    }\n",
       "\n",
       "    .dataframe tbody tr th {\n",
       "        vertical-align: top;\n",
       "    }\n",
       "\n",
       "    .dataframe thead th {\n",
       "        text-align: right;\n",
       "    }\n",
       "</style>\n",
       "<table border=\"1\" class=\"dataframe\">\n",
       "  <thead>\n",
       "    <tr style=\"text-align: right;\">\n",
       "      <th></th>\n",
       "      <th>title</th>\n",
       "      <th>puNumber</th>\n",
       "      <th>show_start_date</th>\n",
       "      <th>type</th>\n",
       "      <th>film_studio</th>\n",
       "      <th>production_country</th>\n",
       "      <th>director</th>\n",
       "      <th>producer</th>\n",
       "      <th>age_restriction</th>\n",
       "      <th>refundable_support</th>\n",
       "      <th>nonrefundable_support</th>\n",
       "      <th>budget</th>\n",
       "      <th>financing_source</th>\n",
       "      <th>ratings</th>\n",
       "      <th>genres</th>\n",
       "      <th>box_office</th>\n",
       "    </tr>\n",
       "  </thead>\n",
       "  <tbody>\n",
       "    <tr>\n",
       "      <td>1281</td>\n",
       "      <td>пока еще жива</td>\n",
       "      <td>111005313</td>\n",
       "      <td>2013-10-11 12:00:00</td>\n",
       "      <td>художественный</td>\n",
       "      <td>ано содействия развитию кинематографии \"ангел-...</td>\n",
       "      <td>россия</td>\n",
       "      <td>а.атанесян</td>\n",
       "      <td>а.атанесян, м.бабаханов, р.бутко</td>\n",
       "      <td>«16+» - для детей старше 16 лет</td>\n",
       "      <td>0.00</td>\n",
       "      <td>26,500,000.00</td>\n",
       "      <td>79,411,900.00</td>\n",
       "      <td>министерство культуры</td>\n",
       "      <td>8.10</td>\n",
       "      <td>драма,мелодрама</td>\n",
       "      <td>365,353.60</td>\n",
       "    </tr>\n",
       "    <tr>\n",
       "      <td>1448</td>\n",
       "      <td>бесславные придурки</td>\n",
       "      <td>111003314</td>\n",
       "      <td>2014-03-28 12:00:00</td>\n",
       "      <td>художественный</td>\n",
       "      <td>ооо \"компания \"атк-студио\"</td>\n",
       "      <td>россия</td>\n",
       "      <td>а.якимчук</td>\n",
       "      <td>а.тютрюмов</td>\n",
       "      <td>«12+» - для детей старше 12 лет</td>\n",
       "      <td>0.00</td>\n",
       "      <td>26,000,000.00</td>\n",
       "      <td>37,142,857.00</td>\n",
       "      <td>министерство культуры</td>\n",
       "      <td>unknown</td>\n",
       "      <td>unknown</td>\n",
       "      <td>28,140.00</td>\n",
       "    </tr>\n",
       "    <tr>\n",
       "      <td>1498</td>\n",
       "      <td>невидимки</td>\n",
       "      <td>111004213</td>\n",
       "      <td>2013-09-10 12:00:00</td>\n",
       "      <td>художественный</td>\n",
       "      <td>ооо \"компания \"реал-дакота\"</td>\n",
       "      <td>россия</td>\n",
       "      <td>р.давлетьяров, с.комаров</td>\n",
       "      <td>р.давлетьяров, а.котелевский, а.олейников</td>\n",
       "      <td>«12+» - для детей старше 12 лет</td>\n",
       "      <td>0.00</td>\n",
       "      <td>107,847,945.00</td>\n",
       "      <td>176,023,490.00</td>\n",
       "      <td>фонд кино</td>\n",
       "      <td>5.30</td>\n",
       "      <td>комедия,фантастика</td>\n",
       "      <td>19,957,031.50</td>\n",
       "    </tr>\n",
       "    <tr>\n",
       "      <td>1524</td>\n",
       "      <td>берцы</td>\n",
       "      <td>111004314</td>\n",
       "      <td>2014-05-05 12:00:00</td>\n",
       "      <td>художественный</td>\n",
       "      <td>ооо \"студия \"пассажир\"</td>\n",
       "      <td>россия</td>\n",
       "      <td>е.миндадзе (псевдоним катя шагалова)</td>\n",
       "      <td>л.антонова</td>\n",
       "      <td>«16+» - для детей старше 16 лет</td>\n",
       "      <td>0.00</td>\n",
       "      <td>28,000,000.00</td>\n",
       "      <td>40,574,140.00</td>\n",
       "      <td>министерство культуры</td>\n",
       "      <td>4.20</td>\n",
       "      <td>драма</td>\n",
       "      <td>55,917.50</td>\n",
       "    </tr>\n",
       "    <tr>\n",
       "      <td>1792</td>\n",
       "      <td>братья ч</td>\n",
       "      <td>111004414</td>\n",
       "      <td>2014-04-23 12:00:00</td>\n",
       "      <td>художественный</td>\n",
       "      <td>ооо \"студия \"пассажир\"</td>\n",
       "      <td>россия</td>\n",
       "      <td>м.угаров</td>\n",
       "      <td>а.миндадзе, л.антонова</td>\n",
       "      <td>«16+» - для детей старше 16 лет</td>\n",
       "      <td>0.00</td>\n",
       "      <td>25,000,000.00</td>\n",
       "      <td>40,015,122.00</td>\n",
       "      <td>министерство культуры</td>\n",
       "      <td>6.40</td>\n",
       "      <td>драма</td>\n",
       "      <td>232,100.00</td>\n",
       "    </tr>\n",
       "    <tr>\n",
       "      <td>...</td>\n",
       "      <td>...</td>\n",
       "      <td>...</td>\n",
       "      <td>...</td>\n",
       "      <td>...</td>\n",
       "      <td>...</td>\n",
       "      <td>...</td>\n",
       "      <td>...</td>\n",
       "      <td>...</td>\n",
       "      <td>...</td>\n",
       "      <td>...</td>\n",
       "      <td>...</td>\n",
       "      <td>...</td>\n",
       "      <td>...</td>\n",
       "      <td>...</td>\n",
       "      <td>...</td>\n",
       "      <td>...</td>\n",
       "    </tr>\n",
       "    <tr>\n",
       "      <td>7464</td>\n",
       "      <td>союз спасения</td>\n",
       "      <td>111022019</td>\n",
       "      <td>2019-12-26 12:00:00</td>\n",
       "      <td>художественный</td>\n",
       "      <td>зао \"дирекция кино\"</td>\n",
       "      <td>россия</td>\n",
       "      <td>а.кравчук</td>\n",
       "      <td>а.максимов, к.эрнст</td>\n",
       "      <td>«12+» - для детей старше 12 лет</td>\n",
       "      <td>100,000,000.00</td>\n",
       "      <td>400,000,000.00</td>\n",
       "      <td>980,000,000.00</td>\n",
       "      <td>фонд кино</td>\n",
       "      <td>6.00</td>\n",
       "      <td>история,биография,драма</td>\n",
       "      <td>717,703,185.53</td>\n",
       "    </tr>\n",
       "    <tr>\n",
       "      <td>7466</td>\n",
       "      <td>иван царевич и серый волк 4</td>\n",
       "      <td>114005019</td>\n",
       "      <td>2019-12-20 12:00:00</td>\n",
       "      <td>анимационный</td>\n",
       "      <td>ооо \"студия анимационного кино \"мельница\"</td>\n",
       "      <td>россия</td>\n",
       "      <td>д.шмидт, к.феоктистов</td>\n",
       "      <td>с.сельянов, а.боярский</td>\n",
       "      <td>«6+» - для детей старше 6 лет</td>\n",
       "      <td>100,000,000.00</td>\n",
       "      <td>0.00</td>\n",
       "      <td>190,000,000.00</td>\n",
       "      <td>фонд кино</td>\n",
       "      <td>6.70</td>\n",
       "      <td>мультфильм,приключения,семейный</td>\n",
       "      <td>501,069,235.00</td>\n",
       "    </tr>\n",
       "    <tr>\n",
       "      <td>7474</td>\n",
       "      <td>вторжение</td>\n",
       "      <td>111022519</td>\n",
       "      <td>2019-12-23 12:00:00</td>\n",
       "      <td>художественный</td>\n",
       "      <td>ооо \"арт пикчерс студия\", ооо \"водород 2011\"</td>\n",
       "      <td>россия</td>\n",
       "      <td>ф.бондарчук</td>\n",
       "      <td>ф.бондарчук, м.врубель, а.андрющенко, д.рудовский</td>\n",
       "      <td>«12+» - для детей старше 12 лет</td>\n",
       "      <td>100,000,000.00</td>\n",
       "      <td>400,000,000.00</td>\n",
       "      <td>944,000,000.00</td>\n",
       "      <td>фонд кино</td>\n",
       "      <td>5.70</td>\n",
       "      <td>фантастика,боевик</td>\n",
       "      <td>nan</td>\n",
       "    </tr>\n",
       "    <tr>\n",
       "      <td>7476</td>\n",
       "      <td>я свободен</td>\n",
       "      <td>111023019</td>\n",
       "      <td>2019-12-26 12:00:00</td>\n",
       "      <td>художественный</td>\n",
       "      <td>ао \"тпо \"киностудия им. м.горького\"</td>\n",
       "      <td>россия</td>\n",
       "      <td>и.северов</td>\n",
       "      <td>с.зернов</td>\n",
       "      <td>«12+» - для детей старше 12 лет</td>\n",
       "      <td>0.00</td>\n",
       "      <td>30,000,000.00</td>\n",
       "      <td>46,154,000.00</td>\n",
       "      <td>министерство культуры</td>\n",
       "      <td>5.90</td>\n",
       "      <td>драма</td>\n",
       "      <td>nan</td>\n",
       "    </tr>\n",
       "    <tr>\n",
       "      <td>7478</td>\n",
       "      <td>(не)идеальный мужчина</td>\n",
       "      <td>111023119</td>\n",
       "      <td>2019-12-24 12:00:00</td>\n",
       "      <td>художественный</td>\n",
       "      <td>ооо \"нон-стоп продакшн\"</td>\n",
       "      <td>россия</td>\n",
       "      <td>м.бальчюнас (псевдоним м.вайсберг)</td>\n",
       "      <td>с.мелькумов, а.роднянский, м.вайсберг, р.минас...</td>\n",
       "      <td>«12+» - для детей старше 12 лет</td>\n",
       "      <td>40,000,000.00</td>\n",
       "      <td>60,000,000.00</td>\n",
       "      <td>150,147,502.00</td>\n",
       "      <td>фонд кино</td>\n",
       "      <td>4.50</td>\n",
       "      <td>комедия,фантастика,мелодрама</td>\n",
       "      <td>nan</td>\n",
       "    </tr>\n",
       "  </tbody>\n",
       "</table>\n",
       "<p>315 rows × 16 columns</p>\n",
       "</div>"
      ],
      "text/plain": [
       "                            title   puNumber     show_start_date  \\\n",
       "1281                пока еще жива  111005313 2013-10-11 12:00:00   \n",
       "1448          бесславные придурки  111003314 2014-03-28 12:00:00   \n",
       "1498                    невидимки  111004213 2013-09-10 12:00:00   \n",
       "1524                        берцы  111004314 2014-05-05 12:00:00   \n",
       "1792                     братья ч  111004414 2014-04-23 12:00:00   \n",
       "...                           ...        ...                 ...   \n",
       "7464                союз спасения  111022019 2019-12-26 12:00:00   \n",
       "7466  иван царевич и серый волк 4  114005019 2019-12-20 12:00:00   \n",
       "7474                    вторжение  111022519 2019-12-23 12:00:00   \n",
       "7476                   я свободен  111023019 2019-12-26 12:00:00   \n",
       "7478        (не)идеальный мужчина  111023119 2019-12-24 12:00:00   \n",
       "\n",
       "                type                                        film_studio  \\\n",
       "1281  художественный  ано содействия развитию кинематографии \"ангел-...   \n",
       "1448  художественный                         ооо \"компания \"атк-студио\"   \n",
       "1498  художественный                        ооо \"компания \"реал-дакота\"   \n",
       "1524  художественный                             ооо \"студия \"пассажир\"   \n",
       "1792  художественный                             ооо \"студия \"пассажир\"   \n",
       "...              ...                                                ...   \n",
       "7464  художественный                                зао \"дирекция кино\"   \n",
       "7466    анимационный          ооо \"студия анимационного кино \"мельница\"   \n",
       "7474  художественный       ооо \"арт пикчерс студия\", ооо \"водород 2011\"   \n",
       "7476  художественный                ао \"тпо \"киностудия им. м.горького\"   \n",
       "7478  художественный                            ооо \"нон-стоп продакшн\"   \n",
       "\n",
       "     production_country                              director  \\\n",
       "1281             россия                            а.атанесян   \n",
       "1448             россия                             а.якимчук   \n",
       "1498             россия              р.давлетьяров, с.комаров   \n",
       "1524             россия  е.миндадзе (псевдоним катя шагалова)   \n",
       "1792             россия                              м.угаров   \n",
       "...                 ...                                   ...   \n",
       "7464             россия                             а.кравчук   \n",
       "7466             россия                 д.шмидт, к.феоктистов   \n",
       "7474             россия                           ф.бондарчук   \n",
       "7476             россия                             и.северов   \n",
       "7478             россия    м.бальчюнас (псевдоним м.вайсберг)   \n",
       "\n",
       "                                               producer  \\\n",
       "1281                   а.атанесян, м.бабаханов, р.бутко   \n",
       "1448                                         а.тютрюмов   \n",
       "1498          р.давлетьяров, а.котелевский, а.олейников   \n",
       "1524                                         л.антонова   \n",
       "1792                             а.миндадзе, л.антонова   \n",
       "...                                                 ...   \n",
       "7464                                а.максимов, к.эрнст   \n",
       "7466                             с.сельянов, а.боярский   \n",
       "7474  ф.бондарчук, м.врубель, а.андрющенко, д.рудовский   \n",
       "7476                                           с.зернов   \n",
       "7478  с.мелькумов, а.роднянский, м.вайсберг, р.минас...   \n",
       "\n",
       "                      age_restriction  refundable_support  \\\n",
       "1281  «16+» - для детей старше 16 лет                0.00   \n",
       "1448  «12+» - для детей старше 12 лет                0.00   \n",
       "1498  «12+» - для детей старше 12 лет                0.00   \n",
       "1524  «16+» - для детей старше 16 лет                0.00   \n",
       "1792  «16+» - для детей старше 16 лет                0.00   \n",
       "...                               ...                 ...   \n",
       "7464  «12+» - для детей старше 12 лет      100,000,000.00   \n",
       "7466    «6+» - для детей старше 6 лет      100,000,000.00   \n",
       "7474  «12+» - для детей старше 12 лет      100,000,000.00   \n",
       "7476  «12+» - для детей старше 12 лет                0.00   \n",
       "7478  «12+» - для детей старше 12 лет       40,000,000.00   \n",
       "\n",
       "      nonrefundable_support         budget       financing_source  ratings  \\\n",
       "1281          26,500,000.00  79,411,900.00  министерство культуры     8.10   \n",
       "1448          26,000,000.00  37,142,857.00  министерство культуры  unknown   \n",
       "1498         107,847,945.00 176,023,490.00              фонд кино     5.30   \n",
       "1524          28,000,000.00  40,574,140.00  министерство культуры     4.20   \n",
       "1792          25,000,000.00  40,015,122.00  министерство культуры     6.40   \n",
       "...                     ...            ...                    ...      ...   \n",
       "7464         400,000,000.00 980,000,000.00              фонд кино     6.00   \n",
       "7466                   0.00 190,000,000.00              фонд кино     6.70   \n",
       "7474         400,000,000.00 944,000,000.00              фонд кино     5.70   \n",
       "7476          30,000,000.00  46,154,000.00  министерство культуры     5.90   \n",
       "7478          60,000,000.00 150,147,502.00              фонд кино     4.50   \n",
       "\n",
       "                               genres     box_office  \n",
       "1281                  драма,мелодрама     365,353.60  \n",
       "1448                          unknown      28,140.00  \n",
       "1498               комедия,фантастика  19,957,031.50  \n",
       "1524                            драма      55,917.50  \n",
       "1792                            драма     232,100.00  \n",
       "...                               ...            ...  \n",
       "7464          история,биография,драма 717,703,185.53  \n",
       "7466  мультфильм,приключения,семейный 501,069,235.00  \n",
       "7474                фантастика,боевик            nan  \n",
       "7476                            драма            nan  \n",
       "7478     комедия,фантастика,мелодрама            nan  \n",
       "\n",
       "[315 rows x 16 columns]"
      ]
     },
     "execution_count": 30,
     "metadata": {},
     "output_type": "execute_result"
    }
   ],
   "source": [
    "data.query('budget > 0')"
   ]
  },
  {
   "cell_type": "code",
   "execution_count": 31,
   "metadata": {},
   "outputs": [
    {
     "data": {
      "text/plain": [
       "count           332.00\n",
       "mean     11,864,457.83\n",
       "std      24,916,555.26\n",
       "min               0.00\n",
       "25%               0.00\n",
       "50%               0.00\n",
       "75%      15,000,000.00\n",
       "max     180,000,000.00\n",
       "Name: refundable_support, dtype: float64"
      ]
     },
     "execution_count": 31,
     "metadata": {},
     "output_type": "execute_result"
    }
   ],
   "source": [
    "data['refundable_support'].describe()"
   ]
  },
  {
   "cell_type": "code",
   "execution_count": 32,
   "metadata": {},
   "outputs": [
    {
     "data": {
      "text/plain": [
       "count           332.00\n",
       "mean     48,980,988.89\n",
       "std      59,980,117.92\n",
       "min               0.00\n",
       "25%      25,000,000.00\n",
       "50%      30,000,000.00\n",
       "75%      40,375,000.00\n",
       "max     400,000,000.00\n",
       "Name: nonrefundable_support, dtype: float64"
      ]
     },
     "execution_count": 32,
     "metadata": {},
     "output_type": "execute_result"
    }
   ],
   "source": [
    "data['nonrefundable_support'].describe()"
   ]
  },
  {
   "cell_type": "code",
   "execution_count": 33,
   "metadata": {},
   "outputs": [
    {
     "data": {
      "text/html": [
       "<div>\n",
       "<style scoped>\n",
       "    .dataframe tbody tr th:only-of-type {\n",
       "        vertical-align: middle;\n",
       "    }\n",
       "\n",
       "    .dataframe tbody tr th {\n",
       "        vertical-align: top;\n",
       "    }\n",
       "\n",
       "    .dataframe thead th {\n",
       "        text-align: right;\n",
       "    }\n",
       "</style>\n",
       "<table border=\"1\" class=\"dataframe\">\n",
       "  <thead>\n",
       "    <tr style=\"text-align: right;\">\n",
       "      <th></th>\n",
       "      <th>title</th>\n",
       "      <th>puNumber</th>\n",
       "      <th>show_start_date</th>\n",
       "      <th>type</th>\n",
       "      <th>film_studio</th>\n",
       "      <th>production_country</th>\n",
       "      <th>director</th>\n",
       "      <th>producer</th>\n",
       "      <th>age_restriction</th>\n",
       "      <th>refundable_support</th>\n",
       "      <th>nonrefundable_support</th>\n",
       "      <th>budget</th>\n",
       "      <th>financing_source</th>\n",
       "      <th>ratings</th>\n",
       "      <th>genres</th>\n",
       "      <th>box_office</th>\n",
       "    </tr>\n",
       "  </thead>\n",
       "  <tbody>\n",
       "    <tr>\n",
       "      <td>2053</td>\n",
       "      <td>14+</td>\n",
       "      <td>111023614</td>\n",
       "      <td>2014-12-19 12:00:00</td>\n",
       "      <td>художественный</td>\n",
       "      <td>ооо киностудия  \"сентябрь\"</td>\n",
       "      <td>россия</td>\n",
       "      <td>а.зайцев</td>\n",
       "      <td>о.гранина, а.зайцев</td>\n",
       "      <td>«16+» - для детей старше 16 лет</td>\n",
       "      <td>0.00</td>\n",
       "      <td>23,000,000.00</td>\n",
       "      <td>0.00</td>\n",
       "      <td>министерство культуры, фонд кино</td>\n",
       "      <td>6.60</td>\n",
       "      <td>мелодрама</td>\n",
       "      <td>10,234,016.10</td>\n",
       "    </tr>\n",
       "    <tr>\n",
       "      <td>2058</td>\n",
       "      <td>дуxless 2</td>\n",
       "      <td>111000415</td>\n",
       "      <td>2015-01-26 12:00:00</td>\n",
       "      <td>художественный</td>\n",
       "      <td>ооо \"киностудия \"слово\", ооо \"арт пикчерс студия\"</td>\n",
       "      <td>россия</td>\n",
       "      <td>р.прыгунов</td>\n",
       "      <td>п.ануров, ф.бондарчук, д.рудовский</td>\n",
       "      <td>«16+» - для детей старше 16 лет</td>\n",
       "      <td>0.00</td>\n",
       "      <td>75,000,000.00</td>\n",
       "      <td>0.00</td>\n",
       "      <td>фонд кино</td>\n",
       "      <td>6.60</td>\n",
       "      <td>драма</td>\n",
       "      <td>446,163,511.00</td>\n",
       "    </tr>\n",
       "    <tr>\n",
       "      <td>2472</td>\n",
       "      <td>воин (2015)</td>\n",
       "      <td>111017315</td>\n",
       "      <td>2015-09-28 12:00:00</td>\n",
       "      <td>художественный</td>\n",
       "      <td>ооо \"форпост продакшн\", ооо \"арт пикчерс студия\"</td>\n",
       "      <td>россия</td>\n",
       "      <td>а.андрианов</td>\n",
       "      <td>ооо \"арт пикчерс студия\"</td>\n",
       "      <td>«12+» - для детей старше 12 лет</td>\n",
       "      <td>10,000,000.00</td>\n",
       "      <td>70,000,000.00</td>\n",
       "      <td>0.00</td>\n",
       "      <td>фонд кино</td>\n",
       "      <td>7.80</td>\n",
       "      <td>боевик,драма,криминал</td>\n",
       "      <td>196,572,438.40</td>\n",
       "    </tr>\n",
       "    <tr>\n",
       "      <td>2532</td>\n",
       "      <td>бармен.</td>\n",
       "      <td>111009615</td>\n",
       "      <td>2015-05-26 12:00:00</td>\n",
       "      <td>художественный</td>\n",
       "      <td>ао \"вайт медиа\", ооо \"арт пикчерс студия\"</td>\n",
       "      <td>россия</td>\n",
       "      <td>д.штурманова</td>\n",
       "      <td>т.вайнштейн</td>\n",
       "      <td>«16+» - для детей старше 16 лет</td>\n",
       "      <td>20,000,000.00</td>\n",
       "      <td>0.00</td>\n",
       "      <td>0.00</td>\n",
       "      <td>фонд кино</td>\n",
       "      <td>6.20</td>\n",
       "      <td>комедия,фэнтези</td>\n",
       "      <td>67,418,974.80</td>\n",
       "    </tr>\n",
       "    <tr>\n",
       "      <td>2615</td>\n",
       "      <td>савва. сердце воина</td>\n",
       "      <td>114001715</td>\n",
       "      <td>2015-07-21 12:00:00</td>\n",
       "      <td>анимационный</td>\n",
       "      <td>ооо \"глюкоза продакшн\", ооо \"арт пикчерс студия\"</td>\n",
       "      <td>россия</td>\n",
       "      <td>м.фадеев</td>\n",
       "      <td>а.чистяков</td>\n",
       "      <td>«6+» - для детей старше 6 лет</td>\n",
       "      <td>60,000,000.00</td>\n",
       "      <td>100,000,000.00</td>\n",
       "      <td>0.00</td>\n",
       "      <td>фонд кино</td>\n",
       "      <td>4.60</td>\n",
       "      <td>мультфильм,приключения,фэнтези</td>\n",
       "      <td>184,487,551.40</td>\n",
       "    </tr>\n",
       "    <tr>\n",
       "      <td>2684</td>\n",
       "      <td>тряпичный союз</td>\n",
       "      <td>111010215</td>\n",
       "      <td>2015-06-08 12:00:00</td>\n",
       "      <td>художественный</td>\n",
       "      <td>ооо \"кинокомпания \"коктебель\"</td>\n",
       "      <td>россия</td>\n",
       "      <td>м.местецкий</td>\n",
       "      <td>р.борисевич, а.кушаев</td>\n",
       "      <td>«18+» - запрещено для детей</td>\n",
       "      <td>0.00</td>\n",
       "      <td>59,000,000.00</td>\n",
       "      <td>0.00</td>\n",
       "      <td>фонд кино</td>\n",
       "      <td>6.30</td>\n",
       "      <td>комедия,драма</td>\n",
       "      <td>1,957,738.51</td>\n",
       "    </tr>\n",
       "    <tr>\n",
       "      <td>2788</td>\n",
       "      <td>срочно выйду замуж</td>\n",
       "      <td>111017115</td>\n",
       "      <td>2015-09-30 12:00:00</td>\n",
       "      <td>художественный</td>\n",
       "      <td>ао \"вайт медиа\", ооо \"арт пикчерс студия\"</td>\n",
       "      <td>россия</td>\n",
       "      <td>с чекалов</td>\n",
       "      <td>ф.бондарчук, т.вайнштейн, д.рудовский</td>\n",
       "      <td>«16+» - для детей старше 16 лет</td>\n",
       "      <td>0.00</td>\n",
       "      <td>35,000,000.00</td>\n",
       "      <td>0.00</td>\n",
       "      <td>фонд кино</td>\n",
       "      <td>5.10</td>\n",
       "      <td>комедия,мелодрама</td>\n",
       "      <td>72,937,783.20</td>\n",
       "    </tr>\n",
       "    <tr>\n",
       "      <td>2874</td>\n",
       "      <td>помню - не помню!</td>\n",
       "      <td>111004916</td>\n",
       "      <td>2016-03-01 12:00:00</td>\n",
       "      <td>художественный</td>\n",
       "      <td>ооо \"кинофирма\"</td>\n",
       "      <td>россия</td>\n",
       "      <td>в.ровенский</td>\n",
       "      <td>ооо \"кинофирма\"</td>\n",
       "      <td>«12+» - для детей старше 12 лет</td>\n",
       "      <td>0.00</td>\n",
       "      <td>6,000,000.00</td>\n",
       "      <td>0.00</td>\n",
       "      <td>министерство культуры</td>\n",
       "      <td>4.30</td>\n",
       "      <td>комедия</td>\n",
       "      <td>15,362,931.43</td>\n",
       "    </tr>\n",
       "    <tr>\n",
       "      <td>3047</td>\n",
       "      <td>любовь с ограничениями</td>\n",
       "      <td>111008216</td>\n",
       "      <td>2016-04-29 12:00:00</td>\n",
       "      <td>художественный</td>\n",
       "      <td>ао \"вайт медиа\", ооо \"арт пикчерс студия\"</td>\n",
       "      <td>россия</td>\n",
       "      <td>д.тюрин</td>\n",
       "      <td>ф.бондарчук, т.вайнштейн, д.рудовский</td>\n",
       "      <td>«16+» - для детей старше 16 лет</td>\n",
       "      <td>19,000,000.00</td>\n",
       "      <td>51,000,000.00</td>\n",
       "      <td>0.00</td>\n",
       "      <td>фонд кино</td>\n",
       "      <td>6.30</td>\n",
       "      <td>комедия,мелодрама</td>\n",
       "      <td>70,299,052.00</td>\n",
       "    </tr>\n",
       "    <tr>\n",
       "      <td>3565</td>\n",
       "      <td>притяжение (2016)</td>\n",
       "      <td>111018116</td>\n",
       "      <td>2016-12-16 12:00:00</td>\n",
       "      <td>художественный</td>\n",
       "      <td>ооо \"водород 2011\",  ооо \"арт пикчерс студия\"</td>\n",
       "      <td>россия</td>\n",
       "      <td>ф.бондарчук</td>\n",
       "      <td>ооо \"арт пикчерс студия\"</td>\n",
       "      <td>«12+» - для детей старше 12 лет</td>\n",
       "      <td>0.00</td>\n",
       "      <td>250,000,000.00</td>\n",
       "      <td>0.00</td>\n",
       "      <td>фонд кино</td>\n",
       "      <td>5.60</td>\n",
       "      <td>фантастика</td>\n",
       "      <td>1,038,321,489.00</td>\n",
       "    </tr>\n",
       "    <tr>\n",
       "      <td>3675</td>\n",
       "      <td>чудо-юдо</td>\n",
       "      <td>114001817</td>\n",
       "      <td>2017-06-27 12:00:00</td>\n",
       "      <td>анимационный</td>\n",
       "      <td>ооо \"кинофирма\"</td>\n",
       "      <td>россия</td>\n",
       "      <td>а.лукичев</td>\n",
       "      <td>ооо \"кинофирма\"</td>\n",
       "      <td>«6+» - для детей старше 6 лет</td>\n",
       "      <td>20,000,000.00</td>\n",
       "      <td>20,000,000.00</td>\n",
       "      <td>0.00</td>\n",
       "      <td>фонд кино</td>\n",
       "      <td>5.20</td>\n",
       "      <td>мультфильм,фэнтези,семейный</td>\n",
       "      <td>55,108,014.76</td>\n",
       "    </tr>\n",
       "    <tr>\n",
       "      <td>3739</td>\n",
       "      <td>мифы</td>\n",
       "      <td>111004317</td>\n",
       "      <td>2017-06-07 12:00:00</td>\n",
       "      <td>художественный</td>\n",
       "      <td>ооо \"хайпфилм\", ооо \"арт пикчерс студия\"</td>\n",
       "      <td>россия</td>\n",
       "      <td>а.молочников</td>\n",
       "      <td>ф.бондарчук, д.рудовский, и.стюарт, м.османн, ...</td>\n",
       "      <td>«16+» - для детей старше 16 лет</td>\n",
       "      <td>25,000,000.00</td>\n",
       "      <td>20,000,000.00</td>\n",
       "      <td>0.00</td>\n",
       "      <td>фонд кино</td>\n",
       "      <td>4.80</td>\n",
       "      <td>комедия</td>\n",
       "      <td>50,451,949.00</td>\n",
       "    </tr>\n",
       "    <tr>\n",
       "      <td>5673</td>\n",
       "      <td>селфи</td>\n",
       "      <td>111012117</td>\n",
       "      <td>2018-02-01 12:00:00</td>\n",
       "      <td>художественный</td>\n",
       "      <td>ооо \"киностудия \"слово\", ооо \"арт пикчерс студия\"</td>\n",
       "      <td>россия</td>\n",
       "      <td>н.хомерики</td>\n",
       "      <td>п.ануров, ф.бондарчук, д.рудовский</td>\n",
       "      <td>«16+» - для детей старше 16 лет</td>\n",
       "      <td>20,000,000.00</td>\n",
       "      <td>40,000,000.00</td>\n",
       "      <td>0.00</td>\n",
       "      <td>фонд кино</td>\n",
       "      <td>5.80</td>\n",
       "      <td>триллер,драма</td>\n",
       "      <td>225,196,400.03</td>\n",
       "    </tr>\n",
       "    <tr>\n",
       "      <td>5806</td>\n",
       "      <td>два хвоста</td>\n",
       "      <td>114001018</td>\n",
       "      <td>2018-05-31 12:00:00</td>\n",
       "      <td>анимационный</td>\n",
       "      <td>ооо \"лицензионные бренды\"</td>\n",
       "      <td>россия</td>\n",
       "      <td>в.ровенский, н.лопато, в.азеев</td>\n",
       "      <td>ооо \"лицензионные бренды\"</td>\n",
       "      <td>«6+» - для детей старше 6 лет</td>\n",
       "      <td>10,000,000.00</td>\n",
       "      <td>60,000,000.00</td>\n",
       "      <td>0.00</td>\n",
       "      <td>фонд кино</td>\n",
       "      <td>5.00</td>\n",
       "      <td>мультфильм,детский</td>\n",
       "      <td>106,514,301.03</td>\n",
       "    </tr>\n",
       "    <tr>\n",
       "      <td>6008</td>\n",
       "      <td>принцесса и дракон</td>\n",
       "      <td>114003018</td>\n",
       "      <td>2018-08-23 12:00:00</td>\n",
       "      <td>анимационный</td>\n",
       "      <td>ооо \"лицензионные бренды\"</td>\n",
       "      <td>россия</td>\n",
       "      <td>м.нефедова</td>\n",
       "      <td>ооо \"лицензионные бренды\"</td>\n",
       "      <td>«6+» - для детей старше 6 лет</td>\n",
       "      <td>40,000,000.00</td>\n",
       "      <td>40,000,000.00</td>\n",
       "      <td>0.00</td>\n",
       "      <td>фонд кино</td>\n",
       "      <td>5.20</td>\n",
       "      <td>мультфильм,фэнтези,детский</td>\n",
       "      <td>83,366,328.66</td>\n",
       "    </tr>\n",
       "    <tr>\n",
       "      <td>6323</td>\n",
       "      <td>баба яга</td>\n",
       "      <td>114006518</td>\n",
       "      <td>2018-11-08 12:00:00</td>\n",
       "      <td>анимационный</td>\n",
       "      <td>ооо \"арт пикчерс студия\"</td>\n",
       "      <td>россия</td>\n",
       "      <td>в.саков</td>\n",
       "      <td>ооо \"арт пикчерс студия\", ооо \"криэйтив анимэй...</td>\n",
       "      <td>«6+» - для детей старше 6 лет</td>\n",
       "      <td>0.00</td>\n",
       "      <td>138,969,465.00</td>\n",
       "      <td>0.00</td>\n",
       "      <td>фонд кино</td>\n",
       "      <td>unknown</td>\n",
       "      <td>unknown</td>\n",
       "      <td>1,334,699.40</td>\n",
       "    </tr>\n",
       "    <tr>\n",
       "      <td>6823</td>\n",
       "      <td>большое путешествие</td>\n",
       "      <td>114002419</td>\n",
       "      <td>2019-04-20 12:00:00</td>\n",
       "      <td>анимационный</td>\n",
       "      <td>ооо \"лицензионные бренды\"</td>\n",
       "      <td>россия</td>\n",
       "      <td>н.лопато, в.ровенский</td>\n",
       "      <td>ооо \"лицензионные бренды\"</td>\n",
       "      <td>«6+» - для детей старше 6 лет</td>\n",
       "      <td>60,000,000.00</td>\n",
       "      <td>120,000,000.00</td>\n",
       "      <td>0.00</td>\n",
       "      <td>фонд кино</td>\n",
       "      <td>6.20</td>\n",
       "      <td>мультфильм,комедия,приключения</td>\n",
       "      <td>147,606,826.51</td>\n",
       "    </tr>\n",
       "  </tbody>\n",
       "</table>\n",
       "</div>"
      ],
      "text/plain": [
       "                       title   puNumber     show_start_date            type  \\\n",
       "2053                     14+  111023614 2014-12-19 12:00:00  художественный   \n",
       "2058               дуxless 2  111000415 2015-01-26 12:00:00  художественный   \n",
       "2472             воин (2015)  111017315 2015-09-28 12:00:00  художественный   \n",
       "2532                 бармен.  111009615 2015-05-26 12:00:00  художественный   \n",
       "2615     савва. сердце воина  114001715 2015-07-21 12:00:00    анимационный   \n",
       "2684          тряпичный союз  111010215 2015-06-08 12:00:00  художественный   \n",
       "2788      срочно выйду замуж  111017115 2015-09-30 12:00:00  художественный   \n",
       "2874       помню - не помню!  111004916 2016-03-01 12:00:00  художественный   \n",
       "3047  любовь с ограничениями  111008216 2016-04-29 12:00:00  художественный   \n",
       "3565       притяжение (2016)  111018116 2016-12-16 12:00:00  художественный   \n",
       "3675                чудо-юдо  114001817 2017-06-27 12:00:00    анимационный   \n",
       "3739                    мифы  111004317 2017-06-07 12:00:00  художественный   \n",
       "5673                   селфи  111012117 2018-02-01 12:00:00  художественный   \n",
       "5806              два хвоста  114001018 2018-05-31 12:00:00    анимационный   \n",
       "6008      принцесса и дракон  114003018 2018-08-23 12:00:00    анимационный   \n",
       "6323                баба яга  114006518 2018-11-08 12:00:00    анимационный   \n",
       "6823     большое путешествие  114002419 2019-04-20 12:00:00    анимационный   \n",
       "\n",
       "                                            film_studio production_country  \\\n",
       "2053                         ооо киностудия  \"сентябрь\"             россия   \n",
       "2058  ооо \"киностудия \"слово\", ооо \"арт пикчерс студия\"             россия   \n",
       "2472   ооо \"форпост продакшн\", ооо \"арт пикчерс студия\"             россия   \n",
       "2532          ао \"вайт медиа\", ооо \"арт пикчерс студия\"             россия   \n",
       "2615   ооо \"глюкоза продакшн\", ооо \"арт пикчерс студия\"             россия   \n",
       "2684                      ооо \"кинокомпания \"коктебель\"             россия   \n",
       "2788          ао \"вайт медиа\", ооо \"арт пикчерс студия\"             россия   \n",
       "2874                                    ооо \"кинофирма\"             россия   \n",
       "3047          ао \"вайт медиа\", ооо \"арт пикчерс студия\"             россия   \n",
       "3565      ооо \"водород 2011\",  ооо \"арт пикчерс студия\"             россия   \n",
       "3675                                    ооо \"кинофирма\"             россия   \n",
       "3739           ооо \"хайпфилм\", ооо \"арт пикчерс студия\"             россия   \n",
       "5673  ооо \"киностудия \"слово\", ооо \"арт пикчерс студия\"             россия   \n",
       "5806                          ооо \"лицензионные бренды\"             россия   \n",
       "6008                          ооо \"лицензионные бренды\"             россия   \n",
       "6323                           ооо \"арт пикчерс студия\"             россия   \n",
       "6823                          ооо \"лицензионные бренды\"             россия   \n",
       "\n",
       "                            director  \\\n",
       "2053                        а.зайцев   \n",
       "2058                      р.прыгунов   \n",
       "2472                     а.андрианов   \n",
       "2532                    д.штурманова   \n",
       "2615                        м.фадеев   \n",
       "2684                     м.местецкий   \n",
       "2788                       с чекалов   \n",
       "2874                     в.ровенский   \n",
       "3047                         д.тюрин   \n",
       "3565                     ф.бондарчук   \n",
       "3675                       а.лукичев   \n",
       "3739                    а.молочников   \n",
       "5673                      н.хомерики   \n",
       "5806  в.ровенский, н.лопато, в.азеев   \n",
       "6008                      м.нефедова   \n",
       "6323                         в.саков   \n",
       "6823           н.лопато, в.ровенский   \n",
       "\n",
       "                                               producer  \\\n",
       "2053                                о.гранина, а.зайцев   \n",
       "2058                 п.ануров, ф.бондарчук, д.рудовский   \n",
       "2472                           ооо \"арт пикчерс студия\"   \n",
       "2532                                        т.вайнштейн   \n",
       "2615                                         а.чистяков   \n",
       "2684                              р.борисевич, а.кушаев   \n",
       "2788              ф.бондарчук, т.вайнштейн, д.рудовский   \n",
       "2874                                    ооо \"кинофирма\"   \n",
       "3047              ф.бондарчук, т.вайнштейн, д.рудовский   \n",
       "3565                           ооо \"арт пикчерс студия\"   \n",
       "3675                                    ооо \"кинофирма\"   \n",
       "3739  ф.бондарчук, д.рудовский, и.стюарт, м.османн, ...   \n",
       "5673                 п.ануров, ф.бондарчук, д.рудовский   \n",
       "5806                          ооо \"лицензионные бренды\"   \n",
       "6008                          ооо \"лицензионные бренды\"   \n",
       "6323  ооо \"арт пикчерс студия\", ооо \"криэйтив анимэй...   \n",
       "6823                          ооо \"лицензионные бренды\"   \n",
       "\n",
       "                      age_restriction  refundable_support  \\\n",
       "2053  «16+» - для детей старше 16 лет                0.00   \n",
       "2058  «16+» - для детей старше 16 лет                0.00   \n",
       "2472  «12+» - для детей старше 12 лет       10,000,000.00   \n",
       "2532  «16+» - для детей старше 16 лет       20,000,000.00   \n",
       "2615    «6+» - для детей старше 6 лет       60,000,000.00   \n",
       "2684      «18+» - запрещено для детей                0.00   \n",
       "2788  «16+» - для детей старше 16 лет                0.00   \n",
       "2874  «12+» - для детей старше 12 лет                0.00   \n",
       "3047  «16+» - для детей старше 16 лет       19,000,000.00   \n",
       "3565  «12+» - для детей старше 12 лет                0.00   \n",
       "3675    «6+» - для детей старше 6 лет       20,000,000.00   \n",
       "3739  «16+» - для детей старше 16 лет       25,000,000.00   \n",
       "5673  «16+» - для детей старше 16 лет       20,000,000.00   \n",
       "5806    «6+» - для детей старше 6 лет       10,000,000.00   \n",
       "6008    «6+» - для детей старше 6 лет       40,000,000.00   \n",
       "6323    «6+» - для детей старше 6 лет                0.00   \n",
       "6823    «6+» - для детей старше 6 лет       60,000,000.00   \n",
       "\n",
       "      nonrefundable_support  budget                  financing_source  \\\n",
       "2053          23,000,000.00    0.00  министерство культуры, фонд кино   \n",
       "2058          75,000,000.00    0.00                         фонд кино   \n",
       "2472          70,000,000.00    0.00                         фонд кино   \n",
       "2532                   0.00    0.00                         фонд кино   \n",
       "2615         100,000,000.00    0.00                         фонд кино   \n",
       "2684          59,000,000.00    0.00                         фонд кино   \n",
       "2788          35,000,000.00    0.00                         фонд кино   \n",
       "2874           6,000,000.00    0.00             министерство культуры   \n",
       "3047          51,000,000.00    0.00                         фонд кино   \n",
       "3565         250,000,000.00    0.00                         фонд кино   \n",
       "3675          20,000,000.00    0.00                         фонд кино   \n",
       "3739          20,000,000.00    0.00                         фонд кино   \n",
       "5673          40,000,000.00    0.00                         фонд кино   \n",
       "5806          60,000,000.00    0.00                         фонд кино   \n",
       "6008          40,000,000.00    0.00                         фонд кино   \n",
       "6323         138,969,465.00    0.00                         фонд кино   \n",
       "6823         120,000,000.00    0.00                         фонд кино   \n",
       "\n",
       "      ratings                          genres       box_office  \n",
       "2053     6.60                       мелодрама    10,234,016.10  \n",
       "2058     6.60                           драма   446,163,511.00  \n",
       "2472     7.80           боевик,драма,криминал   196,572,438.40  \n",
       "2532     6.20                 комедия,фэнтези    67,418,974.80  \n",
       "2615     4.60  мультфильм,приключения,фэнтези   184,487,551.40  \n",
       "2684     6.30                   комедия,драма     1,957,738.51  \n",
       "2788     5.10               комедия,мелодрама    72,937,783.20  \n",
       "2874     4.30                         комедия    15,362,931.43  \n",
       "3047     6.30               комедия,мелодрама    70,299,052.00  \n",
       "3565     5.60                      фантастика 1,038,321,489.00  \n",
       "3675     5.20     мультфильм,фэнтези,семейный    55,108,014.76  \n",
       "3739     4.80                         комедия    50,451,949.00  \n",
       "5673     5.80                   триллер,драма   225,196,400.03  \n",
       "5806     5.00              мультфильм,детский   106,514,301.03  \n",
       "6008     5.20      мультфильм,фэнтези,детский    83,366,328.66  \n",
       "6323  unknown                         unknown     1,334,699.40  \n",
       "6823     6.20  мультфильм,комедия,приключения   147,606,826.51  "
      ]
     },
     "execution_count": 33,
     "metadata": {},
     "output_type": "execute_result"
    }
   ],
   "source": [
    "data.query('budget < (refundable_support + nonrefundable_support)') #усеченная таблица"
   ]
  },
  {
   "cell_type": "markdown",
   "metadata": {},
   "source": [
    "Исправим эти значения на сумму столбцов `refundable_support` `nonrefundable_support`."
   ]
  },
  {
   "cell_type": "code",
   "execution_count": 34,
   "metadata": {},
   "outputs": [
    {
     "data": {
      "text/html": [
       "<div>\n",
       "<style scoped>\n",
       "    .dataframe tbody tr th:only-of-type {\n",
       "        vertical-align: middle;\n",
       "    }\n",
       "\n",
       "    .dataframe tbody tr th {\n",
       "        vertical-align: top;\n",
       "    }\n",
       "\n",
       "    .dataframe thead th {\n",
       "        text-align: right;\n",
       "    }\n",
       "</style>\n",
       "<table border=\"1\" class=\"dataframe\">\n",
       "  <thead>\n",
       "    <tr style=\"text-align: right;\">\n",
       "      <th></th>\n",
       "      <th>title</th>\n",
       "      <th>puNumber</th>\n",
       "      <th>show_start_date</th>\n",
       "      <th>type</th>\n",
       "      <th>film_studio</th>\n",
       "      <th>production_country</th>\n",
       "      <th>director</th>\n",
       "      <th>producer</th>\n",
       "      <th>age_restriction</th>\n",
       "      <th>refundable_support</th>\n",
       "      <th>nonrefundable_support</th>\n",
       "      <th>budget</th>\n",
       "      <th>financing_source</th>\n",
       "      <th>ratings</th>\n",
       "      <th>genres</th>\n",
       "      <th>box_office</th>\n",
       "    </tr>\n",
       "  </thead>\n",
       "  <tbody>\n",
       "  </tbody>\n",
       "</table>\n",
       "</div>"
      ],
      "text/plain": [
       "Empty DataFrame\n",
       "Columns: [title, puNumber, show_start_date, type, film_studio, production_country, director, producer, age_restriction, refundable_support, nonrefundable_support, budget, financing_source, ratings, genres, box_office]\n",
       "Index: []"
      ]
     },
     "execution_count": 34,
     "metadata": {},
     "output_type": "execute_result"
    }
   ],
   "source": [
    "def column(row):\n",
    "    if row['budget'] == 0:\n",
    "        return row['refundable_support'] + row['nonrefundable_support']\n",
    "    else:\n",
    "        return row['budget']\n",
    "data['budget'] = data.apply(column, axis = 1)\n",
    "data.query('budget < (refundable_support + nonrefundable_support)') #проверим"
   ]
  },
  {
   "cell_type": "markdown",
   "metadata": {
    "id": "Eu6oWp2CgFyS"
   },
   "source": [
    "#### Шаг 2.6. Добавим новые столбцы\n",
    "\n",
    "\n",
    "\n"
   ]
  },
  {
   "cell_type": "markdown",
   "metadata": {
    "id": "7GgW-UpAgFyS"
   },
   "source": [
    "- Создадим столбец с информацией о годе проката. Выделим год из даты премьеры фильма."
   ]
  },
  {
   "cell_type": "code",
   "execution_count": 35,
   "metadata": {
    "id": "I-yd1DkWgFyT"
   },
   "outputs": [],
   "source": [
    "data['year'] = data['show_start_date'].dt.year #новый столбец \n"
   ]
  },
  {
   "cell_type": "markdown",
   "metadata": {
    "id": "nFTDLDYOgFyT"
   },
   "source": [
    "- Создадим два столбца: с именем и фамилией главного режиссёра и основным жанром фильма. В столбцы войдут первые значения из списка режиссёров и жанров соответственно.\n",
    "\n"
   ]
  },
  {
   "cell_type": "code",
   "execution_count": 36,
   "metadata": {
    "id": "LSbRZKbMgFyU"
   },
   "outputs": [],
   "source": [
    "#функция для отсеивания значений до запятой в колонках\n",
    "def column(row):\n",
    "    return row.split(',')[0]\n",
    "data['first_director']=data['director'].apply(column)\n",
    "data['main_genre']=data['genres'].apply(column)\n"
   ]
  },
  {
   "cell_type": "markdown",
   "metadata": {
    "id": "1FsCXHwdgFyU"
   },
   "source": [
    "- Посчитаем, какую долю от общего бюджета фильма составляет государственная поддержка."
   ]
  },
  {
   "cell_type": "code",
   "execution_count": 37,
   "metadata": {
    "id": "LV6qFuZLgFyV"
   },
   "outputs": [
    {
     "data": {
      "text/html": [
       "<div>\n",
       "<style scoped>\n",
       "    .dataframe tbody tr th:only-of-type {\n",
       "        vertical-align: middle;\n",
       "    }\n",
       "\n",
       "    .dataframe tbody tr th {\n",
       "        vertical-align: top;\n",
       "    }\n",
       "\n",
       "    .dataframe thead th {\n",
       "        text-align: right;\n",
       "    }\n",
       "</style>\n",
       "<table border=\"1\" class=\"dataframe\">\n",
       "  <thead>\n",
       "    <tr style=\"text-align: right;\">\n",
       "      <th></th>\n",
       "      <th>title</th>\n",
       "      <th>puNumber</th>\n",
       "      <th>show_start_date</th>\n",
       "      <th>type</th>\n",
       "      <th>film_studio</th>\n",
       "      <th>production_country</th>\n",
       "      <th>director</th>\n",
       "      <th>producer</th>\n",
       "      <th>age_restriction</th>\n",
       "      <th>refundable_support</th>\n",
       "      <th>nonrefundable_support</th>\n",
       "      <th>budget</th>\n",
       "      <th>financing_source</th>\n",
       "      <th>ratings</th>\n",
       "      <th>genres</th>\n",
       "      <th>box_office</th>\n",
       "      <th>year</th>\n",
       "      <th>first_director</th>\n",
       "      <th>main_genre</th>\n",
       "      <th>part_support</th>\n",
       "    </tr>\n",
       "  </thead>\n",
       "  <tbody>\n",
       "    <tr>\n",
       "      <td>0</td>\n",
       "      <td>открытый простор</td>\n",
       "      <td>221048915</td>\n",
       "      <td>2015-11-27 12:00:00</td>\n",
       "      <td>художественный</td>\n",
       "      <td>тачстоун пикчерз, кобальт пикчерз, бикон пикче...</td>\n",
       "      <td>сша</td>\n",
       "      <td>кевин костнер</td>\n",
       "      <td>дэвид валдес, кевин костнер, джейк эбертс</td>\n",
       "      <td>«18+» - запрещено для детей</td>\n",
       "      <td>nan</td>\n",
       "      <td>nan</td>\n",
       "      <td>nan</td>\n",
       "      <td>unknown</td>\n",
       "      <td>7.20</td>\n",
       "      <td>боевик,драма,мелодрама</td>\n",
       "      <td>nan</td>\n",
       "      <td>2015</td>\n",
       "      <td>кевин костнер</td>\n",
       "      <td>боевик</td>\n",
       "      <td>nan</td>\n",
       "    </tr>\n",
       "    <tr>\n",
       "      <td>1</td>\n",
       "      <td>особо важное задание</td>\n",
       "      <td>111013716</td>\n",
       "      <td>2016-09-13 12:00:00</td>\n",
       "      <td>художественный</td>\n",
       "      <td>киностудия \"мосфильм\"</td>\n",
       "      <td>ссср</td>\n",
       "      <td>е.матвеев</td>\n",
       "      <td>unknown</td>\n",
       "      <td>«6+» - для детей старше 6 лет</td>\n",
       "      <td>nan</td>\n",
       "      <td>nan</td>\n",
       "      <td>nan</td>\n",
       "      <td>unknown</td>\n",
       "      <td>6.60</td>\n",
       "      <td>драма,военный</td>\n",
       "      <td>nan</td>\n",
       "      <td>2016</td>\n",
       "      <td>е.матвеев</td>\n",
       "      <td>драма</td>\n",
       "      <td>nan</td>\n",
       "    </tr>\n",
       "    <tr>\n",
       "      <td>2</td>\n",
       "      <td>особо опасен</td>\n",
       "      <td>221038416</td>\n",
       "      <td>2016-10-10 12:00:00</td>\n",
       "      <td>художественный</td>\n",
       "      <td>юниверсал пикчерз, кикстарт продакшнз, марк пл...</td>\n",
       "      <td>сша</td>\n",
       "      <td>тимур бекмамбетов</td>\n",
       "      <td>джим лемли, джейсон нетер, марк е.платт, яйн смит</td>\n",
       "      <td>«18+» - запрещено для детей</td>\n",
       "      <td>nan</td>\n",
       "      <td>nan</td>\n",
       "      <td>nan</td>\n",
       "      <td>unknown</td>\n",
       "      <td>6.80</td>\n",
       "      <td>фантастика,боевик,триллер</td>\n",
       "      <td>nan</td>\n",
       "      <td>2016</td>\n",
       "      <td>тимур бекмамбетов</td>\n",
       "      <td>фантастика</td>\n",
       "      <td>nan</td>\n",
       "    </tr>\n",
       "    <tr>\n",
       "      <td>3</td>\n",
       "      <td>особо опасен</td>\n",
       "      <td>221026916</td>\n",
       "      <td>2016-06-10 12:00:00</td>\n",
       "      <td>художественный</td>\n",
       "      <td>юниверсал пикчерз, кикстарт продакшнз, марк пл...</td>\n",
       "      <td>сша</td>\n",
       "      <td>тимур бекмамбетов</td>\n",
       "      <td>джим лемли, джейсон нетер, марк е.платт, яйн смит</td>\n",
       "      <td>«18+» - запрещено для детей</td>\n",
       "      <td>nan</td>\n",
       "      <td>nan</td>\n",
       "      <td>nan</td>\n",
       "      <td>unknown</td>\n",
       "      <td>6.80</td>\n",
       "      <td>фантастика,боевик,триллер</td>\n",
       "      <td>nan</td>\n",
       "      <td>2016</td>\n",
       "      <td>тимур бекмамбетов</td>\n",
       "      <td>фантастика</td>\n",
       "      <td>nan</td>\n",
       "    </tr>\n",
       "    <tr>\n",
       "      <td>4</td>\n",
       "      <td>особо опасен</td>\n",
       "      <td>221030815</td>\n",
       "      <td>2015-07-29 12:00:00</td>\n",
       "      <td>художественный</td>\n",
       "      <td>юниверсал пикчерз, кикстарт продакшнз, марк пл...</td>\n",
       "      <td>сша</td>\n",
       "      <td>тимур бекмамбетов</td>\n",
       "      <td>джим лемли, джейсон нетер, марк е.платт, яйн смит</td>\n",
       "      <td>«18+» - запрещено для детей</td>\n",
       "      <td>nan</td>\n",
       "      <td>nan</td>\n",
       "      <td>nan</td>\n",
       "      <td>unknown</td>\n",
       "      <td>6.80</td>\n",
       "      <td>фантастика,боевик,триллер</td>\n",
       "      <td>nan</td>\n",
       "      <td>2015</td>\n",
       "      <td>тимур бекмамбетов</td>\n",
       "      <td>фантастика</td>\n",
       "      <td>nan</td>\n",
       "    </tr>\n",
       "  </tbody>\n",
       "</table>\n",
       "</div>"
      ],
      "text/plain": [
       "                  title   puNumber     show_start_date            type  \\\n",
       "0      открытый простор  221048915 2015-11-27 12:00:00  художественный   \n",
       "1  особо важное задание  111013716 2016-09-13 12:00:00  художественный   \n",
       "2          особо опасен  221038416 2016-10-10 12:00:00  художественный   \n",
       "3          особо опасен  221026916 2016-06-10 12:00:00  художественный   \n",
       "4          особо опасен  221030815 2015-07-29 12:00:00  художественный   \n",
       "\n",
       "                                         film_studio production_country  \\\n",
       "0  тачстоун пикчерз, кобальт пикчерз, бикон пикче...                сша   \n",
       "1                              киностудия \"мосфильм\"               ссср   \n",
       "2  юниверсал пикчерз, кикстарт продакшнз, марк пл...                сша   \n",
       "3  юниверсал пикчерз, кикстарт продакшнз, марк пл...                сша   \n",
       "4  юниверсал пикчерз, кикстарт продакшнз, марк пл...                сша   \n",
       "\n",
       "            director                                           producer  \\\n",
       "0      кевин костнер          дэвид валдес, кевин костнер, джейк эбертс   \n",
       "1          е.матвеев                                            unknown   \n",
       "2  тимур бекмамбетов  джим лемли, джейсон нетер, марк е.платт, яйн смит   \n",
       "3  тимур бекмамбетов  джим лемли, джейсон нетер, марк е.платт, яйн смит   \n",
       "4  тимур бекмамбетов  джим лемли, джейсон нетер, марк е.платт, яйн смит   \n",
       "\n",
       "                 age_restriction  refundable_support  nonrefundable_support  \\\n",
       "0    «18+» - запрещено для детей                 nan                    nan   \n",
       "1  «6+» - для детей старше 6 лет                 nan                    nan   \n",
       "2    «18+» - запрещено для детей                 nan                    nan   \n",
       "3    «18+» - запрещено для детей                 nan                    nan   \n",
       "4    «18+» - запрещено для детей                 nan                    nan   \n",
       "\n",
       "   budget financing_source ratings                     genres  box_office  \\\n",
       "0     nan          unknown    7.20     боевик,драма,мелодрама         nan   \n",
       "1     nan          unknown    6.60              драма,военный         nan   \n",
       "2     nan          unknown    6.80  фантастика,боевик,триллер         nan   \n",
       "3     nan          unknown    6.80  фантастика,боевик,триллер         nan   \n",
       "4     nan          unknown    6.80  фантастика,боевик,триллер         nan   \n",
       "\n",
       "   year     first_director  main_genre  part_support  \n",
       "0  2015      кевин костнер      боевик           nan  \n",
       "1  2016          е.матвеев       драма           nan  \n",
       "2  2016  тимур бекмамбетов  фантастика           nan  \n",
       "3  2016  тимур бекмамбетов  фантастика           nan  \n",
       "4  2015  тимур бекмамбетов  фантастика           nan  "
      ]
     },
     "execution_count": 37,
     "metadata": {},
     "output_type": "execute_result"
    }
   ],
   "source": [
    "#доля в процентах\n",
    "data['part_support'] = (data['refundable_support']+data['nonrefundable_support'])/data['budget']*100\n",
    "data.head(5) #проверим"
   ]
  },
  {
   "cell_type": "markdown",
   "metadata": {},
   "source": [
    "#### Вывод"
   ]
  },
  {
   "cell_type": "markdown",
   "metadata": {},
   "source": [
    " На данном этапе работы была проведена предобработка данных. Исправлены типы данных, удален дубликат, исправлены значения в столбцах, добавлены новые столбцы."
   ]
  },
  {
   "cell_type": "markdown",
   "metadata": {
    "id": "6t4EukPLgFyV"
   },
   "source": [
    "### Шаг 3. Проведем исследовательский анализ данных\n"
   ]
  },
  {
   "cell_type": "markdown",
   "metadata": {
    "id": "vAH8WCzugFyV"
   },
   "source": [
    "- Посмотрим, сколько фильмов выходило в прокат каждый год. Обратим внимание, что данные о прокате в кинотеатрах известны не для всех фильмов. Посчитаем, какую долю составляют фильмы с указанной информацией о прокате в кинотеатрах."
   ]
  },
  {
   "cell_type": "code",
   "execution_count": 38,
   "metadata": {
    "id": "ABeV47y7gFyW"
   },
   "outputs": [
    {
     "data": {
      "image/png": "[encoded data removed]",
      "text/plain": [
       "<Figure size 432x288 with 1 Axes>"
      ]
     },
     "metadata": {
      "needs_background": "light"
     },
     "output_type": "display_data"
    }
   ],
   "source": [
    "df = data.query('box_office >= 0') #таблица, у которой нет пустых значений в столбце сборов\n",
    "df['year'].hist(bins = 10,range = (2010,2020))  #построение гистогрммы\n",
    "plt.xlabel('Года'), plt.ylabel('Количество фильмов, шт.')\n",
    "plt.title('Количество фильмов за определенный год')\n",
    "plt.show()"
   ]
  },
  {
   "cell_type": "markdown",
   "metadata": {},
   "source": [
    "Большее количество фильмов вышло в 2016 и в 2019 годах, меньшее — в 2010."
   ]
  },
  {
   "cell_type": "markdown",
   "metadata": {},
   "source": [
    "В кинотеатрах не вышли фильмы,  у которых сборы в рублях равны нулю или нет данных о сборах. Посчитаем долю тех, что вышли в кинотеатры."
   ]
  },
  {
   "cell_type": "code",
   "execution_count": 39,
   "metadata": {},
   "outputs": [
    {
     "data": {
      "text/plain": [
       "42.19104876419505"
      ]
     },
     "execution_count": 39,
     "metadata": {},
     "output_type": "execute_result"
    }
   ],
   "source": [
    "part_cinema = len(df)/len(data)*100\n",
    "part_cinema"
   ]
  },
  {
   "cell_type": "markdown",
   "metadata": {},
   "source": [
    "То есть 42% от всего количества фильмов, представленных в таблице, вышли в кинотеатрах  и имеют сборы."
   ]
  },
  {
   "cell_type": "markdown",
   "metadata": {
    "id": "BEOdcIrIgFyW"
   },
   "source": [
    "- Изучим, как менялась динамика проката по годам. В каком году сумма сборов была минимальной? А максимальной?"
   ]
  },
  {
   "cell_type": "markdown",
   "metadata": {},
   "source": [
    "Создадим сводную таблицу по суммарному значению сборов проката по годам. "
   ]
  },
  {
   "cell_type": "code",
   "execution_count": 40,
   "metadata": {},
   "outputs": [
    {
     "data": {
      "text/html": [
       "<div>\n",
       "<style scoped>\n",
       "    .dataframe tbody tr th:only-of-type {\n",
       "        vertical-align: middle;\n",
       "    }\n",
       "\n",
       "    .dataframe tbody tr th {\n",
       "        vertical-align: top;\n",
       "    }\n",
       "\n",
       "    .dataframe thead th {\n",
       "        text-align: right;\n",
       "    }\n",
       "</style>\n",
       "<table border=\"1\" class=\"dataframe\">\n",
       "  <thead>\n",
       "    <tr style=\"text-align: right;\">\n",
       "      <th></th>\n",
       "      <th>box_office</th>\n",
       "    </tr>\n",
       "    <tr>\n",
       "      <th>year</th>\n",
       "      <th></th>\n",
       "    </tr>\n",
       "  </thead>\n",
       "  <tbody>\n",
       "    <tr>\n",
       "      <td>2010</td>\n",
       "      <td>2,428,654.00</td>\n",
       "    </tr>\n",
       "    <tr>\n",
       "      <td>2011</td>\n",
       "      <td>14,102,765.00</td>\n",
       "    </tr>\n",
       "    <tr>\n",
       "      <td>2012</td>\n",
       "      <td>6,955,423.00</td>\n",
       "    </tr>\n",
       "    <tr>\n",
       "      <td>2013</td>\n",
       "      <td>29,799,706.20</td>\n",
       "    </tr>\n",
       "    <tr>\n",
       "      <td>2014</td>\n",
       "      <td>7,444,951,859.20</td>\n",
       "    </tr>\n",
       "    <tr>\n",
       "      <td>2015</td>\n",
       "      <td>39,497,365,196.40</td>\n",
       "    </tr>\n",
       "    <tr>\n",
       "      <td>2016</td>\n",
       "      <td>47,866,299,741.91</td>\n",
       "    </tr>\n",
       "    <tr>\n",
       "      <td>2017</td>\n",
       "      <td>48,563,707,217.51</td>\n",
       "    </tr>\n",
       "    <tr>\n",
       "      <td>2018</td>\n",
       "      <td>49,668,403,134.32</td>\n",
       "    </tr>\n",
       "    <tr>\n",
       "      <td>2019</td>\n",
       "      <td>48,425,708,779.59</td>\n",
       "    </tr>\n",
       "  </tbody>\n",
       "</table>\n",
       "</div>"
      ],
      "text/plain": [
       "            box_office\n",
       "year                  \n",
       "2010      2,428,654.00\n",
       "2011     14,102,765.00\n",
       "2012      6,955,423.00\n",
       "2013     29,799,706.20\n",
       "2014  7,444,951,859.20\n",
       "2015 39,497,365,196.40\n",
       "2016 47,866,299,741.91\n",
       "2017 48,563,707,217.51\n",
       "2018 49,668,403,134.32\n",
       "2019 48,425,708,779.59"
      ]
     },
     "execution_count": 40,
     "metadata": {},
     "output_type": "execute_result"
    }
   ],
   "source": [
    "sum_data = df.pivot_table(index = 'year', values = 'box_office', aggfunc = 'sum')\n",
    "sum_data.columns = ['box_office']\n",
    "sum_data"
   ]
  },
  {
   "cell_type": "code",
   "execution_count": 41,
   "metadata": {
    "id": "tfEhofYvgFyX"
   },
   "outputs": [
    {
     "data": {
      "image/png": "[encoded data removed]",
      "text/plain": [
       "<Figure size 432x288 with 1 Axes>"
      ]
     },
     "metadata": {
      "needs_background": "light"
     },
     "output_type": "display_data"
    }
   ],
   "source": [
    "sum_data.plot( y = 'box_office', grid = True, legend = False)\n",
    "plt.xlabel('Года') , plt.ylabel('Суммы проката, руб.')\n",
    "plt.title('Зависимость суммы сборов от года')\n",
    "plt.show()"
   ]
  },
  {
   "cell_type": "code",
   "execution_count": 42,
   "metadata": {},
   "outputs": [
    {
     "data": {
      "image/png": "[encoded data removed]",
      "text/plain": [
       "<Figure size 432x288 with 1 Axes>"
      ]
     },
     "metadata": {
      "needs_background": "light"
     },
     "output_type": "display_data"
    }
   ],
   "source": [
    "# КОД РЕВЬЮЕРА\n",
    "sum_data.plot( y = 'box_office', grid = True, legend = False)\n",
    "plt.xlabel('Года') , plt.ylabel('Суммы проката, руб.')\n",
    "plt.title('Зависимость цены от года')\n",
    "plt.show()"
   ]
  },
  {
   "cell_type": "markdown",
   "metadata": {},
   "source": [
    "Судя по сводной таблице и графику, наименьшая сумма сборов была в 2010 году, а наибольшаяя в 2018."
   ]
  },
  {
   "cell_type": "markdown",
   "metadata": {
    "id": "G-7qS-N-gFyY"
   },
   "source": [
    "- С помощью сводной таблицы посчитаем среднюю и медианную сумму сборов для каждого года."
   ]
  },
  {
   "cell_type": "code",
   "execution_count": 43,
   "metadata": {
    "id": "jmp-rgg9gFyY"
   },
   "outputs": [
    {
     "data": {
      "text/html": [
       "<div>\n",
       "<style scoped>\n",
       "    .dataframe tbody tr th:only-of-type {\n",
       "        vertical-align: middle;\n",
       "    }\n",
       "\n",
       "    .dataframe tbody tr th {\n",
       "        vertical-align: top;\n",
       "    }\n",
       "\n",
       "    .dataframe thead th {\n",
       "        text-align: right;\n",
       "    }\n",
       "</style>\n",
       "<table border=\"1\" class=\"dataframe\">\n",
       "  <thead>\n",
       "    <tr style=\"text-align: right;\">\n",
       "      <th></th>\n",
       "      <th>median</th>\n",
       "      <th>mean</th>\n",
       "    </tr>\n",
       "    <tr>\n",
       "      <th>year</th>\n",
       "      <th></th>\n",
       "      <th></th>\n",
       "    </tr>\n",
       "  </thead>\n",
       "  <tbody>\n",
       "    <tr>\n",
       "      <td>2010</td>\n",
       "      <td>1,700.00</td>\n",
       "      <td>23,130.04</td>\n",
       "    </tr>\n",
       "    <tr>\n",
       "      <td>2011</td>\n",
       "      <td>3,000.00</td>\n",
       "      <td>129,383.17</td>\n",
       "    </tr>\n",
       "    <tr>\n",
       "      <td>2012</td>\n",
       "      <td>5,660.00</td>\n",
       "      <td>54,339.24</td>\n",
       "    </tr>\n",
       "    <tr>\n",
       "      <td>2013</td>\n",
       "      <td>3,522.50</td>\n",
       "      <td>161,954.92</td>\n",
       "    </tr>\n",
       "    <tr>\n",
       "      <td>2014</td>\n",
       "      <td>18,160.00</td>\n",
       "      <td>26,684,415.27</td>\n",
       "    </tr>\n",
       "    <tr>\n",
       "      <td>2015</td>\n",
       "      <td>4,920,933.00</td>\n",
       "      <td>84,940,570.31</td>\n",
       "    </tr>\n",
       "    <tr>\n",
       "      <td>2016</td>\n",
       "      <td>3,846,679.41</td>\n",
       "      <td>91,000,569.85</td>\n",
       "    </tr>\n",
       "    <tr>\n",
       "      <td>2017</td>\n",
       "      <td>9,968,340.00</td>\n",
       "      <td>136,032,793.33</td>\n",
       "    </tr>\n",
       "    <tr>\n",
       "      <td>2018</td>\n",
       "      <td>8,891,102.21</td>\n",
       "      <td>104,565,059.23</td>\n",
       "    </tr>\n",
       "    <tr>\n",
       "      <td>2019</td>\n",
       "      <td>4,627,798.34</td>\n",
       "      <td>91,369,261.85</td>\n",
       "    </tr>\n",
       "  </tbody>\n",
       "</table>\n",
       "</div>"
      ],
      "text/plain": [
       "           median           mean\n",
       "year                            \n",
       "2010     1,700.00      23,130.04\n",
       "2011     3,000.00     129,383.17\n",
       "2012     5,660.00      54,339.24\n",
       "2013     3,522.50     161,954.92\n",
       "2014    18,160.00  26,684,415.27\n",
       "2015 4,920,933.00  84,940,570.31\n",
       "2016 3,846,679.41  91,000,569.85\n",
       "2017 9,968,340.00 136,032,793.33\n",
       "2018 8,891,102.21 104,565,059.23\n",
       "2019 4,627,798.34  91,369,261.85"
      ]
     },
     "execution_count": 43,
     "metadata": {},
     "output_type": "execute_result"
    }
   ],
   "source": [
    "#сводная таблица по медиане и среднему\n",
    "median_data = df.pivot_table(index = 'year', values ='box_office', aggfunc = ['median','mean'])\n",
    "median_data.columns = ['median','mean']\n",
    "median_data"
   ]
  },
  {
   "cell_type": "markdown",
   "metadata": {},
   "source": [
    "По данным таблицы, можно сделать вывод, что наименьшие суммы сборов были в 2010 году, а наибольшие в 2017 году. Средняя и медианная меры достаточно сильно различаются между собой, что говорит о широком разбросе значений данных, а среднее более чувствительно к выбросам, поэтому значения в этом столбце больше. В данном случае корректнее будет судить по медиане.  "
   ]
  },
  {
   "cell_type": "markdown",
   "metadata": {
    "id": "Ok89WFwJgFyZ"
   },
   "source": [
    "- Определим, влияет ли возрастное ограничение аудитории («6+», «12+», «16+», «18+» и т. д.) на сборы фильма в прокате в период с 2015 по 2019 год? Фильмы с каким возрастным ограничением собрали больше всего денег в прокате? Меняется ли картина в зависимости от года? Если да, предположите, с чем это может быть связано."
   ]
  },
  {
   "cell_type": "code",
   "execution_count": 44,
   "metadata": {
    "id": "jsSbEqfjgFya"
   },
   "outputs": [],
   "source": [
    "good_data = data.query('year >=2015') # выделим данные от 2015 года в отдельную таблицу"
   ]
  },
  {
   "cell_type": "code",
   "execution_count": 45,
   "metadata": {
    "scrolled": true
   },
   "outputs": [
    {
     "data": {
      "text/html": [
       "<div>\n",
       "<style scoped>\n",
       "    .dataframe tbody tr th:only-of-type {\n",
       "        vertical-align: middle;\n",
       "    }\n",
       "\n",
       "    .dataframe tbody tr th {\n",
       "        vertical-align: top;\n",
       "    }\n",
       "\n",
       "    .dataframe thead th {\n",
       "        text-align: right;\n",
       "    }\n",
       "</style>\n",
       "<table border=\"1\" class=\"dataframe\">\n",
       "  <thead>\n",
       "    <tr style=\"text-align: right;\">\n",
       "      <th></th>\n",
       "      <th>box_office</th>\n",
       "    </tr>\n",
       "    <tr>\n",
       "      <th>age_restriction</th>\n",
       "      <th></th>\n",
       "    </tr>\n",
       "  </thead>\n",
       "  <tbody>\n",
       "    <tr>\n",
       "      <td>«0+» - для любой зрительской аудитории</td>\n",
       "      <td>8,890,960.72</td>\n",
       "    </tr>\n",
       "    <tr>\n",
       "      <td>«12+» - для детей старше 12 лет</td>\n",
       "      <td>174,193,812.15</td>\n",
       "    </tr>\n",
       "    <tr>\n",
       "      <td>«16+» - для детей старше 16 лет</td>\n",
       "      <td>94,453,085.27</td>\n",
       "    </tr>\n",
       "    <tr>\n",
       "      <td>«18+» - запрещено для детей</td>\n",
       "      <td>51,464,161.08</td>\n",
       "    </tr>\n",
       "    <tr>\n",
       "      <td>«6+» - для детей старше 6 лет</td>\n",
       "      <td>176,020,854.26</td>\n",
       "    </tr>\n",
       "  </tbody>\n",
       "</table>\n",
       "</div>"
      ],
      "text/plain": [
       "                                           box_office\n",
       "age_restriction                                      \n",
       "«0+» - для любой зрительской аудитории   8,890,960.72\n",
       "«12+» - для детей старше 12 лет        174,193,812.15\n",
       "«16+» - для детей старше 16 лет         94,453,085.27\n",
       "«18+» - запрещено для детей             51,464,161.08\n",
       "«6+» - для детей старше 6 лет          176,020,854.26"
      ]
     },
     "execution_count": 45,
     "metadata": {},
     "output_type": "execute_result"
    }
   ],
   "source": [
    "#создадим сводную таблицу и выведем на экран\n",
    "good_data = good_data.pivot_table(index = 'age_restriction', values = 'box_office')\n",
    "good_data.columns = ['box_office']\n",
    "good_data"
   ]
  },
  {
   "cell_type": "markdown",
   "metadata": {},
   "source": [
    "Меньше всего собирают фильмы для любого возраста. Наибольшие сборы собирают фильмы с ограничением стерше 6 и 12 лет."
   ]
  },
  {
   "cell_type": "markdown",
   "metadata": {
    "id": "l_Kg6Ku4gFya"
   },
   "source": [
    "### Шаг 4. Исследуем фильмы, которые получили государственную поддержку\n",
    "\n",
    "На этом этапе нет конкретных инструкций и заданий — поищем интересные закономерности в данных. Посмотрим, сколько выделяют средств на поддержку кино. Проверим, хорошо ли окупаются такие фильмы, какой у них рейтинг."
   ]
  },
  {
   "cell_type": "markdown",
   "metadata": {},
   "source": [
    "Создадим отдельную таблицу, в которой будет обязательно больше или равно нулю будут или возвратные, или невозвратные средства государственной поддержки."
   ]
  },
  {
   "cell_type": "code",
   "execution_count": 46,
   "metadata": {
    "id": "W9QKpjUdgFyb"
   },
   "outputs": [
    {
     "name": "stdout",
     "output_type": "stream",
     "text": [
      "<class 'pandas.core.frame.DataFrame'>\n",
      "Int64Index: 332 entries, 1281 to 7478\n",
      "Data columns (total 20 columns):\n",
      "title                    332 non-null object\n",
      "puNumber                 332 non-null int64\n",
      "show_start_date          332 non-null datetime64[ns]\n",
      "type                     332 non-null object\n",
      "film_studio              332 non-null object\n",
      "production_country       332 non-null object\n",
      "director                 332 non-null object\n",
      "producer                 332 non-null object\n",
      "age_restriction          332 non-null object\n",
      "refundable_support       332 non-null float64\n",
      "nonrefundable_support    332 non-null float64\n",
      "budget                   332 non-null float64\n",
      "financing_source         332 non-null object\n",
      "ratings                  332 non-null object\n",
      "genres                   332 non-null object\n",
      "box_office               318 non-null float64\n",
      "year                     332 non-null int64\n",
      "first_director           332 non-null object\n",
      "main_genre               332 non-null object\n",
      "part_support             332 non-null float64\n",
      "dtypes: datetime64[ns](1), float64(5), int64(2), object(12)\n",
      "memory usage: 54.5+ KB\n"
     ]
    }
   ],
   "source": [
    "gover = data.query('refundable_support >= 0 or refundable_support >= 0')\n",
    "gover.info()"
   ]
  },
  {
   "cell_type": "markdown",
   "metadata": {},
   "source": [
    "Посмотрим в каких годах фильмов выходило больше, а в каких меньше."
   ]
  },
  {
   "cell_type": "code",
   "execution_count": 48,
   "metadata": {},
   "outputs": [
    {
     "data": {
      "image/png": "[encoded data removed]",
      "text/plain": [
       "<Figure size 432x288 with 1 Axes>"
      ]
     },
     "metadata": {
      "needs_background": "light"
     },
     "output_type": "display_data"
    }
   ],
   "source": [
    "gover['year'].hist(bins = 10,range = (2010,2020))  #построение гистогрммы\n",
    "plt.xlabel('Года'), plt.ylabel('Количество фильмов, шт.')\n",
    "plt.title('Количество фильмов за определенный год')\n",
    "plt.show()"
   ]
  },
  {
   "cell_type": "markdown",
   "metadata": {},
   "source": [
    "Судя по гистограмме, с 2010 года по 2012 государство не обеспечивало фильмы. Больше всего денег выделили в 2015 году. Сократим таблицу до 2013 года."
   ]
  },
  {
   "cell_type": "code",
   "execution_count": 49,
   "metadata": {},
   "outputs": [],
   "source": [
    "gover = gover.query('year > 2012')"
   ]
  },
  {
   "cell_type": "markdown",
   "metadata": {},
   "source": [
    "Посмотрим на окупаемость фильмов. Создадим новый столбец окупаемости, а затем сводную таблицу с медианным значением по окупаемости."
   ]
  },
  {
   "cell_type": "code",
   "execution_count": 50,
   "metadata": {},
   "outputs": [
    {
     "data": {
      "text/html": [
       "<div>\n",
       "<style scoped>\n",
       "    .dataframe tbody tr th:only-of-type {\n",
       "        vertical-align: middle;\n",
       "    }\n",
       "\n",
       "    .dataframe tbody tr th {\n",
       "        vertical-align: top;\n",
       "    }\n",
       "\n",
       "    .dataframe thead th {\n",
       "        text-align: right;\n",
       "    }\n",
       "</style>\n",
       "<table border=\"1\" class=\"dataframe\">\n",
       "  <thead>\n",
       "    <tr style=\"text-align: right;\">\n",
       "      <th></th>\n",
       "      <th>median</th>\n",
       "    </tr>\n",
       "    <tr>\n",
       "      <th>year</th>\n",
       "      <th></th>\n",
       "    </tr>\n",
       "  </thead>\n",
       "  <tbody>\n",
       "    <tr>\n",
       "      <td>2013</td>\n",
       "      <td>-57,012,779.95</td>\n",
       "    </tr>\n",
       "    <tr>\n",
       "      <td>2014</td>\n",
       "      <td>-22,633,116.65</td>\n",
       "    </tr>\n",
       "    <tr>\n",
       "      <td>2015</td>\n",
       "      <td>-23,145,665.50</td>\n",
       "    </tr>\n",
       "    <tr>\n",
       "      <td>2016</td>\n",
       "      <td>-24,593,903.25</td>\n",
       "    </tr>\n",
       "    <tr>\n",
       "      <td>2017</td>\n",
       "      <td>15,108,014.76</td>\n",
       "    </tr>\n",
       "    <tr>\n",
       "      <td>2018</td>\n",
       "      <td>-5,886,927.41</td>\n",
       "    </tr>\n",
       "    <tr>\n",
       "      <td>2019</td>\n",
       "      <td>-18,581,584.79</td>\n",
       "    </tr>\n",
       "  </tbody>\n",
       "</table>\n",
       "</div>"
      ],
      "text/plain": [
       "             median\n",
       "year               \n",
       "2013 -57,012,779.95\n",
       "2014 -22,633,116.65\n",
       "2015 -23,145,665.50\n",
       "2016 -24,593,903.25\n",
       "2017  15,108,014.76\n",
       "2018  -5,886,927.41\n",
       "2019 -18,581,584.79"
      ]
     },
     "execution_count": 50,
     "metadata": {},
     "output_type": "execute_result"
    }
   ],
   "source": [
    "gover['payback'] = gover['box_office'] - gover['refundable_support'] - gover['nonrefundable_support']\n",
    "median_gover = gover.pivot_table(index = 'year', values ='payback', aggfunc = 'median')\n",
    "median_gover.columns = ['median']\n",
    "median_gover"
   ]
  },
  {
   "cell_type": "code",
   "execution_count": 51,
   "metadata": {},
   "outputs": [
    {
     "data": {
      "image/png": "[encoded data removed]",
      "text/plain": [
       "<Figure size 432x288 with 1 Axes>"
      ]
     },
     "metadata": {
      "needs_background": "light"
     },
     "output_type": "display_data"
    }
   ],
   "source": [
    "median_gover.plot( y = 'median', grid = True, legend = False)\n",
    "plt.xlabel('Года') , plt.ylabel('Окупаемость, руб.')\n",
    "plt.title('Зависимость окупаемости от года')\n",
    "plt.show()"
   ]
  },
  {
   "cell_type": "markdown",
   "metadata": {},
   "source": [
    "По данным таблицы и диаграммы, можно сделать вывод, что в 2017 чаще всего фильмы окупались, чего нельзя сказать про другие года."
   ]
  },
  {
   "cell_type": "markdown",
   "metadata": {},
   "source": [
    "Оценим на какое ограничение по возрасту выделяется больше бюджета."
   ]
  },
  {
   "cell_type": "code",
   "execution_count": 52,
   "metadata": {
    "scrolled": true
   },
   "outputs": [
    {
     "data": {
      "text/html": [
       "<div>\n",
       "<style scoped>\n",
       "    .dataframe tbody tr th:only-of-type {\n",
       "        vertical-align: middle;\n",
       "    }\n",
       "\n",
       "    .dataframe tbody tr th {\n",
       "        vertical-align: top;\n",
       "    }\n",
       "\n",
       "    .dataframe thead th {\n",
       "        text-align: right;\n",
       "    }\n",
       "</style>\n",
       "<table border=\"1\" class=\"dataframe\">\n",
       "  <thead>\n",
       "    <tr style=\"text-align: right;\">\n",
       "      <th></th>\n",
       "      <th>budget</th>\n",
       "    </tr>\n",
       "    <tr>\n",
       "      <th>age_restriction</th>\n",
       "      <th></th>\n",
       "    </tr>\n",
       "  </thead>\n",
       "  <tbody>\n",
       "    <tr>\n",
       "      <td>«0+» - для любой зрительской аудитории</td>\n",
       "      <td>112,873,073.12</td>\n",
       "    </tr>\n",
       "    <tr>\n",
       "      <td>«12+» - для детей старше 12 лет</td>\n",
       "      <td>147,056,094.42</td>\n",
       "    </tr>\n",
       "    <tr>\n",
       "      <td>«16+» - для детей старше 16 лет</td>\n",
       "      <td>94,732,735.49</td>\n",
       "    </tr>\n",
       "    <tr>\n",
       "      <td>«18+» - запрещено для детей</td>\n",
       "      <td>82,494,184.11</td>\n",
       "    </tr>\n",
       "    <tr>\n",
       "      <td>«6+» - для детей старше 6 лет</td>\n",
       "      <td>199,844,241.83</td>\n",
       "    </tr>\n",
       "  </tbody>\n",
       "</table>\n",
       "</div>"
      ],
      "text/plain": [
       "                                               budget\n",
       "age_restriction                                      \n",
       "«0+» - для любой зрительской аудитории 112,873,073.12\n",
       "«12+» - для детей старше 12 лет        147,056,094.42\n",
       "«16+» - для детей старше 16 лет         94,732,735.49\n",
       "«18+» - запрещено для детей             82,494,184.11\n",
       "«6+» - для детей старше 6 лет          199,844,241.83"
      ]
     },
     "execution_count": 52,
     "metadata": {},
     "output_type": "execute_result"
    }
   ],
   "source": [
    "gover_budg = gover.pivot_table(index = 'age_restriction', values = 'budget') #построение сводной таблицы\n",
    "gover_budg.columns = ['budget']\n",
    "gover_budg"
   ]
  },
  {
   "cell_type": "markdown",
   "metadata": {},
   "source": [
    "По сводной таблице видно,что на ограничение по возрасту 18+ выделяется меньше денег. Наибольшее количество денег выделяется на ограничение по возрасту 6+."
   ]
  },
  {
   "cell_type": "markdown",
   "metadata": {},
   "source": [
    "Посмотрим какой чаще всего рейтинг у представленных фильмов."
   ]
  },
  {
   "cell_type": "code",
   "execution_count": 53,
   "metadata": {},
   "outputs": [],
   "source": [
    "gover_rating = gover.query('ratings != \"unknown\"')\n",
    "gover_rating['ratings'] = gover_rating['ratings'].astype(int)"
   ]
  },
  {
   "cell_type": "code",
   "execution_count": 54,
   "metadata": {
    "scrolled": true
   },
   "outputs": [
    {
     "data": {
      "image/png": "[encoded data removed]",
      "text/plain": [
       "<Figure size 432x288 with 1 Axes>"
      ]
     },
     "metadata": {
      "needs_background": "light"
     },
     "output_type": "display_data"
    }
   ],
   "source": [
    "gover_rating['ratings'].hist(bins = 9,range = (1,10))  #построение гистогрммы\n",
    "plt.xlabel('Рейтинг'), plt.ylabel('Количество фильмов, шт.')\n",
    "\n",
    "plt.show()"
   ]
  },
  {
   "cell_type": "markdown",
   "metadata": {},
   "source": [
    "Чаще всего таким фильмам ставят рейтинг 6 баллов, реже всего ставят 1 и 9."
   ]
  },
  {
   "cell_type": "markdown",
   "metadata": {},
   "source": [
    "#### Вывод"
   ]
  },
  {
   "cell_type": "markdown",
   "metadata": {},
   "source": [
    "На данном этапе работы был проведен исследовательский анализ данных, построены графики, найдены интересные для анализа выводы."
   ]
  },
  {
   "cell_type": "markdown",
   "metadata": {
    "id": "V2gYwMcPgFyd"
   },
   "source": [
    "### Шаг 5. Напишите общий вывод"
   ]
  },
  {
   "cell_type": "markdown",
   "metadata": {
    "id": "AYRg3dzXgFye"
   },
   "source": [
    "В данной работе был проведен анализ кино. Большее количество фильмов вышло в 2016 и в 2019 годах, меньшее — в 2010. Однако наименьшие суммы сборов были в 2010 году, а наибольшие в 2017 году. 42% от всего количества фильмов, представленных в таблице, вышли в кинотеатрах и имеют сборы. "
   ]
  },
  {
   "cell_type": "markdown",
   "metadata": {},
   "source": [
    "Меньше всего собирают фильмы для любого возраста. Наибольшие сборы собирают фильмы с ограничением старше 6 и 12 лет."
   ]
  },
  {
   "cell_type": "markdown",
   "metadata": {},
   "source": [
    "Судя по гистограмме, с 2010 года по 2012 государство не обеспечивало фильмы. Больше всего денег выделили в 2015 году."
   ]
  },
  {
   "cell_type": "markdown",
   "metadata": {},
   "source": [
    "И в 2017 чаще всего фильмы окупались, чего нельзя сказать про другие года."
   ]
  },
  {
   "cell_type": "markdown",
   "metadata": {},
   "source": [
    "на ограничение по возрасту 18+ выделяется меньше денег. Наибольшее количество денег выделяется на ограничение по возрасту 6+ и 12+."
   ]
  }
 ],
 "metadata": {
  "ExecuteTimeLog": [
   {
    "duration": 537,
    "start_time": "2021-07-07T10:12:08.634Z"
   },
   {
    "duration": 206,
    "start_time": "2021-07-07T10:12:30.191Z"
   },
   {
    "duration": 227,
    "start_time": "2021-07-07T10:12:33.078Z"
   },
   {
    "duration": 153,
    "start_time": "2021-07-07T10:13:42.146Z"
   },
   {
    "duration": 233,
    "start_time": "2021-07-07T10:30:09.252Z"
   },
   {
    "duration": 19,
    "start_time": "2021-07-07T10:30:15.577Z"
   },
   {
    "duration": 18,
    "start_time": "2021-07-07T10:30:57.348Z"
   },
   {
    "duration": 19,
    "start_time": "2021-07-07T10:31:17.452Z"
   },
   {
    "duration": 21,
    "start_time": "2021-07-07T10:31:32.227Z"
   },
   {
    "duration": 27,
    "start_time": "2021-07-07T10:32:06.588Z"
   },
   {
    "duration": 23,
    "start_time": "2021-07-07T10:32:43.645Z"
   },
   {
    "duration": 24,
    "start_time": "2021-07-07T10:33:06.948Z"
   },
   {
    "duration": 7,
    "start_time": "2021-07-07T10:33:28.558Z"
   },
   {
    "duration": 23,
    "start_time": "2021-07-07T10:33:43.761Z"
   },
   {
    "duration": 28,
    "start_time": "2021-07-07T10:34:13.466Z"
   },
   {
    "duration": 23,
    "start_time": "2021-07-07T10:35:56.187Z"
   },
   {
    "duration": 6,
    "start_time": "2021-07-07T10:36:48.182Z"
   },
   {
    "duration": 14,
    "start_time": "2021-07-07T10:37:49.641Z"
   },
   {
    "duration": 6,
    "start_time": "2021-07-07T10:38:06.694Z"
   },
   {
    "duration": 6,
    "start_time": "2021-07-07T10:38:13.493Z"
   },
   {
    "duration": 19,
    "start_time": "2021-07-07T10:38:44.056Z"
   },
   {
    "duration": 186,
    "start_time": "2021-07-07T10:48:35.618Z"
   },
   {
    "duration": 24,
    "start_time": "2021-07-07T10:48:51.498Z"
   },
   {
    "duration": 20,
    "start_time": "2021-07-07T10:48:59.415Z"
   },
   {
    "duration": 20,
    "start_time": "2021-07-07T10:53:02.195Z"
   },
   {
    "duration": 188,
    "start_time": "2021-07-07T10:54:40.486Z"
   },
   {
    "duration": 115,
    "start_time": "2021-07-07T10:54:52.552Z"
   },
   {
    "duration": 214,
    "start_time": "2021-07-07T10:54:56.354Z"
   },
   {
    "duration": 47,
    "start_time": "2021-07-07T10:54:58.282Z"
   },
   {
    "duration": 217,
    "start_time": "2021-07-07T10:59:16.075Z"
   },
   {
    "duration": 51,
    "start_time": "2021-07-07T10:59:16.243Z"
   },
   {
    "duration": 578,
    "start_time": "2021-07-07T10:59:18.774Z"
   },
   {
    "duration": 161,
    "start_time": "2021-07-07T10:59:21.238Z"
   },
   {
    "duration": 59,
    "start_time": "2021-07-07T10:59:21.453Z"
   },
   {
    "duration": 3,
    "start_time": "2021-07-07T11:02:10.786Z"
   },
   {
    "duration": 13,
    "start_time": "2021-07-07T11:07:07.722Z"
   },
   {
    "duration": 26,
    "start_time": "2021-07-07T11:07:17.958Z"
   },
   {
    "duration": 22,
    "start_time": "2021-07-07T11:08:17.939Z"
   },
   {
    "duration": 212,
    "start_time": "2021-07-07T11:08:19.665Z"
   },
   {
    "duration": 21,
    "start_time": "2021-07-07T11:08:29.945Z"
   },
   {
    "duration": 31,
    "start_time": "2021-07-07T11:08:38.899Z"
   },
   {
    "duration": 23,
    "start_time": "2021-07-07T11:08:54.527Z"
   },
   {
    "duration": 8,
    "start_time": "2021-07-07T11:18:55.974Z"
   },
   {
    "duration": 7,
    "start_time": "2021-07-07T11:19:03.639Z"
   },
   {
    "duration": 7,
    "start_time": "2021-07-07T11:19:06.444Z"
   },
   {
    "duration": 578,
    "start_time": "2021-07-07T12:09:59.576Z"
   },
   {
    "duration": 195,
    "start_time": "2021-07-07T12:10:00.156Z"
   },
   {
    "duration": 115,
    "start_time": "2021-07-07T12:10:00.353Z"
   },
   {
    "duration": 3,
    "start_time": "2021-07-07T12:10:00.470Z"
   },
   {
    "duration": 32,
    "start_time": "2021-07-07T12:10:00.474Z"
   },
   {
    "duration": 23,
    "start_time": "2021-07-07T12:10:00.508Z"
   },
   {
    "duration": 19,
    "start_time": "2021-07-07T12:10:00.533Z"
   },
   {
    "duration": 44,
    "start_time": "2021-07-07T12:10:00.553Z"
   },
   {
    "duration": 7,
    "start_time": "2021-07-07T12:10:00.600Z"
   },
   {
    "duration": 7,
    "start_time": "2021-07-07T12:19:45.761Z"
   },
   {
    "duration": 21,
    "start_time": "2021-07-07T12:21:35.482Z"
   },
   {
    "duration": 21,
    "start_time": "2021-07-07T12:29:23.569Z"
   },
   {
    "duration": 525,
    "start_time": "2021-07-07T12:29:44.542Z"
   },
   {
    "duration": 214,
    "start_time": "2021-07-07T12:29:45.069Z"
   },
   {
    "duration": 92,
    "start_time": "2021-07-07T12:29:45.285Z"
   },
   {
    "duration": 3,
    "start_time": "2021-07-07T12:29:45.379Z"
   },
   {
    "duration": 28,
    "start_time": "2021-07-07T12:29:45.384Z"
   },
   {
    "duration": 23,
    "start_time": "2021-07-07T12:29:45.413Z"
   },
   {
    "duration": 21,
    "start_time": "2021-07-07T12:29:45.437Z"
   },
   {
    "duration": 41,
    "start_time": "2021-07-07T12:29:45.460Z"
   },
   {
    "duration": 7,
    "start_time": "2021-07-07T12:29:45.502Z"
   },
   {
    "duration": 20,
    "start_time": "2021-07-07T12:29:45.511Z"
   },
   {
    "duration": 12,
    "start_time": "2021-07-07T12:34:02.800Z"
   },
   {
    "duration": 7,
    "start_time": "2021-07-07T12:35:10.479Z"
   },
   {
    "duration": 8,
    "start_time": "2021-07-07T12:35:22.440Z"
   },
   {
    "duration": 6,
    "start_time": "2021-07-07T12:35:35.649Z"
   },
   {
    "duration": 6,
    "start_time": "2021-07-07T12:35:43.107Z"
   },
   {
    "duration": 22,
    "start_time": "2021-07-07T12:38:03.029Z"
   },
   {
    "duration": 10,
    "start_time": "2021-07-07T12:38:06.592Z"
   },
   {
    "duration": 563,
    "start_time": "2021-07-07T12:38:46.493Z"
   },
   {
    "duration": 265,
    "start_time": "2021-07-07T12:38:47.058Z"
   },
   {
    "duration": 94,
    "start_time": "2021-07-07T12:38:47.325Z"
   },
   {
    "duration": 3,
    "start_time": "2021-07-07T12:38:47.422Z"
   },
   {
    "duration": 30,
    "start_time": "2021-07-07T12:38:47.427Z"
   },
   {
    "duration": 16,
    "start_time": "2021-07-07T12:38:53.305Z"
   },
   {
    "duration": 10,
    "start_time": "2021-07-07T12:38:53.499Z"
   },
   {
    "duration": 8,
    "start_time": "2021-07-07T12:39:48.161Z"
   },
   {
    "duration": 27,
    "start_time": "2021-07-07T12:41:17.629Z"
   },
   {
    "duration": 17,
    "start_time": "2021-07-07T12:41:17.867Z"
   },
   {
    "duration": 21,
    "start_time": "2021-07-07T12:41:19.310Z"
   },
   {
    "duration": 7,
    "start_time": "2021-07-07T12:41:19.544Z"
   },
   {
    "duration": 20,
    "start_time": "2021-07-07T12:41:20.504Z"
   },
   {
    "duration": 554,
    "start_time": "2021-07-07T12:56:23.696Z"
   },
   {
    "duration": 200,
    "start_time": "2021-07-07T12:56:25.234Z"
   },
   {
    "duration": 119,
    "start_time": "2021-07-07T12:56:25.480Z"
   },
   {
    "duration": 4,
    "start_time": "2021-07-07T12:56:25.762Z"
   },
   {
    "duration": 26,
    "start_time": "2021-07-07T12:56:27.172Z"
   },
   {
    "duration": 12,
    "start_time": "2021-07-07T12:56:29.051Z"
   },
   {
    "duration": 10,
    "start_time": "2021-07-07T12:56:29.291Z"
   },
   {
    "duration": 8,
    "start_time": "2021-07-07T12:56:29.623Z"
   },
   {
    "duration": 28,
    "start_time": "2021-07-07T12:56:32.137Z"
   },
   {
    "duration": 19,
    "start_time": "2021-07-07T12:56:39.785Z"
   },
   {
    "duration": 20,
    "start_time": "2021-07-07T12:56:44.297Z"
   },
   {
    "duration": 7,
    "start_time": "2021-07-07T12:56:45.392Z"
   },
   {
    "duration": 23,
    "start_time": "2021-07-07T12:56:46.615Z"
   },
   {
    "duration": 4,
    "start_time": "2021-07-07T12:57:06.625Z"
   },
   {
    "duration": 32,
    "start_time": "2021-07-07T12:57:36.690Z"
   },
   {
    "duration": 18,
    "start_time": "2021-07-07T12:58:00.149Z"
   },
   {
    "duration": 15,
    "start_time": "2021-07-07T12:59:16.793Z"
   },
   {
    "duration": 7,
    "start_time": "2021-07-07T13:19:22.624Z"
   },
   {
    "duration": 6,
    "start_time": "2021-07-07T14:17:33.527Z"
   },
   {
    "duration": 9,
    "start_time": "2021-07-07T14:17:48.409Z"
   },
   {
    "duration": 8,
    "start_time": "2021-07-07T14:20:13.060Z"
   },
   {
    "duration": 8,
    "start_time": "2021-07-07T14:20:37.957Z"
   },
   {
    "duration": 8,
    "start_time": "2021-07-07T14:20:47.470Z"
   },
   {
    "duration": 9,
    "start_time": "2021-07-07T14:20:54.503Z"
   },
   {
    "duration": 10,
    "start_time": "2021-07-07T14:28:57.763Z"
   },
   {
    "duration": 3,
    "start_time": "2021-07-07T14:30:23.377Z"
   },
   {
    "duration": 3,
    "start_time": "2021-07-07T14:30:36.489Z"
   },
   {
    "duration": 103,
    "start_time": "2021-07-07T14:30:52.351Z"
   },
   {
    "duration": 8,
    "start_time": "2021-07-07T14:30:54.763Z"
   },
   {
    "duration": 8,
    "start_time": "2021-07-07T14:31:29.301Z"
   },
   {
    "duration": 13,
    "start_time": "2021-07-07T14:31:44.516Z"
   },
   {
    "duration": 7,
    "start_time": "2021-07-07T14:33:10.972Z"
   },
   {
    "duration": 11,
    "start_time": "2021-07-07T14:33:27.780Z"
   },
   {
    "duration": 8,
    "start_time": "2021-07-07T14:34:44.588Z"
   },
   {
    "duration": 57,
    "start_time": "2021-07-07T14:35:59.042Z"
   },
   {
    "duration": 3,
    "start_time": "2021-07-07T14:36:28.168Z"
   },
   {
    "duration": 5,
    "start_time": "2021-07-07T14:36:46.254Z"
   },
   {
    "duration": 4,
    "start_time": "2021-07-07T14:36:52.714Z"
   },
   {
    "duration": 3,
    "start_time": "2021-07-07T14:36:56.612Z"
   },
   {
    "duration": 4,
    "start_time": "2021-07-07T14:36:57.049Z"
   },
   {
    "duration": 3,
    "start_time": "2021-07-07T14:39:21.214Z"
   },
   {
    "duration": 7,
    "start_time": "2021-07-07T14:39:52.406Z"
   },
   {
    "duration": 11,
    "start_time": "2021-07-07T14:39:58.576Z"
   },
   {
    "duration": 9,
    "start_time": "2021-07-07T14:40:26.301Z"
   },
   {
    "duration": 10,
    "start_time": "2021-07-07T14:40:31.704Z"
   },
   {
    "duration": 11,
    "start_time": "2021-07-07T14:40:36.249Z"
   },
   {
    "duration": 10,
    "start_time": "2021-07-07T14:40:39.783Z"
   },
   {
    "duration": 9,
    "start_time": "2021-07-07T14:40:48.558Z"
   },
   {
    "duration": 10,
    "start_time": "2021-07-07T14:40:57.143Z"
   },
   {
    "duration": 9,
    "start_time": "2021-07-07T14:41:06.074Z"
   },
   {
    "duration": 4324,
    "start_time": "2021-07-07T14:41:22.004Z"
   },
   {
    "duration": 11,
    "start_time": "2021-07-07T14:41:33.392Z"
   },
   {
    "duration": 9,
    "start_time": "2021-07-07T14:41:39.288Z"
   },
   {
    "duration": 569,
    "start_time": "2021-07-07T14:42:14.387Z"
   },
   {
    "duration": 197,
    "start_time": "2021-07-07T14:42:14.959Z"
   },
   {
    "duration": 84,
    "start_time": "2021-07-07T14:42:16.052Z"
   },
   {
    "duration": 4,
    "start_time": "2021-07-07T14:42:16.900Z"
   },
   {
    "duration": 27,
    "start_time": "2021-07-07T14:42:19.898Z"
   },
   {
    "duration": 12,
    "start_time": "2021-07-07T14:42:21.577Z"
   },
   {
    "duration": 9,
    "start_time": "2021-07-07T14:42:21.813Z"
   },
   {
    "duration": 9,
    "start_time": "2021-07-07T14:42:22.569Z"
   },
   {
    "duration": 29,
    "start_time": "2021-07-07T14:42:25.837Z"
   },
   {
    "duration": 20,
    "start_time": "2021-07-07T14:42:27.003Z"
   },
   {
    "duration": 21,
    "start_time": "2021-07-07T14:42:28.767Z"
   },
   {
    "duration": 7,
    "start_time": "2021-07-07T14:42:29.838Z"
   },
   {
    "duration": 4,
    "start_time": "2021-07-07T14:43:25.493Z"
   },
   {
    "duration": 7,
    "start_time": "2021-07-07T14:43:26.573Z"
   },
   {
    "duration": 10,
    "start_time": "2021-07-07T14:43:31.639Z"
   },
   {
    "duration": 9,
    "start_time": "2021-07-07T14:43:32.046Z"
   },
   {
    "duration": 10,
    "start_time": "2021-07-07T14:43:33.301Z"
   },
   {
    "duration": 12,
    "start_time": "2021-07-07T14:43:33.658Z"
   },
   {
    "duration": 8,
    "start_time": "2021-07-07T14:43:34.552Z"
   },
   {
    "duration": 9,
    "start_time": "2021-07-07T14:43:35.058Z"
   },
   {
    "duration": 12,
    "start_time": "2021-07-07T14:43:35.914Z"
   },
   {
    "duration": 17,
    "start_time": "2021-07-07T14:45:34.368Z"
   },
   {
    "duration": 512,
    "start_time": "2021-07-07T14:51:58.236Z"
   },
   {
    "duration": 223,
    "start_time": "2021-07-07T14:51:58.750Z"
   },
   {
    "duration": 93,
    "start_time": "2021-07-07T14:51:58.977Z"
   },
   {
    "duration": 4,
    "start_time": "2021-07-07T14:51:59.071Z"
   },
   {
    "duration": 37,
    "start_time": "2021-07-07T14:51:59.077Z"
   },
   {
    "duration": 18,
    "start_time": "2021-07-07T14:51:59.116Z"
   },
   {
    "duration": 10,
    "start_time": "2021-07-07T14:51:59.137Z"
   },
   {
    "duration": 8,
    "start_time": "2021-07-07T14:51:59.149Z"
   },
   {
    "duration": 54,
    "start_time": "2021-07-07T14:51:59.158Z"
   },
   {
    "duration": 18,
    "start_time": "2021-07-07T14:51:59.213Z"
   },
   {
    "duration": 22,
    "start_time": "2021-07-07T14:51:59.232Z"
   },
   {
    "duration": 36,
    "start_time": "2021-07-07T14:51:59.255Z"
   },
   {
    "duration": 7,
    "start_time": "2021-07-07T14:51:59.293Z"
   },
   {
    "duration": 10,
    "start_time": "2021-07-07T14:51:59.302Z"
   },
   {
    "duration": 9,
    "start_time": "2021-07-07T14:51:59.313Z"
   },
   {
    "duration": 11,
    "start_time": "2021-07-07T14:51:59.324Z"
   },
   {
    "duration": 8,
    "start_time": "2021-07-07T14:51:59.337Z"
   },
   {
    "duration": 46,
    "start_time": "2021-07-07T14:51:59.347Z"
   },
   {
    "duration": 22,
    "start_time": "2021-07-07T14:51:59.395Z"
   },
   {
    "duration": 24,
    "start_time": "2021-07-07T14:57:32.911Z"
   },
   {
    "duration": 7,
    "start_time": "2021-07-07T14:58:22.070Z"
   },
   {
    "duration": 4,
    "start_time": "2021-07-07T14:59:11.239Z"
   },
   {
    "duration": 25,
    "start_time": "2021-07-07T15:07:22.208Z"
   },
   {
    "duration": 16,
    "start_time": "2021-07-07T15:08:25.560Z"
   },
   {
    "duration": 15,
    "start_time": "2021-07-07T15:08:40.647Z"
   },
   {
    "duration": 14,
    "start_time": "2021-07-07T15:08:46.669Z"
   },
   {
    "duration": 533,
    "start_time": "2021-07-07T15:18:07.440Z"
   },
   {
    "duration": 173,
    "start_time": "2021-07-07T15:18:07.974Z"
   },
   {
    "duration": 84,
    "start_time": "2021-07-07T15:18:08.149Z"
   },
   {
    "duration": 3,
    "start_time": "2021-07-07T15:18:08.235Z"
   },
   {
    "duration": 30,
    "start_time": "2021-07-07T15:18:08.240Z"
   },
   {
    "duration": 22,
    "start_time": "2021-07-07T15:18:08.272Z"
   },
   {
    "duration": 11,
    "start_time": "2021-07-07T15:18:08.295Z"
   },
   {
    "duration": 11,
    "start_time": "2021-07-07T15:18:08.309Z"
   },
   {
    "duration": 40,
    "start_time": "2021-07-07T15:18:08.322Z"
   },
   {
    "duration": 42,
    "start_time": "2021-07-07T15:18:08.364Z"
   },
   {
    "duration": 22,
    "start_time": "2021-07-07T15:18:08.408Z"
   },
   {
    "duration": 5,
    "start_time": "2021-07-07T15:18:08.432Z"
   },
   {
    "duration": 13,
    "start_time": "2021-07-07T15:18:08.439Z"
   },
   {
    "duration": 9,
    "start_time": "2021-07-07T15:18:08.454Z"
   },
   {
    "duration": 32,
    "start_time": "2021-07-07T15:18:08.465Z"
   },
   {
    "duration": 10,
    "start_time": "2021-07-07T15:18:08.501Z"
   },
   {
    "duration": 7,
    "start_time": "2021-07-07T15:18:08.513Z"
   },
   {
    "duration": 11,
    "start_time": "2021-07-07T15:18:08.521Z"
   },
   {
    "duration": 17,
    "start_time": "2021-07-07T15:18:08.534Z"
   },
   {
    "duration": 44,
    "start_time": "2021-07-07T15:18:08.553Z"
   },
   {
    "duration": 22,
    "start_time": "2021-07-07T15:18:08.599Z"
   },
   {
    "duration": 61,
    "start_time": "2021-07-07T15:18:08.622Z"
   },
   {
    "duration": 7,
    "start_time": "2021-07-07T15:18:39.457Z"
   },
   {
    "duration": 5,
    "start_time": "2021-07-07T16:05:17.020Z"
   },
   {
    "duration": 5,
    "start_time": "2021-07-07T16:51:28.794Z"
   },
   {
    "duration": 546,
    "start_time": "2021-07-07T16:52:26.306Z"
   },
   {
    "duration": 203,
    "start_time": "2021-07-07T16:52:27.523Z"
   },
   {
    "duration": 85,
    "start_time": "2021-07-07T16:52:27.736Z"
   },
   {
    "duration": 4,
    "start_time": "2021-07-07T16:52:27.899Z"
   },
   {
    "duration": 25,
    "start_time": "2021-07-07T16:52:28.674Z"
   },
   {
    "duration": 8,
    "start_time": "2021-07-07T16:52:32.956Z"
   },
   {
    "duration": 18,
    "start_time": "2021-07-07T16:52:35.616Z"
   },
   {
    "duration": 6,
    "start_time": "2021-07-07T16:52:36.913Z"
   },
   {
    "duration": 11,
    "start_time": "2021-07-07T16:52:40.258Z"
   },
   {
    "duration": 10,
    "start_time": "2021-07-07T16:52:46.251Z"
   },
   {
    "duration": 8,
    "start_time": "2021-07-07T16:52:47.182Z"
   },
   {
    "duration": 27,
    "start_time": "2021-07-07T16:53:20.391Z"
   },
   {
    "duration": 20,
    "start_time": "2021-07-07T16:53:22.022Z"
   },
   {
    "duration": 23,
    "start_time": "2021-07-07T16:53:23.690Z"
   },
   {
    "duration": 8,
    "start_time": "2021-07-07T16:53:24.261Z"
   },
   {
    "duration": 4,
    "start_time": "2021-07-07T16:53:38.733Z"
   },
   {
    "duration": 7,
    "start_time": "2021-07-07T16:53:40.445Z"
   },
   {
    "duration": 11,
    "start_time": "2021-07-07T16:53:41.348Z"
   },
   {
    "duration": 13,
    "start_time": "2021-07-07T16:53:45.250Z"
   },
   {
    "duration": 12,
    "start_time": "2021-07-07T16:53:45.467Z"
   },
   {
    "duration": 4,
    "start_time": "2021-07-07T16:55:32.704Z"
   },
   {
    "duration": 12,
    "start_time": "2021-07-07T16:55:49.012Z"
   },
   {
    "duration": 18,
    "start_time": "2021-07-07T16:55:49.547Z"
   },
   {
    "duration": 611,
    "start_time": "2021-07-07T16:58:35.156Z"
   },
   {
    "duration": 200,
    "start_time": "2021-07-07T16:58:35.770Z"
   },
   {
    "duration": 86,
    "start_time": "2021-07-07T16:58:35.972Z"
   },
   {
    "duration": 3,
    "start_time": "2021-07-07T16:58:36.060Z"
   },
   {
    "duration": 27,
    "start_time": "2021-07-07T16:58:36.065Z"
   },
   {
    "duration": 8,
    "start_time": "2021-07-07T16:58:36.094Z"
   },
   {
    "duration": 17,
    "start_time": "2021-07-07T16:58:36.103Z"
   },
   {
    "duration": 5,
    "start_time": "2021-07-07T16:58:36.123Z"
   },
   {
    "duration": 11,
    "start_time": "2021-07-07T16:58:36.130Z"
   },
   {
    "duration": 7,
    "start_time": "2021-07-07T16:58:36.143Z"
   },
   {
    "duration": 37,
    "start_time": "2021-07-07T16:58:36.152Z"
   },
   {
    "duration": 27,
    "start_time": "2021-07-07T16:58:36.191Z"
   },
   {
    "duration": 19,
    "start_time": "2021-07-07T16:58:36.219Z"
   },
   {
    "duration": 49,
    "start_time": "2021-07-07T16:58:36.240Z"
   },
   {
    "duration": 6,
    "start_time": "2021-07-07T16:58:36.291Z"
   },
   {
    "duration": 3,
    "start_time": "2021-07-07T16:58:36.299Z"
   },
   {
    "duration": 13,
    "start_time": "2021-07-07T16:58:36.304Z"
   },
   {
    "duration": 10,
    "start_time": "2021-07-07T16:58:36.319Z"
   },
   {
    "duration": 10,
    "start_time": "2021-07-07T16:58:36.331Z"
   },
   {
    "duration": 44,
    "start_time": "2021-07-07T16:58:36.343Z"
   },
   {
    "duration": 4,
    "start_time": "2021-07-07T16:58:36.388Z"
   },
   {
    "duration": 13,
    "start_time": "2021-07-07T16:58:36.394Z"
   },
   {
    "duration": 16,
    "start_time": "2021-07-07T16:58:36.410Z"
   },
   {
    "duration": 8,
    "start_time": "2021-07-07T17:02:31.629Z"
   },
   {
    "duration": 8,
    "start_time": "2021-07-07T17:02:34.308Z"
   },
   {
    "duration": 6,
    "start_time": "2021-07-07T17:05:13.483Z"
   },
   {
    "duration": 17,
    "start_time": "2021-07-07T17:05:20.606Z"
   },
   {
    "duration": 7,
    "start_time": "2021-07-07T17:05:34.638Z"
   },
   {
    "duration": 3,
    "start_time": "2021-07-07T17:06:31.883Z"
   },
   {
    "duration": 570,
    "start_time": "2021-07-07T17:06:37.165Z"
   },
   {
    "duration": 174,
    "start_time": "2021-07-07T17:06:37.737Z"
   },
   {
    "duration": 47,
    "start_time": "2021-07-07T17:06:37.913Z"
   },
   {
    "duration": 3,
    "start_time": "2021-07-07T17:06:37.962Z"
   },
   {
    "duration": 27,
    "start_time": "2021-07-07T17:06:37.967Z"
   },
   {
    "duration": 7,
    "start_time": "2021-07-07T17:06:37.996Z"
   },
   {
    "duration": 16,
    "start_time": "2021-07-07T17:06:38.005Z"
   },
   {
    "duration": 6,
    "start_time": "2021-07-07T17:06:38.024Z"
   },
   {
    "duration": 12,
    "start_time": "2021-07-07T17:06:38.031Z"
   },
   {
    "duration": 41,
    "start_time": "2021-07-07T17:06:38.045Z"
   },
   {
    "duration": 8,
    "start_time": "2021-07-07T17:06:38.088Z"
   },
   {
    "duration": 26,
    "start_time": "2021-07-07T17:06:38.098Z"
   },
   {
    "duration": 17,
    "start_time": "2021-07-07T17:06:38.126Z"
   },
   {
    "duration": 43,
    "start_time": "2021-07-07T17:06:38.144Z"
   },
   {
    "duration": 6,
    "start_time": "2021-07-07T17:06:38.188Z"
   },
   {
    "duration": 5,
    "start_time": "2021-07-07T17:06:38.195Z"
   },
   {
    "duration": 9,
    "start_time": "2021-07-07T17:06:38.201Z"
   },
   {
    "duration": 12,
    "start_time": "2021-07-07T17:06:38.212Z"
   },
   {
    "duration": 11,
    "start_time": "2021-07-07T17:06:38.226Z"
   },
   {
    "duration": 47,
    "start_time": "2021-07-07T17:06:38.239Z"
   },
   {
    "duration": 4,
    "start_time": "2021-07-07T17:06:38.288Z"
   },
   {
    "duration": 13,
    "start_time": "2021-07-07T17:06:38.293Z"
   },
   {
    "duration": 5,
    "start_time": "2021-07-07T17:06:38.309Z"
   },
   {
    "duration": 18,
    "start_time": "2021-07-07T17:06:38.325Z"
   },
   {
    "duration": 20,
    "start_time": "2021-07-07T17:07:02.805Z"
   },
   {
    "duration": 19,
    "start_time": "2021-07-07T17:07:08.527Z"
   },
   {
    "duration": 19,
    "start_time": "2021-07-07T17:07:12.758Z"
   },
   {
    "duration": 22,
    "start_time": "2021-07-07T17:07:17.497Z"
   },
   {
    "duration": 19,
    "start_time": "2021-07-07T17:07:19.645Z"
   },
   {
    "duration": 10,
    "start_time": "2021-07-07T17:07:34.239Z"
   },
   {
    "duration": 17,
    "start_time": "2021-07-07T17:07:54.144Z"
   },
   {
    "duration": 14,
    "start_time": "2021-07-07T17:08:14.357Z"
   },
   {
    "duration": 616,
    "start_time": "2021-07-07T17:08:45.254Z"
   },
   {
    "duration": 178,
    "start_time": "2021-07-07T17:08:45.872Z"
   },
   {
    "duration": 60,
    "start_time": "2021-07-07T17:08:46.054Z"
   },
   {
    "duration": 3,
    "start_time": "2021-07-07T17:08:46.116Z"
   },
   {
    "duration": 26,
    "start_time": "2021-07-07T17:08:46.121Z"
   },
   {
    "duration": 7,
    "start_time": "2021-07-07T17:08:46.149Z"
   },
   {
    "duration": 17,
    "start_time": "2021-07-07T17:08:46.158Z"
   },
   {
    "duration": 14,
    "start_time": "2021-07-07T17:08:46.176Z"
   },
   {
    "duration": 17,
    "start_time": "2021-07-07T17:08:46.193Z"
   },
   {
    "duration": 9,
    "start_time": "2021-07-07T17:08:46.211Z"
   },
   {
    "duration": 21,
    "start_time": "2021-07-07T17:08:46.221Z"
   },
   {
    "duration": 49,
    "start_time": "2021-07-07T17:08:46.244Z"
   },
   {
    "duration": 24,
    "start_time": "2021-07-07T17:08:46.295Z"
   },
   {
    "duration": 22,
    "start_time": "2021-07-07T17:08:46.321Z"
   },
   {
    "duration": 6,
    "start_time": "2021-07-07T17:08:46.345Z"
   },
   {
    "duration": 5,
    "start_time": "2021-07-07T17:08:46.353Z"
   },
   {
    "duration": 13,
    "start_time": "2021-07-07T17:08:46.386Z"
   },
   {
    "duration": 12,
    "start_time": "2021-07-07T17:08:46.402Z"
   },
   {
    "duration": 10,
    "start_time": "2021-07-07T17:08:46.415Z"
   },
   {
    "duration": 7,
    "start_time": "2021-07-07T17:08:46.427Z"
   },
   {
    "duration": 8,
    "start_time": "2021-07-07T17:08:46.435Z"
   },
   {
    "duration": 68,
    "start_time": "2021-07-07T17:08:46.446Z"
   },
   {
    "duration": 13,
    "start_time": "2021-07-07T17:08:46.516Z"
   },
   {
    "duration": 78,
    "start_time": "2021-07-07T17:08:46.530Z"
   },
   {
    "duration": 40,
    "start_time": "2021-07-07T17:09:08.185Z"
   },
   {
    "duration": 16,
    "start_time": "2021-07-07T17:09:19.324Z"
   },
   {
    "duration": 21,
    "start_time": "2021-07-07T17:09:23.290Z"
   },
   {
    "duration": 13,
    "start_time": "2021-07-07T17:09:54.812Z"
   },
   {
    "duration": 13,
    "start_time": "2021-07-07T17:10:02.039Z"
   },
   {
    "duration": 10,
    "start_time": "2021-07-07T17:10:29.632Z"
   },
   {
    "duration": 13,
    "start_time": "2021-07-07T17:10:52.372Z"
   },
   {
    "duration": 13,
    "start_time": "2021-07-07T17:11:17.270Z"
   },
   {
    "duration": 13,
    "start_time": "2021-07-07T17:14:59.284Z"
   },
   {
    "duration": 547,
    "start_time": "2021-07-07T17:18:52.403Z"
   },
   {
    "duration": 163,
    "start_time": "2021-07-07T17:18:52.952Z"
   },
   {
    "duration": 44,
    "start_time": "2021-07-07T17:18:53.117Z"
   },
   {
    "duration": 3,
    "start_time": "2021-07-07T17:18:53.162Z"
   },
   {
    "duration": 26,
    "start_time": "2021-07-07T17:18:53.167Z"
   },
   {
    "duration": 6,
    "start_time": "2021-07-07T17:18:53.195Z"
   },
   {
    "duration": 15,
    "start_time": "2021-07-07T17:18:53.203Z"
   },
   {
    "duration": 5,
    "start_time": "2021-07-07T17:18:53.220Z"
   },
   {
    "duration": 11,
    "start_time": "2021-07-07T17:18:53.228Z"
   },
   {
    "duration": 9,
    "start_time": "2021-07-07T17:18:53.241Z"
   },
   {
    "duration": 41,
    "start_time": "2021-07-07T17:18:53.252Z"
   },
   {
    "duration": 33,
    "start_time": "2021-07-07T17:18:53.295Z"
   },
   {
    "duration": 19,
    "start_time": "2021-07-07T17:18:53.330Z"
   },
   {
    "duration": 49,
    "start_time": "2021-07-07T17:18:53.350Z"
   },
   {
    "duration": 5,
    "start_time": "2021-07-07T17:18:53.401Z"
   },
   {
    "duration": 5,
    "start_time": "2021-07-07T17:18:53.408Z"
   },
   {
    "duration": 11,
    "start_time": "2021-07-07T17:18:53.414Z"
   },
   {
    "duration": 9,
    "start_time": "2021-07-07T17:18:53.427Z"
   },
   {
    "duration": 10,
    "start_time": "2021-07-07T17:18:53.437Z"
   },
   {
    "duration": 39,
    "start_time": "2021-07-07T17:18:53.448Z"
   },
   {
    "duration": 26,
    "start_time": "2021-07-07T17:18:55.799Z"
   },
   {
    "duration": 598,
    "start_time": "2021-07-07T17:20:17.862Z"
   },
   {
    "duration": 161,
    "start_time": "2021-07-07T17:20:18.462Z"
   },
   {
    "duration": 45,
    "start_time": "2021-07-07T17:20:18.626Z"
   },
   {
    "duration": 4,
    "start_time": "2021-07-07T17:20:18.673Z"
   },
   {
    "duration": 38,
    "start_time": "2021-07-07T17:20:26.877Z"
   },
   {
    "duration": 7,
    "start_time": "2021-07-07T17:20:37.405Z"
   },
   {
    "duration": 19,
    "start_time": "2021-07-07T17:20:51.534Z"
   },
   {
    "duration": 5,
    "start_time": "2021-07-07T17:20:57.228Z"
   },
   {
    "duration": 7,
    "start_time": "2021-07-07T17:21:08.235Z"
   },
   {
    "duration": 19,
    "start_time": "2021-07-07T17:21:42.158Z"
   },
   {
    "duration": 14,
    "start_time": "2021-07-07T17:21:50.225Z"
   },
   {
    "duration": 22,
    "start_time": "2021-07-07T17:22:54.104Z"
   },
   {
    "duration": 5,
    "start_time": "2021-07-07T17:22:56.371Z"
   },
   {
    "duration": 14,
    "start_time": "2021-07-07T17:22:58.316Z"
   },
   {
    "duration": 5,
    "start_time": "2021-07-07T17:22:58.493Z"
   },
   {
    "duration": 35,
    "start_time": "2021-07-07T17:22:59.666Z"
   },
   {
    "duration": 6,
    "start_time": "2021-07-07T17:23:02.410Z"
   },
   {
    "duration": 611,
    "start_time": "2021-07-07T17:24:59.664Z"
   },
   {
    "duration": 178,
    "start_time": "2021-07-07T17:25:01.945Z"
   },
   {
    "duration": 47,
    "start_time": "2021-07-07T17:25:02.125Z"
   },
   {
    "duration": 2,
    "start_time": "2021-07-07T17:25:07.903Z"
   },
   {
    "duration": 254,
    "start_time": "2021-07-07T17:25:08.232Z"
   },
   {
    "duration": 182,
    "start_time": "2021-07-07T17:25:08.671Z"
   },
   {
    "duration": 6,
    "start_time": "2021-07-07T17:25:13.104Z"
   },
   {
    "duration": 36,
    "start_time": "2021-07-07T17:25:13.662Z"
   },
   {
    "duration": 7,
    "start_time": "2021-07-07T17:25:14.528Z"
   },
   {
    "duration": 24,
    "start_time": "2021-07-07T17:25:27.982Z"
   },
   {
    "duration": 3,
    "start_time": "2021-07-07T17:25:48.982Z"
   },
   {
    "duration": 165,
    "start_time": "2021-07-07T17:25:48.987Z"
   },
   {
    "duration": 50,
    "start_time": "2021-07-07T17:25:49.154Z"
   },
   {
    "duration": 4,
    "start_time": "2021-07-07T17:25:49.206Z"
   },
   {
    "duration": 26,
    "start_time": "2021-07-07T17:25:49.212Z"
   },
   {
    "duration": 7,
    "start_time": "2021-07-07T17:25:49.240Z"
   },
   {
    "duration": 16,
    "start_time": "2021-07-07T17:25:49.249Z"
   },
   {
    "duration": 22,
    "start_time": "2021-07-07T17:25:49.266Z"
   },
   {
    "duration": 16,
    "start_time": "2021-07-07T17:25:49.291Z"
   },
   {
    "duration": 9,
    "start_time": "2021-07-07T17:25:49.309Z"
   },
   {
    "duration": 7,
    "start_time": "2021-07-07T17:25:49.319Z"
   },
   {
    "duration": 28,
    "start_time": "2021-07-07T17:25:49.328Z"
   },
   {
    "duration": 44,
    "start_time": "2021-07-07T17:25:49.357Z"
   },
   {
    "duration": 22,
    "start_time": "2021-07-07T17:25:49.403Z"
   },
   {
    "duration": 7,
    "start_time": "2021-07-07T17:25:49.427Z"
   },
   {
    "duration": 3,
    "start_time": "2021-07-07T17:25:49.436Z"
   },
   {
    "duration": 44,
    "start_time": "2021-07-07T17:25:49.441Z"
   },
   {
    "duration": 12,
    "start_time": "2021-07-07T17:25:49.488Z"
   },
   {
    "duration": 13,
    "start_time": "2021-07-07T17:25:49.502Z"
   },
   {
    "duration": 10,
    "start_time": "2021-07-07T17:25:49.516Z"
   },
   {
    "duration": 62,
    "start_time": "2021-07-07T17:25:49.527Z"
   },
   {
    "duration": 26,
    "start_time": "2021-07-07T17:26:51.809Z"
   },
   {
    "duration": 26,
    "start_time": "2021-07-07T17:26:55.759Z"
   },
   {
    "duration": 26,
    "start_time": "2021-07-07T17:27:04.501Z"
   },
   {
    "duration": 25,
    "start_time": "2021-07-07T17:28:24.859Z"
   },
   {
    "duration": 21,
    "start_time": "2021-07-07T17:28:55.250Z"
   },
   {
    "duration": 21,
    "start_time": "2021-07-07T17:28:58.885Z"
   },
   {
    "duration": 7,
    "start_time": "2021-07-07T17:45:40.972Z"
   },
   {
    "duration": 13,
    "start_time": "2021-07-07T17:45:42.529Z"
   },
   {
    "duration": 27,
    "start_time": "2021-07-07T17:45:51.026Z"
   },
   {
    "duration": 518,
    "start_time": "2021-07-07T17:46:15.532Z"
   },
   {
    "duration": 235,
    "start_time": "2021-07-07T17:46:16.053Z"
   },
   {
    "duration": 80,
    "start_time": "2021-07-07T17:46:16.292Z"
   },
   {
    "duration": 5,
    "start_time": "2021-07-07T17:46:16.373Z"
   },
   {
    "duration": 26,
    "start_time": "2021-07-07T17:46:16.380Z"
   },
   {
    "duration": 7,
    "start_time": "2021-07-07T17:46:16.408Z"
   },
   {
    "duration": 16,
    "start_time": "2021-07-07T17:46:16.418Z"
   },
   {
    "duration": 5,
    "start_time": "2021-07-07T17:46:16.436Z"
   },
   {
    "duration": 13,
    "start_time": "2021-07-07T17:46:16.442Z"
   },
   {
    "duration": 35,
    "start_time": "2021-07-07T17:46:16.456Z"
   },
   {
    "duration": 8,
    "start_time": "2021-07-07T17:46:16.493Z"
   },
   {
    "duration": 28,
    "start_time": "2021-07-07T17:46:16.502Z"
   },
   {
    "duration": 17,
    "start_time": "2021-07-07T17:46:16.532Z"
   },
   {
    "duration": 44,
    "start_time": "2021-07-07T17:46:16.551Z"
   },
   {
    "duration": 6,
    "start_time": "2021-07-07T17:46:16.597Z"
   },
   {
    "duration": 4,
    "start_time": "2021-07-07T17:46:16.605Z"
   },
   {
    "duration": 9,
    "start_time": "2021-07-07T17:46:16.610Z"
   },
   {
    "duration": 9,
    "start_time": "2021-07-07T17:46:16.621Z"
   },
   {
    "duration": 10,
    "start_time": "2021-07-07T17:46:16.632Z"
   },
   {
    "duration": 43,
    "start_time": "2021-07-07T17:46:16.644Z"
   },
   {
    "duration": 26,
    "start_time": "2021-07-07T17:46:16.689Z"
   },
   {
    "duration": 19,
    "start_time": "2021-07-07T17:46:16.718Z"
   },
   {
    "duration": 8,
    "start_time": "2021-07-07T17:46:16.738Z"
   },
   {
    "duration": 43,
    "start_time": "2021-07-07T17:46:16.747Z"
   },
   {
    "duration": 19,
    "start_time": "2021-07-07T17:46:16.791Z"
   },
   {
    "duration": 9,
    "start_time": "2021-07-07T17:46:16.812Z"
   },
   {
    "duration": 60,
    "start_time": "2021-07-07T17:46:16.822Z"
   },
   {
    "duration": -8,
    "start_time": "2021-07-07T17:46:16.892Z"
   },
   {
    "duration": 12,
    "start_time": "2021-07-07T17:48:47.707Z"
   },
   {
    "duration": 553,
    "start_time": "2021-07-07T18:10:09.350Z"
   },
   {
    "duration": 230,
    "start_time": "2021-07-07T18:10:09.905Z"
   },
   {
    "duration": 97,
    "start_time": "2021-07-07T18:10:10.137Z"
   },
   {
    "duration": 5,
    "start_time": "2021-07-07T18:10:10.236Z"
   },
   {
    "duration": 29,
    "start_time": "2021-07-07T18:10:10.242Z"
   },
   {
    "duration": 7,
    "start_time": "2021-07-07T18:10:10.272Z"
   },
   {
    "duration": 15,
    "start_time": "2021-07-07T18:10:10.281Z"
   },
   {
    "duration": 4,
    "start_time": "2021-07-07T18:10:10.299Z"
   },
   {
    "duration": 14,
    "start_time": "2021-07-07T18:10:10.305Z"
   },
   {
    "duration": 8,
    "start_time": "2021-07-07T18:10:10.321Z"
   },
   {
    "duration": 8,
    "start_time": "2021-07-07T18:10:10.331Z"
   },
   {
    "duration": 56,
    "start_time": "2021-07-07T18:10:10.341Z"
   },
   {
    "duration": 19,
    "start_time": "2021-07-07T18:10:10.399Z"
   },
   {
    "duration": 23,
    "start_time": "2021-07-07T18:10:10.419Z"
   },
   {
    "duration": 6,
    "start_time": "2021-07-07T18:10:10.444Z"
   },
   {
    "duration": 9,
    "start_time": "2021-07-07T18:10:10.451Z"
   },
   {
    "duration": 30,
    "start_time": "2021-07-07T18:10:10.462Z"
   },
   {
    "duration": 9,
    "start_time": "2021-07-07T18:10:10.494Z"
   },
   {
    "duration": 14,
    "start_time": "2021-07-07T18:10:10.505Z"
   },
   {
    "duration": 7,
    "start_time": "2021-07-07T18:10:10.521Z"
   },
   {
    "duration": 26,
    "start_time": "2021-07-07T18:10:10.530Z"
   },
   {
    "duration": 44,
    "start_time": "2021-07-07T18:10:10.558Z"
   },
   {
    "duration": 7,
    "start_time": "2021-07-07T18:10:10.605Z"
   },
   {
    "duration": 11,
    "start_time": "2021-07-07T18:10:10.614Z"
   },
   {
    "duration": 19,
    "start_time": "2021-07-07T18:10:10.626Z"
   },
   {
    "duration": 44,
    "start_time": "2021-07-07T18:10:10.646Z"
   },
   {
    "duration": 516,
    "start_time": "2021-07-07T18:14:00.826Z"
   },
   {
    "duration": 230,
    "start_time": "2021-07-07T18:14:01.344Z"
   },
   {
    "duration": 105,
    "start_time": "2021-07-07T18:14:01.576Z"
   },
   {
    "duration": 5,
    "start_time": "2021-07-07T18:14:01.683Z"
   },
   {
    "duration": 46,
    "start_time": "2021-07-07T18:14:01.690Z"
   },
   {
    "duration": 7,
    "start_time": "2021-07-07T18:14:01.738Z"
   },
   {
    "duration": 20,
    "start_time": "2021-07-07T18:14:01.747Z"
   },
   {
    "duration": 16,
    "start_time": "2021-07-07T18:14:01.769Z"
   },
   {
    "duration": 14,
    "start_time": "2021-07-07T18:14:01.787Z"
   },
   {
    "duration": 15,
    "start_time": "2021-07-07T18:14:01.803Z"
   },
   {
    "duration": 12,
    "start_time": "2021-07-07T18:14:01.820Z"
   },
   {
    "duration": 35,
    "start_time": "2021-07-07T18:14:01.833Z"
   },
   {
    "duration": 31,
    "start_time": "2021-07-07T18:14:01.869Z"
   },
   {
    "duration": 37,
    "start_time": "2021-07-07T18:14:01.902Z"
   },
   {
    "duration": 8,
    "start_time": "2021-07-07T18:14:01.942Z"
   },
   {
    "duration": 16,
    "start_time": "2021-07-07T18:14:01.952Z"
   },
   {
    "duration": 13,
    "start_time": "2021-07-07T18:14:01.970Z"
   },
   {
    "duration": 32,
    "start_time": "2021-07-07T18:14:01.985Z"
   },
   {
    "duration": 11,
    "start_time": "2021-07-07T18:14:02.019Z"
   },
   {
    "duration": 22,
    "start_time": "2021-07-07T18:14:02.031Z"
   },
   {
    "duration": 27,
    "start_time": "2021-07-07T18:14:02.055Z"
   },
   {
    "duration": 18,
    "start_time": "2021-07-07T18:14:02.084Z"
   },
   {
    "duration": 18,
    "start_time": "2021-07-07T18:14:02.106Z"
   },
   {
    "duration": 11,
    "start_time": "2021-07-07T18:14:02.126Z"
   },
   {
    "duration": 21,
    "start_time": "2021-07-07T18:14:02.138Z"
   },
   {
    "duration": 32,
    "start_time": "2021-07-07T18:14:02.161Z"
   },
   {
    "duration": 28,
    "start_time": "2021-07-07T18:14:44.295Z"
   },
   {
    "duration": 6,
    "start_time": "2021-07-07T18:15:05.834Z"
   },
   {
    "duration": 511,
    "start_time": "2021-07-07T18:15:41.541Z"
   },
   {
    "duration": 183,
    "start_time": "2021-07-07T18:15:42.054Z"
   },
   {
    "duration": 50,
    "start_time": "2021-07-07T18:15:42.239Z"
   },
   {
    "duration": 5,
    "start_time": "2021-07-07T18:15:42.291Z"
   },
   {
    "duration": 48,
    "start_time": "2021-07-07T18:15:42.297Z"
   },
   {
    "duration": 8,
    "start_time": "2021-07-07T18:15:42.346Z"
   },
   {
    "duration": 17,
    "start_time": "2021-07-07T18:15:42.356Z"
   },
   {
    "duration": 15,
    "start_time": "2021-07-07T18:15:42.375Z"
   },
   {
    "duration": 12,
    "start_time": "2021-07-07T18:15:42.392Z"
   },
   {
    "duration": 7,
    "start_time": "2021-07-07T18:15:42.406Z"
   },
   {
    "duration": 7,
    "start_time": "2021-07-07T18:15:42.415Z"
   },
   {
    "duration": 29,
    "start_time": "2021-07-07T18:15:42.423Z"
   },
   {
    "duration": 43,
    "start_time": "2021-07-07T18:15:42.453Z"
   },
   {
    "duration": 18,
    "start_time": "2021-07-07T18:15:42.497Z"
   },
   {
    "duration": 6,
    "start_time": "2021-07-07T18:15:42.516Z"
   },
   {
    "duration": 3,
    "start_time": "2021-07-07T18:15:42.523Z"
   },
   {
    "duration": 18,
    "start_time": "2021-07-07T18:15:42.528Z"
   },
   {
    "duration": 10,
    "start_time": "2021-07-07T18:15:42.547Z"
   },
   {
    "duration": 36,
    "start_time": "2021-07-07T18:15:42.559Z"
   },
   {
    "duration": 8,
    "start_time": "2021-07-07T18:15:42.597Z"
   },
   {
    "duration": 28,
    "start_time": "2021-07-07T18:15:42.606Z"
   },
   {
    "duration": 52,
    "start_time": "2021-07-07T18:15:42.635Z"
   },
   {
    "duration": 7,
    "start_time": "2021-07-07T18:15:42.690Z"
   },
   {
    "duration": 10,
    "start_time": "2021-07-07T18:15:42.699Z"
   },
   {
    "duration": 19,
    "start_time": "2021-07-07T18:15:42.711Z"
   },
   {
    "duration": 9,
    "start_time": "2021-07-07T18:15:42.732Z"
   },
   {
    "duration": 5,
    "start_time": "2021-07-07T18:15:42.743Z"
   },
   {
    "duration": 1450,
    "start_time": "2021-07-07T18:15:51.984Z"
   },
   {
    "duration": 161,
    "start_time": "2021-07-07T18:15:53.435Z"
   },
   {
    "duration": 124,
    "start_time": "2021-07-07T18:15:53.598Z"
   },
   {
    "duration": 5,
    "start_time": "2021-07-07T18:15:53.724Z"
   },
   {
    "duration": 34,
    "start_time": "2021-07-07T18:15:53.730Z"
   },
   {
    "duration": 7,
    "start_time": "2021-07-07T18:15:53.765Z"
   },
   {
    "duration": 15,
    "start_time": "2021-07-07T18:15:53.773Z"
   },
   {
    "duration": 5,
    "start_time": "2021-07-07T18:15:53.791Z"
   },
   {
    "duration": 19,
    "start_time": "2021-07-07T18:15:53.798Z"
   },
   {
    "duration": 9,
    "start_time": "2021-07-07T18:15:53.818Z"
   },
   {
    "duration": 19,
    "start_time": "2021-07-07T18:15:53.828Z"
   },
   {
    "duration": 27,
    "start_time": "2021-07-07T18:15:53.848Z"
   },
   {
    "duration": 16,
    "start_time": "2021-07-07T18:15:53.884Z"
   },
   {
    "duration": 29,
    "start_time": "2021-07-07T18:15:53.901Z"
   },
   {
    "duration": 5,
    "start_time": "2021-07-07T18:15:53.932Z"
   },
   {
    "duration": 15,
    "start_time": "2021-07-07T18:15:53.939Z"
   },
   {
    "duration": 13,
    "start_time": "2021-07-07T18:15:53.956Z"
   },
   {
    "duration": 20,
    "start_time": "2021-07-07T18:15:53.971Z"
   },
   {
    "duration": 14,
    "start_time": "2021-07-07T18:15:53.992Z"
   },
   {
    "duration": 9,
    "start_time": "2021-07-07T18:15:54.009Z"
   },
   {
    "duration": 28,
    "start_time": "2021-07-07T18:15:54.020Z"
   },
   {
    "duration": 50,
    "start_time": "2021-07-07T18:15:54.051Z"
   },
   {
    "duration": 8,
    "start_time": "2021-07-07T18:15:54.105Z"
   },
   {
    "duration": 11,
    "start_time": "2021-07-07T18:15:54.115Z"
   },
   {
    "duration": 20,
    "start_time": "2021-07-07T18:15:54.128Z"
   },
   {
    "duration": 13,
    "start_time": "2021-07-07T18:15:54.184Z"
   },
   {
    "duration": 7,
    "start_time": "2021-07-07T18:15:54.199Z"
   },
   {
    "duration": 7,
    "start_time": "2021-07-07T18:17:08.042Z"
   },
   {
    "duration": 8,
    "start_time": "2021-07-07T18:17:21.008Z"
   },
   {
    "duration": 7,
    "start_time": "2021-07-07T18:17:29.003Z"
   },
   {
    "duration": 8,
    "start_time": "2021-07-07T18:17:32.492Z"
   },
   {
    "duration": 9,
    "start_time": "2021-07-07T18:17:41.758Z"
   },
   {
    "duration": 255,
    "start_time": "2021-07-07T18:20:20.897Z"
   },
   {
    "duration": 173,
    "start_time": "2021-07-07T18:20:26.636Z"
   },
   {
    "duration": 7,
    "start_time": "2021-07-07T18:21:47.164Z"
   },
   {
    "duration": 254,
    "start_time": "2021-07-07T18:23:08.703Z"
   },
   {
    "duration": 21,
    "start_time": "2021-07-07T18:23:22.506Z"
   },
   {
    "duration": 315,
    "start_time": "2021-07-07T18:25:54.801Z"
   },
   {
    "duration": 34,
    "start_time": "2021-07-07T18:26:51.817Z"
   },
   {
    "duration": 327,
    "start_time": "2021-07-07T18:26:56.147Z"
   },
   {
    "duration": 342,
    "start_time": "2021-07-07T18:27:15.887Z"
   },
   {
    "duration": 302,
    "start_time": "2021-07-07T18:28:18.569Z"
   },
   {
    "duration": 226,
    "start_time": "2021-07-07T18:29:20.879Z"
   },
   {
    "duration": 207,
    "start_time": "2021-07-07T18:29:58.114Z"
   },
   {
    "duration": 140,
    "start_time": "2021-07-07T18:32:04.372Z"
   },
   {
    "duration": 158,
    "start_time": "2021-07-07T18:32:32.508Z"
   },
   {
    "duration": 145,
    "start_time": "2021-07-07T18:32:41.365Z"
   },
   {
    "duration": 132,
    "start_time": "2021-07-07T18:32:45.199Z"
   },
   {
    "duration": 11,
    "start_time": "2021-07-07T18:35:24.679Z"
   },
   {
    "duration": 268,
    "start_time": "2021-07-07T18:36:16.145Z"
   },
   {
    "duration": 227,
    "start_time": "2021-07-07T18:37:04.918Z"
   },
   {
    "duration": 3,
    "start_time": "2021-07-07T18:37:33.012Z"
   },
   {
    "duration": 671,
    "start_time": "2021-07-07T18:37:38.295Z"
   },
   {
    "duration": 54,
    "start_time": "2021-07-07T18:37:53.406Z"
   },
   {
    "duration": 631,
    "start_time": "2021-07-07T18:37:56.463Z"
   },
   {
    "duration": 19,
    "start_time": "2021-07-07T18:39:40.535Z"
   },
   {
    "duration": 20,
    "start_time": "2021-07-07T18:40:12.236Z"
   },
   {
    "duration": 633,
    "start_time": "2021-07-07T18:42:00.398Z"
   },
   {
    "duration": 218,
    "start_time": "2021-07-07T18:42:01.033Z"
   },
   {
    "duration": 49,
    "start_time": "2021-07-07T18:42:01.253Z"
   },
   {
    "duration": 5,
    "start_time": "2021-07-07T18:42:01.303Z"
   },
   {
    "duration": 27,
    "start_time": "2021-07-07T18:42:01.310Z"
   },
   {
    "duration": 8,
    "start_time": "2021-07-07T18:42:01.339Z"
   },
   {
    "duration": 20,
    "start_time": "2021-07-07T18:42:01.348Z"
   },
   {
    "duration": 6,
    "start_time": "2021-07-07T18:42:01.386Z"
   },
   {
    "duration": 16,
    "start_time": "2021-07-07T18:42:01.394Z"
   },
   {
    "duration": 9,
    "start_time": "2021-07-07T18:42:01.411Z"
   },
   {
    "duration": 11,
    "start_time": "2021-07-07T18:42:01.421Z"
   },
   {
    "duration": 31,
    "start_time": "2021-07-07T18:42:01.434Z"
   },
   {
    "duration": 18,
    "start_time": "2021-07-07T18:42:01.485Z"
   },
   {
    "duration": 23,
    "start_time": "2021-07-07T18:42:01.505Z"
   },
   {
    "duration": 6,
    "start_time": "2021-07-07T18:42:01.530Z"
   },
   {
    "duration": 10,
    "start_time": "2021-07-07T18:42:01.538Z"
   },
   {
    "duration": 13,
    "start_time": "2021-07-07T18:42:01.550Z"
   },
   {
    "duration": 24,
    "start_time": "2021-07-07T18:42:01.564Z"
   },
   {
    "duration": 20,
    "start_time": "2021-07-07T18:42:01.590Z"
   },
   {
    "duration": 8,
    "start_time": "2021-07-07T18:42:01.611Z"
   },
   {
    "duration": 31,
    "start_time": "2021-07-07T18:42:01.620Z"
   },
   {
    "duration": 39,
    "start_time": "2021-07-07T18:42:01.653Z"
   },
   {
    "duration": 8,
    "start_time": "2021-07-07T18:42:01.696Z"
   },
   {
    "duration": 13,
    "start_time": "2021-07-07T18:42:01.705Z"
   },
   {
    "duration": 20,
    "start_time": "2021-07-07T18:42:01.720Z"
   },
   {
    "duration": 12,
    "start_time": "2021-07-07T18:42:01.741Z"
   },
   {
    "duration": 35,
    "start_time": "2021-07-07T18:42:01.755Z"
   },
   {
    "duration": 14,
    "start_time": "2021-07-07T18:42:01.792Z"
   },
   {
    "duration": 188,
    "start_time": "2021-07-07T18:42:01.808Z"
   },
   {
    "duration": 19,
    "start_time": "2021-07-07T18:42:01.998Z"
   },
   {
    "duration": 175,
    "start_time": "2021-07-07T18:42:02.019Z"
   },
   {
    "duration": 134,
    "start_time": "2021-07-07T18:42:02.196Z"
   },
   {
    "duration": 10,
    "start_time": "2021-07-07T18:42:02.331Z"
   },
   {
    "duration": 19,
    "start_time": "2021-07-07T18:42:02.343Z"
   },
   {
    "duration": 628,
    "start_time": "2021-07-07T18:46:30.701Z"
   },
   {
    "duration": 183,
    "start_time": "2021-07-07T18:46:31.331Z"
   },
   {
    "duration": 48,
    "start_time": "2021-07-07T18:46:31.516Z"
   },
   {
    "duration": 5,
    "start_time": "2021-07-07T18:46:31.566Z"
   },
   {
    "duration": 28,
    "start_time": "2021-07-07T18:46:31.572Z"
   },
   {
    "duration": 8,
    "start_time": "2021-07-07T18:46:31.602Z"
   },
   {
    "duration": 19,
    "start_time": "2021-07-07T18:46:31.611Z"
   },
   {
    "duration": 6,
    "start_time": "2021-07-07T18:46:31.633Z"
   },
   {
    "duration": 17,
    "start_time": "2021-07-07T18:46:31.642Z"
   },
   {
    "duration": 10,
    "start_time": "2021-07-07T18:46:31.684Z"
   },
   {
    "duration": 9,
    "start_time": "2021-07-07T18:46:31.695Z"
   },
   {
    "duration": 28,
    "start_time": "2021-07-07T18:46:31.705Z"
   },
   {
    "duration": 18,
    "start_time": "2021-07-07T18:46:31.735Z"
   },
   {
    "duration": 48,
    "start_time": "2021-07-07T18:46:31.755Z"
   },
   {
    "duration": 6,
    "start_time": "2021-07-07T18:46:31.804Z"
   },
   {
    "duration": 4,
    "start_time": "2021-07-07T18:46:31.812Z"
   },
   {
    "duration": 9,
    "start_time": "2021-07-07T18:46:31.817Z"
   },
   {
    "duration": 10,
    "start_time": "2021-07-07T18:46:31.827Z"
   },
   {
    "duration": 12,
    "start_time": "2021-07-07T18:46:31.838Z"
   },
   {
    "duration": 39,
    "start_time": "2021-07-07T18:46:31.851Z"
   },
   {
    "duration": 24,
    "start_time": "2021-07-07T18:46:31.892Z"
   },
   {
    "duration": 15,
    "start_time": "2021-07-07T18:46:31.918Z"
   },
   {
    "duration": 7,
    "start_time": "2021-07-07T18:46:31.936Z"
   },
   {
    "duration": 8,
    "start_time": "2021-07-07T18:46:31.944Z"
   },
   {
    "duration": 19,
    "start_time": "2021-07-07T18:46:31.984Z"
   },
   {
    "duration": 10,
    "start_time": "2021-07-07T18:46:32.004Z"
   },
   {
    "duration": 5,
    "start_time": "2021-07-07T18:46:32.016Z"
   },
   {
    "duration": 9,
    "start_time": "2021-07-07T18:46:32.023Z"
   },
   {
    "duration": 199,
    "start_time": "2021-07-07T18:46:32.033Z"
   },
   {
    "duration": 19,
    "start_time": "2021-07-07T18:46:32.234Z"
   },
   {
    "duration": 159,
    "start_time": "2021-07-07T18:46:32.255Z"
   },
   {
    "duration": 134,
    "start_time": "2021-07-07T18:46:32.416Z"
   },
   {
    "duration": 10,
    "start_time": "2021-07-07T18:46:32.552Z"
   },
   {
    "duration": 34,
    "start_time": "2021-07-07T18:46:32.563Z"
   },
   {
    "duration": 1039,
    "start_time": "2021-07-08T08:41:09.419Z"
   },
   {
    "duration": 333,
    "start_time": "2021-07-08T08:41:10.459Z"
   },
   {
    "duration": 173,
    "start_time": "2021-07-08T08:41:10.794Z"
   },
   {
    "duration": 5,
    "start_time": "2021-07-08T08:41:10.968Z"
   },
   {
    "duration": 25,
    "start_time": "2021-07-08T08:41:10.975Z"
   },
   {
    "duration": 9,
    "start_time": "2021-07-08T08:41:11.002Z"
   },
   {
    "duration": 18,
    "start_time": "2021-07-08T08:41:11.013Z"
   },
   {
    "duration": 6,
    "start_time": "2021-07-08T08:41:11.033Z"
   },
   {
    "duration": 44,
    "start_time": "2021-07-08T08:41:11.042Z"
   },
   {
    "duration": 10,
    "start_time": "2021-07-08T08:41:11.088Z"
   },
   {
    "duration": 9,
    "start_time": "2021-07-08T08:41:11.100Z"
   },
   {
    "duration": 27,
    "start_time": "2021-07-08T08:41:11.111Z"
   },
   {
    "duration": 46,
    "start_time": "2021-07-08T08:41:11.140Z"
   },
   {
    "duration": 17,
    "start_time": "2021-07-08T08:41:11.187Z"
   },
   {
    "duration": 6,
    "start_time": "2021-07-08T08:41:11.206Z"
   },
   {
    "duration": 5,
    "start_time": "2021-07-08T08:41:11.213Z"
   },
   {
    "duration": 10,
    "start_time": "2021-07-08T08:41:11.219Z"
   },
   {
    "duration": 9,
    "start_time": "2021-07-08T08:41:11.230Z"
   },
   {
    "duration": 45,
    "start_time": "2021-07-08T08:41:11.241Z"
   },
   {
    "duration": 7,
    "start_time": "2021-07-08T08:41:11.287Z"
   },
   {
    "duration": 24,
    "start_time": "2021-07-08T08:41:11.296Z"
   },
   {
    "duration": 16,
    "start_time": "2021-07-08T08:41:11.322Z"
   },
   {
    "duration": 7,
    "start_time": "2021-07-08T08:41:11.341Z"
   },
   {
    "duration": 41,
    "start_time": "2021-07-08T08:41:11.349Z"
   },
   {
    "duration": 17,
    "start_time": "2021-07-08T08:41:11.391Z"
   },
   {
    "duration": 9,
    "start_time": "2021-07-08T08:41:11.410Z"
   },
   {
    "duration": 5,
    "start_time": "2021-07-08T08:41:11.421Z"
   },
   {
    "duration": 6,
    "start_time": "2021-07-08T08:41:11.428Z"
   },
   {
    "duration": 198,
    "start_time": "2021-07-08T08:41:11.435Z"
   },
   {
    "duration": 18,
    "start_time": "2021-07-08T08:41:11.635Z"
   },
   {
    "duration": 155,
    "start_time": "2021-07-08T08:41:11.655Z"
   },
   {
    "duration": 138,
    "start_time": "2021-07-08T08:41:11.811Z"
   },
   {
    "duration": 10,
    "start_time": "2021-07-08T08:41:11.950Z"
   },
   {
    "duration": 29,
    "start_time": "2021-07-08T08:41:11.961Z"
   },
   {
    "duration": 171,
    "start_time": "2021-07-08T08:47:44.522Z"
   },
   {
    "duration": 124,
    "start_time": "2021-07-08T08:47:46.872Z"
   },
   {
    "duration": 191,
    "start_time": "2021-07-08T08:47:58.148Z"
   },
   {
    "duration": 191,
    "start_time": "2021-07-08T08:48:07.412Z"
   },
   {
    "duration": 261,
    "start_time": "2021-07-08T08:48:10.385Z"
   },
   {
    "duration": 255,
    "start_time": "2021-07-08T08:48:14.494Z"
   },
   {
    "duration": 219,
    "start_time": "2021-07-08T08:48:22.752Z"
   },
   {
    "duration": 173,
    "start_time": "2021-07-08T08:49:06.395Z"
   },
   {
    "duration": 180,
    "start_time": "2021-07-08T08:49:21.011Z"
   },
   {
    "duration": 6,
    "start_time": "2021-07-08T08:50:31.697Z"
   },
   {
    "duration": 10,
    "start_time": "2021-07-08T08:50:47.394Z"
   },
   {
    "duration": 11,
    "start_time": "2021-07-08T08:53:49.332Z"
   },
   {
    "duration": 171,
    "start_time": "2021-07-08T08:54:28.408Z"
   },
   {
    "duration": 636,
    "start_time": "2021-07-08T09:02:48.385Z"
   },
   {
    "duration": 227,
    "start_time": "2021-07-08T09:02:49.023Z"
   },
   {
    "duration": 104,
    "start_time": "2021-07-08T09:02:49.252Z"
   },
   {
    "duration": 5,
    "start_time": "2021-07-08T09:02:49.358Z"
   },
   {
    "duration": 27,
    "start_time": "2021-07-08T09:02:49.365Z"
   },
   {
    "duration": 8,
    "start_time": "2021-07-08T09:02:49.394Z"
   },
   {
    "duration": 18,
    "start_time": "2021-07-08T09:02:49.404Z"
   },
   {
    "duration": 6,
    "start_time": "2021-07-08T09:02:49.424Z"
   },
   {
    "duration": 11,
    "start_time": "2021-07-08T09:02:49.433Z"
   },
   {
    "duration": 13,
    "start_time": "2021-07-08T09:02:49.485Z"
   },
   {
    "duration": 9,
    "start_time": "2021-07-08T09:02:49.500Z"
   },
   {
    "duration": 38,
    "start_time": "2021-07-08T09:02:49.511Z"
   },
   {
    "duration": 42,
    "start_time": "2021-07-08T09:02:49.551Z"
   },
   {
    "duration": 21,
    "start_time": "2021-07-08T09:02:49.594Z"
   },
   {
    "duration": 6,
    "start_time": "2021-07-08T09:02:49.616Z"
   },
   {
    "duration": 3,
    "start_time": "2021-07-08T09:02:49.623Z"
   },
   {
    "duration": 9,
    "start_time": "2021-07-08T09:02:49.628Z"
   },
   {
    "duration": 52,
    "start_time": "2021-07-08T09:02:49.638Z"
   },
   {
    "duration": 11,
    "start_time": "2021-07-08T09:02:49.692Z"
   },
   {
    "duration": 8,
    "start_time": "2021-07-08T09:02:49.704Z"
   },
   {
    "duration": 27,
    "start_time": "2021-07-08T09:02:49.713Z"
   },
   {
    "duration": 59,
    "start_time": "2021-07-08T09:02:49.741Z"
   },
   {
    "duration": 8,
    "start_time": "2021-07-08T09:02:49.803Z"
   },
   {
    "duration": 14,
    "start_time": "2021-07-08T09:02:49.813Z"
   },
   {
    "duration": 20,
    "start_time": "2021-07-08T09:02:49.829Z"
   },
   {
    "duration": 44,
    "start_time": "2021-07-08T09:02:49.851Z"
   },
   {
    "duration": 14,
    "start_time": "2021-07-08T09:02:49.896Z"
   },
   {
    "duration": 221,
    "start_time": "2021-07-08T09:02:49.912Z"
   },
   {
    "duration": 6,
    "start_time": "2021-07-08T09:02:50.134Z"
   },
   {
    "duration": 206,
    "start_time": "2021-07-08T09:02:50.142Z"
   },
   {
    "duration": 19,
    "start_time": "2021-07-08T09:02:50.350Z"
   },
   {
    "duration": 21,
    "start_time": "2021-07-08T09:02:50.370Z"
   },
   {
    "duration": 20,
    "start_time": "2021-07-08T09:02:50.393Z"
   },
   {
    "duration": 5,
    "start_time": "2021-07-08T09:02:50.414Z"
   },
   {
    "duration": 5,
    "start_time": "2021-07-08T09:03:34.173Z"
   },
   {
    "duration": 6,
    "start_time": "2021-07-08T09:04:49.062Z"
   },
   {
    "duration": 9,
    "start_time": "2021-07-08T09:04:50.118Z"
   },
   {
    "duration": 14,
    "start_time": "2021-07-08T09:04:58.512Z"
   },
   {
    "duration": 9,
    "start_time": "2021-07-08T09:05:10.988Z"
   },
   {
    "duration": 11,
    "start_time": "2021-07-08T09:05:11.743Z"
   },
   {
    "duration": 7,
    "start_time": "2021-07-08T09:05:25.677Z"
   },
   {
    "duration": 13,
    "start_time": "2021-07-08T09:05:47.189Z"
   },
   {
    "duration": 13,
    "start_time": "2021-07-08T09:05:54.755Z"
   },
   {
    "duration": 4,
    "start_time": "2021-07-08T09:06:29.189Z"
   },
   {
    "duration": 244,
    "start_time": "2021-07-08T09:06:29.195Z"
   },
   {
    "duration": 91,
    "start_time": "2021-07-08T09:06:29.441Z"
   },
   {
    "duration": 4,
    "start_time": "2021-07-08T09:06:29.534Z"
   },
   {
    "duration": 28,
    "start_time": "2021-07-08T09:06:29.540Z"
   },
   {
    "duration": 6,
    "start_time": "2021-07-08T09:06:29.570Z"
   },
   {
    "duration": 18,
    "start_time": "2021-07-08T09:06:29.578Z"
   },
   {
    "duration": 5,
    "start_time": "2021-07-08T09:06:29.597Z"
   },
   {
    "duration": 13,
    "start_time": "2021-07-08T09:06:29.605Z"
   },
   {
    "duration": 8,
    "start_time": "2021-07-08T09:06:29.620Z"
   },
   {
    "duration": 7,
    "start_time": "2021-07-08T09:06:29.630Z"
   },
   {
    "duration": 63,
    "start_time": "2021-07-08T09:06:29.639Z"
   },
   {
    "duration": 17,
    "start_time": "2021-07-08T09:06:29.704Z"
   },
   {
    "duration": 20,
    "start_time": "2021-07-08T09:06:29.723Z"
   },
   {
    "duration": 6,
    "start_time": "2021-07-08T09:06:29.745Z"
   },
   {
    "duration": 3,
    "start_time": "2021-07-08T09:06:29.752Z"
   },
   {
    "duration": 7,
    "start_time": "2021-07-08T09:06:29.785Z"
   },
   {
    "duration": 11,
    "start_time": "2021-07-08T09:06:29.794Z"
   },
   {
    "duration": 15,
    "start_time": "2021-07-08T09:06:29.807Z"
   },
   {
    "duration": 8,
    "start_time": "2021-07-08T09:06:29.823Z"
   },
   {
    "duration": 70,
    "start_time": "2021-07-08T09:06:29.832Z"
   },
   {
    "duration": 17,
    "start_time": "2021-07-08T09:06:29.903Z"
   },
   {
    "duration": 9,
    "start_time": "2021-07-08T09:06:29.921Z"
   },
   {
    "duration": 9,
    "start_time": "2021-07-08T09:06:29.932Z"
   },
   {
    "duration": 57,
    "start_time": "2021-07-08T09:06:29.942Z"
   },
   {
    "duration": 11,
    "start_time": "2021-07-08T09:06:30.001Z"
   },
   {
    "duration": 19,
    "start_time": "2021-07-08T09:06:30.016Z"
   },
   {
    "duration": 217,
    "start_time": "2021-07-08T09:06:30.037Z"
   },
   {
    "duration": 6,
    "start_time": "2021-07-08T09:06:30.255Z"
   },
   {
    "duration": 205,
    "start_time": "2021-07-08T09:06:30.263Z"
   },
   {
    "duration": 27,
    "start_time": "2021-07-08T09:06:30.470Z"
   },
   {
    "duration": 11,
    "start_time": "2021-07-08T09:06:30.500Z"
   },
   {
    "duration": 31,
    "start_time": "2021-07-08T09:06:30.513Z"
   },
   {
    "duration": 18,
    "start_time": "2021-07-08T09:06:30.546Z"
   },
   {
    "duration": 11,
    "start_time": "2021-07-08T09:06:30.566Z"
   },
   {
    "duration": 19,
    "start_time": "2021-07-08T09:06:30.579Z"
   },
   {
    "duration": 20,
    "start_time": "2021-07-08T09:06:49.466Z"
   },
   {
    "duration": 9,
    "start_time": "2021-07-08T09:06:51.994Z"
   },
   {
    "duration": 20,
    "start_time": "2021-07-08T09:06:52.273Z"
   },
   {
    "duration": 246,
    "start_time": "2021-07-08T09:10:21.272Z"
   },
   {
    "duration": 84,
    "start_time": "2021-07-08T09:10:21.436Z"
   },
   {
    "duration": 7,
    "start_time": "2021-07-08T09:10:37.608Z"
   },
   {
    "duration": 189,
    "start_time": "2021-07-08T09:10:38.573Z"
   },
   {
    "duration": 185,
    "start_time": "2021-07-08T09:10:53.181Z"
   },
   {
    "duration": 11,
    "start_time": "2021-07-08T09:10:59.549Z"
   },
   {
    "duration": 42,
    "start_time": "2021-07-08T09:10:59.709Z"
   },
   {
    "duration": 12,
    "start_time": "2021-07-08T09:11:02.857Z"
   },
   {
    "duration": 28,
    "start_time": "2021-07-08T09:11:10.062Z"
   },
   {
    "duration": 249,
    "start_time": "2021-07-08T09:11:37.388Z"
   },
   {
    "duration": 232,
    "start_time": "2021-07-08T09:11:49.485Z"
   },
   {
    "duration": 453,
    "start_time": "2021-07-08T09:12:01.546Z"
   },
   {
    "duration": 440,
    "start_time": "2021-07-08T09:12:12.347Z"
   },
   {
    "duration": 213,
    "start_time": "2021-07-08T09:13:32.196Z"
   },
   {
    "duration": 172,
    "start_time": "2021-07-08T09:14:07.400Z"
   },
   {
    "duration": 185,
    "start_time": "2021-07-08T09:14:14.905Z"
   },
   {
    "duration": 209,
    "start_time": "2021-07-08T09:14:40.109Z"
   },
   {
    "duration": 201,
    "start_time": "2021-07-08T09:14:54.506Z"
   },
   {
    "duration": 622,
    "start_time": "2021-07-08T09:18:14.497Z"
   },
   {
    "duration": 220,
    "start_time": "2021-07-08T09:18:15.121Z"
   },
   {
    "duration": 79,
    "start_time": "2021-07-08T09:18:15.343Z"
   },
   {
    "duration": 4,
    "start_time": "2021-07-08T09:18:15.425Z"
   },
   {
    "duration": 24,
    "start_time": "2021-07-08T09:18:15.431Z"
   },
   {
    "duration": 8,
    "start_time": "2021-07-08T09:18:15.457Z"
   },
   {
    "duration": 16,
    "start_time": "2021-07-08T09:18:15.466Z"
   },
   {
    "duration": 5,
    "start_time": "2021-07-08T09:18:15.484Z"
   },
   {
    "duration": 10,
    "start_time": "2021-07-08T09:18:15.493Z"
   },
   {
    "duration": 8,
    "start_time": "2021-07-08T09:18:15.504Z"
   },
   {
    "duration": 7,
    "start_time": "2021-07-08T09:18:15.513Z"
   },
   {
    "duration": 26,
    "start_time": "2021-07-08T09:18:15.522Z"
   },
   {
    "duration": 49,
    "start_time": "2021-07-08T09:18:15.550Z"
   },
   {
    "duration": 21,
    "start_time": "2021-07-08T09:18:15.601Z"
   },
   {
    "duration": 8,
    "start_time": "2021-07-08T09:18:15.624Z"
   },
   {
    "duration": 3,
    "start_time": "2021-07-08T09:18:15.634Z"
   },
   {
    "duration": 8,
    "start_time": "2021-07-08T09:18:15.639Z"
   },
   {
    "duration": 45,
    "start_time": "2021-07-08T09:18:15.649Z"
   },
   {
    "duration": 13,
    "start_time": "2021-07-08T09:18:15.696Z"
   },
   {
    "duration": 10,
    "start_time": "2021-07-08T09:18:15.711Z"
   },
   {
    "duration": 64,
    "start_time": "2021-07-08T09:18:15.722Z"
   },
   {
    "duration": 19,
    "start_time": "2021-07-08T09:18:15.788Z"
   },
   {
    "duration": 9,
    "start_time": "2021-07-08T09:18:15.809Z"
   },
   {
    "duration": 9,
    "start_time": "2021-07-08T09:18:15.820Z"
   },
   {
    "duration": 18,
    "start_time": "2021-07-08T09:18:15.831Z"
   },
   {
    "duration": 43,
    "start_time": "2021-07-08T09:18:15.851Z"
   },
   {
    "duration": 12,
    "start_time": "2021-07-08T09:18:15.897Z"
   },
   {
    "duration": 219,
    "start_time": "2021-07-08T09:18:15.911Z"
   },
   {
    "duration": 8,
    "start_time": "2021-07-08T09:18:16.132Z"
   },
   {
    "duration": 199,
    "start_time": "2021-07-08T09:18:16.141Z"
   },
   {
    "duration": 18,
    "start_time": "2021-07-08T09:18:16.341Z"
   },
   {
    "duration": 24,
    "start_time": "2021-07-08T09:18:16.361Z"
   },
   {
    "duration": 24,
    "start_time": "2021-07-08T09:18:16.387Z"
   },
   {
    "duration": 211,
    "start_time": "2021-07-08T09:18:16.413Z"
   },
   {
    "duration": 18,
    "start_time": "2021-07-08T09:18:16.626Z"
   },
   {
    "duration": 596,
    "start_time": "2021-07-08T10:06:33.623Z"
   },
   {
    "duration": 181,
    "start_time": "2021-07-08T10:06:34.221Z"
   },
   {
    "duration": 176,
    "start_time": "2021-07-08T10:06:34.635Z"
   },
   {
    "duration": 239,
    "start_time": "2021-07-08T10:06:55.572Z"
   },
   {
    "duration": 6,
    "start_time": "2021-07-08T10:06:57.687Z"
   },
   {
    "duration": 4,
    "start_time": "2021-07-08T10:07:03.956Z"
   },
   {
    "duration": 4,
    "start_time": "2021-07-08T10:07:10.376Z"
   },
   {
    "duration": 4,
    "start_time": "2021-07-08T10:17:19.889Z"
   },
   {
    "duration": 3,
    "start_time": "2021-07-08T10:19:19.407Z"
   },
   {
    "duration": 197,
    "start_time": "2021-07-08T10:19:19.412Z"
   },
   {
    "duration": 127,
    "start_time": "2021-07-08T10:19:19.611Z"
   },
   {
    "duration": 4,
    "start_time": "2021-07-08T10:19:19.740Z"
   },
   {
    "duration": 27,
    "start_time": "2021-07-08T10:19:19.746Z"
   },
   {
    "duration": 7,
    "start_time": "2021-07-08T10:19:19.775Z"
   },
   {
    "duration": 30,
    "start_time": "2021-07-08T10:19:19.784Z"
   },
   {
    "duration": 7,
    "start_time": "2021-07-08T10:19:19.817Z"
   },
   {
    "duration": 26,
    "start_time": "2021-07-08T10:19:19.826Z"
   },
   {
    "duration": 18,
    "start_time": "2021-07-08T10:19:19.854Z"
   },
   {
    "duration": 14,
    "start_time": "2021-07-08T10:19:19.874Z"
   },
   {
    "duration": 48,
    "start_time": "2021-07-08T10:19:19.890Z"
   },
   {
    "duration": 17,
    "start_time": "2021-07-08T10:19:19.940Z"
   },
   {
    "duration": 38,
    "start_time": "2021-07-08T10:19:19.959Z"
   },
   {
    "duration": 8,
    "start_time": "2021-07-08T10:19:19.999Z"
   },
   {
    "duration": 15,
    "start_time": "2021-07-08T10:19:20.009Z"
   },
   {
    "duration": 22,
    "start_time": "2021-07-08T10:19:20.026Z"
   },
   {
    "duration": 10,
    "start_time": "2021-07-08T10:19:20.050Z"
   },
   {
    "duration": 10,
    "start_time": "2021-07-08T10:19:20.062Z"
   },
   {
    "duration": 20,
    "start_time": "2021-07-08T10:19:20.073Z"
   },
   {
    "duration": 29,
    "start_time": "2021-07-08T10:19:20.095Z"
   },
   {
    "duration": 17,
    "start_time": "2021-07-08T10:19:20.126Z"
   },
   {
    "duration": 40,
    "start_time": "2021-07-08T10:19:20.146Z"
   },
   {
    "duration": 15,
    "start_time": "2021-07-08T10:19:20.189Z"
   },
   {
    "duration": 19,
    "start_time": "2021-07-08T10:19:20.206Z"
   },
   {
    "duration": 10,
    "start_time": "2021-07-08T10:19:20.226Z"
   },
   {
    "duration": 11,
    "start_time": "2021-07-08T10:19:20.238Z"
   },
   {
    "duration": 297,
    "start_time": "2021-07-08T10:19:20.250Z"
   },
   {
    "duration": 6,
    "start_time": "2021-07-08T10:19:20.549Z"
   },
   {
    "duration": 191,
    "start_time": "2021-07-08T10:19:20.557Z"
   },
   {
    "duration": 19,
    "start_time": "2021-07-08T10:19:20.750Z"
   },
   {
    "duration": 20,
    "start_time": "2021-07-08T10:19:20.771Z"
   },
   {
    "duration": 15,
    "start_time": "2021-07-08T10:19:20.793Z"
   },
   {
    "duration": 222,
    "start_time": "2021-07-08T10:19:20.809Z"
   },
   {
    "duration": 20,
    "start_time": "2021-07-08T10:19:21.033Z"
   },
   {
    "duration": 27,
    "start_time": "2021-07-08T10:45:04.055Z"
   },
   {
    "duration": 8,
    "start_time": "2021-07-08T10:45:08.478Z"
   },
   {
    "duration": 8,
    "start_time": "2021-07-08T10:45:31.982Z"
   },
   {
    "duration": 10,
    "start_time": "2021-07-08T10:46:01.221Z"
   },
   {
    "duration": 17,
    "start_time": "2021-07-08T10:46:40.011Z"
   },
   {
    "duration": 193,
    "start_time": "2021-07-08T10:48:19.471Z"
   },
   {
    "duration": 225,
    "start_time": "2021-07-08T10:49:26.480Z"
   },
   {
    "duration": 204,
    "start_time": "2021-07-08T10:49:59.992Z"
   },
   {
    "duration": 435,
    "start_time": "2021-07-08T10:50:06.779Z"
   },
   {
    "duration": 199,
    "start_time": "2021-07-08T10:50:14.891Z"
   },
   {
    "duration": 204,
    "start_time": "2021-07-08T10:50:18.501Z"
   },
   {
    "duration": 244,
    "start_time": "2021-07-08T10:50:23.359Z"
   },
   {
    "duration": 192,
    "start_time": "2021-07-08T10:50:29.135Z"
   },
   {
    "duration": 218,
    "start_time": "2021-07-08T10:50:33.092Z"
   },
   {
    "duration": 207,
    "start_time": "2021-07-08T10:52:45.381Z"
   },
   {
    "duration": 5,
    "start_time": "2021-07-08T10:53:34.641Z"
   },
   {
    "duration": 196,
    "start_time": "2021-07-08T10:53:41.478Z"
   },
   {
    "duration": 43,
    "start_time": "2021-07-08T10:53:50.335Z"
   },
   {
    "duration": 32,
    "start_time": "2021-07-08T10:53:55.294Z"
   },
   {
    "duration": 55,
    "start_time": "2021-07-08T10:54:09.675Z"
   },
   {
    "duration": 16,
    "start_time": "2021-07-08T10:54:12.260Z"
   },
   {
    "duration": 15,
    "start_time": "2021-07-08T10:54:49.150Z"
   },
   {
    "duration": 20,
    "start_time": "2021-07-08T10:56:07.596Z"
   },
   {
    "duration": 16,
    "start_time": "2021-07-08T10:58:26.276Z"
   },
   {
    "duration": 22,
    "start_time": "2021-07-08T10:59:00.486Z"
   },
   {
    "duration": 18,
    "start_time": "2021-07-08T11:02:09.653Z"
   },
   {
    "duration": 10,
    "start_time": "2021-07-08T11:03:44.331Z"
   },
   {
    "duration": 10,
    "start_time": "2021-07-08T11:03:54.055Z"
   },
   {
    "duration": 12,
    "start_time": "2021-07-08T11:04:41.967Z"
   },
   {
    "duration": 24,
    "start_time": "2021-07-08T11:07:30.732Z"
   },
   {
    "duration": 6,
    "start_time": "2021-07-08T11:07:37.364Z"
   },
   {
    "duration": 16,
    "start_time": "2021-07-08T11:08:01.819Z"
   },
   {
    "duration": 17,
    "start_time": "2021-07-08T11:09:47.488Z"
   },
   {
    "duration": 246,
    "start_time": "2021-07-08T11:10:00.830Z"
   },
   {
    "duration": 18,
    "start_time": "2021-07-08T11:13:55.195Z"
   },
   {
    "duration": 204,
    "start_time": "2021-07-08T11:14:04.951Z"
   },
   {
    "duration": 19,
    "start_time": "2021-07-08T11:15:10.613Z"
   },
   {
    "duration": 680,
    "start_time": "2021-07-08T11:16:25.793Z"
   },
   {
    "duration": 451,
    "start_time": "2021-07-08T11:16:40.313Z"
   },
   {
    "duration": 469,
    "start_time": "2021-07-08T11:17:21.286Z"
   },
   {
    "duration": 20,
    "start_time": "2021-07-08T11:19:12.554Z"
   },
   {
    "duration": 35,
    "start_time": "2021-07-08T11:20:05.484Z"
   },
   {
    "duration": 53,
    "start_time": "2021-07-08T11:21:40.050Z"
   },
   {
    "duration": 13,
    "start_time": "2021-07-08T11:22:26.059Z"
   },
   {
    "duration": 19,
    "start_time": "2021-07-08T11:22:47.419Z"
   },
   {
    "duration": 25,
    "start_time": "2021-07-08T11:23:19.958Z"
   },
   {
    "duration": 29,
    "start_time": "2021-07-08T11:23:25.415Z"
   },
   {
    "duration": 10,
    "start_time": "2021-07-08T11:24:45.138Z"
   },
   {
    "duration": 19,
    "start_time": "2021-07-08T11:24:54.498Z"
   },
   {
    "duration": 12,
    "start_time": "2021-07-08T11:25:32.225Z"
   },
   {
    "duration": 19,
    "start_time": "2021-07-08T11:25:37.092Z"
   },
   {
    "duration": 17,
    "start_time": "2021-07-08T11:25:58.116Z"
   },
   {
    "duration": 15,
    "start_time": "2021-07-08T11:26:02.258Z"
   },
   {
    "duration": 8,
    "start_time": "2021-07-08T11:26:59.682Z"
   },
   {
    "duration": 184,
    "start_time": "2021-07-08T11:27:21.894Z"
   },
   {
    "duration": 8,
    "start_time": "2021-07-08T11:27:23.824Z"
   },
   {
    "duration": 202,
    "start_time": "2021-07-08T11:27:23.962Z"
   },
   {
    "duration": 360,
    "start_time": "2021-07-08T11:28:33.215Z"
   },
   {
    "duration": 231,
    "start_time": "2021-07-08T11:32:05.542Z"
   },
   {
    "duration": 607,
    "start_time": "2021-07-08T11:36:27.854Z"
   },
   {
    "duration": 241,
    "start_time": "2021-07-08T11:36:28.463Z"
   },
   {
    "duration": 67,
    "start_time": "2021-07-08T11:36:28.709Z"
   },
   {
    "duration": 5,
    "start_time": "2021-07-08T11:36:28.778Z"
   },
   {
    "duration": 32,
    "start_time": "2021-07-08T11:36:28.784Z"
   },
   {
    "duration": 11,
    "start_time": "2021-07-08T11:36:28.819Z"
   },
   {
    "duration": 20,
    "start_time": "2021-07-08T11:36:28.834Z"
   },
   {
    "duration": 36,
    "start_time": "2021-07-08T11:36:28.857Z"
   },
   {
    "duration": 16,
    "start_time": "2021-07-08T11:36:28.895Z"
   },
   {
    "duration": 14,
    "start_time": "2021-07-08T11:36:28.913Z"
   },
   {
    "duration": 9,
    "start_time": "2021-07-08T11:36:28.930Z"
   },
   {
    "duration": 55,
    "start_time": "2021-07-08T11:36:28.941Z"
   },
   {
    "duration": 27,
    "start_time": "2021-07-08T11:36:28.999Z"
   },
   {
    "duration": 30,
    "start_time": "2021-07-08T11:36:29.028Z"
   },
   {
    "duration": 31,
    "start_time": "2021-07-08T11:36:29.060Z"
   },
   {
    "duration": 3,
    "start_time": "2021-07-08T11:36:29.093Z"
   },
   {
    "duration": 12,
    "start_time": "2021-07-08T11:36:29.099Z"
   },
   {
    "duration": 11,
    "start_time": "2021-07-08T11:36:29.112Z"
   },
   {
    "duration": 12,
    "start_time": "2021-07-08T11:36:29.125Z"
   },
   {
    "duration": 9,
    "start_time": "2021-07-08T11:36:29.139Z"
   },
   {
    "duration": 31,
    "start_time": "2021-07-08T11:36:29.191Z"
   },
   {
    "duration": 17,
    "start_time": "2021-07-08T11:36:29.226Z"
   },
   {
    "duration": 7,
    "start_time": "2021-07-08T11:36:29.245Z"
   },
   {
    "duration": 10,
    "start_time": "2021-07-08T11:36:29.254Z"
   },
   {
    "duration": 30,
    "start_time": "2021-07-08T11:36:29.292Z"
   },
   {
    "duration": 11,
    "start_time": "2021-07-08T11:36:29.324Z"
   },
   {
    "duration": 11,
    "start_time": "2021-07-08T11:36:29.337Z"
   },
   {
    "duration": 230,
    "start_time": "2021-07-08T11:36:29.349Z"
   },
   {
    "duration": 13,
    "start_time": "2021-07-08T11:36:29.588Z"
   },
   {
    "duration": 205,
    "start_time": "2021-07-08T11:36:29.603Z"
   },
   {
    "duration": 20,
    "start_time": "2021-07-08T11:36:29.810Z"
   },
   {
    "duration": 9,
    "start_time": "2021-07-08T11:36:29.832Z"
   },
   {
    "duration": 16,
    "start_time": "2021-07-08T11:36:29.843Z"
   },
   {
    "duration": 283,
    "start_time": "2021-07-08T11:36:29.861Z"
   },
   {
    "duration": 50,
    "start_time": "2021-07-08T11:36:30.146Z"
   },
   {
    "duration": 14,
    "start_time": "2021-07-08T11:36:30.198Z"
   },
   {
    "duration": 11,
    "start_time": "2021-07-08T11:36:30.214Z"
   },
   {
    "duration": 245,
    "start_time": "2021-07-08T11:36:30.227Z"
   },
   {
    "duration": 439,
    "start_time": "2021-07-08T11:36:30.474Z"
   },
   {
    "duration": 210,
    "start_time": "2021-07-08T11:36:30.915Z"
   },
   {
    "duration": 15,
    "start_time": "2021-07-08T11:36:31.127Z"
   },
   {
    "duration": 17,
    "start_time": "2021-07-08T11:38:20.451Z"
   },
   {
    "duration": 642,
    "start_time": "2021-07-08T11:46:17.881Z"
   },
   {
    "duration": 210,
    "start_time": "2021-07-08T11:46:18.525Z"
   },
   {
    "duration": 104,
    "start_time": "2021-07-08T11:46:18.741Z"
   },
   {
    "duration": 8,
    "start_time": "2021-07-08T11:46:18.847Z"
   },
   {
    "duration": 25,
    "start_time": "2021-07-08T11:46:18.857Z"
   },
   {
    "duration": 14,
    "start_time": "2021-07-08T11:46:18.884Z"
   },
   {
    "duration": 22,
    "start_time": "2021-07-08T11:46:18.900Z"
   },
   {
    "duration": 5,
    "start_time": "2021-07-08T11:46:18.924Z"
   },
   {
    "duration": 13,
    "start_time": "2021-07-08T11:46:18.931Z"
   },
   {
    "duration": 45,
    "start_time": "2021-07-08T11:46:18.946Z"
   },
   {
    "duration": 12,
    "start_time": "2021-07-08T11:46:18.993Z"
   },
   {
    "duration": 38,
    "start_time": "2021-07-08T11:46:19.006Z"
   },
   {
    "duration": 50,
    "start_time": "2021-07-08T11:46:19.046Z"
   },
   {
    "duration": 29,
    "start_time": "2021-07-08T11:46:19.099Z"
   },
   {
    "duration": 7,
    "start_time": "2021-07-08T11:46:19.130Z"
   },
   {
    "duration": 3,
    "start_time": "2021-07-08T11:46:19.139Z"
   },
   {
    "duration": 11,
    "start_time": "2021-07-08T11:46:19.144Z"
   },
   {
    "duration": 40,
    "start_time": "2021-07-08T11:46:19.157Z"
   },
   {
    "duration": 15,
    "start_time": "2021-07-08T11:46:19.199Z"
   },
   {
    "duration": 10,
    "start_time": "2021-07-08T11:46:19.217Z"
   },
   {
    "duration": 68,
    "start_time": "2021-07-08T11:46:19.230Z"
   },
   {
    "duration": 17,
    "start_time": "2021-07-08T11:46:19.301Z"
   },
   {
    "duration": 7,
    "start_time": "2021-07-08T11:46:19.321Z"
   },
   {
    "duration": 11,
    "start_time": "2021-07-08T11:46:19.330Z"
   },
   {
    "duration": 59,
    "start_time": "2021-07-08T11:46:19.343Z"
   },
   {
    "duration": 17,
    "start_time": "2021-07-08T11:46:19.405Z"
   },
   {
    "duration": 16,
    "start_time": "2021-07-08T11:46:19.424Z"
   },
   {
    "duration": 252,
    "start_time": "2021-07-08T11:46:19.443Z"
   },
   {
    "duration": 9,
    "start_time": "2021-07-08T11:46:19.697Z"
   },
   {
    "duration": 224,
    "start_time": "2021-07-08T11:46:19.708Z"
   },
   {
    "duration": 21,
    "start_time": "2021-07-08T11:46:19.934Z"
   },
   {
    "duration": 9,
    "start_time": "2021-07-08T11:46:19.956Z"
   },
   {
    "duration": 32,
    "start_time": "2021-07-08T11:46:19.967Z"
   },
   {
    "duration": 288,
    "start_time": "2021-07-08T11:46:20.004Z"
   },
   {
    "duration": 23,
    "start_time": "2021-07-08T11:46:20.300Z"
   },
   {
    "duration": 11,
    "start_time": "2021-07-08T11:46:20.325Z"
   },
   {
    "duration": 11,
    "start_time": "2021-07-08T11:46:20.339Z"
   },
   {
    "duration": 259,
    "start_time": "2021-07-08T11:46:20.352Z"
   },
   {
    "duration": 438,
    "start_time": "2021-07-08T11:46:20.613Z"
   },
   {
    "duration": 207,
    "start_time": "2021-07-08T11:46:21.054Z"
   },
   {
    "duration": 27,
    "start_time": "2021-07-08T11:46:21.262Z"
   },
   {
    "duration": 19,
    "start_time": "2021-07-08T11:46:21.291Z"
   },
   {
    "duration": 820,
    "start_time": "2021-07-08T11:49:01.655Z"
   },
   {
    "duration": 372,
    "start_time": "2021-07-08T11:49:02.478Z"
   },
   {
    "duration": 98,
    "start_time": "2021-07-08T11:49:02.853Z"
   },
   {
    "duration": 6,
    "start_time": "2021-07-08T11:49:02.953Z"
   },
   {
    "duration": 39,
    "start_time": "2021-07-08T11:49:02.960Z"
   },
   {
    "duration": 9,
    "start_time": "2021-07-08T11:49:03.003Z"
   },
   {
    "duration": 23,
    "start_time": "2021-07-08T11:49:03.014Z"
   },
   {
    "duration": 6,
    "start_time": "2021-07-08T11:49:03.041Z"
   },
   {
    "duration": 20,
    "start_time": "2021-07-08T11:49:03.049Z"
   },
   {
    "duration": 18,
    "start_time": "2021-07-08T11:49:03.084Z"
   },
   {
    "duration": 14,
    "start_time": "2021-07-08T11:49:03.104Z"
   },
   {
    "duration": 39,
    "start_time": "2021-07-08T11:49:03.119Z"
   },
   {
    "duration": 38,
    "start_time": "2021-07-08T11:49:03.160Z"
   },
   {
    "duration": 26,
    "start_time": "2021-07-08T11:49:03.200Z"
   },
   {
    "duration": 7,
    "start_time": "2021-07-08T11:49:03.227Z"
   },
   {
    "duration": 4,
    "start_time": "2021-07-08T11:49:03.236Z"
   },
   {
    "duration": 15,
    "start_time": "2021-07-08T11:49:03.243Z"
   },
   {
    "duration": 21,
    "start_time": "2021-07-08T11:49:03.285Z"
   },
   {
    "duration": 17,
    "start_time": "2021-07-08T11:49:03.309Z"
   },
   {
    "duration": 10,
    "start_time": "2021-07-08T11:49:03.328Z"
   },
   {
    "duration": 65,
    "start_time": "2021-07-08T11:49:03.340Z"
   },
   {
    "duration": 18,
    "start_time": "2021-07-08T11:49:03.407Z"
   },
   {
    "duration": 8,
    "start_time": "2021-07-08T11:49:03.428Z"
   },
   {
    "duration": 15,
    "start_time": "2021-07-08T11:49:03.438Z"
   },
   {
    "duration": 40,
    "start_time": "2021-07-08T11:49:03.455Z"
   },
   {
    "duration": 12,
    "start_time": "2021-07-08T11:49:03.497Z"
   },
   {
    "duration": 29,
    "start_time": "2021-07-08T11:49:03.511Z"
   },
   {
    "duration": 285,
    "start_time": "2021-07-08T11:49:03.542Z"
   },
   {
    "duration": 8,
    "start_time": "2021-07-08T11:49:03.829Z"
   },
   {
    "duration": 227,
    "start_time": "2021-07-08T11:49:03.838Z"
   },
   {
    "duration": 40,
    "start_time": "2021-07-08T11:49:04.066Z"
   },
   {
    "duration": 10,
    "start_time": "2021-07-08T11:49:04.108Z"
   },
   {
    "duration": 26,
    "start_time": "2021-07-08T11:49:04.121Z"
   },
   {
    "duration": 290,
    "start_time": "2021-07-08T11:49:04.149Z"
   },
   {
    "duration": 26,
    "start_time": "2021-07-08T11:49:04.441Z"
   },
   {
    "duration": 31,
    "start_time": "2021-07-08T11:49:04.470Z"
   },
   {
    "duration": 14,
    "start_time": "2021-07-08T11:49:04.503Z"
   },
   {
    "duration": 259,
    "start_time": "2021-07-08T11:49:04.521Z"
   },
   {
    "duration": 480,
    "start_time": "2021-07-08T11:49:04.782Z"
   },
   {
    "duration": 225,
    "start_time": "2021-07-08T11:49:05.264Z"
   },
   {
    "duration": 22,
    "start_time": "2021-07-08T11:49:05.491Z"
   },
   {
    "duration": 24,
    "start_time": "2021-07-08T11:49:05.515Z"
   },
   {
    "duration": 634,
    "start_time": "2021-07-08T11:52:24.960Z"
   },
   {
    "duration": 199,
    "start_time": "2021-07-08T11:52:25.599Z"
   },
   {
    "duration": 106,
    "start_time": "2021-07-08T11:52:25.803Z"
   },
   {
    "duration": 7,
    "start_time": "2021-07-08T11:52:25.911Z"
   },
   {
    "duration": 29,
    "start_time": "2021-07-08T11:52:25.920Z"
   },
   {
    "duration": 7,
    "start_time": "2021-07-08T11:52:25.951Z"
   },
   {
    "duration": 26,
    "start_time": "2021-07-08T11:52:25.961Z"
   },
   {
    "duration": 11,
    "start_time": "2021-07-08T11:52:25.990Z"
   },
   {
    "duration": 29,
    "start_time": "2021-07-08T11:52:26.005Z"
   },
   {
    "duration": 9,
    "start_time": "2021-07-08T11:52:26.036Z"
   },
   {
    "duration": 8,
    "start_time": "2021-07-08T11:52:26.047Z"
   },
   {
    "duration": 63,
    "start_time": "2021-07-08T11:52:26.057Z"
   },
   {
    "duration": 17,
    "start_time": "2021-07-08T11:52:26.122Z"
   },
   {
    "duration": 43,
    "start_time": "2021-07-08T11:52:26.142Z"
   },
   {
    "duration": 17,
    "start_time": "2021-07-08T11:52:26.187Z"
   },
   {
    "duration": 5,
    "start_time": "2021-07-08T11:52:26.206Z"
   },
   {
    "duration": 12,
    "start_time": "2021-07-08T11:52:26.212Z"
   },
   {
    "duration": 11,
    "start_time": "2021-07-08T11:52:26.226Z"
   },
   {
    "duration": 12,
    "start_time": "2021-07-08T11:52:26.238Z"
   },
   {
    "duration": 38,
    "start_time": "2021-07-08T11:52:26.252Z"
   },
   {
    "duration": 40,
    "start_time": "2021-07-08T11:52:26.292Z"
   },
   {
    "duration": 17,
    "start_time": "2021-07-08T11:52:26.336Z"
   },
   {
    "duration": 39,
    "start_time": "2021-07-08T11:52:26.355Z"
   },
   {
    "duration": 11,
    "start_time": "2021-07-08T11:52:26.395Z"
   },
   {
    "duration": 23,
    "start_time": "2021-07-08T11:52:26.408Z"
   },
   {
    "duration": 12,
    "start_time": "2021-07-08T11:52:26.432Z"
   },
   {
    "duration": 41,
    "start_time": "2021-07-08T11:52:26.446Z"
   },
   {
    "duration": 215,
    "start_time": "2021-07-08T11:52:26.493Z"
   },
   {
    "duration": 8,
    "start_time": "2021-07-08T11:52:26.710Z"
   },
   {
    "duration": 228,
    "start_time": "2021-07-08T11:52:26.720Z"
   },
   {
    "duration": 18,
    "start_time": "2021-07-08T11:52:26.950Z"
   },
   {
    "duration": 35,
    "start_time": "2021-07-08T11:52:26.969Z"
   },
   {
    "duration": 23,
    "start_time": "2021-07-08T11:52:27.006Z"
   },
   {
    "duration": 258,
    "start_time": "2021-07-08T11:52:27.030Z"
   },
   {
    "duration": 24,
    "start_time": "2021-07-08T11:52:27.290Z"
   },
   {
    "duration": 12,
    "start_time": "2021-07-08T11:52:27.316Z"
   },
   {
    "duration": 10,
    "start_time": "2021-07-08T11:52:27.329Z"
   },
   {
    "duration": 298,
    "start_time": "2021-07-08T11:52:27.341Z"
   },
   {
    "duration": 436,
    "start_time": "2021-07-08T11:52:27.641Z"
   },
   {
    "duration": 216,
    "start_time": "2021-07-08T11:52:28.079Z"
   },
   {
    "duration": 20,
    "start_time": "2021-07-08T11:52:28.297Z"
   },
   {
    "duration": 17,
    "start_time": "2021-07-08T11:52:28.319Z"
   },
   {
    "duration": 564,
    "start_time": "2022-01-25T17:59:11.071Z"
   },
   {
    "duration": 119,
    "start_time": "2022-01-25T17:59:53.065Z"
   },
   {
    "duration": 71,
    "start_time": "2022-01-25T18:01:17.165Z"
   },
   {
    "duration": 84,
    "start_time": "2022-01-25T18:02:12.847Z"
   },
   {
    "duration": 537,
    "start_time": "2022-01-25T18:06:28.960Z"
   },
   {
    "duration": 79,
    "start_time": "2022-01-25T18:06:29.498Z"
   },
   {
    "duration": 59,
    "start_time": "2022-01-25T18:06:29.579Z"
   },
   {
    "duration": 22,
    "start_time": "2022-01-25T18:07:05.574Z"
   },
   {
    "duration": 11,
    "start_time": "2022-01-25T18:07:22.594Z"
   },
   {
    "duration": 6,
    "start_time": "2022-01-25T18:07:44.639Z"
   },
   {
    "duration": 254,
    "start_time": "2022-01-25T18:09:50.983Z"
   },
   {
    "duration": 5,
    "start_time": "2022-01-25T18:20:06.317Z"
   },
   {
    "duration": 1340,
    "start_time": "2022-01-25T18:21:23.502Z"
   },
   {
    "duration": 15,
    "start_time": "2022-01-25T18:23:01.305Z"
   },
   {
    "duration": 16,
    "start_time": "2022-01-25T18:28:18.219Z"
   },
   {
    "duration": 11,
    "start_time": "2022-01-25T18:29:00.561Z"
   },
   {
    "duration": 196,
    "start_time": "2022-01-25T18:29:21.283Z"
   },
   {
    "duration": 546,
    "start_time": "2022-01-25T18:29:37.342Z"
   },
   {
    "duration": 80,
    "start_time": "2022-01-25T18:29:37.890Z"
   },
   {
    "duration": 10,
    "start_time": "2022-01-25T18:29:37.971Z"
   },
   {
    "duration": 32,
    "start_time": "2022-01-25T18:29:37.982Z"
   },
   {
    "duration": 23,
    "start_time": "2022-01-25T18:29:38.016Z"
   },
   {
    "duration": 34,
    "start_time": "2022-01-25T18:29:38.041Z"
   },
   {
    "duration": 5,
    "start_time": "2022-01-25T18:29:38.076Z"
   },
   {
    "duration": 29,
    "start_time": "2022-01-25T18:29:38.083Z"
   },
   {
    "duration": 238,
    "start_time": "2022-01-26T16:54:17.144Z"
   },
   {
    "duration": 604,
    "start_time": "2022-01-26T16:54:23.107Z"
   },
   {
    "duration": 76,
    "start_time": "2022-01-26T16:54:23.713Z"
   },
   {
    "duration": 10,
    "start_time": "2022-01-26T16:54:23.790Z"
   },
   {
    "duration": 18,
    "start_time": "2022-01-26T16:54:23.801Z"
   },
   {
    "duration": 17,
    "start_time": "2022-01-26T16:54:23.821Z"
   },
   {
    "duration": 34,
    "start_time": "2022-01-26T16:54:23.840Z"
   },
   {
    "duration": 5,
    "start_time": "2022-01-26T16:54:23.876Z"
   },
   {
    "duration": 26,
    "start_time": "2022-01-26T16:54:23.883Z"
   },
   {
    "duration": 769,
    "start_time": "2022-01-26T16:54:23.911Z"
   },
   {
    "duration": 211,
    "start_time": "2022-01-26T16:56:23.239Z"
   },
   {
    "duration": 7,
    "start_time": "2022-01-26T17:22:14.411Z"
   },
   {
    "duration": 1237,
    "start_time": "2022-01-26T17:22:19.011Z"
   },
   {
    "duration": 16,
    "start_time": "2022-01-26T17:23:39.903Z"
   },
   {
    "duration": 70,
    "start_time": "2022-01-26T17:23:56.767Z"
   },
   {
    "duration": 222,
    "start_time": "2022-01-26T17:31:15.086Z"
   },
   {
    "duration": 15,
    "start_time": "2022-01-26T17:31:28.946Z"
   },
   {
    "duration": 32,
    "start_time": "2022-01-26T17:33:18.685Z"
   },
   {
    "duration": 481,
    "start_time": "2022-01-26T18:55:51.583Z"
   },
   {
    "duration": 5,
    "start_time": "2022-01-26T18:56:09.159Z"
   },
   {
    "duration": 18,
    "start_time": "2022-01-26T19:02:58.349Z"
   },
   {
    "duration": 25,
    "start_time": "2022-01-26T19:08:24.340Z"
   },
   {
    "duration": 19,
    "start_time": "2022-01-26T19:08:57.109Z"
   },
   {
    "duration": 416,
    "start_time": "2022-01-27T18:14:01.909Z"
   },
   {
    "duration": 845,
    "start_time": "2022-01-27T18:14:07.922Z"
   },
   {
    "duration": 165,
    "start_time": "2022-01-27T18:14:08.770Z"
   },
   {
    "duration": 19,
    "start_time": "2022-01-27T18:14:08.939Z"
   },
   {
    "duration": 26,
    "start_time": "2022-01-27T18:14:08.961Z"
   },
   {
    "duration": 65,
    "start_time": "2022-01-27T18:14:08.990Z"
   },
   {
    "duration": 64,
    "start_time": "2022-01-27T18:14:09.058Z"
   },
   {
    "duration": 9,
    "start_time": "2022-01-27T18:14:09.126Z"
   },
   {
    "duration": 35,
    "start_time": "2022-01-27T18:14:09.138Z"
   },
   {
    "duration": 58,
    "start_time": "2022-01-27T18:14:09.175Z"
   },
   {
    "duration": 529,
    "start_time": "2022-01-27T18:14:09.236Z"
   },
   {
    "duration": -39,
    "start_time": "2022-01-27T18:14:09.807Z"
   },
   {
    "duration": -48,
    "start_time": "2022-01-27T18:14:09.818Z"
   },
   {
    "duration": 25,
    "start_time": "2022-01-27T18:14:40.874Z"
   },
   {
    "duration": 39,
    "start_time": "2022-01-27T18:14:45.798Z"
   },
   {
    "duration": 19,
    "start_time": "2022-01-27T18:14:47.514Z"
   },
   {
    "duration": 27,
    "start_time": "2022-01-27T18:15:16.130Z"
   },
   {
    "duration": 50,
    "start_time": "2022-01-27T18:46:36.442Z"
   },
   {
    "duration": 22,
    "start_time": "2022-01-27T18:47:09.201Z"
   },
   {
    "duration": 21,
    "start_time": "2022-01-27T18:47:40.315Z"
   },
   {
    "duration": 52,
    "start_time": "2022-01-27T18:59:50.545Z"
   },
   {
    "duration": 42,
    "start_time": "2022-01-27T19:00:07.803Z"
   },
   {
    "duration": 19,
    "start_time": "2022-01-27T19:02:24.559Z"
   },
   {
    "duration": 38,
    "start_time": "2022-01-27T19:03:44.717Z"
   },
   {
    "duration": 9,
    "start_time": "2022-01-27T19:05:29.424Z"
   },
   {
    "duration": 9,
    "start_time": "2022-01-27T19:05:41.312Z"
   },
   {
    "duration": 11,
    "start_time": "2022-01-27T19:11:10.599Z"
   },
   {
    "duration": 20,
    "start_time": "2022-01-27T19:12:26.398Z"
   },
   {
    "duration": 29,
    "start_time": "2022-01-27T19:12:42.708Z"
   },
   {
    "duration": 32,
    "start_time": "2022-01-27T20:03:09.315Z"
   },
   {
    "duration": 41,
    "start_time": "2022-01-27T20:05:48.750Z"
   },
   {
    "duration": 9,
    "start_time": "2022-01-27T20:07:26.382Z"
   },
   {
    "duration": 8,
    "start_time": "2022-01-27T20:07:39.504Z"
   },
   {
    "duration": 437,
    "start_time": "2022-01-28T16:52:02.851Z"
   },
   {
    "duration": 797,
    "start_time": "2022-01-28T16:52:08.921Z"
   },
   {
    "duration": 373,
    "start_time": "2022-01-28T16:52:09.720Z"
   },
   {
    "duration": 14,
    "start_time": "2022-01-28T16:52:10.096Z"
   },
   {
    "duration": 23,
    "start_time": "2022-01-28T16:52:10.113Z"
   },
   {
    "duration": 49,
    "start_time": "2022-01-28T16:52:10.138Z"
   },
   {
    "duration": 125,
    "start_time": "2022-01-28T16:52:10.190Z"
   },
   {
    "duration": 8,
    "start_time": "2022-01-28T16:52:10.317Z"
   },
   {
    "duration": 32,
    "start_time": "2022-01-28T16:52:10.328Z"
   },
   {
    "duration": 26,
    "start_time": "2022-01-28T16:52:10.363Z"
   },
   {
    "duration": 22,
    "start_time": "2022-01-28T16:52:10.392Z"
   },
   {
    "duration": 66,
    "start_time": "2022-01-28T16:52:10.417Z"
   },
   {
    "duration": 9,
    "start_time": "2022-01-28T16:52:10.485Z"
   },
   {
    "duration": 28,
    "start_time": "2022-01-28T16:52:10.496Z"
   },
   {
    "duration": 57,
    "start_time": "2022-01-28T16:52:10.527Z"
   },
   {
    "duration": 6,
    "start_time": "2022-01-28T16:52:10.587Z"
   },
   {
    "duration": 36,
    "start_time": "2022-01-28T16:52:10.595Z"
   },
   {
    "duration": 38,
    "start_time": "2022-01-28T16:52:10.660Z"
   },
   {
    "duration": 18,
    "start_time": "2022-01-28T16:55:39.710Z"
   },
   {
    "duration": 528,
    "start_time": "2022-01-28T16:55:51.038Z"
   },
   {
    "duration": 17,
    "start_time": "2022-01-28T16:56:08.718Z"
   },
   {
    "duration": 12,
    "start_time": "2022-01-28T16:57:26.397Z"
   },
   {
    "duration": 9,
    "start_time": "2022-01-28T16:59:48.657Z"
   },
   {
    "duration": 9,
    "start_time": "2022-01-28T17:00:07.540Z"
   },
   {
    "duration": 8,
    "start_time": "2022-01-28T17:00:16.833Z"
   },
   {
    "duration": 844,
    "start_time": "2022-01-28T17:00:27.155Z"
   },
   {
    "duration": 109,
    "start_time": "2022-01-28T17:00:28.002Z"
   },
   {
    "duration": 14,
    "start_time": "2022-01-28T17:00:28.114Z"
   },
   {
    "duration": 487,
    "start_time": "2022-01-28T17:00:28.132Z"
   },
   {
    "duration": -870,
    "start_time": "2022-01-28T17:00:29.492Z"
   },
   {
    "duration": -879,
    "start_time": "2022-01-28T17:00:29.502Z"
   },
   {
    "duration": -884,
    "start_time": "2022-01-28T17:00:29.508Z"
   },
   {
    "duration": -888,
    "start_time": "2022-01-28T17:00:29.513Z"
   },
   {
    "duration": -892,
    "start_time": "2022-01-28T17:00:29.519Z"
   },
   {
    "duration": -897,
    "start_time": "2022-01-28T17:00:29.525Z"
   },
   {
    "duration": -903,
    "start_time": "2022-01-28T17:00:29.532Z"
   },
   {
    "duration": -917,
    "start_time": "2022-01-28T17:00:29.548Z"
   },
   {
    "duration": -923,
    "start_time": "2022-01-28T17:00:29.556Z"
   },
   {
    "duration": -925,
    "start_time": "2022-01-28T17:00:29.561Z"
   },
   {
    "duration": -930,
    "start_time": "2022-01-28T17:00:29.568Z"
   },
   {
    "duration": -933,
    "start_time": "2022-01-28T17:00:29.573Z"
   },
   {
    "duration": -938,
    "start_time": "2022-01-28T17:00:29.580Z"
   },
   {
    "duration": -941,
    "start_time": "2022-01-28T17:00:29.586Z"
   },
   {
    "duration": 789,
    "start_time": "2022-01-28T17:01:09.727Z"
   },
   {
    "duration": 104,
    "start_time": "2022-01-28T17:01:10.519Z"
   },
   {
    "duration": 14,
    "start_time": "2022-01-28T17:01:10.626Z"
   },
   {
    "duration": 19,
    "start_time": "2022-01-28T17:01:10.643Z"
   },
   {
    "duration": 28,
    "start_time": "2022-01-28T17:01:10.664Z"
   },
   {
    "duration": 29,
    "start_time": "2022-01-28T17:01:10.694Z"
   },
   {
    "duration": 54,
    "start_time": "2022-01-28T17:01:10.725Z"
   },
   {
    "duration": 7,
    "start_time": "2022-01-28T17:01:10.783Z"
   },
   {
    "duration": 30,
    "start_time": "2022-01-28T17:01:10.793Z"
   },
   {
    "duration": 50,
    "start_time": "2022-01-28T17:01:10.825Z"
   },
   {
    "duration": 24,
    "start_time": "2022-01-28T17:01:10.877Z"
   },
   {
    "duration": 57,
    "start_time": "2022-01-28T17:01:10.904Z"
   },
   {
    "duration": 9,
    "start_time": "2022-01-28T17:01:10.963Z"
   },
   {
    "duration": 32,
    "start_time": "2022-01-28T17:01:10.974Z"
   },
   {
    "duration": 64,
    "start_time": "2022-01-28T17:01:11.009Z"
   },
   {
    "duration": 8,
    "start_time": "2022-01-28T17:01:11.077Z"
   },
   {
    "duration": 72,
    "start_time": "2022-01-28T17:01:11.087Z"
   },
   {
    "duration": 12,
    "start_time": "2022-01-28T17:01:11.161Z"
   },
   {
    "duration": 9,
    "start_time": "2022-01-28T17:03:17.155Z"
   },
   {
    "duration": 8,
    "start_time": "2022-01-28T17:04:05.269Z"
   },
   {
    "duration": 845,
    "start_time": "2022-01-28T17:04:46.429Z"
   },
   {
    "duration": 103,
    "start_time": "2022-01-28T17:04:47.277Z"
   },
   {
    "duration": 14,
    "start_time": "2022-01-28T17:04:47.383Z"
   },
   {
    "duration": 9,
    "start_time": "2022-01-28T17:04:47.400Z"
   },
   {
    "duration": 8,
    "start_time": "2022-01-28T17:04:47.411Z"
   },
   {
    "duration": 56,
    "start_time": "2022-01-28T17:04:47.422Z"
   },
   {
    "duration": 27,
    "start_time": "2022-01-28T17:04:47.480Z"
   },
   {
    "duration": 45,
    "start_time": "2022-01-28T17:04:47.511Z"
   },
   {
    "duration": 7,
    "start_time": "2022-01-28T17:04:47.560Z"
   },
   {
    "duration": 30,
    "start_time": "2022-01-28T17:04:47.569Z"
   },
   {
    "duration": 9,
    "start_time": "2022-01-28T17:04:47.601Z"
   },
   {
    "duration": 60,
    "start_time": "2022-01-28T17:04:47.613Z"
   },
   {
    "duration": 24,
    "start_time": "2022-01-28T17:04:47.675Z"
   },
   {
    "duration": 59,
    "start_time": "2022-01-28T17:04:47.702Z"
   },
   {
    "duration": 10,
    "start_time": "2022-01-28T17:04:47.763Z"
   },
   {
    "duration": 28,
    "start_time": "2022-01-28T17:04:47.775Z"
   },
   {
    "duration": 61,
    "start_time": "2022-01-28T17:04:47.805Z"
   },
   {
    "duration": 7,
    "start_time": "2022-01-28T17:04:47.868Z"
   },
   {
    "duration": 33,
    "start_time": "2022-01-28T17:04:47.878Z"
   },
   {
    "duration": 48,
    "start_time": "2022-01-28T17:04:47.913Z"
   },
   {
    "duration": 12,
    "start_time": "2022-01-28T17:05:27.472Z"
   },
   {
    "duration": 930,
    "start_time": "2022-01-28T17:05:37.096Z"
   },
   {
    "duration": 171,
    "start_time": "2022-01-28T17:05:38.029Z"
   },
   {
    "duration": 14,
    "start_time": "2022-01-28T17:05:38.203Z"
   },
   {
    "duration": 8,
    "start_time": "2022-01-28T17:05:38.220Z"
   },
   {
    "duration": 30,
    "start_time": "2022-01-28T17:05:38.230Z"
   },
   {
    "duration": 24,
    "start_time": "2022-01-28T17:05:38.262Z"
   },
   {
    "duration": 26,
    "start_time": "2022-01-28T17:05:38.288Z"
   },
   {
    "duration": 48,
    "start_time": "2022-01-28T17:05:38.317Z"
   },
   {
    "duration": 7,
    "start_time": "2022-01-28T17:05:38.368Z"
   },
   {
    "duration": 30,
    "start_time": "2022-01-28T17:05:38.378Z"
   },
   {
    "duration": 8,
    "start_time": "2022-01-28T17:05:38.410Z"
   },
   {
    "duration": 59,
    "start_time": "2022-01-28T17:05:38.420Z"
   },
   {
    "duration": 23,
    "start_time": "2022-01-28T17:05:38.482Z"
   },
   {
    "duration": 60,
    "start_time": "2022-01-28T17:05:38.508Z"
   },
   {
    "duration": 8,
    "start_time": "2022-01-28T17:05:38.571Z"
   },
   {
    "duration": 28,
    "start_time": "2022-01-28T17:05:38.582Z"
   },
   {
    "duration": 58,
    "start_time": "2022-01-28T17:05:38.612Z"
   },
   {
    "duration": 6,
    "start_time": "2022-01-28T17:05:38.672Z"
   },
   {
    "duration": 33,
    "start_time": "2022-01-28T17:05:38.681Z"
   },
   {
    "duration": 44,
    "start_time": "2022-01-28T17:05:38.716Z"
   },
   {
    "duration": 745,
    "start_time": "2022-01-28T17:06:28.595Z"
   },
   {
    "duration": 118,
    "start_time": "2022-01-28T17:06:29.343Z"
   },
   {
    "duration": 16,
    "start_time": "2022-01-28T17:06:29.465Z"
   },
   {
    "duration": 11,
    "start_time": "2022-01-28T17:06:29.485Z"
   },
   {
    "duration": 14,
    "start_time": "2022-01-28T17:06:29.499Z"
   },
   {
    "duration": 75,
    "start_time": "2022-01-28T17:06:29.516Z"
   },
   {
    "duration": 27,
    "start_time": "2022-01-28T17:06:29.593Z"
   },
   {
    "duration": 45,
    "start_time": "2022-01-28T17:06:29.624Z"
   },
   {
    "duration": 7,
    "start_time": "2022-01-28T17:06:29.672Z"
   },
   {
    "duration": 29,
    "start_time": "2022-01-28T17:06:29.682Z"
   },
   {
    "duration": 9,
    "start_time": "2022-01-28T17:06:29.713Z"
   },
   {
    "duration": 55,
    "start_time": "2022-01-28T17:06:29.724Z"
   },
   {
    "duration": 24,
    "start_time": "2022-01-28T17:06:29.782Z"
   },
   {
    "duration": 62,
    "start_time": "2022-01-28T17:06:29.808Z"
   },
   {
    "duration": 8,
    "start_time": "2022-01-28T17:06:29.872Z"
   },
   {
    "duration": 28,
    "start_time": "2022-01-28T17:06:29.883Z"
   },
   {
    "duration": 62,
    "start_time": "2022-01-28T17:06:29.913Z"
   },
   {
    "duration": 5,
    "start_time": "2022-01-28T17:06:29.978Z"
   },
   {
    "duration": 38,
    "start_time": "2022-01-28T17:06:29.986Z"
   },
   {
    "duration": 42,
    "start_time": "2022-01-28T17:06:30.026Z"
   },
   {
    "duration": 136,
    "start_time": "2022-01-28T17:10:56.820Z"
   },
   {
    "duration": 39,
    "start_time": "2022-01-28T17:11:05.144Z"
   },
   {
    "duration": 443,
    "start_time": "2022-01-28T17:42:37.315Z"
   },
   {
    "duration": 10526,
    "start_time": "2022-01-28T17:42:48.101Z"
   },
   {
    "duration": 1113,
    "start_time": "2022-01-28T17:43:16.304Z"
   },
   {
    "duration": 12,
    "start_time": "2022-01-28T17:45:37.915Z"
   },
   {
    "duration": 11,
    "start_time": "2022-01-28T17:46:22.543Z"
   },
   {
    "duration": 11,
    "start_time": "2022-01-28T17:47:03.049Z"
   },
   {
    "duration": 7,
    "start_time": "2022-01-28T17:49:01.501Z"
   },
   {
    "duration": 6,
    "start_time": "2022-01-28T17:49:15.375Z"
   },
   {
    "duration": 7,
    "start_time": "2022-01-28T17:49:26.198Z"
   },
   {
    "duration": 7,
    "start_time": "2022-01-28T17:49:31.119Z"
   },
   {
    "duration": 11,
    "start_time": "2022-01-28T17:49:35.350Z"
   },
   {
    "duration": 7,
    "start_time": "2022-01-28T17:49:43.332Z"
   },
   {
    "duration": 6,
    "start_time": "2022-01-28T17:49:49.608Z"
   },
   {
    "duration": 11,
    "start_time": "2022-01-28T17:49:54.501Z"
   },
   {
    "duration": 35,
    "start_time": "2022-01-28T17:51:52.317Z"
   },
   {
    "duration": 868,
    "start_time": "2022-01-28T19:07:58.937Z"
   },
   {
    "duration": 106,
    "start_time": "2022-01-28T19:07:59.809Z"
   },
   {
    "duration": 15,
    "start_time": "2022-01-28T19:07:59.918Z"
   },
   {
    "duration": 40,
    "start_time": "2022-01-28T19:07:59.936Z"
   },
   {
    "duration": 33,
    "start_time": "2022-01-28T19:07:59.979Z"
   },
   {
    "duration": 45,
    "start_time": "2022-01-28T19:08:00.015Z"
   },
   {
    "duration": 8,
    "start_time": "2022-01-28T19:08:00.063Z"
   },
   {
    "duration": 35,
    "start_time": "2022-01-28T19:08:00.075Z"
   },
   {
    "duration": 60,
    "start_time": "2022-01-28T19:08:00.114Z"
   },
   {
    "duration": 24,
    "start_time": "2022-01-28T19:08:00.177Z"
   },
   {
    "duration": 65,
    "start_time": "2022-01-28T19:08:00.204Z"
   },
   {
    "duration": 10,
    "start_time": "2022-01-28T19:08:00.272Z"
   },
   {
    "duration": 28,
    "start_time": "2022-01-28T19:08:00.284Z"
   },
   {
    "duration": 65,
    "start_time": "2022-01-28T19:08:00.314Z"
   },
   {
    "duration": 6,
    "start_time": "2022-01-28T19:08:00.382Z"
   },
   {
    "duration": 68,
    "start_time": "2022-01-28T19:08:00.391Z"
   },
   {
    "duration": 12,
    "start_time": "2022-01-28T19:08:00.461Z"
   },
   {
    "duration": 10,
    "start_time": "2022-01-28T19:08:00.475Z"
   },
   {
    "duration": 10,
    "start_time": "2022-01-28T19:08:00.488Z"
   },
   {
    "duration": 89,
    "start_time": "2022-01-28T19:08:00.500Z"
   },
   {
    "duration": 1316,
    "start_time": "2022-01-28T19:08:00.592Z"
   },
   {
    "duration": 25,
    "start_time": "2022-01-28T19:08:01.910Z"
   },
   {
    "duration": 122,
    "start_time": "2022-01-28T19:08:01.939Z"
   },
   {
    "duration": 20,
    "start_time": "2022-01-28T19:16:21.252Z"
   },
   {
    "duration": 767,
    "start_time": "2022-01-28T19:16:32.261Z"
   },
   {
    "duration": 105,
    "start_time": "2022-01-28T19:16:33.030Z"
   },
   {
    "duration": 24,
    "start_time": "2022-01-28T19:16:33.139Z"
   },
   {
    "duration": 27,
    "start_time": "2022-01-28T19:16:33.166Z"
   },
   {
    "duration": 29,
    "start_time": "2022-01-28T19:16:33.195Z"
   },
   {
    "duration": 45,
    "start_time": "2022-01-28T19:16:33.227Z"
   },
   {
    "duration": 8,
    "start_time": "2022-01-28T19:16:33.274Z"
   },
   {
    "duration": 34,
    "start_time": "2022-01-28T19:16:33.286Z"
   },
   {
    "duration": 3994,
    "start_time": "2022-01-28T19:16:33.323Z"
   },
   {
    "duration": -1057,
    "start_time": "2022-01-28T19:16:38.378Z"
   },
   {
    "duration": -1063,
    "start_time": "2022-01-28T19:16:38.386Z"
   },
   {
    "duration": -1070,
    "start_time": "2022-01-28T19:16:38.396Z"
   },
   {
    "duration": -1077,
    "start_time": "2022-01-28T19:16:38.405Z"
   },
   {
    "duration": -1081,
    "start_time": "2022-01-28T19:16:38.411Z"
   },
   {
    "duration": -1088,
    "start_time": "2022-01-28T19:16:38.420Z"
   },
   {
    "duration": -1092,
    "start_time": "2022-01-28T19:16:38.426Z"
   },
   {
    "duration": -1097,
    "start_time": "2022-01-28T19:16:38.433Z"
   },
   {
    "duration": -1101,
    "start_time": "2022-01-28T19:16:38.440Z"
   },
   {
    "duration": -1106,
    "start_time": "2022-01-28T19:16:38.447Z"
   },
   {
    "duration": -1111,
    "start_time": "2022-01-28T19:16:38.454Z"
   },
   {
    "duration": -1116,
    "start_time": "2022-01-28T19:16:38.461Z"
   },
   {
    "duration": -1121,
    "start_time": "2022-01-28T19:16:38.468Z"
   },
   {
    "duration": -1138,
    "start_time": "2022-01-28T19:16:38.487Z"
   },
   {
    "duration": 3848,
    "start_time": "2022-01-28T19:17:31.540Z"
   },
   {
    "duration": 4883,
    "start_time": "2022-01-28T19:17:45.037Z"
   },
   {
    "duration": 34,
    "start_time": "2022-01-28T19:26:42.747Z"
   },
   {
    "duration": 26,
    "start_time": "2022-01-28T19:26:52.754Z"
   },
   {
    "duration": 33,
    "start_time": "2022-01-28T19:26:57.234Z"
   },
   {
    "duration": 9,
    "start_time": "2022-01-28T19:27:00.454Z"
   },
   {
    "duration": 28,
    "start_time": "2022-01-28T19:27:03.611Z"
   },
   {
    "duration": 28,
    "start_time": "2022-01-28T19:27:07.882Z"
   },
   {
    "duration": 7,
    "start_time": "2022-01-28T19:27:11.802Z"
   },
   {
    "duration": 35,
    "start_time": "2022-01-28T19:27:14.920Z"
   },
   {
    "duration": 14,
    "start_time": "2022-01-28T19:27:19.066Z"
   },
   {
    "duration": 12,
    "start_time": "2022-01-28T19:27:22.660Z"
   },
   {
    "duration": 13,
    "start_time": "2022-01-28T19:27:25.124Z"
   },
   {
    "duration": 36,
    "start_time": "2022-01-28T19:27:29.337Z"
   },
   {
    "duration": 190,
    "start_time": "2022-01-28T19:27:39.649Z"
   },
   {
    "duration": 40,
    "start_time": "2022-01-28T19:27:44.666Z"
   },
   {
    "duration": 557,
    "start_time": "2022-01-30T15:29:25.492Z"
   },
   {
    "duration": 441,
    "start_time": "2022-01-30T15:29:26.051Z"
   },
   {
    "duration": 9,
    "start_time": "2022-01-30T15:29:26.494Z"
   },
   {
    "duration": 16,
    "start_time": "2022-01-30T15:29:26.504Z"
   },
   {
    "duration": 22,
    "start_time": "2022-01-30T15:29:26.521Z"
   },
   {
    "duration": 77,
    "start_time": "2022-01-30T15:29:26.545Z"
   },
   {
    "duration": 7,
    "start_time": "2022-01-30T15:29:26.624Z"
   },
   {
    "duration": 23,
    "start_time": "2022-01-30T15:29:26.634Z"
   },
   {
    "duration": 19,
    "start_time": "2022-01-30T15:29:26.659Z"
   },
   {
    "duration": 14,
    "start_time": "2022-01-30T15:29:26.679Z"
   },
   {
    "duration": 47,
    "start_time": "2022-01-30T15:29:26.695Z"
   },
   {
    "duration": 6,
    "start_time": "2022-01-30T15:29:26.743Z"
   },
   {
    "duration": 17,
    "start_time": "2022-01-30T15:29:26.750Z"
   },
   {
    "duration": 14,
    "start_time": "2022-01-30T15:29:26.768Z"
   },
   {
    "duration": 3,
    "start_time": "2022-01-30T15:29:26.784Z"
   },
   {
    "duration": 48,
    "start_time": "2022-01-30T15:29:26.788Z"
   },
   {
    "duration": 9,
    "start_time": "2022-01-30T15:29:26.838Z"
   },
   {
    "duration": 6,
    "start_time": "2022-01-30T15:29:26.849Z"
   },
   {
    "duration": 6,
    "start_time": "2022-01-30T15:29:26.856Z"
   },
   {
    "duration": 19,
    "start_time": "2022-01-30T15:29:26.864Z"
   },
   {
    "duration": 126,
    "start_time": "2022-01-30T15:29:26.885Z"
   },
   {
    "duration": 27,
    "start_time": "2022-01-30T15:29:27.012Z"
   },
   {
    "duration": 2,
    "start_time": "2022-01-30T15:29:27.042Z"
   },
   {
    "duration": 23,
    "start_time": "2022-01-30T16:27:32.860Z"
   },
   {
    "duration": 17,
    "start_time": "2022-01-30T16:55:58.432Z"
   },
   {
    "duration": 587,
    "start_time": "2022-01-30T16:56:36.290Z"
   },
   {
    "duration": 69,
    "start_time": "2022-01-30T16:56:36.879Z"
   },
   {
    "duration": 9,
    "start_time": "2022-01-30T16:56:36.950Z"
   },
   {
    "duration": 18,
    "start_time": "2022-01-30T16:56:36.961Z"
   },
   {
    "duration": 47,
    "start_time": "2022-01-30T16:56:36.980Z"
   },
   {
    "duration": 40,
    "start_time": "2022-01-30T16:56:37.029Z"
   },
   {
    "duration": 6,
    "start_time": "2022-01-30T16:56:37.071Z"
   },
   {
    "duration": 25,
    "start_time": "2022-01-30T16:56:37.079Z"
   },
   {
    "duration": 21,
    "start_time": "2022-01-30T16:56:37.106Z"
   },
   {
    "duration": 15,
    "start_time": "2022-01-30T16:56:37.129Z"
   },
   {
    "duration": 20,
    "start_time": "2022-01-30T16:56:37.145Z"
   },
   {
    "duration": 6,
    "start_time": "2022-01-30T16:56:37.167Z"
   },
   {
    "duration": 15,
    "start_time": "2022-01-30T16:56:37.175Z"
   },
   {
    "duration": 43,
    "start_time": "2022-01-30T16:56:37.192Z"
   },
   {
    "duration": 5,
    "start_time": "2022-01-30T16:56:37.237Z"
   },
   {
    "duration": 19,
    "start_time": "2022-01-30T16:56:37.244Z"
   },
   {
    "duration": 6,
    "start_time": "2022-01-30T16:56:37.265Z"
   },
   {
    "duration": 7,
    "start_time": "2022-01-30T16:56:37.273Z"
   },
   {
    "duration": 6,
    "start_time": "2022-01-30T16:56:37.281Z"
   },
   {
    "duration": 68,
    "start_time": "2022-01-30T16:56:37.289Z"
   },
   {
    "duration": 111,
    "start_time": "2022-01-30T16:56:37.359Z"
   },
   {
    "duration": 14,
    "start_time": "2022-01-30T16:56:37.471Z"
   },
   {
    "duration": 42,
    "start_time": "2022-01-30T16:56:37.488Z"
   },
   {
    "duration": 776,
    "start_time": "2022-01-30T16:56:37.532Z"
   },
   {
    "duration": 6,
    "start_time": "2022-01-30T16:56:50.303Z"
   },
   {
    "duration": 547,
    "start_time": "2022-01-30T16:56:57.957Z"
   },
   {
    "duration": 71,
    "start_time": "2022-01-30T16:56:58.506Z"
   },
   {
    "duration": 11,
    "start_time": "2022-01-30T16:56:58.579Z"
   },
   {
    "duration": 13,
    "start_time": "2022-01-30T16:56:58.592Z"
   },
   {
    "duration": 28,
    "start_time": "2022-01-30T16:56:58.607Z"
   },
   {
    "duration": 41,
    "start_time": "2022-01-30T16:56:58.637Z"
   },
   {
    "duration": 5,
    "start_time": "2022-01-30T16:56:58.679Z"
   },
   {
    "duration": 22,
    "start_time": "2022-01-30T16:56:58.687Z"
   },
   {
    "duration": 19,
    "start_time": "2022-01-30T16:56:58.711Z"
   },
   {
    "duration": 15,
    "start_time": "2022-01-30T16:56:58.731Z"
   },
   {
    "duration": 21,
    "start_time": "2022-01-30T16:56:58.747Z"
   },
   {
    "duration": 6,
    "start_time": "2022-01-30T16:56:58.770Z"
   },
   {
    "duration": 16,
    "start_time": "2022-01-30T16:56:58.777Z"
   },
   {
    "duration": 47,
    "start_time": "2022-01-30T16:56:58.795Z"
   },
   {
    "duration": 4,
    "start_time": "2022-01-30T16:56:58.844Z"
   },
   {
    "duration": 23,
    "start_time": "2022-01-30T16:56:58.849Z"
   },
   {
    "duration": 9,
    "start_time": "2022-01-30T16:56:58.874Z"
   },
   {
    "duration": 6,
    "start_time": "2022-01-30T16:56:58.885Z"
   },
   {
    "duration": 7,
    "start_time": "2022-01-30T16:56:58.892Z"
   },
   {
    "duration": 21,
    "start_time": "2022-01-30T16:56:58.927Z"
   },
   {
    "duration": 121,
    "start_time": "2022-01-30T16:56:58.949Z"
   },
   {
    "duration": 20,
    "start_time": "2022-01-30T16:56:59.072Z"
   },
   {
    "duration": 46,
    "start_time": "2022-01-30T16:56:59.095Z"
   },
   {
    "duration": 7,
    "start_time": "2022-01-30T16:56:59.143Z"
   },
   {
    "duration": 7,
    "start_time": "2022-01-30T16:57:47.299Z"
   },
   {
    "duration": 26,
    "start_time": "2022-01-30T17:02:29.781Z"
   },
   {
    "duration": 575,
    "start_time": "2022-01-30T17:03:09.758Z"
   },
   {
    "duration": 71,
    "start_time": "2022-01-30T17:03:10.335Z"
   },
   {
    "duration": 9,
    "start_time": "2022-01-30T17:03:10.408Z"
   },
   {
    "duration": 21,
    "start_time": "2022-01-30T17:03:10.419Z"
   },
   {
    "duration": 19,
    "start_time": "2022-01-30T17:03:10.442Z"
   },
   {
    "duration": 37,
    "start_time": "2022-01-30T17:03:10.462Z"
   },
   {
    "duration": 4,
    "start_time": "2022-01-30T17:03:10.501Z"
   },
   {
    "duration": 19,
    "start_time": "2022-01-30T17:03:10.508Z"
   },
   {
    "duration": 26,
    "start_time": "2022-01-30T17:03:10.529Z"
   },
   {
    "duration": 13,
    "start_time": "2022-01-30T17:03:10.557Z"
   },
   {
    "duration": 20,
    "start_time": "2022-01-30T17:03:10.571Z"
   },
   {
    "duration": 5,
    "start_time": "2022-01-30T17:03:10.592Z"
   },
   {
    "duration": 44,
    "start_time": "2022-01-30T17:03:10.598Z"
   },
   {
    "duration": 18,
    "start_time": "2022-01-30T17:03:10.645Z"
   },
   {
    "duration": 4,
    "start_time": "2022-01-30T17:03:10.664Z"
   },
   {
    "duration": 20,
    "start_time": "2022-01-30T17:03:10.670Z"
   },
   {
    "duration": 7,
    "start_time": "2022-01-30T17:03:10.691Z"
   },
   {
    "duration": 63,
    "start_time": "2022-01-30T17:03:10.699Z"
   },
   {
    "duration": 6,
    "start_time": "2022-01-30T17:03:10.764Z"
   },
   {
    "duration": 5,
    "start_time": "2022-01-30T17:03:10.772Z"
   },
   {
    "duration": 18,
    "start_time": "2022-01-30T17:03:10.779Z"
   },
   {
    "duration": 131,
    "start_time": "2022-01-30T17:03:10.798Z"
   },
   {
    "duration": 21,
    "start_time": "2022-01-30T17:03:10.932Z"
   },
   {
    "duration": 14,
    "start_time": "2022-01-30T17:03:10.954Z"
   },
   {
    "duration": 20,
    "start_time": "2022-01-30T17:03:10.969Z"
   },
   {
    "duration": 4,
    "start_time": "2022-01-30T17:03:10.991Z"
   },
   {
    "duration": 37,
    "start_time": "2022-01-30T17:03:10.997Z"
   },
   {
    "duration": 119,
    "start_time": "2022-01-30T17:04:13.450Z"
   },
   {
    "duration": 825,
    "start_time": "2022-01-30T17:15:20.352Z"
   },
   {
    "duration": 517,
    "start_time": "2022-01-30T17:15:50.343Z"
   },
   {
    "duration": 6006,
    "start_time": "2022-01-30T17:17:32.991Z"
   },
   {
    "duration": 567,
    "start_time": "2022-01-30T17:17:48.169Z"
   },
   {
    "duration": 75,
    "start_time": "2022-01-30T17:17:48.738Z"
   },
   {
    "duration": 13,
    "start_time": "2022-01-30T17:17:48.814Z"
   },
   {
    "duration": 12,
    "start_time": "2022-01-30T17:17:48.829Z"
   },
   {
    "duration": 15,
    "start_time": "2022-01-30T17:17:48.843Z"
   },
   {
    "duration": 38,
    "start_time": "2022-01-30T17:17:48.860Z"
   },
   {
    "duration": 5,
    "start_time": "2022-01-30T17:17:48.899Z"
   },
   {
    "duration": 18,
    "start_time": "2022-01-30T17:17:48.906Z"
   },
   {
    "duration": 17,
    "start_time": "2022-01-30T17:17:48.927Z"
   },
   {
    "duration": 13,
    "start_time": "2022-01-30T17:17:48.946Z"
   },
   {
    "duration": 21,
    "start_time": "2022-01-30T17:17:48.960Z"
   },
   {
    "duration": 5,
    "start_time": "2022-01-30T17:17:48.983Z"
   },
   {
    "duration": 39,
    "start_time": "2022-01-30T17:17:48.989Z"
   },
   {
    "duration": 18,
    "start_time": "2022-01-30T17:17:49.029Z"
   },
   {
    "duration": 5,
    "start_time": "2022-01-30T17:17:49.048Z"
   },
   {
    "duration": 22,
    "start_time": "2022-01-30T17:17:49.054Z"
   },
   {
    "duration": 8,
    "start_time": "2022-01-30T17:17:49.078Z"
   },
   {
    "duration": 56,
    "start_time": "2022-01-30T17:17:49.088Z"
   },
   {
    "duration": 7,
    "start_time": "2022-01-30T17:17:49.145Z"
   },
   {
    "duration": 7,
    "start_time": "2022-01-30T17:17:49.153Z"
   },
   {
    "duration": 20,
    "start_time": "2022-01-30T17:17:49.161Z"
   },
   {
    "duration": 9837,
    "start_time": "2022-01-30T17:17:49.183Z"
   },
   {
    "duration": 26,
    "start_time": "2022-01-30T17:17:59.022Z"
   },
   {
    "duration": 15,
    "start_time": "2022-01-30T17:17:59.049Z"
   },
   {
    "duration": 23,
    "start_time": "2022-01-30T17:17:59.066Z"
   },
   {
    "duration": 13,
    "start_time": "2022-01-30T17:17:59.091Z"
   },
   {
    "duration": 5,
    "start_time": "2022-01-30T17:17:59.128Z"
   },
   {
    "duration": 1019,
    "start_time": "2022-01-30T17:20:12.859Z"
   },
   {
    "duration": 76,
    "start_time": "2022-01-30T17:20:13.880Z"
   },
   {
    "duration": 10,
    "start_time": "2022-01-30T17:20:13.958Z"
   },
   {
    "duration": 13,
    "start_time": "2022-01-30T17:20:13.969Z"
   },
   {
    "duration": 45,
    "start_time": "2022-01-30T17:20:13.983Z"
   },
   {
    "duration": 50,
    "start_time": "2022-01-30T17:20:14.030Z"
   },
   {
    "duration": 5,
    "start_time": "2022-01-30T17:20:14.082Z"
   },
   {
    "duration": 19,
    "start_time": "2022-01-30T17:20:14.090Z"
   },
   {
    "duration": 28,
    "start_time": "2022-01-30T17:20:14.111Z"
   },
   {
    "duration": 21,
    "start_time": "2022-01-30T17:20:14.141Z"
   },
   {
    "duration": 21,
    "start_time": "2022-01-30T17:20:14.163Z"
   },
   {
    "duration": 5,
    "start_time": "2022-01-30T17:20:14.186Z"
   },
   {
    "duration": 36,
    "start_time": "2022-01-30T17:20:14.193Z"
   },
   {
    "duration": 24,
    "start_time": "2022-01-30T17:20:14.231Z"
   },
   {
    "duration": 4,
    "start_time": "2022-01-30T17:20:14.256Z"
   },
   {
    "duration": 31,
    "start_time": "2022-01-30T17:20:14.262Z"
   },
   {
    "duration": 33,
    "start_time": "2022-01-30T17:20:14.295Z"
   },
   {
    "duration": 25,
    "start_time": "2022-01-30T17:20:14.330Z"
   },
   {
    "duration": 7,
    "start_time": "2022-01-30T17:20:14.357Z"
   },
   {
    "duration": 6,
    "start_time": "2022-01-30T17:20:14.366Z"
   },
   {
    "duration": 20,
    "start_time": "2022-01-30T17:20:14.373Z"
   },
   {
    "duration": 9803,
    "start_time": "2022-01-30T17:20:14.394Z"
   },
   {
    "duration": 30,
    "start_time": "2022-01-30T17:20:24.200Z"
   },
   {
    "duration": 30,
    "start_time": "2022-01-30T17:20:24.232Z"
   },
   {
    "duration": 22,
    "start_time": "2022-01-30T17:20:24.264Z"
   },
   {
    "duration": 8,
    "start_time": "2022-01-30T17:20:24.287Z"
   },
   {
    "duration": 4,
    "start_time": "2022-01-30T17:20:24.297Z"
   },
   {
    "duration": 8,
    "start_time": "2022-01-30T17:21:17.695Z"
   },
   {
    "duration": 6,
    "start_time": "2022-01-30T17:21:33.756Z"
   },
   {
    "duration": 300,
    "start_time": "2022-01-31T17:17:04.630Z"
   },
   {
    "duration": 650,
    "start_time": "2022-01-31T17:17:09.196Z"
   },
   {
    "duration": 87,
    "start_time": "2022-01-31T17:17:09.848Z"
   },
   {
    "duration": 13,
    "start_time": "2022-01-31T17:17:09.937Z"
   },
   {
    "duration": 27,
    "start_time": "2022-01-31T17:17:09.953Z"
   },
   {
    "duration": 35,
    "start_time": "2022-01-31T17:17:09.982Z"
   },
   {
    "duration": 49,
    "start_time": "2022-01-31T17:17:10.019Z"
   },
   {
    "duration": 6,
    "start_time": "2022-01-31T17:17:10.070Z"
   },
   {
    "duration": 40,
    "start_time": "2022-01-31T17:17:10.078Z"
   },
   {
    "duration": 22,
    "start_time": "2022-01-31T17:17:10.121Z"
   },
   {
    "duration": 18,
    "start_time": "2022-01-31T17:17:10.145Z"
   },
   {
    "duration": 46,
    "start_time": "2022-01-31T17:17:10.165Z"
   },
   {
    "duration": 7,
    "start_time": "2022-01-31T17:17:10.213Z"
   },
   {
    "duration": 22,
    "start_time": "2022-01-31T17:17:10.221Z"
   },
   {
    "duration": 19,
    "start_time": "2022-01-31T17:17:10.245Z"
   },
   {
    "duration": 5,
    "start_time": "2022-01-31T17:17:10.265Z"
   },
   {
    "duration": 59,
    "start_time": "2022-01-31T17:17:10.272Z"
   },
   {
    "duration": 23,
    "start_time": "2022-01-31T17:17:10.333Z"
   },
   {
    "duration": 29,
    "start_time": "2022-01-31T17:17:10.358Z"
   },
   {
    "duration": 19,
    "start_time": "2022-01-31T17:17:10.389Z"
   },
   {
    "duration": 8,
    "start_time": "2022-01-31T17:17:10.410Z"
   },
   {
    "duration": 31,
    "start_time": "2022-01-31T17:17:10.420Z"
   },
   {
    "duration": 11223,
    "start_time": "2022-01-31T17:17:10.453Z"
   },
   {
    "duration": 39,
    "start_time": "2022-01-31T17:17:21.679Z"
   },
   {
    "duration": 19,
    "start_time": "2022-01-31T17:17:21.719Z"
   },
   {
    "duration": 27,
    "start_time": "2022-01-31T17:17:21.740Z"
   },
   {
    "duration": 5,
    "start_time": "2022-01-31T17:17:21.769Z"
   },
   {
    "duration": 6889,
    "start_time": "2022-01-31T17:17:21.776Z"
   },
   {
    "duration": 960,
    "start_time": "2022-01-31T17:18:11.973Z"
   },
   {
    "duration": 81,
    "start_time": "2022-01-31T17:18:12.935Z"
   },
   {
    "duration": 14,
    "start_time": "2022-01-31T17:18:13.019Z"
   },
   {
    "duration": 19,
    "start_time": "2022-01-31T17:18:13.035Z"
   },
   {
    "duration": 19,
    "start_time": "2022-01-31T17:18:13.056Z"
   },
   {
    "duration": 50,
    "start_time": "2022-01-31T17:18:13.078Z"
   },
   {
    "duration": 8,
    "start_time": "2022-01-31T17:18:13.130Z"
   },
   {
    "duration": 27,
    "start_time": "2022-01-31T17:18:13.140Z"
   },
   {
    "duration": 22,
    "start_time": "2022-01-31T17:18:13.170Z"
   },
   {
    "duration": 20,
    "start_time": "2022-01-31T17:18:13.206Z"
   },
   {
    "duration": 25,
    "start_time": "2022-01-31T17:18:13.228Z"
   },
   {
    "duration": 7,
    "start_time": "2022-01-31T17:18:13.255Z"
   },
   {
    "duration": 46,
    "start_time": "2022-01-31T17:18:13.264Z"
   },
   {
    "duration": 19,
    "start_time": "2022-01-31T17:18:13.312Z"
   },
   {
    "duration": 15,
    "start_time": "2022-01-31T17:18:13.334Z"
   },
   {
    "duration": 37,
    "start_time": "2022-01-31T17:18:13.351Z"
   },
   {
    "duration": 21,
    "start_time": "2022-01-31T17:18:13.390Z"
   },
   {
    "duration": 28,
    "start_time": "2022-01-31T17:18:13.413Z"
   },
   {
    "duration": 9,
    "start_time": "2022-01-31T17:18:13.443Z"
   },
   {
    "duration": 10,
    "start_time": "2022-01-31T17:18:13.454Z"
   },
   {
    "duration": 58,
    "start_time": "2022-01-31T17:18:13.466Z"
   },
   {
    "duration": 11240,
    "start_time": "2022-01-31T17:18:13.526Z"
   },
   {
    "duration": 39,
    "start_time": "2022-01-31T17:18:24.770Z"
   },
   {
    "duration": 5,
    "start_time": "2022-01-31T17:18:24.811Z"
   },
   {
    "duration": 14,
    "start_time": "2022-01-31T17:18:24.818Z"
   },
   {
    "duration": 26,
    "start_time": "2022-01-31T17:18:24.834Z"
   },
   {
    "duration": 6312,
    "start_time": "2022-01-31T17:18:24.862Z"
   },
   {
    "duration": 216,
    "start_time": "2022-01-31T17:18:53.864Z"
   },
   {
    "duration": 217,
    "start_time": "2022-01-31T17:19:10.739Z"
   },
   {
    "duration": 233,
    "start_time": "2022-01-31T17:19:25.148Z"
   },
   {
    "duration": 6,
    "start_time": "2022-01-31T17:19:59.434Z"
   },
   {
    "duration": 4,
    "start_time": "2022-01-31T17:20:14.594Z"
   },
   {
    "duration": 260,
    "start_time": "2022-01-31T17:20:38.874Z"
   },
   {
    "duration": 290,
    "start_time": "2022-01-31T17:21:35.635Z"
   },
   {
    "duration": 18,
    "start_time": "2022-01-31T17:26:54.292Z"
   },
   {
    "duration": 13,
    "start_time": "2022-01-31T17:27:24.293Z"
   },
   {
    "duration": 258,
    "start_time": "2022-01-31T17:36:23.930Z"
   },
   {
    "duration": 281,
    "start_time": "2022-01-31T17:37:19.947Z"
   },
   {
    "duration": 48,
    "start_time": "2022-01-31T17:37:42.457Z"
   },
   {
    "duration": 143,
    "start_time": "2022-01-31T17:40:52.832Z"
   },
   {
    "duration": 78,
    "start_time": "2022-01-31T17:41:11.712Z"
   },
   {
    "duration": 16,
    "start_time": "2022-01-31T17:41:38.739Z"
   },
   {
    "duration": 337,
    "start_time": "2022-01-31T17:45:50.679Z"
   },
   {
    "duration": 331,
    "start_time": "2022-01-31T17:46:06.574Z"
   },
   {
    "duration": 324,
    "start_time": "2022-01-31T17:46:14.180Z"
   },
   {
    "duration": 226,
    "start_time": "2022-01-31T17:49:02.683Z"
   },
   {
    "duration": 338,
    "start_time": "2022-01-31T17:50:11.957Z"
   },
   {
    "duration": 418,
    "start_time": "2022-01-31T17:50:41.508Z"
   },
   {
    "duration": 298,
    "start_time": "2022-01-31T17:51:15.555Z"
   },
   {
    "duration": 11,
    "start_time": "2022-01-31T17:52:27.461Z"
   },
   {
    "duration": 7,
    "start_time": "2022-01-31T17:56:34.946Z"
   },
   {
    "duration": 11,
    "start_time": "2022-01-31T17:56:37.466Z"
   },
   {
    "duration": 309,
    "start_time": "2022-01-31T17:56:40.253Z"
   },
   {
    "duration": 234,
    "start_time": "2022-01-31T17:56:55.949Z"
   },
   {
    "duration": 17,
    "start_time": "2022-01-31T17:58:31.976Z"
   },
   {
    "duration": 734,
    "start_time": "2022-01-31T18:00:36.268Z"
   },
   {
    "duration": 93,
    "start_time": "2022-01-31T18:00:37.004Z"
   },
   {
    "duration": 13,
    "start_time": "2022-01-31T18:00:37.100Z"
   },
   {
    "duration": 17,
    "start_time": "2022-01-31T18:00:37.115Z"
   },
   {
    "duration": 23,
    "start_time": "2022-01-31T18:00:37.134Z"
   },
   {
    "duration": 46,
    "start_time": "2022-01-31T18:00:37.159Z"
   },
   {
    "duration": 6,
    "start_time": "2022-01-31T18:00:37.207Z"
   },
   {
    "duration": 28,
    "start_time": "2022-01-31T18:00:37.216Z"
   },
   {
    "duration": 25,
    "start_time": "2022-01-31T18:00:37.247Z"
   },
   {
    "duration": 46,
    "start_time": "2022-01-31T18:00:37.275Z"
   },
   {
    "duration": 27,
    "start_time": "2022-01-31T18:00:37.323Z"
   },
   {
    "duration": 7,
    "start_time": "2022-01-31T18:00:37.352Z"
   },
   {
    "duration": 46,
    "start_time": "2022-01-31T18:00:37.361Z"
   },
   {
    "duration": 20,
    "start_time": "2022-01-31T18:00:37.410Z"
   },
   {
    "duration": 5,
    "start_time": "2022-01-31T18:00:37.432Z"
   },
   {
    "duration": 33,
    "start_time": "2022-01-31T18:00:37.438Z"
   },
   {
    "duration": 36,
    "start_time": "2022-01-31T18:00:37.473Z"
   },
   {
    "duration": 32,
    "start_time": "2022-01-31T18:00:37.511Z"
   },
   {
    "duration": 9,
    "start_time": "2022-01-31T18:00:37.544Z"
   },
   {
    "duration": 8,
    "start_time": "2022-01-31T18:00:37.555Z"
   },
   {
    "duration": 56,
    "start_time": "2022-01-31T18:00:37.565Z"
   },
   {
    "duration": 10990,
    "start_time": "2022-01-31T18:00:37.622Z"
   },
   {
    "duration": 27,
    "start_time": "2022-01-31T18:00:48.616Z"
   },
   {
    "duration": 4,
    "start_time": "2022-01-31T18:00:48.645Z"
   },
   {
    "duration": 26,
    "start_time": "2022-01-31T18:00:48.651Z"
   },
   {
    "duration": 38,
    "start_time": "2022-01-31T18:00:48.679Z"
   },
   {
    "duration": 222,
    "start_time": "2022-01-31T18:00:48.719Z"
   },
   {
    "duration": 15,
    "start_time": "2022-01-31T18:00:48.944Z"
   },
   {
    "duration": 3,
    "start_time": "2022-01-31T18:00:48.961Z"
   },
   {
    "duration": 25,
    "start_time": "2022-01-31T18:00:48.966Z"
   },
   {
    "duration": 229,
    "start_time": "2022-01-31T18:00:49.008Z"
   },
   {
    "duration": 17,
    "start_time": "2022-01-31T18:06:05.621Z"
   },
   {
    "duration": 225,
    "start_time": "2022-01-31T18:06:09.009Z"
   },
   {
    "duration": 14,
    "start_time": "2022-01-31T18:10:30.541Z"
   },
   {
    "duration": 27,
    "start_time": "2022-01-31T18:10:53.405Z"
   },
   {
    "duration": 15,
    "start_time": "2022-01-31T18:11:16.868Z"
   },
   {
    "duration": 14,
    "start_time": "2022-01-31T18:11:40.455Z"
   },
   {
    "duration": 15,
    "start_time": "2022-01-31T18:12:09.621Z"
   },
   {
    "duration": 82,
    "start_time": "2022-01-31T18:26:26.687Z"
   },
   {
    "duration": 5,
    "start_time": "2022-01-31T18:28:04.613Z"
   },
   {
    "duration": 6,
    "start_time": "2022-01-31T18:28:19.719Z"
   },
   {
    "duration": 10,
    "start_time": "2022-01-31T18:29:08.968Z"
   },
   {
    "duration": 378,
    "start_time": "2022-01-31T18:33:32.407Z"
   },
   {
    "duration": 240,
    "start_time": "2022-01-31T18:39:04.982Z"
   },
   {
    "duration": 13,
    "start_time": "2022-01-31T18:39:30.909Z"
   },
   {
    "duration": 952,
    "start_time": "2022-01-31T18:40:53.851Z"
   },
   {
    "duration": 998,
    "start_time": "2022-01-31T18:42:05.231Z"
   },
   {
    "duration": 266,
    "start_time": "2022-01-31T18:42:21.652Z"
   },
   {
    "duration": 740,
    "start_time": "2022-01-31T18:43:47.002Z"
   },
   {
    "duration": 81,
    "start_time": "2022-01-31T18:43:47.744Z"
   },
   {
    "duration": 12,
    "start_time": "2022-01-31T18:43:47.827Z"
   },
   {
    "duration": 17,
    "start_time": "2022-01-31T18:43:47.841Z"
   },
   {
    "duration": 20,
    "start_time": "2022-01-31T18:43:47.860Z"
   },
   {
    "duration": 46,
    "start_time": "2022-01-31T18:43:47.882Z"
   },
   {
    "duration": 7,
    "start_time": "2022-01-31T18:43:47.929Z"
   },
   {
    "duration": 26,
    "start_time": "2022-01-31T18:43:47.939Z"
   },
   {
    "duration": 40,
    "start_time": "2022-01-31T18:43:47.967Z"
   },
   {
    "duration": 17,
    "start_time": "2022-01-31T18:43:48.009Z"
   },
   {
    "duration": 24,
    "start_time": "2022-01-31T18:43:48.028Z"
   },
   {
    "duration": 54,
    "start_time": "2022-01-31T18:43:48.054Z"
   },
   {
    "duration": 7,
    "start_time": "2022-01-31T18:43:48.110Z"
   },
   {
    "duration": 22,
    "start_time": "2022-01-31T18:43:48.119Z"
   },
   {
    "duration": 19,
    "start_time": "2022-01-31T18:43:48.143Z"
   },
   {
    "duration": 4,
    "start_time": "2022-01-31T18:43:48.164Z"
   },
   {
    "duration": 63,
    "start_time": "2022-01-31T18:43:48.170Z"
   },
   {
    "duration": 9,
    "start_time": "2022-01-31T18:43:48.235Z"
   },
   {
    "duration": 320,
    "start_time": "2022-01-31T18:43:48.246Z"
   },
   {
    "duration": -89,
    "start_time": "2022-01-31T18:43:48.658Z"
   },
   {
    "duration": -150,
    "start_time": "2022-01-31T18:43:48.720Z"
   },
   {
    "duration": -163,
    "start_time": "2022-01-31T18:43:48.734Z"
   },
   {
    "duration": -175,
    "start_time": "2022-01-31T18:43:48.747Z"
   },
   {
    "duration": -184,
    "start_time": "2022-01-31T18:43:48.756Z"
   },
   {
    "duration": -194,
    "start_time": "2022-01-31T18:43:48.767Z"
   },
   {
    "duration": -204,
    "start_time": "2022-01-31T18:43:48.778Z"
   },
   {
    "duration": -213,
    "start_time": "2022-01-31T18:43:48.788Z"
   },
   {
    "duration": -223,
    "start_time": "2022-01-31T18:43:48.799Z"
   },
   {
    "duration": -230,
    "start_time": "2022-01-31T18:43:48.807Z"
   },
   {
    "duration": -255,
    "start_time": "2022-01-31T18:43:48.833Z"
   },
   {
    "duration": -264,
    "start_time": "2022-01-31T18:43:48.843Z"
   },
   {
    "duration": -272,
    "start_time": "2022-01-31T18:43:48.852Z"
   },
   {
    "duration": -280,
    "start_time": "2022-01-31T18:43:48.861Z"
   },
   {
    "duration": -288,
    "start_time": "2022-01-31T18:43:48.870Z"
   },
   {
    "duration": -295,
    "start_time": "2022-01-31T18:43:48.878Z"
   },
   {
    "duration": 255,
    "start_time": "2022-01-31T18:44:39.749Z"
   },
   {
    "duration": 686,
    "start_time": "2022-01-31T18:45:20.662Z"
   },
   {
    "duration": 87,
    "start_time": "2022-01-31T18:45:21.350Z"
   },
   {
    "duration": 13,
    "start_time": "2022-01-31T18:45:21.439Z"
   },
   {
    "duration": 18,
    "start_time": "2022-01-31T18:45:21.454Z"
   },
   {
    "duration": 47,
    "start_time": "2022-01-31T18:45:21.475Z"
   },
   {
    "duration": 48,
    "start_time": "2022-01-31T18:45:21.524Z"
   },
   {
    "duration": 7,
    "start_time": "2022-01-31T18:45:21.573Z"
   },
   {
    "duration": 26,
    "start_time": "2022-01-31T18:45:21.583Z"
   },
   {
    "duration": 24,
    "start_time": "2022-01-31T18:45:21.612Z"
   },
   {
    "duration": 19,
    "start_time": "2022-01-31T18:45:21.637Z"
   },
   {
    "duration": 21,
    "start_time": "2022-01-31T18:45:21.658Z"
   },
   {
    "duration": 31,
    "start_time": "2022-01-31T18:45:21.708Z"
   },
   {
    "duration": 6,
    "start_time": "2022-01-31T18:45:21.742Z"
   },
   {
    "duration": 30,
    "start_time": "2022-01-31T18:45:21.750Z"
   },
   {
    "duration": 41,
    "start_time": "2022-01-31T18:45:21.782Z"
   },
   {
    "duration": 5,
    "start_time": "2022-01-31T18:45:21.825Z"
   },
   {
    "duration": 49,
    "start_time": "2022-01-31T18:45:21.832Z"
   },
   {
    "duration": 15,
    "start_time": "2022-01-31T18:45:21.883Z"
   },
   {
    "duration": 34,
    "start_time": "2022-01-31T18:45:21.900Z"
   },
   {
    "duration": 9,
    "start_time": "2022-01-31T18:45:21.936Z"
   },
   {
    "duration": 8,
    "start_time": "2022-01-31T18:45:21.947Z"
   },
   {
    "duration": 56,
    "start_time": "2022-01-31T18:45:21.956Z"
   },
   {
    "duration": 11534,
    "start_time": "2022-01-31T18:45:22.016Z"
   },
   {
    "duration": 28,
    "start_time": "2022-01-31T18:45:33.553Z"
   },
   {
    "duration": 25,
    "start_time": "2022-01-31T18:45:33.582Z"
   },
   {
    "duration": 12,
    "start_time": "2022-01-31T18:45:33.610Z"
   },
   {
    "duration": 24,
    "start_time": "2022-01-31T18:45:33.624Z"
   },
   {
    "duration": 222,
    "start_time": "2022-01-31T18:45:33.650Z"
   },
   {
    "duration": 15,
    "start_time": "2022-01-31T18:45:33.874Z"
   },
   {
    "duration": 28,
    "start_time": "2022-01-31T18:45:33.891Z"
   },
   {
    "duration": 228,
    "start_time": "2022-01-31T18:45:33.921Z"
   },
   {
    "duration": 15,
    "start_time": "2022-01-31T18:45:34.150Z"
   },
   {
    "duration": 16,
    "start_time": "2022-01-31T18:45:34.167Z"
   },
   {
    "duration": 369,
    "start_time": "2022-01-31T18:59:08.517Z"
   },
   {
    "duration": 7,
    "start_time": "2022-01-31T18:59:12.556Z"
   },
   {
    "duration": 15,
    "start_time": "2022-01-31T18:59:14.245Z"
   },
   {
    "duration": 223,
    "start_time": "2022-01-31T19:00:16.782Z"
   },
   {
    "duration": 261,
    "start_time": "2022-01-31T19:05:56.900Z"
   },
   {
    "duration": 687,
    "start_time": "2022-01-31T19:06:58.342Z"
   },
   {
    "duration": 94,
    "start_time": "2022-01-31T19:06:59.032Z"
   },
   {
    "duration": 18,
    "start_time": "2022-01-31T19:06:59.129Z"
   },
   {
    "duration": 26,
    "start_time": "2022-01-31T19:06:59.150Z"
   },
   {
    "duration": 54,
    "start_time": "2022-01-31T19:06:59.178Z"
   },
   {
    "duration": 48,
    "start_time": "2022-01-31T19:06:59.234Z"
   },
   {
    "duration": 8,
    "start_time": "2022-01-31T19:06:59.285Z"
   },
   {
    "duration": 34,
    "start_time": "2022-01-31T19:06:59.297Z"
   },
   {
    "duration": 24,
    "start_time": "2022-01-31T19:06:59.333Z"
   },
   {
    "duration": 17,
    "start_time": "2022-01-31T19:06:59.359Z"
   },
   {
    "duration": 44,
    "start_time": "2022-01-31T19:06:59.378Z"
   },
   {
    "duration": 64,
    "start_time": "2022-01-31T19:06:59.424Z"
   },
   {
    "duration": 8,
    "start_time": "2022-01-31T19:06:59.490Z"
   },
   {
    "duration": 19,
    "start_time": "2022-01-31T19:06:59.500Z"
   },
   {
    "duration": 22,
    "start_time": "2022-01-31T19:06:59.521Z"
   },
   {
    "duration": 5,
    "start_time": "2022-01-31T19:06:59.545Z"
   },
   {
    "duration": 33,
    "start_time": "2022-01-31T19:06:59.552Z"
   },
   {
    "duration": 9,
    "start_time": "2022-01-31T19:06:59.608Z"
   },
   {
    "duration": 29,
    "start_time": "2022-01-31T19:06:59.620Z"
   },
   {
    "duration": 9,
    "start_time": "2022-01-31T19:06:59.651Z"
   },
   {
    "duration": 9,
    "start_time": "2022-01-31T19:06:59.662Z"
   },
   {
    "duration": 25,
    "start_time": "2022-01-31T19:06:59.708Z"
   },
   {
    "duration": 11773,
    "start_time": "2022-01-31T19:06:59.737Z"
   },
   {
    "duration": 28,
    "start_time": "2022-01-31T19:07:11.512Z"
   },
   {
    "duration": 5,
    "start_time": "2022-01-31T19:07:11.542Z"
   },
   {
    "duration": 19,
    "start_time": "2022-01-31T19:07:11.548Z"
   },
   {
    "duration": 48,
    "start_time": "2022-01-31T19:07:11.569Z"
   },
   {
    "duration": 229,
    "start_time": "2022-01-31T19:07:11.619Z"
   },
   {
    "duration": 16,
    "start_time": "2022-01-31T19:07:11.849Z"
   },
   {
    "duration": 15,
    "start_time": "2022-01-31T19:07:11.866Z"
   },
   {
    "duration": 255,
    "start_time": "2022-01-31T19:07:11.883Z"
   },
   {
    "duration": 16,
    "start_time": "2022-01-31T19:07:12.141Z"
   },
   {
    "duration": 14,
    "start_time": "2022-01-31T19:07:12.159Z"
   },
   {
    "duration": 34,
    "start_time": "2022-01-31T19:07:12.176Z"
   },
   {
    "duration": 20,
    "start_time": "2022-01-31T19:07:12.212Z"
   },
   {
    "duration": 8,
    "start_time": "2022-01-31T19:12:11.954Z"
   },
   {
    "duration": 202,
    "start_time": "2022-01-31T19:25:48.986Z"
   },
   {
    "duration": 5,
    "start_time": "2022-01-31T19:30:25.747Z"
   },
   {
    "duration": 7,
    "start_time": "2022-01-31T19:31:30.196Z"
   },
   {
    "duration": 546,
    "start_time": "2022-01-31T19:33:31.861Z"
   },
   {
    "duration": 400,
    "start_time": "2022-01-31T19:33:47.979Z"
   },
   {
    "duration": 277,
    "start_time": "2022-01-31T19:34:31.686Z"
   },
   {
    "duration": 260,
    "start_time": "2022-01-31T19:34:41.751Z"
   },
   {
    "duration": 271,
    "start_time": "2022-01-31T19:34:49.911Z"
   },
   {
    "duration": 252,
    "start_time": "2022-01-31T19:34:58.545Z"
   },
   {
    "duration": 278,
    "start_time": "2022-01-31T19:35:09.400Z"
   },
   {
    "duration": 4,
    "start_time": "2022-01-31T19:36:02.184Z"
   },
   {
    "duration": 256,
    "start_time": "2022-01-31T19:36:07.442Z"
   },
   {
    "duration": 260,
    "start_time": "2022-01-31T19:38:20.096Z"
   },
   {
    "duration": 262,
    "start_time": "2022-01-31T19:38:29.798Z"
   },
   {
    "duration": 249,
    "start_time": "2022-01-31T19:41:34.890Z"
   },
   {
    "duration": 83,
    "start_time": "2022-01-31T19:44:05.070Z"
   },
   {
    "duration": 16,
    "start_time": "2022-01-31T19:45:42.201Z"
   },
   {
    "duration": 759,
    "start_time": "2022-01-31T19:46:38.153Z"
   },
   {
    "duration": 88,
    "start_time": "2022-01-31T19:46:38.915Z"
   },
   {
    "duration": 13,
    "start_time": "2022-01-31T19:46:39.005Z"
   },
   {
    "duration": 24,
    "start_time": "2022-01-31T19:46:39.021Z"
   },
   {
    "duration": 25,
    "start_time": "2022-01-31T19:46:39.047Z"
   },
   {
    "duration": 46,
    "start_time": "2022-01-31T19:46:39.075Z"
   },
   {
    "duration": 6,
    "start_time": "2022-01-31T19:46:39.123Z"
   },
   {
    "duration": 27,
    "start_time": "2022-01-31T19:46:39.132Z"
   },
   {
    "duration": 49,
    "start_time": "2022-01-31T19:46:39.162Z"
   },
   {
    "duration": 20,
    "start_time": "2022-01-31T19:46:39.213Z"
   },
   {
    "duration": 23,
    "start_time": "2022-01-31T19:46:39.235Z"
   },
   {
    "duration": 59,
    "start_time": "2022-01-31T19:46:39.260Z"
   },
   {
    "duration": 8,
    "start_time": "2022-01-31T19:46:39.321Z"
   },
   {
    "duration": 31,
    "start_time": "2022-01-31T19:46:39.331Z"
   },
   {
    "duration": 23,
    "start_time": "2022-01-31T19:46:39.364Z"
   },
   {
    "duration": 6,
    "start_time": "2022-01-31T19:46:39.408Z"
   },
   {
    "duration": 34,
    "start_time": "2022-01-31T19:46:39.416Z"
   },
   {
    "duration": 9,
    "start_time": "2022-01-31T19:46:39.453Z"
   },
   {
    "duration": 60,
    "start_time": "2022-01-31T19:46:39.464Z"
   },
   {
    "duration": 10,
    "start_time": "2022-01-31T19:46:39.526Z"
   },
   {
    "duration": 9,
    "start_time": "2022-01-31T19:46:39.538Z"
   },
   {
    "duration": 26,
    "start_time": "2022-01-31T19:46:39.549Z"
   },
   {
    "duration": 11515,
    "start_time": "2022-01-31T19:46:39.610Z"
   },
   {
    "duration": 30,
    "start_time": "2022-01-31T19:46:51.127Z"
   },
   {
    "duration": 5,
    "start_time": "2022-01-31T19:46:51.159Z"
   },
   {
    "duration": 43,
    "start_time": "2022-01-31T19:46:51.165Z"
   },
   {
    "duration": 31,
    "start_time": "2022-01-31T19:46:51.210Z"
   },
   {
    "duration": 225,
    "start_time": "2022-01-31T19:46:51.243Z"
   },
   {
    "duration": 19,
    "start_time": "2022-01-31T19:46:51.470Z"
   },
   {
    "duration": 30,
    "start_time": "2022-01-31T19:46:51.491Z"
   },
   {
    "duration": 223,
    "start_time": "2022-01-31T19:46:51.524Z"
   },
   {
    "duration": 16,
    "start_time": "2022-01-31T19:46:51.750Z"
   },
   {
    "duration": 41,
    "start_time": "2022-01-31T19:46:51.768Z"
   },
   {
    "duration": 9,
    "start_time": "2022-01-31T19:46:51.811Z"
   },
   {
    "duration": 22,
    "start_time": "2022-01-31T19:46:51.822Z"
   },
   {
    "duration": 8,
    "start_time": "2022-01-31T19:46:51.846Z"
   },
   {
    "duration": 229,
    "start_time": "2022-01-31T19:46:51.856Z"
   },
   {
    "duration": 7,
    "start_time": "2022-01-31T19:46:52.087Z"
   },
   {
    "duration": 306,
    "start_time": "2022-01-31T19:46:52.108Z"
   },
   {
    "duration": 267,
    "start_time": "2022-01-31T19:46:52.416Z"
   },
   {
    "duration": 23,
    "start_time": "2022-01-31T19:46:52.685Z"
   },
   {
    "duration": 76,
    "start_time": "2022-01-31T19:47:43.308Z"
   },
   {
    "duration": 77,
    "start_time": "2022-01-31T19:49:58.883Z"
   },
   {
    "duration": 14,
    "start_time": "2022-01-31T19:56:40.157Z"
   },
   {
    "duration": 12,
    "start_time": "2022-01-31T19:57:50.537Z"
   },
   {
    "duration": 5,
    "start_time": "2022-01-31T19:59:38.535Z"
   },
   {
    "duration": 11046,
    "start_time": "2022-01-31T20:05:47.314Z"
   },
   {
    "duration": 829,
    "start_time": "2022-01-31T20:06:29.765Z"
   },
   {
    "duration": 688,
    "start_time": "2022-01-31T20:06:52.159Z"
   },
   {
    "duration": 82,
    "start_time": "2022-01-31T20:06:52.849Z"
   },
   {
    "duration": 12,
    "start_time": "2022-01-31T20:06:52.933Z"
   },
   {
    "duration": 19,
    "start_time": "2022-01-31T20:06:52.947Z"
   },
   {
    "duration": 40,
    "start_time": "2022-01-31T20:06:52.968Z"
   },
   {
    "duration": 45,
    "start_time": "2022-01-31T20:06:53.010Z"
   },
   {
    "duration": 6,
    "start_time": "2022-01-31T20:06:53.057Z"
   },
   {
    "duration": 26,
    "start_time": "2022-01-31T20:06:53.066Z"
   },
   {
    "duration": 23,
    "start_time": "2022-01-31T20:06:53.094Z"
   },
   {
    "duration": 18,
    "start_time": "2022-01-31T20:06:53.119Z"
   },
   {
    "duration": 22,
    "start_time": "2022-01-31T20:06:53.139Z"
   },
   {
    "duration": 56,
    "start_time": "2022-01-31T20:06:53.163Z"
   },
   {
    "duration": 9,
    "start_time": "2022-01-31T20:06:53.221Z"
   },
   {
    "duration": 21,
    "start_time": "2022-01-31T20:06:53.232Z"
   },
   {
    "duration": 21,
    "start_time": "2022-01-31T20:06:53.255Z"
   },
   {
    "duration": 5,
    "start_time": "2022-01-31T20:06:53.308Z"
   },
   {
    "duration": 34,
    "start_time": "2022-01-31T20:06:53.315Z"
   },
   {
    "duration": 8,
    "start_time": "2022-01-31T20:06:53.351Z"
   },
   {
    "duration": 62,
    "start_time": "2022-01-31T20:06:53.361Z"
   },
   {
    "duration": 9,
    "start_time": "2022-01-31T20:06:53.425Z"
   },
   {
    "duration": 8,
    "start_time": "2022-01-31T20:06:53.436Z"
   },
   {
    "duration": 26,
    "start_time": "2022-01-31T20:06:53.446Z"
   },
   {
    "duration": 11721,
    "start_time": "2022-01-31T20:06:53.475Z"
   },
   {
    "duration": 29,
    "start_time": "2022-01-31T20:07:05.198Z"
   },
   {
    "duration": 15,
    "start_time": "2022-01-31T20:07:05.229Z"
   },
   {
    "duration": 21,
    "start_time": "2022-01-31T20:07:05.247Z"
   },
   {
    "duration": 25,
    "start_time": "2022-01-31T20:07:05.270Z"
   },
   {
    "duration": 210,
    "start_time": "2022-01-31T20:07:05.307Z"
   },
   {
    "duration": 15,
    "start_time": "2022-01-31T20:07:05.519Z"
   },
   {
    "duration": 20,
    "start_time": "2022-01-31T20:07:05.536Z"
   },
   {
    "duration": 239,
    "start_time": "2022-01-31T20:07:05.559Z"
   },
   {
    "duration": 16,
    "start_time": "2022-01-31T20:07:05.808Z"
   },
   {
    "duration": 28,
    "start_time": "2022-01-31T20:07:05.826Z"
   },
   {
    "duration": 16,
    "start_time": "2022-01-31T20:07:05.857Z"
   },
   {
    "duration": 37,
    "start_time": "2022-01-31T20:07:05.875Z"
   },
   {
    "duration": 11,
    "start_time": "2022-01-31T20:07:05.914Z"
   },
   {
    "duration": 222,
    "start_time": "2022-01-31T20:07:05.927Z"
   },
   {
    "duration": 5,
    "start_time": "2022-01-31T20:07:06.151Z"
   },
   {
    "duration": 317,
    "start_time": "2022-01-31T20:07:06.158Z"
   },
   {
    "duration": 259,
    "start_time": "2022-01-31T20:07:06.477Z"
   },
   {
    "duration": 15,
    "start_time": "2022-01-31T20:07:06.738Z"
   },
   {
    "duration": 14,
    "start_time": "2022-01-31T20:07:06.755Z"
   },
   {
    "duration": 191,
    "start_time": "2022-01-31T20:18:15.823Z"
   },
   {
    "duration": 9,
    "start_time": "2022-01-31T20:19:17.192Z"
   },
   {
    "duration": 805,
    "start_time": "2022-01-31T20:19:36.345Z"
   },
   {
    "duration": 88,
    "start_time": "2022-01-31T20:19:37.152Z"
   },
   {
    "duration": 13,
    "start_time": "2022-01-31T20:19:37.244Z"
   },
   {
    "duration": 17,
    "start_time": "2022-01-31T20:19:37.259Z"
   },
   {
    "duration": 43,
    "start_time": "2022-01-31T20:19:37.277Z"
   },
   {
    "duration": 46,
    "start_time": "2022-01-31T20:19:37.322Z"
   },
   {
    "duration": 6,
    "start_time": "2022-01-31T20:19:37.371Z"
   },
   {
    "duration": 29,
    "start_time": "2022-01-31T20:19:37.379Z"
   },
   {
    "duration": 25,
    "start_time": "2022-01-31T20:19:37.410Z"
   },
   {
    "duration": 22,
    "start_time": "2022-01-31T20:19:37.437Z"
   },
   {
    "duration": 60,
    "start_time": "2022-01-31T20:19:37.461Z"
   },
   {
    "duration": 35,
    "start_time": "2022-01-31T20:19:37.523Z"
   },
   {
    "duration": 8,
    "start_time": "2022-01-31T20:19:37.561Z"
   },
   {
    "duration": 47,
    "start_time": "2022-01-31T20:19:37.571Z"
   },
   {
    "duration": 19,
    "start_time": "2022-01-31T20:19:37.621Z"
   },
   {
    "duration": 5,
    "start_time": "2022-01-31T20:19:37.642Z"
   },
   {
    "duration": 60,
    "start_time": "2022-01-31T20:19:37.649Z"
   },
   {
    "duration": 9,
    "start_time": "2022-01-31T20:19:37.711Z"
   },
   {
    "duration": 44,
    "start_time": "2022-01-31T20:19:37.722Z"
   },
   {
    "duration": 12,
    "start_time": "2022-01-31T20:19:37.768Z"
   },
   {
    "duration": 29,
    "start_time": "2022-01-31T20:19:37.782Z"
   },
   {
    "duration": 26,
    "start_time": "2022-01-31T20:19:37.814Z"
   },
   {
    "duration": 269,
    "start_time": "2022-01-31T20:19:37.843Z"
   },
   {
    "duration": 5,
    "start_time": "2022-01-31T20:19:38.114Z"
   },
   {
    "duration": 21,
    "start_time": "2022-01-31T20:19:38.121Z"
   },
   {
    "duration": 30,
    "start_time": "2022-01-31T20:19:38.144Z"
   },
   {
    "duration": 232,
    "start_time": "2022-01-31T20:19:38.176Z"
   },
   {
    "duration": 15,
    "start_time": "2022-01-31T20:19:38.410Z"
   },
   {
    "duration": 16,
    "start_time": "2022-01-31T20:19:38.427Z"
   },
   {
    "duration": 246,
    "start_time": "2022-01-31T20:19:38.445Z"
   },
   {
    "duration": 23,
    "start_time": "2022-01-31T20:19:38.693Z"
   },
   {
    "duration": 16,
    "start_time": "2022-01-31T20:19:38.718Z"
   },
   {
    "duration": 20,
    "start_time": "2022-01-31T20:19:38.736Z"
   },
   {
    "duration": 113,
    "start_time": "2022-01-31T20:19:38.758Z"
   },
   {
    "duration": 14,
    "start_time": "2022-01-31T20:19:38.874Z"
   },
   {
    "duration": 283,
    "start_time": "2022-01-31T20:19:38.890Z"
   },
   {
    "duration": 6,
    "start_time": "2022-01-31T20:19:39.176Z"
   },
   {
    "duration": 364,
    "start_time": "2022-01-31T20:19:39.184Z"
   },
   {
    "duration": 365,
    "start_time": "2022-01-31T20:19:39.551Z"
   },
   {
    "duration": 19,
    "start_time": "2022-01-31T20:19:39.919Z"
   },
   {
    "duration": 26,
    "start_time": "2022-01-31T20:19:39.940Z"
   },
   {
    "duration": 22,
    "start_time": "2022-01-31T20:24:06.824Z"
   },
   {
    "duration": 787,
    "start_time": "2022-01-31T20:31:48.424Z"
   },
   {
    "duration": 107,
    "start_time": "2022-01-31T20:31:49.214Z"
   },
   {
    "duration": 16,
    "start_time": "2022-01-31T20:31:49.323Z"
   },
   {
    "duration": 24,
    "start_time": "2022-01-31T20:31:49.341Z"
   },
   {
    "duration": 53,
    "start_time": "2022-01-31T20:31:49.367Z"
   },
   {
    "duration": 47,
    "start_time": "2022-01-31T20:31:49.422Z"
   },
   {
    "duration": 6,
    "start_time": "2022-01-31T20:31:49.471Z"
   },
   {
    "duration": 24,
    "start_time": "2022-01-31T20:31:49.480Z"
   },
   {
    "duration": 22,
    "start_time": "2022-01-31T20:31:49.507Z"
   },
   {
    "duration": 17,
    "start_time": "2022-01-31T20:31:49.531Z"
   },
   {
    "duration": 24,
    "start_time": "2022-01-31T20:31:49.550Z"
   },
   {
    "duration": 56,
    "start_time": "2022-01-31T20:31:49.576Z"
   },
   {
    "duration": 8,
    "start_time": "2022-01-31T20:31:49.634Z"
   },
   {
    "duration": 20,
    "start_time": "2022-01-31T20:31:49.644Z"
   },
   {
    "duration": 54,
    "start_time": "2022-01-31T20:31:49.667Z"
   },
   {
    "duration": 6,
    "start_time": "2022-01-31T20:31:49.723Z"
   },
   {
    "duration": 33,
    "start_time": "2022-01-31T20:31:49.731Z"
   },
   {
    "duration": 9,
    "start_time": "2022-01-31T20:31:49.766Z"
   },
   {
    "duration": 54,
    "start_time": "2022-01-31T20:31:49.777Z"
   },
   {
    "duration": 10,
    "start_time": "2022-01-31T20:31:49.833Z"
   },
   {
    "duration": 9,
    "start_time": "2022-01-31T20:31:49.845Z"
   },
   {
    "duration": 54,
    "start_time": "2022-01-31T20:31:49.856Z"
   },
   {
    "duration": 187,
    "start_time": "2022-01-31T20:31:49.915Z"
   },
   {
    "duration": 6,
    "start_time": "2022-01-31T20:31:50.105Z"
   },
   {
    "duration": 16,
    "start_time": "2022-01-31T20:31:50.113Z"
   },
   {
    "duration": 24,
    "start_time": "2022-01-31T20:31:50.132Z"
   },
   {
    "duration": 223,
    "start_time": "2022-01-31T20:31:50.158Z"
   },
   {
    "duration": 14,
    "start_time": "2022-01-31T20:31:50.383Z"
   },
   {
    "duration": 16,
    "start_time": "2022-01-31T20:31:50.408Z"
   },
   {
    "duration": 242,
    "start_time": "2022-01-31T20:31:50.426Z"
   },
   {
    "duration": 20,
    "start_time": "2022-01-31T20:31:50.670Z"
   },
   {
    "duration": 18,
    "start_time": "2022-01-31T20:31:50.707Z"
   },
   {
    "duration": 9,
    "start_time": "2022-01-31T20:31:50.728Z"
   },
   {
    "duration": 104,
    "start_time": "2022-01-31T20:31:50.739Z"
   },
   {
    "duration": 15,
    "start_time": "2022-01-31T20:31:50.845Z"
   },
   {
    "duration": 216,
    "start_time": "2022-01-31T20:31:50.863Z"
   },
   {
    "duration": 5,
    "start_time": "2022-01-31T20:31:51.082Z"
   },
   {
    "duration": 261,
    "start_time": "2022-01-31T20:31:51.089Z"
   },
   {
    "duration": 267,
    "start_time": "2022-01-31T20:31:51.352Z"
   },
   {
    "duration": 13,
    "start_time": "2022-01-31T20:31:51.621Z"
   },
   {
    "duration": 17,
    "start_time": "2022-01-31T20:31:51.636Z"
   },
   {
    "duration": 90,
    "start_time": "2022-01-31T20:31:51.655Z"
   },
   {
    "duration": 80,
    "start_time": "2022-01-31T20:31:52.172Z"
   },
   {
    "duration": 898,
    "start_time": "2022-01-31T20:33:01.922Z"
   },
   {
    "duration": 109,
    "start_time": "2022-01-31T20:33:02.823Z"
   },
   {
    "duration": 16,
    "start_time": "2022-01-31T20:33:02.935Z"
   },
   {
    "duration": 40,
    "start_time": "2022-01-31T20:33:02.954Z"
   },
   {
    "duration": 22,
    "start_time": "2022-01-31T20:33:02.996Z"
   },
   {
    "duration": 54,
    "start_time": "2022-01-31T20:33:03.020Z"
   },
   {
    "duration": 6,
    "start_time": "2022-01-31T20:33:03.076Z"
   },
   {
    "duration": 32,
    "start_time": "2022-01-31T20:33:03.085Z"
   },
   {
    "duration": 27,
    "start_time": "2022-01-31T20:33:03.119Z"
   },
   {
    "duration": 20,
    "start_time": "2022-01-31T20:33:03.149Z"
   },
   {
    "duration": 54,
    "start_time": "2022-01-31T20:33:03.171Z"
   },
   {
    "duration": 28,
    "start_time": "2022-01-31T20:33:03.228Z"
   },
   {
    "duration": 6,
    "start_time": "2022-01-31T20:33:03.258Z"
   },
   {
    "duration": 49,
    "start_time": "2022-01-31T20:33:03.266Z"
   },
   {
    "duration": 20,
    "start_time": "2022-01-31T20:33:03.317Z"
   },
   {
    "duration": 5,
    "start_time": "2022-01-31T20:33:03.339Z"
   },
   {
    "duration": 34,
    "start_time": "2022-01-31T20:33:03.345Z"
   },
   {
    "duration": 9,
    "start_time": "2022-01-31T20:33:03.407Z"
   },
   {
    "duration": 30,
    "start_time": "2022-01-31T20:33:03.418Z"
   },
   {
    "duration": 8,
    "start_time": "2022-01-31T20:33:03.450Z"
   },
   {
    "duration": 9,
    "start_time": "2022-01-31T20:33:03.460Z"
   },
   {
    "duration": 59,
    "start_time": "2022-01-31T20:33:03.471Z"
   },
   {
    "duration": 186,
    "start_time": "2022-01-31T20:33:03.534Z"
   },
   {
    "duration": 4,
    "start_time": "2022-01-31T20:33:03.723Z"
   },
   {
    "duration": 17,
    "start_time": "2022-01-31T20:33:03.729Z"
   },
   {
    "duration": 26,
    "start_time": "2022-01-31T20:33:03.748Z"
   },
   {
    "duration": 234,
    "start_time": "2022-01-31T20:33:03.776Z"
   },
   {
    "duration": 18,
    "start_time": "2022-01-31T20:33:04.012Z"
   },
   {
    "duration": 17,
    "start_time": "2022-01-31T20:33:04.032Z"
   },
   {
    "duration": 260,
    "start_time": "2022-01-31T20:33:04.051Z"
   },
   {
    "duration": 15,
    "start_time": "2022-01-31T20:33:04.312Z"
   },
   {
    "duration": 21,
    "start_time": "2022-01-31T20:33:04.329Z"
   },
   {
    "duration": 9,
    "start_time": "2022-01-31T20:33:04.352Z"
   },
   {
    "duration": 110,
    "start_time": "2022-01-31T20:33:04.363Z"
   },
   {
    "duration": 14,
    "start_time": "2022-01-31T20:33:04.475Z"
   },
   {
    "duration": 226,
    "start_time": "2022-01-31T20:33:04.491Z"
   },
   {
    "duration": 6,
    "start_time": "2022-01-31T20:33:04.719Z"
   },
   {
    "duration": 270,
    "start_time": "2022-01-31T20:33:04.727Z"
   },
   {
    "duration": 267,
    "start_time": "2022-01-31T20:33:04.999Z"
   },
   {
    "duration": 14,
    "start_time": "2022-01-31T20:33:05.268Z"
   },
   {
    "duration": 32,
    "start_time": "2022-01-31T20:33:05.284Z"
   },
   {
    "duration": 754,
    "start_time": "2022-01-31T20:36:59.881Z"
   },
   {
    "duration": 87,
    "start_time": "2022-01-31T20:37:00.637Z"
   },
   {
    "duration": 14,
    "start_time": "2022-01-31T20:37:00.727Z"
   },
   {
    "duration": 24,
    "start_time": "2022-01-31T20:37:00.744Z"
   },
   {
    "duration": 44,
    "start_time": "2022-01-31T20:37:00.771Z"
   },
   {
    "duration": 59,
    "start_time": "2022-01-31T20:37:00.818Z"
   },
   {
    "duration": 12,
    "start_time": "2022-01-31T20:37:00.879Z"
   },
   {
    "duration": 50,
    "start_time": "2022-01-31T20:37:00.894Z"
   },
   {
    "duration": 24,
    "start_time": "2022-01-31T20:37:00.947Z"
   },
   {
    "duration": 19,
    "start_time": "2022-01-31T20:37:00.973Z"
   },
   {
    "duration": 46,
    "start_time": "2022-01-31T20:37:00.995Z"
   },
   {
    "duration": 38,
    "start_time": "2022-01-31T20:37:01.044Z"
   },
   {
    "duration": 8,
    "start_time": "2022-01-31T20:37:01.084Z"
   },
   {
    "duration": 30,
    "start_time": "2022-01-31T20:37:01.094Z"
   },
   {
    "duration": 41,
    "start_time": "2022-01-31T20:37:01.126Z"
   },
   {
    "duration": 13,
    "start_time": "2022-01-31T20:37:01.170Z"
   },
   {
    "duration": 38,
    "start_time": "2022-01-31T20:37:01.185Z"
   },
   {
    "duration": 9,
    "start_time": "2022-01-31T20:37:01.225Z"
   },
   {
    "duration": 31,
    "start_time": "2022-01-31T20:37:01.237Z"
   },
   {
    "duration": 9,
    "start_time": "2022-01-31T20:37:01.270Z"
   },
   {
    "duration": 35,
    "start_time": "2022-01-31T20:37:01.280Z"
   },
   {
    "duration": 26,
    "start_time": "2022-01-31T20:37:01.317Z"
   },
   {
    "duration": 213,
    "start_time": "2022-01-31T20:37:01.347Z"
   },
   {
    "duration": 4,
    "start_time": "2022-01-31T20:37:01.562Z"
   },
   {
    "duration": 30,
    "start_time": "2022-01-31T20:37:01.568Z"
   },
   {
    "duration": 35,
    "start_time": "2022-01-31T20:37:01.600Z"
   },
   {
    "duration": 215,
    "start_time": "2022-01-31T20:37:01.637Z"
   },
   {
    "duration": 16,
    "start_time": "2022-01-31T20:37:01.854Z"
   },
   {
    "duration": 85,
    "start_time": "2022-01-31T20:37:01.873Z"
   },
   {
    "duration": 307,
    "start_time": "2022-01-31T20:37:01.960Z"
   },
   {
    "duration": 21,
    "start_time": "2022-01-31T20:37:02.270Z"
   },
   {
    "duration": 19,
    "start_time": "2022-01-31T20:37:02.312Z"
   },
   {
    "duration": 21,
    "start_time": "2022-01-31T20:37:02.333Z"
   },
   {
    "duration": 84,
    "start_time": "2022-01-31T20:37:02.356Z"
   },
   {
    "duration": 13,
    "start_time": "2022-01-31T20:37:02.442Z"
   },
   {
    "duration": 229,
    "start_time": "2022-01-31T20:37:02.457Z"
   },
   {
    "duration": 7,
    "start_time": "2022-01-31T20:37:02.688Z"
   },
   {
    "duration": 282,
    "start_time": "2022-01-31T20:37:02.697Z"
   },
   {
    "duration": 262,
    "start_time": "2022-01-31T20:37:02.982Z"
   },
   {
    "duration": 15,
    "start_time": "2022-01-31T20:37:03.246Z"
   },
   {
    "duration": 18,
    "start_time": "2022-01-31T20:37:03.262Z"
   },
   {
    "duration": 2203,
    "start_time": "2022-01-31T20:37:51.658Z"
   },
   {
    "duration": 2283,
    "start_time": "2022-01-31T20:38:11.816Z"
   },
   {
    "duration": 715,
    "start_time": "2022-01-31T20:44:33.711Z"
   },
   {
    "duration": 84,
    "start_time": "2022-01-31T20:44:34.428Z"
   },
   {
    "duration": 12,
    "start_time": "2022-01-31T20:44:34.514Z"
   },
   {
    "duration": 20,
    "start_time": "2022-01-31T20:44:34.528Z"
   },
   {
    "duration": 23,
    "start_time": "2022-01-31T20:44:34.550Z"
   },
   {
    "duration": 47,
    "start_time": "2022-01-31T20:44:34.575Z"
   },
   {
    "duration": 6,
    "start_time": "2022-01-31T20:44:34.624Z"
   },
   {
    "duration": 23,
    "start_time": "2022-01-31T20:44:34.634Z"
   },
   {
    "duration": 56,
    "start_time": "2022-01-31T20:44:34.660Z"
   },
   {
    "duration": 19,
    "start_time": "2022-01-31T20:44:34.718Z"
   },
   {
    "duration": 24,
    "start_time": "2022-01-31T20:44:34.739Z"
   },
   {
    "duration": 58,
    "start_time": "2022-01-31T20:44:34.765Z"
   },
   {
    "duration": 8,
    "start_time": "2022-01-31T20:44:34.825Z"
   },
   {
    "duration": 24,
    "start_time": "2022-01-31T20:44:34.835Z"
   },
   {
    "duration": 48,
    "start_time": "2022-01-31T20:44:34.861Z"
   },
   {
    "duration": 5,
    "start_time": "2022-01-31T20:44:34.911Z"
   },
   {
    "duration": 37,
    "start_time": "2022-01-31T20:44:34.917Z"
   },
   {
    "duration": 12,
    "start_time": "2022-01-31T20:44:34.956Z"
   },
   {
    "duration": 52,
    "start_time": "2022-01-31T20:44:34.970Z"
   },
   {
    "duration": 8,
    "start_time": "2022-01-31T20:44:35.024Z"
   },
   {
    "duration": 12,
    "start_time": "2022-01-31T20:44:35.033Z"
   },
   {
    "duration": 29,
    "start_time": "2022-01-31T20:44:35.047Z"
   },
   {
    "duration": 195,
    "start_time": "2022-01-31T20:44:35.080Z"
   },
   {
    "duration": 6,
    "start_time": "2022-01-31T20:44:35.278Z"
   },
   {
    "duration": 27,
    "start_time": "2022-01-31T20:44:35.286Z"
   },
   {
    "duration": 24,
    "start_time": "2022-01-31T20:44:35.316Z"
   },
   {
    "duration": 227,
    "start_time": "2022-01-31T20:44:35.342Z"
   },
   {
    "duration": 16,
    "start_time": "2022-01-31T20:44:35.571Z"
   },
   {
    "duration": 31,
    "start_time": "2022-01-31T20:44:35.589Z"
   },
   {
    "duration": 240,
    "start_time": "2022-01-31T20:44:35.621Z"
   },
   {
    "duration": 15,
    "start_time": "2022-01-31T20:44:35.863Z"
   },
   {
    "duration": 31,
    "start_time": "2022-01-31T20:44:35.880Z"
   },
   {
    "duration": 7,
    "start_time": "2022-01-31T20:44:35.913Z"
   },
   {
    "duration": 66,
    "start_time": "2022-01-31T20:44:35.922Z"
   },
   {
    "duration": 28,
    "start_time": "2022-01-31T20:44:35.990Z"
   },
   {
    "duration": 219,
    "start_time": "2022-01-31T20:44:36.020Z"
   },
   {
    "duration": 6,
    "start_time": "2022-01-31T20:44:36.241Z"
   },
   {
    "duration": 270,
    "start_time": "2022-01-31T20:44:36.249Z"
   },
   {
    "duration": 274,
    "start_time": "2022-01-31T20:44:36.521Z"
   },
   {
    "duration": 21,
    "start_time": "2022-01-31T20:44:36.797Z"
   },
   {
    "duration": 16,
    "start_time": "2022-01-31T20:44:36.820Z"
   },
   {
    "duration": 3,
    "start_time": "2022-01-31T20:48:57.017Z"
   },
   {
    "duration": 814,
    "start_time": "2022-01-31T20:53:32.681Z"
   },
   {
    "duration": 107,
    "start_time": "2022-01-31T20:53:33.497Z"
   },
   {
    "duration": 16,
    "start_time": "2022-01-31T20:53:33.607Z"
   },
   {
    "duration": 29,
    "start_time": "2022-01-31T20:53:33.625Z"
   },
   {
    "duration": 30,
    "start_time": "2022-01-31T20:53:33.656Z"
   },
   {
    "duration": 49,
    "start_time": "2022-01-31T20:53:33.707Z"
   },
   {
    "duration": 8,
    "start_time": "2022-01-31T20:53:33.758Z"
   },
   {
    "duration": 34,
    "start_time": "2022-01-31T20:53:33.769Z"
   },
   {
    "duration": 31,
    "start_time": "2022-01-31T20:53:33.806Z"
   },
   {
    "duration": 22,
    "start_time": "2022-01-31T20:53:33.839Z"
   },
   {
    "duration": 29,
    "start_time": "2022-01-31T20:53:33.863Z"
   },
   {
    "duration": 28,
    "start_time": "2022-01-31T20:53:33.908Z"
   },
   {
    "duration": 7,
    "start_time": "2022-01-31T20:53:33.938Z"
   },
   {
    "duration": 23,
    "start_time": "2022-01-31T20:53:33.947Z"
   },
   {
    "duration": 45,
    "start_time": "2022-01-31T20:53:33.972Z"
   },
   {
    "duration": 5,
    "start_time": "2022-01-31T20:53:34.019Z"
   },
   {
    "duration": 36,
    "start_time": "2022-01-31T20:53:34.026Z"
   },
   {
    "duration": 13,
    "start_time": "2022-01-31T20:53:34.064Z"
   },
   {
    "duration": 50,
    "start_time": "2022-01-31T20:53:34.080Z"
   },
   {
    "duration": 8,
    "start_time": "2022-01-31T20:53:34.131Z"
   },
   {
    "duration": 11,
    "start_time": "2022-01-31T20:53:34.141Z"
   },
   {
    "duration": 25,
    "start_time": "2022-01-31T20:53:34.154Z"
   },
   {
    "duration": 190,
    "start_time": "2022-01-31T20:53:34.207Z"
   },
   {
    "duration": 8,
    "start_time": "2022-01-31T20:53:34.400Z"
   },
   {
    "duration": 13,
    "start_time": "2022-01-31T20:53:34.410Z"
   },
   {
    "duration": 26,
    "start_time": "2022-01-31T20:53:34.425Z"
   },
   {
    "duration": 229,
    "start_time": "2022-01-31T20:53:34.453Z"
   },
   {
    "duration": 29,
    "start_time": "2022-01-31T20:53:34.684Z"
   },
   {
    "duration": 15,
    "start_time": "2022-01-31T20:53:34.715Z"
   },
   {
    "duration": 233,
    "start_time": "2022-01-31T20:53:34.732Z"
   },
   {
    "duration": 17,
    "start_time": "2022-01-31T20:53:34.967Z"
   },
   {
    "duration": 27,
    "start_time": "2022-01-31T20:53:34.986Z"
   },
   {
    "duration": 10,
    "start_time": "2022-01-31T20:53:35.016Z"
   },
   {
    "duration": 98,
    "start_time": "2022-01-31T20:53:35.028Z"
   },
   {
    "duration": 12,
    "start_time": "2022-01-31T20:53:35.128Z"
   },
   {
    "duration": 233,
    "start_time": "2022-01-31T20:53:35.142Z"
   },
   {
    "duration": 6,
    "start_time": "2022-01-31T20:53:35.376Z"
   },
   {
    "duration": 267,
    "start_time": "2022-01-31T20:53:35.384Z"
   },
   {
    "duration": 264,
    "start_time": "2022-01-31T20:53:35.653Z"
   },
   {
    "duration": 15,
    "start_time": "2022-01-31T20:53:35.919Z"
   },
   {
    "duration": 28,
    "start_time": "2022-01-31T20:53:35.936Z"
   },
   {
    "duration": 764,
    "start_time": "2022-01-31T20:54:40.386Z"
   },
   {
    "duration": 85,
    "start_time": "2022-01-31T20:54:41.152Z"
   },
   {
    "duration": 12,
    "start_time": "2022-01-31T20:54:41.240Z"
   },
   {
    "duration": 17,
    "start_time": "2022-01-31T20:54:41.255Z"
   },
   {
    "duration": 47,
    "start_time": "2022-01-31T20:54:41.273Z"
   },
   {
    "duration": 45,
    "start_time": "2022-01-31T20:54:41.322Z"
   },
   {
    "duration": 7,
    "start_time": "2022-01-31T20:54:41.369Z"
   },
   {
    "duration": 24,
    "start_time": "2022-01-31T20:54:41.379Z"
   },
   {
    "duration": 24,
    "start_time": "2022-01-31T20:54:41.405Z"
   },
   {
    "duration": 18,
    "start_time": "2022-01-31T20:54:41.431Z"
   },
   {
    "duration": 24,
    "start_time": "2022-01-31T20:54:41.451Z"
   },
   {
    "duration": 54,
    "start_time": "2022-01-31T20:54:41.477Z"
   },
   {
    "duration": 8,
    "start_time": "2022-01-31T20:54:41.534Z"
   },
   {
    "duration": 22,
    "start_time": "2022-01-31T20:54:41.544Z"
   },
   {
    "duration": 54,
    "start_time": "2022-01-31T20:54:41.568Z"
   },
   {
    "duration": 5,
    "start_time": "2022-01-31T20:54:41.624Z"
   },
   {
    "duration": 33,
    "start_time": "2022-01-31T20:54:41.630Z"
   },
   {
    "duration": 8,
    "start_time": "2022-01-31T20:54:41.665Z"
   },
   {
    "duration": 54,
    "start_time": "2022-01-31T20:54:41.675Z"
   },
   {
    "duration": 9,
    "start_time": "2022-01-31T20:54:41.731Z"
   },
   {
    "duration": 10,
    "start_time": "2022-01-31T20:54:41.742Z"
   },
   {
    "duration": 54,
    "start_time": "2022-01-31T20:54:41.754Z"
   },
   {
    "duration": 179,
    "start_time": "2022-01-31T20:54:41.812Z"
   },
   {
    "duration": 4,
    "start_time": "2022-01-31T20:54:41.994Z"
   },
   {
    "duration": 13,
    "start_time": "2022-01-31T20:54:42.007Z"
   },
   {
    "duration": 32,
    "start_time": "2022-01-31T20:54:42.022Z"
   },
   {
    "duration": 226,
    "start_time": "2022-01-31T20:54:42.055Z"
   },
   {
    "duration": 26,
    "start_time": "2022-01-31T20:54:42.283Z"
   },
   {
    "duration": 16,
    "start_time": "2022-01-31T20:54:42.310Z"
   },
   {
    "duration": 233,
    "start_time": "2022-01-31T20:54:42.328Z"
   },
   {
    "duration": 14,
    "start_time": "2022-01-31T20:54:42.563Z"
   },
   {
    "duration": 36,
    "start_time": "2022-01-31T20:54:42.579Z"
   },
   {
    "duration": 8,
    "start_time": "2022-01-31T20:54:42.617Z"
   },
   {
    "duration": 80,
    "start_time": "2022-01-31T20:54:42.627Z"
   },
   {
    "duration": 11,
    "start_time": "2022-01-31T20:54:42.710Z"
   },
   {
    "duration": 217,
    "start_time": "2022-01-31T20:54:42.723Z"
   },
   {
    "duration": 6,
    "start_time": "2022-01-31T20:54:42.942Z"
   },
   {
    "duration": 265,
    "start_time": "2022-01-31T20:54:42.950Z"
   },
   {
    "duration": 263,
    "start_time": "2022-01-31T20:54:43.217Z"
   },
   {
    "duration": 14,
    "start_time": "2022-01-31T20:54:43.482Z"
   },
   {
    "duration": 20,
    "start_time": "2022-01-31T20:54:43.498Z"
   },
   {
    "duration": 104,
    "start_time": "2022-02-10T04:46:29.215Z"
   },
   {
    "duration": 326,
    "start_time": "2022-02-10T05:16:23.683Z"
   },
   {
    "duration": 853,
    "start_time": "2022-02-10T05:16:29.396Z"
   },
   {
    "duration": 67,
    "start_time": "2022-02-10T05:16:30.250Z"
   },
   {
    "duration": 10,
    "start_time": "2022-02-10T05:16:30.319Z"
   },
   {
    "duration": 28,
    "start_time": "2022-02-10T05:16:30.330Z"
   },
   {
    "duration": 18,
    "start_time": "2022-02-10T05:16:30.359Z"
   },
   {
    "duration": 25,
    "start_time": "2022-02-10T05:16:30.379Z"
   },
   {
    "duration": 9,
    "start_time": "2022-02-10T05:16:30.405Z"
   },
   {
    "duration": 19,
    "start_time": "2022-02-10T05:16:30.417Z"
   },
   {
    "duration": 20,
    "start_time": "2022-02-10T05:16:30.438Z"
   },
   {
    "duration": 15,
    "start_time": "2022-02-10T05:16:30.459Z"
   },
   {
    "duration": 51,
    "start_time": "2022-02-10T05:16:30.475Z"
   },
   {
    "duration": 24,
    "start_time": "2022-02-10T05:16:30.528Z"
   },
   {
    "duration": 5,
    "start_time": "2022-02-10T05:16:30.554Z"
   },
   {
    "duration": 17,
    "start_time": "2022-02-10T05:16:30.561Z"
   },
   {
    "duration": 46,
    "start_time": "2022-02-10T05:16:30.580Z"
   },
   {
    "duration": 4,
    "start_time": "2022-02-10T05:16:30.627Z"
   },
   {
    "duration": 30,
    "start_time": "2022-02-10T05:16:30.633Z"
   },
   {
    "duration": 8,
    "start_time": "2022-02-10T05:16:30.665Z"
   },
   {
    "duration": 48,
    "start_time": "2022-02-10T05:16:30.675Z"
   },
   {
    "duration": 7,
    "start_time": "2022-02-10T05:16:30.725Z"
   },
   {
    "duration": 11,
    "start_time": "2022-02-10T05:16:30.734Z"
   },
   {
    "duration": 24,
    "start_time": "2022-02-10T05:16:30.747Z"
   },
   {
    "duration": 178,
    "start_time": "2022-02-10T05:16:30.774Z"
   },
   {
    "duration": 4,
    "start_time": "2022-02-10T05:16:30.954Z"
   },
   {
    "duration": 67,
    "start_time": "2022-02-10T05:16:30.959Z"
   },
   {
    "duration": 22,
    "start_time": "2022-02-10T05:16:31.028Z"
   },
   {
    "duration": 391,
    "start_time": "2022-02-10T05:16:31.051Z"
   },
   {
    "duration": 4,
    "start_time": "2022-02-10T05:16:31.444Z"
   },
   {
    "duration": 14,
    "start_time": "2022-02-10T05:16:31.450Z"
   },
   {
    "duration": 13,
    "start_time": "2022-02-10T05:16:31.465Z"
   },
   {
    "duration": 224,
    "start_time": "2022-02-10T05:16:31.480Z"
   },
   {
    "duration": 16,
    "start_time": "2022-02-10T05:16:31.705Z"
   },
   {
    "duration": 11,
    "start_time": "2022-02-10T05:16:31.723Z"
   },
   {
    "duration": 5,
    "start_time": "2022-02-10T05:16:31.736Z"
   },
   {
    "duration": 75,
    "start_time": "2022-02-10T05:16:31.743Z"
   },
   {
    "duration": 9,
    "start_time": "2022-02-10T05:16:31.819Z"
   },
   {
    "duration": 202,
    "start_time": "2022-02-10T05:16:31.830Z"
   },
   {
    "duration": 4,
    "start_time": "2022-02-10T05:16:32.034Z"
   },
   {
    "duration": 249,
    "start_time": "2022-02-10T05:16:32.040Z"
   },
   {
    "duration": 244,
    "start_time": "2022-02-10T05:16:32.290Z"
   },
   {
    "duration": 13,
    "start_time": "2022-02-10T05:16:32.536Z"
   },
   {
    "duration": 13,
    "start_time": "2022-02-10T05:16:32.550Z"
   },
   {
    "duration": 6,
    "start_time": "2022-02-10T05:17:38.854Z"
   },
   {
    "duration": 199,
    "start_time": "2022-02-10T05:48:51.731Z"
   },
   {
    "duration": 193,
    "start_time": "2022-02-10T05:49:03.626Z"
   },
   {
    "duration": 30,
    "start_time": "2022-02-10T05:59:12.193Z"
   },
   {
    "duration": 9,
    "start_time": "2022-02-10T05:59:27.820Z"
   },
   {
    "duration": 10,
    "start_time": "2022-02-10T06:00:05.201Z"
   },
   {
    "duration": 1767,
    "start_time": "2022-02-11T07:34:35.892Z"
   },
   {
    "duration": 1369,
    "start_time": "2022-02-11T07:34:37.662Z"
   },
   {
    "duration": 24,
    "start_time": "2022-02-11T07:34:39.035Z"
   },
   {
    "duration": 28,
    "start_time": "2022-02-11T07:34:39.062Z"
   },
   {
    "duration": 33,
    "start_time": "2022-02-11T07:34:39.092Z"
   },
   {
    "duration": 44,
    "start_time": "2022-02-11T07:34:39.128Z"
   },
   {
    "duration": 1679,
    "start_time": "2022-02-11T07:34:39.175Z"
   },
   {
    "duration": 9,
    "start_time": "2022-02-11T07:34:40.858Z"
   },
   {
    "duration": 35,
    "start_time": "2022-02-11T07:34:40.870Z"
   },
   {
    "duration": 54,
    "start_time": "2022-02-11T07:34:40.907Z"
   },
   {
    "duration": 21,
    "start_time": "2022-02-11T07:34:40.964Z"
   },
   {
    "duration": 29,
    "start_time": "2022-02-11T07:34:40.988Z"
   },
   {
    "duration": 68,
    "start_time": "2022-02-11T07:34:41.020Z"
   },
   {
    "duration": 9,
    "start_time": "2022-02-11T07:34:41.090Z"
   },
   {
    "duration": 29,
    "start_time": "2022-02-11T07:34:41.101Z"
   },
   {
    "duration": 29,
    "start_time": "2022-02-11T07:34:41.160Z"
   },
   {
    "duration": 8,
    "start_time": "2022-02-11T07:34:41.192Z"
   },
   {
    "duration": 81,
    "start_time": "2022-02-11T07:34:41.203Z"
   },
   {
    "duration": 10,
    "start_time": "2022-02-11T07:34:41.286Z"
   },
   {
    "duration": 62,
    "start_time": "2022-02-11T07:34:41.299Z"
   },
   {
    "duration": 10,
    "start_time": "2022-02-11T07:34:41.364Z"
   },
   {
    "duration": 9,
    "start_time": "2022-02-11T07:34:41.376Z"
   },
   {
    "duration": 69,
    "start_time": "2022-02-11T07:34:41.390Z"
   },
   {
    "duration": 264,
    "start_time": "2022-02-11T07:34:41.462Z"
   },
   {
    "duration": 5,
    "start_time": "2022-02-11T07:34:41.728Z"
   },
   {
    "duration": 28,
    "start_time": "2022-02-11T07:34:41.735Z"
   },
   {
    "duration": 32,
    "start_time": "2022-02-11T07:34:41.765Z"
   },
   {
    "duration": 318,
    "start_time": "2022-02-11T07:34:41.800Z"
   },
   {
    "duration": 17,
    "start_time": "2022-02-11T07:34:42.120Z"
   },
   {
    "duration": 34,
    "start_time": "2022-02-11T07:34:42.140Z"
   },
   {
    "duration": 334,
    "start_time": "2022-02-11T07:34:42.176Z"
   },
   {
    "duration": 363,
    "start_time": "2022-02-11T07:34:42.512Z"
   },
   {
    "duration": 30,
    "start_time": "2022-02-11T07:34:42.879Z"
   },
   {
    "duration": 22,
    "start_time": "2022-02-11T07:34:42.912Z"
   },
   {
    "duration": 33,
    "start_time": "2022-02-11T07:34:42.936Z"
   },
   {
    "duration": 27,
    "start_time": "2022-02-11T07:34:42.972Z"
   },
   {
    "duration": 14,
    "start_time": "2022-02-11T07:34:43.001Z"
   },
   {
    "duration": 51,
    "start_time": "2022-02-11T07:34:43.017Z"
   },
   {
    "duration": 323,
    "start_time": "2022-02-11T07:34:43.071Z"
   },
   {
    "duration": 7,
    "start_time": "2022-02-11T07:34:43.396Z"
   },
   {
    "duration": 463,
    "start_time": "2022-02-11T07:34:43.405Z"
   },
   {
    "duration": 401,
    "start_time": "2022-02-11T07:34:43.871Z"
   },
   {
    "duration": 18,
    "start_time": "2022-02-11T07:34:44.274Z"
   },
   {
    "duration": 21,
    "start_time": "2022-02-11T07:34:44.295Z"
   },
   {
    "duration": 7,
    "start_time": "2022-02-11T07:35:23.697Z"
   },
   {
    "duration": 9,
    "start_time": "2022-02-11T07:41:39.492Z"
   },
   {
    "duration": 873,
    "start_time": "2022-02-11T07:41:52.875Z"
   },
   {
    "duration": 96,
    "start_time": "2022-02-11T07:41:53.751Z"
   },
   {
    "duration": 22,
    "start_time": "2022-02-11T07:41:53.851Z"
   },
   {
    "duration": 17,
    "start_time": "2022-02-11T07:41:53.876Z"
   },
   {
    "duration": 5,
    "start_time": "2022-02-11T07:41:53.895Z"
   },
   {
    "duration": 60,
    "start_time": "2022-02-11T07:41:53.902Z"
   },
   {
    "duration": 63,
    "start_time": "2022-02-11T07:41:53.964Z"
   },
   {
    "duration": 7,
    "start_time": "2022-02-11T07:41:54.031Z"
   },
   {
    "duration": 29,
    "start_time": "2022-02-11T07:41:54.042Z"
   },
   {
    "duration": 28,
    "start_time": "2022-02-11T07:41:54.073Z"
   },
   {
    "duration": 22,
    "start_time": "2022-02-11T07:41:54.103Z"
   },
   {
    "duration": 50,
    "start_time": "2022-02-11T07:41:54.127Z"
   },
   {
    "duration": 32,
    "start_time": "2022-02-11T07:41:54.180Z"
   },
   {
    "duration": 8,
    "start_time": "2022-02-11T07:41:54.215Z"
   },
   {
    "duration": 60,
    "start_time": "2022-02-11T07:41:54.225Z"
   },
   {
    "duration": 26,
    "start_time": "2022-02-11T07:41:54.288Z"
   },
   {
    "duration": 6,
    "start_time": "2022-02-11T07:41:54.316Z"
   },
   {
    "duration": 76,
    "start_time": "2022-02-11T07:41:54.324Z"
   },
   {
    "duration": 12,
    "start_time": "2022-02-11T07:41:54.403Z"
   },
   {
    "duration": 68,
    "start_time": "2022-02-11T07:41:54.418Z"
   },
   {
    "duration": 11,
    "start_time": "2022-02-11T07:41:54.488Z"
   },
   {
    "duration": 9,
    "start_time": "2022-02-11T07:41:54.502Z"
   },
   {
    "duration": 71,
    "start_time": "2022-02-11T07:41:54.516Z"
   },
   {
    "duration": 269,
    "start_time": "2022-02-11T07:41:54.590Z"
   },
   {
    "duration": 5,
    "start_time": "2022-02-11T07:41:54.861Z"
   },
   {
    "duration": 15,
    "start_time": "2022-02-11T07:41:54.868Z"
   },
   {
    "duration": 34,
    "start_time": "2022-02-11T07:41:54.885Z"
   },
   {
    "duration": 325,
    "start_time": "2022-02-11T07:41:54.922Z"
   },
   {
    "duration": 22,
    "start_time": "2022-02-11T07:41:55.250Z"
   },
   {
    "duration": 20,
    "start_time": "2022-02-11T07:41:55.274Z"
   },
   {
    "duration": 343,
    "start_time": "2022-02-11T07:41:55.296Z"
   },
   {
    "duration": 337,
    "start_time": "2022-02-11T07:41:55.641Z"
   },
   {
    "duration": 19,
    "start_time": "2022-02-11T07:41:55.980Z"
   },
   {
    "duration": 21,
    "start_time": "2022-02-11T07:41:56.001Z"
   },
   {
    "duration": 37,
    "start_time": "2022-02-11T07:41:56.024Z"
   },
   {
    "duration": 26,
    "start_time": "2022-02-11T07:41:56.063Z"
   },
   {
    "duration": 15,
    "start_time": "2022-02-11T07:41:56.092Z"
   },
   {
    "duration": 49,
    "start_time": "2022-02-11T07:41:56.110Z"
   },
   {
    "duration": 315,
    "start_time": "2022-02-11T07:41:56.162Z"
   },
   {
    "duration": 7,
    "start_time": "2022-02-11T07:41:56.480Z"
   },
   {
    "duration": 377,
    "start_time": "2022-02-11T07:41:56.490Z"
   },
   {
    "duration": 380,
    "start_time": "2022-02-11T07:41:56.870Z"
   },
   {
    "duration": 23,
    "start_time": "2022-02-11T07:41:57.252Z"
   },
   {
    "duration": 18,
    "start_time": "2022-02-11T07:41:57.277Z"
   },
   {
    "duration": 479,
    "start_time": "2022-02-11T07:44:27.850Z"
   },
   {
    "duration": 866,
    "start_time": "2022-02-11T07:45:20.968Z"
   },
   {
    "duration": 95,
    "start_time": "2022-02-11T07:45:21.837Z"
   },
   {
    "duration": 24,
    "start_time": "2022-02-11T07:45:21.935Z"
   },
   {
    "duration": 16,
    "start_time": "2022-02-11T07:45:21.962Z"
   },
   {
    "duration": 24,
    "start_time": "2022-02-11T07:45:21.980Z"
   },
   {
    "duration": 465,
    "start_time": "2022-02-11T07:45:22.007Z"
   },
   {
    "duration": -69,
    "start_time": "2022-02-11T07:45:22.548Z"
   },
   {
    "duration": -79,
    "start_time": "2022-02-11T07:45:22.559Z"
   },
   {
    "duration": -90,
    "start_time": "2022-02-11T07:45:22.572Z"
   },
   {
    "duration": -101,
    "start_time": "2022-02-11T07:45:22.585Z"
   },
   {
    "duration": -114,
    "start_time": "2022-02-11T07:45:22.600Z"
   },
   {
    "duration": -124,
    "start_time": "2022-02-11T07:45:22.612Z"
   },
   {
    "duration": -134,
    "start_time": "2022-02-11T07:45:22.624Z"
   },
   {
    "duration": -185,
    "start_time": "2022-02-11T07:45:22.678Z"
   },
   {
    "duration": -196,
    "start_time": "2022-02-11T07:45:22.691Z"
   },
   {
    "duration": -206,
    "start_time": "2022-02-11T07:45:22.703Z"
   },
   {
    "duration": -221,
    "start_time": "2022-02-11T07:45:22.720Z"
   },
   {
    "duration": -230,
    "start_time": "2022-02-11T07:45:22.731Z"
   },
   {
    "duration": -241,
    "start_time": "2022-02-11T07:45:22.744Z"
   },
   {
    "duration": -249,
    "start_time": "2022-02-11T07:45:22.754Z"
   },
   {
    "duration": -258,
    "start_time": "2022-02-11T07:45:22.765Z"
   },
   {
    "duration": -278,
    "start_time": "2022-02-11T07:45:22.787Z"
   },
   {
    "duration": -288,
    "start_time": "2022-02-11T07:45:22.799Z"
   },
   {
    "duration": -296,
    "start_time": "2022-02-11T07:45:22.809Z"
   },
   {
    "duration": -305,
    "start_time": "2022-02-11T07:45:22.820Z"
   },
   {
    "duration": -314,
    "start_time": "2022-02-11T07:45:22.830Z"
   },
   {
    "duration": -324,
    "start_time": "2022-02-11T07:45:22.841Z"
   },
   {
    "duration": -292,
    "start_time": "2022-02-11T07:45:22.851Z"
   },
   {
    "duration": -301,
    "start_time": "2022-02-11T07:45:22.862Z"
   },
   {
    "duration": -394,
    "start_time": "2022-02-11T07:45:22.958Z"
   },
   {
    "duration": -476,
    "start_time": "2022-02-11T07:45:23.042Z"
   },
   {
    "duration": -485,
    "start_time": "2022-02-11T07:45:23.053Z"
   },
   {
    "duration": -495,
    "start_time": "2022-02-11T07:45:23.065Z"
   },
   {
    "duration": -502,
    "start_time": "2022-02-11T07:45:23.075Z"
   },
   {
    "duration": -511,
    "start_time": "2022-02-11T07:45:23.086Z"
   },
   {
    "duration": -520,
    "start_time": "2022-02-11T07:45:23.097Z"
   },
   {
    "duration": -529,
    "start_time": "2022-02-11T07:45:23.108Z"
   },
   {
    "duration": -537,
    "start_time": "2022-02-11T07:45:23.118Z"
   },
   {
    "duration": -547,
    "start_time": "2022-02-11T07:45:23.129Z"
   },
   {
    "duration": -582,
    "start_time": "2022-02-11T07:45:23.166Z"
   },
   {
    "duration": -592,
    "start_time": "2022-02-11T07:45:23.177Z"
   },
   {
    "duration": -600,
    "start_time": "2022-02-11T07:45:23.187Z"
   },
   {
    "duration": -611,
    "start_time": "2022-02-11T07:45:23.199Z"
   },
   {
    "duration": -619,
    "start_time": "2022-02-11T07:45:23.209Z"
   },
   {
    "duration": 371,
    "start_time": "2022-02-11T07:48:38.126Z"
   },
   {
    "duration": 1190,
    "start_time": "2022-02-11T07:48:45.852Z"
   },
   {
    "duration": 146,
    "start_time": "2022-02-11T07:48:47.045Z"
   },
   {
    "duration": 23,
    "start_time": "2022-02-11T07:48:47.195Z"
   },
   {
    "duration": 40,
    "start_time": "2022-02-11T07:48:47.222Z"
   },
   {
    "duration": 37,
    "start_time": "2022-02-11T07:48:47.265Z"
   },
   {
    "duration": 70,
    "start_time": "2022-02-11T07:48:47.305Z"
   },
   {
    "duration": 94,
    "start_time": "2022-02-11T07:48:47.378Z"
   },
   {
    "duration": 7,
    "start_time": "2022-02-11T07:48:47.476Z"
   },
   {
    "duration": 32,
    "start_time": "2022-02-11T07:48:47.486Z"
   },
   {
    "duration": 66,
    "start_time": "2022-02-11T07:48:47.520Z"
   },
   {
    "duration": 21,
    "start_time": "2022-02-11T07:48:47.588Z"
   },
   {
    "duration": 58,
    "start_time": "2022-02-11T07:48:47.611Z"
   },
   {
    "duration": 53,
    "start_time": "2022-02-11T07:48:47.673Z"
   },
   {
    "duration": 40,
    "start_time": "2022-02-11T07:48:47.728Z"
   },
   {
    "duration": 30,
    "start_time": "2022-02-11T07:48:47.771Z"
   },
   {
    "duration": 57,
    "start_time": "2022-02-11T07:48:47.804Z"
   },
   {
    "duration": 8,
    "start_time": "2022-02-11T07:48:47.864Z"
   },
   {
    "duration": 44,
    "start_time": "2022-02-11T07:48:47.874Z"
   },
   {
    "duration": 44,
    "start_time": "2022-02-11T07:48:47.921Z"
   },
   {
    "duration": 43,
    "start_time": "2022-02-11T07:48:47.968Z"
   },
   {
    "duration": 46,
    "start_time": "2022-02-11T07:48:48.013Z"
   },
   {
    "duration": 13,
    "start_time": "2022-02-11T07:48:48.062Z"
   },
   {
    "duration": 34,
    "start_time": "2022-02-11T07:48:48.081Z"
   },
   {
    "duration": 296,
    "start_time": "2022-02-11T07:48:48.118Z"
   },
   {
    "duration": 7,
    "start_time": "2022-02-11T07:48:48.417Z"
   },
   {
    "duration": 38,
    "start_time": "2022-02-11T07:48:48.426Z"
   },
   {
    "duration": 33,
    "start_time": "2022-02-11T07:48:48.466Z"
   },
   {
    "duration": 332,
    "start_time": "2022-02-11T07:48:48.502Z"
   },
   {
    "duration": 31,
    "start_time": "2022-02-11T07:48:48.837Z"
   },
   {
    "duration": 23,
    "start_time": "2022-02-11T07:48:48.872Z"
   },
   {
    "duration": 372,
    "start_time": "2022-02-11T07:48:48.898Z"
   },
   {
    "duration": 348,
    "start_time": "2022-02-11T07:48:49.273Z"
   },
   {
    "duration": 19,
    "start_time": "2022-02-11T07:48:49.624Z"
   },
   {
    "duration": 19,
    "start_time": "2022-02-11T07:48:49.660Z"
   },
   {
    "duration": 12,
    "start_time": "2022-02-11T07:48:49.682Z"
   },
   {
    "duration": 26,
    "start_time": "2022-02-11T07:48:49.697Z"
   },
   {
    "duration": 49,
    "start_time": "2022-02-11T07:48:49.725Z"
   },
   {
    "duration": 16,
    "start_time": "2022-02-11T07:48:49.778Z"
   },
   {
    "duration": 347,
    "start_time": "2022-02-11T07:48:49.797Z"
   },
   {
    "duration": 13,
    "start_time": "2022-02-11T07:48:50.147Z"
   },
   {
    "duration": 405,
    "start_time": "2022-02-11T07:48:50.163Z"
   },
   {
    "duration": 415,
    "start_time": "2022-02-11T07:48:50.571Z"
   },
   {
    "duration": 19,
    "start_time": "2022-02-11T07:48:50.990Z"
   },
   {
    "duration": 19,
    "start_time": "2022-02-11T07:48:51.011Z"
   },
   {
    "duration": 70,
    "start_time": "2022-02-11T07:49:36.810Z"
   },
   {
    "duration": 8,
    "start_time": "2022-02-11T07:51:28.714Z"
   },
   {
    "duration": 864,
    "start_time": "2022-02-11T07:51:44.771Z"
   },
   {
    "duration": 95,
    "start_time": "2022-02-11T07:51:45.638Z"
   },
   {
    "duration": 24,
    "start_time": "2022-02-11T07:51:45.736Z"
   },
   {
    "duration": 17,
    "start_time": "2022-02-11T07:51:45.763Z"
   },
   {
    "duration": 22,
    "start_time": "2022-02-11T07:51:45.783Z"
   },
   {
    "duration": 58,
    "start_time": "2022-02-11T07:51:45.808Z"
   },
   {
    "duration": 53,
    "start_time": "2022-02-11T07:51:45.869Z"
   },
   {
    "duration": 7,
    "start_time": "2022-02-11T07:51:45.926Z"
   },
   {
    "duration": 30,
    "start_time": "2022-02-11T07:51:45.936Z"
   },
   {
    "duration": 36,
    "start_time": "2022-02-11T07:51:45.968Z"
   },
   {
    "duration": 12,
    "start_time": "2022-02-11T07:51:46.006Z"
   },
   {
    "duration": 53,
    "start_time": "2022-02-11T07:51:46.021Z"
   },
   {
    "duration": 29,
    "start_time": "2022-02-11T07:51:46.076Z"
   },
   {
    "duration": 55,
    "start_time": "2022-02-11T07:51:46.109Z"
   },
   {
    "duration": 10,
    "start_time": "2022-02-11T07:51:46.167Z"
   },
   {
    "duration": 27,
    "start_time": "2022-02-11T07:51:46.180Z"
   },
   {
    "duration": 71,
    "start_time": "2022-02-11T07:51:46.210Z"
   },
   {
    "duration": 8,
    "start_time": "2022-02-11T07:51:46.284Z"
   },
   {
    "duration": 67,
    "start_time": "2022-02-11T07:51:46.294Z"
   },
   {
    "duration": 12,
    "start_time": "2022-02-11T07:51:46.364Z"
   },
   {
    "duration": 39,
    "start_time": "2022-02-11T07:51:46.379Z"
   },
   {
    "duration": 47,
    "start_time": "2022-02-11T07:51:46.420Z"
   },
   {
    "duration": 11,
    "start_time": "2022-02-11T07:51:46.472Z"
   },
   {
    "duration": 30,
    "start_time": "2022-02-11T07:51:46.486Z"
   },
   {
    "duration": 293,
    "start_time": "2022-02-11T07:51:46.519Z"
   },
   {
    "duration": 5,
    "start_time": "2022-02-11T07:51:46.814Z"
   },
   {
    "duration": 15,
    "start_time": "2022-02-11T07:51:46.821Z"
   },
   {
    "duration": 49,
    "start_time": "2022-02-11T07:51:46.838Z"
   },
   {
    "duration": 331,
    "start_time": "2022-02-11T07:51:46.889Z"
   },
   {
    "duration": 19,
    "start_time": "2022-02-11T07:51:47.222Z"
   },
   {
    "duration": 19,
    "start_time": "2022-02-11T07:51:47.258Z"
   },
   {
    "duration": 332,
    "start_time": "2022-02-11T07:51:47.280Z"
   },
   {
    "duration": 352,
    "start_time": "2022-02-11T07:51:47.615Z"
   },
   {
    "duration": 18,
    "start_time": "2022-02-11T07:51:47.970Z"
   },
   {
    "duration": 25,
    "start_time": "2022-02-11T07:51:47.990Z"
   },
   {
    "duration": 7,
    "start_time": "2022-02-11T07:51:48.017Z"
   },
   {
    "duration": 51,
    "start_time": "2022-02-11T07:51:48.027Z"
   },
   {
    "duration": 14,
    "start_time": "2022-02-11T07:51:48.081Z"
   },
   {
    "duration": 15,
    "start_time": "2022-02-11T07:51:48.097Z"
   },
   {
    "duration": 320,
    "start_time": "2022-02-11T07:51:48.114Z"
   },
   {
    "duration": 6,
    "start_time": "2022-02-11T07:51:48.436Z"
   },
   {
    "duration": 368,
    "start_time": "2022-02-11T07:51:48.445Z"
   },
   {
    "duration": 377,
    "start_time": "2022-02-11T07:51:48.815Z"
   },
   {
    "duration": 18,
    "start_time": "2022-02-11T07:51:49.195Z"
   },
   {
    "duration": 17,
    "start_time": "2022-02-11T07:51:49.216Z"
   },
   {
    "duration": 14,
    "start_time": "2022-02-11T07:54:37.917Z"
   },
   {
    "duration": 9,
    "start_time": "2022-02-11T08:25:52.571Z"
   },
   {
    "duration": 13,
    "start_time": "2022-02-11T08:27:37.720Z"
   },
   {
    "duration": 6,
    "start_time": "2022-02-11T08:27:45.764Z"
   },
   {
    "duration": 7,
    "start_time": "2022-02-11T08:27:51.432Z"
   },
   {
    "duration": 6,
    "start_time": "2022-02-11T08:27:56.519Z"
   },
   {
    "duration": 6,
    "start_time": "2022-02-11T08:27:59.914Z"
   },
   {
    "duration": 10,
    "start_time": "2022-02-11T08:28:07.422Z"
   },
   {
    "duration": 8,
    "start_time": "2022-02-11T08:28:12.065Z"
   },
   {
    "duration": 893,
    "start_time": "2022-02-11T08:28:21.399Z"
   },
   {
    "duration": 95,
    "start_time": "2022-02-11T08:28:22.295Z"
   },
   {
    "duration": 13,
    "start_time": "2022-02-11T08:28:22.393Z"
   },
   {
    "duration": 15,
    "start_time": "2022-02-11T08:28:22.408Z"
   },
   {
    "duration": 22,
    "start_time": "2022-02-11T08:28:22.426Z"
   },
   {
    "duration": 25,
    "start_time": "2022-02-11T08:28:22.460Z"
   },
   {
    "duration": 90,
    "start_time": "2022-02-11T08:28:22.488Z"
   },
   {
    "duration": 8,
    "start_time": "2022-02-11T08:28:22.582Z"
   },
   {
    "duration": 28,
    "start_time": "2022-02-11T08:28:22.593Z"
   },
   {
    "duration": 28,
    "start_time": "2022-02-11T08:28:22.624Z"
   },
   {
    "duration": 11,
    "start_time": "2022-02-11T08:28:22.658Z"
   },
   {
    "duration": 20,
    "start_time": "2022-02-11T08:28:22.672Z"
   },
   {
    "duration": 27,
    "start_time": "2022-02-11T08:28:22.695Z"
   },
   {
    "duration": 46,
    "start_time": "2022-02-11T08:28:22.724Z"
   },
   {
    "duration": 8,
    "start_time": "2022-02-11T08:28:22.772Z"
   },
   {
    "duration": 24,
    "start_time": "2022-02-11T08:28:22.782Z"
   },
   {
    "duration": 30,
    "start_time": "2022-02-11T08:28:22.808Z"
   },
   {
    "duration": 21,
    "start_time": "2022-02-11T08:28:22.841Z"
   },
   {
    "duration": 5,
    "start_time": "2022-02-11T08:28:22.865Z"
   },
   {
    "duration": 8,
    "start_time": "2022-02-11T08:28:22.872Z"
   },
   {
    "duration": 12,
    "start_time": "2022-02-11T08:28:22.882Z"
   },
   {
    "duration": 5,
    "start_time": "2022-02-11T08:28:22.896Z"
   },
   {
    "duration": 7,
    "start_time": "2022-02-11T08:28:22.905Z"
   },
   {
    "duration": 5,
    "start_time": "2022-02-11T08:28:22.915Z"
   },
   {
    "duration": 7,
    "start_time": "2022-02-11T08:28:22.922Z"
   },
   {
    "duration": 32,
    "start_time": "2022-02-11T08:28:22.931Z"
   },
   {
    "duration": 7,
    "start_time": "2022-02-11T08:28:22.965Z"
   },
   {
    "duration": 36,
    "start_time": "2022-02-11T08:28:22.974Z"
   },
   {
    "duration": 10,
    "start_time": "2022-02-11T08:28:23.012Z"
   },
   {
    "duration": 48,
    "start_time": "2022-02-11T08:28:23.024Z"
   },
   {
    "duration": 9,
    "start_time": "2022-02-11T08:28:23.075Z"
   },
   {
    "duration": 9,
    "start_time": "2022-02-11T08:28:23.087Z"
   },
   {
    "duration": 31,
    "start_time": "2022-02-11T08:28:23.098Z"
   },
   {
    "duration": 368,
    "start_time": "2022-02-11T08:28:23.131Z"
   },
   {
    "duration": 59,
    "start_time": "2022-02-11T08:28:23.501Z"
   },
   {
    "duration": 15,
    "start_time": "2022-02-11T08:28:23.562Z"
   },
   {
    "duration": 30,
    "start_time": "2022-02-11T08:28:23.580Z"
   },
   {
    "duration": 458,
    "start_time": "2022-02-11T08:28:23.613Z"
   },
   {
    "duration": 18,
    "start_time": "2022-02-11T08:28:24.073Z"
   },
   {
    "duration": 72,
    "start_time": "2022-02-11T08:28:24.093Z"
   },
   {
    "duration": 482,
    "start_time": "2022-02-11T08:28:24.167Z"
   },
   {
    "duration": 340,
    "start_time": "2022-02-11T08:28:24.659Z"
   },
   {
    "duration": 18,
    "start_time": "2022-02-11T08:28:25.001Z"
   },
   {
    "duration": 38,
    "start_time": "2022-02-11T08:28:25.023Z"
   },
   {
    "duration": 9,
    "start_time": "2022-02-11T08:28:25.064Z"
   },
   {
    "duration": 26,
    "start_time": "2022-02-11T08:28:25.075Z"
   },
   {
    "duration": 15,
    "start_time": "2022-02-11T08:28:25.103Z"
   },
   {
    "duration": 14,
    "start_time": "2022-02-11T08:28:25.159Z"
   },
   {
    "duration": 311,
    "start_time": "2022-02-11T08:28:25.176Z"
   },
   {
    "duration": 7,
    "start_time": "2022-02-11T08:28:25.489Z"
   },
   {
    "duration": 390,
    "start_time": "2022-02-11T08:28:25.498Z"
   },
   {
    "duration": 372,
    "start_time": "2022-02-11T08:28:25.890Z"
   },
   {
    "duration": 18,
    "start_time": "2022-02-11T08:28:26.264Z"
   },
   {
    "duration": 20,
    "start_time": "2022-02-11T08:28:26.284Z"
   },
   {
    "duration": 14,
    "start_time": "2022-02-11T08:32:51.177Z"
   },
   {
    "duration": 886,
    "start_time": "2022-02-11T08:33:23.518Z"
   },
   {
    "duration": 97,
    "start_time": "2022-02-11T08:33:24.406Z"
   },
   {
    "duration": 14,
    "start_time": "2022-02-11T08:33:24.506Z"
   },
   {
    "duration": 15,
    "start_time": "2022-02-11T08:33:24.522Z"
   },
   {
    "duration": 24,
    "start_time": "2022-02-11T08:33:24.558Z"
   },
   {
    "duration": 27,
    "start_time": "2022-02-11T08:33:24.584Z"
   },
   {
    "duration": 91,
    "start_time": "2022-02-11T08:33:24.613Z"
   },
   {
    "duration": 7,
    "start_time": "2022-02-11T08:33:24.707Z"
   },
   {
    "duration": 36,
    "start_time": "2022-02-11T08:33:24.717Z"
   },
   {
    "duration": 30,
    "start_time": "2022-02-11T08:33:24.755Z"
   },
   {
    "duration": 12,
    "start_time": "2022-02-11T08:33:24.788Z"
   },
   {
    "duration": 23,
    "start_time": "2022-02-11T08:33:24.803Z"
   },
   {
    "duration": 52,
    "start_time": "2022-02-11T08:33:24.828Z"
   },
   {
    "duration": 34,
    "start_time": "2022-02-11T08:33:24.882Z"
   },
   {
    "duration": 9,
    "start_time": "2022-02-11T08:33:24.918Z"
   },
   {
    "duration": 27,
    "start_time": "2022-02-11T08:33:24.958Z"
   },
   {
    "duration": 27,
    "start_time": "2022-02-11T08:33:24.988Z"
   },
   {
    "duration": 50,
    "start_time": "2022-02-11T08:33:25.018Z"
   },
   {
    "duration": 13,
    "start_time": "2022-02-11T08:33:25.071Z"
   },
   {
    "duration": 17,
    "start_time": "2022-02-11T08:33:25.087Z"
   },
   {
    "duration": 55,
    "start_time": "2022-02-11T08:33:25.106Z"
   },
   {
    "duration": 11,
    "start_time": "2022-02-11T08:33:25.163Z"
   },
   {
    "duration": 16,
    "start_time": "2022-02-11T08:33:25.179Z"
   },
   {
    "duration": 12,
    "start_time": "2022-02-11T08:33:25.198Z"
   },
   {
    "duration": 57,
    "start_time": "2022-02-11T08:33:25.212Z"
   },
   {
    "duration": 16,
    "start_time": "2022-02-11T08:33:25.271Z"
   },
   {
    "duration": 36,
    "start_time": "2022-02-11T08:33:25.290Z"
   },
   {
    "duration": 10,
    "start_time": "2022-02-11T08:33:25.360Z"
   },
   {
    "duration": 40,
    "start_time": "2022-02-11T08:33:25.372Z"
   },
   {
    "duration": 49,
    "start_time": "2022-02-11T08:33:25.415Z"
   },
   {
    "duration": 12,
    "start_time": "2022-02-11T08:33:25.467Z"
   },
   {
    "duration": 33,
    "start_time": "2022-02-11T08:33:25.481Z"
   },
   {
    "duration": 301,
    "start_time": "2022-02-11T08:33:25.517Z"
   },
   {
    "duration": 7,
    "start_time": "2022-02-11T08:33:25.821Z"
   },
   {
    "duration": 38,
    "start_time": "2022-02-11T08:33:25.831Z"
   },
   {
    "duration": 28,
    "start_time": "2022-02-11T08:33:25.871Z"
   },
   {
    "duration": 325,
    "start_time": "2022-02-11T08:33:25.902Z"
   },
   {
    "duration": 31,
    "start_time": "2022-02-11T08:33:26.230Z"
   },
   {
    "duration": 19,
    "start_time": "2022-02-11T08:33:26.264Z"
   },
   {
    "duration": 331,
    "start_time": "2022-02-11T08:33:26.286Z"
   },
   {
    "duration": 346,
    "start_time": "2022-02-11T08:33:26.620Z"
   },
   {
    "duration": 18,
    "start_time": "2022-02-11T08:33:26.968Z"
   },
   {
    "duration": 18,
    "start_time": "2022-02-11T08:33:26.988Z"
   },
   {
    "duration": 8,
    "start_time": "2022-02-11T08:33:27.009Z"
   },
   {
    "duration": 62,
    "start_time": "2022-02-11T08:33:27.019Z"
   },
   {
    "duration": 14,
    "start_time": "2022-02-11T08:33:27.083Z"
   },
   {
    "duration": 19,
    "start_time": "2022-02-11T08:33:27.100Z"
   },
   {
    "duration": 323,
    "start_time": "2022-02-11T08:33:27.121Z"
   },
   {
    "duration": 16,
    "start_time": "2022-02-11T08:33:27.447Z"
   },
   {
    "duration": 375,
    "start_time": "2022-02-11T08:33:27.465Z"
   },
   {
    "duration": 376,
    "start_time": "2022-02-11T08:33:27.843Z"
   },
   {
    "duration": 18,
    "start_time": "2022-02-11T08:33:28.221Z"
   },
   {
    "duration": 35,
    "start_time": "2022-02-11T08:33:28.241Z"
   },
   {
    "duration": 639,
    "start_time": "2022-02-11T08:40:57.910Z"
   },
   {
    "duration": 428,
    "start_time": "2022-02-11T08:46:43.651Z"
   },
   {
    "duration": 37,
    "start_time": "2022-02-11T08:47:22.544Z"
   },
   {
    "duration": 84,
    "start_time": "2022-02-11T08:48:55.164Z"
   },
   {
    "duration": 317,
    "start_time": "2022-02-11T08:58:21.753Z"
   },
   {
    "duration": 5,
    "start_time": "2022-02-11T09:00:33.412Z"
   },
   {
    "duration": 287,
    "start_time": "2022-02-11T09:02:20.628Z"
   },
   {
    "duration": 18,
    "start_time": "2022-02-11T09:02:54.200Z"
   },
   {
    "duration": 307,
    "start_time": "2022-02-11T09:02:56.764Z"
   },
   {
    "duration": 19,
    "start_time": "2022-02-11T09:03:52.031Z"
   },
   {
    "duration": 1829,
    "start_time": "2022-02-11T09:04:40.141Z"
   },
   {
    "duration": 28,
    "start_time": "2022-02-11T09:13:16.076Z"
   },
   {
    "duration": 316,
    "start_time": "2022-02-11T09:17:22.752Z"
   },
   {
    "duration": 16,
    "start_time": "2022-02-11T09:18:31.792Z"
   },
   {
    "duration": 16,
    "start_time": "2022-02-11T09:21:05.371Z"
   },
   {
    "duration": 386,
    "start_time": "2022-02-11T09:25:25.232Z"
   },
   {
    "duration": 657,
    "start_time": "2022-02-11T09:25:39.810Z"
   },
   {
    "duration": 288,
    "start_time": "2022-02-11T09:27:28.966Z"
   },
   {
    "duration": 32,
    "start_time": "2022-02-11T09:30:27.294Z"
   },
   {
    "duration": 467,
    "start_time": "2022-02-11T09:32:48.450Z"
   },
   {
    "duration": 1460,
    "start_time": "2022-02-11T09:34:09.835Z"
   },
   {
    "duration": 19,
    "start_time": "2022-02-11T09:34:25.593Z"
   },
   {
    "duration": 25,
    "start_time": "2022-02-11T09:34:40.993Z"
   },
   {
    "duration": 18,
    "start_time": "2022-02-11T09:35:21.019Z"
   },
   {
    "duration": 24,
    "start_time": "2022-02-11T09:38:19.154Z"
   },
   {
    "duration": 22,
    "start_time": "2022-02-11T09:40:33.783Z"
   },
   {
    "duration": 1499,
    "start_time": "2022-02-11T09:41:17.571Z"
   },
   {
    "duration": 2044,
    "start_time": "2022-02-11T09:48:57.187Z"
   },
   {
    "duration": 447,
    "start_time": "2022-02-11T09:49:47.970Z"
   },
   {
    "duration": 9,
    "start_time": "2022-02-11T09:50:24.109Z"
   },
   {
    "duration": 19,
    "start_time": "2022-02-11T09:50:37.517Z"
   },
   {
    "duration": 8997,
    "start_time": "2022-02-11T09:53:20.569Z"
   },
   {
    "duration": 8,
    "start_time": "2022-02-11T09:53:39.829Z"
   },
   {
    "duration": 316,
    "start_time": "2022-02-11T09:53:43.520Z"
   },
   {
    "duration": 382,
    "start_time": "2022-02-11T09:58:13.257Z"
   },
   {
    "duration": 287,
    "start_time": "2022-02-11T10:00:01.264Z"
   },
   {
    "duration": 7,
    "start_time": "2022-02-11T10:00:44.013Z"
   },
   {
    "duration": 919,
    "start_time": "2022-02-11T10:00:49.981Z"
   },
   {
    "duration": 103,
    "start_time": "2022-02-11T10:00:50.903Z"
   },
   {
    "duration": 15,
    "start_time": "2022-02-11T10:00:51.009Z"
   },
   {
    "duration": 38,
    "start_time": "2022-02-11T10:00:51.028Z"
   },
   {
    "duration": 26,
    "start_time": "2022-02-11T10:00:51.074Z"
   },
   {
    "duration": 30,
    "start_time": "2022-02-11T10:00:51.103Z"
   },
   {
    "duration": 122,
    "start_time": "2022-02-11T10:00:51.136Z"
   },
   {
    "duration": 9,
    "start_time": "2022-02-11T10:00:51.262Z"
   },
   {
    "duration": 36,
    "start_time": "2022-02-11T10:00:51.274Z"
   },
   {
    "duration": 63,
    "start_time": "2022-02-11T10:00:51.313Z"
   },
   {
    "duration": 13,
    "start_time": "2022-02-11T10:00:51.378Z"
   },
   {
    "duration": 24,
    "start_time": "2022-02-11T10:00:51.394Z"
   },
   {
    "duration": 63,
    "start_time": "2022-02-11T10:00:51.420Z"
   },
   {
    "duration": 33,
    "start_time": "2022-02-11T10:00:51.485Z"
   },
   {
    "duration": 9,
    "start_time": "2022-02-11T10:00:51.520Z"
   },
   {
    "duration": 28,
    "start_time": "2022-02-11T10:00:51.560Z"
   },
   {
    "duration": 27,
    "start_time": "2022-02-11T10:00:51.590Z"
   },
   {
    "duration": 40,
    "start_time": "2022-02-11T10:00:51.619Z"
   },
   {
    "duration": 14,
    "start_time": "2022-02-11T10:00:51.662Z"
   },
   {
    "duration": 18,
    "start_time": "2022-02-11T10:00:51.679Z"
   },
   {
    "duration": 19,
    "start_time": "2022-02-11T10:00:51.699Z"
   },
   {
    "duration": 48,
    "start_time": "2022-02-11T10:00:51.720Z"
   },
   {
    "duration": 16,
    "start_time": "2022-02-11T10:00:51.774Z"
   },
   {
    "duration": 12,
    "start_time": "2022-02-11T10:00:51.793Z"
   },
   {
    "duration": 59,
    "start_time": "2022-02-11T10:00:51.808Z"
   },
   {
    "duration": 17,
    "start_time": "2022-02-11T10:00:51.869Z"
   },
   {
    "duration": 114,
    "start_time": "2022-02-11T10:00:51.888Z"
   },
   {
    "duration": 10,
    "start_time": "2022-02-11T10:00:52.005Z"
   },
   {
    "duration": 62,
    "start_time": "2022-02-11T10:00:52.017Z"
   },
   {
    "duration": 10,
    "start_time": "2022-02-11T10:00:52.082Z"
   },
   {
    "duration": 10,
    "start_time": "2022-02-11T10:00:52.095Z"
   },
   {
    "duration": 69,
    "start_time": "2022-02-11T10:00:52.108Z"
   },
   {
    "duration": 272,
    "start_time": "2022-02-11T10:00:52.179Z"
   },
   {
    "duration": 5,
    "start_time": "2022-02-11T10:00:52.459Z"
   },
   {
    "duration": 16,
    "start_time": "2022-02-11T10:00:52.466Z"
   },
   {
    "duration": 31,
    "start_time": "2022-02-11T10:00:52.484Z"
   },
   {
    "duration": 346,
    "start_time": "2022-02-11T10:00:52.517Z"
   },
   {
    "duration": 5,
    "start_time": "2022-02-11T10:00:52.866Z"
   },
   {
    "duration": 21,
    "start_time": "2022-02-11T10:00:52.873Z"
   },
   {
    "duration": 323,
    "start_time": "2022-02-11T10:00:52.897Z"
   },
   {
    "duration": 369,
    "start_time": "2022-02-11T10:00:53.222Z"
   },
   {
    "duration": 29,
    "start_time": "2022-02-11T10:00:53.594Z"
   },
   {
    "duration": 9,
    "start_time": "2022-02-11T10:00:53.625Z"
   },
   {
    "duration": 21,
    "start_time": "2022-02-11T10:00:53.660Z"
   },
   {
    "duration": 16,
    "start_time": "2022-02-11T10:00:53.683Z"
   },
   {
    "duration": 19,
    "start_time": "2022-02-11T10:00:53.701Z"
   },
   {
    "duration": 326,
    "start_time": "2022-02-11T10:00:53.723Z"
   },
   {
    "duration": 7,
    "start_time": "2022-02-11T10:00:54.059Z"
   },
   {
    "duration": 31,
    "start_time": "2022-02-11T10:00:54.068Z"
   },
   {
    "duration": 303,
    "start_time": "2022-02-11T10:00:54.102Z"
   },
   {
    "duration": 20,
    "start_time": "2022-02-11T10:00:54.408Z"
   },
   {
    "duration": 33,
    "start_time": "2022-02-11T10:00:54.430Z"
   },
   {
    "duration": 293,
    "start_time": "2022-02-11T10:00:54.466Z"
   },
   {
    "duration": 20,
    "start_time": "2022-02-11T10:11:53.156Z"
   },
   {
    "duration": 900,
    "start_time": "2022-02-11T10:12:22.523Z"
   },
   {
    "duration": 95,
    "start_time": "2022-02-11T10:12:23.425Z"
   },
   {
    "duration": 13,
    "start_time": "2022-02-11T10:12:23.523Z"
   },
   {
    "duration": 31,
    "start_time": "2022-02-11T10:12:23.539Z"
   },
   {
    "duration": 24,
    "start_time": "2022-02-11T10:12:23.572Z"
   },
   {
    "duration": 26,
    "start_time": "2022-02-11T10:12:23.599Z"
   },
   {
    "duration": 84,
    "start_time": "2022-02-11T10:12:23.628Z"
   },
   {
    "duration": 7,
    "start_time": "2022-02-11T10:12:23.716Z"
   },
   {
    "duration": 29,
    "start_time": "2022-02-11T10:12:23.726Z"
   },
   {
    "duration": 28,
    "start_time": "2022-02-11T10:12:23.757Z"
   },
   {
    "duration": 12,
    "start_time": "2022-02-11T10:12:23.788Z"
   },
   {
    "duration": 23,
    "start_time": "2022-02-11T10:12:23.802Z"
   },
   {
    "duration": 31,
    "start_time": "2022-02-11T10:12:23.860Z"
   },
   {
    "duration": 65,
    "start_time": "2022-02-11T10:12:23.894Z"
   },
   {
    "duration": 11,
    "start_time": "2022-02-11T10:12:23.962Z"
   },
   {
    "duration": 26,
    "start_time": "2022-02-11T10:12:23.976Z"
   },
   {
    "duration": 56,
    "start_time": "2022-02-11T10:12:24.004Z"
   },
   {
    "duration": 13,
    "start_time": "2022-02-11T10:12:24.063Z"
   },
   {
    "duration": 12,
    "start_time": "2022-02-11T10:12:24.078Z"
   },
   {
    "duration": 17,
    "start_time": "2022-02-11T10:12:24.092Z"
   },
   {
    "duration": 59,
    "start_time": "2022-02-11T10:12:24.111Z"
   },
   {
    "duration": 12,
    "start_time": "2022-02-11T10:12:24.172Z"
   },
   {
    "duration": 15,
    "start_time": "2022-02-11T10:12:24.189Z"
   },
   {
    "duration": 11,
    "start_time": "2022-02-11T10:12:24.207Z"
   },
   {
    "duration": 19,
    "start_time": "2022-02-11T10:12:24.259Z"
   },
   {
    "duration": 17,
    "start_time": "2022-02-11T10:12:24.280Z"
   },
   {
    "duration": 112,
    "start_time": "2022-02-11T10:12:24.300Z"
   },
   {
    "duration": 11,
    "start_time": "2022-02-11T10:12:24.415Z"
   },
   {
    "duration": 60,
    "start_time": "2022-02-11T10:12:24.428Z"
   },
   {
    "duration": 11,
    "start_time": "2022-02-11T10:12:24.491Z"
   },
   {
    "duration": 9,
    "start_time": "2022-02-11T10:12:24.504Z"
   },
   {
    "duration": 67,
    "start_time": "2022-02-11T10:12:24.515Z"
   },
   {
    "duration": 278,
    "start_time": "2022-02-11T10:12:24.584Z"
   },
   {
    "duration": 5,
    "start_time": "2022-02-11T10:12:24.864Z"
   },
   {
    "duration": 16,
    "start_time": "2022-02-11T10:12:24.871Z"
   },
   {
    "duration": 29,
    "start_time": "2022-02-11T10:12:24.890Z"
   },
   {
    "duration": 346,
    "start_time": "2022-02-11T10:12:24.921Z"
   },
   {
    "duration": 6,
    "start_time": "2022-02-11T10:12:25.270Z"
   },
   {
    "duration": 23,
    "start_time": "2022-02-11T10:12:25.278Z"
   },
   {
    "duration": 346,
    "start_time": "2022-02-11T10:12:25.304Z"
   },
   {
    "duration": 350,
    "start_time": "2022-02-11T10:12:25.652Z"
   },
   {
    "duration": 56,
    "start_time": "2022-02-11T10:12:26.006Z"
   },
   {
    "duration": 12,
    "start_time": "2022-02-11T10:12:26.065Z"
   },
   {
    "duration": 26,
    "start_time": "2022-02-11T10:12:26.080Z"
   },
   {
    "duration": 54,
    "start_time": "2022-02-11T10:12:26.109Z"
   },
   {
    "duration": 17,
    "start_time": "2022-02-11T10:12:26.166Z"
   },
   {
    "duration": 306,
    "start_time": "2022-02-11T10:12:26.186Z"
   },
   {
    "duration": 7,
    "start_time": "2022-02-11T10:12:26.494Z"
   },
   {
    "duration": 20,
    "start_time": "2022-02-11T10:12:26.503Z"
   },
   {
    "duration": 414,
    "start_time": "2022-02-11T10:12:26.526Z"
   },
   {
    "duration": 31,
    "start_time": "2022-02-11T10:12:26.943Z"
   },
   {
    "duration": 10,
    "start_time": "2022-02-11T10:12:26.976Z"
   },
   {
    "duration": 285,
    "start_time": "2022-02-11T10:12:26.988Z"
   },
   {
    "duration": 16,
    "start_time": "2022-02-11T10:16:54.911Z"
   },
   {
    "duration": 128,
    "start_time": "2022-02-11T10:17:16.221Z"
   },
   {
    "duration": 106,
    "start_time": "2022-02-11T10:19:12.385Z"
   },
   {
    "duration": 888,
    "start_time": "2022-02-11T10:19:33.808Z"
   },
   {
    "duration": 99,
    "start_time": "2022-02-11T10:19:34.699Z"
   },
   {
    "duration": 16,
    "start_time": "2022-02-11T10:19:34.801Z"
   },
   {
    "duration": 16,
    "start_time": "2022-02-11T10:19:34.820Z"
   },
   {
    "duration": 23,
    "start_time": "2022-02-11T10:19:34.860Z"
   },
   {
    "duration": 26,
    "start_time": "2022-02-11T10:19:34.885Z"
   },
   {
    "duration": 81,
    "start_time": "2022-02-11T10:19:34.913Z"
   },
   {
    "duration": 9,
    "start_time": "2022-02-11T10:19:34.999Z"
   },
   {
    "duration": 38,
    "start_time": "2022-02-11T10:19:35.012Z"
   },
   {
    "duration": 32,
    "start_time": "2022-02-11T10:19:35.053Z"
   },
   {
    "duration": 12,
    "start_time": "2022-02-11T10:19:35.088Z"
   },
   {
    "duration": 57,
    "start_time": "2022-02-11T10:19:35.102Z"
   },
   {
    "duration": 29,
    "start_time": "2022-02-11T10:19:35.161Z"
   },
   {
    "duration": 42,
    "start_time": "2022-02-11T10:19:35.193Z"
   },
   {
    "duration": 10,
    "start_time": "2022-02-11T10:19:35.260Z"
   },
   {
    "duration": 26,
    "start_time": "2022-02-11T10:19:35.273Z"
   },
   {
    "duration": 56,
    "start_time": "2022-02-11T10:19:35.302Z"
   },
   {
    "duration": 14,
    "start_time": "2022-02-11T10:19:35.361Z"
   },
   {
    "duration": 12,
    "start_time": "2022-02-11T10:19:35.378Z"
   },
   {
    "duration": 17,
    "start_time": "2022-02-11T10:19:35.393Z"
   },
   {
    "duration": 60,
    "start_time": "2022-02-11T10:19:35.412Z"
   },
   {
    "duration": 12,
    "start_time": "2022-02-11T10:19:35.475Z"
   },
   {
    "duration": 23,
    "start_time": "2022-02-11T10:19:35.492Z"
   },
   {
    "duration": 48,
    "start_time": "2022-02-11T10:19:35.519Z"
   },
   {
    "duration": 18,
    "start_time": "2022-02-11T10:19:35.569Z"
   },
   {
    "duration": 24,
    "start_time": "2022-02-11T10:19:35.589Z"
   },
   {
    "duration": 18,
    "start_time": "2022-02-11T10:19:35.615Z"
   },
   {
    "duration": 121,
    "start_time": "2022-02-11T10:19:35.660Z"
   },
   {
    "duration": 11,
    "start_time": "2022-02-11T10:19:35.783Z"
   },
   {
    "duration": 65,
    "start_time": "2022-02-11T10:19:35.796Z"
   },
   {
    "duration": 13,
    "start_time": "2022-02-11T10:19:35.863Z"
   },
   {
    "duration": 11,
    "start_time": "2022-02-11T10:19:35.878Z"
   },
   {
    "duration": 73,
    "start_time": "2022-02-11T10:19:35.892Z"
   },
   {
    "duration": 305,
    "start_time": "2022-02-11T10:19:35.968Z"
   },
   {
    "duration": 6,
    "start_time": "2022-02-11T10:19:36.275Z"
   },
   {
    "duration": 17,
    "start_time": "2022-02-11T10:19:36.283Z"
   },
   {
    "duration": 58,
    "start_time": "2022-02-11T10:19:36.303Z"
   },
   {
    "duration": 330,
    "start_time": "2022-02-11T10:19:36.363Z"
   },
   {
    "duration": 6,
    "start_time": "2022-02-11T10:19:36.696Z"
   },
   {
    "duration": 20,
    "start_time": "2022-02-11T10:19:36.705Z"
   },
   {
    "duration": 379,
    "start_time": "2022-02-11T10:19:36.727Z"
   },
   {
    "duration": 363,
    "start_time": "2022-02-11T10:19:37.109Z"
   },
   {
    "duration": 34,
    "start_time": "2022-02-11T10:19:37.475Z"
   },
   {
    "duration": 10,
    "start_time": "2022-02-11T10:19:37.512Z"
   },
   {
    "duration": 52,
    "start_time": "2022-02-11T10:19:37.524Z"
   },
   {
    "duration": 16,
    "start_time": "2022-02-11T10:19:37.578Z"
   },
   {
    "duration": 14,
    "start_time": "2022-02-11T10:19:37.596Z"
   },
   {
    "duration": 343,
    "start_time": "2022-02-11T10:19:37.613Z"
   },
   {
    "duration": 7,
    "start_time": "2022-02-11T10:19:37.959Z"
   },
   {
    "duration": 23,
    "start_time": "2022-02-11T10:19:37.968Z"
   },
   {
    "duration": 340,
    "start_time": "2022-02-11T10:19:37.993Z"
   },
   {
    "duration": 37,
    "start_time": "2022-02-11T10:19:38.336Z"
   },
   {
    "duration": 11,
    "start_time": "2022-02-11T10:19:38.376Z"
   },
   {
    "duration": 313,
    "start_time": "2022-02-11T10:19:38.390Z"
   },
   {
    "duration": 515,
    "start_time": "2022-02-11T10:22:25.430Z"
   },
   {
    "duration": 980,
    "start_time": "2022-02-11T14:00:11.246Z"
   },
   {
    "duration": 149,
    "start_time": "2022-02-11T14:00:12.230Z"
   },
   {
    "duration": 42,
    "start_time": "2022-02-11T14:00:12.384Z"
   },
   {
    "duration": 25,
    "start_time": "2022-02-11T14:00:12.430Z"
   },
   {
    "duration": 26,
    "start_time": "2022-02-11T14:00:12.458Z"
   },
   {
    "duration": 61,
    "start_time": "2022-02-11T14:00:12.487Z"
   },
   {
    "duration": 52,
    "start_time": "2022-02-11T14:00:12.551Z"
   },
   {
    "duration": 8,
    "start_time": "2022-02-11T14:00:12.607Z"
   },
   {
    "duration": 31,
    "start_time": "2022-02-11T14:00:12.619Z"
   },
   {
    "duration": 30,
    "start_time": "2022-02-11T14:00:12.653Z"
   },
   {
    "duration": 43,
    "start_time": "2022-02-11T14:00:12.685Z"
   },
   {
    "duration": 25,
    "start_time": "2022-02-11T14:00:12.731Z"
   },
   {
    "duration": 70,
    "start_time": "2022-02-11T14:00:12.758Z"
   },
   {
    "duration": 36,
    "start_time": "2022-02-11T14:00:12.832Z"
   },
   {
    "duration": 9,
    "start_time": "2022-02-11T14:00:12.871Z"
   },
   {
    "duration": 58,
    "start_time": "2022-02-11T14:00:12.883Z"
   },
   {
    "duration": 28,
    "start_time": "2022-02-11T14:00:12.944Z"
   },
   {
    "duration": 48,
    "start_time": "2022-02-11T14:00:12.975Z"
   },
   {
    "duration": 19,
    "start_time": "2022-02-11T14:00:13.027Z"
   },
   {
    "duration": 26,
    "start_time": "2022-02-11T14:00:13.049Z"
   },
   {
    "duration": 55,
    "start_time": "2022-02-11T14:00:13.078Z"
   },
   {
    "duration": 13,
    "start_time": "2022-02-11T14:00:13.137Z"
   },
   {
    "duration": 19,
    "start_time": "2022-02-11T14:00:13.156Z"
   },
   {
    "duration": 53,
    "start_time": "2022-02-11T14:00:13.180Z"
   },
   {
    "duration": 15,
    "start_time": "2022-02-11T14:00:13.236Z"
   },
   {
    "duration": 19,
    "start_time": "2022-02-11T14:00:13.254Z"
   },
   {
    "duration": 59,
    "start_time": "2022-02-11T14:00:13.275Z"
   },
   {
    "duration": 118,
    "start_time": "2022-02-11T14:00:13.337Z"
   },
   {
    "duration": 12,
    "start_time": "2022-02-11T14:00:13.458Z"
   },
   {
    "duration": 76,
    "start_time": "2022-02-11T14:00:13.473Z"
   },
   {
    "duration": 11,
    "start_time": "2022-02-11T14:00:13.551Z"
   },
   {
    "duration": 11,
    "start_time": "2022-02-11T14:00:13.564Z"
   },
   {
    "duration": 87,
    "start_time": "2022-02-11T14:00:13.577Z"
   },
   {
    "duration": 899,
    "start_time": "2022-02-11T14:00:13.667Z"
   },
   {
    "duration": 8,
    "start_time": "2022-02-11T14:00:14.625Z"
   },
   {
    "duration": 25,
    "start_time": "2022-02-11T14:00:14.637Z"
   },
   {
    "duration": 70,
    "start_time": "2022-02-11T14:00:14.665Z"
   },
   {
    "duration": 326,
    "start_time": "2022-02-11T14:00:14.737Z"
   },
   {
    "duration": 6,
    "start_time": "2022-02-11T14:00:15.065Z"
   },
   {
    "duration": 24,
    "start_time": "2022-02-11T14:00:15.073Z"
   },
   {
    "duration": 316,
    "start_time": "2022-02-11T14:00:15.124Z"
   },
   {
    "duration": 353,
    "start_time": "2022-02-11T14:00:15.443Z"
   },
   {
    "duration": 49,
    "start_time": "2022-02-11T14:00:15.799Z"
   },
   {
    "duration": 11,
    "start_time": "2022-02-11T14:00:15.851Z"
   },
   {
    "duration": 24,
    "start_time": "2022-02-11T14:00:15.864Z"
   },
   {
    "duration": 43,
    "start_time": "2022-02-11T14:00:15.891Z"
   },
   {
    "duration": 17,
    "start_time": "2022-02-11T14:00:15.937Z"
   },
   {
    "duration": 420,
    "start_time": "2022-02-11T14:00:15.957Z"
   },
   {
    "duration": 7,
    "start_time": "2022-02-11T14:00:16.380Z"
   },
   {
    "duration": 49,
    "start_time": "2022-02-11T14:00:16.389Z"
   },
   {
    "duration": 316,
    "start_time": "2022-02-11T14:00:16.441Z"
   },
   {
    "duration": 19,
    "start_time": "2022-02-11T14:00:16.760Z"
   },
   {
    "duration": 11,
    "start_time": "2022-02-11T14:00:16.782Z"
   },
   {
    "duration": 313,
    "start_time": "2022-02-11T14:00:16.796Z"
   }
  ],
  "celltoolbar": "Необработанный формат ячейки",
  "colab": {
   "name": "DA+. Сборный проект 1. Шаблон (1).ipynb",
   "provenance": []
  },
  "kernelspec": {
   "display_name": "Python 3 (ipykernel)",
   "language": "python",
   "name": "python3"
  },
  "language_info": {
   "codemirror_mode": {
    "name": "ipython",
    "version": 3
   },
   "file_extension": ".py",
   "mimetype": "text/x-python",
   "name": "python",
   "nbconvert_exporter": "python",
   "pygments_lexer": "ipython3",
   "version": "3.9.12"
  },
  "toc": {
   "base_numbering": 1,
   "nav_menu": {
    "height": "289.986px",
    "width": "322.543px"
   },
   "number_sections": true,
   "sideBar": true,
   "skip_h1_title": true,
   "title_cell": "Table of Contents",
   "title_sidebar": "Contents",
   "toc_cell": false,
   "toc_position": {
    "height": "calc(100% - 180px)",
    "left": "10px",
    "top": "150px",
    "width": "375px"
   },
   "toc_section_display": true,
   "toc_window_display": true
  }
 },
 "nbformat": 4,
 "nbformat_minor": 1
}
